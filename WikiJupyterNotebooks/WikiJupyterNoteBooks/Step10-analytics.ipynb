{
 "cells": [
  {
   "cell_type": "code",
   "execution_count": 1,
   "id": "a2ae5610-11c6-4e1d-953b-5a099d4c9022",
   "metadata": {
    "tags": []
   },
   "outputs": [
    {
     "name": "stderr",
     "output_type": "stream",
     "text": [
      "Warning: Ignoring non-Spark config property: hive.metastore.uris\n"
     ]
    },
    {
     "name": "stdout",
     "output_type": "stream",
     "text": [
      ":: loading settings :: url = jar:file:/home/pc/TestJupyter/opt/spark-3.3.0/spark-3.3.0-bin-hadoop3/jars/ivy-2.5.0.jar!/org/apache/ivy/core/settings/ivysettings.xml\n"
     ]
    },
    {
     "name": "stderr",
     "output_type": "stream",
     "text": [
      "Ivy Default Cache set to: /home/pc/.ivy2/cache\n",
      "The jars for the packages stored in: /home/pc/.ivy2/jars\n",
      "org.apache.spark#spark-avro_2.12 added as a dependency\n",
      ":: resolving dependencies :: org.apache.spark#spark-submit-parent-7b7d4832-e544-4475-a44f-7fd2c6cf05a0;1.0\n",
      "\tconfs: [default]\n",
      "\tfound org.apache.spark#spark-avro_2.12;3.3.0 in central\n",
      "\tfound org.tukaani#xz;1.8 in central\n",
      "\tfound org.spark-project.spark#unused;1.0.0 in central\n",
      ":: resolution report :: resolve 120ms :: artifacts dl 3ms\n",
      "\t:: modules in use:\n",
      "\torg.apache.spark#spark-avro_2.12;3.3.0 from central in [default]\n",
      "\torg.spark-project.spark#unused;1.0.0 from central in [default]\n",
      "\torg.tukaani#xz;1.8 from central in [default]\n",
      "\t---------------------------------------------------------------------\n",
      "\t|                  |            modules            ||   artifacts   |\n",
      "\t|       conf       | number| search|dwnlded|evicted|| number|dwnlded|\n",
      "\t---------------------------------------------------------------------\n",
      "\t|      default     |   3   |   0   |   0   |   0   ||   3   |   0   |\n",
      "\t---------------------------------------------------------------------\n",
      ":: retrieving :: org.apache.spark#spark-submit-parent-7b7d4832-e544-4475-a44f-7fd2c6cf05a0\n",
      "\tconfs: [default]\n",
      "\t0 artifacts copied, 3 already retrieved (0kB/3ms)\n"
     ]
    },
    {
     "name": "stdout",
     "output_type": "stream",
     "text": [
      "22/10/08 05:22:11 WARN NativeCodeLoader: Unable to load native-hadoop library for your platform... using builtin-java classes where applicable\n"
     ]
    },
    {
     "name": "stderr",
     "output_type": "stream",
     "text": [
      "Setting default log level to \"WARN\".\n",
      "To adjust logging level use sc.setLogLevel(newLevel). For SparkR, use setLogLevel(newLevel).\n"
     ]
    },
    {
     "name": "stdout",
     "output_type": "stream",
     "text": [
      "22/10/08 05:22:12 WARN Utils: Service 'SparkUI' could not bind on port 4040. Attempting port 4041.\n"
     ]
    }
   ],
   "source": [
    "import os\n",
    "\n",
    "import findspark\n",
    "findspark.init(\"/home/pc/TestJupyter/opt/spark-3.3.0/spark-3.3.0-bin-hadoop3\")\n",
    "import pyspark\n",
    "from pyspark.context import SparkContext\n",
    "from pyspark.sql import HiveContext\n",
    "from pyspark.sql import SparkSession\n",
    "from pyspark.sql import Row\n",
    "\n",
    "\n",
    "# warehouse_location points to the default location for managed databases and tables\n",
    "os.environ[\"PYSPARK_PYTHON\"]=\"/home/pc/TestJupyter/opt/spark-3.3.0/venv-spark/bin/python39\"\n",
    "os.environ['PYSPARK_SUBMIT_ARGS'] = '--packages org.apache.spark:spark-avro_2.12:3.3.0  pyspark-shell'\n",
    "\n",
    "spark = SparkSession \\\n",
    "    .builder \\\n",
    "    .appName(\"Python Spark SQL Hive integration example\") \\\n",
    "    .config(\"spark.driver.memory\", \"70g\")\\\n",
    "    .config(\"spark.sql.warehouse.dir\", \"hdfs://10.123.51.78:8000/user/hive/warehouse\") \\\n",
    "    .config(\"spark.sql.catalogImplementation\", \"hive\")\\\n",
    "    .config(\"hive.metastore.uris\", \"thrift://g2.bigtop.it:9083\")\\\n",
    "    .enableHiveSupport() \\\n",
    "    .getOrCreate()\n",
    "\n",
    "def read_avro(path):\n",
    "    return spark.read.format(\"avro\").load(path)\n",
    "\n",
    "def write_avro(df, path):\n",
    "    return df.write.format(\"avro\").save(path)\n"
   ]
  },
  {
   "cell_type": "code",
   "execution_count": 3,
   "id": "c9bec087-fc99-4207-8473-65085511aca0",
   "metadata": {},
   "outputs": [
    {
     "name": "stdout",
     "output_type": "stream",
     "text": [
      "+---------+---------------------------+-----------+\n",
      "|namespace|tableName                  |isTemporary|\n",
      "+---------+---------------------------+-----------+\n",
      "|default  |books_ext                  |false      |\n",
      "|default  |source_data                |false      |\n",
      "|default  |transaction_detail_hive_tbl|false      |\n",
      "|default  |wiki_gram                  |false      |\n",
      "+---------+---------------------------+-----------+\n",
      "\n"
     ]
    }
   ],
   "source": [
    "q(\"show tables;\").show(10, False)"
   ]
  },
  {
   "cell_type": "code",
   "execution_count": 4,
   "id": "0855f040-c33e-4c37-8352-da245dcb7741",
   "metadata": {},
   "outputs": [],
   "source": [
    "def q(query):\n",
    "    return spark.sql(query)"
   ]
  },
  {
   "cell_type": "code",
   "execution_count": 2,
   "id": "f13cb4f6-20ba-4d72-8c7e-f52567ec4fd2",
   "metadata": {
    "tags": []
   },
   "outputs": [],
   "source": [
    "from functools import reduce\n",
    "from pyspark.sql import DataFrame\n",
    "\n",
    "def unionAll(*dfs):\n",
    "    return reduce(DataFrame.unionAll, dfs)\n",
    "\n",
    "def get_top_1_tag_gram_with_key_word(key):\n",
    "    q(\n",
    "    f\"\"\"\n",
    "    create or replace view tag_gram_ranking as\n",
    "        select \n",
    "            sentence_id,\n",
    "            tag_gram,\n",
    "            token_gram,\n",
    "            rank() over (partition by tag_gram order by unique_id desc) as rank\n",
    "        from\n",
    "            wiki_gram\n",
    "        where\n",
    "            token_gram rlike '.( {key} ).';\n",
    "    \"\"\"\n",
    "    )\n",
    "\n",
    "    q(\n",
    "    \"\"\"\n",
    "    create or replace view tag_gram_ranking_small as\n",
    "        select \n",
    "            *\n",
    "        from\n",
    "            tag_gram_ranking\n",
    "        where rank < 6;\n",
    "    \"\"\"\n",
    "    )\n",
    "\n",
    "\n",
    "    return q(\n",
    "    f\"\"\"\n",
    "    select * from(\n",
    "        select\n",
    "            distinct\n",
    "            tag_gram, \n",
    "            tag_gram_f,\n",
    "            collect_set(r.token_gram)\n",
    "        from\n",
    "            wiki_gram g\n",
    "        join\n",
    "            tag_gram_ranking_small r using(tag_gram)\n",
    "        where\n",
    "            g.token_gram rlike '.( {key} ).' and\n",
    "            tag_gram != \"ns ns ns\"\n",
    "        group by\n",
    "            tag_gram, \n",
    "            tag_gram_f\n",
    "        order by\n",
    "            tag_gram_f desc\n",
    "        limit 1)\n",
    "        \"\"\"\n",
    "    )\n",
    "\n",
    "\n",
    "def get_top_1_tag_gram_by_keys(keys):\n",
    "    l = []\n",
    "    for i in keys:\n",
    "        l.append(get_top_1_tag_gram_with_key_word(i))\n",
    "\n",
    "    return unionAll(*l)"
   ]
  },
  {
   "cell_type": "code",
   "execution_count": 4,
   "id": "82b4d12b-fbbe-4db9-87c4-d9ac4292e26a",
   "metadata": {},
   "outputs": [],
   "source": [
    "df = get_top_1_tag_gram_by_keys([\"university\",\"school\",\"college\",\"中国\",\"台湾\",\"香港\",\"kampung\",\"sekolah\",\"daerah\",\"barat\",\"utara\",\"komun\"])"
   ]
  },
  {
   "cell_type": "code",
   "execution_count": 5,
   "id": "c5aed9ff-f93d-429b-89ad-69c798c3e63b",
   "metadata": {},
   "outputs": [
    {
     "name": "stderr",
     "output_type": "stream",
     "text": [
      "                                                                                \r"
     ]
    },
    {
     "name": "stdout",
     "output_type": "stream",
     "text": [
      "+--------------+----------+----------------------------------------------------------------------------------------------------------------------------------------------------+\n",
      "|tag_gram      |tag_gram_f|collect_set(token_gram)                                                                                                                             |\n",
      "+--------------+----------+----------------------------------------------------------------------------------------------------------------------------------------------------+\n",
      "|NOUN NOUN NOUN|58585     |[university university university, university university state, college university university, college university gcu, college university myitkyina]|\n",
      "|NOUN NOUN NOUN|58585     |[school school performance, school school students, school school robert, school school systems, college school madrasa]                            |\n",
      "|NOUN NOUN NOUN|58585     |[university college dublin, university college kampala, university college cork, university college oxford]                                         |\n",
      "|ns ns n       |9549      |[台湾 中国 环球, 台湾 中国 医药, 台湾 中国 电视, 台湾 中国 大陆, 香港 中国 文化]                                                                    |\n",
      "|ns ns n       |9549      |[台湾 台湾 电视台, 台湾 台湾 女演员, 香港 台湾 大陆, 台湾 台湾 稻米, 台湾 台湾 方面]                                                                |\n",
      "|ns ns n       |9549      |[香港 香港 纺织业, 香港 香港 妇女, 香港 香港 女子, 台湾 香港 蝴蝶, 香港 香港 学生]                                                                  |\n",
      "|NOUN NOUN NOUN|58585     |[barat kampung laneh, kampung kampung panchor, utara kampung pulau, kampung kampung ladang, sekolah kampung sungai]                                 |\n",
      "|NOUN NOUN NOUN|58585     |[sekolah sekolah kebangsaan, sekolah sekolah jenis]                                                                                                 |\n",
      "|NOUN NOUN NOUN|58585     |[daerah daerah jempol, daerah daerah jasin, daerah daerah seberang, sekolah daerah rockdale, daerah daerah topolcany]                               |\n",
      "|NOUN NOUN NOUN|58585     |[daerah barat laut, barat barat laut, daerah barat daya]                                                                                            |\n",
      "+--------------+----------+----------------------------------------------------------------------------------------------------------------------------------------------------+\n",
      "only showing top 10 rows\n",
      "\n"
     ]
    }
   ],
   "source": [
    "df.show(10, False)"
   ]
  },
  {
   "cell_type": "code",
   "execution_count": null,
   "id": "c43a5869-d30b-4dec-bed7-34f8e61949ef",
   "metadata": {},
   "outputs": [],
   "source": [
    "df.show(100, False)"
   ]
  },
  {
   "cell_type": "code",
   "execution_count": 6,
   "id": "aed888e8-f0a8-4a41-ace6-d2c8dbbcd66d",
   "metadata": {},
   "outputs": [
    {
     "name": "stderr",
     "output_type": "stream",
     "text": [
      "                                                                                \r"
     ]
    }
   ],
   "source": [
    "pd = df.toPandas()"
   ]
  },
  {
   "cell_type": "code",
   "execution_count": null,
   "id": "672cf1fa-6aa2-40a6-82fa-58c28c8fde9c",
   "metadata": {},
   "outputs": [],
   "source": []
  },
  {
   "cell_type": "code",
   "execution_count": null,
   "id": "32bfd8c4-d146-412b-af8c-fd27bf415614",
   "metadata": {},
   "outputs": [],
   "source": []
  },
  {
   "cell_type": "code",
   "execution_count": null,
   "id": "7eb180cb-f2b6-439a-bd56-00d9e419c1d7",
   "metadata": {},
   "outputs": [],
   "source": []
  },
  {
   "cell_type": "code",
   "execution_count": 2,
   "id": "19c00c88-df46-4549-aa2b-b1d687d997dd",
   "metadata": {},
   "outputs": [
    {
     "ename": "NameError",
     "evalue": "name 'q' is not defined",
     "output_type": "error",
     "traceback": [
      "\u001b[0;31m---------------------------------------------------------------------------\u001b[0m",
      "\u001b[0;31mNameError\u001b[0m                                 Traceback (most recent call last)",
      "Input \u001b[0;32mIn [2]\u001b[0m, in \u001b[0;36m<cell line: 1>\u001b[0;34m()\u001b[0m\n\u001b[0;32m----> 1\u001b[0m \u001b[43mq\u001b[49m(\n\u001b[1;32m      2\u001b[0m \u001b[38;5;124;03m\"\"\"\u001b[39;00m\n\u001b[1;32m      3\u001b[0m \u001b[38;5;124;03mselect\u001b[39;00m\n\u001b[1;32m      4\u001b[0m \u001b[38;5;124;03m    distinct\u001b[39;00m\n\u001b[1;32m      5\u001b[0m \u001b[38;5;124;03m    token_gram,\u001b[39;00m\n\u001b[1;32m      6\u001b[0m \u001b[38;5;124;03m    count f\u001b[39;00m\n\u001b[1;32m      7\u001b[0m \u001b[38;5;124;03mfrom\u001b[39;00m\n\u001b[1;32m      8\u001b[0m \u001b[38;5;124;03m    wiki_gram\u001b[39;00m\n\u001b[1;32m      9\u001b[0m \u001b[38;5;124;03mwhere\u001b[39;00m\n\u001b[1;32m     10\u001b[0m \u001b[38;5;124;03m    gram_type == 5 and middle_key = true\u001b[39;00m\n\u001b[1;32m     11\u001b[0m \u001b[38;5;124;03morder by\u001b[39;00m\n\u001b[1;32m     12\u001b[0m \u001b[38;5;124;03m    count desc\u001b[39;00m\n\u001b[1;32m     13\u001b[0m \u001b[38;5;124;03m\"\"\"\u001b[39;00m\n\u001b[1;32m     14\u001b[0m )\u001b[38;5;241m.\u001b[39mshow(\u001b[38;5;241m100\u001b[39m, \u001b[38;5;28;01mFalse\u001b[39;00m)\n",
      "\u001b[0;31mNameError\u001b[0m: name 'q' is not defined"
     ]
    }
   ],
   "source": [
    "q(\n",
    "\"\"\"\n",
    "select\n",
    "    distinct\n",
    "    token_gram,\n",
    "    count f\n",
    "from\n",
    "    wiki_gram\n",
    "where\n",
    "    gram_type == 5 and middle_key = true\n",
    "order by\n",
    "    count desc\n",
    "\"\"\"\n",
    ").show(100, False)"
   ]
  },
  {
   "cell_type": "code",
   "execution_count": 7,
   "id": "0b9f0d06-2b19-4db6-b315-ce3601e662f0",
   "metadata": {},
   "outputs": [
    {
     "name": "stderr",
     "output_type": "stream",
     "text": [
      "[Stage 6:======================================================>  (21 + 1) / 22]\r"
     ]
    },
    {
     "name": "stdout",
     "output_type": "stream",
     "text": [
      "+----------------------------------------------+---------+---------+----------+\n",
      "|token_gram                                    |frequency|gram_type|middle_key|\n",
      "+----------------------------------------------+---------+---------+----------+\n",
      "|中国 大陆 台湾 常 栖息                        |256      |5        |true      |\n",
      "|school elementary school elementary school    |100      |5        |true      |\n",
      "|台湾 以及 中国 大陆 的                        |62       |5        |true      |\n",
      "|台湾 道 台湾 府 为                            |52       |5        |true      |\n",
      "|台湾 小吃 台湾 料理 台湾                      |43       |5        |true      |\n",
      "|school district school data for               |38       |5        |true      |\n",
      "|中国 大陆 香港 澳门 台湾                      |31       |5        |true      |\n",
      "|台湾 府 台湾 县 知县                          |29       |5        |true      |\n",
      "|school primary school primary school          |27       |5        |true      |\n",
      "|kampung di daerah tutong brunei               |26       |5        |true      |\n",
      "|school middle school and high                 |24       |5        |true      |\n",
      "|台湾 是 中国 的 一部分                        |23       |5        |true      |\n",
      "|台湾 称 中国 大陆 港澳                        |22       |5        |true      |\n",
      "|school middle school high school              |20       |5        |true      |\n",
      "|中国 大陆 香港 和 台湾                        |18       |5        |true      |\n",
      "|college championship college football national|18       |5        |true      |\n",
      "|university graduate school of journalism      |18       |5        |true      |\n",
      "|college or university in the                  |17       |5        |true      |\n",
      "|台湾 担任 台湾 府 台湾                        |16       |5        |true      |\n",
      "|university the university of california       |16       |5        |true      |\n",
      "|school high school high school                |16       |5        |true      |\n",
      "|台湾 夜市 台湾 小吃 夜市                      |15       |5        |true      |\n",
      "|台湾 担任 台湾 府 淡水                        |15       |5        |true      |\n",
      "|香港 年鉴 香港 华侨 日报                      |14       |5        |true      |\n",
      "|school elementary school middle school        |13       |5        |true      |\n",
      "|school district school district reference     |13       |5        |true      |\n",
      "|school middle school middle school            |11       |5        |true      |\n",
      "|台湾 与 中国 大陆 的                          |11       |5        |true      |\n",
      "|university the university of pennsylvania     |10       |5        |true      |\n",
      "|college city university of new                |10       |5        |true      |\n",
      "|台湾 担任 台湾 府 海防                        |10       |5        |true      |\n",
      "|中国 大陆 香港 及 澳门                        |10       |5        |true      |\n",
      "|university and university of california       |10       |5        |true      |\n",
      "|台湾 是 中国 领土 不可分割                    |10       |5        |true      |\n",
      "|college preparatory school no date            |10       |5        |true      |\n",
      "|school high school blast intermediate         |9        |5        |true      |\n",
      "|school district school report card            |9        |5        |true      |\n",
      "|university the university of texas            |9        |5        |true      |\n",
      "|台湾 是 中国 不可分割 的                      |9        |5        |true      |\n",
      "|台湾 是 中国 的 一部                          |9        |5        |true      |\n",
      "|香港 播放 香港 以外 地区                      |9        |5        |true      |\n",
      "|school middle school elementary school        |8        |5        |true      |\n",
      "|college clifton college register muirhead     |8        |5        |true      |\n",
      "|university libraries university of nevada     |8        |5        |true      |\n",
      "|college and university residence halls        |8        |5        |true      |\n",
      "|school middle school and elementary           |8        |5        |true      |\n",
      "|台湾 和 中国 大陆 的                          |8        |5        |true      |\n",
      "|university the university of new              |8        |5        |true      |\n",
      "|university the university of north            |8        |5        |true      |\n",
      "|university stern school of business           |8        |5        |true      |\n",
      "+----------------------------------------------+---------+---------+----------+\n",
      "only showing top 50 rows\n",
      "\n"
     ]
    },
    {
     "name": "stderr",
     "output_type": "stream",
     "text": [
      "                                                                                \r"
     ]
    }
   ],
   "source": [
    "q(\n",
    "\"\"\"\n",
    "select * from (\n",
    "  select distinct token_gram, count as frequency, gram_type, middle_key from wiki_gram\n",
    ") where gram_type = 5 and middle_key = true order by frequency desc\n",
    "\"\"\"\n",
    ").show(50, False)"
   ]
  },
  {
   "cell_type": "code",
   "execution_count": 8,
   "id": "166c5db0-8464-46d2-854d-4dc121371bc4",
   "metadata": {},
   "outputs": [
    {
     "name": "stderr",
     "output_type": "stream",
     "text": [
      "[Stage 9:============================================>            (17 + 5) / 22]\r"
     ]
    },
    {
     "name": "stdout",
     "output_type": "stream",
     "text": [
      "+----------------------------+---------+---------+----------+\n",
      "|tag_gram                    |frequency|gram_type|middle_key|\n",
      "+----------------------------+---------+---------+----------+\n",
      "|NOUN ADP NOUN NOUN ADP      |11121    |5        |true      |\n",
      "|NOUN NOUN NOUN NOUN NOUN    |10622    |5        |true      |\n",
      "|NOUN ADP NOUN NOUN NOUN     |7124     |5        |true      |\n",
      "|NOUN ADP ADJ NOUN NOUN      |5607     |5        |true      |\n",
      "|NOUN ADP NOUN ADP NOUN      |4059     |5        |true      |\n",
      "|NOUN ADP NOUN CCONJ NOUN    |3892     |5        |true      |\n",
      "|NOUN NOUN ADP DET NOUN      |3465     |5        |true      |\n",
      "|NOUN CCONJ NOUN NOUN PRON   |3155     |5        |true      |\n",
      "|NOUN NOUN NOUN NOUN PROPN   |3142     |5        |true      |\n",
      "|NOUN ADP ADJ NOUN ADP       |2901     |5        |true      |\n",
      "|NOUN NOUN NOUN ADP NOUN     |2589     |5        |true      |\n",
      "|NOUN NOUN ADJ NOUN NOUN     |2577     |5        |true      |\n",
      "|NOUN NOUN NOUN PROPN PROPN  |2405     |5        |true      |\n",
      "|NOUN VERB ADP DET NOUN      |2381     |5        |true      |\n",
      "|NOUN ADP NOUN ADP DET       |2333     |5        |true      |\n",
      "|NOUN ADP NOUN PROPN ADP     |2305     |5        |true      |\n",
      "|NOUN NOUN VERB DET NOUN     |2272     |5        |true      |\n",
      "|NOUN ADP NOUN PROPN PROPN   |2022     |5        |true      |\n",
      "|ns ns ns ns ns              |1937     |5        |true      |\n",
      "|NOUN ADP PROPN NOUN NOUN    |1895     |5        |true      |\n",
      "|NOUN ADP PROPN PROPN NOUN   |1723     |5        |true      |\n",
      "|NOUN NOUN NOUN PROPN NOUN   |1715     |5        |true      |\n",
      "|NOUN NOUN PROPN NOUN NOUN   |1656     |5        |true      |\n",
      "|NOUN NOUN PROPN PROPN PROPN |1616     |5        |true      |\n",
      "|NOUN ADP NOUN NOUN CCONJ    |1560     |5        |true      |\n",
      "|NOUN NOUN NOUN NOUN VERB    |1536     |5        |true      |\n",
      "|NOUN NOUN NOUN CCONJ NOUN   |1530     |5        |true      |\n",
      "|NOUN NOUN NOUN ADJ NOUN     |1522     |5        |true      |\n",
      "|NOUN NOUN NOUN NOUN CCONJ   |1490     |5        |true      |\n",
      "|NOUN ADP NOUN AUX VERB      |1453     |5        |true      |\n",
      "|NOUN NOUN VERB ADJ NOUN     |1438     |5        |true      |\n",
      "|NOUN NOUN VERB NOUN NOUN    |1430     |5        |true      |\n",
      "|NOUN ADP NOUN NOUN PROPN    |1421     |5        |true      |\n",
      "|NOUN NOUN NOUN ADP DET      |1404     |5        |true      |\n",
      "|NOUN ADP NOUN CCONJ VERB    |1379     |5        |true      |\n",
      "|NOUN CCONJ NOUN PRON VERB   |1335     |5        |true      |\n",
      "|NOUN NOUN NOUN NOUN ADP     |1325     |5        |true      |\n",
      "|ns ns ns ns v               |1318     |5        |true      |\n",
      "|NOUN ADP NOUN CCONJ DET     |1316     |5        |true      |\n",
      "|NOUN NOUN NOUN PRON VERB    |1264     |5        |true      |\n",
      "|NOUN ADP NOUN VERB ADP      |1220     |5        |true      |\n",
      "|NOUN NOUN NOUN NOUN ADJ     |1218     |5        |true      |\n",
      "|NOUN NOUN PROPN NOUN PROPN  |1216     |5        |true      |\n",
      "|NOUN NOUN ADP DET ADJ       |1202     |5        |true      |\n",
      "|NOUN CCONJ NOUN NOUN NOUN   |1164     |5        |true      |\n",
      "|NOUN ADJ NOUN NOUN NOUN     |1145     |5        |true      |\n",
      "|NOUN ADP NOUN PRON VERB     |1122     |5        |true      |\n",
      "|NOUN ADP PROPN PROPN PROPN  |1103     |5        |true      |\n",
      "|NOUN PROPN PROPN PROPN PROPN|1068     |5        |true      |\n",
      "|NOUN ADP NOUN ADJ NOUN      |1059     |5        |true      |\n",
      "+----------------------------+---------+---------+----------+\n",
      "only showing top 50 rows\n",
      "\n"
     ]
    },
    {
     "name": "stderr",
     "output_type": "stream",
     "text": [
      "                                                                                \r"
     ]
    }
   ],
   "source": [
    "q(\n",
    "\"\"\"\n",
    "select * from (\n",
    "  select distinct tag_gram, tag_gram_f as frequency, gram_type, middle_key from wiki_gram\n",
    ") where gram_type = 5 and middle_key = true order by frequency desc\n",
    "\"\"\"\n",
    ").show(50, False)"
   ]
  },
  {
   "cell_type": "code",
   "execution_count": null,
   "id": "fcc536f0-98c6-4806-8a03-2d55b48cdf81",
   "metadata": {},
   "outputs": [
    {
     "name": "stderr",
     "output_type": "stream",
     "text": [
      "[Stage 47:==========>                                             (4 + 18) / 22]\r"
     ]
    }
   ],
   "source": [
    "Q=\"\"\"\n",
    "select\n",
    "    distinct tag_gram,\n",
    "    tag_gram_f,\n",
    "    language\n",
    "from\n",
    "    wiki_gram\n",
    "where\n",
    "    language='malay'\n",
    "order by\n",
    "    tag_gram_f DESC;\n",
    "\"\"\"\n",
    "\n",
    "q(Q).show()"
   ]
  },
  {
   "cell_type": "code",
   "execution_count": 6,
   "id": "d5a7ea93-874e-409b-8b67-a0bb1956013f",
   "metadata": {},
   "outputs": [
    {
     "name": "stderr",
     "output_type": "stream",
     "text": [
      "[Stage 0:==============================================>          (17 + 4) / 21]\r"
     ]
    },
    {
     "name": "stdout",
     "output_type": "stream",
     "text": [
      "+--------------------+----------+--------+\n",
      "|            tag_gram|tag_gram_f|language|\n",
      "+--------------------+----------+--------+\n",
      "|           NOUN NOUN|     53113|   malay|\n",
      "|      NOUN NOUN NOUN|     26642|   malay|\n",
      "|          NOUN PROPN|     25004|   malay|\n",
      "|            NOUN ADP|     24769|   malay|\n",
      "|       NOUN ADP NOUN|     22957|   malay|\n",
      "|           NOUN PRON|     16032|   malay|\n",
      "|  NOUN ADP NOUN NOUN|     15375|   malay|\n",
      "|      NOUN PRON VERB|     15245|   malay|\n",
      "|  NOUN PRON VERB ADP|     14779|   malay|\n",
      "| NOUN NOUN NOUN NOUN|     13137|   malay|\n",
      "|    NOUN PROPN PROPN|     11225|   malay|\n",
      "|     NOUN NOUN PROPN|     10800|   malay|\n",
      "|NOUN ADP NOUN NOU...|      9153|   malay|\n",
      "|NOUN PRON VERB AD...|      9132|   malay|\n",
      "|          NOUN CCONJ|      7303|   malay|\n",
      "|     NOUN CCONJ NOUN|      5975|   malay|\n",
      "|            NOUN ADJ|      5894|   malay|\n",
      "|NOUN NOUN NOUN PROPN|      5831|   malay|\n",
      "|     NOUN PROPN NOUN|      5789|   malay|\n",
      "|NOUN NOUN NOUN NO...|      5518|   malay|\n",
      "+--------------------+----------+--------+\n",
      "only showing top 20 rows\n",
      "\n"
     ]
    },
    {
     "name": "stderr",
     "output_type": "stream",
     "text": [
      "                                                                                \r"
     ]
    }
   ],
   "source": [
    "Q=\"\"\"\n",
    "select\n",
    "    distinct tag_gram,\n",
    "    tag_gram_f,\n",
    "    language\n",
    "from\n",
    "    wiki_gram\n",
    "where\n",
    "    language='malay'\n",
    "order by\n",
    "    tag_gram_f DESC;\n",
    "\"\"\"\n",
    "\n",
    "q(Q).show()"
   ]
  },
  {
   "cell_type": "code",
   "execution_count": 13,
   "id": "e2092d93-50f5-406e-b48b-0e4baded2912",
   "metadata": {},
   "outputs": [],
   "source": [
    "QE=\"\"\"\n",
    "select\n",
    "    distinct tag_gram,\n",
    "    tag_gram_f,\n",
    "    language\n",
    "from\n",
    "    wiki_gram\n",
    "where\n",
    "    language='english'\n",
    "order by\n",
    "    tag_gram_f DESC;\n",
    "\"\"\"\n"
   ]
  },
  {
   "cell_type": "code",
   "execution_count": 14,
   "id": "a4d17acd-b24c-45c0-a3f7-3d2b087df365",
   "metadata": {},
   "outputs": [
    {
     "name": "stderr",
     "output_type": "stream",
     "text": [
      "                                                                                \r"
     ]
    }
   ],
   "source": [
    "EnglishPOS = q(QE).toPandas()"
   ]
  },
  {
   "cell_type": "code",
   "execution_count": 16,
   "id": "42e8107e-4a91-4755-9907-0c12336a1f4b",
   "metadata": {},
   "outputs": [
    {
     "data": {
      "image/png": "[encoded data removed]",
      "text/plain": [
       "<Figure size 1500x500 with 1 Axes>"
      ]
     },
     "metadata": {},
     "output_type": "display_data"
    }
   ],
   "source": [
    "import matplotlib.pyplot as plt\n",
    "\n",
    "fig, ax = plt.subplots(1,1,figsize=(15,5))\n",
    "\n",
    "x = EnglishPOS['tag_gram'][:10].tolist()\n",
    "y = EnglishPOS['tag_gram_f'][:10].tolist()\n",
    "ax.barh(x,y)\n",
    "ax.set_title('Top 10 Most Common POS Patterns in Wikipedia English')\n",
    "for index, value in enumerate(y):\n",
    "    ax.text(value, index,\n",
    "             str(value))\n",
    "ax.invert_yaxis()\n",
    "\n",
    "plt.show()"
   ]
  },
  {
   "cell_type": "code",
   "execution_count": null,
   "id": "eb28b4f4-62db-4c32-bfc1-0e9f3cc45bb5",
   "metadata": {},
   "outputs": [],
   "source": []
  },
  {
   "cell_type": "code",
   "execution_count": null,
   "id": "e03ead90-dc71-43f1-bcb0-dcbd488d96bd",
   "metadata": {},
   "outputs": [],
   "source": []
  },
  {
   "cell_type": "code",
   "execution_count": 7,
   "id": "56476683-2006-47b1-85ff-35298ce31e46",
   "metadata": {},
   "outputs": [
    {
     "data": {
      "text/html": [
       "<div>\n",
       "<style scoped>\n",
       "    .dataframe tbody tr th:only-of-type {\n",
       "        vertical-align: middle;\n",
       "    }\n",
       "\n",
       "    .dataframe tbody tr th {\n",
       "        vertical-align: top;\n",
       "    }\n",
       "\n",
       "    .dataframe thead th {\n",
       "        text-align: right;\n",
       "    }\n",
       "</style>\n",
       "<table border=\"1\" class=\"dataframe\">\n",
       "  <thead>\n",
       "    <tr style=\"text-align: right;\">\n",
       "      <th></th>\n",
       "      <th>tag_gram</th>\n",
       "      <th>tag_gram_f</th>\n",
       "      <th>language</th>\n",
       "    </tr>\n",
       "  </thead>\n",
       "  <tbody>\n",
       "    <tr>\n",
       "      <th>0</th>\n",
       "      <td>NOUN NOUN</td>\n",
       "      <td>53113</td>\n",
       "      <td>malay</td>\n",
       "    </tr>\n",
       "    <tr>\n",
       "      <th>1</th>\n",
       "      <td>NOUN NOUN NOUN</td>\n",
       "      <td>26642</td>\n",
       "      <td>malay</td>\n",
       "    </tr>\n",
       "    <tr>\n",
       "      <th>2</th>\n",
       "      <td>NOUN PROPN</td>\n",
       "      <td>25004</td>\n",
       "      <td>malay</td>\n",
       "    </tr>\n",
       "    <tr>\n",
       "      <th>3</th>\n",
       "      <td>NOUN ADP</td>\n",
       "      <td>24769</td>\n",
       "      <td>malay</td>\n",
       "    </tr>\n",
       "    <tr>\n",
       "      <th>4</th>\n",
       "      <td>NOUN ADP NOUN</td>\n",
       "      <td>22957</td>\n",
       "      <td>malay</td>\n",
       "    </tr>\n",
       "    <tr>\n",
       "      <th>...</th>\n",
       "      <td>...</td>\n",
       "      <td>...</td>\n",
       "      <td>...</td>\n",
       "    </tr>\n",
       "    <tr>\n",
       "      <th>6753</th>\n",
       "      <td>NOUN NOUN ADP ADV CCONJ</td>\n",
       "      <td>1</td>\n",
       "      <td>malay</td>\n",
       "    </tr>\n",
       "    <tr>\n",
       "      <th>6754</th>\n",
       "      <td>NOUN VERB NUM NOUN VERB</td>\n",
       "      <td>1</td>\n",
       "      <td>malay</td>\n",
       "    </tr>\n",
       "    <tr>\n",
       "      <th>6755</th>\n",
       "      <td>PROPN ADP NOUN PRON ADV</td>\n",
       "      <td>1</td>\n",
       "      <td>malay</td>\n",
       "    </tr>\n",
       "    <tr>\n",
       "      <th>6756</th>\n",
       "      <td>PROPN AUX NOUN ADJ PROPN</td>\n",
       "      <td>1</td>\n",
       "      <td>malay</td>\n",
       "    </tr>\n",
       "    <tr>\n",
       "      <th>6757</th>\n",
       "      <td>NOUN CCONJ NOUN ADJ ADJ</td>\n",
       "      <td>1</td>\n",
       "      <td>malay</td>\n",
       "    </tr>\n",
       "  </tbody>\n",
       "</table>\n",
       "<p>6758 rows × 3 columns</p>\n",
       "</div>"
      ],
      "text/plain": [
       "                      tag_gram  tag_gram_f language\n",
       "0                    NOUN NOUN       53113    malay\n",
       "1               NOUN NOUN NOUN       26642    malay\n",
       "2                   NOUN PROPN       25004    malay\n",
       "3                     NOUN ADP       24769    malay\n",
       "4                NOUN ADP NOUN       22957    malay\n",
       "...                        ...         ...      ...\n",
       "6753   NOUN NOUN ADP ADV CCONJ           1    malay\n",
       "6754   NOUN VERB NUM NOUN VERB           1    malay\n",
       "6755   PROPN ADP NOUN PRON ADV           1    malay\n",
       "6756  PROPN AUX NOUN ADJ PROPN           1    malay\n",
       "6757   NOUN CCONJ NOUN ADJ ADJ           1    malay\n",
       "\n",
       "[6758 rows x 3 columns]"
      ]
     },
     "execution_count": 7,
     "metadata": {},
     "output_type": "execute_result"
    }
   ],
   "source": [
    "MalayPOS = q(Q).toPandas()\n",
    "MalayPOS"
   ]
  },
  {
   "cell_type": "code",
   "execution_count": 8,
   "id": "68c120e0-6022-412c-8e3d-947bcde4434a",
   "metadata": {},
   "outputs": [
    {
     "data": {
      "image/png": "[encoded data removed]",
      "text/plain": [
       "<Figure size 1500x500 with 1 Axes>"
      ]
     },
     "metadata": {},
     "output_type": "display_data"
    }
   ],
   "source": [
    "import matplotlib.pyplot as plt\n",
    "\n",
    "fig, ax = plt.subplots(1,1,figsize=(15,5))\n",
    "\n",
    "x = MalayPOS['tag_gram'][:10].tolist()\n",
    "y = MalayPOS['tag_gram_f'][:10].tolist()\n",
    "ax.barh(x,y)\n",
    "ax.set_title('Top 10 Most Common POS Patterns in Wikipedia BM')\n",
    "for index, value in enumerate(y):\n",
    "    ax.text(value, index,\n",
    "             str(value))\n",
    "ax.invert_yaxis()\n",
    "\n",
    "plt.show()"
   ]
  },
  {
   "cell_type": "code",
   "execution_count": 17,
   "id": "0e08128c-83db-44b5-8b2a-a4fa23404143",
   "metadata": {},
   "outputs": [
    {
     "name": "stderr",
     "output_type": "stream",
     "text": [
      "[Stage 30:============================>                          (11 + 10) / 21]\r"
     ]
    },
    {
     "name": "stdout",
     "output_type": "stream",
     "text": [
      "+--------+----------+--------+\n",
      "|tag_gram|tag_gram_f|language|\n",
      "+--------+----------+--------+\n",
      "|    ns n|    170697| chinese|\n",
      "|  ns n n|     61819| chinese|\n",
      "|   ns ns|     42266| chinese|\n",
      "|    ns v|     33066| chinese|\n",
      "|  ns n v|     22857| chinese|\n",
      "|   ns uj|     20814| chinese|\n",
      "|ns n n n|     19649| chinese|\n",
      "|ns ns ns|     16941| chinese|\n",
      "| ns n uj|     14792| chinese|\n",
      "|   ns nr|     12502| chinese|\n",
      "|    ns t|     10874| chinese|\n",
      "|    ns m|     10398| chinese|\n",
      "|   ns nz|     10133| chinese|\n",
      "| ns ns n|      9549| chinese|\n",
      "| ns uj n|      9194| chinese|\n",
      "|    ns d|      8698| chinese|\n",
      "|  ns v n|      8529| chinese|\n",
      "|   ns nt|      8368| chinese|\n",
      "|ns n n v|      8265| chinese|\n",
      "|    ns p|      7875| chinese|\n",
      "+--------+----------+--------+\n",
      "only showing top 20 rows\n",
      "\n"
     ]
    },
    {
     "name": "stderr",
     "output_type": "stream",
     "text": [
      "                                                                                \r"
     ]
    }
   ],
   "source": [
    "Q=\"\"\"\n",
    "select\n",
    "    distinct tag_gram,\n",
    "    tag_gram_f,\n",
    "    language\n",
    "from\n",
    "    wiki_gram\n",
    "where\n",
    "    language='chinese'\n",
    "order by\n",
    "    tag_gram_f DESC;\n",
    "\"\"\"\n",
    "\n",
    "q(Q).show()"
   ]
  },
  {
   "cell_type": "code",
   "execution_count": 18,
   "id": "8b265dc9-e6bf-4729-abed-9329d078e9c2",
   "metadata": {},
   "outputs": [
    {
     "name": "stderr",
     "output_type": "stream",
     "text": [
      "                                                                                \r"
     ]
    },
    {
     "data": {
      "text/html": [
       "<div>\n",
       "<style scoped>\n",
       "    .dataframe tbody tr th:only-of-type {\n",
       "        vertical-align: middle;\n",
       "    }\n",
       "\n",
       "    .dataframe tbody tr th {\n",
       "        vertical-align: top;\n",
       "    }\n",
       "\n",
       "    .dataframe thead th {\n",
       "        text-align: right;\n",
       "    }\n",
       "</style>\n",
       "<table border=\"1\" class=\"dataframe\">\n",
       "  <thead>\n",
       "    <tr style=\"text-align: right;\">\n",
       "      <th></th>\n",
       "      <th>tag_gram</th>\n",
       "      <th>tag_gram_f</th>\n",
       "      <th>language</th>\n",
       "    </tr>\n",
       "  </thead>\n",
       "  <tbody>\n",
       "    <tr>\n",
       "      <th>0</th>\n",
       "      <td>ns n</td>\n",
       "      <td>170697</td>\n",
       "      <td>chinese</td>\n",
       "    </tr>\n",
       "    <tr>\n",
       "      <th>1</th>\n",
       "      <td>ns n n</td>\n",
       "      <td>61819</td>\n",
       "      <td>chinese</td>\n",
       "    </tr>\n",
       "    <tr>\n",
       "      <th>2</th>\n",
       "      <td>ns ns</td>\n",
       "      <td>42266</td>\n",
       "      <td>chinese</td>\n",
       "    </tr>\n",
       "    <tr>\n",
       "      <th>3</th>\n",
       "      <td>ns v</td>\n",
       "      <td>33066</td>\n",
       "      <td>chinese</td>\n",
       "    </tr>\n",
       "    <tr>\n",
       "      <th>4</th>\n",
       "      <td>ns n v</td>\n",
       "      <td>22857</td>\n",
       "      <td>chinese</td>\n",
       "    </tr>\n",
       "    <tr>\n",
       "      <th>...</th>\n",
       "      <td>...</td>\n",
       "      <td>...</td>\n",
       "      <td>...</td>\n",
       "    </tr>\n",
       "    <tr>\n",
       "      <th>70268</th>\n",
       "      <td>ns ns v ns r</td>\n",
       "      <td>1</td>\n",
       "      <td>chinese</td>\n",
       "    </tr>\n",
       "    <tr>\n",
       "      <th>70269</th>\n",
       "      <td>ns b vn a</td>\n",
       "      <td>1</td>\n",
       "      <td>chinese</td>\n",
       "    </tr>\n",
       "    <tr>\n",
       "      <th>70270</th>\n",
       "      <td>ns nz v nz v</td>\n",
       "      <td>1</td>\n",
       "      <td>chinese</td>\n",
       "    </tr>\n",
       "    <tr>\n",
       "      <th>70271</th>\n",
       "      <td>ns nr g j d</td>\n",
       "      <td>1</td>\n",
       "      <td>chinese</td>\n",
       "    </tr>\n",
       "    <tr>\n",
       "      <th>70272</th>\n",
       "      <td>ns n uj j uj</td>\n",
       "      <td>1</td>\n",
       "      <td>chinese</td>\n",
       "    </tr>\n",
       "  </tbody>\n",
       "</table>\n",
       "<p>70273 rows × 3 columns</p>\n",
       "</div>"
      ],
      "text/plain": [
       "           tag_gram  tag_gram_f language\n",
       "0              ns n      170697  chinese\n",
       "1            ns n n       61819  chinese\n",
       "2             ns ns       42266  chinese\n",
       "3              ns v       33066  chinese\n",
       "4            ns n v       22857  chinese\n",
       "...             ...         ...      ...\n",
       "70268  ns ns v ns r           1  chinese\n",
       "70269     ns b vn a           1  chinese\n",
       "70270  ns nz v nz v           1  chinese\n",
       "70271   ns nr g j d           1  chinese\n",
       "70272  ns n uj j uj           1  chinese\n",
       "\n",
       "[70273 rows x 3 columns]"
      ]
     },
     "execution_count": 18,
     "metadata": {},
     "output_type": "execute_result"
    }
   ],
   "source": [
    "ChinesePOS = q(Q).toPandas()\n",
    "ChinesePOS"
   ]
  },
  {
   "cell_type": "code",
   "execution_count": 19,
   "id": "89761ce0-26c4-4ea4-96e1-1db580e49027",
   "metadata": {},
   "outputs": [
    {
     "data": {
      "image/png": "[encoded data removed]",
      "text/plain": [
       "<Figure size 1500x500 with 1 Axes>"
      ]
     },
     "metadata": {},
     "output_type": "display_data"
    }
   ],
   "source": [
    "import matplotlib.pyplot as plt\n",
    "\n",
    "fig, ax = plt.subplots(1,1,figsize=(15,5))\n",
    "\n",
    "x = ChinesePOS['tag_gram'][:10].tolist()\n",
    "y = ChinesePOS['tag_gram_f'][:10].tolist()\n",
    "ax.barh(x,y)\n",
    "ax.set_title('Top 10 Most Common POS Patterns in Wikipedia BC')\n",
    "for index, value in enumerate(y):\n",
    "    ax.text(value, index,\n",
    "             str(value))\n",
    "ax.invert_yaxis()\n",
    "\n",
    "plt.show()"
   ]
  }
 ],
 "metadata": {
  "kernelspec": {
   "display_name": "venv-spark",
   "language": "python",
   "name": "venv-spark"
  },
  "language_info": {
   "codemirror_mode": {
    "name": "ipython",
    "version": 3
   },
   "file_extension": ".py",
   "mimetype": "text/x-python",
   "name": "python",
   "nbconvert_exporter": "python",
   "pygments_lexer": "ipython3",
   "version": "3.9.13"
  }
 },
 "nbformat": 4,
 "nbformat_minor": 5
}
