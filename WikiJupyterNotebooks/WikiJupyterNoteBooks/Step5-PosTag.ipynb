{
 "cells": [
  {
   "cell_type": "code",
   "execution_count": 1,
   "id": "fb2615d3-7d00-4844-90dd-aacf9d53c741",
   "metadata": {
    "tags": []
   },
   "outputs": [
    {
     "name": "stderr",
     "output_type": "stream",
     "text": [
      "Warning: Ignoring non-Spark config property: hive.metastore.uris\n"
     ]
    },
    {
     "name": "stdout",
     "output_type": "stream",
     "text": [
      ":: loading settings :: url = jar:file:/home/pc/TestJupyter/opt/spark-3.3.0/spark-3.3.0-bin-hadoop3/jars/ivy-2.5.0.jar!/org/apache/ivy/core/settings/ivysettings.xml\n"
     ]
    },
    {
     "name": "stderr",
     "output_type": "stream",
     "text": [
      "Ivy Default Cache set to: /home/pc/.ivy2/cache\n",
      "The jars for the packages stored in: /home/pc/.ivy2/jars\n",
      "org.apache.spark#spark-avro_2.12 added as a dependency\n",
      ":: resolving dependencies :: org.apache.spark#spark-submit-parent-057060b9-0e6d-4c80-b5ba-283e21d63072;1.0\n",
      "\tconfs: [default]\n",
      "\tfound org.apache.spark#spark-avro_2.12;3.3.0 in central\n",
      "\tfound org.tukaani#xz;1.8 in central\n",
      "\tfound org.spark-project.spark#unused;1.0.0 in central\n",
      ":: resolution report :: resolve 136ms :: artifacts dl 3ms\n",
      "\t:: modules in use:\n",
      "\torg.apache.spark#spark-avro_2.12;3.3.0 from central in [default]\n",
      "\torg.spark-project.spark#unused;1.0.0 from central in [default]\n",
      "\torg.tukaani#xz;1.8 from central in [default]\n",
      "\t---------------------------------------------------------------------\n",
      "\t|                  |            modules            ||   artifacts   |\n",
      "\t|       conf       | number| search|dwnlded|evicted|| number|dwnlded|\n",
      "\t---------------------------------------------------------------------\n",
      "\t|      default     |   3   |   0   |   0   |   0   ||   3   |   0   |\n",
      "\t---------------------------------------------------------------------\n",
      ":: retrieving :: org.apache.spark#spark-submit-parent-057060b9-0e6d-4c80-b5ba-283e21d63072\n",
      "\tconfs: [default]\n",
      "\t0 artifacts copied, 3 already retrieved (0kB/4ms)\n"
     ]
    },
    {
     "name": "stdout",
     "output_type": "stream",
     "text": [
      "22/10/06 06:28:59 WARN NativeCodeLoader: Unable to load native-hadoop library for your platform... using builtin-java classes where applicable\n"
     ]
    },
    {
     "name": "stderr",
     "output_type": "stream",
     "text": [
      "Setting default log level to \"WARN\".\n",
      "To adjust logging level use sc.setLogLevel(newLevel). For SparkR, use setLogLevel(newLevel).\n"
     ]
    },
    {
     "name": "stdout",
     "output_type": "stream",
     "text": [
      "22/10/06 06:28:59 WARN Utils: Service 'SparkUI' could not bind on port 4040. Attempting port 4041.\n",
      "22/10/06 06:28:59 WARN Utils: Service 'SparkUI' could not bind on port 4041. Attempting port 4042.\n",
      "22/10/06 06:28:59 WARN Utils: Service 'SparkUI' could not bind on port 4042. Attempting port 4043.\n"
     ]
    }
   ],
   "source": [
    "from connectPyspark import *\n",
    "\n",
    "def read_avro(path):\n",
    "    return spark.read.format(\"avro\").load(path)\n",
    "\n",
    "def write_avro(df, path):\n",
    "    return df.write.format(\"avro\").save(path)\n"
   ]
  },
  {
   "cell_type": "code",
   "execution_count": null,
   "id": "82e3579e-b6e9-4998-b812-30c7e7f926f9",
   "metadata": {},
   "outputs": [],
   "source": [
    "### Malay"
   ]
  },
  {
   "cell_type": "code",
   "execution_count": 49,
   "id": "b677f7e6-9e51-46a5-b789-e9f65dbca36f",
   "metadata": {
    "collapsed": true,
    "jupyter": {
     "outputs_hidden": true
    },
    "tags": []
   },
   "outputs": [
    {
     "name": "stderr",
     "output_type": "stream",
     "text": [
      "[Stage 48:===========>                                            (4 + 16) / 20]\r"
     ]
    },
    {
     "name": "stdout",
     "output_type": "stream",
     "text": [
      "+--------------------------------------------------------------------------------------------------------------------------------------------------------------------------------------------------------------------------------------------+\n",
      "|text                                                                                                                                                                                                                                        |\n",
      "+--------------------------------------------------------------------------------------------------------------------------------------------------------------------------------------------------------------------------------------------+\n",
      "|ia juga merupakan antara salah satu komun daripada buah komun yang terdapat di niger                                                                                                                                                        |\n",
      "|interpersonal kemahiran antara perorangan atau kemahiran interpersonal merujuk kepada algoritma mental dan berkomunikasi yang digunakan semasa komunikasi dan interaksi sosial untuk mencapai kesan atau keputusan tertentu                 |\n",
      "|sekolah ini dikendalikan oleh local authority di bawah district council                                                                                                                                                                     |\n",
      "|huriel ialah komun di jabatan allier di auvergne di tengah perancis                                                                                                                                                                         |\n",
      "|sekolah kebangsaan felda pasir besar km jalan palong gemas negeri sembilan malaysia telefon felda pasir besar felda pasir besar                                                                                                             |\n",
      "|kampung tungku ialah sebuah kampung dalam mukim gadong a di daerah brunei muara brunei                                                                                                                                                      |\n",
      "|pada tahun belanda membangunkan kota taman menteng dan wilayah ini menjadi tempat baru untuk pembesar belanda menggantikan molenvliet di utara                                                                                              |\n",
      "|zokoguhé merupakan sebuah bandar dan komun yang terletak di ivory coast                                                                                                                                                                     |\n",
      "|sekolah kebangsaan pelabuhan atau nama ringkasnya sk pelabuhan merupakan sebuah sekolah kebangsaan yang terletak di kawasan perumahan balok makmur                                                                                          |\n",
      "|kərəviz merupakan sebuah kampung yang terletak di daerah lachin azerbaijan                                                                                                                                                                  |\n",
      "|kelab ini merancang untuk mengendalikan beberapa sekolah bola sepak di luar terengganu pada tahun                                                                                                                                           |\n",
      "|batas pinggir bandar yang lain termasuk darlinghurst road di sebelah tenggara william street di selatan brougham street dan sebahagian cowper road di sebelah barat                                                                         |\n",
      "|ialah komun di jabatan manche di baratlaut perancis                                                                                                                                                                                         |\n",
      "|kampung alor jambu boleh merujuk pada beberapa perkara antaranya kampung alor jambu terengganu kampung alor jambu bachok kelantan                                                                                                           |\n",
      "|la chapellesaintlaurent ialah komun di jabatan deuxsèvres di poitou charente di barat perancis                                                                                                                                              |\n",
      "|ialah komun di jabatan meurtheetmoselle di timurlaut perancis                                                                                                                                                                               |\n",
      "|terjatuh dalam lubang jambatan kampung nyior kembar dekat sini                                                                                                                                                                              |\n",
      "|majlis daerah simpang renggam pada asalnya ditubuhkan sebagai majlis daerah kluang selatan di mana pengistiharan sebagai majlis daerah simpang renggam adalah pada januari                                                                  |\n",
      "|daerah bardejov okres bardejov merupakan sebuah daerah yang terletak di wilayah prešov bahagian timur slovakia                                                                                                                              |\n",
      "|daerahdaerah ini pula dibahagikan kepada kawasan umum tambon dan buah kampung muban                                                                                                                                                         |\n",
      "|tujuh lebuh raya mempunyai ciri ini yang paling ketara adalah lebuhraya utaraselatan                                                                                                                                                        |\n",
      "|ia mempunyai seramai orang gurujanuari sekolah kebangsaan nibong kampung nibong kuala berang terengganu darul iman malaysia telefon sekolah kebangsaan nibong nibong nibong                                                                 |\n",
      "|longuessurmer ialah komun di jabatan calvados di wilayah bassenormandie di baratlaut perancis                                                                                                                                               |\n",
      "|komun di jabatan saôneetloire insee                                                                                                                                                                                                         |\n",
      "|shaffie sebagai pelaku dia tidak hanya tempattempat penting dalam pencapaian akademik tetapi juga pada perbaikan fizikal bangunan sekolahpembantu senior room bilik operasi kantin sekolah gerbang serta tandas guru                        |\n",
      "|sekolah kebangsaan bukit hijau atau nama ringkasnya sk bukit hijau merupakan sebuah sekolah sekolah rendah yang terletak di kedah                                                                                                           |\n",
      "|kantha chora merupakan sebuah kampung yang terletak di bangladesh                                                                                                                                                                           |\n",
      "|kerobokan sawan kerobokan merupakan sebuah desa kelurahan yang terletak dalam daerah kecamatan sawan kabupaten buleleng wilayah bali indonesia                                                                                              |\n",
      "|selepas dibunuh mayat mereka telah dihumban ke dalam satu lubang di kampung kijang pantai semut api kota bahru kelantan                                                                                                                     |\n",
      "|daerah hodonín wilayah moravia selatan ini diterjemahkan daripada wikipedia bahasa czech                                                                                                                                                    |\n",
      "|daerah bánovce nad bebravou wilayah trenčín ini diterjemahkan daripada wikipedia bahasa slovak                                                                                                                                              |\n",
      "|champniers ialah komun di jabatan charente di baratdaya perancis                                                                                                                                                                            |\n",
      "|terdapat buah desa di dalam daerah kecamatan banyusari                                                                                                                                                                                      |\n",
      "|corpus delicti badan jenayah adalah istilah dari jurisprudens barat yang merujukkan kepada prinsip yang ia harus dibuktikan bahawa sebarang jenayah telah wujud sebelum seorang dapat disabitkan kesalahan kepada perbuatan jenayah tersebut|\n",
      "|manikebu dianggap sebagai saingan oleh persatuan penulis komunis lembaga kebudajaan rakjat lekra yang dipimpin oleh pramoedya ananta toer                                                                                                   |\n",
      "|villiersleshauts ialah sebuah komun di perancis yang terletak di jabatan yonne dalam wilayah bourgogne                                                                                                                                      |\n",
      "|iborfia merupakan sebuah kampung yang terletak di wilayah zala barat hungaryhungarian central statistical office wilayah zala street map hungarian                                                                                          |\n",
      "|camino al tagliamento merupakan sebuah komun yang terletak di daerah friuli venezia giulia udine itali                                                                                                                                      |\n",
      "|pemberontakan mat salleh merupakan kekacauan bersenjata besar yang berturut turut menentang pentadbiran syarikat berpiagam borneo utara british di borneo utara kini negeri sabah malaysia                                                  |\n",
      "|isola del giglio merupakan sebuah komun yang terletak di daerah tuscany grosseto itali                                                                                                                                                      |\n",
      "|pruillé ialah sebuah komun yang terletak di jabatan maineetloire dalam wilayah pays de la loire di barat perancis                                                                                                                           |\n",
      "|rosli memulakan kerjayanya sebagai guru dan berhenti kerja pada tahun untuk mengajar di sekolah rakyat sibu                                                                                                                                 |\n",
      "|selain bangunan berbentuk you dan rumah guru yang didirikan di kawasan sekolah ini pada peringkat awalnya terdapat juga sebuah padang permainan dan kebun pertanian untuk kegunaan muridmurid sekolah pada ketika itu                       |\n",
      "|kampung merigi adalah sebuah kawasan perkampungan yang terletak dalam daerah segamat johor                                                                                                                                                  |\n",
      "|kampung hutan melintang merupakan sebuah kampung yang terletak di kangar dalam negeri perlis indera kayangan iaitu negeri paling utara di malaysia dan yang bersempadan dengan negara thailand                                              |\n",
      "|xuanzang terus ke arah utara dan menuju ke lembah buner sebelum kembali melalui shabaz gharni untuk menyeberangi sungai indus di hund                                                                                                       |\n",
      "|tungru merupakan sebuah kawasan perkampungan yang terletak di dalam tibet di china                                                                                                                                                          |\n",
      "|torre monumental menara monumen dan sebelum tahun torre de los ingleses menara orang inggeris adalah sebuah menara jam yang terletak di daerah barrio dari retiro buenos aires argentina                                                    |\n",
      "|bone ialah sebuah daerah autonomi yang terletak di sulawesi selatan indonesia                                                                                                                                                               |\n",
      "|sebutan portugis ialah tetapi dalam inggeris ia biasanya seperti atau daerah penghu daerah penghu ditadbir oleh kerajaan daerah penghu yang diketuai oleh majistret wang chienfa dan beribu penjabat di dewan daerah penghu                 |\n",
      "|laleu ialah sebuah komun di jabatan orne di baratlaut perancis                                                                                                                                                                              |\n",
      "|berdasarkan cinemascore filem ini mendapat nilai a dari penonton filem untuk skala a hingga f filem ini meraih di amerika utara dan di negara lain                                                                                          |\n",
      "|beliau pernah menjadi yang dipertua majlis perbandaran subang jaya timbalan pegawai kewangan negeri selangor penolong pegawai daerah pembangunan raub dan penolong pengarah anggaran bahagian perjawatan di jabatan perkhidmatan awam       |\n",
      "|di sebelah barat stesen adalah kawasan perindustrian taman perindustrian puchong manakala di sebelah timur stesen adalah kawasan perniagaan bandar puteri                                                                                   |\n",
      "|roeser merupakan sebuah bandar dan komun yang terletak di dalam negara luxembourg                                                                                                                                                           |\n",
      "|gez ialah komun di jabatan hautespyrénées di baratdaya perancis                                                                                                                                                                             |\n",
      "|merupakan sebuah kawasan perbandaran terletak di daerah vulkaneifel rhinelandpalatinate jerman                                                                                                                                              |\n",
      "|ia dinamakan sebagai palong timur kerana lokasinya di sebelah timur serta termasuk di dalam daerah segamat                                                                                                                                  |\n",
      "|ouled ammar merupakan sebuah komun yang terletak di wilayah batna algeriastatoids                                                                                                                                                           |\n",
      "|kampung sungai radang ialah sebuah kampung dalam mukim batu apoi di daerah temburong brunei                                                                                                                                                 |\n",
      "|arese merupakan sebuah komun yang terletak di daerah lombardy milan itali                                                                                                                                                                   |\n",
      "|mijares merupakan sebuah kawasan perbandaran di sepanyol di ávila di komuniti autonomi castile dan león                                                                                                                                     |\n",
      "|kotaraja merupakan sebuah desa yang terletak dalam daerah kecamatan dulupi kabupaten boalemo provinsi gorontalo indonesia                                                                                                                   |\n",
      "|pada sekolah kebangsaan pekan kinarut memiliki pelajar lelaki dan pelajar perempuan menjadikan jumlah keseluruhan murid seramai orang                                                                                                       |\n",
      "|pada sdn utan kayu utara pagi memiliki pelajar lelaki dan pelajar perempuan menjadikan jumlah keseluruhan murid seramai orang                                                                                                               |\n",
      "|lhok kuyun merupakan sebuah gampong yang terletak di kecamatan sawang kabupaten aceh utara provinsi aceh indonesia                                                                                                                          |\n",
      "|guar kepayang merupakan sebuah mukim yang terletak di daerah pendang kedah malaysia                                                                                                                                                         |\n",
      "|terdapat buah desa di dalam daerah kecamatan naringgul                                                                                                                                                                                      |\n",
      "|pada tahun foshan dinaikkan ke sebuah bandar raya peringkat tinggi dengan bekas terasnya menjadi daerah chancheng yang baru tetapi kehilangan separuh barat daya wilayah bekasnya ke jiangmen                                               |\n",
      "|ialah sebuah komun yang terletak di komun somme di picardie di utara perancis                                                                                                                                                               |\n",
      "|lobodice merupakan sebuah kampung dan kawasan perbandaran yang terletak di daerah přerov wilayah olomouc republik czech                                                                                                                     |\n",
      "|poskod yang digunakan di kampung pengkalan datu bachok kelantan adalah carian poskod lokasi kampung pengkalan datu di peta google pengkalan datu                                                                                            |\n",
      "|sekolah kebangsaan kampong banting jln masjid kg banting selangor malaysia telefon kampong banting kampong banting                                                                                                                          |\n",
      "|merupakan sebuah kawasan perbandaran terletak di daerah westerwaldkreis rhinelandpalatinate jerman                                                                                                                                          |\n",
      "|kampung kepulau merupakan sebuah kampung yang terletak di wakaf bharu dalam negeri kelantan darul naim iaitu sebuah negeri di utara malaysia                                                                                                |\n",
      "|terdapat buah desa di dalam daerah kecamatan cibugel                                                                                                                                                                                        |\n",
      "|ianya menyediakan perkhidmatan penjagaan kesihatan umum bagi penduduk kampungkampung di bawah mukim telisai                                                                                                                                 |\n",
      "|saat utara dan longitud darjah minit                                                                                                                                                                                                        |\n",
      "|cetbang juga ditemukan pantai dundee wilayah utara australia pada januari tahun dikenal sebagai dundee beach swivel gun                                                                                                                     |\n",
      "|sekolah kebangsaan limpoon atau nama ringkasnya sk limpoon merupakan sebuah sekolah kebangsaan yang terletak di sk                                                                                                                          |\n",
      "|sperrebotn merupakan sebuah kampung yang terletak di dalam negara norway                                                                                                                                                                    |\n",
      "|sekolah ini dibina atas tanah kepunyaan tengku sulong tetapi kemudiannya dipindahkan ke tapak sekarang ini                                                                                                                                  |\n",
      "|pada tahun dua unit runah guru siap dibina dalam kawasan sekolah                                                                                                                                                                            |\n",
      "|sekolah kebangsaan lemoi atau nama ringkasnya sk lemoi merupakan sebuah sekolah kebangsaan yang terletak di jheoa d a ppd cameron highlands                                                                                                 |\n",
      "|kerana tekanan hasil pengaruh sf yang berkembang kerajaan persekutuan perikatan telah berusaha menjatuhkannya melalui propaganda mengaitkan sosialisma dengan komunisma dan mendakwanya antiagama                                           |\n",
      "|komun di jabatan nièvre                                                                                                                                                                                                                     |\n",
      "|melatiwangi merupakan sebuah desa yang terletak dalam daerah kecamatan cilengkrang kabupaten bandung provinsi jawa barat indonesia                                                                                                          |\n",
      "|halongonan merupakan sebuah kecamatan yang terletak di kabupaten padang lawas utara sumatera utara indonesia                                                                                                                                |\n",
      "|merupakan sebuah daerah yang terletak di wilayah kyzylorda kazakhstan                                                                                                                                                                       |\n",
      "|terdapat buah desa di dalam daerah kecamatan limboto                                                                                                                                                                                        |\n",
      "|pada sekolah kebangsaan sri subang jaya memiliki pelajar lelaki dan pelajar perempuan menjadikan jumlah keseluruhan murid seramai orang                                                                                                     |\n",
      "|kerubut emas australia barat senarai tempat warisan di fremantle senarai bangunan yang direka oleh talbot hobbs                                                                                                                             |\n",
      "|terdapat buah desa di dalam daerah kecamatan lebong selatan                                                                                                                                                                                 |\n",
      "|sindangkarya merupakan sebuah desa yang terletak dalam daerah kecamatan menes kabupaten pandeglang provinsi banten indonesia                                                                                                                |\n",
      "|pada tahun sebahagian besar wilayah barat laut menjadi wilayah saskatchewan dan alberta                                                                                                                                                     |\n",
      "|bumirejo merupakan sebuah desa di kecamatan lendah kulon progo daerah istimewa yogyakarta indonesia                                                                                                                                         |\n",
      "|walau bagaimanapun pada tahun bilangan ini telah dilepasi oleh daerah la mesa tijuana yang merupakan rumah kepada kirakira pendatang cina dan orangorang keturunan cina                                                                     |\n",
      "|sendangarum merupakan sebuah desa yang terletak di kecamatan minggir sleman daerah istimewa yogyakarta indonesia                                                                                                                            |\n",
      "|merupakan sebuah komun di jabatan pyrénéesatlantiques di baratdaya perancis                                                                                                                                                                 |\n",
      "|piccadilly adalah sebuah jalan utama di london memanjang dari hyde park corner di barat ke piccadilly circus di timur                                                                                                                       |\n",
      "+--------------------------------------------------------------------------------------------------------------------------------------------------------------------------------------------------------------------------------------------+\n",
      "only showing top 100 rows\n",
      "\n"
     ]
    },
    {
     "name": "stderr",
     "output_type": "stream",
     "text": [
      "                                                                                \r"
     ]
    }
   ],
   "source": [
    "df = read_avro(\"output/7_bmReadyAnalysis_B\")\n",
    "df = df.repartition(74)\n",
    "\n",
    "\n",
    "df.show(100, False)\n",
    "\n",
    "# 🆂🅰🅼🅿🅻🅴\n",
    "### CLICK HERE TO SHOW without index"
   ]
  },
  {
   "cell_type": "code",
   "execution_count": 6,
   "id": "1cddc0b9-0f9c-4a50-9137-1b03ef956e41",
   "metadata": {},
   "outputs": [],
   "source": [
    "#---------------------------------------------------------------------------------------------   \n",
    "# count the word, after that sort by most frequent\n",
    "# What is the difference between map and flatmap???\n",
    "# map => [[x],[x],[x]]\n",
    "# flatmap => [x, x, x]\n",
    "def to_word_arr(x):\n",
    "    if x.Comment != None and x.Comment!= \"\":\n",
    "        return x.Comment.split()\n",
    "    else:\n",
    "        return []\n",
    "#---------------------------------------------------------------------------------------------    \n",
    "# if same key, sum val\n",
    "def sum_value_if_same_key(K1_v1, K1_v2):\n",
    "    return K1_v1+K1_v2    \n",
    "#---------------------------------------------------------------------------------------------   \n",
    "# create 10 segment on the data\n",
    "def get_count(dataframe):\n",
    "    return dataframe.count()\n",
    "\n",
    "def create_index_range(total, segmentQty):\n",
    "    rowQty = get_each_segment_row_qty(total, segmentQty)\n",
    "    arr = []\n",
    "    increment = rowQty-1\n",
    "    start = 0\n",
    "    while(start < total):\n",
    "        arr.append((start, start + increment))\n",
    "        start = start + increment + 1\n",
    "    return arr\n",
    "\n",
    "def get_each_segment_row_qty(total, segmentQty):\n",
    "    return int(total / segmentQty)\n",
    "    \n",
    "\n",
    "def get_segments(dataframe, segmentQty):\n",
    "    segments = []\n",
    "    index_range = create_index_range(dataframe.count(), segmentQty)\n",
    "    for aRange in index_range:\n",
    "        segment = dataframe.filter((dataframe.id >= aRange[0]) & (dataframe.id <= aRange[1]))\n",
    "        segments.append(segment)\n",
    "    return segments\n",
    "\n",
    "#---------------------------------------------------------------------------------------------\n",
    "def get_df_range_from_id(id_col_name, df, from_num, to_num):\n",
    "    return df.filter((df['idx'] <= to_num) & (df['idx'] >= from_num))\n",
    "#---------------------------------------------------------------------------------------------\n",
    "def to_python_array(df, col_name):\n",
    "    return df.select(col_name).rdd.flatMap(lambda x: x).collect()\n",
    "#---------------------------------------------------------------------------------------------"
   ]
  },
  {
   "cell_type": "code",
   "execution_count": 7,
   "id": "393680ad-0b6f-4c4f-b066-9ea5a13ca965",
   "metadata": {},
   "outputs": [
    {
     "name": "stderr",
     "output_type": "stream",
     "text": [
      "[Stage 0:>                                                        (0 + 20) / 20]\r"
     ]
    }
   ],
   "source": [
    "withID = df.rdd.zipWithUniqueId()"
   ]
  },
  {
   "cell_type": "code",
   "execution_count": 14,
   "id": "5795c245-736f-4de7-b90d-ffdaba3b5135",
   "metadata": {},
   "outputs": [],
   "source": [
    "import pyspark.sql.functions as F\n",
    "flat = withID.toDF().select(F.col(\"_1.text\"), F.col(\"_2\").alias(\"id\"))"
   ]
  },
  {
   "cell_type": "code",
   "execution_count": 18,
   "id": "0218abee-1696-46a0-b46d-683511ae6b0f",
   "metadata": {},
   "outputs": [
    {
     "name": "stderr",
     "output_type": "stream",
     "text": [
      "                                                                                \r"
     ]
    },
    {
     "data": {
      "text/plain": [
       "121155"
      ]
     },
     "execution_count": 18,
     "metadata": {},
     "output_type": "execute_result"
    }
   ],
   "source": [
    "flat.count()"
   ]
  },
  {
   "cell_type": "code",
   "execution_count": 24,
   "id": "3de6974a-7fa6-40e2-949c-def076ec88d2",
   "metadata": {
    "collapsed": true,
    "jupyter": {
     "outputs_hidden": true
    },
    "tags": []
   },
   "outputs": [
    {
     "name": "stdout",
     "output_type": "stream",
     "text": [
      "+--------------------------------------------------------------------------------------------------------------------------------------------------------------------------------------------------------------------------------------------+----+\n",
      "|text                                                                                                                                                                                                                                        |id  |\n",
      "+--------------------------------------------------------------------------------------------------------------------------------------------------------------------------------------------------------------------------------------------+----+\n",
      "|ia juga merupakan antara salah satu komun daripada buah komun yang terdapat di niger                                                                                                                                                        |0   |\n",
      "|interpersonal kemahiran antara perorangan atau kemahiran interpersonal merujuk kepada algoritma mental dan berkomunikasi yang digunakan semasa komunikasi dan interaksi sosial untuk mencapai kesan atau keputusan tertentu                 |74  |\n",
      "|sekolah ini dikendalikan oleh local authority di bawah district council                                                                                                                                                                     |148 |\n",
      "|huriel ialah komun di jabatan allier di auvergne di tengah perancis                                                                                                                                                                         |222 |\n",
      "|sekolah kebangsaan felda pasir besar km jalan palong gemas negeri sembilan malaysia telefon felda pasir besar felda pasir besar                                                                                                             |296 |\n",
      "|kampung tungku ialah sebuah kampung dalam mukim gadong a di daerah brunei muara brunei                                                                                                                                                      |370 |\n",
      "|pada tahun belanda membangunkan kota taman menteng dan wilayah ini menjadi tempat baru untuk pembesar belanda menggantikan molenvliet di utara                                                                                              |444 |\n",
      "|zokoguhé merupakan sebuah bandar dan komun yang terletak di ivory coast                                                                                                                                                                     |518 |\n",
      "|sekolah kebangsaan pelabuhan atau nama ringkasnya sk pelabuhan merupakan sebuah sekolah kebangsaan yang terletak di kawasan perumahan balok makmur                                                                                          |592 |\n",
      "|kərəviz merupakan sebuah kampung yang terletak di daerah lachin azerbaijan                                                                                                                                                                  |666 |\n",
      "|kelab ini merancang untuk mengendalikan beberapa sekolah bola sepak di luar terengganu pada tahun                                                                                                                                           |740 |\n",
      "|batas pinggir bandar yang lain termasuk darlinghurst road di sebelah tenggara william street di selatan brougham street dan sebahagian cowper road di sebelah barat                                                                         |814 |\n",
      "|ialah komun di jabatan manche di baratlaut perancis                                                                                                                                                                                         |888 |\n",
      "|kampung alor jambu boleh merujuk pada beberapa perkara antaranya kampung alor jambu terengganu kampung alor jambu bachok kelantan                                                                                                           |962 |\n",
      "|la chapellesaintlaurent ialah komun di jabatan deuxsèvres di poitou charente di barat perancis                                                                                                                                              |1036|\n",
      "|ialah komun di jabatan meurtheetmoselle di timurlaut perancis                                                                                                                                                                               |1110|\n",
      "|terjatuh dalam lubang jambatan kampung nyior kembar dekat sini                                                                                                                                                                              |1184|\n",
      "|majlis daerah simpang renggam pada asalnya ditubuhkan sebagai majlis daerah kluang selatan di mana pengistiharan sebagai majlis daerah simpang renggam adalah pada januari                                                                  |1258|\n",
      "|daerah bardejov okres bardejov merupakan sebuah daerah yang terletak di wilayah prešov bahagian timur slovakia                                                                                                                              |1332|\n",
      "|daerahdaerah ini pula dibahagikan kepada kawasan umum tambon dan buah kampung muban                                                                                                                                                         |1406|\n",
      "|tujuh lebuh raya mempunyai ciri ini yang paling ketara adalah lebuhraya utaraselatan                                                                                                                                                        |1480|\n",
      "|ia mempunyai seramai orang gurujanuari sekolah kebangsaan nibong kampung nibong kuala berang terengganu darul iman malaysia telefon sekolah kebangsaan nibong nibong nibong                                                                 |1554|\n",
      "|longuessurmer ialah komun di jabatan calvados di wilayah bassenormandie di baratlaut perancis                                                                                                                                               |1628|\n",
      "|komun di jabatan saôneetloire insee                                                                                                                                                                                                         |1702|\n",
      "|shaffie sebagai pelaku dia tidak hanya tempattempat penting dalam pencapaian akademik tetapi juga pada perbaikan fizikal bangunan sekolahpembantu senior room bilik operasi kantin sekolah gerbang serta tandas guru                        |1776|\n",
      "|sekolah kebangsaan bukit hijau atau nama ringkasnya sk bukit hijau merupakan sebuah sekolah sekolah rendah yang terletak di kedah                                                                                                           |1850|\n",
      "|kantha chora merupakan sebuah kampung yang terletak di bangladesh                                                                                                                                                                           |1924|\n",
      "|kerobokan sawan kerobokan merupakan sebuah desa kelurahan yang terletak dalam daerah kecamatan sawan kabupaten buleleng wilayah bali indonesia                                                                                              |1998|\n",
      "|selepas dibunuh mayat mereka telah dihumban ke dalam satu lubang di kampung kijang pantai semut api kota bahru kelantan                                                                                                                     |2072|\n",
      "|daerah hodonín wilayah moravia selatan ini diterjemahkan daripada wikipedia bahasa czech                                                                                                                                                    |2146|\n",
      "|daerah bánovce nad bebravou wilayah trenčín ini diterjemahkan daripada wikipedia bahasa slovak                                                                                                                                              |2220|\n",
      "|champniers ialah komun di jabatan charente di baratdaya perancis                                                                                                                                                                            |2294|\n",
      "|terdapat buah desa di dalam daerah kecamatan banyusari                                                                                                                                                                                      |2368|\n",
      "|corpus delicti badan jenayah adalah istilah dari jurisprudens barat yang merujukkan kepada prinsip yang ia harus dibuktikan bahawa sebarang jenayah telah wujud sebelum seorang dapat disabitkan kesalahan kepada perbuatan jenayah tersebut|2442|\n",
      "|manikebu dianggap sebagai saingan oleh persatuan penulis komunis lembaga kebudajaan rakjat lekra yang dipimpin oleh pramoedya ananta toer                                                                                                   |2516|\n",
      "|villiersleshauts ialah sebuah komun di perancis yang terletak di jabatan yonne dalam wilayah bourgogne                                                                                                                                      |2590|\n",
      "|iborfia merupakan sebuah kampung yang terletak di wilayah zala barat hungaryhungarian central statistical office wilayah zala street map hungarian                                                                                          |2664|\n",
      "|camino al tagliamento merupakan sebuah komun yang terletak di daerah friuli venezia giulia udine itali                                                                                                                                      |2738|\n",
      "|pemberontakan mat salleh merupakan kekacauan bersenjata besar yang berturut turut menentang pentadbiran syarikat berpiagam borneo utara british di borneo utara kini negeri sabah malaysia                                                  |2812|\n",
      "|isola del giglio merupakan sebuah komun yang terletak di daerah tuscany grosseto itali                                                                                                                                                      |2886|\n",
      "|pruillé ialah sebuah komun yang terletak di jabatan maineetloire dalam wilayah pays de la loire di barat perancis                                                                                                                           |2960|\n",
      "|rosli memulakan kerjayanya sebagai guru dan berhenti kerja pada tahun untuk mengajar di sekolah rakyat sibu                                                                                                                                 |3034|\n",
      "|selain bangunan berbentuk you dan rumah guru yang didirikan di kawasan sekolah ini pada peringkat awalnya terdapat juga sebuah padang permainan dan kebun pertanian untuk kegunaan muridmurid sekolah pada ketika itu                       |3108|\n",
      "|kampung merigi adalah sebuah kawasan perkampungan yang terletak dalam daerah segamat johor                                                                                                                                                  |3182|\n",
      "|kampung hutan melintang merupakan sebuah kampung yang terletak di kangar dalam negeri perlis indera kayangan iaitu negeri paling utara di malaysia dan yang bersempadan dengan negara thailand                                              |3256|\n",
      "|xuanzang terus ke arah utara dan menuju ke lembah buner sebelum kembali melalui shabaz gharni untuk menyeberangi sungai indus di hund                                                                                                       |3330|\n",
      "|tungru merupakan sebuah kawasan perkampungan yang terletak di dalam tibet di china                                                                                                                                                          |3404|\n",
      "|torre monumental menara monumen dan sebelum tahun torre de los ingleses menara orang inggeris adalah sebuah menara jam yang terletak di daerah barrio dari retiro buenos aires argentina                                                    |3478|\n",
      "|bone ialah sebuah daerah autonomi yang terletak di sulawesi selatan indonesia                                                                                                                                                               |3552|\n",
      "|sebutan portugis ialah tetapi dalam inggeris ia biasanya seperti atau daerah penghu daerah penghu ditadbir oleh kerajaan daerah penghu yang diketuai oleh majistret wang chienfa dan beribu penjabat di dewan daerah penghu                 |3626|\n",
      "|laleu ialah sebuah komun di jabatan orne di baratlaut perancis                                                                                                                                                                              |3700|\n",
      "|berdasarkan cinemascore filem ini mendapat nilai a dari penonton filem untuk skala a hingga f filem ini meraih di amerika utara dan di negara lain                                                                                          |3774|\n",
      "|beliau pernah menjadi yang dipertua majlis perbandaran subang jaya timbalan pegawai kewangan negeri selangor penolong pegawai daerah pembangunan raub dan penolong pengarah anggaran bahagian perjawatan di jabatan perkhidmatan awam       |3848|\n",
      "|di sebelah barat stesen adalah kawasan perindustrian taman perindustrian puchong manakala di sebelah timur stesen adalah kawasan perniagaan bandar puteri                                                                                   |3922|\n",
      "|roeser merupakan sebuah bandar dan komun yang terletak di dalam negara luxembourg                                                                                                                                                           |3996|\n",
      "|gez ialah komun di jabatan hautespyrénées di baratdaya perancis                                                                                                                                                                             |4070|\n",
      "|merupakan sebuah kawasan perbandaran terletak di daerah vulkaneifel rhinelandpalatinate jerman                                                                                                                                              |4144|\n",
      "|ia dinamakan sebagai palong timur kerana lokasinya di sebelah timur serta termasuk di dalam daerah segamat                                                                                                                                  |4218|\n",
      "|ouled ammar merupakan sebuah komun yang terletak di wilayah batna algeriastatoids                                                                                                                                                           |4292|\n",
      "|kampung sungai radang ialah sebuah kampung dalam mukim batu apoi di daerah temburong brunei                                                                                                                                                 |4366|\n",
      "|arese merupakan sebuah komun yang terletak di daerah lombardy milan itali                                                                                                                                                                   |4440|\n",
      "|mijares merupakan sebuah kawasan perbandaran di sepanyol di ávila di komuniti autonomi castile dan león                                                                                                                                     |4514|\n",
      "|kotaraja merupakan sebuah desa yang terletak dalam daerah kecamatan dulupi kabupaten boalemo provinsi gorontalo indonesia                                                                                                                   |4588|\n",
      "|pada sekolah kebangsaan pekan kinarut memiliki pelajar lelaki dan pelajar perempuan menjadikan jumlah keseluruhan murid seramai orang                                                                                                       |4662|\n",
      "|pada sdn utan kayu utara pagi memiliki pelajar lelaki dan pelajar perempuan menjadikan jumlah keseluruhan murid seramai orang                                                                                                               |4736|\n",
      "|lhok kuyun merupakan sebuah gampong yang terletak di kecamatan sawang kabupaten aceh utara provinsi aceh indonesia                                                                                                                          |4810|\n",
      "|guar kepayang merupakan sebuah mukim yang terletak di daerah pendang kedah malaysia                                                                                                                                                         |4884|\n",
      "|terdapat buah desa di dalam daerah kecamatan naringgul                                                                                                                                                                                      |4958|\n",
      "|pada tahun foshan dinaikkan ke sebuah bandar raya peringkat tinggi dengan bekas terasnya menjadi daerah chancheng yang baru tetapi kehilangan separuh barat daya wilayah bekasnya ke jiangmen                                               |5032|\n",
      "|ialah sebuah komun yang terletak di komun somme di picardie di utara perancis                                                                                                                                                               |5106|\n",
      "|lobodice merupakan sebuah kampung dan kawasan perbandaran yang terletak di daerah přerov wilayah olomouc republik czech                                                                                                                     |5180|\n",
      "|poskod yang digunakan di kampung pengkalan datu bachok kelantan adalah carian poskod lokasi kampung pengkalan datu di peta google pengkalan datu                                                                                            |5254|\n",
      "|sekolah kebangsaan kampong banting jln masjid kg banting selangor malaysia telefon kampong banting kampong banting                                                                                                                          |5328|\n",
      "|merupakan sebuah kawasan perbandaran terletak di daerah westerwaldkreis rhinelandpalatinate jerman                                                                                                                                          |5402|\n",
      "|kampung kepulau merupakan sebuah kampung yang terletak di wakaf bharu dalam negeri kelantan darul naim iaitu sebuah negeri di utara malaysia                                                                                                |5476|\n",
      "|terdapat buah desa di dalam daerah kecamatan cibugel                                                                                                                                                                                        |5550|\n",
      "|ianya menyediakan perkhidmatan penjagaan kesihatan umum bagi penduduk kampungkampung di bawah mukim telisai                                                                                                                                 |5624|\n",
      "|saat utara dan longitud darjah minit                                                                                                                                                                                                        |5698|\n",
      "|cetbang juga ditemukan pantai dundee wilayah utara australia pada januari tahun dikenal sebagai dundee beach swivel gun                                                                                                                     |5772|\n",
      "|sekolah kebangsaan limpoon atau nama ringkasnya sk limpoon merupakan sebuah sekolah kebangsaan yang terletak di sk                                                                                                                          |5846|\n",
      "|sperrebotn merupakan sebuah kampung yang terletak di dalam negara norway                                                                                                                                                                    |5920|\n",
      "|sekolah ini dibina atas tanah kepunyaan tengku sulong tetapi kemudiannya dipindahkan ke tapak sekarang ini                                                                                                                                  |5994|\n",
      "|pada tahun dua unit runah guru siap dibina dalam kawasan sekolah                                                                                                                                                                            |6068|\n",
      "|sekolah kebangsaan lemoi atau nama ringkasnya sk lemoi merupakan sebuah sekolah kebangsaan yang terletak di jheoa d a ppd cameron highlands                                                                                                 |6142|\n",
      "|kerana tekanan hasil pengaruh sf yang berkembang kerajaan persekutuan perikatan telah berusaha menjatuhkannya melalui propaganda mengaitkan sosialisma dengan komunisma dan mendakwanya antiagama                                           |6216|\n",
      "|komun di jabatan nièvre                                                                                                                                                                                                                     |6290|\n",
      "|melatiwangi merupakan sebuah desa yang terletak dalam daerah kecamatan cilengkrang kabupaten bandung provinsi jawa barat indonesia                                                                                                          |6364|\n",
      "|halongonan merupakan sebuah kecamatan yang terletak di kabupaten padang lawas utara sumatera utara indonesia                                                                                                                                |6438|\n",
      "|merupakan sebuah daerah yang terletak di wilayah kyzylorda kazakhstan                                                                                                                                                                       |6512|\n",
      "|terdapat buah desa di dalam daerah kecamatan limboto                                                                                                                                                                                        |6586|\n",
      "|pada sekolah kebangsaan sri subang jaya memiliki pelajar lelaki dan pelajar perempuan menjadikan jumlah keseluruhan murid seramai orang                                                                                                     |6660|\n",
      "|kerubut emas australia barat senarai tempat warisan di fremantle senarai bangunan yang direka oleh talbot hobbs                                                                                                                             |6734|\n",
      "|terdapat buah desa di dalam daerah kecamatan lebong selatan                                                                                                                                                                                 |6808|\n",
      "|sindangkarya merupakan sebuah desa yang terletak dalam daerah kecamatan menes kabupaten pandeglang provinsi banten indonesia                                                                                                                |6882|\n",
      "|pada tahun sebahagian besar wilayah barat laut menjadi wilayah saskatchewan dan alberta                                                                                                                                                     |6956|\n",
      "|bumirejo merupakan sebuah desa di kecamatan lendah kulon progo daerah istimewa yogyakarta indonesia                                                                                                                                         |7030|\n",
      "|walau bagaimanapun pada tahun bilangan ini telah dilepasi oleh daerah la mesa tijuana yang merupakan rumah kepada kirakira pendatang cina dan orangorang keturunan cina                                                                     |7104|\n",
      "|sendangarum merupakan sebuah desa yang terletak di kecamatan minggir sleman daerah istimewa yogyakarta indonesia                                                                                                                            |7178|\n",
      "|merupakan sebuah komun di jabatan pyrénéesatlantiques di baratdaya perancis                                                                                                                                                                 |7252|\n",
      "|piccadilly adalah sebuah jalan utama di london memanjang dari hyde park corner di barat ke piccadilly circus di timur                                                                                                                       |7326|\n",
      "+--------------------------------------------------------------------------------------------------------------------------------------------------------------------------------------------------------------------------------------------+----+\n",
      "only showing top 100 rows\n",
      "\n"
     ]
    }
   ],
   "source": [
    "flat.show(100, False)\n",
    "\n",
    "\n",
    "# 🆂🅰🅼🅿🅻🅴\n",
    "### CLICK HERE TO SHOW THE DATAFRAME ASSIGNED WITH THE ID"
   ]
  },
  {
   "cell_type": "code",
   "execution_count": 26,
   "id": "13c1f1c1-6eca-4c2c-b406-5d090194e7c1",
   "metadata": {
    "collapsed": true,
    "jupyter": {
     "outputs_hidden": true
    },
    "tags": []
   },
   "outputs": [
    {
     "name": "stdout",
     "output_type": "stream",
     "text": [
      "1 1000\n",
      "1001 2000\n",
      "2001 3000\n",
      "3001 4000\n",
      "4001 5000\n",
      "5001 6000\n",
      "6001 7000\n",
      "7001 8000\n",
      "8001 9000\n",
      "9001 10000\n",
      "10001 11000\n",
      "11001 12000\n",
      "12001 13000\n",
      "13001 14000\n",
      "14001 15000\n",
      "15001 16000\n",
      "16001 17000\n",
      "17001 18000\n",
      "18001 19000\n",
      "19001 20000\n",
      "20001 21000\n",
      "21001 22000\n",
      "22001 23000\n",
      "23001 24000\n",
      "24001 25000\n",
      "25001 26000\n",
      "26001 27000\n",
      "27001 28000\n",
      "28001 29000\n",
      "29001 30000\n",
      "30001 31000\n",
      "31001 32000\n",
      "32001 33000\n",
      "33001 34000\n",
      "34001 35000\n",
      "35001 36000\n",
      "36001 37000\n",
      "37001 38000\n",
      "38001 39000\n",
      "39001 40000\n",
      "40001 41000\n",
      "41001 42000\n",
      "42001 43000\n",
      "43001 44000\n",
      "44001 45000\n",
      "45001 46000\n",
      "46001 47000\n",
      "47001 48000\n",
      "48001 49000\n",
      "49001 50000\n",
      "50001 51000\n",
      "51001 52000\n",
      "52001 53000\n",
      "53001 54000\n",
      "54001 55000\n",
      "55001 56000\n",
      "56001 57000\n",
      "57001 58000\n",
      "58001 59000\n",
      "59001 60000\n",
      "60001 61000\n",
      "61001 62000\n",
      "62001 63000\n",
      "63001 64000\n",
      "64001 65000\n",
      "65001 66000\n",
      "66001 67000\n",
      "67001 68000\n",
      "68001 69000\n",
      "69001 70000\n",
      "70001 71000\n",
      "71001 72000\n",
      "72001 73000\n",
      "73001 74000\n",
      "74001 75000\n",
      "75001 76000\n",
      "76001 77000\n",
      "77001 78000\n",
      "78001 79000\n",
      "79001 80000\n",
      "80001 81000\n",
      "81001 82000\n",
      "82001 83000\n",
      "83001 84000\n",
      "84001 85000\n",
      "85001 86000\n",
      "86001 87000\n",
      "87001 88000\n",
      "88001 89000\n",
      "89001 90000\n",
      "90001 91000\n",
      "91001 92000\n",
      "92001 93000\n",
      "93001 94000\n",
      "94001 95000\n",
      "95001 96000\n",
      "96001 97000\n",
      "97001 98000\n",
      "98001 99000\n",
      "99001 100000\n",
      "100001 101000\n",
      "101001 102000\n",
      "102001 103000\n",
      "103001 104000\n",
      "104001 105000\n",
      "105001 106000\n",
      "106001 107000\n",
      "107001 108000\n",
      "108001 109000\n",
      "109001 110000\n",
      "110001 111000\n",
      "111001 112000\n",
      "112001 113000\n",
      "113001 114000\n",
      "114001 115000\n",
      "115001 116000\n",
      "116001 117000\n",
      "117001 118000\n",
      "118001 119000\n",
      "119001 120000\n",
      "120001 121000\n",
      "121001 122000\n",
      "122001 123000\n"
     ]
    }
   ],
   "source": [
    "segArr = []\n",
    "count = 999\n",
    "fromI = 1\n",
    "endI = 1+count\n",
    "\n",
    "for i in range(123):\n",
    "    temp = flat.filter( (flat.id >= fromI) & (flat.id <= endI))\n",
    "    print(str(fromI) + \" \" + str(endI))\n",
    "    segArr.append(temp)\n",
    "    fromI = fromI + count + 1\n",
    "    endI = fromI+count"
   ]
  },
  {
   "cell_type": "code",
   "execution_count": 27,
   "id": "332394b7-c27c-412b-8a49-301b40c32cf2",
   "metadata": {},
   "outputs": [
    {
     "name": "stderr",
     "output_type": "stream",
     "text": [
      "                                                                                \r"
     ]
    }
   ],
   "source": [
    "for i in range(123):\n",
    "    write_avro(segArr[i], f\"IN/{i}.avro\")"
   ]
  },
  {
   "cell_type": "code",
   "execution_count": 28,
   "id": "7e4bdd1c-f0bb-46a1-a856-2e8a57236059",
   "metadata": {},
   "outputs": [],
   "source": [
    "df = read_avro(\"IN/1.avro\")"
   ]
  },
  {
   "cell_type": "code",
   "execution_count": 29,
   "id": "32149b2a-0672-40d2-9a63-9189021cf286",
   "metadata": {
    "collapsed": true,
    "jupyter": {
     "outputs_hidden": true
    },
    "tags": []
   },
   "outputs": [
    {
     "name": "stderr",
     "output_type": "stream",
     "text": [
      "2022-10-06 05:20:46.087944: I tensorflow/core/platform/cpu_feature_guard.cc:193] This TensorFlow binary is optimized with oneAPI Deep Neural Network Library (oneDNN) to use the following CPU instructions in performance-critical operations:  AVX2 FMA\n",
      "To enable them in other operations, rebuild TensorFlow with the appropriate compiler flags.\n",
      "2022-10-06 05:20:48.393627: W tensorflow/stream_executor/platform/default/dso_loader.cc:64] Could not load dynamic library 'libcudart.so.11.0'; dlerror: libcudart.so.11.0: cannot open shared object file: No such file or directory\n",
      "2022-10-06 05:20:48.393655: I tensorflow/stream_executor/cuda/cudart_stub.cc:29] Ignore above cudart dlerror if you do not have a GPU set up on your machine.\n",
      "2022-10-06 05:20:48.578250: E tensorflow/stream_executor/cuda/cuda_blas.cc:2981] Unable to register cuBLAS factory: Attempting to register factory for plugin cuBLAS when one has already been registered\n",
      "2022-10-06 05:20:55.106868: W tensorflow/stream_executor/platform/default/dso_loader.cc:64] Could not load dynamic library 'libnvinfer.so.7'; dlerror: libnvinfer.so.7: cannot open shared object file: No such file or directory\n",
      "2022-10-06 05:20:55.106951: W tensorflow/stream_executor/platform/default/dso_loader.cc:64] Could not load dynamic library 'libnvinfer_plugin.so.7'; dlerror: libnvinfer_plugin.so.7: cannot open shared object file: No such file or directory\n",
      "2022-10-06 05:20:55.106961: W tensorflow/compiler/tf2tensorrt/utils/py_utils.cc:38] TF-TRT Warning: Cannot dlopen some TensorRT libraries. If you would like to use Nvidia GPU with TensorRT, please make sure the missing libraries mentioned above are installed properly.\n",
      "/home/pc/anaconda3/envs/conda_env/lib/python3.7/site-packages/malaya_boilerplate/frozen_graph.py:36: UserWarning: Cannot import beam_search_ops from Tensorflow Addons, ['malaya.jawi_rumi.deep_model', 'malaya.phoneme.deep_model', 'malaya.rumi_jawi.deep_model', 'malaya.stem.deep_model'] will not available to use, make sure Tensorflow Addons version >= 0.12.0\n",
      "  f'Cannot import beam_search_ops from Tensorflow Addons, {USED_TREE} will not available to use, make sure Tensorflow Addons version >= 0.12.0'\n",
      "/home/pc/anaconda3/envs/conda_env/lib/python3.7/site-packages/malaya_boilerplate/frozen_graph.py:39: UserWarning: check compatible Tensorflow version with Tensorflow Addons at https://github.com/tensorflow/addons/releases\n",
      "  'check compatible Tensorflow version with Tensorflow Addons at https://github.com/tensorflow/addons/releases')\n",
      "/home/pc/anaconda3/envs/conda_env/lib/python3.7/site-packages/tqdm/auto.py:22: TqdmWarning: IProgress not found. Please update jupyter and ipywidgets. See https://ipywidgets.readthedocs.io/en/stable/user_install.html\n",
      "  from .autonotebook import tqdm as notebook_tqdm\n",
      "/home/pc/anaconda3/envs/conda_env/lib/python3.7/site-packages/malaya/tokenizer.py:202: FutureWarning: Possible nested set at position 3361\n",
      "  self.tok = re.compile(r'({})'.format('|'.join(pipeline)))\n",
      "/home/pc/anaconda3/envs/conda_env/lib/python3.7/site-packages/malaya/tokenizer.py:202: FutureWarning: Possible nested set at position 3879\n",
      "  self.tok = re.compile(r'({})'.format('|'.join(pipeline)))\n",
      "2022-10-06 05:21:08.055876: I tensorflow/core/platform/cpu_feature_guard.cc:193] This TensorFlow binary is optimized with oneAPI Deep Neural Network Library (oneDNN) to use the following CPU instructions in performance-critical operations:  AVX2 FMA\n",
      "To enable them in other operations, rebuild TensorFlow with the appropriate compiler flags.\n",
      "2022-10-06 05:21:08.061230: I tensorflow/core/platform/cpu_feature_guard.cc:193] This TensorFlow binary is optimized with oneAPI Deep Neural Network Library (oneDNN) to use the following CPU instructions in performance-critical operations:  AVX2 FMA\n",
      "To enable them in other operations, rebuild TensorFlow with the appropriate compiler flags.\n",
      "2022-10-06 05:21:08.064604: I tensorflow/core/platform/cpu_feature_guard.cc:193] This TensorFlow binary is optimized with oneAPI Deep Neural Network Library (oneDNN) to use the following CPU instructions in performance-critical operations:  AVX2 FMA\n",
      "To enable them in other operations, rebuild TensorFlow with the appropriate compiler flags.\n",
      "2022-10-06 05:21:08.067387: I tensorflow/core/platform/cpu_feature_guard.cc:193] This TensorFlow binary is optimized with oneAPI Deep Neural Network Library (oneDNN) to use the following CPU instructions in performance-critical operations:  AVX2 FMA\n",
      "To enable them in other operations, rebuild TensorFlow with the appropriate compiler flags.\n",
      "2022-10-06 05:21:08.067401: I tensorflow/core/platform/cpu_feature_guard.cc:193] This TensorFlow binary is optimized with oneAPI Deep Neural Network Library (oneDNN) to use the following CPU instructions in performance-critical operations:  AVX2 FMA\n",
      "To enable them in other operations, rebuild TensorFlow with the appropriate compiler flags.\n",
      "2022-10-06 05:21:08.077790: I tensorflow/core/platform/cpu_feature_guard.cc:193] This TensorFlow binary is optimized with oneAPI Deep Neural Network Library (oneDNN) to use the following CPU instructions in performance-critical operations:  AVX2 FMA\n",
      "To enable them in other operations, rebuild TensorFlow with the appropriate compiler flags.\n",
      "2022-10-06 05:21:08.083519: I tensorflow/core/platform/cpu_feature_guard.cc:193] This TensorFlow binary is optimized with oneAPI Deep Neural Network Library (oneDNN) to use the following CPU instructions in performance-critical operations:  AVX2 FMA\n",
      "To enable them in other operations, rebuild TensorFlow with the appropriate compiler flags.\n",
      "2022-10-06 05:21:08.088807: I tensorflow/core/platform/cpu_feature_guard.cc:193] This TensorFlow binary is optimized with oneAPI Deep Neural Network Library (oneDNN) to use the following CPU instructions in performance-critical operations:  AVX2 FMA\n",
      "To enable them in other operations, rebuild TensorFlow with the appropriate compiler flags.\n",
      "2022-10-06 05:21:08.096869: I tensorflow/core/platform/cpu_feature_guard.cc:193] This TensorFlow binary is optimized with oneAPI Deep Neural Network Library (oneDNN) to use the following CPU instructions in performance-critical operations:  AVX2 FMA\n",
      "To enable them in other operations, rebuild TensorFlow with the appropriate compiler flags.\n",
      "2022-10-06 05:21:08.116294: I tensorflow/core/platform/cpu_feature_guard.cc:193] This TensorFlow binary is optimized with oneAPI Deep Neural Network Library (oneDNN) to use the following CPU instructions in performance-critical operations:  AVX2 FMA\n",
      "To enable them in other operations, rebuild TensorFlow with the appropriate compiler flags.\n",
      "2022-10-06 05:21:08.120487: I tensorflow/core/platform/cpu_feature_guard.cc:193] This TensorFlow binary is optimized with oneAPI Deep Neural Network Library (oneDNN) to use the following CPU instructions in performance-critical operations:  AVX2 FMA\n",
      "To enable them in other operations, rebuild TensorFlow with the appropriate compiler flags.\n",
      "2022-10-06 05:21:08.126526: I tensorflow/core/platform/cpu_feature_guard.cc:193] This TensorFlow binary is optimized with oneAPI Deep Neural Network Library (oneDNN) to use the following CPU instructions in performance-critical operations:  AVX2 FMA\n",
      "To enable them in other operations, rebuild TensorFlow with the appropriate compiler flags.\n",
      "2022-10-06 05:21:08.131773: I tensorflow/core/platform/cpu_feature_guard.cc:193] This TensorFlow binary is optimized with oneAPI Deep Neural Network Library (oneDNN) to use the following CPU instructions in performance-critical operations:  AVX2 FMA\n",
      "To enable them in other operations, rebuild TensorFlow with the appropriate compiler flags.\n",
      "2022-10-06 05:21:08.137825: I tensorflow/core/platform/cpu_feature_guard.cc:193] This TensorFlow binary is optimized with oneAPI Deep Neural Network Library (oneDNN) to use the following CPU instructions in performance-critical operations:  AVX2 FMA\n",
      "To enable them in other operations, rebuild TensorFlow with the appropriate compiler flags.\n",
      "2022-10-06 05:21:08.144432: I tensorflow/core/platform/cpu_feature_guard.cc:193] This TensorFlow binary is optimized with oneAPI Deep Neural Network Library (oneDNN) to use the following CPU instructions in performance-critical operations:  AVX2 FMA\n",
      "To enable them in other operations, rebuild TensorFlow with the appropriate compiler flags.\n",
      "2022-10-06 05:21:08.148764: I tensorflow/core/platform/cpu_feature_guard.cc:193] This TensorFlow binary is optimized with oneAPI Deep Neural Network Library (oneDNN) to use the following CPU instructions in performance-critical operations:  AVX2 FMA\n",
      "To enable them in other operations, rebuild TensorFlow with the appropriate compiler flags.\n",
      "2022-10-06 05:21:08.160077: I tensorflow/core/platform/cpu_feature_guard.cc:193] This TensorFlow binary is optimized with oneAPI Deep Neural Network Library (oneDNN) to use the following CPU instructions in performance-critical operations:  AVX2 FMA\n",
      "To enable them in other operations, rebuild TensorFlow with the appropriate compiler flags.\n",
      "2022-10-06 05:21:08.186813: W tensorflow/stream_executor/platform/default/dso_loader.cc:64] Could not load dynamic library 'libcudart.so.11.0'; dlerror: libcudart.so.11.0: cannot open shared object file: No such file or directory\n",
      "2022-10-06 05:21:08.186847: I tensorflow/stream_executor/cuda/cudart_stub.cc:29] Ignore above cudart dlerror if you do not have a GPU set up on your machine.\n",
      "2022-10-06 05:21:08.190093: W tensorflow/stream_executor/platform/default/dso_loader.cc:64] Could not load dynamic library 'libcudart.so.11.0'; dlerror: libcudart.so.11.0: cannot open shared object file: No such file or directory\n",
      "2022-10-06 05:21:08.190128: I tensorflow/stream_executor/cuda/cudart_stub.cc:29] Ignore above cudart dlerror if you do not have a GPU set up on your machine.\n",
      "2022-10-06 05:21:08.203351: W tensorflow/stream_executor/platform/default/dso_loader.cc:64] Could not load dynamic library 'libcudart.so.11.0'; dlerror: libcudart.so.11.0: cannot open shared object file: No such file or directory\n",
      "2022-10-06 05:21:08.203384: I tensorflow/stream_executor/cuda/cudart_stub.cc:29] Ignore above cudart dlerror if you do not have a GPU set up on your machine.\n",
      "2022-10-06 05:21:08.209416: W tensorflow/stream_executor/platform/default/dso_loader.cc:64] Could not load dynamic library 'libcudart.so.11.0'; dlerror: libcudart.so.11.0: cannot open shared object file: No such file or directory\n",
      "2022-10-06 05:21:08.209452: I tensorflow/stream_executor/cuda/cudart_stub.cc:29] Ignore above cudart dlerror if you do not have a GPU set up on your machine.\n",
      "2022-10-06 05:21:08.210299: W tensorflow/stream_executor/platform/default/dso_loader.cc:64] Could not load dynamic library 'libcudart.so.11.0'; dlerror: libcudart.so.11.0: cannot open shared object file: No such file or directory\n",
      "2022-10-06 05:21:08.210334: I tensorflow/stream_executor/cuda/cudart_stub.cc:29] Ignore above cudart dlerror if you do not have a GPU set up on your machine.\n",
      "2022-10-06 05:21:08.215353: W tensorflow/stream_executor/platform/default/dso_loader.cc:64] Could not load dynamic library 'libcudart.so.11.0'; dlerror: libcudart.so.11.0: cannot open shared object file: No such file or directory\n",
      "2022-10-06 05:21:08.215385: I tensorflow/stream_executor/cuda/cudart_stub.cc:29] Ignore above cudart dlerror if you do not have a GPU set up on your machine.\n",
      "2022-10-06 05:21:08.221388: W tensorflow/stream_executor/platform/default/dso_loader.cc:64] Could not load dynamic library 'libcudart.so.11.0'; dlerror: libcudart.so.11.0: cannot open shared object file: No such file or directory\n",
      "2022-10-06 05:21:08.221426: I tensorflow/stream_executor/cuda/cudart_stub.cc:29] Ignore above cudart dlerror if you do not have a GPU set up on your machine.\n",
      "2022-10-06 05:21:08.223563: E tensorflow/stream_executor/cuda/cuda_blas.cc:2981] Unable to register cuBLAS factory: Attempting to register factory for plugin cuBLAS when one has already been registered\n",
      "2022-10-06 05:21:08.232307: E tensorflow/stream_executor/cuda/cuda_blas.cc:2981] Unable to register cuBLAS factory: Attempting to register factory for plugin cuBLAS when one has already been registered\n",
      "2022-10-06 05:21:08.236431: E tensorflow/stream_executor/cuda/cuda_blas.cc:2981] Unable to register cuBLAS factory: Attempting to register factory for plugin cuBLAS when one has already been registered\n",
      "2022-10-06 05:21:08.238794: W tensorflow/stream_executor/platform/default/dso_loader.cc:64] Could not load dynamic library 'libcudart.so.11.0'; dlerror: libcudart.so.11.0: cannot open shared object file: No such file or directory\n",
      "2022-10-06 05:21:08.238831: I tensorflow/stream_executor/cuda/cudart_stub.cc:29] Ignore above cudart dlerror if you do not have a GPU set up on your machine.\n",
      "2022-10-06 05:21:08.242636: E tensorflow/stream_executor/cuda/cuda_blas.cc:2981] Unable to register cuBLAS factory: Attempting to register factory for plugin cuBLAS when one has already been registered\n",
      "2022-10-06 05:21:08.243909: W tensorflow/stream_executor/platform/default/dso_loader.cc:64] Could not load dynamic library 'libcudart.so.11.0'; dlerror: libcudart.so.11.0: cannot open shared object file: No such file or directory\n",
      "2022-10-06 05:21:08.243939: I tensorflow/stream_executor/cuda/cudart_stub.cc:29] Ignore above cudart dlerror if you do not have a GPU set up on your machine.\n",
      "2022-10-06 05:21:08.244026: E tensorflow/stream_executor/cuda/cuda_blas.cc:2981] Unable to register cuBLAS factory: Attempting to register factory for plugin cuBLAS when one has already been registered\n",
      "2022-10-06 05:21:08.248227: E tensorflow/stream_executor/cuda/cuda_blas.cc:2981] Unable to register cuBLAS factory: Attempting to register factory for plugin cuBLAS when one has already been registered\n",
      "2022-10-06 05:21:08.250913: W tensorflow/stream_executor/platform/default/dso_loader.cc:64] Could not load dynamic library 'libcudart.so.11.0'; dlerror: libcudart.so.11.0: cannot open shared object file: No such file or directory\n",
      "2022-10-06 05:21:08.250948: I tensorflow/stream_executor/cuda/cudart_stub.cc:29] Ignore above cudart dlerror if you do not have a GPU set up on your machine.\n",
      "2022-10-06 05:21:08.252484: W tensorflow/stream_executor/platform/default/dso_loader.cc:64] Could not load dynamic library 'libcudart.so.11.0'; dlerror: libcudart.so.11.0: cannot open shared object file: No such file or directory\n",
      "2022-10-06 05:21:08.252508: I tensorflow/stream_executor/cuda/cudart_stub.cc:29] Ignore above cudart dlerror if you do not have a GPU set up on your machine.\n",
      "2022-10-06 05:21:08.254485: E tensorflow/stream_executor/cuda/cuda_blas.cc:2981] Unable to register cuBLAS factory: Attempting to register factory for plugin cuBLAS when one has already been registered\n",
      "2022-10-06 05:21:08.261125: W tensorflow/stream_executor/platform/default/dso_loader.cc:64] Could not load dynamic library 'libcudart.so.11.0'; dlerror: libcudart.so.11.0: cannot open shared object file: No such file or directory\n",
      "2022-10-06 05:21:08.261155: I tensorflow/stream_executor/cuda/cudart_stub.cc:29] Ignore above cudart dlerror if you do not have a GPU set up on your machine.\n",
      "2022-10-06 05:21:08.268723: W tensorflow/stream_executor/platform/default/dso_loader.cc:64] Could not load dynamic library 'libcudart.so.11.0'; dlerror: libcudart.so.11.0: cannot open shared object file: No such file or directory\n",
      "2022-10-06 05:21:08.268765: I tensorflow/stream_executor/cuda/cudart_stub.cc:29] Ignore above cudart dlerror if you do not have a GPU set up on your machine.\n",
      "2022-10-06 05:21:08.270905: W tensorflow/stream_executor/platform/default/dso_loader.cc:64] Could not load dynamic library 'libcudart.so.11.0'; dlerror: libcudart.so.11.0: cannot open shared object file: No such file or directory\n",
      "2022-10-06 05:21:08.270935: I tensorflow/stream_executor/cuda/cudart_stub.cc:29] Ignore above cudart dlerror if you do not have a GPU set up on your machine.\n",
      "2022-10-06 05:21:08.271910: E tensorflow/stream_executor/cuda/cuda_blas.cc:2981] Unable to register cuBLAS factory: Attempting to register factory for plugin cuBLAS when one has already been registered\n",
      "2022-10-06 05:21:08.275470: E tensorflow/stream_executor/cuda/cuda_blas.cc:2981] Unable to register cuBLAS factory: Attempting to register factory for plugin cuBLAS when one has already been registered\n",
      "2022-10-06 05:21:08.283505: E tensorflow/stream_executor/cuda/cuda_blas.cc:2981] Unable to register cuBLAS factory: Attempting to register factory for plugin cuBLAS when one has already been registered\n",
      "2022-10-06 05:21:08.292022: W tensorflow/stream_executor/platform/default/dso_loader.cc:64] Could not load dynamic library 'libcudart.so.11.0'; dlerror: libcudart.so.11.0: cannot open shared object file: No such file or directory\n",
      "2022-10-06 05:21:08.292055: I tensorflow/stream_executor/cuda/cudart_stub.cc:29] Ignore above cudart dlerror if you do not have a GPU set up on your machine.\n",
      "2022-10-06 05:21:08.293837: W tensorflow/stream_executor/platform/default/dso_loader.cc:64] Could not load dynamic library 'libcudart.so.11.0'; dlerror: libcudart.so.11.0: cannot open shared object file: No such file or directory\n",
      "2022-10-06 05:21:08.293863: I tensorflow/stream_executor/cuda/cudart_stub.cc:29] Ignore above cudart dlerror if you do not have a GPU set up on your machine.\n",
      "2022-10-06 05:21:08.295144: E tensorflow/stream_executor/cuda/cuda_blas.cc:2981] Unable to register cuBLAS factory: Attempting to register factory for plugin cuBLAS when one has already been registered\n",
      "2022-10-06 05:21:08.295610: E tensorflow/stream_executor/cuda/cuda_blas.cc:2981] Unable to register cuBLAS factory: Attempting to register factory for plugin cuBLAS when one has already been registered\n",
      "2022-10-06 05:21:08.296025: W tensorflow/stream_executor/platform/default/dso_loader.cc:64] Could not load dynamic library 'libcudart.so.11.0'; dlerror: libcudart.so.11.0: cannot open shared object file: No such file or directory\n",
      "2022-10-06 05:21:08.296044: I tensorflow/stream_executor/cuda/cudart_stub.cc:29] Ignore above cudart dlerror if you do not have a GPU set up on your machine.\n",
      "2022-10-06 05:21:08.302406: E tensorflow/stream_executor/cuda/cuda_blas.cc:2981] Unable to register cuBLAS factory: Attempting to register factory for plugin cuBLAS when one has already been registered\n",
      "2022-10-06 05:21:08.305220: E tensorflow/stream_executor/cuda/cuda_blas.cc:2981] Unable to register cuBLAS factory: Attempting to register factory for plugin cuBLAS when one has already been registered\n",
      "2022-10-06 05:21:08.327754: I tensorflow/core/platform/cpu_feature_guard.cc:193] This TensorFlow binary is optimized with oneAPI Deep Neural Network Library (oneDNN) to use the following CPU instructions in performance-critical operations:  AVX2 FMA\n",
      "To enable them in other operations, rebuild TensorFlow with the appropriate compiler flags.\n",
      "2022-10-06 05:21:08.328492: E tensorflow/stream_executor/cuda/cuda_blas.cc:2981] Unable to register cuBLAS factory: Attempting to register factory for plugin cuBLAS when one has already been registered\n",
      "2022-10-06 05:21:08.339488: E tensorflow/stream_executor/cuda/cuda_blas.cc:2981] Unable to register cuBLAS factory: Attempting to register factory for plugin cuBLAS when one has already been registered\n",
      "2022-10-06 05:21:08.349096: E tensorflow/stream_executor/cuda/cuda_blas.cc:2981] Unable to register cuBLAS factory: Attempting to register factory for plugin cuBLAS when one has already been registered\n",
      "2022-10-06 05:21:08.361597: I tensorflow/core/platform/cpu_feature_guard.cc:193] This TensorFlow binary is optimized with oneAPI Deep Neural Network Library (oneDNN) to use the following CPU instructions in performance-critical operations:  AVX2 FMA\n",
      "To enable them in other operations, rebuild TensorFlow with the appropriate compiler flags.\n",
      "2022-10-06 05:21:08.401109: I tensorflow/core/platform/cpu_feature_guard.cc:193] This TensorFlow binary is optimized with oneAPI Deep Neural Network Library (oneDNN) to use the following CPU instructions in performance-critical operations:  AVX2 FMA\n",
      "To enable them in other operations, rebuild TensorFlow with the appropriate compiler flags.\n",
      "2022-10-06 05:21:08.481331: W tensorflow/stream_executor/platform/default/dso_loader.cc:64] Could not load dynamic library 'libcudart.so.11.0'; dlerror: libcudart.so.11.0: cannot open shared object file: No such file or directory\n",
      "2022-10-06 05:21:08.481369: I tensorflow/stream_executor/cuda/cudart_stub.cc:29] Ignore above cudart dlerror if you do not have a GPU set up on your machine.\n",
      "2022-10-06 05:21:08.512398: W tensorflow/stream_executor/platform/default/dso_loader.cc:64] Could not load dynamic library 'libcudart.so.11.0'; dlerror: libcudart.so.11.0: cannot open shared object file: No such file or directory\n",
      "2022-10-06 05:21:08.512432: I tensorflow/stream_executor/cuda/cudart_stub.cc:29] Ignore above cudart dlerror if you do not have a GPU set up on your machine.\n",
      "2022-10-06 05:21:08.534030: E tensorflow/stream_executor/cuda/cuda_blas.cc:2981] Unable to register cuBLAS factory: Attempting to register factory for plugin cuBLAS when one has already been registered\n",
      "2022-10-06 05:21:08.553226: E tensorflow/stream_executor/cuda/cuda_blas.cc:2981] Unable to register cuBLAS factory: Attempting to register factory for plugin cuBLAS when one has already been registered\n",
      "2022-10-06 05:21:08.567274: W tensorflow/stream_executor/platform/default/dso_loader.cc:64] Could not load dynamic library 'libcudart.so.11.0'; dlerror: libcudart.so.11.0: cannot open shared object file: No such file or directory\n",
      "2022-10-06 05:21:08.567311: I tensorflow/stream_executor/cuda/cudart_stub.cc:29] Ignore above cudart dlerror if you do not have a GPU set up on your machine.\n",
      "2022-10-06 05:21:08.610185: E tensorflow/stream_executor/cuda/cuda_blas.cc:2981] Unable to register cuBLAS factory: Attempting to register factory for plugin cuBLAS when one has already been registered\n",
      "2022-10-06 05:21:08.770700: W tensorflow/stream_executor/platform/default/dso_loader.cc:64] Could not load dynamic library 'libnvinfer.so.7'; dlerror: libnvinfer.so.7: cannot open shared object file: No such file or directory\n",
      "2022-10-06 05:21:08.770771: W tensorflow/stream_executor/platform/default/dso_loader.cc:64] Could not load dynamic library 'libnvinfer_plugin.so.7'; dlerror: libnvinfer_plugin.so.7: cannot open shared object file: No such file or directory\n",
      "2022-10-06 05:21:08.770780: W tensorflow/compiler/tf2tensorrt/utils/py_utils.cc:38] TF-TRT Warning: Cannot dlopen some TensorRT libraries. If you would like to use Nvidia GPU with TensorRT, please make sure the missing libraries mentioned above are installed properly.\n",
      "2022-10-06 05:21:08.788848: W tensorflow/stream_executor/platform/default/dso_loader.cc:64] Could not load dynamic library 'libnvinfer.so.7'; dlerror: libnvinfer.so.7: cannot open shared object file: No such file or directory\n",
      "2022-10-06 05:21:08.788925: W tensorflow/stream_executor/platform/default/dso_loader.cc:64] Could not load dynamic library 'libnvinfer_plugin.so.7'; dlerror: libnvinfer_plugin.so.7: cannot open shared object file: No such file or directory\n",
      "2022-10-06 05:21:08.788935: W tensorflow/compiler/tf2tensorrt/utils/py_utils.cc:38] TF-TRT Warning: Cannot dlopen some TensorRT libraries. If you would like to use Nvidia GPU with TensorRT, please make sure the missing libraries mentioned above are installed properly.\n",
      "2022-10-06 05:21:08.803159: W tensorflow/stream_executor/platform/default/dso_loader.cc:64] Could not load dynamic library 'libnvinfer.so.7'; dlerror: libnvinfer.so.7: cannot open shared object file: No such file or directory\n",
      "2022-10-06 05:21:08.803225: W tensorflow/stream_executor/platform/default/dso_loader.cc:64] Could not load dynamic library 'libnvinfer_plugin.so.7'; dlerror: libnvinfer_plugin.so.7: cannot open shared object file: No such file or directory\n",
      "2022-10-06 05:21:08.803234: W tensorflow/compiler/tf2tensorrt/utils/py_utils.cc:38] TF-TRT Warning: Cannot dlopen some TensorRT libraries. If you would like to use Nvidia GPU with TensorRT, please make sure the missing libraries mentioned above are installed properly.\n",
      "2022-10-06 05:21:08.804958: W tensorflow/stream_executor/platform/default/dso_loader.cc:64] Could not load dynamic library 'libnvinfer.so.7'; dlerror: libnvinfer.so.7: cannot open shared object file: No such file or directory\n",
      "2022-10-06 05:21:08.805033: W tensorflow/stream_executor/platform/default/dso_loader.cc:64] Could not load dynamic library 'libnvinfer_plugin.so.7'; dlerror: libnvinfer_plugin.so.7: cannot open shared object file: No such file or directory\n",
      "2022-10-06 05:21:08.805043: W tensorflow/compiler/tf2tensorrt/utils/py_utils.cc:38] TF-TRT Warning: Cannot dlopen some TensorRT libraries. If you would like to use Nvidia GPU with TensorRT, please make sure the missing libraries mentioned above are installed properly.\n",
      "2022-10-06 05:21:08.806269: W tensorflow/stream_executor/platform/default/dso_loader.cc:64] Could not load dynamic library 'libnvinfer.so.7'; dlerror: libnvinfer.so.7: cannot open shared object file: No such file or directory\n",
      "2022-10-06 05:21:08.806331: W tensorflow/stream_executor/platform/default/dso_loader.cc:64] Could not load dynamic library 'libnvinfer_plugin.so.7'; dlerror: libnvinfer_plugin.so.7: cannot open shared object file: No such file or directory\n",
      "2022-10-06 05:21:08.806340: W tensorflow/compiler/tf2tensorrt/utils/py_utils.cc:38] TF-TRT Warning: Cannot dlopen some TensorRT libraries. If you would like to use Nvidia GPU with TensorRT, please make sure the missing libraries mentioned above are installed properly.\n",
      "2022-10-06 05:21:08.827931: W tensorflow/stream_executor/platform/default/dso_loader.cc:64] Could not load dynamic library 'libnvinfer.so.7'; dlerror: libnvinfer.so.7: cannot open shared object file: No such file or directory\n",
      "2022-10-06 05:21:08.828001: W tensorflow/stream_executor/platform/default/dso_loader.cc:64] Could not load dynamic library 'libnvinfer_plugin.so.7'; dlerror: libnvinfer_plugin.so.7: cannot open shared object file: No such file or directory\n",
      "2022-10-06 05:21:08.828065: W tensorflow/compiler/tf2tensorrt/utils/py_utils.cc:38] TF-TRT Warning: Cannot dlopen some TensorRT libraries. If you would like to use Nvidia GPU with TensorRT, please make sure the missing libraries mentioned above are installed properly.\n",
      "2022-10-06 05:21:08.829470: W tensorflow/stream_executor/platform/default/dso_loader.cc:64] Could not load dynamic library 'libnvinfer.so.7'; dlerror: libnvinfer.so.7: cannot open shared object file: No such file or directory\n",
      "2022-10-06 05:21:08.829534: W tensorflow/stream_executor/platform/default/dso_loader.cc:64] Could not load dynamic library 'libnvinfer_plugin.so.7'; dlerror: libnvinfer_plugin.so.7: cannot open shared object file: No such file or directory\n",
      "2022-10-06 05:21:08.829543: W tensorflow/compiler/tf2tensorrt/utils/py_utils.cc:38] TF-TRT Warning: Cannot dlopen some TensorRT libraries. If you would like to use Nvidia GPU with TensorRT, please make sure the missing libraries mentioned above are installed properly.\n",
      "2022-10-06 05:21:08.844662: W tensorflow/stream_executor/platform/default/dso_loader.cc:64] Could not load dynamic library 'libnvinfer.so.7'; dlerror: libnvinfer.so.7: cannot open shared object file: No such file or directory\n",
      "2022-10-06 05:21:08.844729: W tensorflow/stream_executor/platform/default/dso_loader.cc:64] Could not load dynamic library 'libnvinfer_plugin.so.7'; dlerror: libnvinfer_plugin.so.7: cannot open shared object file: No such file or directory\n",
      "2022-10-06 05:21:08.844738: W tensorflow/compiler/tf2tensorrt/utils/py_utils.cc:38] TF-TRT Warning: Cannot dlopen some TensorRT libraries. If you would like to use Nvidia GPU with TensorRT, please make sure the missing libraries mentioned above are installed properly.\n",
      "2022-10-06 05:21:08.852371: W tensorflow/stream_executor/platform/default/dso_loader.cc:64] Could not load dynamic library 'libnvinfer.so.7'; dlerror: libnvinfer.so.7: cannot open shared object file: No such file or directory\n",
      "2022-10-06 05:21:08.852439: W tensorflow/stream_executor/platform/default/dso_loader.cc:64] Could not load dynamic library 'libnvinfer_plugin.so.7'; dlerror: libnvinfer_plugin.so.7: cannot open shared object file: No such file or directory\n",
      "2022-10-06 05:21:08.852449: W tensorflow/compiler/tf2tensorrt/utils/py_utils.cc:38] TF-TRT Warning: Cannot dlopen some TensorRT libraries. If you would like to use Nvidia GPU with TensorRT, please make sure the missing libraries mentioned above are installed properly.\n",
      "2022-10-06 05:21:08.857135: W tensorflow/stream_executor/platform/default/dso_loader.cc:64] Could not load dynamic library 'libnvinfer.so.7'; dlerror: libnvinfer.so.7: cannot open shared object file: No such file or directory\n",
      "2022-10-06 05:21:08.857199: W tensorflow/stream_executor/platform/default/dso_loader.cc:64] Could not load dynamic library 'libnvinfer_plugin.so.7'; dlerror: libnvinfer_plugin.so.7: cannot open shared object file: No such file or directory\n",
      "2022-10-06 05:21:08.857209: W tensorflow/compiler/tf2tensorrt/utils/py_utils.cc:38] TF-TRT Warning: Cannot dlopen some TensorRT libraries. If you would like to use Nvidia GPU with TensorRT, please make sure the missing libraries mentioned above are installed properly.\n",
      "2022-10-06 05:21:08.868947: W tensorflow/stream_executor/platform/default/dso_loader.cc:64] Could not load dynamic library 'libnvinfer.so.7'; dlerror: libnvinfer.so.7: cannot open shared object file: No such file or directory\n",
      "2022-10-06 05:21:08.869018: W tensorflow/stream_executor/platform/default/dso_loader.cc:64] Could not load dynamic library 'libnvinfer_plugin.so.7'; dlerror: libnvinfer_plugin.so.7: cannot open shared object file: No such file or directory\n",
      "2022-10-06 05:21:08.869029: W tensorflow/compiler/tf2tensorrt/utils/py_utils.cc:38] TF-TRT Warning: Cannot dlopen some TensorRT libraries. If you would like to use Nvidia GPU with TensorRT, please make sure the missing libraries mentioned above are installed properly.\n",
      "2022-10-06 05:21:08.873233: W tensorflow/stream_executor/platform/default/dso_loader.cc:64] Could not load dynamic library 'libnvinfer.so.7'; dlerror: libnvinfer.so.7: cannot open shared object file: No such file or directory\n",
      "2022-10-06 05:21:08.873296: W tensorflow/stream_executor/platform/default/dso_loader.cc:64] Could not load dynamic library 'libnvinfer_plugin.so.7'; dlerror: libnvinfer_plugin.so.7: cannot open shared object file: No such file or directory\n",
      "2022-10-06 05:21:08.873305: W tensorflow/compiler/tf2tensorrt/utils/py_utils.cc:38] TF-TRT Warning: Cannot dlopen some TensorRT libraries. If you would like to use Nvidia GPU with TensorRT, please make sure the missing libraries mentioned above are installed properly.\n",
      "2022-10-06 05:21:08.938436: W tensorflow/stream_executor/platform/default/dso_loader.cc:64] Could not load dynamic library 'libnvinfer.so.7'; dlerror: libnvinfer.so.7: cannot open shared object file: No such file or directory\n",
      "2022-10-06 05:21:08.938522: W tensorflow/stream_executor/platform/default/dso_loader.cc:64] Could not load dynamic library 'libnvinfer_plugin.so.7'; dlerror: libnvinfer_plugin.so.7: cannot open shared object file: No such file or directory\n",
      "2022-10-06 05:21:08.938535: W tensorflow/compiler/tf2tensorrt/utils/py_utils.cc:38] TF-TRT Warning: Cannot dlopen some TensorRT libraries. If you would like to use Nvidia GPU with TensorRT, please make sure the missing libraries mentioned above are installed properly.\n",
      "2022-10-06 05:21:09.014379: W tensorflow/stream_executor/platform/default/dso_loader.cc:64] Could not load dynamic library 'libnvinfer.so.7'; dlerror: libnvinfer.so.7: cannot open shared object file: No such file or directory\n",
      "2022-10-06 05:21:09.014444: W tensorflow/stream_executor/platform/default/dso_loader.cc:64] Could not load dynamic library 'libnvinfer_plugin.so.7'; dlerror: libnvinfer_plugin.so.7: cannot open shared object file: No such file or directory\n",
      "2022-10-06 05:21:09.014454: W tensorflow/compiler/tf2tensorrt/utils/py_utils.cc:38] TF-TRT Warning: Cannot dlopen some TensorRT libraries. If you would like to use Nvidia GPU with TensorRT, please make sure the missing libraries mentioned above are installed properly.\n",
      "2022-10-06 05:21:09.020764: W tensorflow/stream_executor/platform/default/dso_loader.cc:64] Could not load dynamic library 'libnvinfer.so.7'; dlerror: libnvinfer.so.7: cannot open shared object file: No such file or directory\n",
      "2022-10-06 05:21:09.020852: W tensorflow/stream_executor/platform/default/dso_loader.cc:64] Could not load dynamic library 'libnvinfer_plugin.so.7'; dlerror: libnvinfer_plugin.so.7: cannot open shared object file: No such file or directory\n",
      "2022-10-06 05:21:09.020865: W tensorflow/compiler/tf2tensorrt/utils/py_utils.cc:38] TF-TRT Warning: Cannot dlopen some TensorRT libraries. If you would like to use Nvidia GPU with TensorRT, please make sure the missing libraries mentioned above are installed properly.\n",
      "2022-10-06 05:21:09.050300: W tensorflow/stream_executor/platform/default/dso_loader.cc:64] Could not load dynamic library 'libnvinfer.so.7'; dlerror: libnvinfer.so.7: cannot open shared object file: No such file or directory\n",
      "2022-10-06 05:21:09.050387: W tensorflow/stream_executor/platform/default/dso_loader.cc:64] Could not load dynamic library 'libnvinfer_plugin.so.7'; dlerror: libnvinfer_plugin.so.7: cannot open shared object file: No such file or directory\n",
      "2022-10-06 05:21:09.050400: W tensorflow/compiler/tf2tensorrt/utils/py_utils.cc:38] TF-TRT Warning: Cannot dlopen some TensorRT libraries. If you would like to use Nvidia GPU with TensorRT, please make sure the missing libraries mentioned above are installed properly.\n",
      "2022-10-06 05:21:09.064056: W tensorflow/stream_executor/platform/default/dso_loader.cc:64] Could not load dynamic library 'libnvinfer.so.7'; dlerror: libnvinfer.so.7: cannot open shared object file: No such file or directory\n",
      "2022-10-06 05:21:09.064150: W tensorflow/stream_executor/platform/default/dso_loader.cc:64] Could not load dynamic library 'libnvinfer_plugin.so.7'; dlerror: libnvinfer_plugin.so.7: cannot open shared object file: No such file or directory\n",
      "2022-10-06 05:21:09.064163: W tensorflow/compiler/tf2tensorrt/utils/py_utils.cc:38] TF-TRT Warning: Cannot dlopen some TensorRT libraries. If you would like to use Nvidia GPU with TensorRT, please make sure the missing libraries mentioned above are installed properly.\n",
      "2022-10-06 05:21:09.247248: W tensorflow/stream_executor/platform/default/dso_loader.cc:64] Could not load dynamic library 'libnvinfer.so.7'; dlerror: libnvinfer.so.7: cannot open shared object file: No such file or directory\n",
      "2022-10-06 05:21:09.247329: W tensorflow/stream_executor/platform/default/dso_loader.cc:64] Could not load dynamic library 'libnvinfer_plugin.so.7'; dlerror: libnvinfer_plugin.so.7: cannot open shared object file: No such file or directory\n",
      "2022-10-06 05:21:09.247342: W tensorflow/compiler/tf2tensorrt/utils/py_utils.cc:38] TF-TRT Warning: Cannot dlopen some TensorRT libraries. If you would like to use Nvidia GPU with TensorRT, please make sure the missing libraries mentioned above are installed properly.\n",
      "2022-10-06 05:21:09.248055: W tensorflow/stream_executor/platform/default/dso_loader.cc:64] Could not load dynamic library 'libnvinfer.so.7'; dlerror: libnvinfer.so.7: cannot open shared object file: No such file or directory\n",
      "2022-10-06 05:21:09.248119: W tensorflow/stream_executor/platform/default/dso_loader.cc:64] Could not load dynamic library 'libnvinfer_plugin.so.7'; dlerror: libnvinfer_plugin.so.7: cannot open shared object file: No such file or directory\n",
      "2022-10-06 05:21:09.248128: W tensorflow/compiler/tf2tensorrt/utils/py_utils.cc:38] TF-TRT Warning: Cannot dlopen some TensorRT libraries. If you would like to use Nvidia GPU with TensorRT, please make sure the missing libraries mentioned above are installed properly.\n",
      "2022-10-06 05:21:09.273634: W tensorflow/stream_executor/platform/default/dso_loader.cc:64] Could not load dynamic library 'libnvinfer.so.7'; dlerror: libnvinfer.so.7: cannot open shared object file: No such file or directory\n",
      "2022-10-06 05:21:09.273701: W tensorflow/stream_executor/platform/default/dso_loader.cc:64] Could not load dynamic library 'libnvinfer_plugin.so.7'; dlerror: libnvinfer_plugin.so.7: cannot open shared object file: No such file or directory\n",
      "2022-10-06 05:21:09.273711: W tensorflow/compiler/tf2tensorrt/utils/py_utils.cc:38] TF-TRT Warning: Cannot dlopen some TensorRT libraries. If you would like to use Nvidia GPU with TensorRT, please make sure the missing libraries mentioned above are installed properly.\n",
      "/home/pc/anaconda3/envs/conda_env/lib/python3.7/site-packages/malaya_boilerplate/frozen_graph.py:36: UserWarning: Cannot import beam_search_ops from Tensorflow Addons, ['malaya.jawi_rumi.deep_model', 'malaya.phoneme.deep_model', 'malaya.rumi_jawi.deep_model', 'malaya.stem.deep_model'] will not available to use, make sure Tensorflow Addons version >= 0.12.0\n",
      "  f'Cannot import beam_search_ops from Tensorflow Addons, {USED_TREE} will not available to use, make sure Tensorflow Addons version >= 0.12.0'\n",
      "/home/pc/anaconda3/envs/conda_env/lib/python3.7/site-packages/malaya_boilerplate/frozen_graph.py:39: UserWarning: check compatible Tensorflow version with Tensorflow Addons at https://github.com/tensorflow/addons/releases\n",
      "  'check compatible Tensorflow version with Tensorflow Addons at https://github.com/tensorflow/addons/releases')\n",
      "/home/pc/anaconda3/envs/conda_env/lib/python3.7/site-packages/malaya_boilerplate/frozen_graph.py:36: UserWarning: Cannot import beam_search_ops from Tensorflow Addons, ['malaya.jawi_rumi.deep_model', 'malaya.phoneme.deep_model', 'malaya.rumi_jawi.deep_model', 'malaya.stem.deep_model'] will not available to use, make sure Tensorflow Addons version >= 0.12.0\n",
      "  f'Cannot import beam_search_ops from Tensorflow Addons, {USED_TREE} will not available to use, make sure Tensorflow Addons version >= 0.12.0'\n",
      "/home/pc/anaconda3/envs/conda_env/lib/python3.7/site-packages/malaya_boilerplate/frozen_graph.py:39: UserWarning: check compatible Tensorflow version with Tensorflow Addons at https://github.com/tensorflow/addons/releases\n",
      "  'check compatible Tensorflow version with Tensorflow Addons at https://github.com/tensorflow/addons/releases')\n",
      "/home/pc/anaconda3/envs/conda_env/lib/python3.7/site-packages/malaya_boilerplate/frozen_graph.py:36: UserWarning: Cannot import beam_search_ops from Tensorflow Addons, ['malaya.jawi_rumi.deep_model', 'malaya.phoneme.deep_model', 'malaya.rumi_jawi.deep_model', 'malaya.stem.deep_model'] will not available to use, make sure Tensorflow Addons version >= 0.12.0\n",
      "  f'Cannot import beam_search_ops from Tensorflow Addons, {USED_TREE} will not available to use, make sure Tensorflow Addons version >= 0.12.0'\n",
      "/home/pc/anaconda3/envs/conda_env/lib/python3.7/site-packages/malaya_boilerplate/frozen_graph.py:39: UserWarning: check compatible Tensorflow version with Tensorflow Addons at https://github.com/tensorflow/addons/releases\n",
      "  'check compatible Tensorflow version with Tensorflow Addons at https://github.com/tensorflow/addons/releases')\n",
      "/home/pc/anaconda3/envs/conda_env/lib/python3.7/site-packages/malaya_boilerplate/frozen_graph.py:36: UserWarning: Cannot import beam_search_ops from Tensorflow Addons, ['malaya.jawi_rumi.deep_model', 'malaya.phoneme.deep_model', 'malaya.rumi_jawi.deep_model', 'malaya.stem.deep_model'] will not available to use, make sure Tensorflow Addons version >= 0.12.0\n",
      "  f'Cannot import beam_search_ops from Tensorflow Addons, {USED_TREE} will not available to use, make sure Tensorflow Addons version >= 0.12.0'\n",
      "/home/pc/anaconda3/envs/conda_env/lib/python3.7/site-packages/malaya_boilerplate/frozen_graph.py:39: UserWarning: check compatible Tensorflow version with Tensorflow Addons at https://github.com/tensorflow/addons/releases\n",
      "  'check compatible Tensorflow version with Tensorflow Addons at https://github.com/tensorflow/addons/releases')\n",
      "/home/pc/anaconda3/envs/conda_env/lib/python3.7/site-packages/malaya_boilerplate/frozen_graph.py:36: UserWarning: Cannot import beam_search_ops from Tensorflow Addons, ['malaya.jawi_rumi.deep_model', 'malaya.phoneme.deep_model', 'malaya.rumi_jawi.deep_model', 'malaya.stem.deep_model'] will not available to use, make sure Tensorflow Addons version >= 0.12.0\n",
      "  f'Cannot import beam_search_ops from Tensorflow Addons, {USED_TREE} will not available to use, make sure Tensorflow Addons version >= 0.12.0'\n",
      "/home/pc/anaconda3/envs/conda_env/lib/python3.7/site-packages/malaya_boilerplate/frozen_graph.py:39: UserWarning: check compatible Tensorflow version with Tensorflow Addons at https://github.com/tensorflow/addons/releases\n",
      "  'check compatible Tensorflow version with Tensorflow Addons at https://github.com/tensorflow/addons/releases')\n",
      "/home/pc/anaconda3/envs/conda_env/lib/python3.7/site-packages/malaya_boilerplate/frozen_graph.py:36: UserWarning: Cannot import beam_search_ops from Tensorflow Addons, ['malaya.jawi_rumi.deep_model', 'malaya.phoneme.deep_model', 'malaya.rumi_jawi.deep_model', 'malaya.stem.deep_model'] will not available to use, make sure Tensorflow Addons version >= 0.12.0\n",
      "  f'Cannot import beam_search_ops from Tensorflow Addons, {USED_TREE} will not available to use, make sure Tensorflow Addons version >= 0.12.0'\n",
      "/home/pc/anaconda3/envs/conda_env/lib/python3.7/site-packages/malaya_boilerplate/frozen_graph.py:39: UserWarning: check compatible Tensorflow version with Tensorflow Addons at https://github.com/tensorflow/addons/releases\n",
      "  'check compatible Tensorflow version with Tensorflow Addons at https://github.com/tensorflow/addons/releases')\n",
      "/home/pc/anaconda3/envs/conda_env/lib/python3.7/site-packages/malaya_boilerplate/frozen_graph.py:36: UserWarning: Cannot import beam_search_ops from Tensorflow Addons, ['malaya.jawi_rumi.deep_model', 'malaya.phoneme.deep_model', 'malaya.rumi_jawi.deep_model', 'malaya.stem.deep_model'] will not available to use, make sure Tensorflow Addons version >= 0.12.0\n",
      "  f'Cannot import beam_search_ops from Tensorflow Addons, {USED_TREE} will not available to use, make sure Tensorflow Addons version >= 0.12.0'\n",
      "/home/pc/anaconda3/envs/conda_env/lib/python3.7/site-packages/malaya_boilerplate/frozen_graph.py:39: UserWarning: check compatible Tensorflow version with Tensorflow Addons at https://github.com/tensorflow/addons/releases\n",
      "  'check compatible Tensorflow version with Tensorflow Addons at https://github.com/tensorflow/addons/releases')\n",
      "/home/pc/anaconda3/envs/conda_env/lib/python3.7/site-packages/malaya_boilerplate/frozen_graph.py:36: UserWarning: Cannot import beam_search_ops from Tensorflow Addons, ['malaya.jawi_rumi.deep_model', 'malaya.phoneme.deep_model', 'malaya.rumi_jawi.deep_model', 'malaya.stem.deep_model'] will not available to use, make sure Tensorflow Addons version >= 0.12.0\n",
      "  f'Cannot import beam_search_ops from Tensorflow Addons, {USED_TREE} will not available to use, make sure Tensorflow Addons version >= 0.12.0'\n",
      "/home/pc/anaconda3/envs/conda_env/lib/python3.7/site-packages/malaya_boilerplate/frozen_graph.py:39: UserWarning: check compatible Tensorflow version with Tensorflow Addons at https://github.com/tensorflow/addons/releases\n",
      "  'check compatible Tensorflow version with Tensorflow Addons at https://github.com/tensorflow/addons/releases')\n",
      "/home/pc/anaconda3/envs/conda_env/lib/python3.7/site-packages/malaya_boilerplate/frozen_graph.py:36: UserWarning: Cannot import beam_search_ops from Tensorflow Addons, ['malaya.jawi_rumi.deep_model', 'malaya.phoneme.deep_model', 'malaya.rumi_jawi.deep_model', 'malaya.stem.deep_model'] will not available to use, make sure Tensorflow Addons version >= 0.12.0\n",
      "  f'Cannot import beam_search_ops from Tensorflow Addons, {USED_TREE} will not available to use, make sure Tensorflow Addons version >= 0.12.0'\n",
      "/home/pc/anaconda3/envs/conda_env/lib/python3.7/site-packages/malaya_boilerplate/frozen_graph.py:39: UserWarning: check compatible Tensorflow version with Tensorflow Addons at https://github.com/tensorflow/addons/releases\n",
      "  'check compatible Tensorflow version with Tensorflow Addons at https://github.com/tensorflow/addons/releases')\n",
      "/home/pc/anaconda3/envs/conda_env/lib/python3.7/site-packages/malaya_boilerplate/frozen_graph.py:36: UserWarning: Cannot import beam_search_ops from Tensorflow Addons, ['malaya.jawi_rumi.deep_model', 'malaya.phoneme.deep_model', 'malaya.rumi_jawi.deep_model', 'malaya.stem.deep_model'] will not available to use, make sure Tensorflow Addons version >= 0.12.0\n",
      "  f'Cannot import beam_search_ops from Tensorflow Addons, {USED_TREE} will not available to use, make sure Tensorflow Addons version >= 0.12.0'\n",
      "/home/pc/anaconda3/envs/conda_env/lib/python3.7/site-packages/malaya_boilerplate/frozen_graph.py:39: UserWarning: check compatible Tensorflow version with Tensorflow Addons at https://github.com/tensorflow/addons/releases\n",
      "  'check compatible Tensorflow version with Tensorflow Addons at https://github.com/tensorflow/addons/releases')\n",
      "/home/pc/anaconda3/envs/conda_env/lib/python3.7/site-packages/malaya_boilerplate/frozen_graph.py:36: UserWarning: Cannot import beam_search_ops from Tensorflow Addons, ['malaya.jawi_rumi.deep_model', 'malaya.phoneme.deep_model', 'malaya.rumi_jawi.deep_model', 'malaya.stem.deep_model'] will not available to use, make sure Tensorflow Addons version >= 0.12.0\n",
      "  f'Cannot import beam_search_ops from Tensorflow Addons, {USED_TREE} will not available to use, make sure Tensorflow Addons version >= 0.12.0'\n",
      "/home/pc/anaconda3/envs/conda_env/lib/python3.7/site-packages/malaya_boilerplate/frozen_graph.py:39: UserWarning: check compatible Tensorflow version with Tensorflow Addons at https://github.com/tensorflow/addons/releases\n",
      "  'check compatible Tensorflow version with Tensorflow Addons at https://github.com/tensorflow/addons/releases')\n",
      "/home/pc/anaconda3/envs/conda_env/lib/python3.7/site-packages/malaya_boilerplate/frozen_graph.py:36: UserWarning: Cannot import beam_search_ops from Tensorflow Addons, ['malaya.jawi_rumi.deep_model', 'malaya.phoneme.deep_model', 'malaya.rumi_jawi.deep_model', 'malaya.stem.deep_model'] will not available to use, make sure Tensorflow Addons version >= 0.12.0\n",
      "  f'Cannot import beam_search_ops from Tensorflow Addons, {USED_TREE} will not available to use, make sure Tensorflow Addons version >= 0.12.0'\n",
      "/home/pc/anaconda3/envs/conda_env/lib/python3.7/site-packages/malaya_boilerplate/frozen_graph.py:39: UserWarning: check compatible Tensorflow version with Tensorflow Addons at https://github.com/tensorflow/addons/releases\n",
      "  'check compatible Tensorflow version with Tensorflow Addons at https://github.com/tensorflow/addons/releases')\n",
      "/home/pc/anaconda3/envs/conda_env/lib/python3.7/site-packages/malaya_boilerplate/frozen_graph.py:36: UserWarning: Cannot import beam_search_ops from Tensorflow Addons, ['malaya.jawi_rumi.deep_model', 'malaya.phoneme.deep_model', 'malaya.rumi_jawi.deep_model', 'malaya.stem.deep_model'] will not available to use, make sure Tensorflow Addons version >= 0.12.0\n",
      "  f'Cannot import beam_search_ops from Tensorflow Addons, {USED_TREE} will not available to use, make sure Tensorflow Addons version >= 0.12.0'\n",
      "/home/pc/anaconda3/envs/conda_env/lib/python3.7/site-packages/malaya_boilerplate/frozen_graph.py:39: UserWarning: check compatible Tensorflow version with Tensorflow Addons at https://github.com/tensorflow/addons/releases\n",
      "  'check compatible Tensorflow version with Tensorflow Addons at https://github.com/tensorflow/addons/releases')\n",
      "/home/pc/anaconda3/envs/conda_env/lib/python3.7/site-packages/malaya_boilerplate/frozen_graph.py:36: UserWarning: Cannot import beam_search_ops from Tensorflow Addons, ['malaya.jawi_rumi.deep_model', 'malaya.phoneme.deep_model', 'malaya.rumi_jawi.deep_model', 'malaya.stem.deep_model'] will not available to use, make sure Tensorflow Addons version >= 0.12.0\n",
      "  f'Cannot import beam_search_ops from Tensorflow Addons, {USED_TREE} will not available to use, make sure Tensorflow Addons version >= 0.12.0'\n",
      "/home/pc/anaconda3/envs/conda_env/lib/python3.7/site-packages/malaya_boilerplate/frozen_graph.py:39: UserWarning: check compatible Tensorflow version with Tensorflow Addons at https://github.com/tensorflow/addons/releases\n",
      "  'check compatible Tensorflow version with Tensorflow Addons at https://github.com/tensorflow/addons/releases')\n",
      "/home/pc/anaconda3/envs/conda_env/lib/python3.7/site-packages/malaya_boilerplate/frozen_graph.py:36: UserWarning: Cannot import beam_search_ops from Tensorflow Addons, ['malaya.jawi_rumi.deep_model', 'malaya.phoneme.deep_model', 'malaya.rumi_jawi.deep_model', 'malaya.stem.deep_model'] will not available to use, make sure Tensorflow Addons version >= 0.12.0\n",
      "  f'Cannot import beam_search_ops from Tensorflow Addons, {USED_TREE} will not available to use, make sure Tensorflow Addons version >= 0.12.0'\n",
      "/home/pc/anaconda3/envs/conda_env/lib/python3.7/site-packages/malaya_boilerplate/frozen_graph.py:39: UserWarning: check compatible Tensorflow version with Tensorflow Addons at https://github.com/tensorflow/addons/releases\n",
      "  'check compatible Tensorflow version with Tensorflow Addons at https://github.com/tensorflow/addons/releases')\n",
      "/home/pc/anaconda3/envs/conda_env/lib/python3.7/site-packages/malaya_boilerplate/frozen_graph.py:36: UserWarning: Cannot import beam_search_ops from Tensorflow Addons, ['malaya.jawi_rumi.deep_model', 'malaya.phoneme.deep_model', 'malaya.rumi_jawi.deep_model', 'malaya.stem.deep_model'] will not available to use, make sure Tensorflow Addons version >= 0.12.0\n",
      "  f'Cannot import beam_search_ops from Tensorflow Addons, {USED_TREE} will not available to use, make sure Tensorflow Addons version >= 0.12.0'\n",
      "/home/pc/anaconda3/envs/conda_env/lib/python3.7/site-packages/malaya_boilerplate/frozen_graph.py:39: UserWarning: check compatible Tensorflow version with Tensorflow Addons at https://github.com/tensorflow/addons/releases\n",
      "  'check compatible Tensorflow version with Tensorflow Addons at https://github.com/tensorflow/addons/releases')\n",
      "/home/pc/anaconda3/envs/conda_env/lib/python3.7/site-packages/malaya_boilerplate/frozen_graph.py:36: UserWarning: Cannot import beam_search_ops from Tensorflow Addons, ['malaya.jawi_rumi.deep_model', 'malaya.phoneme.deep_model', 'malaya.rumi_jawi.deep_model', 'malaya.stem.deep_model'] will not available to use, make sure Tensorflow Addons version >= 0.12.0\n",
      "  f'Cannot import beam_search_ops from Tensorflow Addons, {USED_TREE} will not available to use, make sure Tensorflow Addons version >= 0.12.0'\n",
      "/home/pc/anaconda3/envs/conda_env/lib/python3.7/site-packages/malaya_boilerplate/frozen_graph.py:39: UserWarning: check compatible Tensorflow version with Tensorflow Addons at https://github.com/tensorflow/addons/releases\n",
      "  'check compatible Tensorflow version with Tensorflow Addons at https://github.com/tensorflow/addons/releases')\n",
      "/home/pc/anaconda3/envs/conda_env/lib/python3.7/site-packages/malaya_boilerplate/frozen_graph.py:36: UserWarning: Cannot import beam_search_ops from Tensorflow Addons, ['malaya.jawi_rumi.deep_model', 'malaya.phoneme.deep_model', 'malaya.rumi_jawi.deep_model', 'malaya.stem.deep_model'] will not available to use, make sure Tensorflow Addons version >= 0.12.0\n",
      "  f'Cannot import beam_search_ops from Tensorflow Addons, {USED_TREE} will not available to use, make sure Tensorflow Addons version >= 0.12.0'\n",
      "/home/pc/anaconda3/envs/conda_env/lib/python3.7/site-packages/malaya_boilerplate/frozen_graph.py:39: UserWarning: check compatible Tensorflow version with Tensorflow Addons at https://github.com/tensorflow/addons/releases\n",
      "  'check compatible Tensorflow version with Tensorflow Addons at https://github.com/tensorflow/addons/releases')\n",
      "/home/pc/anaconda3/envs/conda_env/lib/python3.7/site-packages/malaya_boilerplate/frozen_graph.py:36: UserWarning: Cannot import beam_search_ops from Tensorflow Addons, ['malaya.jawi_rumi.deep_model', 'malaya.phoneme.deep_model', 'malaya.rumi_jawi.deep_model', 'malaya.stem.deep_model'] will not available to use, make sure Tensorflow Addons version >= 0.12.0\n",
      "  f'Cannot import beam_search_ops from Tensorflow Addons, {USED_TREE} will not available to use, make sure Tensorflow Addons version >= 0.12.0'\n",
      "/home/pc/anaconda3/envs/conda_env/lib/python3.7/site-packages/malaya_boilerplate/frozen_graph.py:39: UserWarning: check compatible Tensorflow version with Tensorflow Addons at https://github.com/tensorflow/addons/releases\n",
      "  'check compatible Tensorflow version with Tensorflow Addons at https://github.com/tensorflow/addons/releases')\n",
      "/home/pc/anaconda3/envs/conda_env/lib/python3.7/site-packages/malaya_boilerplate/frozen_graph.py:36: UserWarning: Cannot import beam_search_ops from Tensorflow Addons, ['malaya.jawi_rumi.deep_model', 'malaya.phoneme.deep_model', 'malaya.rumi_jawi.deep_model', 'malaya.stem.deep_model'] will not available to use, make sure Tensorflow Addons version >= 0.12.0\n",
      "  f'Cannot import beam_search_ops from Tensorflow Addons, {USED_TREE} will not available to use, make sure Tensorflow Addons version >= 0.12.0'\n",
      "/home/pc/anaconda3/envs/conda_env/lib/python3.7/site-packages/malaya_boilerplate/frozen_graph.py:39: UserWarning: check compatible Tensorflow version with Tensorflow Addons at https://github.com/tensorflow/addons/releases\n",
      "  'check compatible Tensorflow version with Tensorflow Addons at https://github.com/tensorflow/addons/releases')\n",
      "/home/pc/anaconda3/envs/conda_env/lib/python3.7/site-packages/malaya/tokenizer.py:202: FutureWarning: Possible nested set at position 3361\n",
      "  self.tok = re.compile(r'({})'.format('|'.join(pipeline)))\n",
      "/home/pc/anaconda3/envs/conda_env/lib/python3.7/site-packages/malaya/tokenizer.py:202: FutureWarning: Possible nested set at position 3879\n",
      "  self.tok = re.compile(r'({})'.format('|'.join(pipeline)))\n",
      "/home/pc/anaconda3/envs/conda_env/lib/python3.7/site-packages/malaya/tokenizer.py:202: FutureWarning: Possible nested set at position 3361\n",
      "  self.tok = re.compile(r'({})'.format('|'.join(pipeline)))\n",
      "/home/pc/anaconda3/envs/conda_env/lib/python3.7/site-packages/malaya/tokenizer.py:202: FutureWarning: Possible nested set at position 3879\n",
      "  self.tok = re.compile(r'({})'.format('|'.join(pipeline)))\n",
      "/home/pc/anaconda3/envs/conda_env/lib/python3.7/site-packages/malaya/tokenizer.py:202: FutureWarning: Possible nested set at position 3361\n",
      "  self.tok = re.compile(r'({})'.format('|'.join(pipeline)))\n",
      "/home/pc/anaconda3/envs/conda_env/lib/python3.7/site-packages/malaya/tokenizer.py:202: FutureWarning: Possible nested set at position 3879\n",
      "  self.tok = re.compile(r'({})'.format('|'.join(pipeline)))\n",
      "/home/pc/anaconda3/envs/conda_env/lib/python3.7/site-packages/malaya/tokenizer.py:202: FutureWarning: Possible nested set at position 3361\n",
      "  self.tok = re.compile(r'({})'.format('|'.join(pipeline)))\n",
      "/home/pc/anaconda3/envs/conda_env/lib/python3.7/site-packages/malaya/tokenizer.py:202: FutureWarning: Possible nested set at position 3879\n",
      "  self.tok = re.compile(r'({})'.format('|'.join(pipeline)))\n",
      "/home/pc/anaconda3/envs/conda_env/lib/python3.7/site-packages/malaya/tokenizer.py:202: FutureWarning: Possible nested set at position 3361\n",
      "  self.tok = re.compile(r'({})'.format('|'.join(pipeline)))\n",
      "/home/pc/anaconda3/envs/conda_env/lib/python3.7/site-packages/malaya/tokenizer.py:202: FutureWarning: Possible nested set at position 3879\n",
      "  self.tok = re.compile(r'({})'.format('|'.join(pipeline)))\n",
      "/home/pc/anaconda3/envs/conda_env/lib/python3.7/site-packages/malaya/tokenizer.py:202: FutureWarning: Possible nested set at position 3361\n",
      "  self.tok = re.compile(r'({})'.format('|'.join(pipeline)))\n",
      "/home/pc/anaconda3/envs/conda_env/lib/python3.7/site-packages/malaya/tokenizer.py:202: FutureWarning: Possible nested set at position 3879\n",
      "  self.tok = re.compile(r'({})'.format('|'.join(pipeline)))\n",
      "/home/pc/anaconda3/envs/conda_env/lib/python3.7/site-packages/malaya/tokenizer.py:202: FutureWarning: Possible nested set at position 3361\n",
      "  self.tok = re.compile(r'({})'.format('|'.join(pipeline)))\n",
      "/home/pc/anaconda3/envs/conda_env/lib/python3.7/site-packages/malaya/tokenizer.py:202: FutureWarning: Possible nested set at position 3879\n",
      "  self.tok = re.compile(r'({})'.format('|'.join(pipeline)))\n",
      "/home/pc/anaconda3/envs/conda_env/lib/python3.7/site-packages/malaya/tokenizer.py:202: FutureWarning: Possible nested set at position 3361\n",
      "  self.tok = re.compile(r'({})'.format('|'.join(pipeline)))\n",
      "/home/pc/anaconda3/envs/conda_env/lib/python3.7/site-packages/malaya/tokenizer.py:202: FutureWarning: Possible nested set at position 3879\n",
      "  self.tok = re.compile(r'({})'.format('|'.join(pipeline)))\n",
      "/home/pc/anaconda3/envs/conda_env/lib/python3.7/site-packages/malaya/tokenizer.py:202: FutureWarning: Possible nested set at position 3361\n",
      "  self.tok = re.compile(r'({})'.format('|'.join(pipeline)))\n",
      "/home/pc/anaconda3/envs/conda_env/lib/python3.7/site-packages/malaya/tokenizer.py:202: FutureWarning: Possible nested set at position 3879\n",
      "  self.tok = re.compile(r'({})'.format('|'.join(pipeline)))\n",
      "/home/pc/anaconda3/envs/conda_env/lib/python3.7/site-packages/malaya/tokenizer.py:202: FutureWarning: Possible nested set at position 3361\n",
      "  self.tok = re.compile(r'({})'.format('|'.join(pipeline)))\n",
      "/home/pc/anaconda3/envs/conda_env/lib/python3.7/site-packages/malaya/tokenizer.py:202: FutureWarning: Possible nested set at position 3879\n",
      "  self.tok = re.compile(r'({})'.format('|'.join(pipeline)))\n",
      "/home/pc/anaconda3/envs/conda_env/lib/python3.7/site-packages/malaya/tokenizer.py:202: FutureWarning: Possible nested set at position 3361\n",
      "  self.tok = re.compile(r'({})'.format('|'.join(pipeline)))\n",
      "/home/pc/anaconda3/envs/conda_env/lib/python3.7/site-packages/malaya/tokenizer.py:202: FutureWarning: Possible nested set at position 3879\n",
      "  self.tok = re.compile(r'({})'.format('|'.join(pipeline)))\n",
      "/home/pc/anaconda3/envs/conda_env/lib/python3.7/site-packages/malaya/tokenizer.py:202: FutureWarning: Possible nested set at position 3361\n",
      "  self.tok = re.compile(r'({})'.format('|'.join(pipeline)))\n",
      "/home/pc/anaconda3/envs/conda_env/lib/python3.7/site-packages/malaya/tokenizer.py:202: FutureWarning: Possible nested set at position 3879\n",
      "  self.tok = re.compile(r'({})'.format('|'.join(pipeline)))\n",
      "/home/pc/anaconda3/envs/conda_env/lib/python3.7/site-packages/malaya/tokenizer.py:202: FutureWarning: Possible nested set at position 3361\n",
      "  self.tok = re.compile(r'({})'.format('|'.join(pipeline)))\n",
      "/home/pc/anaconda3/envs/conda_env/lib/python3.7/site-packages/malaya/tokenizer.py:202: FutureWarning: Possible nested set at position 3879\n",
      "  self.tok = re.compile(r'({})'.format('|'.join(pipeline)))\n",
      "/home/pc/anaconda3/envs/conda_env/lib/python3.7/site-packages/malaya/tokenizer.py:202: FutureWarning: Possible nested set at position 3361\n",
      "  self.tok = re.compile(r'({})'.format('|'.join(pipeline)))\n",
      "/home/pc/anaconda3/envs/conda_env/lib/python3.7/site-packages/malaya/tokenizer.py:202: FutureWarning: Possible nested set at position 3879\n",
      "  self.tok = re.compile(r'({})'.format('|'.join(pipeline)))\n",
      "/home/pc/anaconda3/envs/conda_env/lib/python3.7/site-packages/malaya/tokenizer.py:202: FutureWarning: Possible nested set at position 3361\n",
      "  self.tok = re.compile(r'({})'.format('|'.join(pipeline)))\n",
      "/home/pc/anaconda3/envs/conda_env/lib/python3.7/site-packages/malaya/tokenizer.py:202: FutureWarning: Possible nested set at position 3879\n",
      "  self.tok = re.compile(r'({})'.format('|'.join(pipeline)))\n",
      "/home/pc/anaconda3/envs/conda_env/lib/python3.7/site-packages/malaya/tokenizer.py:202: FutureWarning: Possible nested set at position 3361\n",
      "  self.tok = re.compile(r'({})'.format('|'.join(pipeline)))\n",
      "/home/pc/anaconda3/envs/conda_env/lib/python3.7/site-packages/malaya/tokenizer.py:202: FutureWarning: Possible nested set at position 3879\n",
      "  self.tok = re.compile(r'({})'.format('|'.join(pipeline)))\n",
      "/home/pc/anaconda3/envs/conda_env/lib/python3.7/site-packages/malaya/tokenizer.py:202: FutureWarning: Possible nested set at position 3361\n",
      "  self.tok = re.compile(r'({})'.format('|'.join(pipeline)))\n",
      "/home/pc/anaconda3/envs/conda_env/lib/python3.7/site-packages/malaya/tokenizer.py:202: FutureWarning: Possible nested set at position 3879\n",
      "  self.tok = re.compile(r'({})'.format('|'.join(pipeline)))\n",
      "/home/pc/anaconda3/envs/conda_env/lib/python3.7/site-packages/malaya/tokenizer.py:202: FutureWarning: Possible nested set at position 3361\n",
      "  self.tok = re.compile(r'({})'.format('|'.join(pipeline)))\n",
      "/home/pc/anaconda3/envs/conda_env/lib/python3.7/site-packages/malaya/tokenizer.py:202: FutureWarning: Possible nested set at position 3879\n",
      "  self.tok = re.compile(r'({})'.format('|'.join(pipeline)))\n",
      "/home/pc/anaconda3/envs/conda_env/lib/python3.7/site-packages/malaya/tokenizer.py:202: FutureWarning: Possible nested set at position 3361\n",
      "  self.tok = re.compile(r'({})'.format('|'.join(pipeline)))\n",
      "/home/pc/anaconda3/envs/conda_env/lib/python3.7/site-packages/malaya/tokenizer.py:202: FutureWarning: Possible nested set at position 3879\n",
      "  self.tok = re.compile(r'({})'.format('|'.join(pipeline)))\n",
      "/home/pc/anaconda3/envs/conda_env/lib/python3.7/site-packages/malaya/tokenizer.py:202: FutureWarning: Possible nested set at position 3361\n",
      "  self.tok = re.compile(r'({})'.format('|'.join(pipeline)))\n",
      "/home/pc/anaconda3/envs/conda_env/lib/python3.7/site-packages/malaya/tokenizer.py:202: FutureWarning: Possible nested set at position 3879\n",
      "  self.tok = re.compile(r'({})'.format('|'.join(pipeline)))\n",
      "2022-10-06 05:21:15.058598: I tensorflow/core/platform/cpu_feature_guard.cc:193] This TensorFlow binary is optimized with oneAPI Deep Neural Network Library (oneDNN) to use the following CPU instructions in performance-critical operations:  AVX2 FMA\n",
      "To enable them in other operations, rebuild TensorFlow with the appropriate compiler flags.\n",
      "2022-10-06 05:21:15.058598: I tensorflow/core/platform/cpu_feature_guard.cc:193] This TensorFlow binary is optimized with oneAPI Deep Neural Network Library (oneDNN) to use the following CPU instructions in performance-critical operations:  AVX2 FMA\n",
      "To enable them in other operations, rebuild TensorFlow with the appropriate compiler flags.\n",
      "2022-10-06 05:21:15.058632: I tensorflow/core/platform/cpu_feature_guard.cc:193] This TensorFlow binary is optimized with oneAPI Deep Neural Network Library (oneDNN) to use the following CPU instructions in performance-critical operations:  AVX2 FMA\n",
      "To enable them in other operations, rebuild TensorFlow with the appropriate compiler flags.\n",
      "2022-10-06 05:21:15.059578: I tensorflow/core/platform/cpu_feature_guard.cc:193] This TensorFlow binary is optimized with oneAPI Deep Neural Network Library (oneDNN) to use the following CPU instructions in performance-critical operations:  AVX2 FMA\n",
      "To enable them in other operations, rebuild TensorFlow with the appropriate compiler flags.\n",
      "2022-10-06 05:21:15.061493: W tensorflow/stream_executor/platform/default/dso_loader.cc:64] Could not load dynamic library 'libcuda.so.1'; dlerror: libcuda.so.1: cannot open shared object file: No such file or directory\n",
      "2022-10-06 05:21:15.061525: W tensorflow/stream_executor/cuda/cuda_driver.cc:263] failed call to cuInit: UNKNOWN ERROR (303)\n",
      "2022-10-06 05:21:15.061791: I tensorflow/stream_executor/cuda/cuda_diagnostics.cc:156] kernel driver does not appear to be running on this host (g2.bigtop.it): /proc/driver/nvidia/version does not exist\n",
      "2022-10-06 05:21:15.062429: W tensorflow/stream_executor/platform/default/dso_loader.cc:64] Could not load dynamic library 'libcuda.so.1'; dlerror: libcuda.so.1: cannot open shared object file: No such file or directory\n",
      "2022-10-06 05:21:15.062469: W tensorflow/stream_executor/cuda/cuda_driver.cc:263] failed call to cuInit: UNKNOWN ERROR (303)\n",
      "2022-10-06 05:21:15.062499: I tensorflow/stream_executor/cuda/cuda_diagnostics.cc:156] kernel driver does not appear to be running on this host (g2.bigtop.it): /proc/driver/nvidia/version does not exist\n",
      "2022-10-06 05:21:15.062927: W tensorflow/stream_executor/platform/default/dso_loader.cc:64] Could not load dynamic library 'libcuda.so.1'; dlerror: libcuda.so.1: cannot open shared object file: No such file or directory\n",
      "2022-10-06 05:21:15.062963: W tensorflow/stream_executor/cuda/cuda_driver.cc:263] failed call to cuInit: UNKNOWN ERROR (303)\n",
      "2022-10-06 05:21:15.062973: W tensorflow/stream_executor/platform/default/dso_loader.cc:64] Could not load dynamic library 'libcuda.so.1'; dlerror: libcuda.so.1: cannot open shared object file: No such file or directory\n",
      "2022-10-06 05:21:15.062994: I tensorflow/stream_executor/cuda/cuda_diagnostics.cc:156] kernel driver does not appear to be running on this host (g2.bigtop.it): /proc/driver/nvidia/version does not exist\n",
      "2022-10-06 05:21:15.063002: W tensorflow/stream_executor/cuda/cuda_driver.cc:263] failed call to cuInit: UNKNOWN ERROR (303)\n",
      "2022-10-06 05:21:15.063049: I tensorflow/stream_executor/cuda/cuda_diagnostics.cc:156] kernel driver does not appear to be running on this host (g2.bigtop.it): /proc/driver/nvidia/version does not exist\n",
      "2022-10-06 05:21:15.065184: I tensorflow/core/platform/cpu_feature_guard.cc:193] This TensorFlow binary is optimized with oneAPI Deep Neural Network Library (oneDNN) to use the following CPU instructions in performance-critical operations:  AVX2 FMA\n",
      "To enable them in other operations, rebuild TensorFlow with the appropriate compiler flags.\n",
      "2022-10-06 05:21:15.066903: W tensorflow/stream_executor/platform/default/dso_loader.cc:64] Could not load dynamic library 'libcuda.so.1'; dlerror: libcuda.so.1: cannot open shared object file: No such file or directory\n",
      "2022-10-06 05:21:15.066929: W tensorflow/stream_executor/cuda/cuda_driver.cc:263] failed call to cuInit: UNKNOWN ERROR (303)\n",
      "2022-10-06 05:21:15.066954: I tensorflow/stream_executor/cuda/cuda_diagnostics.cc:156] kernel driver does not appear to be running on this host (g2.bigtop.it): /proc/driver/nvidia/version does not exist\n",
      "2022-10-06 05:21:15.069107: I tensorflow/core/platform/cpu_feature_guard.cc:193] This TensorFlow binary is optimized with oneAPI Deep Neural Network Library (oneDNN) to use the following CPU instructions in performance-critical operations:  AVX2 FMA\n",
      "To enable them in other operations, rebuild TensorFlow with the appropriate compiler flags.\n",
      "2022-10-06 05:21:15.070929: W tensorflow/stream_executor/platform/default/dso_loader.cc:64] Could not load dynamic library 'libcuda.so.1'; dlerror: libcuda.so.1: cannot open shared object file: No such file or directory\n",
      "2022-10-06 05:21:15.070953: W tensorflow/stream_executor/cuda/cuda_driver.cc:263] failed call to cuInit: UNKNOWN ERROR (303)\n",
      "2022-10-06 05:21:15.070973: I tensorflow/stream_executor/cuda/cuda_diagnostics.cc:156] kernel driver does not appear to be running on this host (g2.bigtop.it): /proc/driver/nvidia/version does not exist\n",
      "2022-10-06 05:21:15.089295: I tensorflow/core/platform/cpu_feature_guard.cc:193] This TensorFlow binary is optimized with oneAPI Deep Neural Network Library (oneDNN) to use the following CPU instructions in performance-critical operations:  AVX2 FMA\n",
      "To enable them in other operations, rebuild TensorFlow with the appropriate compiler flags.\n",
      "2022-10-06 05:21:15.089513: I tensorflow/core/platform/cpu_feature_guard.cc:193] This TensorFlow binary is optimized with oneAPI Deep Neural Network Library (oneDNN) to use the following CPU instructions in performance-critical operations:  AVX2 FMA\n",
      "To enable them in other operations, rebuild TensorFlow with the appropriate compiler flags.\n",
      "2022-10-06 05:21:15.089561: I tensorflow/core/platform/cpu_feature_guard.cc:193] This TensorFlow binary is optimized with oneAPI Deep Neural Network Library (oneDNN) to use the following CPU instructions in performance-critical operations:  AVX2 FMA\n",
      "To enable them in other operations, rebuild TensorFlow with the appropriate compiler flags.\n",
      "2022-10-06 05:21:15.091377: W tensorflow/stream_executor/platform/default/dso_loader.cc:64] Could not load dynamic library 'libcuda.so.1'; dlerror: libcuda.so.1: cannot open shared object file: No such file or directory\n",
      "2022-10-06 05:21:15.091404: W tensorflow/stream_executor/cuda/cuda_driver.cc:263] failed call to cuInit: UNKNOWN ERROR (303)\n",
      "2022-10-06 05:21:15.091427: I tensorflow/stream_executor/cuda/cuda_diagnostics.cc:156] kernel driver does not appear to be running on this host (g2.bigtop.it): /proc/driver/nvidia/version does not exist\n",
      "2022-10-06 05:21:15.091654: W tensorflow/stream_executor/platform/default/dso_loader.cc:64] Could not load dynamic library 'libcuda.so.1'; dlerror: libcuda.so.1: cannot open shared object file: No such file or directory\n",
      "2022-10-06 05:21:15.091682: W tensorflow/stream_executor/cuda/cuda_driver.cc:263] failed call to cuInit: UNKNOWN ERROR (303)\n",
      "2022-10-06 05:21:15.091707: I tensorflow/stream_executor/cuda/cuda_diagnostics.cc:156] kernel driver does not appear to be running on this host (g2.bigtop.it): /proc/driver/nvidia/version does not exist\n",
      "2022-10-06 05:21:15.091878: W tensorflow/stream_executor/platform/default/dso_loader.cc:64] Could not load dynamic library 'libcuda.so.1'; dlerror: libcuda.so.1: cannot open shared object file: No such file or directory\n",
      "2022-10-06 05:21:15.091906: W tensorflow/stream_executor/cuda/cuda_driver.cc:263] failed call to cuInit: UNKNOWN ERROR (303)\n",
      "2022-10-06 05:21:15.091927: I tensorflow/stream_executor/cuda/cuda_diagnostics.cc:156] kernel driver does not appear to be running on this host (g2.bigtop.it): /proc/driver/nvidia/version does not exist\n",
      "2022-10-06 05:21:15.155582: I tensorflow/core/platform/cpu_feature_guard.cc:193] This TensorFlow binary is optimized with oneAPI Deep Neural Network Library (oneDNN) to use the following CPU instructions in performance-critical operations:  AVX2 FMA\n",
      "To enable them in other operations, rebuild TensorFlow with the appropriate compiler flags.\n",
      "2022-10-06 05:21:15.157223: W tensorflow/stream_executor/platform/default/dso_loader.cc:64] Could not load dynamic library 'libcuda.so.1'; dlerror: libcuda.so.1: cannot open shared object file: No such file or directory\n",
      "2022-10-06 05:21:15.157251: W tensorflow/stream_executor/cuda/cuda_driver.cc:263] failed call to cuInit: UNKNOWN ERROR (303)\n",
      "2022-10-06 05:21:15.157278: I tensorflow/stream_executor/cuda/cuda_diagnostics.cc:156] kernel driver does not appear to be running on this host (g2.bigtop.it): /proc/driver/nvidia/version does not exist\n",
      "2022-10-06 05:21:15.202779: I tensorflow/core/platform/cpu_feature_guard.cc:193] This TensorFlow binary is optimized with oneAPI Deep Neural Network Library (oneDNN) to use the following CPU instructions in performance-critical operations:  AVX2 FMA\n",
      "To enable them in other operations, rebuild TensorFlow with the appropriate compiler flags.\n",
      "2022-10-06 05:21:15.205530: W tensorflow/stream_executor/platform/default/dso_loader.cc:64] Could not load dynamic library 'libcuda.so.1'; dlerror: libcuda.so.1: cannot open shared object file: No such file or directory\n",
      "2022-10-06 05:21:15.205567: W tensorflow/stream_executor/cuda/cuda_driver.cc:263] failed call to cuInit: UNKNOWN ERROR (303)\n",
      "2022-10-06 05:21:15.205597: I tensorflow/stream_executor/cuda/cuda_diagnostics.cc:156] kernel driver does not appear to be running on this host (g2.bigtop.it): /proc/driver/nvidia/version does not exist\n",
      "2022-10-06 05:21:15.306562: I tensorflow/core/platform/cpu_feature_guard.cc:193] This TensorFlow binary is optimized with oneAPI Deep Neural Network Library (oneDNN) to use the following CPU instructions in performance-critical operations:  AVX2 FMA\n",
      "To enable them in other operations, rebuild TensorFlow with the appropriate compiler flags.\n",
      "2022-10-06 05:21:15.308428: W tensorflow/stream_executor/platform/default/dso_loader.cc:64] Could not load dynamic library 'libcuda.so.1'; dlerror: libcuda.so.1: cannot open shared object file: No such file or directory\n",
      "2022-10-06 05:21:15.308457: W tensorflow/stream_executor/cuda/cuda_driver.cc:263] failed call to cuInit: UNKNOWN ERROR (303)\n",
      "2022-10-06 05:21:15.308483: I tensorflow/stream_executor/cuda/cuda_diagnostics.cc:156] kernel driver does not appear to be running on this host (g2.bigtop.it): /proc/driver/nvidia/version does not exist\n",
      "2022-10-06 05:21:15.395529: I tensorflow/core/platform/cpu_feature_guard.cc:193] This TensorFlow binary is optimized with oneAPI Deep Neural Network Library (oneDNN) to use the following CPU instructions in performance-critical operations:  AVX2 FMA\n",
      "To enable them in other operations, rebuild TensorFlow with the appropriate compiler flags.\n",
      "2022-10-06 05:21:15.397272: W tensorflow/stream_executor/platform/default/dso_loader.cc:64] Could not load dynamic library 'libcuda.so.1'; dlerror: libcuda.so.1: cannot open shared object file: No such file or directory\n",
      "2022-10-06 05:21:15.397298: W tensorflow/stream_executor/cuda/cuda_driver.cc:263] failed call to cuInit: UNKNOWN ERROR (303)\n",
      "2022-10-06 05:21:15.397321: I tensorflow/stream_executor/cuda/cuda_diagnostics.cc:156] kernel driver does not appear to be running on this host (g2.bigtop.it): /proc/driver/nvidia/version does not exist\n",
      "2022-10-06 05:21:15.456600: I tensorflow/core/platform/cpu_feature_guard.cc:193] This TensorFlow binary is optimized with oneAPI Deep Neural Network Library (oneDNN) to use the following CPU instructions in performance-critical operations:  AVX2 FMA\n",
      "To enable them in other operations, rebuild TensorFlow with the appropriate compiler flags.\n",
      "2022-10-06 05:21:15.481038: I tensorflow/core/platform/cpu_feature_guard.cc:193] This TensorFlow binary is optimized with oneAPI Deep Neural Network Library (oneDNN) to use the following CPU instructions in performance-critical operations:  AVX2 FMA\n",
      "To enable them in other operations, rebuild TensorFlow with the appropriate compiler flags.\n",
      "2022-10-06 05:21:15.486605: W tensorflow/stream_executor/platform/default/dso_loader.cc:64] Could not load dynamic library 'libcuda.so.1'; dlerror: libcuda.so.1: cannot open shared object file: No such file or directory\n",
      "2022-10-06 05:21:15.486639: W tensorflow/stream_executor/cuda/cuda_driver.cc:263] failed call to cuInit: UNKNOWN ERROR (303)\n",
      "2022-10-06 05:21:15.486663: I tensorflow/stream_executor/cuda/cuda_diagnostics.cc:156] kernel driver does not appear to be running on this host (g2.bigtop.it): /proc/driver/nvidia/version does not exist\n",
      "2022-10-06 05:21:15.491350: W tensorflow/stream_executor/platform/default/dso_loader.cc:64] Could not load dynamic library 'libcuda.so.1'; dlerror: libcuda.so.1: cannot open shared object file: No such file or directory\n",
      "2022-10-06 05:21:15.491390: W tensorflow/stream_executor/cuda/cuda_driver.cc:263] failed call to cuInit: UNKNOWN ERROR (303)\n",
      "2022-10-06 05:21:15.491418: I tensorflow/stream_executor/cuda/cuda_diagnostics.cc:156] kernel driver does not appear to be running on this host (g2.bigtop.it): /proc/driver/nvidia/version does not exist\n",
      "2022-10-06 05:21:15.521228: I tensorflow/core/platform/cpu_feature_guard.cc:193] This TensorFlow binary is optimized with oneAPI Deep Neural Network Library (oneDNN) to use the following CPU instructions in performance-critical operations:  AVX2 FMA\n",
      "To enable them in other operations, rebuild TensorFlow with the appropriate compiler flags.\n",
      "2022-10-06 05:21:15.524525: I tensorflow/core/platform/cpu_feature_guard.cc:193] This TensorFlow binary is optimized with oneAPI Deep Neural Network Library (oneDNN) to use the following CPU instructions in performance-critical operations:  AVX2 FMA\n",
      "To enable them in other operations, rebuild TensorFlow with the appropriate compiler flags.\n",
      "2022-10-06 05:21:15.528277: W tensorflow/stream_executor/platform/default/dso_loader.cc:64] Could not load dynamic library 'libcuda.so.1'; dlerror: libcuda.so.1: cannot open shared object file: No such file or directory\n",
      "2022-10-06 05:21:15.528333: W tensorflow/stream_executor/cuda/cuda_driver.cc:263] failed call to cuInit: UNKNOWN ERROR (303)\n",
      "2022-10-06 05:21:15.528378: I tensorflow/stream_executor/cuda/cuda_diagnostics.cc:156] kernel driver does not appear to be running on this host (g2.bigtop.it): /proc/driver/nvidia/version does not exist\n",
      "2022-10-06 05:21:15.530295: W tensorflow/stream_executor/platform/default/dso_loader.cc:64] Could not load dynamic library 'libcuda.so.1'; dlerror: libcuda.so.1: cannot open shared object file: No such file or directory\n",
      "2022-10-06 05:21:15.530330: W tensorflow/stream_executor/cuda/cuda_driver.cc:263] failed call to cuInit: UNKNOWN ERROR (303)\n",
      "2022-10-06 05:21:15.530368: I tensorflow/stream_executor/cuda/cuda_diagnostics.cc:156] kernel driver does not appear to be running on this host (g2.bigtop.it): /proc/driver/nvidia/version does not exist\n",
      "2022-10-06 05:21:15.620851: I tensorflow/core/platform/cpu_feature_guard.cc:193] This TensorFlow binary is optimized with oneAPI Deep Neural Network Library (oneDNN) to use the following CPU instructions in performance-critical operations:  AVX2 FMA\n",
      "To enable them in other operations, rebuild TensorFlow with the appropriate compiler flags.\n",
      "2022-10-06 05:21:15.623507: W tensorflow/stream_executor/platform/default/dso_loader.cc:64] Could not load dynamic library 'libcuda.so.1'; dlerror: libcuda.so.1: cannot open shared object file: No such file or directory\n",
      "2022-10-06 05:21:15.623533: W tensorflow/stream_executor/cuda/cuda_driver.cc:263] failed call to cuInit: UNKNOWN ERROR (303)\n",
      "2022-10-06 05:21:15.623568: I tensorflow/stream_executor/cuda/cuda_diagnostics.cc:156] kernel driver does not appear to be running on this host (g2.bigtop.it): /proc/driver/nvidia/version does not exist\n",
      "2022-10-06 05:21:15.908760: I tensorflow/core/platform/cpu_feature_guard.cc:193] This TensorFlow binary is optimized with oneAPI Deep Neural Network Library (oneDNN) to use the following CPU instructions in performance-critical operations:  AVX2 FMA\n",
      "To enable them in other operations, rebuild TensorFlow with the appropriate compiler flags.\n",
      "2022-10-06 05:21:15.909360: W tensorflow/stream_executor/platform/default/dso_loader.cc:64] Could not load dynamic library 'libcuda.so.1'; dlerror: libcuda.so.1: cannot open shared object file: No such file or directory\n",
      "2022-10-06 05:21:15.909378: W tensorflow/stream_executor/cuda/cuda_driver.cc:263] failed call to cuInit: UNKNOWN ERROR (303)\n",
      "2022-10-06 05:21:15.909405: I tensorflow/stream_executor/cuda/cuda_diagnostics.cc:156] kernel driver does not appear to be running on this host (g2.bigtop.it): /proc/driver/nvidia/version does not exist\n",
      "2022-10-06 05:21:15.974907: I tensorflow/core/platform/cpu_feature_guard.cc:193] This TensorFlow binary is optimized with oneAPI Deep Neural Network Library (oneDNN) to use the following CPU instructions in performance-critical operations:  AVX2 FMA\n",
      "To enable them in other operations, rebuild TensorFlow with the appropriate compiler flags.\n",
      "2022-10-06 05:21:15.977333: W tensorflow/stream_executor/platform/default/dso_loader.cc:64] Could not load dynamic library 'libcuda.so.1'; dlerror: libcuda.so.1: cannot open shared object file: No such file or directory\n",
      "2022-10-06 05:21:15.977365: W tensorflow/stream_executor/cuda/cuda_driver.cc:263] failed call to cuInit: UNKNOWN ERROR (303)\n",
      "2022-10-06 05:21:15.977392: I tensorflow/stream_executor/cuda/cuda_diagnostics.cc:156] kernel driver does not appear to be running on this host (g2.bigtop.it): /proc/driver/nvidia/version does not exist\n",
      "2022-10-06 05:21:16.607140: I tensorflow/compiler/mlir/mlir_graph_optimization_pass.cc:354] MLIR V1 optimization pass is not enabled\n",
      "2022-10-06 05:21:16.609339: I tensorflow/compiler/mlir/mlir_graph_optimization_pass.cc:354] MLIR V1 optimization pass is not enabled\n",
      "2022-10-06 05:21:16.613467: I tensorflow/compiler/mlir/mlir_graph_optimization_pass.cc:354] MLIR V1 optimization pass is not enabled\n",
      "2022-10-06 05:21:16.617457: I tensorflow/compiler/mlir/mlir_graph_optimization_pass.cc:354] MLIR V1 optimization pass is not enabled\n",
      "2022-10-06 05:21:16.617809: I tensorflow/compiler/mlir/mlir_graph_optimization_pass.cc:354] MLIR V1 optimization pass is not enabled\n",
      "2022-10-06 05:21:16.621522: I tensorflow/compiler/mlir/mlir_graph_optimization_pass.cc:354] MLIR V1 optimization pass is not enabled\n",
      "2022-10-06 05:21:16.622494: I tensorflow/compiler/mlir/mlir_graph_optimization_pass.cc:354] MLIR V1 optimization pass is not enabled\n",
      "2022-10-06 05:21:16.624741: I tensorflow/compiler/mlir/mlir_graph_optimization_pass.cc:354] MLIR V1 optimization pass is not enabled\n",
      "2022-10-06 05:21:16.629410: I tensorflow/compiler/mlir/mlir_graph_optimization_pass.cc:354] MLIR V1 optimization pass is not enabled\n",
      "2022-10-06 05:21:16.656934: I tensorflow/compiler/mlir/mlir_graph_optimization_pass.cc:354] MLIR V1 optimization pass is not enabled\n",
      "2022-10-06 05:21:16.665926: I tensorflow/compiler/mlir/mlir_graph_optimization_pass.cc:354] MLIR V1 optimization pass is not enabled\n",
      "2022-10-06 05:21:16.700325: I tensorflow/compiler/mlir/mlir_graph_optimization_pass.cc:354] MLIR V1 optimization pass is not enabled\n",
      "2022-10-06 05:21:16.703500: I tensorflow/compiler/mlir/mlir_graph_optimization_pass.cc:354] MLIR V1 optimization pass is not enabled\n",
      "2022-10-06 05:21:16.723759: I tensorflow/compiler/mlir/mlir_graph_optimization_pass.cc:354] MLIR V1 optimization pass is not enabled\n",
      "2022-10-06 05:21:16.727586: I tensorflow/compiler/mlir/mlir_graph_optimization_pass.cc:354] MLIR V1 optimization pass is not enabled\n",
      "2022-10-06 05:21:16.744200: I tensorflow/compiler/mlir/mlir_graph_optimization_pass.cc:354] MLIR V1 optimization pass is not enabled\n",
      "2022-10-06 05:21:16.792866: I tensorflow/compiler/mlir/mlir_graph_optimization_pass.cc:354] MLIR V1 optimization pass is not enabled\n",
      "2022-10-06 05:21:16.801372: I tensorflow/compiler/mlir/mlir_graph_optimization_pass.cc:354] MLIR V1 optimization pass is not enabled\n",
      "2022-10-06 05:21:16.948749: I tensorflow/compiler/mlir/mlir_graph_optimization_pass.cc:354] MLIR V1 optimization pass is not enabled\n",
      "2022-10-06 05:21:17.065115: I tensorflow/compiler/mlir/mlir_graph_optimization_pass.cc:354] MLIR V1 optimization pass is not enabled\n",
      "                                                                                \r"
     ]
    }
   ],
   "source": [
    "from detectBIBM import *\n",
    "df = df.repartition(54)\n",
    "df = df.withColumn(\"tag\", posUDF(df.text)).collect()"
   ]
  },
  {
   "cell_type": "code",
   "execution_count": 30,
   "id": "a04750ed-85a3-4d6d-9832-99b9417e70be",
   "metadata": {
    "collapsed": true,
    "jupyter": {
     "outputs_hidden": true
    },
    "tags": []
   },
   "outputs": [
    {
     "name": "stderr",
     "output_type": "stream",
     "text": [
      "                                                                                \r"
     ]
    },
    {
     "name": "stdout",
     "output_type": "stream",
     "text": [
      "done\n"
     ]
    },
    {
     "name": "stderr",
     "output_type": "stream",
     "text": [
      "                                                                                \r"
     ]
    },
    {
     "name": "stdout",
     "output_type": "stream",
     "text": [
      "done\n"
     ]
    },
    {
     "name": "stderr",
     "output_type": "stream",
     "text": [
      "                                                                                \r"
     ]
    },
    {
     "name": "stdout",
     "output_type": "stream",
     "text": [
      "done\n"
     ]
    },
    {
     "name": "stderr",
     "output_type": "stream",
     "text": [
      "                                                                                \r"
     ]
    },
    {
     "name": "stdout",
     "output_type": "stream",
     "text": [
      "done\n"
     ]
    },
    {
     "name": "stderr",
     "output_type": "stream",
     "text": [
      "                                                                                \r"
     ]
    },
    {
     "name": "stdout",
     "output_type": "stream",
     "text": [
      "done\n"
     ]
    },
    {
     "name": "stderr",
     "output_type": "stream",
     "text": [
      "                                                                                \r"
     ]
    },
    {
     "name": "stdout",
     "output_type": "stream",
     "text": [
      "done\n"
     ]
    },
    {
     "name": "stderr",
     "output_type": "stream",
     "text": [
      "                                                                                \r"
     ]
    },
    {
     "name": "stdout",
     "output_type": "stream",
     "text": [
      "done\n"
     ]
    },
    {
     "name": "stderr",
     "output_type": "stream",
     "text": [
      "                                                                                \r"
     ]
    },
    {
     "name": "stdout",
     "output_type": "stream",
     "text": [
      "done\n"
     ]
    },
    {
     "name": "stderr",
     "output_type": "stream",
     "text": [
      "                                                                                \r"
     ]
    },
    {
     "name": "stdout",
     "output_type": "stream",
     "text": [
      "done\n"
     ]
    },
    {
     "name": "stderr",
     "output_type": "stream",
     "text": [
      "                                                                                \r"
     ]
    },
    {
     "name": "stdout",
     "output_type": "stream",
     "text": [
      "done\n"
     ]
    },
    {
     "name": "stderr",
     "output_type": "stream",
     "text": [
      "                                                                                \r"
     ]
    },
    {
     "name": "stdout",
     "output_type": "stream",
     "text": [
      "done\n"
     ]
    },
    {
     "name": "stderr",
     "output_type": "stream",
     "text": [
      "                                                                                \r"
     ]
    },
    {
     "name": "stdout",
     "output_type": "stream",
     "text": [
      "done\n"
     ]
    },
    {
     "name": "stderr",
     "output_type": "stream",
     "text": [
      "                                                                                \r"
     ]
    },
    {
     "name": "stdout",
     "output_type": "stream",
     "text": [
      "done\n"
     ]
    },
    {
     "name": "stderr",
     "output_type": "stream",
     "text": [
      "                                                                                \r"
     ]
    },
    {
     "name": "stdout",
     "output_type": "stream",
     "text": [
      "done\n"
     ]
    },
    {
     "name": "stderr",
     "output_type": "stream",
     "text": [
      "                                                                                \r"
     ]
    },
    {
     "name": "stdout",
     "output_type": "stream",
     "text": [
      "done\n"
     ]
    },
    {
     "name": "stderr",
     "output_type": "stream",
     "text": [
      "                                                                                \r"
     ]
    },
    {
     "name": "stdout",
     "output_type": "stream",
     "text": [
      "done\n"
     ]
    },
    {
     "name": "stderr",
     "output_type": "stream",
     "text": [
      "                                                                                \r"
     ]
    },
    {
     "name": "stdout",
     "output_type": "stream",
     "text": [
      "done\n"
     ]
    },
    {
     "name": "stderr",
     "output_type": "stream",
     "text": [
      "                                                                                \r"
     ]
    },
    {
     "name": "stdout",
     "output_type": "stream",
     "text": [
      "done\n"
     ]
    },
    {
     "name": "stderr",
     "output_type": "stream",
     "text": [
      "                                                                                \r"
     ]
    },
    {
     "name": "stdout",
     "output_type": "stream",
     "text": [
      "done\n"
     ]
    },
    {
     "name": "stderr",
     "output_type": "stream",
     "text": [
      "                                                                                \r"
     ]
    },
    {
     "name": "stdout",
     "output_type": "stream",
     "text": [
      "done\n"
     ]
    },
    {
     "name": "stderr",
     "output_type": "stream",
     "text": [
      "                                                                                \r"
     ]
    },
    {
     "name": "stdout",
     "output_type": "stream",
     "text": [
      "done\n"
     ]
    },
    {
     "name": "stderr",
     "output_type": "stream",
     "text": [
      "                                                                                \r"
     ]
    },
    {
     "name": "stdout",
     "output_type": "stream",
     "text": [
      "done\n"
     ]
    },
    {
     "name": "stderr",
     "output_type": "stream",
     "text": [
      "                                                                                \r"
     ]
    },
    {
     "name": "stdout",
     "output_type": "stream",
     "text": [
      "done\n"
     ]
    },
    {
     "name": "stderr",
     "output_type": "stream",
     "text": [
      "                                                                                \r"
     ]
    },
    {
     "name": "stdout",
     "output_type": "stream",
     "text": [
      "done\n"
     ]
    },
    {
     "name": "stderr",
     "output_type": "stream",
     "text": [
      "                                                                                \r"
     ]
    },
    {
     "name": "stdout",
     "output_type": "stream",
     "text": [
      "done\n"
     ]
    },
    {
     "name": "stderr",
     "output_type": "stream",
     "text": [
      "                                                                                \r"
     ]
    },
    {
     "name": "stdout",
     "output_type": "stream",
     "text": [
      "done\n"
     ]
    },
    {
     "name": "stderr",
     "output_type": "stream",
     "text": [
      "                                                                                \r"
     ]
    },
    {
     "name": "stdout",
     "output_type": "stream",
     "text": [
      "done\n"
     ]
    },
    {
     "name": "stderr",
     "output_type": "stream",
     "text": [
      "                                                                                \r"
     ]
    },
    {
     "name": "stdout",
     "output_type": "stream",
     "text": [
      "done\n"
     ]
    },
    {
     "name": "stderr",
     "output_type": "stream",
     "text": [
      "                                                                                \r"
     ]
    },
    {
     "name": "stdout",
     "output_type": "stream",
     "text": [
      "done\n"
     ]
    },
    {
     "name": "stderr",
     "output_type": "stream",
     "text": [
      "                                                                                \r"
     ]
    },
    {
     "name": "stdout",
     "output_type": "stream",
     "text": [
      "done\n"
     ]
    },
    {
     "name": "stderr",
     "output_type": "stream",
     "text": [
      "                                                                                \r"
     ]
    },
    {
     "name": "stdout",
     "output_type": "stream",
     "text": [
      "done\n"
     ]
    },
    {
     "name": "stderr",
     "output_type": "stream",
     "text": [
      "                                                                                \r"
     ]
    },
    {
     "name": "stdout",
     "output_type": "stream",
     "text": [
      "done\n"
     ]
    },
    {
     "name": "stderr",
     "output_type": "stream",
     "text": [
      "                                                                                \r"
     ]
    },
    {
     "name": "stdout",
     "output_type": "stream",
     "text": [
      "done\n"
     ]
    },
    {
     "name": "stderr",
     "output_type": "stream",
     "text": [
      "                                                                                \r"
     ]
    },
    {
     "name": "stdout",
     "output_type": "stream",
     "text": [
      "done\n"
     ]
    },
    {
     "name": "stderr",
     "output_type": "stream",
     "text": [
      "                                                                                \r"
     ]
    },
    {
     "name": "stdout",
     "output_type": "stream",
     "text": [
      "done\n"
     ]
    },
    {
     "name": "stderr",
     "output_type": "stream",
     "text": [
      "                                                                                \r"
     ]
    },
    {
     "name": "stdout",
     "output_type": "stream",
     "text": [
      "done\n"
     ]
    },
    {
     "name": "stderr",
     "output_type": "stream",
     "text": [
      "                                                                                \r"
     ]
    },
    {
     "name": "stdout",
     "output_type": "stream",
     "text": [
      "done\n"
     ]
    },
    {
     "name": "stderr",
     "output_type": "stream",
     "text": [
      "                                                                                \r"
     ]
    },
    {
     "name": "stdout",
     "output_type": "stream",
     "text": [
      "done\n"
     ]
    },
    {
     "name": "stderr",
     "output_type": "stream",
     "text": [
      "                                                                                \r"
     ]
    },
    {
     "name": "stdout",
     "output_type": "stream",
     "text": [
      "done\n"
     ]
    },
    {
     "name": "stderr",
     "output_type": "stream",
     "text": [
      "                                                                                \r"
     ]
    },
    {
     "name": "stdout",
     "output_type": "stream",
     "text": [
      "done\n"
     ]
    },
    {
     "name": "stderr",
     "output_type": "stream",
     "text": [
      "                                                                                \r"
     ]
    },
    {
     "name": "stdout",
     "output_type": "stream",
     "text": [
      "done\n"
     ]
    },
    {
     "name": "stderr",
     "output_type": "stream",
     "text": [
      "                                                                                \r"
     ]
    },
    {
     "name": "stdout",
     "output_type": "stream",
     "text": [
      "done\n"
     ]
    },
    {
     "name": "stderr",
     "output_type": "stream",
     "text": [
      "                                                                                \r"
     ]
    },
    {
     "name": "stdout",
     "output_type": "stream",
     "text": [
      "done\n"
     ]
    },
    {
     "name": "stderr",
     "output_type": "stream",
     "text": [
      "                                                                                \r"
     ]
    },
    {
     "name": "stdout",
     "output_type": "stream",
     "text": [
      "done\n"
     ]
    },
    {
     "name": "stderr",
     "output_type": "stream",
     "text": [
      "                                                                                \r"
     ]
    },
    {
     "name": "stdout",
     "output_type": "stream",
     "text": [
      "done\n"
     ]
    },
    {
     "name": "stderr",
     "output_type": "stream",
     "text": [
      "                                                                                \r"
     ]
    },
    {
     "name": "stdout",
     "output_type": "stream",
     "text": [
      "done\n"
     ]
    },
    {
     "name": "stderr",
     "output_type": "stream",
     "text": [
      "                                                                                \r"
     ]
    },
    {
     "name": "stdout",
     "output_type": "stream",
     "text": [
      "done\n"
     ]
    },
    {
     "name": "stderr",
     "output_type": "stream",
     "text": [
      "                                                                                \r"
     ]
    },
    {
     "name": "stdout",
     "output_type": "stream",
     "text": [
      "done\n"
     ]
    },
    {
     "name": "stderr",
     "output_type": "stream",
     "text": [
      "                                                                                \r"
     ]
    },
    {
     "name": "stdout",
     "output_type": "stream",
     "text": [
      "done\n"
     ]
    },
    {
     "name": "stderr",
     "output_type": "stream",
     "text": [
      "                                                                                \r"
     ]
    },
    {
     "name": "stdout",
     "output_type": "stream",
     "text": [
      "done\n"
     ]
    },
    {
     "name": "stderr",
     "output_type": "stream",
     "text": [
      "                                                                                \r"
     ]
    },
    {
     "name": "stdout",
     "output_type": "stream",
     "text": [
      "done\n"
     ]
    },
    {
     "name": "stderr",
     "output_type": "stream",
     "text": [
      "                                                                                \r"
     ]
    },
    {
     "name": "stdout",
     "output_type": "stream",
     "text": [
      "done\n"
     ]
    },
    {
     "name": "stderr",
     "output_type": "stream",
     "text": [
      "                                                                                \r"
     ]
    },
    {
     "name": "stdout",
     "output_type": "stream",
     "text": [
      "done\n"
     ]
    },
    {
     "name": "stderr",
     "output_type": "stream",
     "text": [
      "                                                                                \r"
     ]
    },
    {
     "name": "stdout",
     "output_type": "stream",
     "text": [
      "done\n"
     ]
    },
    {
     "name": "stderr",
     "output_type": "stream",
     "text": [
      "                                                                                \r"
     ]
    },
    {
     "name": "stdout",
     "output_type": "stream",
     "text": [
      "done\n"
     ]
    },
    {
     "name": "stderr",
     "output_type": "stream",
     "text": [
      "                                                                                \r"
     ]
    },
    {
     "name": "stdout",
     "output_type": "stream",
     "text": [
      "done\n"
     ]
    },
    {
     "name": "stderr",
     "output_type": "stream",
     "text": [
      "                                                                                \r"
     ]
    },
    {
     "name": "stdout",
     "output_type": "stream",
     "text": [
      "done\n"
     ]
    },
    {
     "name": "stderr",
     "output_type": "stream",
     "text": [
      "                                                                                \r"
     ]
    },
    {
     "name": "stdout",
     "output_type": "stream",
     "text": [
      "done\n"
     ]
    },
    {
     "name": "stderr",
     "output_type": "stream",
     "text": [
      "                                                                                \r"
     ]
    },
    {
     "name": "stdout",
     "output_type": "stream",
     "text": [
      "done\n"
     ]
    },
    {
     "name": "stderr",
     "output_type": "stream",
     "text": [
      "                                                                                \r"
     ]
    },
    {
     "name": "stdout",
     "output_type": "stream",
     "text": [
      "done\n"
     ]
    },
    {
     "name": "stderr",
     "output_type": "stream",
     "text": [
      "                                                                                \r"
     ]
    },
    {
     "name": "stdout",
     "output_type": "stream",
     "text": [
      "done\n"
     ]
    },
    {
     "name": "stderr",
     "output_type": "stream",
     "text": [
      "                                                                                \r"
     ]
    },
    {
     "name": "stdout",
     "output_type": "stream",
     "text": [
      "done\n"
     ]
    },
    {
     "name": "stderr",
     "output_type": "stream",
     "text": [
      "                                                                                \r"
     ]
    },
    {
     "name": "stdout",
     "output_type": "stream",
     "text": [
      "done\n"
     ]
    },
    {
     "name": "stderr",
     "output_type": "stream",
     "text": [
      "                                                                                \r"
     ]
    },
    {
     "name": "stdout",
     "output_type": "stream",
     "text": [
      "done\n"
     ]
    },
    {
     "name": "stderr",
     "output_type": "stream",
     "text": [
      "                                                                                \r"
     ]
    },
    {
     "name": "stdout",
     "output_type": "stream",
     "text": [
      "done\n"
     ]
    },
    {
     "name": "stderr",
     "output_type": "stream",
     "text": [
      "                                                                                \r"
     ]
    },
    {
     "name": "stdout",
     "output_type": "stream",
     "text": [
      "done\n"
     ]
    },
    {
     "name": "stderr",
     "output_type": "stream",
     "text": [
      "                                                                                \r"
     ]
    },
    {
     "name": "stdout",
     "output_type": "stream",
     "text": [
      "done\n"
     ]
    },
    {
     "name": "stderr",
     "output_type": "stream",
     "text": [
      "                                                                                \r"
     ]
    },
    {
     "name": "stdout",
     "output_type": "stream",
     "text": [
      "done\n"
     ]
    },
    {
     "name": "stderr",
     "output_type": "stream",
     "text": [
      "                                                                                \r"
     ]
    },
    {
     "name": "stdout",
     "output_type": "stream",
     "text": [
      "done\n"
     ]
    },
    {
     "name": "stderr",
     "output_type": "stream",
     "text": [
      "                                                                                \r"
     ]
    },
    {
     "name": "stdout",
     "output_type": "stream",
     "text": [
      "done\n"
     ]
    },
    {
     "name": "stderr",
     "output_type": "stream",
     "text": [
      "                                                                                \r"
     ]
    },
    {
     "name": "stdout",
     "output_type": "stream",
     "text": [
      "done\n"
     ]
    },
    {
     "name": "stderr",
     "output_type": "stream",
     "text": [
      "                                                                                \r"
     ]
    },
    {
     "name": "stdout",
     "output_type": "stream",
     "text": [
      "done\n"
     ]
    },
    {
     "name": "stderr",
     "output_type": "stream",
     "text": [
      "                                                                                \r"
     ]
    },
    {
     "name": "stdout",
     "output_type": "stream",
     "text": [
      "done\n"
     ]
    },
    {
     "name": "stderr",
     "output_type": "stream",
     "text": [
      "                                                                                \r"
     ]
    },
    {
     "name": "stdout",
     "output_type": "stream",
     "text": [
      "done\n"
     ]
    },
    {
     "name": "stderr",
     "output_type": "stream",
     "text": [
      "                                                                                \r"
     ]
    },
    {
     "name": "stdout",
     "output_type": "stream",
     "text": [
      "done\n"
     ]
    },
    {
     "name": "stderr",
     "output_type": "stream",
     "text": [
      "                                                                                \r"
     ]
    },
    {
     "name": "stdout",
     "output_type": "stream",
     "text": [
      "done\n"
     ]
    },
    {
     "name": "stderr",
     "output_type": "stream",
     "text": [
      "                                                                                \r"
     ]
    },
    {
     "name": "stdout",
     "output_type": "stream",
     "text": [
      "done\n"
     ]
    },
    {
     "name": "stderr",
     "output_type": "stream",
     "text": [
      "                                                                                \r"
     ]
    },
    {
     "name": "stdout",
     "output_type": "stream",
     "text": [
      "done\n"
     ]
    },
    {
     "name": "stderr",
     "output_type": "stream",
     "text": [
      "                                                                                \r"
     ]
    },
    {
     "name": "stdout",
     "output_type": "stream",
     "text": [
      "done\n"
     ]
    },
    {
     "name": "stderr",
     "output_type": "stream",
     "text": [
      "                                                                                \r"
     ]
    },
    {
     "name": "stdout",
     "output_type": "stream",
     "text": [
      "done\n"
     ]
    },
    {
     "name": "stderr",
     "output_type": "stream",
     "text": [
      "                                                                                \r"
     ]
    },
    {
     "name": "stdout",
     "output_type": "stream",
     "text": [
      "done\n"
     ]
    },
    {
     "name": "stderr",
     "output_type": "stream",
     "text": [
      "                                                                                \r"
     ]
    },
    {
     "name": "stdout",
     "output_type": "stream",
     "text": [
      "done\n"
     ]
    },
    {
     "name": "stderr",
     "output_type": "stream",
     "text": [
      "                                                                                \r"
     ]
    },
    {
     "name": "stdout",
     "output_type": "stream",
     "text": [
      "done\n"
     ]
    },
    {
     "name": "stderr",
     "output_type": "stream",
     "text": [
      "                                                                                \r"
     ]
    },
    {
     "name": "stdout",
     "output_type": "stream",
     "text": [
      "done\n"
     ]
    },
    {
     "name": "stderr",
     "output_type": "stream",
     "text": [
      "                                                                                \r"
     ]
    },
    {
     "name": "stdout",
     "output_type": "stream",
     "text": [
      "done\n"
     ]
    },
    {
     "name": "stderr",
     "output_type": "stream",
     "text": [
      "                                                                                \r"
     ]
    },
    {
     "name": "stdout",
     "output_type": "stream",
     "text": [
      "done\n"
     ]
    },
    {
     "name": "stderr",
     "output_type": "stream",
     "text": [
      "                                                                                \r"
     ]
    },
    {
     "name": "stdout",
     "output_type": "stream",
     "text": [
      "done\n"
     ]
    },
    {
     "name": "stderr",
     "output_type": "stream",
     "text": [
      "                                                                                \r"
     ]
    },
    {
     "name": "stdout",
     "output_type": "stream",
     "text": [
      "done\n"
     ]
    },
    {
     "name": "stderr",
     "output_type": "stream",
     "text": [
      "                                                                                \r"
     ]
    },
    {
     "name": "stdout",
     "output_type": "stream",
     "text": [
      "done\n"
     ]
    },
    {
     "name": "stderr",
     "output_type": "stream",
     "text": [
      "                                                                                \r"
     ]
    },
    {
     "name": "stdout",
     "output_type": "stream",
     "text": [
      "done\n"
     ]
    },
    {
     "name": "stderr",
     "output_type": "stream",
     "text": [
      "                                                                                \r"
     ]
    },
    {
     "name": "stdout",
     "output_type": "stream",
     "text": [
      "done\n"
     ]
    },
    {
     "name": "stderr",
     "output_type": "stream",
     "text": [
      "                                                                                \r"
     ]
    },
    {
     "name": "stdout",
     "output_type": "stream",
     "text": [
      "done\n"
     ]
    },
    {
     "name": "stderr",
     "output_type": "stream",
     "text": [
      "                                                                                \r"
     ]
    },
    {
     "name": "stdout",
     "output_type": "stream",
     "text": [
      "done\n"
     ]
    },
    {
     "name": "stderr",
     "output_type": "stream",
     "text": [
      "                                                                                \r"
     ]
    },
    {
     "name": "stdout",
     "output_type": "stream",
     "text": [
      "done\n"
     ]
    },
    {
     "name": "stderr",
     "output_type": "stream",
     "text": [
      "                                                                                \r"
     ]
    },
    {
     "name": "stdout",
     "output_type": "stream",
     "text": [
      "done\n"
     ]
    },
    {
     "name": "stderr",
     "output_type": "stream",
     "text": [
      "                                                                                \r"
     ]
    },
    {
     "name": "stdout",
     "output_type": "stream",
     "text": [
      "done\n"
     ]
    },
    {
     "name": "stderr",
     "output_type": "stream",
     "text": [
      "                                                                                \r"
     ]
    },
    {
     "name": "stdout",
     "output_type": "stream",
     "text": [
      "done\n"
     ]
    },
    {
     "name": "stderr",
     "output_type": "stream",
     "text": [
      "                                                                                \r"
     ]
    },
    {
     "name": "stdout",
     "output_type": "stream",
     "text": [
      "done\n"
     ]
    },
    {
     "name": "stderr",
     "output_type": "stream",
     "text": [
      "                                                                                \r"
     ]
    },
    {
     "name": "stdout",
     "output_type": "stream",
     "text": [
      "done\n"
     ]
    },
    {
     "name": "stderr",
     "output_type": "stream",
     "text": [
      "                                                                                \r"
     ]
    },
    {
     "name": "stdout",
     "output_type": "stream",
     "text": [
      "done\n"
     ]
    },
    {
     "name": "stderr",
     "output_type": "stream",
     "text": [
      "                                                                                \r"
     ]
    },
    {
     "name": "stdout",
     "output_type": "stream",
     "text": [
      "done\n"
     ]
    },
    {
     "name": "stderr",
     "output_type": "stream",
     "text": [
      "                                                                                \r"
     ]
    },
    {
     "name": "stdout",
     "output_type": "stream",
     "text": [
      "done\n"
     ]
    },
    {
     "name": "stderr",
     "output_type": "stream",
     "text": [
      "                                                                                \r"
     ]
    },
    {
     "name": "stdout",
     "output_type": "stream",
     "text": [
      "done\n"
     ]
    },
    {
     "name": "stderr",
     "output_type": "stream",
     "text": [
      "                                                                                \r"
     ]
    },
    {
     "name": "stdout",
     "output_type": "stream",
     "text": [
      "done\n"
     ]
    },
    {
     "name": "stderr",
     "output_type": "stream",
     "text": [
      "                                                                                \r"
     ]
    },
    {
     "name": "stdout",
     "output_type": "stream",
     "text": [
      "done\n"
     ]
    },
    {
     "name": "stderr",
     "output_type": "stream",
     "text": [
      "                                                                                \r"
     ]
    },
    {
     "name": "stdout",
     "output_type": "stream",
     "text": [
      "done\n"
     ]
    },
    {
     "name": "stderr",
     "output_type": "stream",
     "text": [
      "                                                                                \r"
     ]
    },
    {
     "name": "stdout",
     "output_type": "stream",
     "text": [
      "done\n"
     ]
    },
    {
     "name": "stderr",
     "output_type": "stream",
     "text": [
      "                                                                                \r"
     ]
    },
    {
     "name": "stdout",
     "output_type": "stream",
     "text": [
      "done\n"
     ]
    },
    {
     "name": "stderr",
     "output_type": "stream",
     "text": [
      "                                                                                \r"
     ]
    },
    {
     "name": "stdout",
     "output_type": "stream",
     "text": [
      "done\n"
     ]
    },
    {
     "name": "stderr",
     "output_type": "stream",
     "text": [
      "                                                                                \r"
     ]
    },
    {
     "name": "stdout",
     "output_type": "stream",
     "text": [
      "done\n"
     ]
    },
    {
     "name": "stderr",
     "output_type": "stream",
     "text": [
      "                                                                                \r"
     ]
    },
    {
     "name": "stdout",
     "output_type": "stream",
     "text": [
      "done\n"
     ]
    },
    {
     "name": "stderr",
     "output_type": "stream",
     "text": [
      "                                                                                \r"
     ]
    },
    {
     "name": "stdout",
     "output_type": "stream",
     "text": [
      "done\n"
     ]
    },
    {
     "name": "stderr",
     "output_type": "stream",
     "text": [
      "                                                                                \r"
     ]
    },
    {
     "name": "stdout",
     "output_type": "stream",
     "text": [
      "done\n"
     ]
    },
    {
     "name": "stderr",
     "output_type": "stream",
     "text": [
      "                                                                                \r"
     ]
    },
    {
     "name": "stdout",
     "output_type": "stream",
     "text": [
      "done\n"
     ]
    },
    {
     "name": "stderr",
     "output_type": "stream",
     "text": [
      "                                                                                \r"
     ]
    },
    {
     "name": "stdout",
     "output_type": "stream",
     "text": [
      "done\n"
     ]
    },
    {
     "name": "stderr",
     "output_type": "stream",
     "text": [
      "                                                                                \r"
     ]
    },
    {
     "name": "stdout",
     "output_type": "stream",
     "text": [
      "done\n"
     ]
    },
    {
     "name": "stderr",
     "output_type": "stream",
     "text": [
      "                                                                                \r"
     ]
    },
    {
     "name": "stdout",
     "output_type": "stream",
     "text": [
      "done\n"
     ]
    },
    {
     "name": "stderr",
     "output_type": "stream",
     "text": [
      "                                                                                \r"
     ]
    },
    {
     "name": "stdout",
     "output_type": "stream",
     "text": [
      "done\n"
     ]
    },
    {
     "name": "stderr",
     "output_type": "stream",
     "text": [
      "                                                                                \r"
     ]
    },
    {
     "name": "stdout",
     "output_type": "stream",
     "text": [
      "done\n"
     ]
    },
    {
     "name": "stderr",
     "output_type": "stream",
     "text": [
      "                                                                                \r"
     ]
    },
    {
     "name": "stdout",
     "output_type": "stream",
     "text": [
      "done\n"
     ]
    },
    {
     "name": "stderr",
     "output_type": "stream",
     "text": [
      "                                                                                \r"
     ]
    },
    {
     "name": "stdout",
     "output_type": "stream",
     "text": [
      "done\n"
     ]
    },
    {
     "name": "stderr",
     "output_type": "stream",
     "text": [
      "                                                                                \r"
     ]
    },
    {
     "name": "stdout",
     "output_type": "stream",
     "text": [
      "done\n",
      "done\n"
     ]
    }
   ],
   "source": [
    "for i in range(123):\n",
    "    temp = read_avro(f\"IN/{i}.avro\")\n",
    "    temp = temp.repartition(54)\n",
    "    temp = temp.withColumn(\"tag\", posUDF(temp.text))\n",
    "    write_avro(temp, f\"OUT/{i}\")\n",
    "    temp.unpersist()\n",
    "    print(\"done\")"
   ]
  },
  {
   "cell_type": "markdown",
   "id": "0b334905-c3a8-4e0e-a47d-cfb508288267",
   "metadata": {},
   "source": [
    "## MERGE"
   ]
  },
  {
   "cell_type": "code",
   "execution_count": 32,
   "id": "a1e5873d-6084-48a2-b99f-e4054d5cf3c0",
   "metadata": {
    "collapsed": true,
    "jupyter": {
     "outputs_hidden": true
    },
    "tags": []
   },
   "outputs": [
    {
     "name": "stdout",
     "output_type": "stream",
     "text": [
      "0\n",
      "1\n",
      "2\n",
      "3\n",
      "4\n",
      "5\n",
      "6\n",
      "7\n",
      "8\n",
      "9\n",
      "10\n",
      "11\n",
      "12\n",
      "13\n",
      "14\n",
      "15\n",
      "16\n",
      "17\n",
      "18\n",
      "19\n",
      "20\n",
      "21\n",
      "22\n",
      "23\n",
      "24\n",
      "25\n",
      "26\n",
      "27\n",
      "28\n",
      "29\n",
      "30\n",
      "31\n",
      "32\n",
      "33\n",
      "34\n",
      "35\n",
      "36\n",
      "37\n",
      "38\n",
      "39\n",
      "40\n",
      "41\n",
      "42\n",
      "43\n",
      "44\n",
      "45\n",
      "46\n",
      "47\n",
      "48\n",
      "49\n",
      "50\n",
      "51\n",
      "52\n",
      "53\n",
      "54\n",
      "55\n",
      "56\n",
      "57\n",
      "58\n",
      "59\n",
      "60\n",
      "61\n",
      "62\n",
      "63\n",
      "64\n",
      "65\n",
      "66\n",
      "67\n",
      "68\n",
      "69\n",
      "70\n",
      "71\n",
      "72\n",
      "73\n",
      "74\n",
      "75\n",
      "76\n",
      "77\n",
      "78\n",
      "79\n",
      "80\n",
      "81\n",
      "82\n",
      "83\n",
      "84\n",
      "85\n",
      "86\n",
      "87\n",
      "88\n",
      "89\n",
      "90\n",
      "91\n",
      "92\n",
      "93\n",
      "94\n",
      "95\n",
      "96\n",
      "97\n",
      "98\n",
      "99\n",
      "100\n",
      "101\n",
      "102\n",
      "103\n",
      "104\n",
      "105\n",
      "106\n",
      "107\n",
      "108\n",
      "109\n",
      "110\n",
      "111\n",
      "112\n",
      "113\n",
      "114\n",
      "115\n",
      "116\n",
      "117\n",
      "118\n",
      "119\n",
      "120\n",
      "121\n",
      "122\n"
     ]
    },
    {
     "name": "stderr",
     "output_type": "stream",
     "text": [
      "                                                                                \r"
     ]
    }
   ],
   "source": [
    "from functools import reduce  # For Python 3.x\n",
    "from pyspark.sql import DataFrame\n",
    "\n",
    "def unionAll(*dfs):\n",
    "    return reduce(DataFrame.unionAll, dfs)\n",
    "\n",
    "union = None\n",
    "\n",
    "for i in range(123):\n",
    "    print(i)\n",
    "    if union == None:\n",
    "        union = read_avro(f\"OUT/{i}\")\n",
    "    else:\n",
    "        df = read_avro(f\"OUT/{i}\")\n",
    "        union = unionAll(union, df)\n",
    "        df.unpersist()\n",
    "\n",
    "write_avro(union, \"output/8_BM_TAGS\")"
   ]
  },
  {
   "cell_type": "code",
   "execution_count": 34,
   "id": "84ea10c1-efa8-4ff1-9e4d-f5c62ef6fd8e",
   "metadata": {
    "collapsed": true,
    "jupyter": {
     "outputs_hidden": true
    },
    "tags": []
   },
   "outputs": [
    {
     "name": "stdout",
     "output_type": "stream",
     "text": [
      "+----------------------------------------------------------------------------------------------------------------------------------------------------------------------------------------------------------------------------------------------------------------+------+--------------------------------------------------------------------------------------------------------------------------------------------------------------------------------------------------------------------------------------------------------------------------------------------------------------------------------------------------------------------------------------------------------------------------------------------------------------------------------------------------------------------+\n",
      "|text                                                                                                                                                                                                                                                            |id    |tag                                                                                                                                                                                                                                                                                                                                                                                                                                                                                                                 |\n",
      "+----------------------------------------------------------------------------------------------------------------------------------------------------------------------------------------------------------------------------------------------------------------+------+--------------------------------------------------------------------------------------------------------------------------------------------------------------------------------------------------------------------------------------------------------------------------------------------------------------------------------------------------------------------------------------------------------------------------------------------------------------------------------------------------------------------+\n",
      "|jun fachhochschule bingen stefangeorge gymnasium hildegardisschule bingen rochusrealschule rupertus hauptschule sekolah vokasional bingen perpustakaan awam bingen tidak diketahui johann baptist hilsdorf jurugambar dan bapa kepada theodor dan jacob         |45307 |[[jun, fachhochschule, bingen, stefangeorge, gymnasium, hildegardisschule, bingen, rochusrealschule, rupertus, hauptschule, sekolah, vokasional, bingen, perpustakaan, awam, bingen, tidak, diketahui, johann, baptist, hilsdorf, jurugambar, dan, bapa, kepada, theodor, dan, jacob], [NOUN, NOUN, NOUN, NOUN, NOUN, NOUN, NOUN, NOUN, NOUN, NOUN, NOUN, NOUN, NOUN, NOUN, ADJ, NOUN, PART, VERB, NOUN, NOUN, PROPN, NOUN, CCONJ, NOUN, ADP, NOUN, CCONJ, NOUN]]                                                   |\n",
      "|majangdong merupakan sebuah dong dan kawasan perbandaran yang terletak di daerah seongdong wilayah seoul korea selatan                                                                                                                                          |45512 |[[majangdong, merupakan, sebuah, dong, dan, kawasan, perbandaran, yang, terletak, di, daerah, seongdong, wilayah, seoul, korea, selatan], [NOUN, VERB, DET, NOUN, CCONJ, NOUN, NOUN, PRON, VERB, ADP, NOUN, NOUN, NOUN, NOUN, NOUN, NOUN]]                                                                                                                                                                                                                                                                          |\n",
      "|sebuah lagi kampung adalah di daeseongdong korea selatan kilometer jaraknya dari kijŏngdong                                                                                                                                                                     |45395 |[[sebuah, lagi, kampung, adalah, di, daeseongdong, korea, selatan, kilometer, jaraknya, dari, kijongdong], [DET, ADV, NOUN, AUX, ADP, NOUN, PROPN, NOUN, NOUN, NOUN, ADP, PROPN]]                                                                                                                                                                                                                                                                                                                                   |\n",
      "|contohnya rambutan boleh dikategorikan kepada varieti botani yang berbeza mengikut warna kulit buah sama ada kuning varieti gading r atau varieti merah rambutan anak sekolah dan rambutan gula batu r                                                          |45712 |[[contohnya, rambutan, boleh, dikategorikan, kepada, varieti, botani, yang, berbeza, mengikut, warna, kulit, buah, sama, ada, kuning, varieti, gading, r, atau, varieti, merah, rambutan, anak, sekolah, dan, rambutan, gula, batu, r], [NOUN, NOUN, ADV, VERB, ADP, NOUN, NOUN, PRON, ADJ, NOUN, NOUN, NOUN, NOUN, ADV, VERB, NOUN, NOUN, NOUN, NOUN, CCONJ, NOUN, ADJ, NOUN, NOUN, NOUN, CCONJ, NOUN, NOUN, NOUN, PROPN]]                                                                                         |\n",
      "|komun di jabatan illeetvilaine bandar persekutuan illeetvilaine fail komun insee ministry of culture list for lieuron                                                                                                                                           |45775 |[[komun, di, jabatan, illeetvilaine, bandar, persekutuan, illeetvilaine, fail, komun, insee, ministry, of, culture, list, for, lieuron], [NOUN, ADP, NOUN, PROPN, PROPN, NOUN, PROPN, NOUN, NOUN, PROPN, NOUN, PROPN, PROPN, NOUN, ADP, PROPN]]                                                                                                                                                                                                                                                                     |\n",
      "|aschèreslemarché ialah komun di jabatan loiret di bahagian centre utara tengah perancis                                                                                                                                                                         |45073 |[[aschereslemarche, ialah, komun, di, jabatan, loiret, di, bahagian, centre, utara, tengah, perancis], [NOUN, AUX, NOUN, ADP, NOUN, NOUN, ADP, NOUN, ADJ, NOUN, ADP, NOUN]]                                                                                                                                                                                                                                                                                                                                         |\n",
      "|lubok kawah merupakan sebuah mukim yang terdapat di daerah besut terengganu                                                                                                                                                                                     |45926 |[[lubok, kawah, merupakan, sebuah, mukim, yang, terdapat, di, daerah, besut, terengganu], [NOUN, PROPN, VERB, DET, NOUN, PRON, VERB, ADP, NOUN, NOUN, PROPN]]                                                                                                                                                                                                                                                                                                                                                       |\n",
      "|karena pondok pesantren ini ditunjang dengan sekolah umum tingkat smp smu smk murah di bawah pengelolaan yayasan budi utomo                                                                                                                                     |45516 |[[karena, pondok, pesantren, ini, ditunjang, dengan, sekolah, umum, tingkat, smp, smu, smk, murah, di, bawah, pengelolaan, yayasan, budi, utomo], [SCONJ, PROPN, NOUN, DET, VERB, ADP, NOUN, ADJ, NOUN, NOUN, NOUN, VERB, ADJ, ADP, NOUN, NOUN, NOUN, NOUN, PROPN]]                                                                                                                                                                                                                                                 |\n",
      "|amboiva merupakan sebuah bandar dan komun yang terletak di dalam negara angola                                                                                                                                                                                  |45341 |[[amboiva, merupakan, sebuah, bandar, dan, komun, yang, terletak, di, dalam, negara, angola], [NOUN, VERB, DET, NOUN, CCONJ, NOUN, PRON, VERB, ADP, ADP, NOUN, PROPN]]                                                                                                                                                                                                                                                                                                                                              |\n",
      "|tuduhandadah november seorang wanita bernama arimah sagi ditemui rentung selepas rumahnya di kampung tambilaung di sini musnah dalam kebakaran pada kirakira jam pagi di kota belud sabah                                                                       |45666 |[[tuduhandadah, november, seorang, wanita, bernama, arimah, sagi, ditemui, rentung, selepas, rumahnya, di, kampung, tambilaung, di, sini, musnah, dalam, kebakaran, pada, kirakira, jam, pagi, di, kota, belud, sabah], [NOUN, NOUN, DET, NOUN, VERB, PROPN, NOUN, VERB, ADP, ADP, NOUN, ADP, NOUN, NOUN, ADP, NOUN, VERB, ADP, NOUN, ADP, NOUN, NOUN, NOUN, ADP, NOUN, NOUN, PROPN]]                                                                                                                               |\n",
      "|pada sekolah kebangsaan sungai nibong memiliki pelajar lelaki dan pelajar perempuan menjadikan jumlah keseluruhan murid seramai orang                                                                                                                           |45696 |[[pada, sekolah, kebangsaan, sungai, nibong, memiliki, pelajar, lelaki, dan, pelajar, perempuan, menjadikan, jumlah, keseluruhan, murid, seramai, orang], [ADP, NOUN, PROPN, PROPN, NOUN, VERB, NOUN, ADJ, CCONJ, NOUN, ADJ, VERB, NOUN, PRON, NOUN, ADP, NOUN]]                                                                                                                                                                                                                                                    |\n",
      "|antikomunis yang bersemangat syngman rhee yang merupakan presiden pertama kerajaan sementara dan kemudian bekerja sebagai pelobi prokorea di amerika syarikat menjadi ahli politik paling terkemuka di selatan                                                  |45801 |[[antikomunis, yang, bersemangat, syngman, rhee, yang, merupakan, presiden, pertama, kerajaan, sementara, dan, kemudian, bekerja, sebagai, pelobi, prokorea, di, amerika, syarikat, menjadi, ahli, politik, paling, terkemuka, di, selatan], [NOUN, PRON, VERB, NOUN, PROPN, PRON, VERB, NOUN, NUM, NOUN, ADJ, CCONJ, ADV, VERB, ADP, NOUN, NOUN, ADP, NOUN, NOUN, VERB, NOUN, NOUN, ADV, ADJ, ADP, NOUN]]                                                                                                          |\n",
      "|namun begitu tidak seorang pun yang datang mendaftarkan diri ke smk kabogan ii kerana lokasi kedua sekolah ini yang terletak agak jauh                                                                                                                          |45789 |[[namun, begitu, tidak, seorang, pun, yang, datang, mendaftarkan, diri, ke, smk, kabogan, ii, kerana, lokasi, kedua, sekolah, ini, yang, terletak, agak, jauh], [CCONJ, ADV, PART, DET, PART, PRON, VERB, VERB, NOUN, ADP, NOUN, NOUN, NUM, SCONJ, NOUN, NUM, NOUN, DET, PRON, VERB, ADV, ADJ]]                                                                                                                                                                                                                     |\n",
      "|limba b merupakan sebuah desa yang terletak dalam daerah kecamatan kota selatan kota gorontalo provinsi gorontalo indonesia                                                                                                                                     |45044 |[[limba, b, merupakan, sebuah, desa, yang, terletak, dalam, daerah, kecamatan, kota, selatan, kota, gorontalo, provinsi, gorontalo, indonesia], [PROPN, PROPN, VERB, DET, NOUN, PRON, VERB, ADP, NOUN, NOUN, NOUN, NOUN, NOUN, PROPN, PROPN, PROPN, PROPN]]                                                                                                                                                                                                                                                         |\n",
      "|anjing serigala czechoslovakia anjing serigala itali anjing serigala kunming anjing serigala saarloos anjing tamaskan persatuan inuit utara rencana anjing inuit utara aboutcom inuit utara anjing inuit utara anjing inuit utara anjing inuit utara anjing     |45588 |[[anjing, serigala, czechoslovakia, anjing, serigala, itali, anjing, serigala, kunming, anjing, serigala, saarloos, anjing, tamaskan, persatuan, inuit, utara, rencana, anjing, inuit, utara, aboutcom, inuit, utara, anjing, inuit, utara, anjing, inuit, utara, anjing, inuit, utara, anjing], [NOUN, NOUN, NOUN, NOUN, NOUN, NOUN, NOUN, NOUN, NOUN, NOUN, NOUN, ADJ, NOUN, VERB, NOUN, PROPN, NOUN, NOUN, NOUN, PROPN, NOUN, PROPN, PROPN, NOUN, NOUN, PROPN, NOUN, NOUN, PROPN, NOUN, NOUN, PROPN, NOUN, NOUN]]|\n",
      "|teori keduaan ini mengutarakan ketidakmampuan konsepkonsep lama seperti zarah dan gelombang untuk menjelaskan tindakan objek bersaiz kuantum dengan sempurna                                                                                                    |45449 |[[teori, keduaan, ini, mengutarakan, ketidakmampuan, konsepkonsep, lama, seperti, zarah, dan, gelombang, untuk, menjelaskan, tindakan, objek, bersaiz, kuantum, dengan, sempurna], [NOUN, NOUN, DET, VERB, NOUN, NOUN, ADJ, ADP, NOUN, CCONJ, NOUN, ADP, VERB, NOUN, NOUN, VERB, NOUN, ADP, ADJ]]                                                                                                                                                                                                                   |\n",
      "|kiri letak distrik kurbin di albania daerah kurbin merupakan sebuah daerah di albania yang memiliki luas wilayah km dan populasi orang pada tahun                                                                                                               |45644 |[[kiri, letak, distrik, kurbin, di, albania, daerah, kurbin, merupakan, sebuah, daerah, di, albania, yang, memiliki, luas, wilayah, km, dan, populasi, orang, pada, tahun], [NOUN, NOUN, NOUN, NOUN, ADP, NOUN, NOUN, PROPN, VERB, DET, NOUN, ADP, PROPN, PRON, VERB, NOUN, NOUN, SYM, CCONJ, NOUN, NOUN, ADP, NOUN]]                                                                                                                                                                                               |\n",
      "|syedpur merupakan sebuah kampung yang terletak di bangladesh                                                                                                                                                                                                    |45128 |[[syedpur, merupakan, sebuah, kampung, yang, terletak, di, bangladesh], [PROPN, VERB, DET, NOUN, PRON, VERB, ADP, NOUN]]                                                                                                                                                                                                                                                                                                                                                                                            |\n",
      "|seperti pelajar di sekolah menengah awam pelajar di sekolah tinggi persendirian cina juga akan dikategorikan kepada aliran sains dan aliran perdagangan sastera bermula senior                                                                                  |45059 |[[seperti, pelajar, di, sekolah, menengah, awam, pelajar, di, sekolah, tinggi, persendirian, cina, juga, akan, dikategorikan, kepada, aliran, sains, dan, aliran, perdagangan, sastera, bermula, senior], [ADP, NOUN, ADP, NOUN, NOUN, ADJ, NOUN, ADP, NOUN, ADJ, ADJ, NOUN, ADV, ADV, VERB, ADP, NOUN, ADJ, CCONJ, NOUN, NOUN, NOUN, VERB, ADJ]]                                                                                                                                                                   |\n",
      "|komun di jabatan hautesaône                                                                                                                                                                                                                                     |45855 |[[komun, di, jabatan, hautesaone], [NOUN, ADP, NOUN, NOUN]]                                                                                                                                                                                                                                                                                                                                                                                                                                                         |\n",
      "|lodhikheda ialah sebuah perbandaran nagar panchayat dalam daerah chhindwara di negeri madhya pradesh india                                                                                                                                                      |45529 |[[lodhikheda, ialah, sebuah, perbandaran, nagar, panchayat, dalam, daerah, chhindwara, di, negeri, madhya, pradesh, india], [NOUN, AUX, DET, NOUN, NOUN, PROPN, ADP, NOUN, PROPN, ADP, NOUN, PROPN, PROPN, PROPN]]                                                                                                                                                                                                                                                                                                  |\n",
      "|abkhazia ossetia selatan dan transnistria semua tergolong dalam komuniti demokrasi dan hak asasi manusia sebuah kumpulan yang cuba untuk membawa lebih jauh tidak diiktiraf negerinegeri yang datang dari bekas kesatuan soviet                                 |45481 |[[abkhazia, ossetia, selatan, dan, transnistria, semua, tergolong, dalam, komuniti, demokrasi, dan, hak, asasi, manusia, sebuah, kumpulan, yang, cuba, untuk, membawa, lebih, jauh, tidak, diiktiraf, negerinegeri, yang, datang, dari, bekas, kesatuan, soviet], [NOUN, NOUN, NOUN, CCONJ, NOUN, DET, VERB, ADP, NOUN, NOUN, CCONJ, NOUN, ADJ, NOUN, DET, NOUN, PRON, VERB, ADP, VERB, ADV, ADJ, PART, VERB, NOUN, PRON, VERB, ADP, NOUN, NOUN, NOUN]]                                                             |\n",
      "|melihat kepada pertambahan pelajar yang semakin meningkat penduduk kampung bergotongroyong membina sebuah bangunan kayu yang lebih besar dan menamakannya sekolah rakyat hutan kubur                                                                            |45984 |[[melihat, kepada, pertambahan, pelajar, yang, semakin, meningkat, penduduk, kampung, bergotongroyong, membina, sebuah, bangunan, kayu, yang, lebih, besar, dan, menamakannya, sekolah, rakyat, hutan, kubur], [VERB, ADP, NOUN, NOUN, PRON, ADV, VERB, NOUN, NOUN, VERB, VERB, DET, NOUN, NOUN, PRON, ADV, ADJ, CCONJ, VERB, NOUN, NOUN, NOUN, NOUN]]                                                                                                                                                              |\n",
      "|negara chola menurut adat tamil negara chola lama mengandungi daerahdaerah yang termasuk pada hari kini daerah tirachirappli dan thanjavur di negeri tamil nadu                                                                                                 |45063 |[[negara, chola, menurut, adat, tamil, negara, chola, lama, mengandungi, daerahdaerah, yang, termasuk, pada, hari, kini, daerah, tirachirappli, dan, thanjavur, di, negeri, tamil, nadu], [NOUN, PROPN, ADP, NOUN, NOUN, NOUN, PROPN, ADJ, VERB, NOUN, PRON, VERB, ADP, NOUN, NOUN, NOUN, PROPN, CCONJ, NOUN, ADP, NOUN, PROPN, PROPN]]                                                                                                                                                                             |\n",
      "|sawari jawharnagar ialah sebuah bandar banci census town dalam daerah bhandara di negeri maharashtra india                                                                                                                                                      |45255 |[[sawari, jawharnagar, ialah, sebuah, bandar, banci, census, town, dalam, daerah, bhandara, di, negeri, maharashtra, india], [NOUN, NOUN, AUX, DET, NOUN, NOUN, NOUN, PROPN, ADP, NOUN, NOUN, ADP, NOUN, PROPN, PROPN]]                                                                                                                                                                                                                                                                                             |\n",
      "|perkara perwakilan dalam parlimen persekutuan ini sepatutnya bukan hanya bergantung kepada jumlah penduduk borneo utara tetapi juga kepada keluasan dan keupayaannya dan dalam manamana perkara ia sepatutnya tidak kurang dari jumlah perwakilan dari singapura|45272 |[[perkara, perwakilan, dalam, parlimen, persekutuan, ini, sepatutnya, bukan, hanya, bergantung, kepada, jumlah, penduduk, borneo, utara, tetapi, juga, kepada, keluasan, dan, keupayaannya, dan, dalam, manamana, perkara, ia, sepatutnya, tidak, kurang, dari, jumlah, perwakilan, dari, singapura], [NOUN, NOUN, ADP, NOUN, NOUN, DET, ADV, PART, ADV, VERB, ADP, NOUN, NOUN, PROPN, PROPN, CCONJ, ADV, ADP, NOUN, CCONJ, NOUN, CCONJ, ADP, NOUN, NOUN, PRON, ADV, PART, ADV, ADP, NOUN, NOUN, ADP, NOUN]]        |\n",
      "|daerah tábor wilayah bohemia selatan rencana ini diterjemahkan daripada wikipedia bahasa czech                                                                                                                                                                  |45369 |[[daerah, tabor, wilayah, bohemia, selatan, rencana, ini, diterjemahkan, daripada, wikipedia, bahasa, czech], [NOUN, NOUN, NOUN, PROPN, NOUN, NOUN, DET, VERB, ADP, NOUN, NOUN, PROPN]]                                                                                                                                                                                                                                                                                                                             |\n",
      "|antara program yang boleh dilaksanakan adalah seperti pesta jualan makanan kurang atau tanpa gula pameranpameran tentang bahayanya pengambilan gula secara berlebihan serta ceramah kesedaran di sekolahsekolah oleh pegawai kesihatan                          |45817 |[[antara, program, yang, boleh, dilaksanakan, adalah, seperti, pesta, jualan, makanan, kurang, atau, tanpa, gula, pameranpameran, tentang, bahayanya, pengambilan, gula, secara, berlebihan, serta, ceramah, kesedaran, di, sekolahsekolah, oleh, pegawai, kesihatan], [ADP, NOUN, PRON, ADV, VERB, AUX, ADP, NOUN, NOUN, NOUN, ADJ, CCONJ, ADP, NOUN, NOUN, ADP, NOUN, NOUN, NOUN, ADP, ADJ, CCONJ, NOUN, NOUN, ADP, NOUN, ADP, NOUN, NOUN]]                                                                       |\n",
      "|daerah ini diawasi oleh syahbandar yang dlantik untuk memungut cukai hasil hutan dan hasil laut                                                                                                                                                                 |45680 |[[daerah, ini, diawasi, oleh, syahbandar, yang, dlantik, untuk, memungut, cukai, hasil, hutan, dan, hasil, laut], [NOUN, DET, VERB, ADP, NOUN, PRON, VERB, ADP, VERB, NOUN, NOUN, NOUN, CCONJ, NOUN, NOUN]]                                                                                                                                                                                                                                                                                                         |\n",
      "|bangladesh bersempadan dengan india di sebelah barat utara dan timur dengan myanmar di sebelah tenggara dan teluk bengal di sebelah selatan                                                                                                                     |45634 |[[bangladesh, bersempadan, dengan, india, di, sebelah, barat, utara, dan, timur, dengan, myanmar, di, sebelah, tenggara, dan, teluk, bengal, di, sebelah, selatan], [NOUN, VERB, ADP, NOUN, ADP, ADP, NOUN, NOUN, CCONJ, NOUN, ADP, PROPN, ADP, ADP, NOUN, CCONJ, NOUN, PROPN, ADP, ADP, NOUN]]                                                                                                                                                                                                                     |\n",
      "|kampung saba darat b senarai kampung di brunei saba darat a                                                                                                                                                                                                     |45296 |[[kampung, saba, darat, b, senarai, kampung, di, brunei, saba, darat, a], [NOUN, PROPN, PROPN, X, NOUN, NOUN, ADP, PROPN, PROPN, NOUN, PROPN]]                                                                                                                                                                                                                                                                                                                                                                      |\n",
      "|pada tahun skjb mempunyai murid pra sekolah hinggalah ke murid darjah enam semuanya berjumlah orang murid                                                                                                                                                       |45326 |[[pada, tahun, skjb, mempunyai, murid, pra, sekolah, hinggalah, ke, murid, darjah, enam, semuanya, berjumlah, orang, murid], [ADP, NOUN, NOUN, VERB, NOUN, NOUN, VERB, ADP, ADP, NOUN, NOUN, NUM, PRON, VERB, NOUN, NOUN]]                                                                                                                                                                                                                                                                                          |\n",
      "|pagar gading merupakan sebuah desa yang terletak dalam daerah kecamatan pinoraya kabupaten bengkulu selatan provinsi bengkulu indonesia                                                                                                                         |45163 |[[pagar, gading, merupakan, sebuah, desa, yang, terletak, dalam, daerah, kecamatan, pinoraya, kabupaten, bengkulu, selatan, provinsi, bengkulu, indonesia], [NOUN, NOUN, VERB, DET, NOUN, PRON, VERB, ADP, NOUN, PROPN, PROPN, NOUN, PROPN, NOUN, PROPN, PROPN, PROPN]]                                                                                                                                                                                                                                             |\n",
      "|pada sekolah kebangsaan cheneh baru memiliki pelajar lelaki dan pelajar perempuan menjadikan jumlah keseluruhan murid seramai orang                                                                                                                             |45643 |[[pada, sekolah, kebangsaan, cheneh, baru, memiliki, pelajar, lelaki, dan, pelajar, perempuan, menjadikan, jumlah, keseluruhan, murid, seramai, orang], [ADP, NOUN, NOUN, PROPN, ADJ, VERB, NOUN, ADJ, CCONJ, NOUN, ADJ, VERB, NOUN, PRON, NOUN, ADP, NOUN]]                                                                                                                                                                                                                                                        |\n",
      "|komun di jabatan rhône saintcyrlechatoux                                                                                                                                                                                                                        |45436 |[[komun, di, jabatan, rhone, saintcyrlechatoux], [NOUN, ADP, NOUN, PROPN, PROPN]]                                                                                                                                                                                                                                                                                                                                                                                                                                   |\n",
      "|pada tahun sekolah tentera laut berpindah ke bangunan barunya di kasımpaşa                                                                                                                                                                                      |45143 |[[pada, tahun, sekolah, tentera, laut, berpindah, ke, bangunan, barunya, di, kasimpasa], [ADP, NOUN, NOUN, ADP, NOUN, VERB, ADP, NOUN, ADJ, ADP, NOUN]]                                                                                                                                                                                                                                                                                                                                                             |\n",
      "|dalam bahasa inggeris rabu dikenali sebagai hari woden disebabkan dewa orang rom merkury dikaitkan dengan woden di eropah utara                                                                                                                                 |45793 |[[dalam, bahasa, inggeris, rabu, dikenali, sebagai, hari, woden, disebabkan, dewa, orang, rom, merkury, dikaitkan, dengan, woden, di, eropah, utara], [ADP, NOUN, PROPN, PROPN, VERB, ADP, NOUN, NOUN, VERB, NOUN, NOUN, PROPN, NOUN, VERB, ADP, NOUN, ADP, NOUN, PROPN]]                                                                                                                                                                                                                                           |\n",
      "|sankar saraiya merupakan sebuah kampung yang terletak di nepal                                                                                                                                                                                                  |45215 |[[sankar, saraiya, merupakan, sebuah, kampung, yang, terletak, di, nepal], [NOUN, PROPN, VERB, DET, NOUN, PRON, VERB, ADP, PROPN]]                                                                                                                                                                                                                                                                                                                                                                                  |\n",
      "|pekan tambak jawa centre thumb geografi status mukim asal nama n a negara negeri daerah daerah kuala selangor mukim pekan tambak jawa keluasan n a pekan tambak jawa merupakan pecahan kawasan pentadbiran bagi negeri selangor                                 |45620 |[[pekan, tambak, jawa, centre, thumb, geografi, status, mukim, asal, nama, n, a, negara, negeri, daerah, daerah, kuala, selangor, mukim, pekan, tambak, jawa, keluasan, n, a, pekan, tambak, jawa, merupakan, pecahan, kawasan, pentadbiran, bagi, negeri, selangor], [NOUN, NOUN, NOUN, ADJ, PUNCT, NOUN, NOUN, NOUN, ADJ, NOUN, CCONJ, NOUN, NOUN, NOUN, NOUN, NOUN, PROPN, PROPN, NOUN, NOUN, NOUN, NOUN, NOUN, CCONJ, PROPN, NOUN, NOUN, NOUN, VERB, NOUN, NOUN, NOUN, ADP, NOUN, PROPN]]                       |\n",
      "|terdapat buah desa di dalam daerah kecamatan imogiri                                                                                                                                                                                                            |45432 |[[terdapat, buah, desa, di, dalam, daerah, kecamatan, imogiri], [VERB, NOUN, NOUN, ADP, ADP, NOUN, NOUN, PROPN]]                                                                                                                                                                                                                                                                                                                                                                                                    |\n",
      "|dipercayai hutan tersebut telah terbakar akibat musim kemarau yang melampau melanda kampung tersebut tanpa disangka hanya sebuah pokok yang terselamat iaitu pokok meranti                                                                                      |45670 |[[dipercayai, hutan, tersebut, telah, terbakar, akibat, musim, kemarau, yang, melampau, melanda, kampung, tersebut, tanpa, disangka, hanya, sebuah, pokok, yang, terselamat, iaitu, pokok, meranti], [VERB, NOUN, DET, ADV, VERB, NOUN, NOUN, NOUN, PRON, ADJ, VERB, NOUN, DET, ADP, VERB, ADV, DET, NOUN, PRON, VERB, SCONJ, NOUN, PROPN]]                                                                                                                                                                         |\n",
      "|sebagai ketua kelas di sekolah yaya menunjukkan sikap tegasnya tanpa rasa takut atau berat sebelah dalam mendenda pelajar yang melanggar peraturan disiplin sekolah baik pelajar biasa ataupun kawan baiknya sendiri                                            |45956 |[[sebagai, ketua, kelas, di, sekolah, yaya, menunjukkan, sikap, tegasnya, tanpa, rasa, takut, atau, berat, sebelah, dalam, mendenda, pelajar, yang, melanggar, peraturan, disiplin, sekolah, baik, pelajar, biasa, ataupun, kawan, baiknya, sendiri], [ADP, NOUN, NOUN, ADP, NOUN, NOUN, VERB, NOUN, ADJ, ADP, NOUN, VERB, CCONJ, ADJ, ADJ, ADP, VERB, NOUN, PRON, VERB, NOUN, NOUN, NOUN, ADJ, NOUN, ADJ, CCONJ, NOUN, NOUN, ADJ]]                                                                                 |\n",
      "|justeru istilah ini tidak menggambarkan sesuatu golongan communion ataupun sesuatu tradisi keagamaan malah beberapa gereja timur mempunyai lebih kesamaan dari segi sejarah dan teologi dengan kristian barat daripada kesamaan dengan gereja timur lain        |45285 |[[justeru, istilah, ini, tidak, menggambarkan, sesuatu, golongan, communion, ataupun, sesuatu, tradisi, keagamaan, malah, beberapa, gereja, timur, mempunyai, lebih, kesamaan, dari, segi, sejarah, dan, teologi, dengan, kristian, barat, daripada, kesamaan, dengan, gereja, timur, lain], [ADV, NOUN, DET, PART, VERB, DET, NOUN, PROPN, CCONJ, DET, NOUN, NOUN, ADV, DET, NOUN, NOUN, VERB, ADV, NOUN, ADP, NOUN, NOUN, CCONJ, NOUN, ADP, PROPN, NOUN, ADP, NOUN, ADP, NOUN, NOUN, ADJ]]                        |\n",
      "|dari ikatan inilah lahir teater utan kayu radio h galeri lontar kedai tempo jaringan islam liberal dan terakhir sekolah jurnalisme penyiaran yang meskipun tak tergabung dalam satu badan bersamasama disebut komunitas utan kayu                               |45075 |[[dari, ikatan, inilah, lahir, teater, utan, kayu, radio, h, galeri, lontar, kedai, tempo, jaringan, islam, liberal, dan, terakhir, sekolah, jurnalisme, penyiaran, yang, meskipun, tak, tergabung, dalam, satu, badan, bersamasama, disebut, komunitas, utan, kayu], [ADP, NOUN, DET, VERB, NOUN, NOUN, NOUN, PROPN, NOUN, NOUN, NOUN, NOUN, NOUN, NOUN, NOUN, ADJ, CCONJ, ADJ, NOUN, NOUN, NOUN, PRON, SCONJ, PART, VERB, ADP, NUM, NOUN, ADV, VERB, NOUN, NOUN, NOUN]]                                           |\n",
      "|aghadowey merupakan sebuah bandar dan kampung yang terletak di ireland utara united kingdom                                                                                                                                                                     |45911 |[[aghadowey, merupakan, sebuah, bandar, dan, kampung, yang, terletak, di, ireland, utara, united, kingdom], [PROPN, VERB, DET, NOUN, CCONJ, NOUN, PRON, VERB, ADP, PROPN, PROPN, PROPN, PROPN]]                                                                                                                                                                                                                                                                                                                     |\n",
      "|tinggi raja merupakan salah satu desa yang ada di kecamatan tinggi raja kabupaten asahan provinsi sumatera utara indonesia                                                                                                                                      |45082 |[[tinggi, raja, merupakan, salah, satu, desa, yang, ada, di, kecamatan, tinggi, raja, kabupaten, asahan, provinsi, sumatera, utara, indonesia], [ADJ, PROPN, VERB, DET, DET, NOUN, PRON, VERB, ADP, NOUN, ADJ, NOUN, NOUN, NOUN, PROPN, PROPN, PROPN, PROPN]]                                                                                                                                                                                                                                                       |\n",
      "|selepas kekalahan awal elemenelemen kor ii as dengan bantuan tentera british berkumpul dan mempertahankan jalan keluar melalui kaki gunung di barat tunisia mengalahkan penyerangan paksi                                                                       |45397 |[[selepas, kekalahan, awal, elemenelemen, kor, ii, as, dengan, bantuan, tentera, british, berkumpul, dan, mempertahankan, jalan, keluar, melalui, kaki, gunung, di, barat, tunisia, mengalahkan, penyerangan, paksi], [ADP, NOUN, ADJ, NOUN, ADJ, NUM, NOUN, ADP, NOUN, NOUN, NOUN, VERB, CCONJ, VERB, NOUN, ADJ, ADP, NOUN, NOUN, ADP, NOUN, NOUN, VERB, NOUN, NOUN]]                                                                                                                                              |\n",
      "|köhnə xudat merupakan sebuah kampung yang terletak di daerah khachmaz azerbaijan                                                                                                                                                                                |45458 |[[kohn, @, xudat, merupakan, sebuah, kampung, yang, terletak, di, daerah, khachmaz, azerbaijan], [NOUN, PUNCT, PROPN, VERB, DET, NOUN, PRON, VERB, ADP, NOUN, PROPN, PROPN]]                                                                                                                                                                                                                                                                                                                                        |\n",
      "|erlon ialah komun di jabatan aisne di picardy di utara perancis                                                                                                                                                                                                 |45782 |[[erlon, ialah, komun, di, jabatan, aisne, di, picardy, di, utara, perancis], [NOUN, AUX, NOUN, ADP, NOUN, NOUN, ADP, NOUN, ADP, NOUN, NOUN]]                                                                                                                                                                                                                                                                                                                                                                       |\n",
      "|jumlah pelajar juga telah meningkat ke orang pelajar dan orang guru smk kubor panjang dikenali di daerah pendang sebagai sebuah sekolah yang sentiasa mendominasi bidang pengucapan awam bahasa melayu dan bahasa inggeris                                      |45336 |[[jumlah, pelajar, juga, telah, meningkat, ke, orang, pelajar, dan, orang, guru, smk, kubor, panjang, dikenali, di, daerah, pendang, sebagai, sebuah, sekolah, yang, sentiasa, mendominasi, bidang, pengucapan, awam, bahasa, melayu, dan, bahasa, inggeris], [NOUN, NOUN, ADV, ADV, VERB, ADP, NOUN, NOUN, CCONJ, NOUN, NOUN, PROPN, PROPN, ADJ, VERB, ADP, NOUN, PROPN, ADP, DET, NOUN, PRON, ADV, VERB, NOUN, NOUN, ADJ, NOUN, PROPN, CCONJ, NOUN, PROPN]]                                                       |\n",
      "|pada sekolah kebangsaan dato ahmad manaf memiliki pelajar lelaki dan pelajar perempuan menjadikan jumlah keseluruhan murid seramai orang                                                                                                                        |45527 |[[pada, sekolah, kebangsaan, dato, ahmad, manaf, memiliki, pelajar, lelaki, dan, pelajar, perempuan, menjadikan, jumlah, keseluruhan, murid, seramai, orang], [ADP, NOUN, ADJ, PROPN, PROPN, NOUN, VERB, NOUN, ADJ, CCONJ, NOUN, ADJ, VERB, NOUN, PRON, NOUN, ADP, NOUN]]                                                                                                                                                                                                                                           |\n",
      "|kerajaan di daerah toraja sulawesi selatan                                                                                                                                                                                                                      |45311 |[[kerajaan, di, daerah, toraja, sulawesi, selatan], [NOUN, ADP, NOUN, PROPN, PROPN, NOUN]]                                                                                                                                                                                                                                                                                                                                                                                                                          |\n",
      "|dalam tempoh perlantikannya antara september dan oktober beliau bertanggungjawab untuk memperkenalkan dan menyelaraskan bidang akademik dan kokurikulum bagi semua sekolah di bawah jais                                                                        |45125 |[[dalam, tempoh, perlantikannya, antara, september, dan, oktober, beliau, bertanggungjawab, untuk, memperkenalkan, dan, menyelaraskan, bidang, akademik, dan, kokurikulum, bagi, semua, sekolah, di, bawah, jais], [ADP, NOUN, NOUN, ADP, PROPN, CCONJ, NOUN, PRON, VERB, ADP, VERB, CCONJ, VERB, NOUN, NOUN, CCONJ, NOUN, ADP, DET, NOUN, ADP, NOUN, NOUN]]                                                                                                                                                        |\n",
      "|komun di jabatan maineetloire fail komun insee saintrémy lavarenne                                                                                                                                                                                              |45269 |[[komun, di, jabatan, maineetloire, fail, komun, insee, saintremy, lavarenne], [NOUN, ADP, NOUN, NOUN, NOUN, NOUN, PROPN, ADJ, NOUN]]                                                                                                                                                                                                                                                                                                                                                                               |\n",
      "|konnur ialah sebuah bandar panchayat dalam daerah belgaum di negeri karnataka india                                                                                                                                                                             |45616 |[[konnur, ialah, sebuah, bandar, panchayat, dalam, daerah, belgaum, di, negeri, karnataka, india], [NOUN, AUX, DET, NOUN, NOUN, ADP, NOUN, PROPN, ADP, NOUN, PROPN, PROPN]]                                                                                                                                                                                                                                                                                                                                         |\n",
      "|parslèschavanges ialah komun di jabatan di aube utaratengah perancis                                                                                                                                                                                            |45200 |[[parsleschavanges, ialah, komun, di, jabatan, di, aube, utaratengah, perancis], [NOUN, AUX, NOUN, ADP, NOUN, ADP, NOUN, NOUN, NOUN]]                                                                                                                                                                                                                                                                                                                                                                               |\n",
      "|şıxlar merupakan sebuah kampung yang terletak di daerah masally azerbaijan                                                                                                                                                                                      |45599 |[[sixlar, merupakan, sebuah, kampung, yang, terletak, di, daerah, masally, azerbaijan], [NOUN, VERB, DET, NOUN, PRON, VERB, ADP, NOUN, NOUN, PROPN]]                                                                                                                                                                                                                                                                                                                                                                |\n",
      "|meythet ialah komun di jabatan hautesavoie di wilayah rhônealpes di perancis                                                                                                                                                                                    |45561 |[[meythet, ialah, komun, di, jabatan, hautesavoie, di, wilayah, rhonealpes, di, perancis], [PROPN, AUX, NOUN, ADP, NOUN, NOUN, ADP, NOUN, PROPN, ADP, NOUN]]                                                                                                                                                                                                                                                                                                                                                        |\n",
      "|dukuh merupakan sebuah desa kelurahan yang terletak dalam daerah kecamatan kubu kabupaten karangasem wilayah bali indonesia                                                                                                                                     |45654 |[[dukuh, merupakan, sebuah, desa, kelurahan, yang, terletak, dalam, daerah, kecamatan, kubu, kabupaten, karangasem, wilayah, bali, indonesia], [NOUN, VERB, DET, NOUN, NOUN, PRON, VERB, ADP, NOUN, NOUN, NOUN, NOUN, NOUN, NOUN, PROPN, PROPN]]                                                                                                                                                                                                                                                                    |\n",
      "|pada permulaanya muridmurid sekolah ini telah menumpang di sekolah menengah bachok                                                                                                                                                                              |118613|[[pada, permulaanya, muridmurid, sekolah, ini, telah, menumpang, di, sekolah, menengah, bachok], [ADP, NOUN, NOUN, NOUN, DET, ADV, VERB, ADP, NOUN, NOUN, PROPN]]                                                                                                                                                                                                                                                                                                                                                   |\n",
      "|pada mac semasa revolusi sosial yang diketuai puakpuak partai komunis indonesia sebuah kumpulan yang keras menentang feudalisme dan bangsawan kuasa amir dilucutkan daripadanya dan beliau ditahan kamiliah dan tahura terlepas                                 |118437|[[pada, mac, semasa, revolusi, sosial, yang, diketuai, puakpuak, partai, komunis, indonesia, sebuah, kumpulan, yang, keras, menentang, feudalisme, dan, bangsawan, kuasa, amir, dilucutkan, daripadanya, dan, beliau, ditahan, kamiliah, dan, tahura, terlepas], [ADP, NOUN, ADP, NOUN, NOUN, PRON, VERB, NOUN, NOUN, NOUN, PROPN, DET, NOUN, PRON, ADJ, VERB, NOUN, CCONJ, NOUN, NOUN, NOUN, VERB, NOUN, CCONJ, PRON, VERB, NOUN, CCONJ, NOUN, VERB]]                                                              |\n",
      "|smk seremban jaya smksj merupakan sebuah sekolah harian yang terletak di taman seremban jaya                                                                                                                                                                    |118708|[[smk, seremban, jaya, smksj, merupakan, sebuah, sekolah, harian, yang, terletak, di, taman, seremban, jaya], [PROPN, NOUN, PROPN, NOUN, VERB, DET, NOUN, ADJ, PRON, VERB, ADP, NOUN, PROPN, PROPN]]                                                                                                                                                                                                                                                                                                                |\n",
      "|walaupun mendapat persetujuan menteri besar pembinaan sekolah ini agak lambat dimulakan kerana masalah mendapatkan tapak yang sesuai sehingga pada tahun apabila tapak yang sesuai seluas ekar diperolehi                                                       |118439|[[walaupun, mendapat, persetujuan, menteri, besar, pembinaan, sekolah, ini, agak, lambat, dimulakan, kerana, masalah, mendapatkan, tapak, yang, sesuai, sehingga, pada, tahun, apabila, tapak, yang, sesuai, seluas, ekar, diperolehi], [SCONJ, VERB, NOUN, NOUN, ADJ, NOUN, NOUN, DET, ADV, ADJ, VERB, SCONJ, NOUN, VERB, NOUN, PRON, ADJ, SCONJ, ADP, NOUN, SCONJ, NOUN, PRON, ADJ, ADP, NOUN, VERB]]                                                                                                             |\n",
      "|memandangkan kekurangan sumber murid baharu dan projek rapid yang akan melibatkan kawasan sekolah puan chua telah mengambil tindakan untuk mengadakan beberapa kali mesyuarat dengan ahli jemaah pengurus bagi mengusulkan halhal berkaitan perpindahan sekolah |118574|[[memandangkan, kekurangan, sumber, murid, baharu, dan, projek, rapid, yang, akan, melibatkan, kawasan, sekolah, puan, chua, telah, mengambil, tindakan, untuk, mengadakan, beberapa, kali, mesyuarat, dengan, ahli, jemaah, pengurus, bagi, mengusulkan, halhal, berkaitan, perpindahan, sekolah], [ADP, NOUN, NOUN, NOUN, ADJ, CCONJ, NOUN, NOUN, PRON, ADV, VERB, NOUN, NOUN, ADJ, NOUN, ADV, VERB, NOUN, ADP, VERB, DET, NOUN, NOUN, ADP, NOUN, NOUN, NOUN, ADP, VERB, NOUN, VERB, NOUN, NOUN]]                 |\n",
      "|fasilitator penyelesai masalah juga menjadi sebahagian daripada ahli kumpulan perancangan strategik dan mengamalkan proses perhubungan awam seperti kajian tindakan komuniksai dan penilaian                                                                    |118599|[[fasilitator, penyelesai, masalah, juga, menjadi, sebahagian, daripada, ahli, kumpulan, perancangan, strategik, dan, mengamalkan, proses, perhubungan, awam, seperti, kajian, tindakan, komuniksai, dan, penilaian], [NOUN, NOUN, NOUN, ADV, VERB, NOUN, ADP, NOUN, NOUN, NOUN, ADJ, CCONJ, VERB, NOUN, NOUN, ADJ, ADP, NOUN, NOUN, PROPN, CCONJ, NOUN]]                                                                                                                                                           |\n",
      "|pentadbiran jajahan kota bharu dibahagikan kepada daerah penggawa iaitu daerah panji banggu kubang kerian kota pendek sering salor badang limbat beta ketereh peringat dan kadok dan kemumin                                                                    |118554|[[pentadbiran, jajahan, kota, bharu, dibahagikan, kepada, daerah, penggawa, iaitu, daerah, panji, banggu, kubang, kerian, kota, pendek, sering, salor, badang, limbat, beta, ketereh, peringat, dan, kadok, dan, kemumin], [NOUN, NOUN, NOUN, PROPN, VERB, ADP, NOUN, NOUN, SCONJ, NOUN, NOUN, NOUN, NOUN, NOUN, NOUN, ADJ, ADV, NOUN, ADJ, NOUN, PRON, NOUN, NOUN, CCONJ, NOUN, CCONJ, NOUN]]                                                                                                                      |\n",
      "|seterusnya pengenalan menasihati para komunis untuk secara terbuka mengumumkan pandangan dan tujuan mereka untuk menyatukan kisah taska kengerian komunisme dengan manifesto parti itu sendiri                                                                  |118046|[[seterusnya, pengenalan, menasihati, para, komunis, untuk, secara, terbuka, mengumumkan, pandangan, dan, tujuan, mereka, untuk, menyatukan, kisah, taska, kengerian, komunisme, dengan, manifesto, parti, itu, sendiri], [ADV, NOUN, VERB, DET, NOUN, ADP, ADV, VERB, VERB, NOUN, CCONJ, NOUN, PRON, ADP, VERB, NOUN, NOUN, NOUN, NOUN, ADP, NOUN, NOUN, DET, ADJ]]                                                                                                                                                |\n",
      "|objektif mereka dalam operasi melibatkan pendaratan di sebelah utara dan di sebelah timur bandar gela dan menawan dan mengawal kawasan tersebut untuk memotong saluran perbekalan dan perhubungan askar jerman                                                  |118091|[[objektif, mereka, dalam, operasi, melibatkan, pendaratan, di, sebelah, utara, dan, di, sebelah, timur, bandar, gela, dan, menawan, dan, mengawal, kawasan, tersebut, untuk, memotong, saluran, perbekalan, dan, perhubungan, askar, jerman], [NOUN, PRON, ADP, NOUN, VERB, NOUN, ADP, ADP, NOUN, CCONJ, ADP, ADP, NOUN, NOUN, NOUN, CCONJ, VERB, CCONJ, VERB, NOUN, DET, ADP, VERB, NOUN, NOUN, CCONJ, NOUN, NOUN, PROPN]]                                                                                        |\n",
      "|taktaszada merupakan sebuah kampung yang terletak di wilayah borsodabaúj zemplén di utara hungary                                                                                                                                                               |118884|[[taktaszada, merupakan, sebuah, kampung, yang, terletak, di, wilayah, borsodabauj, zemplen, di, utara, hungary], [NOUN, VERB, DET, NOUN, PRON, VERB, ADP, NOUN, NOUN, NOUN, ADP, NOUN, PROPN]]                                                                                                                                                                                                                                                                                                                     |\n",
      "|guyansvennes ialah komun di jabatan doubs di franchecomté di timur perancis                                                                                                                                                                                     |118813|[[guyansvennes, ialah, komun, di, jabatan, doubs, di, franchecomte, di, timur, perancis], [PROPN, AUX, NOUN, ADP, NOUN, NOUN, ADP, PROPN, ADP, NOUN, NOUN]]                                                                                                                                                                                                                                                                                                                                                         |\n",
      "|sekolah jenis kebangsaan c kai chee atau nama ringkasnya sjk c kai chee merupakan sebuah sekolah jenis kebangsaan cina yang terletak di sungai dua                                                                                                              |118528|[[sekolah, jenis, kebangsaan, c, kai, chee, atau, nama, ringkasnya, sjk, c, kai, chee, merupakan, sebuah, sekolah, jenis, kebangsaan, cina, yang, terletak, di, sungai, dua], [NOUN, NOUN, NOUN, NOUN, PROPN, NOUN, CCONJ, NOUN, ADV, NOUN, PROPN, PROPN, PROPN, VERB, DET, NOUN, NOUN, NOUN, NOUN, PRON, VERB, ADP, NOUN, NUM]]                                                                                                                                                                                    |\n",
      "|konsep ini bertujuan untuk menangani pelbagai persoalan termasuk etika dan keadilan bahasa dan komunikasi transspesies sistem sosial dan aspirasi intelektual antara disiplin                                                                                   |118886|[[konsep, ini, bertujuan, untuk, menangani, pelbagai, persoalan, termasuk, etika, dan, keadilan, bahasa, dan, komunikasi, transspesies, sistem, sosial, dan, aspirasi, intelektual, antara, disiplin], [NOUN, DET, VERB, ADP, VERB, DET, NOUN, VERB, NOUN, CCONJ, NOUN, NOUN, CCONJ, NOUN, NOUN, NOUN, NOUN, CCONJ, NOUN, ADJ, ADP, NOUN]]                                                                                                                                                                          |\n",
      "|ialah sebuah komun yang terletak di komun tarn di selatan perancis                                                                                                                                                                                              |118498|[[ialah, sebuah, komun, yang, terletak, di, komun, tarn, di, selatan, perancis], [AUX, DET, NOUN, PRON, VERB, ADP, NOUN, NOUN, ADP, NOUN, NOUN]]                                                                                                                                                                                                                                                                                                                                                                    |\n",
      "|merupakan sebuah kawasan perbandaran terletak di daerah ahrweiler north rhinewestphalia jerman                                                                                                                                                                  |118773|[[merupakan, sebuah, kawasan, perbandaran, terletak, di, daerah, ahrweiler, north, rhinewestphalia, jerman], [VERB, DET, NOUN, NOUN, VERB, ADP, NOUN, NOUN, PROPN, PROPN, PROPN]]                                                                                                                                                                                                                                                                                                                                   |\n",
      "|pada mulanya kehadiran bayi tersebut ke kampung tidak disukai orang ramai kerana bayi tersebut adalah anak diluar nikah                                                                                                                                         |118082|[[pada, mulanya, kehadiran, bayi, tersebut, ke, kampung, tidak, disukai, orang, ramai, kerana, bayi, tersebut, adalah, anak, diluar, nikah], [ADP, NOUN, NOUN, NOUN, DET, ADP, NOUN, PART, VERB, NOUN, ADJ, SCONJ, NOUN, DET, AUX, NOUN, ADP, NOUN]]                                                                                                                                                                                                                                                                |\n",
      "|ia berfungsi untuk membolehkan komuniti yang sihat dan selamat mengurangkan kelemahan menguatkan daya tahan dan memupuk budaya keamanan di seluruh dunia                                                                                                        |118136|[[ia, berfungsi, untuk, membolehkan, komuniti, yang, sihat, dan, selamat, mengurangkan, kelemahan, menguatkan, daya, tahan, dan, memupuk, budaya, keamanan, di, seluruh, dunia], [PRON, VERB, ADP, VERB, NOUN, PRON, VERB, CCONJ, ADJ, VERB, NOUN, VERB, NOUN, NOUN, CCONJ, VERB, NOUN, NOUN, ADP, DET, NOUN]]                                                                                                                                                                                                      |\n",
      "|sekolah kebangsaan sultan abdullah kampong cheh changkat jering negeri perak malaysia telefon sultan abdullah sultan abdullah                                                                                                                                   |118341|[[sekolah, kebangsaan, sultan, abdullah, kampong, cheh, changkat, jering, negeri, perak, malaysia, telefon, sultan, abdullah, sultan, abdullah], [NOUN, NOUN, PROPN, PROPN, NOUN, NOUN, NOUN, NOUN, NOUN, NOUN, PROPN, NOUN, PROPN, PROPN, PROPN, PROPN]]                                                                                                                                                                                                                                                           |\n",
      "|para daimyo yang bukan merupakan pengikut tokugawa ieyasu sebahagian besar diusir ke provinsi provinsi yang terdapat di sebelah barat jepun                                                                                                                     |118538|[[para, daimyo, yang, bukan, merupakan, pengikut, tokugawa, ieyasu, sebahagian, besar, diusir, ke, provinsi, provinsi, yang, terdapat, di, sebelah, barat, jepun], [DET, NOUN, PRON, PART, VERB, NOUN, NOUN, PROPN, NOUN, ADJ, VERB, ADP, PROPN, PROPN, PRON, VERB, ADP, ADP, NOUN, NOUN]]                                                                                                                                                                                                                          |\n",
      "|komun di jabatan hautesaône                                                                                                                                                                                                                                     |118330|[[komun, di, jabatan, hautesaone], [NOUN, ADP, NOUN, NOUN]]                                                                                                                                                                                                                                                                                                                                                                                                                                                         |\n",
      "|sdar lions adalah pasukan rugbi dari sdar yang dibentuk sejak sekolah ini ditubuhkan dan juga merupakan salah satu sukan yang paling popular di sdar                                                                                                            |118503|[[sdar, lions, adalah, pasukan, rugbi, dari, sdar, yang, dibentuk, sejak, sekolah, ini, ditubuhkan, dan, juga, merupakan, salah, satu, sukan, yang, paling, popular, di, sdar], [NOUN, PROPN, AUX, NOUN, NOUN, ADP, NOUN, PRON, VERB, ADP, NOUN, DET, VERB, CCONJ, ADV, VERB, DET, DET, NOUN, PRON, ADV, ADJ, ADP, NOUN]]                                                                                                                                                                                           |\n",
      "|tetapi pada bulan januari penghuni asrama hanya terdiri daripada pelajarpelajar sekolah ini bertujuan untuk memudahkan urusan pentadbiran asrama                                                                                                                |118883|[[tetapi, pada, bulan, januari, penghuni, asrama, hanya, terdiri, daripada, pelajarpelajar, sekolah, ini, bertujuan, untuk, memudahkan, urusan, pentadbiran, asrama], [CCONJ, ADP, NOUN, NOUN, NOUN, NOUN, ADV, VERB, ADP, NOUN, NOUN, DET, VERB, ADP, VERB, NOUN, NOUN, NOUN]]                                                                                                                                                                                                                                     |\n",
      "|sekolah dasar negeri cijantung atau nama ringkasnya sdn cijantung merupakan sebuah sekolah dasar negeri negeri yang terletak di cijantung jakarta timur indonesia                                                                                               |118571|[[sekolah, dasar, negeri, cijantung, atau, nama, ringkasnya, sdn, cijantung, merupakan, sebuah, sekolah, dasar, negeri, negeri, yang, terletak, di, cijantung, jakarta, timur, indonesia], [NOUN, ADJ, NOUN, PROPN, CCONJ, NOUN, VERB, NOUN, PROPN, VERB, DET, NOUN, ADJ, NOUN, NOUN, PRON, VERB, ADP, PROPN, NOUN, NOUN, PROPN]]                                                                                                                                                                                   |\n",
      "|nama wilayah ini tidak membawa erti di barat yangtze seperti yang dibayangkan daripada pembacaan harifahnya sebaliknya dipetik daripada penyingkatan jiangnan xi jiangnan barar atau secara lebih harfiahnya di barat bahagian selatan yangtze                  |118374|[[nama, wilayah, ini, tidak, membawa, erti, di, barat, yangtze, seperti, yang, dibayangkan, daripada, pembacaan, harifahnya, sebaliknya, dipetik, daripada, penyingkatan, jiangnan, xi, jiangnan, barar, atau, secara, lebih, harfiahnya, di, barat, bahagian, selatan, yangtze], [NOUN, NOUN, DET, PART, VERB, NOUN, ADP, NOUN, PRON, ADP, PRON, VERB, ADP, NOUN, NOUN, ADV, VERB, ADP, NOUN, NOUN, PUNCT, NOUN, PROPN, CCONJ, ADP, ADV, ADV, ADP, NOUN, NOUN, NOUN, PRON]]                                        |\n",
      "|rimeize ialah komun di jabatan lozère di selatan perancis                                                                                                                                                                                                       |118702|[[rimeize, ialah, komun, di, jabatan, lozere, di, selatan, perancis], [PROPN, AUX, NOUN, ADP, NOUN, NOUN, ADP, NOUN, NOUN]]                                                                                                                                                                                                                                                                                                                                                                                         |\n",
      "|batas selatan dengan plat cocos di barat dan plat caribbean di timur adalah kesalahan transform yang diwakili oleh cayman trench di bawah laut caribbean dan kerosakan motagua melalui guatemala                                                                |118641|[[batas, selatan, dengan, plat, cocos, di, barat, dan, plat, caribbean, di, timur, adalah, kesalahan, transform, yang, diwakili, oleh, cayman, trench, di, bawah, laut, caribbean, dan, kerosakan, motagua, melalui, guatemala], [NOUN, NOUN, ADP, NOUN, NOUN, ADP, NOUN, CCONJ, NOUN, NOUN, ADP, NOUN, AUX, NOUN, NOUN, PRON, VERB, ADP, NOUN, PROPN, ADP, NOUN, NOUN, PROPN, CCONJ, NOUN, NOUN, ADP, NOUN]]                                                                                                       |\n",
      "|beliau mendapat sokongan marshall aid sokongan kewangan amerika sangat menentang komunisme dan dibantu dalam penciptaan nato                                                                                                                                    |118386|[[beliau, mendapat, sokongan, marshall, aid, sokongan, kewangan, amerika, sangat, menentang, komunisme, dan, dibantu, dalam, penciptaan, nato], [PRON, VERB, NOUN, NOUN, NOUN, NOUN, NOUN, PROPN, ADV, VERB, NOUN, CCONJ, NOUN, ADP, NOUN, NOUN]]                                                                                                                                                                                                                                                                   |\n",
      "|pada jun william telah dimasukkan ke hospital diraja berkshire selepas diketuk dengan tidak sengaja di sebelah dahi dengan kayu golf oleh seorang rakan sekolahnya                                                                                              |118885|[[pada, jun, william, telah, dimasukkan, ke, hospital, diraja, berkshire, selepas, diketuk, dengan, tidak, sengaja, di, sebelah, dahi, dengan, kayu, golf, oleh, seorang, rakan, sekolahnya], [ADP, NOUN, PROPN, ADV, VERB, ADP, NOUN, ADJ, NOUN, ADP, VERB, ADP, PART, ADJ, ADP, ADP, NOUN, ADP, NOUN, NOUN, ADP, DET, NOUN, NOUN]]                                                                                                                                                                                |\n",
      "|kampung peraku seberang merupakan sebuah kampung yang terletak di kuala pilah dalam negeri sembilan iaitu sebuah negeri di malaysia                                                                                                                             |118576|[[kampung, peraku, seberang, merupakan, sebuah, kampung, yang, terletak, di, kuala, pilah, dalam, negeri, sembilan, iaitu, sebuah, negeri, di, malaysia], [NOUN, PROPN, PROPN, VERB, DET, NOUN, PRON, VERB, ADP, PROPN, NOUN, ADP, NOUN, PROPN, ADV, DET, NOUN, ADP, PROPN]]                                                                                                                                                                                                                                        |\n",
      "|akhir abad ke sri maharaja tersebut telah memberi kemerdekaan kepada campa dan pulau varuna kalimantan timur dan utara serta seluruh kepulauan danu filipina yang diletakan di bawah raja varuna brunei                                                         |118636|[[akhir, abad, ke, sri, maharaja, tersebut, telah, memberi, kemerdekaan, kepada, campa, dan, pulau, varuna, kalimantan, timur, dan, utara, serta, seluruh, kepulauan, danu, filipina, yang, diletakan, di, bawah, raja, varuna, brunei], [NOUN, NOUN, ADP, NOUN, PROPN, DET, ADV, VERB, NOUN, ADP, NOUN, CCONJ, NOUN, PROPN, PROPN, NOUN, CCONJ, NOUN, CCONJ, DET, PROPN, PROPN, PROPN, PRON, VERB, ADP, NOUN, NOUN, NOUN, NOUN]]                                                                                   |\n",
      "|pada sekolah menengah kebangsaan tendong memiliki pelajar lelaki dan pelajar perempuan menjadikan jumlah keseluruhan murid seramai orang                                                                                                                        |118845|[[pada, sekolah, menengah, kebangsaan, tendong, memiliki, pelajar, lelaki, dan, pelajar, perempuan, menjadikan, jumlah, keseluruhan, murid, seramai, orang], [ADP, NOUN, NOUN, NOUN, ADJ, VERB, NOUN, ADJ, CCONJ, NOUN, ADJ, VERB, NOUN, PRON, NOUN, ADP, NOUN]]                                                                                                                                                                                                                                                    |\n",
      "|sekolah kebangsaan kuang atau nama ringkasnya sk kuang merupakan sebuah sekolah kebangsaan yang terletak di km jalan kuang                                                                                                                                      |118720|[[sekolah, kebangsaan, kuang, atau, nama, ringkasnya, sk, kuang, merupakan, sebuah, sekolah, kebangsaan, yang, terletak, di, km, jalan, kuang], [NOUN, NOUN, PROPN, CCONJ, NOUN, ADV, NOUN, PROPN, VERB, DET, NOUN, NOUN, PRON, VERB, ADP, SYM, NOUN, PROPN]]                                                                                                                                                                                                                                                       |\n",
      "|daerah přerov wilayah pardubice ini diterjemahkan daripada wikipedia bahasa czech                                                                                                                                                                               |118505|[[daerah, prerov, wilayah, pardubice, ini, diterjemahkan, daripada, wikipedia, bahasa, czech], [NOUN, NOUN, NOUN, NOUN, DET, VERB, ADP, NOUN, NOUN, PROPN]]                                                                                                                                                                                                                                                                                                                                                         |\n",
      "|altenburger land merupakan sebuah kawasan perbandaran terletak di daerah altenburger land thüringen jerman                                                                                                                                                      |118019|[[altenburger, land, merupakan, sebuah, kawasan, perbandaran, terletak, di, daerah, altenburger, land, thuringen, jerman], [PROPN, PROPN, VERB, DET, NOUN, NOUN, VERB, ADP, NOUN, PROPN, PROPN, PROPN, PROPN]]                                                                                                                                                                                                                                                                                                      |\n",
      "|di awal tahun an penduduk krait membina sendiri sekolah di penempatan mereka dan ini menyebabkan bilangan murid sekolah sk sungai rimu berkurangan                                                                                                              |118172|[[di, awal, tahun, an, penduduk, krait, membina, sendiri, sekolah, di, penempatan, mereka, dan, ini, menyebabkan, bilangan, murid, sekolah, sk, sungai, rimu, berkurangan], [ADP, ADJ, NOUN, NUM, NOUN, NOUN, VERB, NOUN, NOUN, ADP, NOUN, PRON, CCONJ, DET, VERB, NOUN, NOUN, NOUN, NOUN, NOUN, PROPN, VERB]]                                                                                                                                                                                                      |\n",
      "|beberapa jubin dijumpai bertuliskan semoga makam raja agung aman ibarat gunung dan teguh ibarat puncak                                                                                                                                                          |118573|[[beberapa, jubin, dijumpai, bertuliskan, semoga, makam, raja, agung, aman, ibarat, gunung, dan, teguh, ibarat, puncak], [DET, NOUN, VERB, VERB, NOUN, NOUN, NOUN, ADJ, ADJ, ADV, NOUN, CCONJ, ADJ, ADV, NOUN]]                                                                                                                                                                                                                                                                                                     |\n",
      "|daerah tábor wilayah bohemia selatan rencana ini diterjemahkan daripada wikipedia bahasa czech                                                                                                                                                                  |118047|[[daerah, tabor, wilayah, bohemia, selatan, rencana, ini, diterjemahkan, daripada, wikipedia, bahasa, czech], [NOUN, NOUN, NOUN, PROPN, NOUN, NOUN, DET, VERB, ADP, NOUN, NOUN, PROPN]]                                                                                                                                                                                                                                                                                                                             |\n",
      "|hadi bersama taufik ismail sutardji calzoum bachri hamid jabar dan leon agusta menggerakkan program sastraewan masuk sekolah sms dinaungi yayasan indonesia dengan tajaan dari the ford foundation                                                              |118397|[[hadi, bersama, taufik, ismail, sutardji, calzoum, bachri, hamid, jabar, dan, leon, agusta, menggerakkan, program, sastraewan, masuk, sekolah, sms, dinaungi, yayasan, indonesia, dengan, tajaan, dari, the, ford, foundation], [NOUN, ADP, NOUN, NOUN, PROPN, NOUN, PROPN, PROPN, PROPN, CCONJ, NOUN, PROPN, VERB, NOUN, NOUN, VERB, NOUN, NOUN, VERB, NOUN, PROPN, ADP, NOUN, ADP, PROPN, PROPN, PROPN]]                                                                                                         |\n",
      "|pada tahun beliau diculik dari kampung halamannya kojo dan ditahan oleh negara islam selama tiga bulan                                                                                                                                                          |118363|[[pada, tahun, beliau, diculik, dari, kampung, halamannya, kojo, dan, ditahan, oleh, negara, islam, selama, tiga, bulan], [ADP, NOUN, PRON, VERB, ADP, NOUN, NOUN, NOUN, CCONJ, VERB, ADP, NOUN, PROPN, ADP, NUM, NOUN]]                                                                                                                                                                                                                                                                                            |\n",
      "|komun di jabatan tarn tempat dan monumen yang luar biasa saintsulpicelapointe tarn mairiejpg dewan bandar saintsulpicelapointe tarn le pont suspendu sur lagoutjpg jambatan penggantungan sepanjang agout                                                       |118099|[[komun, di, jabatan, tarn, tempat, dan, monumen, yang, luar, biasa, saintsulpicelapointe, tarn, mairiejpg, dewan, bandar, saintsulpicelapointe, tarn, le, pont, suspendu, sur, lagoutjpg, jambatan, penggantungan, sepanjang, agout], [NOUN, ADP, NOUN, NOUN, NOUN, CCONJ, NOUN, PRON, ADJ, ADJ, NOUN, NOUN, NOUN, NOUN, PROPN, PROPN, NOUN, NOUN, NOUN, PROPN, NOUN, NOUN, NOUN, VERB, ADP, NOUN]]                                                                                                                |\n",
      "|pada sekolah jenis kebangsaan t ladang ulu remis memiliki pelajar lelaki dan pelajar perempuan menjadikan jumlah keseluruhan murid seramai orang                                                                                                                |118509|[[pada, sekolah, jenis, kebangsaan, t, ladang, ulu, remis, memiliki, pelajar, lelaki, dan, pelajar, perempuan, menjadikan, jumlah, keseluruhan, murid, seramai, orang], [ADP, NOUN, NOUN, NOUN, NOUN, NOUN, NOUN, NOUN, VERB, NOUN, ADJ, CCONJ, NOUN, ADJ, VERB, NOUN, PRON, NOUN, ADP, NOUN]]                                                                                                                                                                                                                      |\n",
      "+----------------------------------------------------------------------------------------------------------------------------------------------------------------------------------------------------------------------------------------------------------------+------+--------------------------------------------------------------------------------------------------------------------------------------------------------------------------------------------------------------------------------------------------------------------------------------------------------------------------------------------------------------------------------------------------------------------------------------------------------------------------------------------------------------------+\n",
      "only showing top 100 rows\n",
      "\n"
     ]
    }
   ],
   "source": [
    "# 🆂🅰🅼🅿🅻🅴\n",
    "### CLICK HERE TO SHOW BM TAGS\n",
    "read_avro(\"output/8_BM_TAGS\").show(100, False)"
   ]
  },
  {
   "cell_type": "code",
   "execution_count": null,
   "id": "7bbd2c75-d788-41df-a706-1f511c850758",
   "metadata": {},
   "outputs": [],
   "source": []
  },
  {
   "cell_type": "markdown",
   "id": "7577719f-391f-48bd-9045-d5b2f0e3e2bb",
   "metadata": {},
   "source": [
    "## ENGLISH"
   ]
  },
  {
   "cell_type": "code",
   "execution_count": 1,
   "id": "1cc50e29-eea4-4193-bad1-95dab5a2eed7",
   "metadata": {
    "collapsed": true,
    "jupyter": {
     "outputs_hidden": true
    },
    "tags": []
   },
   "outputs": [
    {
     "name": "stdout",
     "output_type": "stream",
     "text": [
      ":: loading settings :: url = jar:file:/home/pc/TestJupyter/opt/spark-3.3.0/spark-3.3.0-bin-hadoop3/jars/ivy-2.5.0.jar!/org/apache/ivy/core/settings/ivysettings.xml\n"
     ]
    },
    {
     "name": "stderr",
     "output_type": "stream",
     "text": [
      "Ivy Default Cache set to: /home/pc/.ivy2/cache\n",
      "The jars for the packages stored in: /home/pc/.ivy2/jars\n",
      "com.johnsnowlabs.nlp#spark-nlp_2.12 added as a dependency\n",
      ":: resolving dependencies :: org.apache.spark#spark-submit-parent-8bcd779d-80d8-408c-b851-c6902382a069;1.0\n",
      "\tconfs: [default]\n",
      "\tfound com.johnsnowlabs.nlp#spark-nlp_2.12;4.1.0 in central\n",
      "\tfound com.typesafe#config;1.4.2 in central\n",
      "\tfound org.rocksdb#rocksdbjni;6.29.5 in central\n",
      "\tfound com.amazonaws#aws-java-sdk-bundle;1.11.828 in central\n",
      "\tfound com.github.universal-automata#liblevenshtein;3.0.0 in central\n",
      "\tfound com.google.code.findbugs#annotations;3.0.1 in central\n",
      "\tfound net.jcip#jcip-annotations;1.0 in central\n",
      "\tfound com.google.code.findbugs#jsr305;3.0.1 in central\n",
      "\tfound com.google.protobuf#protobuf-java-util;3.0.0-beta-3 in central\n",
      "\tfound com.google.protobuf#protobuf-java;3.0.0-beta-3 in central\n",
      "\tfound com.google.code.gson#gson;2.3 in central\n",
      "\tfound it.unimi.dsi#fastutil;7.0.12 in central\n",
      "\tfound org.projectlombok#lombok;1.16.8 in central\n",
      "\tfound org.slf4j#slf4j-api;1.7.21 in central\n",
      "\tfound com.navigamez#greex;1.0 in central\n",
      "\tfound dk.brics.automaton#automaton;1.11-8 in central\n",
      "\tfound com.johnsnowlabs.nlp#tensorflow-cpu_2.12;0.4.3 in central\n",
      ":: resolution report :: resolve 244ms :: artifacts dl 9ms\n",
      "\t:: modules in use:\n",
      "\tcom.amazonaws#aws-java-sdk-bundle;1.11.828 from central in [default]\n",
      "\tcom.github.universal-automata#liblevenshtein;3.0.0 from central in [default]\n",
      "\tcom.google.code.findbugs#annotations;3.0.1 from central in [default]\n",
      "\tcom.google.code.findbugs#jsr305;3.0.1 from central in [default]\n",
      "\tcom.google.code.gson#gson;2.3 from central in [default]\n",
      "\tcom.google.protobuf#protobuf-java;3.0.0-beta-3 from central in [default]\n",
      "\tcom.google.protobuf#protobuf-java-util;3.0.0-beta-3 from central in [default]\n",
      "\tcom.johnsnowlabs.nlp#spark-nlp_2.12;4.1.0 from central in [default]\n",
      "\tcom.johnsnowlabs.nlp#tensorflow-cpu_2.12;0.4.3 from central in [default]\n",
      "\tcom.navigamez#greex;1.0 from central in [default]\n",
      "\tcom.typesafe#config;1.4.2 from central in [default]\n",
      "\tdk.brics.automaton#automaton;1.11-8 from central in [default]\n",
      "\tit.unimi.dsi#fastutil;7.0.12 from central in [default]\n",
      "\tnet.jcip#jcip-annotations;1.0 from central in [default]\n",
      "\torg.projectlombok#lombok;1.16.8 from central in [default]\n",
      "\torg.rocksdb#rocksdbjni;6.29.5 from central in [default]\n",
      "\torg.slf4j#slf4j-api;1.7.21 from central in [default]\n",
      "\t---------------------------------------------------------------------\n",
      "\t|                  |            modules            ||   artifacts   |\n",
      "\t|       conf       | number| search|dwnlded|evicted|| number|dwnlded|\n",
      "\t---------------------------------------------------------------------\n",
      "\t|      default     |   17  |   0   |   0   |   0   ||   17  |   0   |\n",
      "\t---------------------------------------------------------------------\n",
      ":: retrieving :: org.apache.spark#spark-submit-parent-8bcd779d-80d8-408c-b851-c6902382a069\n",
      "\tconfs: [default]\n",
      "\t0 artifacts copied, 17 already retrieved (0kB/8ms)\n"
     ]
    },
    {
     "name": "stdout",
     "output_type": "stream",
     "text": [
      "22/10/06 06:02:43 WARN NativeCodeLoader: Unable to load native-hadoop library for your platform... using builtin-java classes where applicable\n"
     ]
    },
    {
     "name": "stderr",
     "output_type": "stream",
     "text": [
      "Setting default log level to \"WARN\".\n",
      "To adjust logging level use sc.setLogLevel(newLevel). For SparkR, use setLogLevel(newLevel).\n"
     ]
    },
    {
     "name": "stdout",
     "output_type": "stream",
     "text": [
      "22/10/06 06:02:43 WARN Utils: Service 'SparkUI' could not bind on port 4040. Attempting port 4041.\n",
      "22/10/06 06:02:43 WARN Utils: Service 'SparkUI' could not bind on port 4041. Attempting port 4042.\n",
      "22/10/06 06:02:43 WARN Utils: Service 'SparkUI' could not bind on port 4042. Attempting port 4043.\n",
      "pos_ud_ewt download started this may take some time.\n",
      "Approximate size to download 2.2 MB\n",
      "[ | ]pos_ud_ewt download started this may take some time.\n",
      "Approximate size to download 2.2 MB\n",
      "[ / ]Download done! Loading the resource.\n",
      "[OK!]\n"
     ]
    }
   ],
   "source": [
    "from connectSparknlp import spark\n",
    "import sparknlp\n",
    "from sparknlp.base import *\n",
    "from sparknlp.annotator import *\n",
    "from pyspark.ml import Pipeline\n",
    "from pyspark.sql.functions import udf, col\n",
    "import os\n",
    "\n",
    "spark = sparknlp.start()\n",
    "\n",
    "document_assembler = DocumentAssembler() \\\n",
    ".setInputCol(\"sentence\") \\\n",
    ".setOutputCol(\"document\")\n",
    "\n",
    "sentence_detector = SentenceDetector() \\\n",
    ".setInputCols([\"document\"]) \\\n",
    ".setOutputCol(\"sentence\")\n",
    "\n",
    "tokenizer = Tokenizer().setInputCols([\"document\"]).setOutputCol(\"token\")\n",
    "\n",
    "posTagger = PerceptronModel.pretrained(\"pos_ud_ewt\", \"en\") \\\n",
    ".setInputCols([\"document\", \"token\"]) \\\n",
    ".setOutputCol(\"pos\")\n",
    "\n",
    "pipeline = Pipeline(stages=[\n",
    "document_assembler,\n",
    "sentence_detector,\n",
    "tokenizer,\n",
    "posTagger])"
   ]
  },
  {
   "cell_type": "code",
   "execution_count": 3,
   "id": "b0056172-33af-41ac-a158-ff897a7ce241",
   "metadata": {
    "collapsed": true,
    "jupyter": {
     "outputs_hidden": true
    },
    "tags": []
   },
   "outputs": [
    {
     "name": "stderr",
     "output_type": "stream",
     "text": [
      "[Stage 0:>                                                        (0 + 20) / 20]\r"
     ]
    },
    {
     "name": "stdout",
     "output_type": "stream",
     "text": [
      "22/10/06 06:00:38 WARN MemoryManager: Total allocation exceeds 95.00% (984,193,421 bytes) of heap memory\n",
      "Scaling row group sizes to 91.66% for 8 writers\n",
      "22/10/06 06:00:38 WARN MemoryManager: Total allocation exceeds 95.00% (984,193,421 bytes) of heap memory\n",
      "Scaling row group sizes to 81.48% for 9 writers\n",
      "22/10/06 06:00:38 WARN MemoryManager: Total allocation exceeds 95.00% (984,193,421 bytes) of heap memory\n",
      "Scaling row group sizes to 73.33% for 10 writers\n",
      "22/10/06 06:00:38 WARN MemoryManager: Total allocation exceeds 95.00% (984,193,421 bytes) of heap memory\n",
      "Scaling row group sizes to 66.66% for 11 writers\n",
      "22/10/06 06:00:38 WARN MemoryManager: Total allocation exceeds 95.00% (984,193,421 bytes) of heap memory\n",
      "Scaling row group sizes to 61.11% for 12 writers\n",
      "22/10/06 06:00:38 WARN MemoryManager: Total allocation exceeds 95.00% (984,193,421 bytes) of heap memory\n",
      "Scaling row group sizes to 56.41% for 13 writers\n",
      "22/10/06 06:00:38 WARN MemoryManager: Total allocation exceeds 95.00% (984,193,421 bytes) of heap memory\n",
      "Scaling row group sizes to 52.38% for 14 writers\n",
      "22/10/06 06:00:38 WARN MemoryManager: Total allocation exceeds 95.00% (984,193,421 bytes) of heap memory\n",
      "Scaling row group sizes to 48.89% for 15 writers\n",
      "22/10/06 06:00:38 WARN MemoryManager: Total allocation exceeds 95.00% (984,193,421 bytes) of heap memory\n",
      "Scaling row group sizes to 45.83% for 16 writers\n",
      "22/10/06 06:00:38 WARN MemoryManager: Total allocation exceeds 95.00% (984,193,421 bytes) of heap memory\n",
      "Scaling row group sizes to 43.13% for 17 writers\n",
      "22/10/06 06:00:38 WARN MemoryManager: Total allocation exceeds 95.00% (984,193,421 bytes) of heap memory\n",
      "Scaling row group sizes to 40.74% for 18 writers\n",
      "22/10/06 06:00:38 WARN MemoryManager: Total allocation exceeds 95.00% (984,193,421 bytes) of heap memory\n",
      "Scaling row group sizes to 38.59% for 19 writers\n",
      "22/10/06 06:00:38 WARN MemoryManager: Total allocation exceeds 95.00% (984,193,421 bytes) of heap memory\n",
      "Scaling row group sizes to 36.66% for 20 writers\n",
      "22/10/06 06:00:39 WARN MemoryManager: Total allocation exceeds 95.00% (984,193,421 bytes) of heap memory\n",
      "Scaling row group sizes to 38.59% for 19 writers\n",
      "22/10/06 06:00:39 WARN MemoryManager: Total allocation exceeds 95.00% (984,193,421 bytes) of heap memory\n",
      "Scaling row group sizes to 40.74% for 18 writers\n",
      "22/10/06 06:00:39 WARN MemoryManager: Total allocation exceeds 95.00% (984,193,421 bytes) of heap memory\n",
      "Scaling row group sizes to 43.13% for 17 writers\n",
      "22/10/06 06:00:39 WARN MemoryManager: Total allocation exceeds 95.00% (984,193,421 bytes) of heap memory\n",
      "Scaling row group sizes to 45.83% for 16 writers\n",
      "22/10/06 06:00:39 WARN MemoryManager: Total allocation exceeds 95.00% (984,193,421 bytes) of heap memory\n",
      "Scaling row group sizes to 48.89% for 15 writers\n",
      "22/10/06 06:00:39 WARN MemoryManager: Total allocation exceeds 95.00% (984,193,421 bytes) of heap memory\n",
      "Scaling row group sizes to 52.38% for 14 writers\n",
      "22/10/06 06:00:39 WARN MemoryManager: Total allocation exceeds 95.00% (984,193,421 bytes) of heap memory\n",
      "Scaling row group sizes to 56.41% for 13 writers\n",
      "22/10/06 06:00:39 WARN MemoryManager: Total allocation exceeds 95.00% (984,193,421 bytes) of heap memory\n",
      "Scaling row group sizes to 61.11% for 12 writers\n",
      "22/10/06 06:00:39 WARN MemoryManager: Total allocation exceeds 95.00% (984,193,421 bytes) of heap memory\n",
      "Scaling row group sizes to 66.66% for 11 writers\n",
      "22/10/06 06:00:39 WARN MemoryManager: Total allocation exceeds 95.00% (984,193,421 bytes) of heap memory\n",
      "Scaling row group sizes to 73.33% for 10 writers\n",
      "22/10/06 06:00:39 WARN MemoryManager: Total allocation exceeds 95.00% (984,193,421 bytes) of heap memory\n",
      "Scaling row group sizes to 81.48% for 9 writers\n",
      "22/10/06 06:00:39 WARN MemoryManager: Total allocation exceeds 95.00% (984,193,421 bytes) of heap memory\n",
      "Scaling row group sizes to 91.66% for 8 writers\n"
     ]
    },
    {
     "name": "stderr",
     "output_type": "stream",
     "text": [
      "                                                                                \r"
     ]
    }
   ],
   "source": [
    "df = spark.read.format(\"avro\").load(\"output/7_biReadyAnalysis_B\")\n",
    "df.write.parquet(\"output/7_biReadyAnalysis_B.parquet\")"
   ]
  },
  {
   "cell_type": "code",
   "execution_count": 2,
   "id": "c6fd00ae-f52e-43ea-be17-a468753350b6",
   "metadata": {},
   "outputs": [],
   "source": [
    "df = spark.read.parquet(\"output/7_biReadyAnalysis_B.parquet\")\n",
    "df = df.withColumnRenamed(\"text\",\"sentence\")\n",
    "df = df.repartition(60)"
   ]
  },
  {
   "cell_type": "code",
   "execution_count": 3,
   "id": "e4f0cd76-c69f-411a-8e85-a8825505354c",
   "metadata": {},
   "outputs": [],
   "source": [
    "result = pipeline.fit(df).transform(df)\n",
    "final = result.selectExpr(\"token.result as token\",\"pos.result as pos\")"
   ]
  },
  {
   "cell_type": "code",
   "execution_count": 5,
   "id": "9dc20a6a-e630-481b-b052-e11b3539d109",
   "metadata": {},
   "outputs": [
    {
     "name": "stderr",
     "output_type": "stream",
     "text": [
      "                                                                                \r"
     ]
    }
   ],
   "source": [
    "final.write.parquet(\"result/8_BItag.parquet\")"
   ]
  },
  {
   "cell_type": "code",
   "execution_count": 6,
   "id": "2d604bdb-44e9-4e19-8738-31c10c0549e0",
   "metadata": {
    "collapsed": true,
    "jupyter": {
     "outputs_hidden": true
    },
    "tags": []
   },
   "outputs": [
    {
     "name": "stdout",
     "output_type": "stream",
     "text": [
      "+-----------------------------------------------------------------------------------------------------------------------------------------------------------------------------------------------------------------------------------------------------------------------------------------------------------------------------------------------------------------------------------------------------------------------------------------------+------------------------------------------------------------------------------------------------------------------------------------------------------------------------------------------------------------------------------------------------------------------------------------------------------------------------+\n",
      "|token                                                                                                                                                                                                                                                                                                                                                                                                                                          |pos                                                                                                                                                                                                                                                                                                                     |\n",
      "+-----------------------------------------------------------------------------------------------------------------------------------------------------------------------------------------------------------------------------------------------------------------------------------------------------------------------------------------------------------------------------------------------------------------------------------------------+------------------------------------------------------------------------------------------------------------------------------------------------------------------------------------------------------------------------------------------------------------------------------------------------------------------------+\n",
      "|[in, an, interview, with, inside, higher, ed, university, vice, president, daniel, kempton, stated, that, principles, of, academic, freedom, apply, to, the, course, and, that, the, view, that, homosexuality, is, deviant, is, a, legitimate, perspective, for, the, course]                                                                                                                                                                 |[ADP, DET, NOUN, ADP, ADV, ADV, ADJ, NOUN, NOUN, NOUN, NOUN, NOUN, VERB, SCONJ, NOUN, ADP, ADJ, NOUN, VERB, ADP, DET, NOUN, CCONJ, SCONJ, DET, NOUN, SCONJ, NOUN, AUX, NOUN, AUX, DET, ADJ, NOUN, ADP, DET, NOUN]                                                                                                       |\n",
      "|[the, schools, in, the, state, network, have, infrastructure, below, the, ideal, and, are, mostly, scrapped, mainly, in, the, rural, area]                                                                                                                                                                                                                                                                                                     |[DET, NOUN, ADP, DET, NOUN, NOUN, AUX, VERB, ADP, DET, NOUN, CCONJ, AUX, ADV, VERB, ADV, ADP, DET, ADJ, NOUN]                                                                                                                                                                                                           |\n",
      "|[a, new, building, for, the, school, of, information, technologies, opened, in, late, and, has, been, located, on, a, site, adjacent, to, the, seymour, centre]                                                                                                                                                                                                                                                                                |[DET, ADJ, NOUN, ADP, DET, NOUN, ADP, NOUN, NOUN, VERB, ADP, ADJ, CCONJ, AUX, AUX, VERB, ADP, DET, NOUN, NOUN, ADP, DET, NOUN, NOUN]                                                                                                                                                                                    |\n",
      "|[he, then, did, masters, degree, studies, in, communications, and, finance, at, temple, university, and, became, a, news, anchor, with, philadelphia, news, radio, station, kyw, in]                                                                                                                                                                                                                                                           |[PRON, ADV, AUX, NOUN, VERB, NOUN, ADP, NOUN, CCONJ, NOUN, ADP, NOUN, NOUN, CCONJ, VERB, DET, NOUN, NOUN, ADP, NOUN, NOUN, NOUN, NOUN, NOUN, ADP]                                                                                                                                                                       |\n",
      "|[mr, woodman, was, promoted, to, principal, of, the, school, principal, lazarus, quit, to, take, a, less, stressful, job, at, a, highsecurity, prison, and, kotter, was, promoted, to, viceprincipal, purposefully, moving, the, shows, focus, away, from, kotters, class]                                                                                                                                                                     |[ADJ, NOUN, AUX, VERB, ADP, NOUN, ADP, DET, NOUN, NOUN, ADJ, NOUN, PART, VERB, DET, ADV, ADJ, NOUN, ADP, DET, NOUN, NOUN, CCONJ, NOUN, AUX, VERB, ADP, NOUN, ADV, VERB, DET, NOUN, VERB, ADV, ADP, NOUN, NOUN]                                                                                                          |\n",
      "|[with, students, in, grades, and, buena, regional, high, schoolbuena, regional, high, school, buena, regional, school, district]                                                                                                                                                                                                                                                                                                               |[ADP, NOUN, ADP, NOUN, CCONJ, VERB, ADJ, ADJ, NOUN, ADJ, ADJ, NOUN, NOUN, ADJ, NOUN, NOUN]                                                                                                                                                                                                                              |\n",
      "|[he, won, his, first, game, on, june, but, had, second, thoughts, about, leaving, his, adopted, state, of, alabama, and, resigned, after, a, mere, hours, on, the, job, one, of, the, shortest, managerial, stints, in, mlb, history, and, went, back, to, college, coaching, at, south, alabama]                                                                                                                                              |[PRON, VERB, PRON, ADJ, NOUN, ADP, PROPN, CCONJ, VERB, ADJ, NOUN, SCONJ, VERB, PRON, ADJ, NOUN, ADP, NOUN, CCONJ, VERB, ADP, DET, ADJ, NOUN, ADP, DET, NOUN, NUM, ADP, DET, ADJ, ADJ, NOUN, ADP, NOUN, NOUN, CCONJ, VERB, ADV, ADP, NOUN, VERB, ADP, ADV, PROPN]                                                        |\n",
      "|[only, one, school, exists, in, young, public, school, serving, grades, k]                                                                                                                                                                                                                                                                                                                                                                     |[ADV, NUM, NOUN, NOUN, ADP, ADJ, ADJ, NOUN, VERB, NOUN, NOUN]                                                                                                                                                                                                                                                           |\n",
      "|[both, denominational, and, nondenominational, schools, fall, within, this, category]                                                                                                                                                                                                                                                                                                                                                          |[CCONJ, ADJ, CCONJ, ADJ, NOUN, NOUN, ADP, DET, NOUN]                                                                                                                                                                                                                                                                    |\n",
      "|[as, an, outcome, the, college, of, engineering, won, approximately, us, from, the, government, for, the, training, of, quality, manpower, as, required, in, industry, by, providing, experiencebased, programs]                                                                                                                                                                                                                               |[ADP, DET, NOUN, DET, NOUN, SCONJ, VERB, PRON, ADV, PRON, ADP, DET, NOUN, ADP, DET, NOUN, ADP, NOUN, NOUN, ADP, VERB, ADP, NOUN, SCONJ, VERB, VERB, NOUN]                                                                                                                                                               |\n",
      "|[as, such, jaluit, high, school, enroll, students, from, the, ralik, and, iolab, school, zones, including, schools, from, ebon, namdrik, kili, jaluit, ailinglaplap, jabat, and, namu]                                                                                                                                                                                                                                                         |[ADP, ADJ, NOUN, ADJ, NOUN, NOUN, NOUN, ADP, DET, NOUN, CCONJ, NOUN, NOUN, NOUN, VERB, NOUN, ADP, NOUN, NOUN, NOUN, NOUN, NOUN, NOUN, CCONJ, NOUN]                                                                                                                                                                      |\n",
      "|[he, attended, john, dewey, high, school, graduating, early]                                                                                                                                                                                                                                                                                                                                                                                   |[PRON, VERB, PROPN, PROPN, ADJ, NOUN, NOUN, ADV]                                                                                                                                                                                                                                                                        |\n",
      "|[issue, col, c, alan, started, his, education, at, the, downs, school, where, his, contemporaries, included, future, scientists, frederick, sanger, alec, bangham, neither, outstandingly, brilliant, at, school, according, to, hodgkin, as, well, as, future, artists, lawrence, gowing, and, kenneth, rowntree]                                                                                                                             |[NOUN, VERB, NOUN, AUX, VERB, PRON, NOUN, ADP, DET, NOUN, NOUN, ADV, PRON, NOUN, VERB, ADJ, NOUN, ADJ, NOUN, NOUN, NOUN, CCONJ, ADV, ADJ, ADP, NOUN, VERB, ADP, NOUN, ADV, ADV, ADP, ADJ, NOUN, NOUN, NOUN, CCONJ, NOUN, NOUN]                                                                                          |\n",
      "|[most, residents, of, monteverde, pursue, higher, education, in, the, central, valley, at, institutions, such, as, the, university, of, costa, rica]                                                                                                                                                                                                                                                                                           |[ADJ, NOUN, ADP, NOUN, NOUN, ADJ, NOUN, ADP, DET, ADJ, NOUN, ADP, NOUN, ADJ, ADP, DET, NOUN, ADP, NOUN, NOUN]                                                                                                                                                                                                           |\n",
      "|[the, former, rolling, hills, high, school, campus, opened, had, the, highest, capacity, and, was, used, for, the, combined, school]                                                                                                                                                                                                                                                                                                           |[DET, ADJ, VERB, NOUN, ADJ, NOUN, NOUN, VERB, VERB, DET, ADJ, NOUN, CCONJ, AUX, VERB, ADP, DET, ADJ, NOUN]                                                                                                                                                                                                              |\n",
      "|[it, also, identified, signals, of, a, second, eruption, in, likely, to, have, been, in, the, tropics, which, would, have, sustained, the, cooling, effects, of, the, first, eruption, through, to, around, archived, copy, in, harvard, university, researchers, suggested, the, because, was, a, volcanic, eruption, in, iceland, that, erupted, in, early]                                                                                  |[PRON, ADV, VERB, NOUN, ADP, DET, ADJ, NOUN, ADP, ADV, PART, AUX, AUX, ADP, DET, NOUN, PRON, AUX, AUX, VERB, DET, NOUN, NOUN, ADP, DET, ADJ, NOUN, ADP, PART, ADV, VERB, NOUN, ADP, ADJ, NOUN, NOUN, VERB, DET, NOUN, AUX, DET, ADJ, NOUN, ADP, NOUN, PRON, VERB, ADP, ADJ]                                             |\n",
      "|[at, oxley, college, in, burradoo, new, south, wales, a, sports, house, is, called, mawson, as, is, at, clarence, high, school, in, hobart, tasmania, forest, lodge, public, school, and, fort, street, high, school, both, in, sydney, where, he, was, educated]                                                                                                                                                                              |[ADP, ADV, NOUN, ADP, NOUN, ADJ, NOUN, NOUN, DET, NOUN, NOUN, AUX, VERB, NOUN, SCONJ, AUX, ADP, NOUN, ADJ, NOUN, ADP, PROPN, NOUN, ADJ, NOUN, ADJ, NOUN, CCONJ, ADJ, NOUN, ADJ, NOUN, CCONJ, ADP, NOUN, ADV, PRON, AUX, VERB]                                                                                           |\n",
      "|[in, january, the, first, of, installments, of, ragged, dick, appeared, in, student, and, schoolmate]                                                                                                                                                                                                                                                                                                                                          |[ADP, PROPN, DET, ADJ, ADP, NOUN, ADP, VERB, NOUN, VERB, ADP, NOUN, CCONJ, NOUN]                                                                                                                                                                                                                                        |\n",
      "|[if, women, a, new, feminist, economics, harper, row, republished, by, macmillan, allen, unwin, and, university, of, toronto, press, several, times, under, its, original, title, and, as, counting, for, nothing, waring, marilyn]                                                                                                                                                                                                            |[SCONJ, NOUN, DET, ADJ, NOUN, NOUN, ADV, NOUN, VERB, ADP, NOUN, NOUN, NOUN, CCONJ, NOUN, ADP, ADJ, NOUN, ADJ, NOUN, ADP, PRON, ADJ, NOUN, CCONJ, SCONJ, VERB, ADP, PRON, ADJ, NOUN]                                                                                                                                     |\n",
      "|[karori, normal, school, is, a, coeducational, state, primary, school, for, year, to, students, with, a, roll, of, as, of]                                                                                                                                                                                                                                                                                                                     |[NOUN, ADJ, NOUN, AUX, DET, ADJ, NOUN, NOUN, NOUN, ADP, NOUN, PART, NOUN, ADP, DET, NOUN, ADP, ADP, ADP]                                                                                                                                                                                                                |\n",
      "|[after, joining, the, school, wan, founded, a, book, club, to, study, marxistleninist, works]                                                                                                                                                                                                                                                                                                                                                  |[SCONJ, VERB, DET, NOUN, NOUN, VERB, DET, NOUN, NOUN, PART, VERB, NOUN, VERB]                                                                                                                                                                                                                                           |\n",
      "|[commenting, on, the, history, of, the, distinction, in, russell, distinguished, two, schools, of, philosophy, which, may, be, broadly, distinguished, as, the, continental, and, the, british, respectively, a, division, he, saw, as, operative, from, the, time, of, locke, russell, proposes, the, following, broad, points, of, distinction, between, continental, and, british, types, of, bertrand, a, history, of, western, philosophy]|[VERB, ADP, DET, NOUN, ADP, DET, NOUN, ADP, NOUN, VERB, NUM, NOUN, ADP, NOUN, PRON, AUX, AUX, ADV, ADJ, ADP, DET, NOUN, CCONJ, DET, ADJ, ADV, DET, NOUN, PRON, VERB, ADP, ADJ, ADP, DET, NOUN, ADP, NOUN, NOUN, VERB, DET, VERB, ADJ, NOUN, ADP, NOUN, ADP, ADJ, CCONJ, ADJ, NOUN, ADP, NOUN, DET, NOUN, ADP, ADJ, NOUN]|\n",
      "|[additionally, it, operates, the, downingtown, campus, in, east, brandywine, township, on, the, site, of, the, former, downingtown, industrial, and, agricultural, school]                                                                                                                                                                                                                                                                     |[ADV, PRON, VERB, DET, ADJ, NOUN, ADP, ADJ, NOUN, NOUN, ADP, DET, NOUN, ADP, DET, ADJ, VERB, ADJ, CCONJ, ADJ, NOUN]                                                                                                                                                                                                     |\n",
      "|[an, example, is, within, the, grounds, of, gordounston, school]                                                                                                                                                                                                                                                                                                                                                                               |[DET, NOUN, AUX, ADP, DET, NOUN, ADP, PROPN, NOUN]                                                                                                                                                                                                                                                                      |\n",
      "|[by, the, school, of, architecture, had, grown, out, of, engineering, into, an, independent, school]                                                                                                                                                                                                                                                                                                                                           |[ADP, DET, NOUN, ADP, NOUN, AUX, VERB, ADP, SCONJ, VERB, ADP, DET, ADJ, NOUN]                                                                                                                                                                                                                                           |\n",
      "|[lillian, her, legend, her, life, university, of, california, press, berke, annie, never, let, the, camera, catch, me, acting, lillian, gish, as, actress, star, and, theorist, historical, journal, of, film, radio, and, television, june]                                                                                                                                                                                                   |[ADJ, PRON, VERB, PRON, NOUN, NOUN, ADP, PROPN, NOUN, NOUN, NOUN, ADV, VERB, DET, NOUN, VERB, PRON, VERB, ADJ, NOUN, ADP, NOUN, NOUN, CCONJ, VERB, ADJ, NOUN, ADP, NOUN, NOUN, CCONJ, NOUN, PROPN]                                                                                                                      |\n",
      "|[the, title, heroines, jean, and, louise, dana, are, teenage, sisters, and, amateur, detectives, who, solve, mysteries, while, at, boarding, school]                                                                                                                                                                                                                                                                                           |[DET, NOUN, NOUN, NOUN, CCONJ, NOUN, NOUN, AUX, ADJ, NOUN, CCONJ, VERB, NOUN, PRON, VERB, NOUN, SCONJ, SCONJ, NOUN, NOUN]                                                                                                                                                                                               |\n",
      "|[ucl, is, ranked, rd, in, the, world, st, in, europe, in, the, university, ranking, by, academic, performance]                                                                                                                                                                                                                                                                                                                                 |[NOUN, AUX, VERB, NOUN, ADP, DET, NOUN, NOUN, ADP, PROPN, ADP, DET, NOUN, VERB, ADP, ADJ, NOUN]                                                                                                                                                                                                                         |\n",
      "|[rosella, park, state, school, was, opened, on, may]                                                                                                                                                                                                                                                                                                                                                                                           |[VERB, NOUN, NOUN, NOUN, AUX, VERB, ADP, PROPN]                                                                                                                                                                                                                                                                         |\n",
      "|[after, being, promoted, to, majorgeneral, in, he, was, appointed, the, commandant, of, the, national, defence, college]                                                                                                                                                                                                                                                                                                                       |[SCONJ, AUX, VERB, ADP, VERB, SCONJ, PRON, AUX, VERB, DET, NOUN, ADP, DET, ADJ, NOUN, NOUN]                                                                                                                                                                                                                             |\n",
      "|[the, college, board, has, received, substantial, backlash, for, these, practices]                                                                                                                                                                                                                                                                                                                                                             |[DET, NOUN, NOUN, AUX, VERB, ADJ, NOUN, ADP, DET, NOUN]                                                                                                                                                                                                                                                                 |\n",
      "|[phillips, was, born, at, te, rehunga, near, dannevirke, new, zealand, to, harold, housego, phillips, a, dairy, farmer, and, his, wife, edith, webber, a, schoolteacher, and, postmistress]                                                                                                                                                                                                                                                    |[NOUN, AUX, VERB, ADP, NOUN, NOUN, ADP, NOUN, ADJ, NOUN, ADP, VERB, NOUN, NOUN, DET, NOUN, NOUN, CCONJ, PRON, NOUN, ADP, NOUN, DET, NOUN, CCONJ, NOUN]                                                                                                                                                                  |\n",
      "|[it, was, a, land, where, the, nomadic, turks, and, mongols, of, the, steppe, mingled, cultures, with, the, settled, peoples, of, central, asiasoucek, svat, a, history, of, inner, asia, cambridge, university, press, p, during, chinas, qing, dynasty, the, lake, formed, the, northwesternmost, boundary, of, the, empire]                                                                                                                 |[PRON, AUX, DET, NOUN, ADV, DET, NOUN, NOUN, CCONJ, NOUN, ADP, DET, NOUN, VERB, NOUN, ADP, DET, ADJ, NOUN, ADP, ADJ, NOUN, VERB, DET, NOUN, ADP, ADJ, NOUN, NOUN, NOUN, NOUN, NOUN, ADP, NOUN, NOUN, VERB, DET, NOUN, VERB, DET, ADJ, NOUN, ADP, DET, NOUN]                                                             |\n",
      "|[initially, the, university, only, had, two, faculties, faculty, of, arts, and, faculty, of, theology]                                                                                                                                                                                                                                                                                                                                         |[ADV, DET, NOUN, ADV, VERB, NUM, NOUN, NOUN, ADP, NOUN, CCONJ, NOUN, ADP, NOUN]                                                                                                                                                                                                                                         |\n",
      "|[more, than, colleges, and, universities, hold, book, collecting, contests]                                                                                                                                                                                                                                                                                                                                                                    |[ADJ, ADP, NOUN, CCONJ, NOUN, VERB, NOUN, NOUN, NOUN]                                                                                                                                                                                                                                                                   |\n",
      "|[university, of, auckland, has, halls, while, university, of, otago, in, dunedin, has, a, particular, strong, set, of, colleges, modelled, on, the, oxbridge, system]                                                                                                                                                                                                                                                                          |[NOUN, ADP, NOUN, AUX, VERB, SCONJ, NOUN, ADP, NOUN, ADP, NOUN, VERB, DET, ADJ, ADJ, NOUN, ADP, NOUN, VERB, ADP, DET, NOUN, NOUN]                                                                                                                                                                                       |\n",
      "|[the, president, of, the, university, later, recalled, that, applewhite, was, often, mentally, jumbled, and, disorganized, near, the, end, of, his, employment]                                                                                                                                                                                                                                                                                |[DET, NOUN, ADP, DET, PROPN, ADV, VERB, SCONJ, NOUN, AUX, ADV, ADV, VERB, CCONJ, VERB, ADP, DET, NOUN, ADP, PRON, NOUN]                                                                                                                                                                                                 |\n",
      "|[at, the, time, of, the, pictures, release, laughlins, company, billy, jack, enterprises, had, plans, for, a, new, montessori, school, funded, by, his, own, foundation, a, record, label, an, investigative, magazine, books, a, distribution, company, and, more, messageladen, movies, including, a, special, subsidiary, to, produce, films, for, children]                                                                                |[ADP, DET, NOUN, ADP, DET, NOUN, NOUN, NOUN, NOUN, ADV, VERB, NOUN, VERB, NOUN, ADP, DET, ADJ, NOUN, NOUN, VERB, ADP, PRON, ADJ, NOUN, DET, NOUN, VERB, DET, ADJ, NOUN, NOUN, DET, NOUN, NOUN, CCONJ, ADJ, ADJ, NOUN, VERB, DET, ADJ, NOUN, PART, VERB, NOUN, ADP, NOUN]                                                |\n",
      "|[there, is, also, a, primary, school, kosta, đukić, in, mladenovac]                                                                                                                                                                                                                                                                                                                                                                            |[PRON, VERB, ADV, DET, ADJ, NOUN, NOUN, PROPN, ADP, NOUN]                                                                                                                                                                                                                                                               |\n",
      "|[chapter, discoveries, on, the, back, of, an, envelope, from, frontiers, of, scientific, habits, of, mind, taught, by, david, helfand, at, columbia, university, fermi, a, guide, for, teachers, students, and, event, supervisors, by, lloyd, abrams]                                                                                                                                                                                         |[NOUN, NOUN, ADP, DET, NOUN, ADP, DET, NOUN, ADP, NOUN, ADP, ADJ, NOUN, ADP, NOUN, VERB, ADP, PROPN, NOUN, ADP, NOUN, NOUN, VERB, DET, NOUN, ADP, NOUN, NOUN, CCONJ, NOUN, NOUN, ADP, NOUN, NOUN]                                                                                                                       |\n",
      "|[ritch, played, college, soccer, at, auburn, university, montgomery, in, the, naia, from, to, where, he, helped, lead, the, team, to, four, straight, conference, championships]                                                                                                                                                                                                                                                               |[NOUN, VERB, NOUN, NOUN, ADP, NOUN, NOUN, NOUN, ADP, DET, NOUN, ADP, SCONJ, ADV, PRON, VERB, VERB, DET, NOUN, ADP, NUM, ADJ, NOUN, NOUN]                                                                                                                                                                                |\n",
      "|[the, university, of, strathclyde, named, a, building, at, its, jordanhill, campus, after, him]                                                                                                                                                                                                                                                                                                                                                |[DET, NOUN, ADP, NOUN, VERB, DET, NOUN, ADP, PRON, NOUN, NOUN, ADP, PRON]                                                                                                                                                                                                                                               |\n",
      "|[watergate, prosecutor, and, criminal, defense, trial, lawyer, james, f, neal, was, born, and, raised, in, oak, grove, and, graduated, from, sumner, high, school, in, portland, in]                                                                                                                                                                                                                                                           |[ADJ, NOUN, CCONJ, ADJ, NOUN, NOUN, NOUN, NOUN, NOUN, NOUN, AUX, VERB, CCONJ, VERB, ADP, NOUN, NOUN, CCONJ, VERB, ADP, NOUN, ADJ, NOUN, ADP, PROPN, ADP]                                                                                                                                                                |\n",
      "|[sapientia, animae, christireprinted, in, pl, unione, corporis, et, spiritus, the, union, of, the, body, and, the, spirit, reprinted, in, pl, dindimi, in, philosophiam, epitome, of, dindimus, on, philosophy, reprinted, in, roger, baron, ed, hugonis, de, sancto, victore, opera, propaedeutica, notre, dame, university, of, notre, dame, press]                                                                                          |[VERB, ADV, VERB, ADP, NOUN, ADJ, NOUN, NOUN, VERB, DET, NOUN, ADP, DET, NOUN, CCONJ, DET, NOUN, VERB, ADP, NOUN, NOUN, ADP, NOUN, NOUN, ADP, NOUN, ADP, NOUN, VERB, ADP, NOUN, NOUN, NOUN, X, X, X, ADV, ADJ, NOUN, NOUN, NOUN, NOUN, ADP, NOUN, NOUN, NOUN]                                                           |\n",
      "|[trinity, college, cambridge, in, the, proceedings, of, the, philological, society]                                                                                                                                                                                                                                                                                                                                                            |[NOUN, NOUN, NOUN, ADP, DET, NOUN, ADP, DET, ADJ, NOUN]                                                                                                                                                                                                                                                                 |\n",
      "|[leviathan, and, natural, law, princeton, princeton, university, press]                                                                                                                                                                                                                                                                                                                                                                        |[ADJ, CCONJ, ADJ, NOUN, NOUN, NOUN, NOUN, NOUN]                                                                                                                                                                                                                                                                         |\n",
      "|[the, school, is, led, by, chair, shuanghong, huo]                                                                                                                                                                                                                                                                                                                                                                                             |[DET, NOUN, AUX, VERB, ADP, NOUN, ADJ, NOUN]                                                                                                                                                                                                                                                                            |\n",
      "|[lions, athletics, wordmark, lindenwood, university, is, a, member, of, the, ncaa, at, the, division, ii, level]                                                                                                                                                                                                                                                                                                                               |[NOUN, NOUN, ADJ, NOUN, NOUN, AUX, DET, NOUN, ADP, DET, NOUN, ADP, DET, NOUN, ADJ, NOUN]                                                                                                                                                                                                                                |\n",
      "|[there, were, students, in, the, municipal, primary, school, program]                                                                                                                                                                                                                                                                                                                                                                          |[PRON, VERB, NOUN, ADP, DET, ADJ, ADJ, NOUN, NOUN]                                                                                                                                                                                                                                                                      |\n",
      "|[yong, in, university, is, a, private, university, located, in, samgadong, cheoingu, yonginsi, gyeonggido, south, korea]                                                                                                                                                                                                                                                                                                                       |[ADV, ADP, NOUN, AUX, DET, ADJ, NOUN, VERB, ADP, ADJ, NOUN, CCONJ, NOUN, NOUN, NOUN]                                                                                                                                                                                                                                    |\n",
      "|[weisse, was, born, in, leipzig, and, studied, at, the, university, there, at, first, adhering, to, the, hegelian, school, of, philosophy]                                                                                                                                                                                                                                                                                                     |[NOUN, AUX, VERB, ADP, NOUN, CCONJ, VERB, ADP, DET, NOUN, ADV, ADV, ADV, VERB, ADP, DET, ADJ, NOUN, ADP, NOUN]                                                                                                                                                                                                          |\n",
      "|[he, has, a, need, to, be, the, center, of, attention, as, seen, when, he, admits, to, making, it, rain, in, the, school, gymnasium]                                                                                                                                                                                                                                                                                                           |[PRON, VERB, DET, NOUN, PART, AUX, DET, NOUN, ADP, NOUN, ADP, VERB, ADV, PRON, VERB, SCONJ, VERB, PRON, VERB, ADP, DET, NOUN, NOUN]                                                                                                                                                                                     |\n",
      "|[often, a, lewis, acidic, catalyst, is, used, such, as, ferric, bromideorganic, chemistry, by, jonathan, clayden, nick, grieves, stuart, warren, oxford, university, press, because, fluorine, is, so, reactive, other, methods, such, as, the, balzschiemann, reaction, must, be, used, to, prepare, fluorinated, aromatic, compounds]                                                                                                        |[ADV, DET, NOUN, NOUN, NOUN, AUX, VERB, ADJ, ADP, ADJ, NOUN, NOUN, ADP, ADJ, ADJ, NOUN, NOUN, NOUN, NOUN, NOUN, NOUN, NOUN, SCONJ, NOUN, AUX, ADV, ADJ, ADJ, NOUN, ADJ, ADP, DET, NOUN, NOUN, AUX, AUX, VERB, PART, VERB, VERB, ADJ, NOUN]                                                                              |\n",
      "|[some, black, activists, blamed, aggressive, law, enforcement, and, prison, construction, for, leaving, two, hundred, thousand, more, blacks, in, the, jail, complex, than, in, college, and, devastating, leadership, gaps, within, black, communities, and, families]                                                                                                                                                                        |[DET, ADJ, NOUN, VERB, ADJ, NOUN, NOUN, CCONJ, NOUN, NOUN, SCONJ, VERB, NUM, NUM, NUM, ADJ, NOUN, ADP, DET, NOUN, NOUN, ADP, ADP, NOUN, CCONJ, VERB, NOUN, NOUN, ADP, ADJ, NOUN, CCONJ, NOUN]                                                                                                                           |\n",
      "|[highlights, included, technologically, literate, students, using, a, modified, walkman, to, trigger, amplified, toilet, flushes, during, the, daily, sermon, and, a, candid, interview, with, the, schools, sailing, instructor]                                                                                                                                                                                                              |[NOUN, VERB, ADV, ADJ, NOUN, VERB, DET, ADJ, NOUN, ADP, NOUN, VERB, NOUN, NOUN, ADP, DET, ADJ, NOUN, CCONJ, DET, NOUN, NOUN, ADP, DET, NOUN, VERB, NOUN]                                                                                                                                                                |\n",
      "|[later, in, it, was, chartered, as, a, state, normal, school]                                                                                                                                                                                                                                                                                                                                                                                  |[ADV, ADP, PRON, AUX, VERB, ADP, DET, NOUN, ADJ, NOUN]                                                                                                                                                                                                                                                                  |\n",
      "|[consequently, in, zf, absent, you, areelements, with, or, without, the, axiom, of, choice, for, any, cardinals, κ, and, μ, the, equality, beth, beta, kappa, borel, determinacy, see, also, references, t, e, forster, set, theory, with, a, universal, exploring, an, untyped, universe, oxford, university, press, beth, number, is, defined, on, page]                                                                                     |[ADV, ADP, ADJ, NOUN, PRON, VERB, ADP, CCONJ, ADP, DET, NOUN, ADP, NOUN, ADP, DET, NOUN, NOUN, CCONJ, VERB, DET, NOUN, NOUN, NOUN, NOUN, NOUN, NOUN, VERB, ADV, NOUN, NOUN, NOUN, NOUN, NOUN, NOUN, ADP, DET, ADJ, VERB, DET, ADJ, NOUN, NOUN, NOUN, NOUN, NOUN, NOUN, AUX, VERB, ADP, NOUN]                            |\n",
      "|[in, he, joined, the, advisory, board, of, the, hawke, research, institute, at, the, university, of, south, australia, and, from, has, been, the, chair, of, the, new, democracy, foundations, research, committee]                                                                                                                                                                                                                            |[ADP, PRON, VERB, DET, ADJ, NOUN, ADP, DET, NOUN, NOUN, NOUN, ADP, DET, NOUN, ADP, ADJ, NOUN, CCONJ, ADP, AUX, AUX, DET, NOUN, ADP, DET, ADJ, NOUN, NOUN, NOUN, NOUN]                                                                                                                                                   |\n",
      "|[the, high, school, mascot, is, the, panther]                                                                                                                                                                                                                                                                                                                                                                                                  |[DET, ADJ, NOUN, NOUN, AUX, DET, NOUN]                                                                                                                                                                                                                                                                                  |\n",
      "|[kennedy, family, tree, list, of, female, lieutenant, governors, in, the, united, states, summary, of, townsends, positions, on, the, issues, audio, video, recordings, of, kathleen, kennedy, townsend, on, her, book, failing, americas, faithful, from, the, university, of, chicagos, world, beyond, the, headlines, series, official, state, government, biography, congressional, quarterly, voting, and, elections, collection]         |[ADJ, NOUN, NUM, NOUN, ADP, ADJ, ADJ, NOUN, ADP, DET, PROPN, PROPN, NOUN, ADP, NOUN, NOUN, ADP, DET, NOUN, VERB, NOUN, NOUN, ADP, NOUN, NOUN, NOUN, ADP, PRON, NOUN, VERB, ADV, ADJ, ADP, DET, NOUN, ADP, ADJ, NOUN, ADP, DET, NOUN, VERB, ADJ, NOUN, NOUN, NOUN, ADJ, ADV, NOUN, CCONJ, NOUN, NOUN]                    |\n",
      "|[later, he, served, as, marine, detachment, executive, officer, aboard, the, aircraft, carrier, and, as, commanding, officer, of, the, sea, school, at, marine, corps, recruit, depot, san, diego]                                                                                                                                                                                                                                             |[ADV, PRON, VERB, ADP, ADJ, NOUN, ADJ, NOUN, ADP, DET, NOUN, NOUN, CCONJ, SCONJ, VERB, NOUN, ADP, DET, NOUN, NOUN, ADP, PROPN, NOUN, NOUN, ADV, PROPN, NOUN]                                                                                                                                                            |\n",
      "|[clarksburg, methodist, episcopal, church, added, in, as, building, and, clarksburg, school, also, added, in, as, building, are, listed, on, the, national, register, of, historic, placesnew, jersey, monmouth, county, national, register, of, historic, places]                                                                                                                                                                             |[ADJ, NOUN, NOUN, NOUN, VERB, ADP, SCONJ, NOUN, CCONJ, NOUN, NOUN, ADV, VERB, ADP, SCONJ, NOUN, AUX, VERB, ADP, DET, ADJ, NOUN, ADP, ADJ, ADJ, NOUN, NOUN, NOUN, ADJ, NOUN, ADP, ADJ, NOUN]                                                                                                                             |\n",
      "|[so, far, laidlaw, donated, million, to, columbia, business, school, m, to, london, business, school, and, m, to, saïd, business, school, as, part, of, this, scholarship, programme]                                                                                                                                                                                                                                                          |[ADV, ADV, NOUN, VERB, NOUN, ADP, VERB, NOUN, NOUN, NOUN, ADP, PROPN, NOUN, NOUN, CCONJ, NOUN, PART, VERB, NOUN, NOUN, ADP, NOUN, ADP, DET, NOUN, NOUN]                                                                                                                                                                 |\n",
      "|[the, first, set, of, laws, is, drafted, based, mainly, on, the, cambridge, university, rules]                                                                                                                                                                                                                                                                                                                                                 |[DET, ADJ, NOUN, ADP, NOUN, AUX, VERB, VERB, ADV, ADP, DET, NOUN, NOUN, NOUN]                                                                                                                                                                                                                                           |\n",
      "|[stone, was, admitted, to, edinboro, university, of, pennsylvania, on, a, creative, writing, scholarship, at, age, but, quit, college, and, moved, to, new, york, city, to, become, a, fashion, model]                                                                                                                                                                                                                                         |[NOUN, AUX, VERB, ADP, VERB, NOUN, ADP, NOUN, ADP, DET, ADJ, NOUN, NOUN, ADP, NOUN, CCONJ, VERB, NOUN, CCONJ, VERB, ADP, ADJ, PROPN, NOUN, PART, VERB, DET, NOUN, NOUN]                                                                                                                                                 |\n",
      "|[university, of, oklahoma, press, norman, publishing, division, of, the, university, by, arrangement, with, oxford, university, press, inc]                                                                                                                                                                                                                                                                                                    |[NOUN, ADP, ADJ, NOUN, NOUN, VERB, NOUN, ADP, DET, NOUN, ADP, NOUN, ADP, NOUN, NOUN, NOUN, NOUN]                                                                                                                                                                                                                        |\n",
      "|[ingalls, robert, p, herbert, h, lehman, and, new, yorks, little, new, deal, new, york, university, press, scholarly, history, evaluation, of, lehmans, governorship, from]                                                                                                                                                                                                                                                                    |[VERB, NOUN, NOUN, X, X, NOUN, CCONJ, ADJ, ADJ, ADJ, ADJ, NOUN, ADJ, PROPN, ADJ, NOUN, ADV, NOUN, NOUN, ADP, PROPN, NOUN, ADP]                                                                                                                                                                                          |\n",
      "|[despite, these, financial, problems, he, attended, the, tokyo, first, middle, school, where, he, became, acquainted, with, isamu, yoshii]                                                                                                                                                                                                                                                                                                     |[ADP, DET, ADJ, NOUN, PRON, VERB, DET, NOUN, ADV, NOUN, NOUN, ADV, PRON, AUX, VERB, ADP, NOUN, NOUN]                                                                                                                                                                                                                    |\n",
      "|[as, the, man, considered, responsible, for, a, number, of, attacks, including, the, bombing, of, a, childrens, school, bus, near, kfar, darom, in, november, and, for, the, infiltration, into, an, idf, outpost, in, rafah, that, left, several, soldiers, dead, he, was, considered, one, of, the, most, wanted, palestinians, on, the, idfs, hitlist]                                                                                      |[ADP, DET, NOUN, VERB, ADJ, ADP, DET, NOUN, ADP, NOUN, VERB, DET, NOUN, ADP, DET, NOUN, NOUN, NOUN, ADP, ADV, ADP, ADP, PROPN, CCONJ, ADP, DET, NOUN, ADP, DET, ADJ, NOUN, ADP, NOUN, PRON, VERB, ADJ, NOUN, ADJ, PRON, AUX, VERB, NUM, ADP, DET, ADV, VERB, NOUN, ADP, DET, ADJ, NOUN]                                 |\n",
      "|[in, comparison, other, public, schools, in, the, region, scored, as, holdenville, wetumka, konawa, seminole, varnum, wewoka, public, schools, was, not, marked, as, a, school, in, need, of, improvement, in, this, stategenerated, report, card]                                                                                                                                                                                             |[ADP, NOUN, ADJ, ADJ, NOUN, ADP, DET, NOUN, VERB, ADP, X, X, X, X, NOUN, X, ADJ, NOUN, AUX, PART, VERB, ADP, DET, NOUN, ADP, NOUN, ADP, NOUN, ADP, DET, VERB, NOUN, NOUN]                                                                                                                                               |\n",
      "|[simon, snyder, governor, of, pennsylvania, amos, alonzo, stagg, football, coach, served, as, an, advisor, at, susquehanna, university, from, to, on, april, the, worlds, longest, banana, split, was, created, in, selinsgrove]                                                                                                                                                                                                               |[ADJ, NOUN, NOUN, ADP, NOUN, NOUN, NOUN, NOUN, NOUN, NOUN, VERB, ADP, DET, NOUN, ADP, NOUN, NOUN, ADP, PART, ADP, PROPN, DET, NOUN, ADJ, NOUN, NOUN, AUX, VERB, ADP, NOUN]                                                                                                                                              |\n",
      "|[a, lawyer, john, w, mitchell, provided, for, frémonts, early, education, whereupon, frémont, in, may, entered, charleston, college, teaching, at, intervals, in, the, countryside, but, was, expelled, for, irregular, attendance, in]                                                                                                                                                                                                        |[DET, ADJ, PROPN, PROPN, NOUN, VERB, ADP, NOUN, ADJ, NOUN, NOUN, NOUN, ADP, AUX, VERB, NOUN, NOUN, NOUN, ADP, NOUN, ADP, DET, NOUN, CCONJ, AUX, VERB, ADP, ADJ, NOUN, ADP]                                                                                                                                              |\n",
      "|[r, mushets, special, steel, rms, became, the, first, highspeed, steelsheffield, steel, and, a, century, of, commercial, and, technological, independence, by, geoffrey, tweedale, cambridge, university, press, pp]                                                                                                                                                                                                                           |[AUX, VERB, ADJ, NOUN, NOUN, VERB, DET, ADJ, NOUN, NOUN, NOUN, CCONJ, DET, NOUN, ADP, ADJ, CCONJ, ADJ, NOUN, ADP, NOUN, NOUN, NOUN, NOUN, NOUN, NOUN]                                                                                                                                                                   |\n",
      "|[mcmaths, own, account, promises, kept, university, of, arkansas, press, contains, a, wealth, of, primary, source, material, including, in, addition, to, the, authors, personal, recollections, photocopies, of, correspondence, exchanged, between, him, and, president, truman, and, others]                                                                                                                                                |[NOUN, ADJ, NOUN, NOUN, VERB, NOUN, ADP, ADJ, NOUN, VERB, DET, NOUN, ADP, ADJ, NOUN, NOUN, VERB, ADP, NOUN, ADP, DET, NOUN, ADJ, NOUN, NOUN, ADP, NOUN, VERB, ADP, PRON, CCONJ, ADJ, NOUN, CCONJ, NOUN]                                                                                                                 |\n",
      "|[their, mascot, is, the, gator, and, the, school, can, harbour, approximately, students]                                                                                                                                                                                                                                                                                                                                                       |[PRON, NOUN, AUX, DET, NOUN, CCONJ, DET, NOUN, AUX, VERB, ADV, NOUN]                                                                                                                                                                                                                                                    |\n",
      "|[the, school, closed, their, building, during, the, covid, pandemic, and, currently, only, offers, online, classes, and, workshops]                                                                                                                                                                                                                                                                                                            |[DET, NOUN, VERB, PRON, NOUN, ADP, DET, NOUN, NOUN, CCONJ, ADV, ADV, VERB, ADV, NOUN, CCONJ, NOUN]                                                                                                                                                                                                                      |\n",
      "|[the, boys, high, school, was, founded, in, and, the, girls, high, school, separated, from, it, in]                                                                                                                                                                                                                                                                                                                                            |[DET, NOUN, ADJ, NOUN, AUX, VERB, ADP, CCONJ, DET, NOUN, ADJ, NOUN, VERB, ADP, PRON, ADP]                                                                                                                                                                                                                               |\n",
      "|[in, the, early, s, and, toward, the, beginning, of, the, martial, law, years, the, university, embarked, on, a, build, a, greater, silliman, program, in, response, to, the, growing, student, population, and, the, corresponding, need, for, more, facilities]                                                                                                                                                                              |[ADP, DET, ADJ, NOUN, CCONJ, ADP, DET, NOUN, ADP, DET, ADJ, NOUN, NOUN, DET, NOUN, VERB, ADP, DET, NOUN, DET, ADJ, NOUN, NOUN, ADP, NOUN, ADP, DET, NOUN, NOUN, NOUN, CCONJ, DET, NOUN, VERB, ADP, ADJ, NOUN]                                                                                                           |\n",
      "|[the, rector, has, the, main, responsibility, for, the, strategic, direction, and, the, overall, administration, of, the, university, together, with, the, senate, and, assisted, by, the, administrative, council]                                                                                                                                                                                                                            |[DET, NOUN, VERB, DET, ADJ, NOUN, ADP, DET, ADJ, NOUN, CCONJ, DET, ADJ, NOUN, ADP, DET, NOUN, ADV, ADP, DET, NOUN, CCONJ, VERB, ADP, DET, ADJ, NOUN]                                                                                                                                                                    |\n",
      "|[vietnamese, government, decree, decree, ndcp, dated, august, identified, three, types, of, higher, education, đại, học, university, which, is, a, multidisciplinary, institution, offering, fields, of, study, and, which, has, research, capacities]                                                                                                                                                                                         |[ADJ, NOUN, VERB, NOUN, NOUN, VERB, PROPN, VERB, NUM, NOUN, ADP, ADJ, NOUN, NOUN, NOUN, NOUN, PRON, AUX, DET, ADJ, NOUN, VERB, NOUN, ADP, NOUN, CCONJ, PRON, AUX, VERB, NOUN]                                                                                                                                           |\n",
      "|[among, custom, bike, builders, indian, larry, was, known, and, respected, for, having, mastered, the, oldschool, style, of, building, and, remaining, loyal, to, itnichols, cambridge]                                                                                                                                                                                                                                                        |[ADP, NOUN, NOUN, NOUN, ADJ, NOUN, AUX, VERB, CCONJ, VERB, SCONJ, AUX, VERB, DET, ADJ, NOUN, ADP, NOUN, CCONJ, VERB, ADJ, ADP, VERB, NOUN]                                                                                                                                                                              |\n",
      "|[with, students, in, grades, through, new, jersey, school, directory, for, the, cinnaminson, township, public, schools, new, jersey, department, of, education]                                                                                                                                                                                                                                                                                |[ADP, NOUN, ADP, NOUN, ADP, ADJ, NOUN, NOUN, NOUN, ADP, DET, NOUN, NOUN, ADJ, NOUN, ADJ, NOUN, NOUN, ADP, NOUN]                                                                                                                                                                                                         |\n",
      "|[he, established, a, series, of, schools, based, on, these, principles, beginning, in]                                                                                                                                                                                                                                                                                                                                                         |[PRON, VERB, DET, NOUN, ADP, NOUN, VERB, ADP, DET, NOUN, VERB, ADP]                                                                                                                                                                                                                                                     |\n",
      "|[observations, of, huit, mars, as, it, is, known, locally, in, french, vary, from, town, to, town, ranging, from, small, ceremonies, or, a, day, off, school, for, girls, only, to, a, week, of, events, that, includes, races, contests, and, expositions, by, women, s, groups, and, ends, with, parades, and, communitywide, celebrations]                                                                                                  |[NOUN, ADP, NOUN, NOUN, SCONJ, PRON, AUX, VERB, ADV, ADP, ADJ, NOUN, ADP, NOUN, ADP, NOUN, NOUN, ADP, ADJ, NOUN, CCONJ, DET, NOUN, ADP, NOUN, ADP, NOUN, ADV, ADP, DET, NOUN, ADP, NOUN, PRON, VERB, NOUN, NOUN, CCONJ, NOUN, ADP, NOUN, PART, NOUN, CCONJ, VERB, ADP, NOUN, CCONJ, NOUN, NOUN]                         |\n",
      "|[hillcrest, high, school, is, a, very, ethnically, diverse, school, with, many, different, kinds, of, people, living, in, and, around, the, surrounding, community, including, blacks, arabs, south, asians, somalis, and, whites]                                                                                                                                                                                                             |[ADJ, ADJ, NOUN, AUX, DET, ADV, ADV, ADJ, NOUN, ADP, ADJ, ADJ, NOUN, ADP, NOUN, VERB, ADV, CCONJ, ADP, DET, VERB, NOUN, VERB, NOUN, ADP, PROPN, PROPN, PROPN, CCONJ, NOUN]                                                                                                                                              |\n",
      "|[state, university, of, new, york, press]                                                                                                                                                                                                                                                                                                                                                                                                      |[NOUN, NOUN, ADP, ADJ, PROPN, NOUN]                                                                                                                                                                                                                                                                                     |\n",
      "|[graduated, from, midwood, high, school, and, once, resided, at, both, avenue, k, and, east, th, streetnewman, andy, and, kilgannon, corey]                                                                                                                                                                                                                                                                                                    |[VERB, ADP, NOUN, ADJ, NOUN, CCONJ, ADV, VERB, ADP, CCONJ, PROPN, NOUN, CCONJ, ADJ, NOUN, NOUN, NOUN, CCONJ, NOUN, NOUN]                                                                                                                                                                                                |\n",
      "|[the, beginning, of, the, scientific, revolution, western, new, england, college, andreas, vesalius, published, de, humani, corporis, fabrica, on, the, fabric, of, the, human, body, in, basel, which, revolutionised, the, science, of, human, anatomy, and, the, practice, of, medicine]                                                                                                                                                    |[DET, NOUN, ADP, DET, ADJ, NOUN, ADJ, ADJ, NOUN, NOUN, NOUN, NOUN, VERB, PROPN, X, NOUN, NOUN, ADP, DET, NOUN, ADP, DET, ADJ, NOUN, ADP, NOUN, PRON, VERB, DET, NOUN, ADP, ADJ, NOUN, CCONJ, DET, NOUN, ADP, NOUN]                                                                                                      |\n",
      "|[university, of, pennsylvania, glee, club, penn, pipers, penn, sirens]                                                                                                                                                                                                                                                                                                                                                                         |[NOUN, ADP, NOUN, NOUN, NOUN, NOUN, NOUN, VERB, NOUN]                                                                                                                                                                                                                                                                   |\n",
      "|[being, the, experiences, of, cecil, prendergast, undergraduate, of, the, university, of, oxford, shewing, how, he, was, led, through, the, pleasant, paths, of, masochism, to, the, supreme, joys, of, sadism]                                                                                                                                                                                                                                |[AUX, DET, NOUN, ADP, NOUN, ADJ, NOUN, ADP, DET, NOUN, ADP, NOUN, VERB, ADV, PRON, AUX, VERB, ADP, DET, ADJ, NOUN, ADP, NOUN, ADP, DET, ADJ, NOUN, ADP, NOUN]                                                                                                                                                           |\n",
      "|[he, returned, to, montpellier, in, to, a, salaried, chair, in, chemistry, at, the, university, where, his, lectures, were, quickly, acclaimed]                                                                                                                                                                                                                                                                                                |[PRON, VERB, ADP, NOUN, ADP, ADP, DET, ADJ, NOUN, ADP, NOUN, ADP, DET, NOUN, ADV, PRON, NOUN, AUX, ADV, VERB]                                                                                                                                                                                                           |\n",
      "|[ecta, a, magnet, school, opened, for, the, school, year, admitting, only, freshmen, and, sophomores, las, vegas, high, school, the, oldest, of, the, four, high, schools, opened, in, las, vegas, high, school, opened, its, new, campus, in, and, sunrise, mountain, high, school, was, established, in]                                                                                                                                     |[VERB, DET, NOUN, NOUN, VERB, ADP, DET, NOUN, NOUN, VERB, ADV, NOUN, CCONJ, NOUN, NOUN, NOUN, ADJ, NOUN, DET, ADJ, ADP, DET, NUM, ADJ, NOUN, VERB, ADP, NOUN, NOUN, ADJ, NOUN, VERB, PRON, ADJ, NOUN, ADP, CCONJ, VERB, NOUN, ADJ, NOUN, AUX, VERB, ADP]                                                                |\n",
      "|[further, education, is, provided, by, warwickshire, colleges, leamington, site, and, half, of, the, campus, of, the, university, of, warwick, is, found, on, the, edge, of, the, district]                                                                                                                                                                                                                                                    |[ADJ, NOUN, AUX, VERB, ADP, ADJ, NOUN, NOUN, NOUN, CCONJ, NOUN, ADP, DET, NOUN, ADP, DET, NOUN, ADP, NOUN, AUX, VERB, ADP, DET, NOUN, ADP, DET, NOUN]                                                                                                                                                                   |\n",
      "|[goldfish, also, associated, the, company, with, columbia, university, via, professor, victor, freeburgs, photoplay, writing, class, in, to, increase, the, companys, artistic, standings]                                                                                                                                                                                                                                                     |[NOUN, ADV, VERB, DET, NOUN, ADP, ADJ, NOUN, ADP, NOUN, NOUN, NOUN, NOUN, VERB, NOUN, ADP, PART, VERB, DET, NOUN, ADJ, NOUN]                                                                                                                                                                                            |\n",
      "|[both, the, watsons, and, dixons, belonged, to, the, early, school, of, methodists, who, did, not, renounce, their, membership, in, the, church, of, england, so, that, there, was, no, feeling, that, dixon, had, been, disloyal, to, their, communion, when, he, prepared, for, orders, in, the, church]                                                                                                                                     |[CCONJ, DET, NOUN, CCONJ, NOUN, VERB, ADP, DET, ADJ, NOUN, ADP, NOUN, PRON, AUX, PART, VERB, PRON, NOUN, ADP, DET, NOUN, ADP, NOUN, ADV, SCONJ, PRON, VERB, DET, NOUN, SCONJ, AUX, AUX, AUX, ADJ, ADP, PRON, NOUN, ADV, PRON, VERB, ADP, NOUN, ADP, DET, NOUN]                                                          |\n",
      "|[it, became, the, church, of, the, university, in]                                                                                                                                                                                                                                                                                                                                                                                             |[PRON, VERB, DET, NOUN, ADP, DET, NOUN, ADP]                                                                                                                                                                                                                                                                            |\n",
      "|[st, kevins, college, is, located, adjacent, to, platform]                                                                                                                                                                                                                                                                                                                                                                                     |[ADJ, NOUN, NOUN, AUX, VERB, ADJ, ADP, NOUN]                                                                                                                                                                                                                                                                            |\n",
      "|[perseverance, of, the, perpetual, problem, pertaining, to, preaching, to, public, school, pupils, why, it, persists, university, of, massachusetts, law, vol]                                                                                                                                                                                                                                                                                 |[NOUN, ADP, DET, ADJ, NOUN, VERB, SCONJ, VERB, ADP, ADJ, NOUN, NOUN, ADV, PRON, VERB, NOUN, ADP, ADJ, NOUN, NOUN]                                                                                                                                                                                                       |\n",
      "|[los, angeles, university, of, california, press]                                                                                                                                                                                                                                                                                                                                                                                              |[ADJ, NOUN, NOUN, ADP, PROPN, NOUN]                                                                                                                                                                                                                                                                                     |\n",
      "|[the, partyup, is, a, threeperson, attack, that, varies, based, on, what, school, the, character, initiating, the, attack, is, from]                                                                                                                                                                                                                                                                                                           |[DET, NOUN, AUX, DET, NOUN, NOUN, PRON, NOUN, VERB, SCONJ, PRON, NOUN, DET, NOUN, VERB, DET, NOUN, AUX, ADP]                                                                                                                                                                                                            |\n",
      "+-----------------------------------------------------------------------------------------------------------------------------------------------------------------------------------------------------------------------------------------------------------------------------------------------------------------------------------------------------------------------------------------------------------------------------------------------+------------------------------------------------------------------------------------------------------------------------------------------------------------------------------------------------------------------------------------------------------------------------------------------------------------------------+\n",
      "only showing top 100 rows\n",
      "\n"
     ]
    }
   ],
   "source": [
    "# 🆂🅰🅼🅿🅻🅴\n",
    "### CLICK HERE TO SHOW ENGLISH TAGS\n",
    "\n",
    "spark.read.parquet(\"result/8_BItag.parquet\").show(100, False)"
   ]
  },
  {
   "cell_type": "code",
   "execution_count": 2,
   "id": "cac05271-87e6-487d-90db-d01cec20927b",
   "metadata": {},
   "outputs": [
    {
     "name": "stderr",
     "output_type": "stream",
     "text": [
      "                                                                                \r"
     ]
    }
   ],
   "source": [
    "df = spark.read.parquet(\"result/8_BItag.parquet\")"
   ]
  },
  {
   "cell_type": "code",
   "execution_count": 3,
   "id": "00a90e15-89e7-448a-b855-39b63cc00c35",
   "metadata": {},
   "outputs": [
    {
     "name": "stderr",
     "output_type": "stream",
     "text": [
      "                                                                                \r"
     ]
    }
   ],
   "source": [
    "write_avro(df, \"output/8_BI_TAG\")"
   ]
  },
  {
   "cell_type": "code",
   "execution_count": null,
   "id": "9c9c003c-3f1a-42df-972d-db7096474a69",
   "metadata": {},
   "outputs": [],
   "source": []
  },
  {
   "cell_type": "markdown",
   "id": "5aca149f-7460-4f22-8ebb-8edd08dad55e",
   "metadata": {},
   "source": [
    "## CHINESE"
   ]
  },
  {
   "cell_type": "code",
   "execution_count": 26,
   "id": "831d5bde-82d6-4cb2-ae83-7498b642a224",
   "metadata": {},
   "outputs": [],
   "source": [
    "df = read_avro(\"output/7_bcReadyAnalysis_B\")\n",
    "df = df.repartition(74)"
   ]
  },
  {
   "cell_type": "code",
   "execution_count": 17,
   "id": "5a36c208-be1a-4c3f-8529-f3887fa8033b",
   "metadata": {},
   "outputs": [],
   "source": [
    "from translate import Translator\n",
    "from pprint import pprint\n",
    "from more_itertools import locate\n",
    "import translators as ts\n",
    "import jieba\n",
    "import jieba.posseg as pseg\n",
    "from translate import Translator\n",
    "\n",
    "def translate(text):\n",
    "    translator= Translator(to_lang=\"Chinese\")\n",
    "    return translator.translate(text)\n",
    "\n",
    "def find_indices(l, item_to_find):\n",
    "    return locate(l, lambda x: x == item_to_find)\n",
    "\n",
    "def get_token_tag(text):\n",
    "    words = pseg.cut(text, use_paddle=True) #paddle模式\n",
    "    w =[]\n",
    "    t =[]\n",
    "    for a, b in words:\n",
    "        if a != \" \":\n",
    "            w.append(a)\n",
    "            t.append(b)\n",
    "    return w,t\n",
    "\n",
    "\n",
    "def tag_chinese_with_translate_capability(text):\n",
    "    r = get_token_tag(text)    \n",
    "    iw = r[0]\n",
    "    it = r[1]\n",
    "    initialLength = len(iw)\n",
    "    if \"eng\" in it:\n",
    "        try:\n",
    "            engIndex = find_indices(it, \"eng\")\n",
    "        except:\n",
    "            return iw, it\n",
    "        engWords = []\n",
    "        for i in engIndex:\n",
    "            engWords.append(iw[i])\n",
    "        \n",
    "        for i in engWords:\n",
    "            try:\n",
    "                translated = translate(i)\n",
    "                text = text.replace(i, translated)\n",
    "            except:\n",
    "                return iw, it\n",
    "        \n",
    "        \n",
    "        nr = get_token_tag(text)\n",
    "        \n",
    "        lengthAfterTranslate = len(nr[0])\n",
    "        \n",
    "        if(lengthAfterTranslate == initialLength):\n",
    "            return iw, nr[1]\n",
    "        else:\n",
    "            return iw,ir\n",
    "        \n",
    "    else:\n",
    "        return iw,it\n",
    "\n",
    "udfTranslateTagChinese = udf(lambda x : get_token_tag(x), ArrayType(ArrayType(StringType())))"
   ]
  },
  {
   "cell_type": "code",
   "execution_count": 36,
   "id": "af0ce03b-785f-443f-b17b-db1bf1658f1a",
   "metadata": {},
   "outputs": [
    {
     "data": {
      "text/plain": [
       "DataFrame[text: string]"
      ]
     },
     "execution_count": 36,
     "metadata": {},
     "output_type": "execute_result"
    }
   ],
   "source": [
    "df"
   ]
  },
  {
   "cell_type": "code",
   "execution_count": 14,
   "id": "bd1c6ad2-726f-42ef-9848-3f87a0c27f25",
   "metadata": {},
   "outputs": [
    {
     "data": {
      "text/plain": [
       "(['i', 'love', 'eat', '薯片'], ['x', 'v', 'v', 'n'])"
      ]
     },
     "execution_count": 14,
     "metadata": {},
     "output_type": "execute_result"
    }
   ],
   "source": [
    "tag_chinese_with_translate_capability(\"i love eat 薯片\")"
   ]
  },
  {
   "cell_type": "code",
   "execution_count": 27,
   "id": "236f8a17-fb69-44ff-b9a1-656d524fa203",
   "metadata": {},
   "outputs": [
    {
     "data": {
      "text/plain": [
       "DataFrame[text: string, tag: array<array<string>>]"
      ]
     },
     "execution_count": 27,
     "metadata": {},
     "output_type": "execute_result"
    }
   ],
   "source": [
    "chineseTag = df.withColumn(\"tag\", udfTranslateTagChinese(df.text))\n",
    "chineseTag"
   ]
  },
  {
   "cell_type": "code",
   "execution_count": 28,
   "id": "db82dc5a-e8db-488b-8844-d603729e9971",
   "metadata": {
    "collapsed": true,
    "jupyter": {
     "outputs_hidden": true
    },
    "tags": []
   },
   "outputs": [
    {
     "name": "stderr",
     "output_type": "stream",
     "text": [
      "Building prefix dict from the default dictionary ...\n",
      "Loading model from cache /tmp/jieba.cache\n",
      "Loading model cost 0.577 seconds.                                   (0 + 1) / 1]\n",
      "Prefix dict has been built successfully.\n",
      "Building prefix dict from the default dictionary ...                            \n",
      "Loading model from cache /tmp/jieba.cache\n",
      "Loading model cost 0.693 seconds.                                   (0 + 1) / 1]\n",
      "Prefix dict has been built successfully.\n"
     ]
    },
    {
     "name": "stdout",
     "output_type": "stream",
     "text": [
      "+-------------------------------------+------------------------------+--------------------+-------+\n",
      "|                             original|                         token|                 tag|   lang|\n",
      "+-------------------------------------+------------------------------+--------------------+-------+\n",
      "|年中国银行大楼成为汪精卫伪储备银行...| [年, 中国银行, 大楼, 成为,...|[m, nt, n, v, nr,...|chinese|\n",
      "|他生前所在部队党委追认他为中国共产...|  [他, 生前, 所在, 部队, 党...|[r, t, b, n, j, v...|chinese|\n",
      "|该校前身为台湾总督府创立于大正六年...|  [该校, 前身, 为, 台湾, 总...|[r, r, p, ns, n, ...|chinese|\n",
      "|            母亲是台湾人 父亲是法国人|  [母亲, 是, 台湾人, 父亲, ...|  [n, v, n, n, v, n]|chinese|\n",
      "|  中国大陆伺服器命名为 左轮军魂 台...| [中国, 大陆, 伺服器, 命名,...|[ns, n, nz, n, p,...|chinese|\n",
      "|日本在香港标准时间月日清晨进攻香港...|  [日本, 在, 香港, 标准, 时...|[ns, p, ns, n, n,...|chinese|\n",
      "| 香港飞镖会会长 希望中国人参加世界...|  [香港, 飞镖, 会, 会长, 希...|[ns, n, v, n, v, ...|chinese|\n",
      "|   另外 台湾网络红人 馆长 陈之汉在...|[另外, 台湾, 网络红人, 馆长...|[c, ns, n, n, nr,...|chinese|\n",
      "| 年 中国共产党浙江省委员会经研究后...|[年, 中国共产党, 浙江省, 委...|[m, nt, ns, n, n,...|chinese|\n",
      "| 年代初香港保卫战之前 当局曾于大街...|  [年代, 初, 香港, 保卫战, ...|[t, f, ns, nz, f,...|chinese|\n",
      "|  立场新闻 发现 港铁工程总监黄唯铭...|  [立场, 新闻, 发现, 港铁, ...|[n, n, v, n, n, n...|chinese|\n",
      "| 当罗莎移至越南对出海面 并快将登陆...|  [当, 罗莎, 移至, 越南, 对...|[t, nrt, v, ns, p...|chinese|\n",
      "|  吴永华 早田文藏 台湾植物大命名时...|  [吴, 永华, 早, 田文藏, 台...|[nr, nz, a, nr, n...|chinese|\n",
      "|其间新党访问团成员周阳山提到了解决...| [其间, 新党, 访问团, 成员,...|[r, n, n, n, nr, ...|chinese|\n",
      "|   年式通用机枪 简称 式机枪 是一款...|  [年式, 通用, 机枪, 简称, ...|[n, v, n, v, k, n...|chinese|\n",
      "|该机构的前身为中国地质博物馆宝石陈...|   [该, 机构, 的, 前身, 为,...|[r, n, uj, r, p, ...|chinese|\n",
      "| 几天后 有居住在新加坡的中国人去哥...|   [几天, 后, 有, 居住, 在,...|[m, f, v, v, p, n...|chinese|\n",
      "|   动感号高速动车组 由 中国南车 中...|  [动感, 号, 高速, 动车组, ...|[n, m, d, n, p, n...|chinese|\n",
      "|    主要分布于中国大陆 常栖息在红树林|  [主要, 分布, 于, 中国, 大...|[b, v, p, ns, n, ...|chinese|\n",
      "|球队历史上一共有过名队员在巴西接受...|  [球队, 历史, 上, 一共, 有...|[n, n, f, j, v, u...|chinese|\n",
      "+-------------------------------------+------------------------------+--------------------+-------+\n",
      "only showing top 20 rows\n",
      "\n"
     ]
    },
    {
     "name": "stderr",
     "output_type": "stream",
     "text": [
      "                                                                                \r"
     ]
    }
   ],
   "source": [
    "## split tag with token, with format of\n",
    "## original, token, tag, language\n",
    "\n",
    "chineseTag = chineseTag.rdd.map(lambda x : (x.text, x.tag[0], x.tag[1], \"chinese\")).toDF([\"original\",\"token\",\"tag\", \"lang\"])\n",
    "chineseTag.show()\n",
    "\n",
    "\n",
    "# 🆂🅰🅼🅿🅻🅴\n",
    "### CLICK HERE TO SHOW CHINESE TAGS"
   ]
  },
  {
   "cell_type": "code",
   "execution_count": 29,
   "id": "22470d1d-2906-442c-ac9f-e3205685727a",
   "metadata": {
    "collapsed": true,
    "jupyter": {
     "outputs_hidden": true
    },
    "tags": []
   },
   "outputs": [
    {
     "data": {
      "text/plain": [
       "{'pos': 'MAP_TO',\n",
       " 'eng-JJ': 'ADJ',\n",
       " 'eng-JJR': 'ADJ',\n",
       " 'eng-JJS': 'ADJ',\n",
       " 'eng-PDT': 'ADJ',\n",
       " 'a': 'ADJ',\n",
       " 'ag': 'ADJ',\n",
       " 'ad': 'ADJ',\n",
       " 'an': 'ADJ',\n",
       " 'b': 'ADJ',\n",
       " 'i': 'ADJ',\n",
       " 'z': 'ADJ',\n",
       " 'adj': 'ADJ',\n",
       " 'eng-RB': 'ADV',\n",
       " 'eng-RBR': 'ADV',\n",
       " 'eng-RBS': 'ADV',\n",
       " 'eng-WRB': 'ADV',\n",
       " 'd': 'ADV',\n",
       " 'dg': 'ADV',\n",
       " 'h': 'ADV',\n",
       " 't': 'ADV',\n",
       " 'zg': 'ADV',\n",
       " 'adv': 'ADV',\n",
       " 'eng-CC': 'CONJ',\n",
       " 'c': 'CONJ',\n",
       " 'conj': 'CONJ',\n",
       " 'eng-UH': 'INT',\n",
       " 'e': 'INT',\n",
       " 'int': 'INT',\n",
       " 'm': 'M',\n",
       " 'eng-CD': 'NOUN',\n",
       " 'eng-DT': 'ADV',\n",
       " 'eng-EX': 'NOUN',\n",
       " 'eng-NN': 'NOUN',\n",
       " 'eng-NNS': 'NOUN',\n",
       " 'eng-NNP': 'NOUN',\n",
       " 'eng-NNPS': 'NOUN',\n",
       " 'eng-URL': 'NOUN',\n",
       " 'eng-WDT': 'NOUN',\n",
       " 'j': 'NOUN',\n",
       " 'mg': 'NOUN',\n",
       " 'n': 'NOUN',\n",
       " 'ng': 'NOUN',\n",
       " 'nr': 'NOUN',\n",
       " 'nrfg': 'NOUN',\n",
       " 'nrt': 'NOUN',\n",
       " 'ns': 'NOUN',\n",
       " 'nt': 'NOUN',\n",
       " 'nz': 'NOUN',\n",
       " 's': 'NOUN',\n",
       " 'tg': 'NOUN',\n",
       " 'url': 'NOUN',\n",
       " 'o': 'O',\n",
       " 'eng-IN': 'PREP',\n",
       " 'eng-POS': 'PREP',\n",
       " 'eng-RP': 'PREP',\n",
       " 'eng-TO': 'PREP',\n",
       " 'p': 'PREP',\n",
       " 'prep': 'PREP',\n",
       " 'eng-PP$': 'PRON',\n",
       " 'eng-PRP': 'PRON',\n",
       " 'eng-WP': 'PRON',\n",
       " 'eng-WP$': 'PRON',\n",
       " 'k': 'PRON',\n",
       " 'mq': 'PRON',\n",
       " 'r': 'PRON',\n",
       " 'rg': 'PRON',\n",
       " 'rr': 'PRON',\n",
       " 'rz': 'PRON',\n",
       " 'pron': 'PRON',\n",
       " 'eng-LS': 'PUNC',\n",
       " 'eng-SYM': 'PUNC',\n",
       " 'eng-,': 'PUNC',\n",
       " 'eng-.': 'PUNC ',\n",
       " 'eng-:': 'PUNC',\n",
       " 'eng-$': 'PUNC',\n",
       " 'eng-#': 'PUNC',\n",
       " 'eng-\"': 'PUNC',\n",
       " 'eng-(': 'PUNC',\n",
       " 'eng-)': 'PUNC',\n",
       " 'w': 'PUNC',\n",
       " 'w-BACK-SLOPING-COMMA': 'PUNC',\n",
       " 'w-COMMA': 'PUNC',\n",
       " 'w-DASH': 'PUNC',\n",
       " 'w-ELLIPSIS': 'PUNC',\n",
       " 'w-EXCTAMATION': 'PUNC',\n",
       " 'w-FORWARD-SLASH': 'PUNC',\n",
       " 'w-GUILLEMET': 'PUNC',\n",
       " 'w-GUILLEMET-LEFT': 'PUNC',\n",
       " 'w-GUILLEMET-RIGHT': 'PUNC',\n",
       " 'w-PARENTHESES-BRACE-LEFT': 'PUNC',\n",
       " 'w-PARENTHESES-BRACE-RIGHT': 'PUNC',\n",
       " 'w-PARENTHESES-COLON': 'PUNC',\n",
       " 'w-PARENTHESES-LEFT': 'PUNC',\n",
       " 'w-PARENTHESES-QUOTATION-LEFT': 'PUNC',\n",
       " 'w-PARENTHESES-QUOTATION-RIGHT': 'PUNC',\n",
       " 'w-PARENTHESES-QUOTATION': 'PUNC',\n",
       " 'w-PARENTHESES-RIGHT': 'PUNC',\n",
       " 'w-PARENTHESES-SEMICOLON': 'PUNC',\n",
       " 'w-PARENTHESES-SQUARE-BRACKET-LEFT': 'PUNC',\n",
       " 'w-PARENTHESES-SQUARE-BRACKET-RIGHT': 'PUNC',\n",
       " 'w-PERIOD': 'PUNC',\n",
       " 'w-QUESTION': 'PUNC',\n",
       " 'w-SEPARATION-DOT': 'PUNC',\n",
       " 'w-MATH': 'PUNC',\n",
       " 'w-SLASH': 'PUNC',\n",
       " 'punc': 'PUNC',\n",
       " 'q': 'Q',\n",
       " 'u': 'U',\n",
       " 'ud': 'U',\n",
       " 'uj': 'U',\n",
       " 'uv': 'U',\n",
       " 'ug': 'U',\n",
       " 'ul': 'U',\n",
       " 'uz': 'U',\n",
       " 'y': 'U',\n",
       " 'eng-FW': 'UNKNOWN',\n",
       " 'eng': 'UNKNOWN',\n",
       " 'g': 'UNKNOWN',\n",
       " 'l': 'UNKNOWN',\n",
       " 'x': 'UNKNOWN',\n",
       " 'eng-MD': 'VERB',\n",
       " 'eng-VB': 'VERB',\n",
       " 'eng-VBD': 'VERB',\n",
       " 'eng-VBG': 'VERB',\n",
       " 'eng-VBN': 'VERB',\n",
       " 'eng-VBP': 'VERB',\n",
       " 'eng-VBZ': 'VERB',\n",
       " 'df': 'VERB',\n",
       " 'f': 'VERB',\n",
       " 'v': 'VERB',\n",
       " 'vg': 'VERB',\n",
       " 'vd': 'VERB',\n",
       " 'vi': 'VERB',\n",
       " 'vn': 'VERB',\n",
       " 'vq': 'VERB',\n",
       " 'yg': 'NOUN'}"
      ]
     },
     "execution_count": 29,
     "metadata": {},
     "output_type": "execute_result"
    }
   ],
   "source": [
    "import csv\n",
    "import re\n",
    "\n",
    "dict2 = {}\n",
    "\n",
    "with open(\"replacement.csv\", 'r') as file:\n",
    "  csvreader = csv.reader(file)\n",
    "  for row in csvreader:\n",
    "\n",
    "    value =row[1].replace(\"POS-\",\"\").upper()\n",
    "    value =  re.sub(\"^N$\", \"NOUN\", value)\n",
    "    value =  re.sub(\"^V$\", \"VERB\", value)\n",
    "\n",
    "\n",
    "    dict2[row[0]] =value\n",
    "\n",
    "dict2"
   ]
  },
  {
   "cell_type": "code",
   "execution_count": 30,
   "id": "74958bfb-16ff-44cc-b59c-802900198cb3",
   "metadata": {
    "tags": []
   },
   "outputs": [],
   "source": [
    "from pyspark.sql.types import StringType, ArrayType\n",
    "from pyspark.sql.functions import col, udf, size, split, lit\n",
    "\n",
    "dictionary = {\n",
    "\"a\": \"ADJ\",\n",
    "\"p\": \"ADP\",\n",
    "\"d\": \"ADV\",\n",
    "\"u\": \"ADX\",\n",
    "\"c\": \"CONJ\",\n",
    "\"xc\": \"DET\",\n",
    "\"n\": \"NOUN\",\n",
    "\"r\": \"PRON\",\n",
    "\"nr\": \"PROPN\",\n",
    "\"ns\": \"PROPN\",\n",
    "\"nt\": \"PROPN\",\n",
    "\"nw\": \"PROPN\", \n",
    "\"nz\": \"PROPN\", \n",
    "\"w\": \"SYM\",\n",
    "\"v\": \"VERB\",\n",
    "\"m\": \"m\",\n",
    "\"s\": \"s\",\n",
    "\"vd\": \"vd\",\n",
    "\"an\": \"an\",\n",
    "\"ad\": \"ad\",\n",
    "\"t\": \"t\",\n",
    "\"vn\": \"vn\",\n",
    "\"w\":\"PUNCT\",\n",
    "\"f\":\"f\",\n",
    "\"TIME\":\"TIME\",\n",
    "\"ORG\":\"ORG\",\n",
    "\"PER\":\"PER\",\n",
    "\"LOC\":\"LOC\",\n",
    "\"eng\":\"X\"\n",
    "}\n",
    "\n",
    "\n",
    "def standardize_token(text):\n",
    "    try:\n",
    "        return dictionary[text]\n",
    "    except:\n",
    "        pass\n",
    "    try:\n",
    "        return dict2[text]\n",
    "    except:\n",
    "        return text\n",
    "    \n",
    "    \n",
    "def getStdArray(arr):\n",
    "    return [standardize_token(x) for x in arr]\n",
    "\n",
    "stdTokenUDF = udf(lambda x : getStdArray(x), ArrayType(StringType()))"
   ]
  },
  {
   "cell_type": "code",
   "execution_count": 31,
   "id": "430301ee-478e-4bdf-8c87-3386af4733e2",
   "metadata": {},
   "outputs": [],
   "source": [
    "withNormalTag = chineseTag.withColumn(\"normal_tag\", stdTokenUDF(col(\"tag\"))).withColumn(\"language\", lit(\"chinese\"))"
   ]
  },
  {
   "cell_type": "code",
   "execution_count": 32,
   "id": "4dc0f831-c546-43ac-94e0-cee83f6173c3",
   "metadata": {
    "collapsed": true,
    "jupyter": {
     "outputs_hidden": true
    },
    "tags": []
   },
   "outputs": [
    {
     "name": "stderr",
     "output_type": "stream",
     "text": [
      "Building prefix dict from the default dictionary ...\n",
      "Loading model from cache /tmp/jieba.cache\n",
      "Loading model cost 0.587 seconds.                                   (0 + 1) / 1]\n",
      "Prefix dict has been built successfully.\n"
     ]
    },
    {
     "name": "stdout",
     "output_type": "stream",
     "text": [
      "+-------------------------------------+------------------------------+--------------------+-------+--------------------+--------+\n",
      "|                             original|                         token|                 tag|   lang|          normal_tag|language|\n",
      "+-------------------------------------+------------------------------+--------------------+-------+--------------------+--------+\n",
      "|年中国银行大楼成为汪精卫伪储备银行...| [年, 中国银行, 大楼, 成为,...|[m, nt, n, v, nr,...|chinese|[m, PROPN, NOUN, ...| chinese|\n",
      "|他生前所在部队党委追认他为中国共产...|  [他, 生前, 所在, 部队, 党...|[r, t, b, n, j, v...|chinese|[PRON, t, ADJ, NO...| chinese|\n",
      "|该校前身为台湾总督府创立于大正六年...|  [该校, 前身, 为, 台湾, 总...|[r, r, p, ns, n, ...|chinese|[PRON, PRON, ADP,...| chinese|\n",
      "|            母亲是台湾人 父亲是法国人|  [母亲, 是, 台湾人, 父亲, ...|  [n, v, n, n, v, n]|chinese|[NOUN, VERB, NOUN...| chinese|\n",
      "|  中国大陆伺服器命名为 左轮军魂 台...| [中国, 大陆, 伺服器, 命名,...|[ns, n, nz, n, p,...|chinese|[PROPN, NOUN, PRO...| chinese|\n",
      "|日本在香港标准时间月日清晨进攻香港...|  [日本, 在, 香港, 标准, 时...|[ns, p, ns, n, n,...|chinese|[PROPN, ADP, PROP...| chinese|\n",
      "| 香港飞镖会会长 希望中国人参加世界...|  [香港, 飞镖, 会, 会长, 希...|[ns, n, v, n, v, ...|chinese|[PROPN, NOUN, VER...| chinese|\n",
      "|   另外 台湾网络红人 馆长 陈之汉在...|[另外, 台湾, 网络红人, 馆长...|[c, ns, n, n, nr,...|chinese|[CONJ, PROPN, NOU...| chinese|\n",
      "| 年 中国共产党浙江省委员会经研究后...|[年, 中国共产党, 浙江省, 委...|[m, nt, ns, n, n,...|chinese|[m, PROPN, PROPN,...| chinese|\n",
      "| 年代初香港保卫战之前 当局曾于大街...|  [年代, 初, 香港, 保卫战, ...|[t, f, ns, nz, f,...|chinese|[t, f, PROPN, PRO...| chinese|\n",
      "|  立场新闻 发现 港铁工程总监黄唯铭...|  [立场, 新闻, 发现, 港铁, ...|[n, n, v, n, n, n...|chinese|[NOUN, NOUN, VERB...| chinese|\n",
      "| 当罗莎移至越南对出海面 并快将登陆...|  [当, 罗莎, 移至, 越南, 对...|[t, nrt, v, ns, p...|chinese|[t, NOUN, VERB, P...| chinese|\n",
      "|  吴永华 早田文藏 台湾植物大命名时...|  [吴, 永华, 早, 田文藏, 台...|[nr, nz, a, nr, n...|chinese|[PROPN, PROPN, AD...| chinese|\n",
      "|其间新党访问团成员周阳山提到了解决...| [其间, 新党, 访问团, 成员,...|[r, n, n, n, nr, ...|chinese|[PRON, NOUN, NOUN...| chinese|\n",
      "|   年式通用机枪 简称 式机枪 是一款...|  [年式, 通用, 机枪, 简称, ...|[n, v, n, v, k, n...|chinese|[NOUN, VERB, NOUN...| chinese|\n",
      "|该机构的前身为中国地质博物馆宝石陈...|   [该, 机构, 的, 前身, 为,...|[r, n, uj, r, p, ...|chinese|[PRON, NOUN, U, P...| chinese|\n",
      "| 几天后 有居住在新加坡的中国人去哥...|   [几天, 后, 有, 居住, 在,...|[m, f, v, v, p, n...|chinese|[m, f, VERB, VERB...| chinese|\n",
      "|   动感号高速动车组 由 中国南车 中...|  [动感, 号, 高速, 动车组, ...|[n, m, d, n, p, n...|chinese|[NOUN, m, ADV, NO...| chinese|\n",
      "|    主要分布于中国大陆 常栖息在红树林|  [主要, 分布, 于, 中国, 大...|[b, v, p, ns, n, ...|chinese|[ADJ, VERB, ADP, ...| chinese|\n",
      "|球队历史上一共有过名队员在巴西接受...|  [球队, 历史, 上, 一共, 有...|[n, n, f, j, v, u...|chinese|[NOUN, NOUN, f, N...| chinese|\n",
      "+-------------------------------------+------------------------------+--------------------+-------+--------------------+--------+\n",
      "only showing top 20 rows\n",
      "\n"
     ]
    },
    {
     "name": "stderr",
     "output_type": "stream",
     "text": [
      "                                                                                \r"
     ]
    }
   ],
   "source": [
    "withNormalTag.show()\n",
    "\n",
    "\n",
    "# 🆂🅰🅼🅿🅻🅴"
   ]
  },
  {
   "cell_type": "code",
   "execution_count": 33,
   "id": "f0561022-c6b2-49f6-afca-c251b254c2d2",
   "metadata": {
    "collapsed": true,
    "jupyter": {
     "outputs_hidden": true
    },
    "tags": []
   },
   "outputs": [
    {
     "name": "stderr",
     "output_type": "stream",
     "text": [
      "Building prefix dict from the default dictionary ...              (0 + 20) / 74]\n",
      "Loading model from cache /tmp/jieba.cache\n",
      "Building prefix dict from the default dictionary ...\n",
      "Loading model from cache /tmp/jieba.cache\n",
      "Building prefix dict from the default dictionary ...\n",
      "Building prefix dict from the default dictionary ...\n",
      "Loading model from cache /tmp/jieba.cache\n",
      "Loading model from cache /tmp/jieba.cache\n",
      "Building prefix dict from the default dictionary ...\n",
      "Loading model from cache /tmp/jieba.cache\n",
      "Building prefix dict from the default dictionary ...\n",
      "Loading model from cache /tmp/jieba.cache\n",
      "Building prefix dict from the default dictionary ...\n",
      "Loading model from cache /tmp/jieba.cache\n",
      "Building prefix dict from the default dictionary ...\n",
      "Loading model from cache /tmp/jieba.cache\n",
      "Building prefix dict from the default dictionary ...\n",
      "Loading model from cache /tmp/jieba.cache\n",
      "Building prefix dict from the default dictionary ...\n",
      "Loading model from cache /tmp/jieba.cache\n",
      "Building prefix dict from the default dictionary ...\n",
      "Loading model from cache /tmp/jieba.cache\n",
      "Building prefix dict from the default dictionary ...\n",
      "Loading model from cache /tmp/jieba.cache\n",
      "Building prefix dict from the default dictionary ...\n",
      "Loading model from cache /tmp/jieba.cache\n",
      "Building prefix dict from the default dictionary ...\n",
      "Loading model from cache /tmp/jieba.cache\n",
      "Building prefix dict from the default dictionary ...\n",
      "Loading model from cache /tmp/jieba.cache\n",
      "Building prefix dict from the default dictionary ...\n",
      "Loading model from cache /tmp/jieba.cache\n",
      "Building prefix dict from the default dictionary ...\n",
      "Loading model from cache /tmp/jieba.cache\n",
      "Building prefix dict from the default dictionary ...\n",
      "Loading model from cache /tmp/jieba.cache\n",
      "Building prefix dict from the default dictionary ...\n",
      "Loading model from cache /tmp/jieba.cache\n",
      "Building prefix dict from the default dictionary ...\n",
      "Loading model from cache /tmp/jieba.cache\n",
      "Loading model cost 0.722 seconds.\n",
      "Prefix dict has been built successfully.\n",
      "Loading model cost 0.710 seconds.\n",
      "Prefix dict has been built successfully.\n",
      "Loading model cost 0.713 seconds.\n",
      "Prefix dict has been built successfully.\n",
      "Loading model cost 0.721 seconds.\n",
      "Prefix dict has been built successfully.\n",
      "Loading model cost 0.721 seconds.\n",
      "Prefix dict has been built successfully.\n",
      "Loading model cost 0.724 seconds.\n",
      "Prefix dict has been built successfully.\n",
      "Loading model cost 0.733 seconds.\n",
      "Prefix dict has been built successfully.\n",
      "Loading model cost 0.740 seconds.\n",
      "Prefix dict has been built successfully.\n",
      "Loading model cost 0.720 seconds.\n",
      "Prefix dict has been built successfully.\n",
      "Loading model cost 0.758 seconds.\n",
      "Prefix dict has been built successfully.\n",
      "Loading model cost 0.803 seconds.\n",
      "Prefix dict has been built successfully.\n",
      "Loading model cost 0.723 seconds.\n",
      "Prefix dict has been built successfully.\n",
      "Loading model cost 0.810 seconds.\n",
      "Prefix dict has been built successfully.\n",
      "Loading model cost 0.726 seconds.\n",
      "Prefix dict has been built successfully.\n",
      "Loading model cost 0.838 seconds.\n",
      "Prefix dict has been built successfully.\n",
      "Loading model cost 0.971 seconds.\n",
      "Prefix dict has been built successfully.\n",
      "Loading model cost 0.874 seconds.\n",
      "Prefix dict has been built successfully.\n",
      "Loading model cost 0.974 seconds.\n",
      "Prefix dict has been built successfully.\n",
      "Loading model cost 0.963 seconds.\n",
      "Prefix dict has been built successfully.\n",
      "Loading model cost 0.963 seconds.\n",
      "Prefix dict has been built successfully.\n",
      "Building prefix dict from the default dictionary ...              (6 + 21) / 74]\n",
      "Loading model from cache /tmp/jieba.cache\n",
      "Building prefix dict from the default dictionary ...             (12 + 20) / 74]\n",
      "Loading model from cache /tmp/jieba.cache\n",
      "Building prefix dict from the default dictionary ...\n",
      "Loading model from cache /tmp/jieba.cache\n",
      "Building prefix dict from the default dictionary ...             (14 + 20) / 74]\n",
      "Loading model from cache /tmp/jieba.cache\n",
      "Loading model cost 0.740 seconds.\n",
      "Prefix dict has been built successfully.\n",
      "Building prefix dict from the default dictionary ...\n",
      "Loading model from cache /tmp/jieba.cache\n",
      "Loading model cost 0.716 seconds.                                (15 + 20) / 74]\n",
      "Prefix dict has been built successfully.\n",
      "Loading model cost 0.800 seconds.\n",
      "Prefix dict has been built successfully.\n",
      "Loading model cost 1.005 seconds.\n",
      "Prefix dict has been built successfully.\n",
      "Loading model cost 0.717 seconds.\n",
      "Prefix dict has been built successfully.\n",
      "Building prefix dict from the default dictionary ...             (18 + 20) / 74]\n",
      "Loading model from cache /tmp/jieba.cache\n",
      "Loading model cost 0.716 seconds.                                (20 + 20) / 74]\n",
      "Prefix dict has been built successfully.\n",
      "Building prefix dict from the default dictionary ...             (34 + 21) / 74]\n",
      "Loading model from cache /tmp/jieba.cache\n",
      "Building prefix dict from the default dictionary ...             (40 + 20) / 74]\n",
      "Loading model from cache /tmp/jieba.cache\n",
      "Loading model cost 0.727 seconds.\n",
      "Prefix dict has been built successfully.\n",
      "Building prefix dict from the default dictionary ...\n",
      "Loading model from cache /tmp/jieba.cache\n",
      "Loading model cost 1.008 seconds.\n",
      "Prefix dict has been built successfully.\n",
      "Loading model cost 0.985 seconds.\n",
      "Prefix dict has been built successfully.\n",
      "Building prefix dict from the default dictionary ...             (48 + 20) / 74]\n",
      "Loading model from cache /tmp/jieba.cache\n",
      "Loading model cost 0.701 seconds.==============>                 (51 + 20) / 74]\n",
      "Prefix dict has been built successfully.\n",
      "Building prefix dict from the default dictionary ...             (56 + 18) / 74]\n",
      "Loading model from cache /tmp/jieba.cache\n",
      "Loading model cost 0.713 seconds.\n",
      "Prefix dict has been built successfully.\n",
      "                                                                                \r"
     ]
    }
   ],
   "source": [
    "write_avro(withNormalTag.drop(\"lang\"), \"output/9_WIKI_TAG\")"
   ]
  },
  {
   "cell_type": "markdown",
   "id": "7031c0d8-be50-4689-8e44-f6783eb6e6ad",
   "metadata": {},
   "source": [
    "## NORMALIZE BM TAG FORMAT"
   ]
  },
  {
   "cell_type": "code",
   "execution_count": 39,
   "id": "997a4304-ef03-4096-bfd0-4c15d7271781",
   "metadata": {},
   "outputs": [],
   "source": [
    "bm = read_avro(\"output/8_BM_TAGS\")"
   ]
  },
  {
   "cell_type": "code",
   "execution_count": 40,
   "id": "68ff036b-7cf2-430b-86dd-a1492f4cfe38",
   "metadata": {
    "collapsed": true,
    "jupyter": {
     "outputs_hidden": true
    },
    "tags": []
   },
   "outputs": [
    {
     "name": "stdout",
     "output_type": "stream",
     "text": [
      "+----------------------------------------------------------------------------------------------------------------------------------------------------------------------------------------------------------------------------------------------------------------+---------------------------------------------------------------------------------------------------------------------------------------------------------------------------------------------------------------------------------------------------------------------------------------------------+----------------------------------------------------------------------------------------------------------------------------------------------------------------------------------------------------------------------+--------+\n",
      "|original                                                                                                                                                                                                                                                        |token                                                                                                                                                                                                                                                                                              |tag                                                                                                                                                                                                                   |language|\n",
      "+----------------------------------------------------------------------------------------------------------------------------------------------------------------------------------------------------------------------------------------------------------------+---------------------------------------------------------------------------------------------------------------------------------------------------------------------------------------------------------------------------------------------------------------------------------------------------+----------------------------------------------------------------------------------------------------------------------------------------------------------------------------------------------------------------------+--------+\n",
      "|jun fachhochschule bingen stefangeorge gymnasium hildegardisschule bingen rochusrealschule rupertus hauptschule sekolah vokasional bingen perpustakaan awam bingen tidak diketahui johann baptist hilsdorf jurugambar dan bapa kepada theodor dan jacob         |[jun, fachhochschule, bingen, stefangeorge, gymnasium, hildegardisschule, bingen, rochusrealschule, rupertus, hauptschule, sekolah, vokasional, bingen, perpustakaan, awam, bingen, tidak, diketahui, johann, baptist, hilsdorf, jurugambar, dan, bapa, kepada, theodor, dan, jacob]               |[NOUN, NOUN, NOUN, NOUN, NOUN, NOUN, NOUN, NOUN, NOUN, NOUN, NOUN, NOUN, NOUN, NOUN, ADJ, NOUN, PART, VERB, NOUN, NOUN, PROPN, NOUN, CCONJ, NOUN, ADP, NOUN, CCONJ, NOUN]                                             |malay   |\n",
      "|majangdong merupakan sebuah dong dan kawasan perbandaran yang terletak di daerah seongdong wilayah seoul korea selatan                                                                                                                                          |[majangdong, merupakan, sebuah, dong, dan, kawasan, perbandaran, yang, terletak, di, daerah, seongdong, wilayah, seoul, korea, selatan]                                                                                                                                                            |[NOUN, VERB, DET, NOUN, CCONJ, NOUN, NOUN, PRON, VERB, ADP, NOUN, NOUN, NOUN, NOUN, NOUN, NOUN]                                                                                                                       |malay   |\n",
      "|sebuah lagi kampung adalah di daeseongdong korea selatan kilometer jaraknya dari kijŏngdong                                                                                                                                                                     |[sebuah, lagi, kampung, adalah, di, daeseongdong, korea, selatan, kilometer, jaraknya, dari, kijongdong]                                                                                                                                                                                           |[DET, ADV, NOUN, AUX, ADP, NOUN, PROPN, NOUN, NOUN, NOUN, ADP, PROPN]                                                                                                                                                 |malay   |\n",
      "|contohnya rambutan boleh dikategorikan kepada varieti botani yang berbeza mengikut warna kulit buah sama ada kuning varieti gading r atau varieti merah rambutan anak sekolah dan rambutan gula batu r                                                          |[contohnya, rambutan, boleh, dikategorikan, kepada, varieti, botani, yang, berbeza, mengikut, warna, kulit, buah, sama, ada, kuning, varieti, gading, r, atau, varieti, merah, rambutan, anak, sekolah, dan, rambutan, gula, batu, r]                                                              |[NOUN, NOUN, ADV, VERB, ADP, NOUN, NOUN, PRON, ADJ, NOUN, NOUN, NOUN, NOUN, ADV, VERB, NOUN, NOUN, NOUN, NOUN, CCONJ, NOUN, ADJ, NOUN, NOUN, NOUN, CCONJ, NOUN, NOUN, NOUN, PROPN]                                    |malay   |\n",
      "|komun di jabatan illeetvilaine bandar persekutuan illeetvilaine fail komun insee ministry of culture list for lieuron                                                                                                                                           |[komun, di, jabatan, illeetvilaine, bandar, persekutuan, illeetvilaine, fail, komun, insee, ministry, of, culture, list, for, lieuron]                                                                                                                                                             |[NOUN, ADP, NOUN, PROPN, PROPN, NOUN, PROPN, NOUN, NOUN, PROPN, NOUN, PROPN, PROPN, NOUN, ADP, PROPN]                                                                                                                 |malay   |\n",
      "|aschèreslemarché ialah komun di jabatan loiret di bahagian centre utara tengah perancis                                                                                                                                                                         |[aschereslemarche, ialah, komun, di, jabatan, loiret, di, bahagian, centre, utara, tengah, perancis]                                                                                                                                                                                               |[NOUN, AUX, NOUN, ADP, NOUN, NOUN, ADP, NOUN, ADJ, NOUN, ADP, NOUN]                                                                                                                                                   |malay   |\n",
      "|lubok kawah merupakan sebuah mukim yang terdapat di daerah besut terengganu                                                                                                                                                                                     |[lubok, kawah, merupakan, sebuah, mukim, yang, terdapat, di, daerah, besut, terengganu]                                                                                                                                                                                                            |[NOUN, PROPN, VERB, DET, NOUN, PRON, VERB, ADP, NOUN, NOUN, PROPN]                                                                                                                                                    |malay   |\n",
      "|karena pondok pesantren ini ditunjang dengan sekolah umum tingkat smp smu smk murah di bawah pengelolaan yayasan budi utomo                                                                                                                                     |[karena, pondok, pesantren, ini, ditunjang, dengan, sekolah, umum, tingkat, smp, smu, smk, murah, di, bawah, pengelolaan, yayasan, budi, utomo]                                                                                                                                                    |[SCONJ, PROPN, NOUN, DET, VERB, ADP, NOUN, ADJ, NOUN, NOUN, NOUN, VERB, ADJ, ADP, NOUN, NOUN, NOUN, NOUN, PROPN]                                                                                                      |malay   |\n",
      "|amboiva merupakan sebuah bandar dan komun yang terletak di dalam negara angola                                                                                                                                                                                  |[amboiva, merupakan, sebuah, bandar, dan, komun, yang, terletak, di, dalam, negara, angola]                                                                                                                                                                                                        |[NOUN, VERB, DET, NOUN, CCONJ, NOUN, PRON, VERB, ADP, ADP, NOUN, PROPN]                                                                                                                                               |malay   |\n",
      "|tuduhandadah november seorang wanita bernama arimah sagi ditemui rentung selepas rumahnya di kampung tambilaung di sini musnah dalam kebakaran pada kirakira jam pagi di kota belud sabah                                                                       |[tuduhandadah, november, seorang, wanita, bernama, arimah, sagi, ditemui, rentung, selepas, rumahnya, di, kampung, tambilaung, di, sini, musnah, dalam, kebakaran, pada, kirakira, jam, pagi, di, kota, belud, sabah]                                                                              |[NOUN, NOUN, DET, NOUN, VERB, PROPN, NOUN, VERB, ADP, ADP, NOUN, ADP, NOUN, NOUN, ADP, NOUN, VERB, ADP, NOUN, ADP, NOUN, NOUN, NOUN, ADP, NOUN, NOUN, PROPN]                                                          |malay   |\n",
      "|pada sekolah kebangsaan sungai nibong memiliki pelajar lelaki dan pelajar perempuan menjadikan jumlah keseluruhan murid seramai orang                                                                                                                           |[pada, sekolah, kebangsaan, sungai, nibong, memiliki, pelajar, lelaki, dan, pelajar, perempuan, menjadikan, jumlah, keseluruhan, murid, seramai, orang]                                                                                                                                            |[ADP, NOUN, PROPN, PROPN, NOUN, VERB, NOUN, ADJ, CCONJ, NOUN, ADJ, VERB, NOUN, PRON, NOUN, ADP, NOUN]                                                                                                                 |malay   |\n",
      "|antikomunis yang bersemangat syngman rhee yang merupakan presiden pertama kerajaan sementara dan kemudian bekerja sebagai pelobi prokorea di amerika syarikat menjadi ahli politik paling terkemuka di selatan                                                  |[antikomunis, yang, bersemangat, syngman, rhee, yang, merupakan, presiden, pertama, kerajaan, sementara, dan, kemudian, bekerja, sebagai, pelobi, prokorea, di, amerika, syarikat, menjadi, ahli, politik, paling, terkemuka, di, selatan]                                                         |[NOUN, PRON, VERB, NOUN, PROPN, PRON, VERB, NOUN, NUM, NOUN, ADJ, CCONJ, ADV, VERB, ADP, NOUN, NOUN, ADP, NOUN, NOUN, VERB, NOUN, NOUN, ADV, ADJ, ADP, NOUN]                                                          |malay   |\n",
      "|namun begitu tidak seorang pun yang datang mendaftarkan diri ke smk kabogan ii kerana lokasi kedua sekolah ini yang terletak agak jauh                                                                                                                          |[namun, begitu, tidak, seorang, pun, yang, datang, mendaftarkan, diri, ke, smk, kabogan, ii, kerana, lokasi, kedua, sekolah, ini, yang, terletak, agak, jauh]                                                                                                                                      |[CCONJ, ADV, PART, DET, PART, PRON, VERB, VERB, NOUN, ADP, NOUN, NOUN, NUM, SCONJ, NOUN, NUM, NOUN, DET, PRON, VERB, ADV, ADJ]                                                                                        |malay   |\n",
      "|limba b merupakan sebuah desa yang terletak dalam daerah kecamatan kota selatan kota gorontalo provinsi gorontalo indonesia                                                                                                                                     |[limba, b, merupakan, sebuah, desa, yang, terletak, dalam, daerah, kecamatan, kota, selatan, kota, gorontalo, provinsi, gorontalo, indonesia]                                                                                                                                                      |[PROPN, PROPN, VERB, DET, NOUN, PRON, VERB, ADP, NOUN, NOUN, NOUN, NOUN, NOUN, PROPN, PROPN, PROPN, PROPN]                                                                                                            |malay   |\n",
      "|anjing serigala czechoslovakia anjing serigala itali anjing serigala kunming anjing serigala saarloos anjing tamaskan persatuan inuit utara rencana anjing inuit utara aboutcom inuit utara anjing inuit utara anjing inuit utara anjing inuit utara anjing     |[anjing, serigala, czechoslovakia, anjing, serigala, itali, anjing, serigala, kunming, anjing, serigala, saarloos, anjing, tamaskan, persatuan, inuit, utara, rencana, anjing, inuit, utara, aboutcom, inuit, utara, anjing, inuit, utara, anjing, inuit, utara, anjing, inuit, utara, anjing]     |[NOUN, NOUN, NOUN, NOUN, NOUN, NOUN, NOUN, NOUN, NOUN, NOUN, NOUN, ADJ, NOUN, VERB, NOUN, PROPN, NOUN, NOUN, NOUN, PROPN, NOUN, PROPN, PROPN, NOUN, NOUN, PROPN, NOUN, NOUN, PROPN, NOUN, NOUN, PROPN, NOUN, NOUN]    |malay   |\n",
      "|teori keduaan ini mengutarakan ketidakmampuan konsepkonsep lama seperti zarah dan gelombang untuk menjelaskan tindakan objek bersaiz kuantum dengan sempurna                                                                                                    |[teori, keduaan, ini, mengutarakan, ketidakmampuan, konsepkonsep, lama, seperti, zarah, dan, gelombang, untuk, menjelaskan, tindakan, objek, bersaiz, kuantum, dengan, sempurna]                                                                                                                   |[NOUN, NOUN, DET, VERB, NOUN, NOUN, ADJ, ADP, NOUN, CCONJ, NOUN, ADP, VERB, NOUN, NOUN, VERB, NOUN, ADP, ADJ]                                                                                                         |malay   |\n",
      "|kiri letak distrik kurbin di albania daerah kurbin merupakan sebuah daerah di albania yang memiliki luas wilayah km dan populasi orang pada tahun                                                                                                               |[kiri, letak, distrik, kurbin, di, albania, daerah, kurbin, merupakan, sebuah, daerah, di, albania, yang, memiliki, luas, wilayah, km, dan, populasi, orang, pada, tahun]                                                                                                                          |[NOUN, NOUN, NOUN, NOUN, ADP, NOUN, NOUN, PROPN, VERB, DET, NOUN, ADP, PROPN, PRON, VERB, NOUN, NOUN, SYM, CCONJ, NOUN, NOUN, ADP, NOUN]                                                                              |malay   |\n",
      "|syedpur merupakan sebuah kampung yang terletak di bangladesh                                                                                                                                                                                                    |[syedpur, merupakan, sebuah, kampung, yang, terletak, di, bangladesh]                                                                                                                                                                                                                              |[PROPN, VERB, DET, NOUN, PRON, VERB, ADP, NOUN]                                                                                                                                                                       |malay   |\n",
      "|seperti pelajar di sekolah menengah awam pelajar di sekolah tinggi persendirian cina juga akan dikategorikan kepada aliran sains dan aliran perdagangan sastera bermula senior                                                                                  |[seperti, pelajar, di, sekolah, menengah, awam, pelajar, di, sekolah, tinggi, persendirian, cina, juga, akan, dikategorikan, kepada, aliran, sains, dan, aliran, perdagangan, sastera, bermula, senior]                                                                                            |[ADP, NOUN, ADP, NOUN, NOUN, ADJ, NOUN, ADP, NOUN, ADJ, ADJ, NOUN, ADV, ADV, VERB, ADP, NOUN, ADJ, CCONJ, NOUN, NOUN, NOUN, VERB, ADJ]                                                                                |malay   |\n",
      "|komun di jabatan hautesaône                                                                                                                                                                                                                                     |[komun, di, jabatan, hautesaone]                                                                                                                                                                                                                                                                   |[NOUN, ADP, NOUN, NOUN]                                                                                                                                                                                               |malay   |\n",
      "|lodhikheda ialah sebuah perbandaran nagar panchayat dalam daerah chhindwara di negeri madhya pradesh india                                                                                                                                                      |[lodhikheda, ialah, sebuah, perbandaran, nagar, panchayat, dalam, daerah, chhindwara, di, negeri, madhya, pradesh, india]                                                                                                                                                                          |[NOUN, AUX, DET, NOUN, NOUN, PROPN, ADP, NOUN, PROPN, ADP, NOUN, PROPN, PROPN, PROPN]                                                                                                                                 |malay   |\n",
      "|abkhazia ossetia selatan dan transnistria semua tergolong dalam komuniti demokrasi dan hak asasi manusia sebuah kumpulan yang cuba untuk membawa lebih jauh tidak diiktiraf negerinegeri yang datang dari bekas kesatuan soviet                                 |[abkhazia, ossetia, selatan, dan, transnistria, semua, tergolong, dalam, komuniti, demokrasi, dan, hak, asasi, manusia, sebuah, kumpulan, yang, cuba, untuk, membawa, lebih, jauh, tidak, diiktiraf, negerinegeri, yang, datang, dari, bekas, kesatuan, soviet]                                    |[NOUN, NOUN, NOUN, CCONJ, NOUN, DET, VERB, ADP, NOUN, NOUN, CCONJ, NOUN, ADJ, NOUN, DET, NOUN, PRON, VERB, ADP, VERB, ADV, ADJ, PART, VERB, NOUN, PRON, VERB, ADP, NOUN, NOUN, NOUN]                                  |malay   |\n",
      "|melihat kepada pertambahan pelajar yang semakin meningkat penduduk kampung bergotongroyong membina sebuah bangunan kayu yang lebih besar dan menamakannya sekolah rakyat hutan kubur                                                                            |[melihat, kepada, pertambahan, pelajar, yang, semakin, meningkat, penduduk, kampung, bergotongroyong, membina, sebuah, bangunan, kayu, yang, lebih, besar, dan, menamakannya, sekolah, rakyat, hutan, kubur]                                                                                       |[VERB, ADP, NOUN, NOUN, PRON, ADV, VERB, NOUN, NOUN, VERB, VERB, DET, NOUN, NOUN, PRON, ADV, ADJ, CCONJ, VERB, NOUN, NOUN, NOUN, NOUN]                                                                                |malay   |\n",
      "|negara chola menurut adat tamil negara chola lama mengandungi daerahdaerah yang termasuk pada hari kini daerah tirachirappli dan thanjavur di negeri tamil nadu                                                                                                 |[negara, chola, menurut, adat, tamil, negara, chola, lama, mengandungi, daerahdaerah, yang, termasuk, pada, hari, kini, daerah, tirachirappli, dan, thanjavur, di, negeri, tamil, nadu]                                                                                                            |[NOUN, PROPN, ADP, NOUN, NOUN, NOUN, PROPN, ADJ, VERB, NOUN, PRON, VERB, ADP, NOUN, NOUN, NOUN, PROPN, CCONJ, NOUN, ADP, NOUN, PROPN, PROPN]                                                                          |malay   |\n",
      "|sawari jawharnagar ialah sebuah bandar banci census town dalam daerah bhandara di negeri maharashtra india                                                                                                                                                      |[sawari, jawharnagar, ialah, sebuah, bandar, banci, census, town, dalam, daerah, bhandara, di, negeri, maharashtra, india]                                                                                                                                                                         |[NOUN, NOUN, AUX, DET, NOUN, NOUN, NOUN, PROPN, ADP, NOUN, NOUN, ADP, NOUN, PROPN, PROPN]                                                                                                                             |malay   |\n",
      "|perkara perwakilan dalam parlimen persekutuan ini sepatutnya bukan hanya bergantung kepada jumlah penduduk borneo utara tetapi juga kepada keluasan dan keupayaannya dan dalam manamana perkara ia sepatutnya tidak kurang dari jumlah perwakilan dari singapura|[perkara, perwakilan, dalam, parlimen, persekutuan, ini, sepatutnya, bukan, hanya, bergantung, kepada, jumlah, penduduk, borneo, utara, tetapi, juga, kepada, keluasan, dan, keupayaannya, dan, dalam, manamana, perkara, ia, sepatutnya, tidak, kurang, dari, jumlah, perwakilan, dari, singapura]|[NOUN, NOUN, ADP, NOUN, NOUN, DET, ADV, PART, ADV, VERB, ADP, NOUN, NOUN, PROPN, PROPN, CCONJ, ADV, ADP, NOUN, CCONJ, NOUN, CCONJ, ADP, NOUN, NOUN, PRON, ADV, PART, ADV, ADP, NOUN, NOUN, ADP, NOUN]                 |malay   |\n",
      "|daerah tábor wilayah bohemia selatan rencana ini diterjemahkan daripada wikipedia bahasa czech                                                                                                                                                                  |[daerah, tabor, wilayah, bohemia, selatan, rencana, ini, diterjemahkan, daripada, wikipedia, bahasa, czech]                                                                                                                                                                                        |[NOUN, NOUN, NOUN, PROPN, NOUN, NOUN, DET, VERB, ADP, NOUN, NOUN, PROPN]                                                                                                                                              |malay   |\n",
      "|antara program yang boleh dilaksanakan adalah seperti pesta jualan makanan kurang atau tanpa gula pameranpameran tentang bahayanya pengambilan gula secara berlebihan serta ceramah kesedaran di sekolahsekolah oleh pegawai kesihatan                          |[antara, program, yang, boleh, dilaksanakan, adalah, seperti, pesta, jualan, makanan, kurang, atau, tanpa, gula, pameranpameran, tentang, bahayanya, pengambilan, gula, secara, berlebihan, serta, ceramah, kesedaran, di, sekolahsekolah, oleh, pegawai, kesihatan]                               |[ADP, NOUN, PRON, ADV, VERB, AUX, ADP, NOUN, NOUN, NOUN, ADJ, CCONJ, ADP, NOUN, NOUN, ADP, NOUN, NOUN, NOUN, ADP, ADJ, CCONJ, NOUN, NOUN, ADP, NOUN, ADP, NOUN, NOUN]                                                 |malay   |\n",
      "|daerah ini diawasi oleh syahbandar yang dlantik untuk memungut cukai hasil hutan dan hasil laut                                                                                                                                                                 |[daerah, ini, diawasi, oleh, syahbandar, yang, dlantik, untuk, memungut, cukai, hasil, hutan, dan, hasil, laut]                                                                                                                                                                                    |[NOUN, DET, VERB, ADP, NOUN, PRON, VERB, ADP, VERB, NOUN, NOUN, NOUN, CCONJ, NOUN, NOUN]                                                                                                                              |malay   |\n",
      "|bangladesh bersempadan dengan india di sebelah barat utara dan timur dengan myanmar di sebelah tenggara dan teluk bengal di sebelah selatan                                                                                                                     |[bangladesh, bersempadan, dengan, india, di, sebelah, barat, utara, dan, timur, dengan, myanmar, di, sebelah, tenggara, dan, teluk, bengal, di, sebelah, selatan]                                                                                                                                  |[NOUN, VERB, ADP, NOUN, ADP, ADP, NOUN, NOUN, CCONJ, NOUN, ADP, PROPN, ADP, ADP, NOUN, CCONJ, NOUN, PROPN, ADP, ADP, NOUN]                                                                                            |malay   |\n",
      "|kampung saba darat b senarai kampung di brunei saba darat a                                                                                                                                                                                                     |[kampung, saba, darat, b, senarai, kampung, di, brunei, saba, darat, a]                                                                                                                                                                                                                            |[NOUN, PROPN, PROPN, X, NOUN, NOUN, ADP, PROPN, PROPN, NOUN, PROPN]                                                                                                                                                   |malay   |\n",
      "|pada tahun skjb mempunyai murid pra sekolah hinggalah ke murid darjah enam semuanya berjumlah orang murid                                                                                                                                                       |[pada, tahun, skjb, mempunyai, murid, pra, sekolah, hinggalah, ke, murid, darjah, enam, semuanya, berjumlah, orang, murid]                                                                                                                                                                         |[ADP, NOUN, NOUN, VERB, NOUN, NOUN, VERB, ADP, ADP, NOUN, NOUN, NUM, PRON, VERB, NOUN, NOUN]                                                                                                                          |malay   |\n",
      "|pagar gading merupakan sebuah desa yang terletak dalam daerah kecamatan pinoraya kabupaten bengkulu selatan provinsi bengkulu indonesia                                                                                                                         |[pagar, gading, merupakan, sebuah, desa, yang, terletak, dalam, daerah, kecamatan, pinoraya, kabupaten, bengkulu, selatan, provinsi, bengkulu, indonesia]                                                                                                                                          |[NOUN, NOUN, VERB, DET, NOUN, PRON, VERB, ADP, NOUN, PROPN, PROPN, NOUN, PROPN, NOUN, PROPN, PROPN, PROPN]                                                                                                            |malay   |\n",
      "|pada sekolah kebangsaan cheneh baru memiliki pelajar lelaki dan pelajar perempuan menjadikan jumlah keseluruhan murid seramai orang                                                                                                                             |[pada, sekolah, kebangsaan, cheneh, baru, memiliki, pelajar, lelaki, dan, pelajar, perempuan, menjadikan, jumlah, keseluruhan, murid, seramai, orang]                                                                                                                                              |[ADP, NOUN, NOUN, PROPN, ADJ, VERB, NOUN, ADJ, CCONJ, NOUN, ADJ, VERB, NOUN, PRON, NOUN, ADP, NOUN]                                                                                                                   |malay   |\n",
      "|komun di jabatan rhône saintcyrlechatoux                                                                                                                                                                                                                        |[komun, di, jabatan, rhone, saintcyrlechatoux]                                                                                                                                                                                                                                                     |[NOUN, ADP, NOUN, PROPN, PROPN]                                                                                                                                                                                       |malay   |\n",
      "|pada tahun sekolah tentera laut berpindah ke bangunan barunya di kasımpaşa                                                                                                                                                                                      |[pada, tahun, sekolah, tentera, laut, berpindah, ke, bangunan, barunya, di, kasimpasa]                                                                                                                                                                                                             |[ADP, NOUN, NOUN, ADP, NOUN, VERB, ADP, NOUN, ADJ, ADP, NOUN]                                                                                                                                                         |malay   |\n",
      "|dalam bahasa inggeris rabu dikenali sebagai hari woden disebabkan dewa orang rom merkury dikaitkan dengan woden di eropah utara                                                                                                                                 |[dalam, bahasa, inggeris, rabu, dikenali, sebagai, hari, woden, disebabkan, dewa, orang, rom, merkury, dikaitkan, dengan, woden, di, eropah, utara]                                                                                                                                                |[ADP, NOUN, PROPN, PROPN, VERB, ADP, NOUN, NOUN, VERB, NOUN, NOUN, PROPN, NOUN, VERB, ADP, NOUN, ADP, NOUN, PROPN]                                                                                                    |malay   |\n",
      "|sankar saraiya merupakan sebuah kampung yang terletak di nepal                                                                                                                                                                                                  |[sankar, saraiya, merupakan, sebuah, kampung, yang, terletak, di, nepal]                                                                                                                                                                                                                           |[NOUN, PROPN, VERB, DET, NOUN, PRON, VERB, ADP, PROPN]                                                                                                                                                                |malay   |\n",
      "|pekan tambak jawa centre thumb geografi status mukim asal nama n a negara negeri daerah daerah kuala selangor mukim pekan tambak jawa keluasan n a pekan tambak jawa merupakan pecahan kawasan pentadbiran bagi negeri selangor                                 |[pekan, tambak, jawa, centre, thumb, geografi, status, mukim, asal, nama, n, a, negara, negeri, daerah, daerah, kuala, selangor, mukim, pekan, tambak, jawa, keluasan, n, a, pekan, tambak, jawa, merupakan, pecahan, kawasan, pentadbiran, bagi, negeri, selangor]                                |[NOUN, NOUN, NOUN, ADJ, PUNCT, NOUN, NOUN, NOUN, ADJ, NOUN, CCONJ, NOUN, NOUN, NOUN, NOUN, NOUN, PROPN, PROPN, NOUN, NOUN, NOUN, NOUN, NOUN, CCONJ, PROPN, NOUN, NOUN, NOUN, VERB, NOUN, NOUN, NOUN, ADP, NOUN, PROPN]|malay   |\n",
      "|terdapat buah desa di dalam daerah kecamatan imogiri                                                                                                                                                                                                            |[terdapat, buah, desa, di, dalam, daerah, kecamatan, imogiri]                                                                                                                                                                                                                                      |[VERB, NOUN, NOUN, ADP, ADP, NOUN, NOUN, PROPN]                                                                                                                                                                       |malay   |\n",
      "|dipercayai hutan tersebut telah terbakar akibat musim kemarau yang melampau melanda kampung tersebut tanpa disangka hanya sebuah pokok yang terselamat iaitu pokok meranti                                                                                      |[dipercayai, hutan, tersebut, telah, terbakar, akibat, musim, kemarau, yang, melampau, melanda, kampung, tersebut, tanpa, disangka, hanya, sebuah, pokok, yang, terselamat, iaitu, pokok, meranti]                                                                                                 |[VERB, NOUN, DET, ADV, VERB, NOUN, NOUN, NOUN, PRON, ADJ, VERB, NOUN, DET, ADP, VERB, ADV, DET, NOUN, PRON, VERB, SCONJ, NOUN, PROPN]                                                                                 |malay   |\n",
      "|sebagai ketua kelas di sekolah yaya menunjukkan sikap tegasnya tanpa rasa takut atau berat sebelah dalam mendenda pelajar yang melanggar peraturan disiplin sekolah baik pelajar biasa ataupun kawan baiknya sendiri                                            |[sebagai, ketua, kelas, di, sekolah, yaya, menunjukkan, sikap, tegasnya, tanpa, rasa, takut, atau, berat, sebelah, dalam, mendenda, pelajar, yang, melanggar, peraturan, disiplin, sekolah, baik, pelajar, biasa, ataupun, kawan, baiknya, sendiri]                                                |[ADP, NOUN, NOUN, ADP, NOUN, NOUN, VERB, NOUN, ADJ, ADP, NOUN, VERB, CCONJ, ADJ, ADJ, ADP, VERB, NOUN, PRON, VERB, NOUN, NOUN, NOUN, ADJ, NOUN, ADJ, CCONJ, NOUN, NOUN, ADJ]                                          |malay   |\n",
      "|justeru istilah ini tidak menggambarkan sesuatu golongan communion ataupun sesuatu tradisi keagamaan malah beberapa gereja timur mempunyai lebih kesamaan dari segi sejarah dan teologi dengan kristian barat daripada kesamaan dengan gereja timur lain        |[justeru, istilah, ini, tidak, menggambarkan, sesuatu, golongan, communion, ataupun, sesuatu, tradisi, keagamaan, malah, beberapa, gereja, timur, mempunyai, lebih, kesamaan, dari, segi, sejarah, dan, teologi, dengan, kristian, barat, daripada, kesamaan, dengan, gereja, timur, lain]         |[ADV, NOUN, DET, PART, VERB, DET, NOUN, PROPN, CCONJ, DET, NOUN, NOUN, ADV, DET, NOUN, NOUN, VERB, ADV, NOUN, ADP, NOUN, NOUN, CCONJ, NOUN, ADP, PROPN, NOUN, ADP, NOUN, ADP, NOUN, NOUN, ADJ]                        |malay   |\n",
      "|dari ikatan inilah lahir teater utan kayu radio h galeri lontar kedai tempo jaringan islam liberal dan terakhir sekolah jurnalisme penyiaran yang meskipun tak tergabung dalam satu badan bersamasama disebut komunitas utan kayu                               |[dari, ikatan, inilah, lahir, teater, utan, kayu, radio, h, galeri, lontar, kedai, tempo, jaringan, islam, liberal, dan, terakhir, sekolah, jurnalisme, penyiaran, yang, meskipun, tak, tergabung, dalam, satu, badan, bersamasama, disebut, komunitas, utan, kayu]                                |[ADP, NOUN, DET, VERB, NOUN, NOUN, NOUN, PROPN, NOUN, NOUN, NOUN, NOUN, NOUN, NOUN, NOUN, ADJ, CCONJ, ADJ, NOUN, NOUN, NOUN, PRON, SCONJ, PART, VERB, ADP, NUM, NOUN, ADV, VERB, NOUN, NOUN, NOUN]                    |malay   |\n",
      "|aghadowey merupakan sebuah bandar dan kampung yang terletak di ireland utara united kingdom                                                                                                                                                                     |[aghadowey, merupakan, sebuah, bandar, dan, kampung, yang, terletak, di, ireland, utara, united, kingdom]                                                                                                                                                                                          |[PROPN, VERB, DET, NOUN, CCONJ, NOUN, PRON, VERB, ADP, PROPN, PROPN, PROPN, PROPN]                                                                                                                                    |malay   |\n",
      "|tinggi raja merupakan salah satu desa yang ada di kecamatan tinggi raja kabupaten asahan provinsi sumatera utara indonesia                                                                                                                                      |[tinggi, raja, merupakan, salah, satu, desa, yang, ada, di, kecamatan, tinggi, raja, kabupaten, asahan, provinsi, sumatera, utara, indonesia]                                                                                                                                                      |[ADJ, PROPN, VERB, DET, DET, NOUN, PRON, VERB, ADP, NOUN, ADJ, NOUN, NOUN, NOUN, PROPN, PROPN, PROPN, PROPN]                                                                                                          |malay   |\n",
      "|selepas kekalahan awal elemenelemen kor ii as dengan bantuan tentera british berkumpul dan mempertahankan jalan keluar melalui kaki gunung di barat tunisia mengalahkan penyerangan paksi                                                                       |[selepas, kekalahan, awal, elemenelemen, kor, ii, as, dengan, bantuan, tentera, british, berkumpul, dan, mempertahankan, jalan, keluar, melalui, kaki, gunung, di, barat, tunisia, mengalahkan, penyerangan, paksi]                                                                                |[ADP, NOUN, ADJ, NOUN, ADJ, NUM, NOUN, ADP, NOUN, NOUN, NOUN, VERB, CCONJ, VERB, NOUN, ADJ, ADP, NOUN, NOUN, ADP, NOUN, NOUN, VERB, NOUN, NOUN]                                                                       |malay   |\n",
      "|köhnə xudat merupakan sebuah kampung yang terletak di daerah khachmaz azerbaijan                                                                                                                                                                                |[kohn, @, xudat, merupakan, sebuah, kampung, yang, terletak, di, daerah, khachmaz, azerbaijan]                                                                                                                                                                                                     |[NOUN, PUNCT, PROPN, VERB, DET, NOUN, PRON, VERB, ADP, NOUN, PROPN, PROPN]                                                                                                                                            |malay   |\n",
      "|erlon ialah komun di jabatan aisne di picardy di utara perancis                                                                                                                                                                                                 |[erlon, ialah, komun, di, jabatan, aisne, di, picardy, di, utara, perancis]                                                                                                                                                                                                                        |[NOUN, AUX, NOUN, ADP, NOUN, NOUN, ADP, NOUN, ADP, NOUN, NOUN]                                                                                                                                                        |malay   |\n",
      "|jumlah pelajar juga telah meningkat ke orang pelajar dan orang guru smk kubor panjang dikenali di daerah pendang sebagai sebuah sekolah yang sentiasa mendominasi bidang pengucapan awam bahasa melayu dan bahasa inggeris                                      |[jumlah, pelajar, juga, telah, meningkat, ke, orang, pelajar, dan, orang, guru, smk, kubor, panjang, dikenali, di, daerah, pendang, sebagai, sebuah, sekolah, yang, sentiasa, mendominasi, bidang, pengucapan, awam, bahasa, melayu, dan, bahasa, inggeris]                                        |[NOUN, NOUN, ADV, ADV, VERB, ADP, NOUN, NOUN, CCONJ, NOUN, NOUN, PROPN, PROPN, ADJ, VERB, ADP, NOUN, PROPN, ADP, DET, NOUN, PRON, ADV, VERB, NOUN, NOUN, ADJ, NOUN, PROPN, CCONJ, NOUN, PROPN]                        |malay   |\n",
      "|pada sekolah kebangsaan dato ahmad manaf memiliki pelajar lelaki dan pelajar perempuan menjadikan jumlah keseluruhan murid seramai orang                                                                                                                        |[pada, sekolah, kebangsaan, dato, ahmad, manaf, memiliki, pelajar, lelaki, dan, pelajar, perempuan, menjadikan, jumlah, keseluruhan, murid, seramai, orang]                                                                                                                                        |[ADP, NOUN, ADJ, PROPN, PROPN, NOUN, VERB, NOUN, ADJ, CCONJ, NOUN, ADJ, VERB, NOUN, PRON, NOUN, ADP, NOUN]                                                                                                            |malay   |\n",
      "|kerajaan di daerah toraja sulawesi selatan                                                                                                                                                                                                                      |[kerajaan, di, daerah, toraja, sulawesi, selatan]                                                                                                                                                                                                                                                  |[NOUN, ADP, NOUN, PROPN, PROPN, NOUN]                                                                                                                                                                                 |malay   |\n",
      "|dalam tempoh perlantikannya antara september dan oktober beliau bertanggungjawab untuk memperkenalkan dan menyelaraskan bidang akademik dan kokurikulum bagi semua sekolah di bawah jais                                                                        |[dalam, tempoh, perlantikannya, antara, september, dan, oktober, beliau, bertanggungjawab, untuk, memperkenalkan, dan, menyelaraskan, bidang, akademik, dan, kokurikulum, bagi, semua, sekolah, di, bawah, jais]                                                                                   |[ADP, NOUN, NOUN, ADP, PROPN, CCONJ, NOUN, PRON, VERB, ADP, VERB, CCONJ, VERB, NOUN, NOUN, CCONJ, NOUN, ADP, DET, NOUN, ADP, NOUN, NOUN]                                                                              |malay   |\n",
      "|komun di jabatan maineetloire fail komun insee saintrémy lavarenne                                                                                                                                                                                              |[komun, di, jabatan, maineetloire, fail, komun, insee, saintremy, lavarenne]                                                                                                                                                                                                                       |[NOUN, ADP, NOUN, NOUN, NOUN, NOUN, PROPN, ADJ, NOUN]                                                                                                                                                                 |malay   |\n",
      "|konnur ialah sebuah bandar panchayat dalam daerah belgaum di negeri karnataka india                                                                                                                                                                             |[konnur, ialah, sebuah, bandar, panchayat, dalam, daerah, belgaum, di, negeri, karnataka, india]                                                                                                                                                                                                   |[NOUN, AUX, DET, NOUN, NOUN, ADP, NOUN, PROPN, ADP, NOUN, PROPN, PROPN]                                                                                                                                               |malay   |\n",
      "|parslèschavanges ialah komun di jabatan di aube utaratengah perancis                                                                                                                                                                                            |[parsleschavanges, ialah, komun, di, jabatan, di, aube, utaratengah, perancis]                                                                                                                                                                                                                     |[NOUN, AUX, NOUN, ADP, NOUN, ADP, NOUN, NOUN, NOUN]                                                                                                                                                                   |malay   |\n",
      "|şıxlar merupakan sebuah kampung yang terletak di daerah masally azerbaijan                                                                                                                                                                                      |[sixlar, merupakan, sebuah, kampung, yang, terletak, di, daerah, masally, azerbaijan]                                                                                                                                                                                                              |[NOUN, VERB, DET, NOUN, PRON, VERB, ADP, NOUN, NOUN, PROPN]                                                                                                                                                           |malay   |\n",
      "|meythet ialah komun di jabatan hautesavoie di wilayah rhônealpes di perancis                                                                                                                                                                                    |[meythet, ialah, komun, di, jabatan, hautesavoie, di, wilayah, rhonealpes, di, perancis]                                                                                                                                                                                                           |[PROPN, AUX, NOUN, ADP, NOUN, NOUN, ADP, NOUN, PROPN, ADP, NOUN]                                                                                                                                                      |malay   |\n",
      "|dukuh merupakan sebuah desa kelurahan yang terletak dalam daerah kecamatan kubu kabupaten karangasem wilayah bali indonesia                                                                                                                                     |[dukuh, merupakan, sebuah, desa, kelurahan, yang, terletak, dalam, daerah, kecamatan, kubu, kabupaten, karangasem, wilayah, bali, indonesia]                                                                                                                                                       |[NOUN, VERB, DET, NOUN, NOUN, PRON, VERB, ADP, NOUN, NOUN, NOUN, NOUN, NOUN, NOUN, PROPN, PROPN]                                                                                                                      |malay   |\n",
      "|pada permulaanya muridmurid sekolah ini telah menumpang di sekolah menengah bachok                                                                                                                                                                              |[pada, permulaanya, muridmurid, sekolah, ini, telah, menumpang, di, sekolah, menengah, bachok]                                                                                                                                                                                                     |[ADP, NOUN, NOUN, NOUN, DET, ADV, VERB, ADP, NOUN, NOUN, PROPN]                                                                                                                                                       |malay   |\n",
      "|pada mac semasa revolusi sosial yang diketuai puakpuak partai komunis indonesia sebuah kumpulan yang keras menentang feudalisme dan bangsawan kuasa amir dilucutkan daripadanya dan beliau ditahan kamiliah dan tahura terlepas                                 |[pada, mac, semasa, revolusi, sosial, yang, diketuai, puakpuak, partai, komunis, indonesia, sebuah, kumpulan, yang, keras, menentang, feudalisme, dan, bangsawan, kuasa, amir, dilucutkan, daripadanya, dan, beliau, ditahan, kamiliah, dan, tahura, terlepas]                                     |[ADP, NOUN, ADP, NOUN, NOUN, PRON, VERB, NOUN, NOUN, NOUN, PROPN, DET, NOUN, PRON, ADJ, VERB, NOUN, CCONJ, NOUN, NOUN, NOUN, VERB, NOUN, CCONJ, PRON, VERB, NOUN, CCONJ, NOUN, VERB]                                  |malay   |\n",
      "|smk seremban jaya smksj merupakan sebuah sekolah harian yang terletak di taman seremban jaya                                                                                                                                                                    |[smk, seremban, jaya, smksj, merupakan, sebuah, sekolah, harian, yang, terletak, di, taman, seremban, jaya]                                                                                                                                                                                        |[PROPN, NOUN, PROPN, NOUN, VERB, DET, NOUN, ADJ, PRON, VERB, ADP, NOUN, PROPN, PROPN]                                                                                                                                 |malay   |\n",
      "|walaupun mendapat persetujuan menteri besar pembinaan sekolah ini agak lambat dimulakan kerana masalah mendapatkan tapak yang sesuai sehingga pada tahun apabila tapak yang sesuai seluas ekar diperolehi                                                       |[walaupun, mendapat, persetujuan, menteri, besar, pembinaan, sekolah, ini, agak, lambat, dimulakan, kerana, masalah, mendapatkan, tapak, yang, sesuai, sehingga, pada, tahun, apabila, tapak, yang, sesuai, seluas, ekar, diperolehi]                                                              |[SCONJ, VERB, NOUN, NOUN, ADJ, NOUN, NOUN, DET, ADV, ADJ, VERB, SCONJ, NOUN, VERB, NOUN, PRON, ADJ, SCONJ, ADP, NOUN, SCONJ, NOUN, PRON, ADJ, ADP, NOUN, VERB]                                                        |malay   |\n",
      "|memandangkan kekurangan sumber murid baharu dan projek rapid yang akan melibatkan kawasan sekolah puan chua telah mengambil tindakan untuk mengadakan beberapa kali mesyuarat dengan ahli jemaah pengurus bagi mengusulkan halhal berkaitan perpindahan sekolah |[memandangkan, kekurangan, sumber, murid, baharu, dan, projek, rapid, yang, akan, melibatkan, kawasan, sekolah, puan, chua, telah, mengambil, tindakan, untuk, mengadakan, beberapa, kali, mesyuarat, dengan, ahli, jemaah, pengurus, bagi, mengusulkan, halhal, berkaitan, perpindahan, sekolah]  |[ADP, NOUN, NOUN, NOUN, ADJ, CCONJ, NOUN, NOUN, PRON, ADV, VERB, NOUN, NOUN, ADJ, NOUN, ADV, VERB, NOUN, ADP, VERB, DET, NOUN, NOUN, ADP, NOUN, NOUN, NOUN, ADP, VERB, NOUN, VERB, NOUN, NOUN]                        |malay   |\n",
      "|fasilitator penyelesai masalah juga menjadi sebahagian daripada ahli kumpulan perancangan strategik dan mengamalkan proses perhubungan awam seperti kajian tindakan komuniksai dan penilaian                                                                    |[fasilitator, penyelesai, masalah, juga, menjadi, sebahagian, daripada, ahli, kumpulan, perancangan, strategik, dan, mengamalkan, proses, perhubungan, awam, seperti, kajian, tindakan, komuniksai, dan, penilaian]                                                                                |[NOUN, NOUN, NOUN, ADV, VERB, NOUN, ADP, NOUN, NOUN, NOUN, ADJ, CCONJ, VERB, NOUN, NOUN, ADJ, ADP, NOUN, NOUN, PROPN, CCONJ, NOUN]                                                                                    |malay   |\n",
      "|pentadbiran jajahan kota bharu dibahagikan kepada daerah penggawa iaitu daerah panji banggu kubang kerian kota pendek sering salor badang limbat beta ketereh peringat dan kadok dan kemumin                                                                    |[pentadbiran, jajahan, kota, bharu, dibahagikan, kepada, daerah, penggawa, iaitu, daerah, panji, banggu, kubang, kerian, kota, pendek, sering, salor, badang, limbat, beta, ketereh, peringat, dan, kadok, dan, kemumin]                                                                           |[NOUN, NOUN, NOUN, PROPN, VERB, ADP, NOUN, NOUN, SCONJ, NOUN, NOUN, NOUN, NOUN, NOUN, NOUN, ADJ, ADV, NOUN, ADJ, NOUN, PRON, NOUN, NOUN, CCONJ, NOUN, CCONJ, NOUN]                                                    |malay   |\n",
      "|seterusnya pengenalan menasihati para komunis untuk secara terbuka mengumumkan pandangan dan tujuan mereka untuk menyatukan kisah taska kengerian komunisme dengan manifesto parti itu sendiri                                                                  |[seterusnya, pengenalan, menasihati, para, komunis, untuk, secara, terbuka, mengumumkan, pandangan, dan, tujuan, mereka, untuk, menyatukan, kisah, taska, kengerian, komunisme, dengan, manifesto, parti, itu, sendiri]                                                                            |[ADV, NOUN, VERB, DET, NOUN, ADP, ADV, VERB, VERB, NOUN, CCONJ, NOUN, PRON, ADP, VERB, NOUN, NOUN, NOUN, NOUN, ADP, NOUN, NOUN, DET, ADJ]                                                                             |malay   |\n",
      "|objektif mereka dalam operasi melibatkan pendaratan di sebelah utara dan di sebelah timur bandar gela dan menawan dan mengawal kawasan tersebut untuk memotong saluran perbekalan dan perhubungan askar jerman                                                  |[objektif, mereka, dalam, operasi, melibatkan, pendaratan, di, sebelah, utara, dan, di, sebelah, timur, bandar, gela, dan, menawan, dan, mengawal, kawasan, tersebut, untuk, memotong, saluran, perbekalan, dan, perhubungan, askar, jerman]                                                       |[NOUN, PRON, ADP, NOUN, VERB, NOUN, ADP, ADP, NOUN, CCONJ, ADP, ADP, NOUN, NOUN, NOUN, CCONJ, VERB, CCONJ, VERB, NOUN, DET, ADP, VERB, NOUN, NOUN, CCONJ, NOUN, NOUN, PROPN]                                          |malay   |\n",
      "|taktaszada merupakan sebuah kampung yang terletak di wilayah borsodabaúj zemplén di utara hungary                                                                                                                                                               |[taktaszada, merupakan, sebuah, kampung, yang, terletak, di, wilayah, borsodabauj, zemplen, di, utara, hungary]                                                                                                                                                                                    |[NOUN, VERB, DET, NOUN, PRON, VERB, ADP, NOUN, NOUN, NOUN, ADP, NOUN, PROPN]                                                                                                                                          |malay   |\n",
      "|guyansvennes ialah komun di jabatan doubs di franchecomté di timur perancis                                                                                                                                                                                     |[guyansvennes, ialah, komun, di, jabatan, doubs, di, franchecomte, di, timur, perancis]                                                                                                                                                                                                            |[PROPN, AUX, NOUN, ADP, NOUN, NOUN, ADP, PROPN, ADP, NOUN, NOUN]                                                                                                                                                      |malay   |\n",
      "|sekolah jenis kebangsaan c kai chee atau nama ringkasnya sjk c kai chee merupakan sebuah sekolah jenis kebangsaan cina yang terletak di sungai dua                                                                                                              |[sekolah, jenis, kebangsaan, c, kai, chee, atau, nama, ringkasnya, sjk, c, kai, chee, merupakan, sebuah, sekolah, jenis, kebangsaan, cina, yang, terletak, di, sungai, dua]                                                                                                                        |[NOUN, NOUN, NOUN, NOUN, PROPN, NOUN, CCONJ, NOUN, ADV, NOUN, PROPN, PROPN, PROPN, VERB, DET, NOUN, NOUN, NOUN, NOUN, PRON, VERB, ADP, NOUN, NUM]                                                                     |malay   |\n",
      "|konsep ini bertujuan untuk menangani pelbagai persoalan termasuk etika dan keadilan bahasa dan komunikasi transspesies sistem sosial dan aspirasi intelektual antara disiplin                                                                                   |[konsep, ini, bertujuan, untuk, menangani, pelbagai, persoalan, termasuk, etika, dan, keadilan, bahasa, dan, komunikasi, transspesies, sistem, sosial, dan, aspirasi, intelektual, antara, disiplin]                                                                                               |[NOUN, DET, VERB, ADP, VERB, DET, NOUN, VERB, NOUN, CCONJ, NOUN, NOUN, CCONJ, NOUN, NOUN, NOUN, NOUN, CCONJ, NOUN, ADJ, ADP, NOUN]                                                                                    |malay   |\n",
      "|ialah sebuah komun yang terletak di komun tarn di selatan perancis                                                                                                                                                                                              |[ialah, sebuah, komun, yang, terletak, di, komun, tarn, di, selatan, perancis]                                                                                                                                                                                                                     |[AUX, DET, NOUN, PRON, VERB, ADP, NOUN, NOUN, ADP, NOUN, NOUN]                                                                                                                                                        |malay   |\n",
      "|merupakan sebuah kawasan perbandaran terletak di daerah ahrweiler north rhinewestphalia jerman                                                                                                                                                                  |[merupakan, sebuah, kawasan, perbandaran, terletak, di, daerah, ahrweiler, north, rhinewestphalia, jerman]                                                                                                                                                                                         |[VERB, DET, NOUN, NOUN, VERB, ADP, NOUN, NOUN, PROPN, PROPN, PROPN]                                                                                                                                                   |malay   |\n",
      "|pada mulanya kehadiran bayi tersebut ke kampung tidak disukai orang ramai kerana bayi tersebut adalah anak diluar nikah                                                                                                                                         |[pada, mulanya, kehadiran, bayi, tersebut, ke, kampung, tidak, disukai, orang, ramai, kerana, bayi, tersebut, adalah, anak, diluar, nikah]                                                                                                                                                         |[ADP, NOUN, NOUN, NOUN, DET, ADP, NOUN, PART, VERB, NOUN, ADJ, SCONJ, NOUN, DET, AUX, NOUN, ADP, NOUN]                                                                                                                |malay   |\n",
      "|ia berfungsi untuk membolehkan komuniti yang sihat dan selamat mengurangkan kelemahan menguatkan daya tahan dan memupuk budaya keamanan di seluruh dunia                                                                                                        |[ia, berfungsi, untuk, membolehkan, komuniti, yang, sihat, dan, selamat, mengurangkan, kelemahan, menguatkan, daya, tahan, dan, memupuk, budaya, keamanan, di, seluruh, dunia]                                                                                                                     |[PRON, VERB, ADP, VERB, NOUN, PRON, VERB, CCONJ, ADJ, VERB, NOUN, VERB, NOUN, NOUN, CCONJ, VERB, NOUN, NOUN, ADP, DET, NOUN]                                                                                          |malay   |\n",
      "|sekolah kebangsaan sultan abdullah kampong cheh changkat jering negeri perak malaysia telefon sultan abdullah sultan abdullah                                                                                                                                   |[sekolah, kebangsaan, sultan, abdullah, kampong, cheh, changkat, jering, negeri, perak, malaysia, telefon, sultan, abdullah, sultan, abdullah]                                                                                                                                                     |[NOUN, NOUN, PROPN, PROPN, NOUN, NOUN, NOUN, NOUN, NOUN, NOUN, PROPN, NOUN, PROPN, PROPN, PROPN, PROPN]                                                                                                               |malay   |\n",
      "|para daimyo yang bukan merupakan pengikut tokugawa ieyasu sebahagian besar diusir ke provinsi provinsi yang terdapat di sebelah barat jepun                                                                                                                     |[para, daimyo, yang, bukan, merupakan, pengikut, tokugawa, ieyasu, sebahagian, besar, diusir, ke, provinsi, provinsi, yang, terdapat, di, sebelah, barat, jepun]                                                                                                                                   |[DET, NOUN, PRON, PART, VERB, NOUN, NOUN, PROPN, NOUN, ADJ, VERB, ADP, PROPN, PROPN, PRON, VERB, ADP, ADP, NOUN, NOUN]                                                                                                |malay   |\n",
      "|komun di jabatan hautesaône                                                                                                                                                                                                                                     |[komun, di, jabatan, hautesaone]                                                                                                                                                                                                                                                                   |[NOUN, ADP, NOUN, NOUN]                                                                                                                                                                                               |malay   |\n",
      "|sdar lions adalah pasukan rugbi dari sdar yang dibentuk sejak sekolah ini ditubuhkan dan juga merupakan salah satu sukan yang paling popular di sdar                                                                                                            |[sdar, lions, adalah, pasukan, rugbi, dari, sdar, yang, dibentuk, sejak, sekolah, ini, ditubuhkan, dan, juga, merupakan, salah, satu, sukan, yang, paling, popular, di, sdar]                                                                                                                      |[NOUN, PROPN, AUX, NOUN, NOUN, ADP, NOUN, PRON, VERB, ADP, NOUN, DET, VERB, CCONJ, ADV, VERB, DET, DET, NOUN, PRON, ADV, ADJ, ADP, NOUN]                                                                              |malay   |\n",
      "|tetapi pada bulan januari penghuni asrama hanya terdiri daripada pelajarpelajar sekolah ini bertujuan untuk memudahkan urusan pentadbiran asrama                                                                                                                |[tetapi, pada, bulan, januari, penghuni, asrama, hanya, terdiri, daripada, pelajarpelajar, sekolah, ini, bertujuan, untuk, memudahkan, urusan, pentadbiran, asrama]                                                                                                                                |[CCONJ, ADP, NOUN, NOUN, NOUN, NOUN, ADV, VERB, ADP, NOUN, NOUN, DET, VERB, ADP, VERB, NOUN, NOUN, NOUN]                                                                                                              |malay   |\n",
      "|sekolah dasar negeri cijantung atau nama ringkasnya sdn cijantung merupakan sebuah sekolah dasar negeri negeri yang terletak di cijantung jakarta timur indonesia                                                                                               |[sekolah, dasar, negeri, cijantung, atau, nama, ringkasnya, sdn, cijantung, merupakan, sebuah, sekolah, dasar, negeri, negeri, yang, terletak, di, cijantung, jakarta, timur, indonesia]                                                                                                           |[NOUN, ADJ, NOUN, PROPN, CCONJ, NOUN, VERB, NOUN, PROPN, VERB, DET, NOUN, ADJ, NOUN, NOUN, PRON, VERB, ADP, PROPN, NOUN, NOUN, PROPN]                                                                                 |malay   |\n",
      "|nama wilayah ini tidak membawa erti di barat yangtze seperti yang dibayangkan daripada pembacaan harifahnya sebaliknya dipetik daripada penyingkatan jiangnan xi jiangnan barar atau secara lebih harfiahnya di barat bahagian selatan yangtze                  |[nama, wilayah, ini, tidak, membawa, erti, di, barat, yangtze, seperti, yang, dibayangkan, daripada, pembacaan, harifahnya, sebaliknya, dipetik, daripada, penyingkatan, jiangnan, xi, jiangnan, barar, atau, secara, lebih, harfiahnya, di, barat, bahagian, selatan, yangtze]                    |[NOUN, NOUN, DET, PART, VERB, NOUN, ADP, NOUN, PRON, ADP, PRON, VERB, ADP, NOUN, NOUN, ADV, VERB, ADP, NOUN, NOUN, PUNCT, NOUN, PROPN, CCONJ, ADP, ADV, ADV, ADP, NOUN, NOUN, NOUN, PRON]                             |malay   |\n",
      "|rimeize ialah komun di jabatan lozère di selatan perancis                                                                                                                                                                                                       |[rimeize, ialah, komun, di, jabatan, lozere, di, selatan, perancis]                                                                                                                                                                                                                                |[PROPN, AUX, NOUN, ADP, NOUN, NOUN, ADP, NOUN, NOUN]                                                                                                                                                                  |malay   |\n",
      "|batas selatan dengan plat cocos di barat dan plat caribbean di timur adalah kesalahan transform yang diwakili oleh cayman trench di bawah laut caribbean dan kerosakan motagua melalui guatemala                                                                |[batas, selatan, dengan, plat, cocos, di, barat, dan, plat, caribbean, di, timur, adalah, kesalahan, transform, yang, diwakili, oleh, cayman, trench, di, bawah, laut, caribbean, dan, kerosakan, motagua, melalui, guatemala]                                                                     |[NOUN, NOUN, ADP, NOUN, NOUN, ADP, NOUN, CCONJ, NOUN, NOUN, ADP, NOUN, AUX, NOUN, NOUN, PRON, VERB, ADP, NOUN, PROPN, ADP, NOUN, NOUN, PROPN, CCONJ, NOUN, NOUN, ADP, NOUN]                                           |malay   |\n",
      "|beliau mendapat sokongan marshall aid sokongan kewangan amerika sangat menentang komunisme dan dibantu dalam penciptaan nato                                                                                                                                    |[beliau, mendapat, sokongan, marshall, aid, sokongan, kewangan, amerika, sangat, menentang, komunisme, dan, dibantu, dalam, penciptaan, nato]                                                                                                                                                      |[PRON, VERB, NOUN, NOUN, NOUN, NOUN, NOUN, PROPN, ADV, VERB, NOUN, CCONJ, NOUN, ADP, NOUN, NOUN]                                                                                                                      |malay   |\n",
      "|pada jun william telah dimasukkan ke hospital diraja berkshire selepas diketuk dengan tidak sengaja di sebelah dahi dengan kayu golf oleh seorang rakan sekolahnya                                                                                              |[pada, jun, william, telah, dimasukkan, ke, hospital, diraja, berkshire, selepas, diketuk, dengan, tidak, sengaja, di, sebelah, dahi, dengan, kayu, golf, oleh, seorang, rakan, sekolahnya]                                                                                                        |[ADP, NOUN, PROPN, ADV, VERB, ADP, NOUN, ADJ, NOUN, ADP, VERB, ADP, PART, ADJ, ADP, ADP, NOUN, ADP, NOUN, NOUN, ADP, DET, NOUN, NOUN]                                                                                 |malay   |\n",
      "|kampung peraku seberang merupakan sebuah kampung yang terletak di kuala pilah dalam negeri sembilan iaitu sebuah negeri di malaysia                                                                                                                             |[kampung, peraku, seberang, merupakan, sebuah, kampung, yang, terletak, di, kuala, pilah, dalam, negeri, sembilan, iaitu, sebuah, negeri, di, malaysia]                                                                                                                                            |[NOUN, PROPN, PROPN, VERB, DET, NOUN, PRON, VERB, ADP, PROPN, NOUN, ADP, NOUN, PROPN, ADV, DET, NOUN, ADP, PROPN]                                                                                                     |malay   |\n",
      "|akhir abad ke sri maharaja tersebut telah memberi kemerdekaan kepada campa dan pulau varuna kalimantan timur dan utara serta seluruh kepulauan danu filipina yang diletakan di bawah raja varuna brunei                                                         |[akhir, abad, ke, sri, maharaja, tersebut, telah, memberi, kemerdekaan, kepada, campa, dan, pulau, varuna, kalimantan, timur, dan, utara, serta, seluruh, kepulauan, danu, filipina, yang, diletakan, di, bawah, raja, varuna, brunei]                                                             |[NOUN, NOUN, ADP, NOUN, PROPN, DET, ADV, VERB, NOUN, ADP, NOUN, CCONJ, NOUN, PROPN, PROPN, NOUN, CCONJ, NOUN, CCONJ, DET, PROPN, PROPN, PROPN, PRON, VERB, ADP, NOUN, NOUN, NOUN, NOUN]                               |malay   |\n",
      "|pada sekolah menengah kebangsaan tendong memiliki pelajar lelaki dan pelajar perempuan menjadikan jumlah keseluruhan murid seramai orang                                                                                                                        |[pada, sekolah, menengah, kebangsaan, tendong, memiliki, pelajar, lelaki, dan, pelajar, perempuan, menjadikan, jumlah, keseluruhan, murid, seramai, orang]                                                                                                                                         |[ADP, NOUN, NOUN, NOUN, ADJ, VERB, NOUN, ADJ, CCONJ, NOUN, ADJ, VERB, NOUN, PRON, NOUN, ADP, NOUN]                                                                                                                    |malay   |\n",
      "|sekolah kebangsaan kuang atau nama ringkasnya sk kuang merupakan sebuah sekolah kebangsaan yang terletak di km jalan kuang                                                                                                                                      |[sekolah, kebangsaan, kuang, atau, nama, ringkasnya, sk, kuang, merupakan, sebuah, sekolah, kebangsaan, yang, terletak, di, km, jalan, kuang]                                                                                                                                                      |[NOUN, NOUN, PROPN, CCONJ, NOUN, ADV, NOUN, PROPN, VERB, DET, NOUN, NOUN, PRON, VERB, ADP, SYM, NOUN, PROPN]                                                                                                          |malay   |\n",
      "|daerah přerov wilayah pardubice ini diterjemahkan daripada wikipedia bahasa czech                                                                                                                                                                               |[daerah, prerov, wilayah, pardubice, ini, diterjemahkan, daripada, wikipedia, bahasa, czech]                                                                                                                                                                                                       |[NOUN, NOUN, NOUN, NOUN, DET, VERB, ADP, NOUN, NOUN, PROPN]                                                                                                                                                           |malay   |\n",
      "|altenburger land merupakan sebuah kawasan perbandaran terletak di daerah altenburger land thüringen jerman                                                                                                                                                      |[altenburger, land, merupakan, sebuah, kawasan, perbandaran, terletak, di, daerah, altenburger, land, thuringen, jerman]                                                                                                                                                                           |[PROPN, PROPN, VERB, DET, NOUN, NOUN, VERB, ADP, NOUN, PROPN, PROPN, PROPN, PROPN]                                                                                                                                    |malay   |\n",
      "|di awal tahun an penduduk krait membina sendiri sekolah di penempatan mereka dan ini menyebabkan bilangan murid sekolah sk sungai rimu berkurangan                                                                                                              |[di, awal, tahun, an, penduduk, krait, membina, sendiri, sekolah, di, penempatan, mereka, dan, ini, menyebabkan, bilangan, murid, sekolah, sk, sungai, rimu, berkurangan]                                                                                                                          |[ADP, ADJ, NOUN, NUM, NOUN, NOUN, VERB, NOUN, NOUN, ADP, NOUN, PRON, CCONJ, DET, VERB, NOUN, NOUN, NOUN, NOUN, NOUN, PROPN, VERB]                                                                                     |malay   |\n",
      "|beberapa jubin dijumpai bertuliskan semoga makam raja agung aman ibarat gunung dan teguh ibarat puncak                                                                                                                                                          |[beberapa, jubin, dijumpai, bertuliskan, semoga, makam, raja, agung, aman, ibarat, gunung, dan, teguh, ibarat, puncak]                                                                                                                                                                             |[DET, NOUN, VERB, VERB, NOUN, NOUN, NOUN, ADJ, ADJ, ADV, NOUN, CCONJ, ADJ, ADV, NOUN]                                                                                                                                 |malay   |\n",
      "|daerah tábor wilayah bohemia selatan rencana ini diterjemahkan daripada wikipedia bahasa czech                                                                                                                                                                  |[daerah, tabor, wilayah, bohemia, selatan, rencana, ini, diterjemahkan, daripada, wikipedia, bahasa, czech]                                                                                                                                                                                        |[NOUN, NOUN, NOUN, PROPN, NOUN, NOUN, DET, VERB, ADP, NOUN, NOUN, PROPN]                                                                                                                                              |malay   |\n",
      "|hadi bersama taufik ismail sutardji calzoum bachri hamid jabar dan leon agusta menggerakkan program sastraewan masuk sekolah sms dinaungi yayasan indonesia dengan tajaan dari the ford foundation                                                              |[hadi, bersama, taufik, ismail, sutardji, calzoum, bachri, hamid, jabar, dan, leon, agusta, menggerakkan, program, sastraewan, masuk, sekolah, sms, dinaungi, yayasan, indonesia, dengan, tajaan, dari, the, ford, foundation]                                                                     |[NOUN, ADP, NOUN, NOUN, PROPN, NOUN, PROPN, PROPN, PROPN, CCONJ, NOUN, PROPN, VERB, NOUN, NOUN, VERB, NOUN, NOUN, VERB, NOUN, PROPN, ADP, NOUN, ADP, PROPN, PROPN, PROPN]                                             |malay   |\n",
      "|pada tahun beliau diculik dari kampung halamannya kojo dan ditahan oleh negara islam selama tiga bulan                                                                                                                                                          |[pada, tahun, beliau, diculik, dari, kampung, halamannya, kojo, dan, ditahan, oleh, negara, islam, selama, tiga, bulan]                                                                                                                                                                            |[ADP, NOUN, PRON, VERB, ADP, NOUN, NOUN, NOUN, CCONJ, VERB, ADP, NOUN, PROPN, ADP, NUM, NOUN]                                                                                                                         |malay   |\n",
      "|komun di jabatan tarn tempat dan monumen yang luar biasa saintsulpicelapointe tarn mairiejpg dewan bandar saintsulpicelapointe tarn le pont suspendu sur lagoutjpg jambatan penggantungan sepanjang agout                                                       |[komun, di, jabatan, tarn, tempat, dan, monumen, yang, luar, biasa, saintsulpicelapointe, tarn, mairiejpg, dewan, bandar, saintsulpicelapointe, tarn, le, pont, suspendu, sur, lagoutjpg, jambatan, penggantungan, sepanjang, agout]                                                               |[NOUN, ADP, NOUN, NOUN, NOUN, CCONJ, NOUN, PRON, ADJ, ADJ, NOUN, NOUN, NOUN, NOUN, PROPN, PROPN, NOUN, NOUN, NOUN, PROPN, NOUN, NOUN, NOUN, VERB, ADP, NOUN]                                                          |malay   |\n",
      "|pada sekolah jenis kebangsaan t ladang ulu remis memiliki pelajar lelaki dan pelajar perempuan menjadikan jumlah keseluruhan murid seramai orang                                                                                                                |[pada, sekolah, jenis, kebangsaan, t, ladang, ulu, remis, memiliki, pelajar, lelaki, dan, pelajar, perempuan, menjadikan, jumlah, keseluruhan, murid, seramai, orang]                                                                                                                              |[ADP, NOUN, NOUN, NOUN, NOUN, NOUN, NOUN, NOUN, VERB, NOUN, ADJ, CCONJ, NOUN, ADJ, VERB, NOUN, PRON, NOUN, ADP, NOUN]                                                                                                 |malay   |\n",
      "+----------------------------------------------------------------------------------------------------------------------------------------------------------------------------------------------------------------------------------------------------------------+---------------------------------------------------------------------------------------------------------------------------------------------------------------------------------------------------------------------------------------------------------------------------------------------------+----------------------------------------------------------------------------------------------------------------------------------------------------------------------------------------------------------------------+--------+\n",
      "only showing top 100 rows\n",
      "\n"
     ]
    }
   ],
   "source": [
    "bm = bm.rdd.map(lambda x : (x.text, x.tag[0], x.tag[1], \"malay\")).toDF([\"original\",\"token\",\"tag\", \"language\"])\n",
    "bm.show(100, False)\n",
    "\n",
    "# 🆂🅰🅼🅿🅻🅴"
   ]
  },
  {
   "cell_type": "code",
   "execution_count": 53,
   "id": "74590321-bd84-4b76-9108-e3fd169231ef",
   "metadata": {
    "tags": []
   },
   "outputs": [
    {
     "name": "stderr",
     "output_type": "stream",
     "text": [
      "                                                                                \r"
     ]
    }
   ],
   "source": [
    "write_avro(bm, \"output/9_WIKI_BM_TAG\")"
   ]
  },
  {
   "cell_type": "markdown",
   "id": "fa2fc5d9-f91d-4317-825a-5b9308a6ff1c",
   "metadata": {},
   "source": [
    "## NORMALIZE ENG TAG FORMAT"
   ]
  },
  {
   "cell_type": "code",
   "execution_count": 56,
   "id": "c56061fd-b81c-4b92-bfe8-f0f2faa57795",
   "metadata": {},
   "outputs": [],
   "source": [
    "en = read_avro(\"output/8_BI_TAG\")"
   ]
  },
  {
   "cell_type": "code",
   "execution_count": 51,
   "id": "5f14ccaf-51df-4ff2-8c92-01a134064bae",
   "metadata": {
    "collapsed": true,
    "jupyter": {
     "outputs_hidden": true
    },
    "tags": []
   },
   "outputs": [
    {
     "name": "stdout",
     "output_type": "stream",
     "text": [
      "+--------------------+--------------------+\n",
      "|               token|                 pos|\n",
      "+--------------------+--------------------+\n",
      "|[in, an, intervie...|[ADP, DET, NOUN, ...|\n",
      "|[the, schools, in...|[DET, NOUN, ADP, ...|\n",
      "|[a, new, building...|[DET, ADJ, NOUN, ...|\n",
      "|[he, then, did, m...|[PRON, ADV, AUX, ...|\n",
      "|[mr, woodman, was...|[ADJ, NOUN, AUX, ...|\n",
      "|[with, students, ...|[ADP, NOUN, ADP, ...|\n",
      "|[he, won, his, fi...|[PRON, VERB, PRON...|\n",
      "|[only, one, schoo...|[ADV, NUM, NOUN, ...|\n",
      "|[both, denominati...|[CCONJ, ADJ, CCON...|\n",
      "|[as, an, outcome,...|[ADP, DET, NOUN, ...|\n",
      "|[as, such, jaluit...|[ADP, ADJ, NOUN, ...|\n",
      "|[he, attended, jo...|[PRON, VERB, PROP...|\n",
      "|[issue, col, c, a...|[NOUN, VERB, NOUN...|\n",
      "|[most, residents,...|[ADJ, NOUN, ADP, ...|\n",
      "|[the, former, rol...|[DET, ADJ, VERB, ...|\n",
      "|[it, also, identi...|[PRON, ADV, VERB,...|\n",
      "|[at, oxley, colle...|[ADP, ADV, NOUN, ...|\n",
      "|[in, january, the...|[ADP, PROPN, DET,...|\n",
      "|[if, women, a, ne...|[SCONJ, NOUN, DET...|\n",
      "|[karori, normal, ...|[NOUN, ADJ, NOUN,...|\n",
      "+--------------------+--------------------+\n",
      "only showing top 20 rows\n",
      "\n"
     ]
    }
   ],
   "source": [
    "en.show()"
   ]
  },
  {
   "cell_type": "code",
   "execution_count": 45,
   "id": "6ebef0d2-bbf5-48e1-93ab-ccfa52f24092",
   "metadata": {},
   "outputs": [
    {
     "data": {
      "text/plain": [
       "DataFrame[token: array<string>, pos: array<string>]"
      ]
     },
     "execution_count": 45,
     "metadata": {},
     "output_type": "execute_result"
    }
   ],
   "source": [
    "en"
   ]
  },
  {
   "cell_type": "code",
   "execution_count": 57,
   "id": "e14acd3e-d528-44ae-9c4c-99c310b8c8d0",
   "metadata": {
    "collapsed": true,
    "jupyter": {
     "outputs_hidden": true
    },
    "tags": []
   },
   "outputs": [
    {
     "name": "stdout",
     "output_type": "stream",
     "text": [
      "+-------------------------------------------------------------------------------------------------------------------------------------------------------------------------------------------------------------------------------------------------------------------------------------------------------------------------------------------------------------------------------------+-----------------------------------------------------------------------------------------------------------------------------------------------------------------------------------------------------------------------------------------------------------------------------------------------------------------------------------------------------------------------------------------------------------------------------------------------+------------------------------------------------------------------------------------------------------------------------------------------------------------------------------------------------------------------------------------------------------------------------------------------------------------------------+--------+\n",
      "|original                                                                                                                                                                                                                                                                                                                                                                             |token                                                                                                                                                                                                                                                                                                                                                                                                                                          |tag                                                                                                                                                                                                                                                                                                                     |language|\n",
      "+-------------------------------------------------------------------------------------------------------------------------------------------------------------------------------------------------------------------------------------------------------------------------------------------------------------------------------------------------------------------------------------+-----------------------------------------------------------------------------------------------------------------------------------------------------------------------------------------------------------------------------------------------------------------------------------------------------------------------------------------------------------------------------------------------------------------------------------------------+------------------------------------------------------------------------------------------------------------------------------------------------------------------------------------------------------------------------------------------------------------------------------------------------------------------------+--------+\n",
      "|in an interview with inside higher ed university vice president daniel kempton stated that principles of academic freedom apply to the course and that the view that homosexuality is deviant is a legitimate perspective for the course                                                                                                                                             |[in, an, interview, with, inside, higher, ed, university, vice, president, daniel, kempton, stated, that, principles, of, academic, freedom, apply, to, the, course, and, that, the, view, that, homosexuality, is, deviant, is, a, legitimate, perspective, for, the, course]                                                                                                                                                                 |[ADP, DET, NOUN, ADP, ADV, ADV, ADJ, NOUN, NOUN, NOUN, NOUN, NOUN, VERB, SCONJ, NOUN, ADP, ADJ, NOUN, VERB, ADP, DET, NOUN, CCONJ, SCONJ, DET, NOUN, SCONJ, NOUN, AUX, NOUN, AUX, DET, ADJ, NOUN, ADP, DET, NOUN]                                                                                                       |english |\n",
      "|the schools in the state network have infrastructure below the ideal and are mostly scrapped mainly in the rural area                                                                                                                                                                                                                                                                |[the, schools, in, the, state, network, have, infrastructure, below, the, ideal, and, are, mostly, scrapped, mainly, in, the, rural, area]                                                                                                                                                                                                                                                                                                     |[DET, NOUN, ADP, DET, NOUN, NOUN, AUX, VERB, ADP, DET, NOUN, CCONJ, AUX, ADV, VERB, ADV, ADP, DET, ADJ, NOUN]                                                                                                                                                                                                           |english |\n",
      "|a new building for the school of information technologies opened in late and has been located on a site adjacent to the seymour centre                                                                                                                                                                                                                                               |[a, new, building, for, the, school, of, information, technologies, opened, in, late, and, has, been, located, on, a, site, adjacent, to, the, seymour, centre]                                                                                                                                                                                                                                                                                |[DET, ADJ, NOUN, ADP, DET, NOUN, ADP, NOUN, NOUN, VERB, ADP, ADJ, CCONJ, AUX, AUX, VERB, ADP, DET, NOUN, NOUN, ADP, DET, NOUN, NOUN]                                                                                                                                                                                    |english |\n",
      "|he then did masters degree studies in communications and finance at temple university and became a news anchor with philadelphia news radio station kyw in                                                                                                                                                                                                                           |[he, then, did, masters, degree, studies, in, communications, and, finance, at, temple, university, and, became, a, news, anchor, with, philadelphia, news, radio, station, kyw, in]                                                                                                                                                                                                                                                           |[PRON, ADV, AUX, NOUN, VERB, NOUN, ADP, NOUN, CCONJ, NOUN, ADP, NOUN, NOUN, CCONJ, VERB, DET, NOUN, NOUN, ADP, NOUN, NOUN, NOUN, NOUN, NOUN, ADP]                                                                                                                                                                       |english |\n",
      "|mr woodman was promoted to principal of the school principal lazarus quit to take a less stressful job at a highsecurity prison and kotter was promoted to viceprincipal purposefully moving the shows focus away from kotters class                                                                                                                                                 |[mr, woodman, was, promoted, to, principal, of, the, school, principal, lazarus, quit, to, take, a, less, stressful, job, at, a, highsecurity, prison, and, kotter, was, promoted, to, viceprincipal, purposefully, moving, the, shows, focus, away, from, kotters, class]                                                                                                                                                                     |[ADJ, NOUN, AUX, VERB, ADP, NOUN, ADP, DET, NOUN, NOUN, ADJ, NOUN, PART, VERB, DET, ADV, ADJ, NOUN, ADP, DET, NOUN, NOUN, CCONJ, NOUN, AUX, VERB, ADP, NOUN, ADV, VERB, DET, NOUN, VERB, ADV, ADP, NOUN, NOUN]                                                                                                          |english |\n",
      "|with students in grades and buena regional high schoolbuena regional high school buena regional school district                                                                                                                                                                                                                                                                      |[with, students, in, grades, and, buena, regional, high, schoolbuena, regional, high, school, buena, regional, school, district]                                                                                                                                                                                                                                                                                                               |[ADP, NOUN, ADP, NOUN, CCONJ, VERB, ADJ, ADJ, NOUN, ADJ, ADJ, NOUN, NOUN, ADJ, NOUN, NOUN]                                                                                                                                                                                                                              |english |\n",
      "|he won his first game on june but had second thoughts about leaving his adopted state of alabama and resigned after a mere hours on the job one of the shortest managerial stints in mlb history and went back to college coaching at south alabama                                                                                                                                  |[he, won, his, first, game, on, june, but, had, second, thoughts, about, leaving, his, adopted, state, of, alabama, and, resigned, after, a, mere, hours, on, the, job, one, of, the, shortest, managerial, stints, in, mlb, history, and, went, back, to, college, coaching, at, south, alabama]                                                                                                                                              |[PRON, VERB, PRON, ADJ, NOUN, ADP, PROPN, CCONJ, VERB, ADJ, NOUN, SCONJ, VERB, PRON, ADJ, NOUN, ADP, NOUN, CCONJ, VERB, ADP, DET, ADJ, NOUN, ADP, DET, NOUN, NUM, ADP, DET, ADJ, ADJ, NOUN, ADP, NOUN, NOUN, CCONJ, VERB, ADV, ADP, NOUN, VERB, ADP, ADV, PROPN]                                                        |english |\n",
      "|only one school exists in young public school serving grades k                                                                                                                                                                                                                                                                                                                       |[only, one, school, exists, in, young, public, school, serving, grades, k]                                                                                                                                                                                                                                                                                                                                                                     |[ADV, NUM, NOUN, NOUN, ADP, ADJ, ADJ, NOUN, VERB, NOUN, NOUN]                                                                                                                                                                                                                                                           |english |\n",
      "|both denominational and nondenominational schools fall within this category                                                                                                                                                                                                                                                                                                          |[both, denominational, and, nondenominational, schools, fall, within, this, category]                                                                                                                                                                                                                                                                                                                                                          |[CCONJ, ADJ, CCONJ, ADJ, NOUN, NOUN, ADP, DET, NOUN]                                                                                                                                                                                                                                                                    |english |\n",
      "|as an outcome the college of engineering won approximately us from the government for the training of quality manpower as required in industry by providing experiencebased programs                                                                                                                                                                                                 |[as, an, outcome, the, college, of, engineering, won, approximately, us, from, the, government, for, the, training, of, quality, manpower, as, required, in, industry, by, providing, experiencebased, programs]                                                                                                                                                                                                                               |[ADP, DET, NOUN, DET, NOUN, SCONJ, VERB, PRON, ADV, PRON, ADP, DET, NOUN, ADP, DET, NOUN, ADP, NOUN, NOUN, ADP, VERB, ADP, NOUN, SCONJ, VERB, VERB, NOUN]                                                                                                                                                               |english |\n",
      "|as such jaluit high school enroll students from the ralik and iolab school zones including schools from ebon namdrik kili jaluit ailinglaplap jabat and namu                                                                                                                                                                                                                         |[as, such, jaluit, high, school, enroll, students, from, the, ralik, and, iolab, school, zones, including, schools, from, ebon, namdrik, kili, jaluit, ailinglaplap, jabat, and, namu]                                                                                                                                                                                                                                                         |[ADP, ADJ, NOUN, ADJ, NOUN, NOUN, NOUN, ADP, DET, NOUN, CCONJ, NOUN, NOUN, NOUN, VERB, NOUN, ADP, NOUN, NOUN, NOUN, NOUN, NOUN, NOUN, CCONJ, NOUN]                                                                                                                                                                      |english |\n",
      "|he attended john dewey high school graduating early                                                                                                                                                                                                                                                                                                                                  |[he, attended, john, dewey, high, school, graduating, early]                                                                                                                                                                                                                                                                                                                                                                                   |[PRON, VERB, PROPN, PROPN, ADJ, NOUN, NOUN, ADV]                                                                                                                                                                                                                                                                        |english |\n",
      "|issue col c alan started his education at the downs school where his contemporaries included future scientists frederick sanger alec bangham neither outstandingly brilliant at school according to hodgkin as well as future artists lawrence gowing and kenneth rowntree                                                                                                           |[issue, col, c, alan, started, his, education, at, the, downs, school, where, his, contemporaries, included, future, scientists, frederick, sanger, alec, bangham, neither, outstandingly, brilliant, at, school, according, to, hodgkin, as, well, as, future, artists, lawrence, gowing, and, kenneth, rowntree]                                                                                                                             |[NOUN, VERB, NOUN, AUX, VERB, PRON, NOUN, ADP, DET, NOUN, NOUN, ADV, PRON, NOUN, VERB, ADJ, NOUN, ADJ, NOUN, NOUN, NOUN, CCONJ, ADV, ADJ, ADP, NOUN, VERB, ADP, NOUN, ADV, ADV, ADP, ADJ, NOUN, NOUN, NOUN, CCONJ, NOUN, NOUN]                                                                                          |english |\n",
      "|most residents of monteverde pursue higher education in the central valley at institutions such as the university of costa rica                                                                                                                                                                                                                                                      |[most, residents, of, monteverde, pursue, higher, education, in, the, central, valley, at, institutions, such, as, the, university, of, costa, rica]                                                                                                                                                                                                                                                                                           |[ADJ, NOUN, ADP, NOUN, NOUN, ADJ, NOUN, ADP, DET, ADJ, NOUN, ADP, NOUN, ADJ, ADP, DET, NOUN, ADP, NOUN, NOUN]                                                                                                                                                                                                           |english |\n",
      "|the former rolling hills high school campus opened had the highest capacity and was used for the combined school                                                                                                                                                                                                                                                                     |[the, former, rolling, hills, high, school, campus, opened, had, the, highest, capacity, and, was, used, for, the, combined, school]                                                                                                                                                                                                                                                                                                           |[DET, ADJ, VERB, NOUN, ADJ, NOUN, NOUN, VERB, VERB, DET, ADJ, NOUN, CCONJ, AUX, VERB, ADP, DET, ADJ, NOUN]                                                                                                                                                                                                              |english |\n",
      "|it also identified signals of a second eruption in likely to have been in the tropics which would have sustained the cooling effects of the first eruption through to around archived copy in harvard university researchers suggested the because was a volcanic eruption in iceland that erupted in early                                                                          |[it, also, identified, signals, of, a, second, eruption, in, likely, to, have, been, in, the, tropics, which, would, have, sustained, the, cooling, effects, of, the, first, eruption, through, to, around, archived, copy, in, harvard, university, researchers, suggested, the, because, was, a, volcanic, eruption, in, iceland, that, erupted, in, early]                                                                                  |[PRON, ADV, VERB, NOUN, ADP, DET, ADJ, NOUN, ADP, ADV, PART, AUX, AUX, ADP, DET, NOUN, PRON, AUX, AUX, VERB, DET, NOUN, NOUN, ADP, DET, ADJ, NOUN, ADP, PART, ADV, VERB, NOUN, ADP, ADJ, NOUN, NOUN, VERB, DET, NOUN, AUX, DET, ADJ, NOUN, ADP, NOUN, PRON, VERB, ADP, ADJ]                                             |english |\n",
      "|at oxley college in burradoo new south wales a sports house is called mawson as is at clarence high school in hobart tasmania forest lodge public school and fort street high school both in sydney where he was educated                                                                                                                                                            |[at, oxley, college, in, burradoo, new, south, wales, a, sports, house, is, called, mawson, as, is, at, clarence, high, school, in, hobart, tasmania, forest, lodge, public, school, and, fort, street, high, school, both, in, sydney, where, he, was, educated]                                                                                                                                                                              |[ADP, ADV, NOUN, ADP, NOUN, ADJ, NOUN, NOUN, DET, NOUN, NOUN, AUX, VERB, NOUN, SCONJ, AUX, ADP, NOUN, ADJ, NOUN, ADP, PROPN, NOUN, ADJ, NOUN, ADJ, NOUN, CCONJ, ADJ, NOUN, ADJ, NOUN, CCONJ, ADP, NOUN, ADV, PRON, AUX, VERB]                                                                                           |english |\n",
      "|in january the first of installments of ragged dick appeared in student and schoolmate                                                                                                                                                                                                                                                                                               |[in, january, the, first, of, installments, of, ragged, dick, appeared, in, student, and, schoolmate]                                                                                                                                                                                                                                                                                                                                          |[ADP, PROPN, DET, ADJ, ADP, NOUN, ADP, VERB, NOUN, VERB, ADP, NOUN, CCONJ, NOUN]                                                                                                                                                                                                                                        |english |\n",
      "|if women a new feminist economics harper row republished by macmillan allen unwin and university of toronto press several times under its original title and as counting for nothing waring marilyn                                                                                                                                                                                  |[if, women, a, new, feminist, economics, harper, row, republished, by, macmillan, allen, unwin, and, university, of, toronto, press, several, times, under, its, original, title, and, as, counting, for, nothing, waring, marilyn]                                                                                                                                                                                                            |[SCONJ, NOUN, DET, ADJ, NOUN, NOUN, ADV, NOUN, VERB, ADP, NOUN, NOUN, NOUN, CCONJ, NOUN, ADP, ADJ, NOUN, ADJ, NOUN, ADP, PRON, ADJ, NOUN, CCONJ, SCONJ, VERB, ADP, PRON, ADJ, NOUN]                                                                                                                                     |english |\n",
      "|karori normal school is a coeducational state primary school for year to students with a roll of as of                                                                                                                                                                                                                                                                               |[karori, normal, school, is, a, coeducational, state, primary, school, for, year, to, students, with, a, roll, of, as, of]                                                                                                                                                                                                                                                                                                                     |[NOUN, ADJ, NOUN, AUX, DET, ADJ, NOUN, NOUN, NOUN, ADP, NOUN, PART, NOUN, ADP, DET, NOUN, ADP, ADP, ADP]                                                                                                                                                                                                                |english |\n",
      "|after joining the school wan founded a book club to study marxistleninist works                                                                                                                                                                                                                                                                                                      |[after, joining, the, school, wan, founded, a, book, club, to, study, marxistleninist, works]                                                                                                                                                                                                                                                                                                                                                  |[SCONJ, VERB, DET, NOUN, NOUN, VERB, DET, NOUN, NOUN, PART, VERB, NOUN, VERB]                                                                                                                                                                                                                                           |english |\n",
      "|commenting on the history of the distinction in russell distinguished two schools of philosophy which may be broadly distinguished as the continental and the british respectively a division he saw as operative from the time of locke russell proposes the following broad points of distinction between continental and british types of bertrand a history of western philosophy|[commenting, on, the, history, of, the, distinction, in, russell, distinguished, two, schools, of, philosophy, which, may, be, broadly, distinguished, as, the, continental, and, the, british, respectively, a, division, he, saw, as, operative, from, the, time, of, locke, russell, proposes, the, following, broad, points, of, distinction, between, continental, and, british, types, of, bertrand, a, history, of, western, philosophy]|[VERB, ADP, DET, NOUN, ADP, DET, NOUN, ADP, NOUN, VERB, NUM, NOUN, ADP, NOUN, PRON, AUX, AUX, ADV, ADJ, ADP, DET, NOUN, CCONJ, DET, ADJ, ADV, DET, NOUN, PRON, VERB, ADP, ADJ, ADP, DET, NOUN, ADP, NOUN, NOUN, VERB, DET, VERB, ADJ, NOUN, ADP, NOUN, ADP, ADJ, CCONJ, ADJ, NOUN, ADP, NOUN, DET, NOUN, ADP, ADJ, NOUN]|english |\n",
      "|additionally it operates the downingtown campus in east brandywine township on the site of the former downingtown industrial and agricultural school                                                                                                                                                                                                                                 |[additionally, it, operates, the, downingtown, campus, in, east, brandywine, township, on, the, site, of, the, former, downingtown, industrial, and, agricultural, school]                                                                                                                                                                                                                                                                     |[ADV, PRON, VERB, DET, ADJ, NOUN, ADP, ADJ, NOUN, NOUN, ADP, DET, NOUN, ADP, DET, ADJ, VERB, ADJ, CCONJ, ADJ, NOUN]                                                                                                                                                                                                     |english |\n",
      "|an example is within the grounds of gordounston school                                                                                                                                                                                                                                                                                                                               |[an, example, is, within, the, grounds, of, gordounston, school]                                                                                                                                                                                                                                                                                                                                                                               |[DET, NOUN, AUX, ADP, DET, NOUN, ADP, PROPN, NOUN]                                                                                                                                                                                                                                                                      |english |\n",
      "|by the school of architecture had grown out of engineering into an independent school                                                                                                                                                                                                                                                                                                |[by, the, school, of, architecture, had, grown, out, of, engineering, into, an, independent, school]                                                                                                                                                                                                                                                                                                                                           |[ADP, DET, NOUN, ADP, NOUN, AUX, VERB, ADP, SCONJ, VERB, ADP, DET, ADJ, NOUN]                                                                                                                                                                                                                                           |english |\n",
      "|lillian her legend her life university of california press berke annie never let the camera catch me acting lillian gish as actress star and theorist historical journal of film radio and television june                                                                                                                                                                           |[lillian, her, legend, her, life, university, of, california, press, berke, annie, never, let, the, camera, catch, me, acting, lillian, gish, as, actress, star, and, theorist, historical, journal, of, film, radio, and, television, june]                                                                                                                                                                                                   |[ADJ, PRON, VERB, PRON, NOUN, NOUN, ADP, PROPN, NOUN, NOUN, NOUN, ADV, VERB, DET, NOUN, VERB, PRON, VERB, ADJ, NOUN, ADP, NOUN, NOUN, CCONJ, VERB, ADJ, NOUN, ADP, NOUN, NOUN, CCONJ, NOUN, PROPN]                                                                                                                      |english |\n",
      "|the title heroines jean and louise dana are teenage sisters and amateur detectives who solve mysteries while at boarding school                                                                                                                                                                                                                                                      |[the, title, heroines, jean, and, louise, dana, are, teenage, sisters, and, amateur, detectives, who, solve, mysteries, while, at, boarding, school]                                                                                                                                                                                                                                                                                           |[DET, NOUN, NOUN, NOUN, CCONJ, NOUN, NOUN, AUX, ADJ, NOUN, CCONJ, VERB, NOUN, PRON, VERB, NOUN, SCONJ, SCONJ, NOUN, NOUN]                                                                                                                                                                                               |english |\n",
      "|ucl is ranked rd in the world st in europe in the university ranking by academic performance                                                                                                                                                                                                                                                                                         |[ucl, is, ranked, rd, in, the, world, st, in, europe, in, the, university, ranking, by, academic, performance]                                                                                                                                                                                                                                                                                                                                 |[NOUN, AUX, VERB, NOUN, ADP, DET, NOUN, NOUN, ADP, PROPN, ADP, DET, NOUN, VERB, ADP, ADJ, NOUN]                                                                                                                                                                                                                         |english |\n",
      "|rosella park state school was opened on may                                                                                                                                                                                                                                                                                                                                          |[rosella, park, state, school, was, opened, on, may]                                                                                                                                                                                                                                                                                                                                                                                           |[VERB, NOUN, NOUN, NOUN, AUX, VERB, ADP, PROPN]                                                                                                                                                                                                                                                                         |english |\n",
      "|after being promoted to majorgeneral in he was appointed the commandant of the national defence college                                                                                                                                                                                                                                                                              |[after, being, promoted, to, majorgeneral, in, he, was, appointed, the, commandant, of, the, national, defence, college]                                                                                                                                                                                                                                                                                                                       |[SCONJ, AUX, VERB, ADP, VERB, SCONJ, PRON, AUX, VERB, DET, NOUN, ADP, DET, ADJ, NOUN, NOUN]                                                                                                                                                                                                                             |english |\n",
      "|the college board has received substantial backlash for these practices                                                                                                                                                                                                                                                                                                              |[the, college, board, has, received, substantial, backlash, for, these, practices]                                                                                                                                                                                                                                                                                                                                                             |[DET, NOUN, NOUN, AUX, VERB, ADJ, NOUN, ADP, DET, NOUN]                                                                                                                                                                                                                                                                 |english |\n",
      "|phillips was born at te rehunga near dannevirke new zealand to harold housego phillips a dairy farmer and his wife edith webber a schoolteacher and postmistress                                                                                                                                                                                                                     |[phillips, was, born, at, te, rehunga, near, dannevirke, new, zealand, to, harold, housego, phillips, a, dairy, farmer, and, his, wife, edith, webber, a, schoolteacher, and, postmistress]                                                                                                                                                                                                                                                    |[NOUN, AUX, VERB, ADP, NOUN, NOUN, ADP, NOUN, ADJ, NOUN, ADP, VERB, NOUN, NOUN, DET, NOUN, NOUN, CCONJ, PRON, NOUN, ADP, NOUN, DET, NOUN, CCONJ, NOUN]                                                                                                                                                                  |english |\n",
      "|it was a land where the nomadic turks and mongols of the steppe mingled cultures with the settled peoples of central asiasoucek svat a history of inner asia cambridge university press p during chinas qing dynasty the lake formed the northwesternmost boundary of the empire                                                                                                     |[it, was, a, land, where, the, nomadic, turks, and, mongols, of, the, steppe, mingled, cultures, with, the, settled, peoples, of, central, asiasoucek, svat, a, history, of, inner, asia, cambridge, university, press, p, during, chinas, qing, dynasty, the, lake, formed, the, northwesternmost, boundary, of, the, empire]                                                                                                                 |[PRON, AUX, DET, NOUN, ADV, DET, NOUN, NOUN, CCONJ, NOUN, ADP, DET, NOUN, VERB, NOUN, ADP, DET, ADJ, NOUN, ADP, ADJ, NOUN, VERB, DET, NOUN, ADP, ADJ, NOUN, NOUN, NOUN, NOUN, NOUN, ADP, NOUN, NOUN, VERB, DET, NOUN, VERB, DET, ADJ, NOUN, ADP, DET, NOUN]                                                             |english |\n",
      "|initially the university only had two faculties faculty of arts and faculty of theology                                                                                                                                                                                                                                                                                              |[initially, the, university, only, had, two, faculties, faculty, of, arts, and, faculty, of, theology]                                                                                                                                                                                                                                                                                                                                         |[ADV, DET, NOUN, ADV, VERB, NUM, NOUN, NOUN, ADP, NOUN, CCONJ, NOUN, ADP, NOUN]                                                                                                                                                                                                                                         |english |\n",
      "|more than colleges and universities hold book collecting contests                                                                                                                                                                                                                                                                                                                    |[more, than, colleges, and, universities, hold, book, collecting, contests]                                                                                                                                                                                                                                                                                                                                                                    |[ADJ, ADP, NOUN, CCONJ, NOUN, VERB, NOUN, NOUN, NOUN]                                                                                                                                                                                                                                                                   |english |\n",
      "|university of auckland has halls while university of otago in dunedin has a particular strong set of colleges modelled on the oxbridge system                                                                                                                                                                                                                                        |[university, of, auckland, has, halls, while, university, of, otago, in, dunedin, has, a, particular, strong, set, of, colleges, modelled, on, the, oxbridge, system]                                                                                                                                                                                                                                                                          |[NOUN, ADP, NOUN, AUX, VERB, SCONJ, NOUN, ADP, NOUN, ADP, NOUN, VERB, DET, ADJ, ADJ, NOUN, ADP, NOUN, VERB, ADP, DET, NOUN, NOUN]                                                                                                                                                                                       |english |\n",
      "|the president of the university later recalled that applewhite was often mentally jumbled and disorganized near the end of his employment                                                                                                                                                                                                                                            |[the, president, of, the, university, later, recalled, that, applewhite, was, often, mentally, jumbled, and, disorganized, near, the, end, of, his, employment]                                                                                                                                                                                                                                                                                |[DET, NOUN, ADP, DET, PROPN, ADV, VERB, SCONJ, NOUN, AUX, ADV, ADV, VERB, CCONJ, VERB, ADP, DET, NOUN, ADP, PRON, NOUN]                                                                                                                                                                                                 |english |\n",
      "|at the time of the pictures release laughlins company billy jack enterprises had plans for a new montessori school funded by his own foundation a record label an investigative magazine books a distribution company and more messageladen movies including a special subsidiary to produce films for children                                                                      |[at, the, time, of, the, pictures, release, laughlins, company, billy, jack, enterprises, had, plans, for, a, new, montessori, school, funded, by, his, own, foundation, a, record, label, an, investigative, magazine, books, a, distribution, company, and, more, messageladen, movies, including, a, special, subsidiary, to, produce, films, for, children]                                                                                |[ADP, DET, NOUN, ADP, DET, NOUN, NOUN, NOUN, NOUN, ADV, VERB, NOUN, VERB, NOUN, ADP, DET, ADJ, NOUN, NOUN, VERB, ADP, PRON, ADJ, NOUN, DET, NOUN, VERB, DET, ADJ, NOUN, NOUN, DET, NOUN, NOUN, CCONJ, ADJ, ADJ, NOUN, VERB, DET, ADJ, NOUN, PART, VERB, NOUN, ADP, NOUN]                                                |english |\n",
      "|there is also a primary school kosta đukić in mladenovac                                                                                                                                                                                                                                                                                                                             |[there, is, also, a, primary, school, kosta, đukić, in, mladenovac]                                                                                                                                                                                                                                                                                                                                                                            |[PRON, VERB, ADV, DET, ADJ, NOUN, NOUN, PROPN, ADP, NOUN]                                                                                                                                                                                                                                                               |english |\n",
      "|chapter discoveries on the back of an envelope from frontiers of scientific habits of mind taught by david helfand at columbia university fermi a guide for teachers students and event supervisors by lloyd abrams                                                                                                                                                                  |[chapter, discoveries, on, the, back, of, an, envelope, from, frontiers, of, scientific, habits, of, mind, taught, by, david, helfand, at, columbia, university, fermi, a, guide, for, teachers, students, and, event, supervisors, by, lloyd, abrams]                                                                                                                                                                                         |[NOUN, NOUN, ADP, DET, NOUN, ADP, DET, NOUN, ADP, NOUN, ADP, ADJ, NOUN, ADP, NOUN, VERB, ADP, PROPN, NOUN, ADP, NOUN, NOUN, VERB, DET, NOUN, ADP, NOUN, NOUN, CCONJ, NOUN, NOUN, ADP, NOUN, NOUN]                                                                                                                       |english |\n",
      "|ritch played college soccer at auburn university montgomery in the naia from to where he helped lead the team to four straight conference championships                                                                                                                                                                                                                              |[ritch, played, college, soccer, at, auburn, university, montgomery, in, the, naia, from, to, where, he, helped, lead, the, team, to, four, straight, conference, championships]                                                                                                                                                                                                                                                               |[NOUN, VERB, NOUN, NOUN, ADP, NOUN, NOUN, NOUN, ADP, DET, NOUN, ADP, SCONJ, ADV, PRON, VERB, VERB, DET, NOUN, ADP, NUM, ADJ, NOUN, NOUN]                                                                                                                                                                                |english |\n",
      "|the university of strathclyde named a building at its jordanhill campus after him                                                                                                                                                                                                                                                                                                    |[the, university, of, strathclyde, named, a, building, at, its, jordanhill, campus, after, him]                                                                                                                                                                                                                                                                                                                                                |[DET, NOUN, ADP, NOUN, VERB, DET, NOUN, ADP, PRON, NOUN, NOUN, ADP, PRON]                                                                                                                                                                                                                                               |english |\n",
      "|watergate prosecutor and criminal defense trial lawyer james f neal was born and raised in oak grove and graduated from sumner high school in portland in                                                                                                                                                                                                                            |[watergate, prosecutor, and, criminal, defense, trial, lawyer, james, f, neal, was, born, and, raised, in, oak, grove, and, graduated, from, sumner, high, school, in, portland, in]                                                                                                                                                                                                                                                           |[ADJ, NOUN, CCONJ, ADJ, NOUN, NOUN, NOUN, NOUN, NOUN, NOUN, AUX, VERB, CCONJ, VERB, ADP, NOUN, NOUN, CCONJ, VERB, ADP, NOUN, ADJ, NOUN, ADP, PROPN, ADP]                                                                                                                                                                |english |\n",
      "|sapientia animae christireprinted in pl unione corporis et spiritus the union of the body and the spirit reprinted in pl dindimi in philosophiam epitome of dindimus on philosophy reprinted in roger baron ed hugonis de sancto victore opera propaedeutica notre dame university of notre dame press                                                                               |[sapientia, animae, christireprinted, in, pl, unione, corporis, et, spiritus, the, union, of, the, body, and, the, spirit, reprinted, in, pl, dindimi, in, philosophiam, epitome, of, dindimus, on, philosophy, reprinted, in, roger, baron, ed, hugonis, de, sancto, victore, opera, propaedeutica, notre, dame, university, of, notre, dame, press]                                                                                          |[VERB, ADV, VERB, ADP, NOUN, ADJ, NOUN, NOUN, VERB, DET, NOUN, ADP, DET, NOUN, CCONJ, DET, NOUN, VERB, ADP, NOUN, NOUN, ADP, NOUN, NOUN, ADP, NOUN, ADP, NOUN, VERB, ADP, NOUN, NOUN, NOUN, X, X, X, ADV, ADJ, NOUN, NOUN, NOUN, NOUN, ADP, NOUN, NOUN, NOUN]                                                           |english |\n",
      "|trinity college cambridge in the proceedings of the philological society                                                                                                                                                                                                                                                                                                             |[trinity, college, cambridge, in, the, proceedings, of, the, philological, society]                                                                                                                                                                                                                                                                                                                                                            |[NOUN, NOUN, NOUN, ADP, DET, NOUN, ADP, DET, ADJ, NOUN]                                                                                                                                                                                                                                                                 |english |\n",
      "|leviathan and natural law princeton princeton university press                                                                                                                                                                                                                                                                                                                       |[leviathan, and, natural, law, princeton, princeton, university, press]                                                                                                                                                                                                                                                                                                                                                                        |[ADJ, CCONJ, ADJ, NOUN, NOUN, NOUN, NOUN, NOUN]                                                                                                                                                                                                                                                                         |english |\n",
      "|the school is led by chair shuanghong huo                                                                                                                                                                                                                                                                                                                                            |[the, school, is, led, by, chair, shuanghong, huo]                                                                                                                                                                                                                                                                                                                                                                                             |[DET, NOUN, AUX, VERB, ADP, NOUN, ADJ, NOUN]                                                                                                                                                                                                                                                                            |english |\n",
      "|lions athletics wordmark lindenwood university is a member of the ncaa at the division ii level                                                                                                                                                                                                                                                                                      |[lions, athletics, wordmark, lindenwood, university, is, a, member, of, the, ncaa, at, the, division, ii, level]                                                                                                                                                                                                                                                                                                                               |[NOUN, NOUN, ADJ, NOUN, NOUN, AUX, DET, NOUN, ADP, DET, NOUN, ADP, DET, NOUN, ADJ, NOUN]                                                                                                                                                                                                                                |english |\n",
      "|there were students in the municipal primary school program                                                                                                                                                                                                                                                                                                                          |[there, were, students, in, the, municipal, primary, school, program]                                                                                                                                                                                                                                                                                                                                                                          |[PRON, VERB, NOUN, ADP, DET, ADJ, ADJ, NOUN, NOUN]                                                                                                                                                                                                                                                                      |english |\n",
      "|yong in university is a private university located in samgadong cheoingu yonginsi gyeonggido south korea                                                                                                                                                                                                                                                                             |[yong, in, university, is, a, private, university, located, in, samgadong, cheoingu, yonginsi, gyeonggido, south, korea]                                                                                                                                                                                                                                                                                                                       |[ADV, ADP, NOUN, AUX, DET, ADJ, NOUN, VERB, ADP, ADJ, NOUN, CCONJ, NOUN, NOUN, NOUN]                                                                                                                                                                                                                                    |english |\n",
      "|weisse was born in leipzig and studied at the university there at first adhering to the hegelian school of philosophy                                                                                                                                                                                                                                                                |[weisse, was, born, in, leipzig, and, studied, at, the, university, there, at, first, adhering, to, the, hegelian, school, of, philosophy]                                                                                                                                                                                                                                                                                                     |[NOUN, AUX, VERB, ADP, NOUN, CCONJ, VERB, ADP, DET, NOUN, ADV, ADV, ADV, VERB, ADP, DET, ADJ, NOUN, ADP, NOUN]                                                                                                                                                                                                          |english |\n",
      "|he has a need to be the center of attention as seen when he admits to making it rain in the school gymnasium                                                                                                                                                                                                                                                                         |[he, has, a, need, to, be, the, center, of, attention, as, seen, when, he, admits, to, making, it, rain, in, the, school, gymnasium]                                                                                                                                                                                                                                                                                                           |[PRON, VERB, DET, NOUN, PART, AUX, DET, NOUN, ADP, NOUN, ADP, VERB, ADV, PRON, VERB, SCONJ, VERB, PRON, VERB, ADP, DET, NOUN, NOUN]                                                                                                                                                                                     |english |\n",
      "|often a lewis acidic catalyst is used such as ferric bromideorganic chemistry by jonathan clayden nick grieves stuart warren oxford university press because fluorine is so reactive other methods such as the balzschiemann reaction must be used to prepare fluorinated aromatic compounds                                                                                         |[often, a, lewis, acidic, catalyst, is, used, such, as, ferric, bromideorganic, chemistry, by, jonathan, clayden, nick, grieves, stuart, warren, oxford, university, press, because, fluorine, is, so, reactive, other, methods, such, as, the, balzschiemann, reaction, must, be, used, to, prepare, fluorinated, aromatic, compounds]                                                                                                        |[ADV, DET, NOUN, NOUN, NOUN, AUX, VERB, ADJ, ADP, ADJ, NOUN, NOUN, ADP, ADJ, ADJ, NOUN, NOUN, NOUN, NOUN, NOUN, NOUN, NOUN, SCONJ, NOUN, AUX, ADV, ADJ, ADJ, NOUN, ADJ, ADP, DET, NOUN, NOUN, AUX, AUX, VERB, PART, VERB, VERB, ADJ, NOUN]                                                                              |english |\n",
      "|some black activists blamed aggressive law enforcement and prison construction for leaving two hundred thousand more blacks in the jail complex than in college and devastating leadership gaps within black communities and families                                                                                                                                                |[some, black, activists, blamed, aggressive, law, enforcement, and, prison, construction, for, leaving, two, hundred, thousand, more, blacks, in, the, jail, complex, than, in, college, and, devastating, leadership, gaps, within, black, communities, and, families]                                                                                                                                                                        |[DET, ADJ, NOUN, VERB, ADJ, NOUN, NOUN, CCONJ, NOUN, NOUN, SCONJ, VERB, NUM, NUM, NUM, ADJ, NOUN, ADP, DET, NOUN, NOUN, ADP, ADP, NOUN, CCONJ, VERB, NOUN, NOUN, ADP, ADJ, NOUN, CCONJ, NOUN]                                                                                                                           |english |\n",
      "|highlights included technologically literate students using a modified walkman to trigger amplified toilet flushes during the daily sermon and a candid interview with the schools sailing instructor                                                                                                                                                                                |[highlights, included, technologically, literate, students, using, a, modified, walkman, to, trigger, amplified, toilet, flushes, during, the, daily, sermon, and, a, candid, interview, with, the, schools, sailing, instructor]                                                                                                                                                                                                              |[NOUN, VERB, ADV, ADJ, NOUN, VERB, DET, ADJ, NOUN, ADP, NOUN, VERB, NOUN, NOUN, ADP, DET, ADJ, NOUN, CCONJ, DET, NOUN, NOUN, ADP, DET, NOUN, VERB, NOUN]                                                                                                                                                                |english |\n",
      "|later in it was chartered as a state normal school                                                                                                                                                                                                                                                                                                                                   |[later, in, it, was, chartered, as, a, state, normal, school]                                                                                                                                                                                                                                                                                                                                                                                  |[ADV, ADP, PRON, AUX, VERB, ADP, DET, NOUN, ADJ, NOUN]                                                                                                                                                                                                                                                                  |english |\n",
      "|consequently in zf absent you areelements with or without the axiom of choice for any cardinals κ and μ the equality beth beta kappa borel determinacy see also references t e forster set theory with a universal exploring an untyped universe oxford university press beth number is defined on page                                                                              |[consequently, in, zf, absent, you, areelements, with, or, without, the, axiom, of, choice, for, any, cardinals, κ, and, μ, the, equality, beth, beta, kappa, borel, determinacy, see, also, references, t, e, forster, set, theory, with, a, universal, exploring, an, untyped, universe, oxford, university, press, beth, number, is, defined, on, page]                                                                                     |[ADV, ADP, ADJ, NOUN, PRON, VERB, ADP, CCONJ, ADP, DET, NOUN, ADP, NOUN, ADP, DET, NOUN, NOUN, CCONJ, VERB, DET, NOUN, NOUN, NOUN, NOUN, NOUN, NOUN, VERB, ADV, NOUN, NOUN, NOUN, NOUN, NOUN, NOUN, ADP, DET, ADJ, VERB, DET, ADJ, NOUN, NOUN, NOUN, NOUN, NOUN, NOUN, AUX, VERB, ADP, NOUN]                            |english |\n",
      "|in he joined the advisory board of the hawke research institute at the university of south australia and from has been the chair of the new democracy foundations research committee                                                                                                                                                                                                 |[in, he, joined, the, advisory, board, of, the, hawke, research, institute, at, the, university, of, south, australia, and, from, has, been, the, chair, of, the, new, democracy, foundations, research, committee]                                                                                                                                                                                                                            |[ADP, PRON, VERB, DET, ADJ, NOUN, ADP, DET, NOUN, NOUN, NOUN, ADP, DET, NOUN, ADP, ADJ, NOUN, CCONJ, ADP, AUX, AUX, DET, NOUN, ADP, DET, ADJ, NOUN, NOUN, NOUN, NOUN]                                                                                                                                                   |english |\n",
      "|the high school mascot is the panther                                                                                                                                                                                                                                                                                                                                                |[the, high, school, mascot, is, the, panther]                                                                                                                                                                                                                                                                                                                                                                                                  |[DET, ADJ, NOUN, NOUN, AUX, DET, NOUN]                                                                                                                                                                                                                                                                                  |english |\n",
      "|kennedy family tree list of female lieutenant governors in the united states summary of townsends positions on the issues audio video recordings of kathleen kennedy townsend on her book failing americas faithful from the university of chicagos world beyond the headlines series official state government biography congressional quarterly voting and elections collection    |[kennedy, family, tree, list, of, female, lieutenant, governors, in, the, united, states, summary, of, townsends, positions, on, the, issues, audio, video, recordings, of, kathleen, kennedy, townsend, on, her, book, failing, americas, faithful, from, the, university, of, chicagos, world, beyond, the, headlines, series, official, state, government, biography, congressional, quarterly, voting, and, elections, collection]         |[ADJ, NOUN, NUM, NOUN, ADP, ADJ, ADJ, NOUN, ADP, DET, PROPN, PROPN, NOUN, ADP, NOUN, NOUN, ADP, DET, NOUN, VERB, NOUN, NOUN, ADP, NOUN, NOUN, NOUN, ADP, PRON, NOUN, VERB, ADV, ADJ, ADP, DET, NOUN, ADP, ADJ, NOUN, ADP, DET, NOUN, VERB, ADJ, NOUN, NOUN, NOUN, ADJ, ADV, NOUN, CCONJ, NOUN, NOUN]                    |english |\n",
      "|later he served as marine detachment executive officer aboard the aircraft carrier and as commanding officer of the sea school at marine corps recruit depot san diego                                                                                                                                                                                                               |[later, he, served, as, marine, detachment, executive, officer, aboard, the, aircraft, carrier, and, as, commanding, officer, of, the, sea, school, at, marine, corps, recruit, depot, san, diego]                                                                                                                                                                                                                                             |[ADV, PRON, VERB, ADP, ADJ, NOUN, ADJ, NOUN, ADP, DET, NOUN, NOUN, CCONJ, SCONJ, VERB, NOUN, ADP, DET, NOUN, NOUN, ADP, PROPN, NOUN, NOUN, ADV, PROPN, NOUN]                                                                                                                                                            |english |\n",
      "|clarksburg methodist episcopal church added in as building and clarksburg school also added in as building are listed on the national register of historic placesnew jersey monmouth county national register of historic places                                                                                                                                                     |[clarksburg, methodist, episcopal, church, added, in, as, building, and, clarksburg, school, also, added, in, as, building, are, listed, on, the, national, register, of, historic, placesnew, jersey, monmouth, county, national, register, of, historic, places]                                                                                                                                                                             |[ADJ, NOUN, NOUN, NOUN, VERB, ADP, SCONJ, NOUN, CCONJ, NOUN, NOUN, ADV, VERB, ADP, SCONJ, NOUN, AUX, VERB, ADP, DET, ADJ, NOUN, ADP, ADJ, ADJ, NOUN, NOUN, NOUN, ADJ, NOUN, ADP, ADJ, NOUN]                                                                                                                             |english |\n",
      "|so far laidlaw donated million to columbia business school m to london business school and m to saïd business school as part of this scholarship programme                                                                                                                                                                                                                           |[so, far, laidlaw, donated, million, to, columbia, business, school, m, to, london, business, school, and, m, to, saïd, business, school, as, part, of, this, scholarship, programme]                                                                                                                                                                                                                                                          |[ADV, ADV, NOUN, VERB, NOUN, ADP, VERB, NOUN, NOUN, NOUN, ADP, PROPN, NOUN, NOUN, CCONJ, NOUN, PART, VERB, NOUN, NOUN, ADP, NOUN, ADP, DET, NOUN, NOUN]                                                                                                                                                                 |english |\n",
      "|the first set of laws is drafted based mainly on the cambridge university rules                                                                                                                                                                                                                                                                                                      |[the, first, set, of, laws, is, drafted, based, mainly, on, the, cambridge, university, rules]                                                                                                                                                                                                                                                                                                                                                 |[DET, ADJ, NOUN, ADP, NOUN, AUX, VERB, VERB, ADV, ADP, DET, NOUN, NOUN, NOUN]                                                                                                                                                                                                                                           |english |\n",
      "|stone was admitted to edinboro university of pennsylvania on a creative writing scholarship at age but quit college and moved to new york city to become a fashion model                                                                                                                                                                                                             |[stone, was, admitted, to, edinboro, university, of, pennsylvania, on, a, creative, writing, scholarship, at, age, but, quit, college, and, moved, to, new, york, city, to, become, a, fashion, model]                                                                                                                                                                                                                                         |[NOUN, AUX, VERB, ADP, VERB, NOUN, ADP, NOUN, ADP, DET, ADJ, NOUN, NOUN, ADP, NOUN, CCONJ, VERB, NOUN, CCONJ, VERB, ADP, ADJ, PROPN, NOUN, PART, VERB, DET, NOUN, NOUN]                                                                                                                                                 |english |\n",
      "|university of oklahoma press norman publishing division of the university by arrangement with oxford university press inc                                                                                                                                                                                                                                                            |[university, of, oklahoma, press, norman, publishing, division, of, the, university, by, arrangement, with, oxford, university, press, inc]                                                                                                                                                                                                                                                                                                    |[NOUN, ADP, ADJ, NOUN, NOUN, VERB, NOUN, ADP, DET, NOUN, ADP, NOUN, ADP, NOUN, NOUN, NOUN, NOUN]                                                                                                                                                                                                                        |english |\n",
      "|ingalls robert p herbert h lehman and new yorks little new deal new york university press scholarly history evaluation of lehmans governorship from                                                                                                                                                                                                                                  |[ingalls, robert, p, herbert, h, lehman, and, new, yorks, little, new, deal, new, york, university, press, scholarly, history, evaluation, of, lehmans, governorship, from]                                                                                                                                                                                                                                                                    |[VERB, NOUN, NOUN, X, X, NOUN, CCONJ, ADJ, ADJ, ADJ, ADJ, NOUN, ADJ, PROPN, ADJ, NOUN, ADV, NOUN, NOUN, ADP, PROPN, NOUN, ADP]                                                                                                                                                                                          |english |\n",
      "|despite these financial problems he attended the tokyo first middle school where he became acquainted with isamu yoshii                                                                                                                                                                                                                                                              |[despite, these, financial, problems, he, attended, the, tokyo, first, middle, school, where, he, became, acquainted, with, isamu, yoshii]                                                                                                                                                                                                                                                                                                     |[ADP, DET, ADJ, NOUN, PRON, VERB, DET, NOUN, ADV, NOUN, NOUN, ADV, PRON, AUX, VERB, ADP, NOUN, NOUN]                                                                                                                                                                                                                    |english |\n",
      "|as the man considered responsible for a number of attacks including the bombing of a childrens school bus near kfar darom in november and for the infiltration into an idf outpost in rafah that left several soldiers dead he was considered one of the most wanted palestinians on the idfs hitlist                                                                                |[as, the, man, considered, responsible, for, a, number, of, attacks, including, the, bombing, of, a, childrens, school, bus, near, kfar, darom, in, november, and, for, the, infiltration, into, an, idf, outpost, in, rafah, that, left, several, soldiers, dead, he, was, considered, one, of, the, most, wanted, palestinians, on, the, idfs, hitlist]                                                                                      |[ADP, DET, NOUN, VERB, ADJ, ADP, DET, NOUN, ADP, NOUN, VERB, DET, NOUN, ADP, DET, NOUN, NOUN, NOUN, ADP, ADV, ADP, ADP, PROPN, CCONJ, ADP, DET, NOUN, ADP, DET, ADJ, NOUN, ADP, NOUN, PRON, VERB, ADJ, NOUN, ADJ, PRON, AUX, VERB, NUM, ADP, DET, ADV, VERB, NOUN, ADP, DET, ADJ, NOUN]                                 |english |\n",
      "|in comparison other public schools in the region scored as holdenville wetumka konawa seminole varnum wewoka public schools was not marked as a school in need of improvement in this stategenerated report card                                                                                                                                                                     |[in, comparison, other, public, schools, in, the, region, scored, as, holdenville, wetumka, konawa, seminole, varnum, wewoka, public, schools, was, not, marked, as, a, school, in, need, of, improvement, in, this, stategenerated, report, card]                                                                                                                                                                                             |[ADP, NOUN, ADJ, ADJ, NOUN, ADP, DET, NOUN, VERB, ADP, X, X, X, X, NOUN, X, ADJ, NOUN, AUX, PART, VERB, ADP, DET, NOUN, ADP, NOUN, ADP, NOUN, ADP, DET, VERB, NOUN, NOUN]                                                                                                                                               |english |\n",
      "|simon snyder governor of pennsylvania amos alonzo stagg football coach served as an advisor at susquehanna university from to on april the worlds longest banana split was created in selinsgrove                                                                                                                                                                                    |[simon, snyder, governor, of, pennsylvania, amos, alonzo, stagg, football, coach, served, as, an, advisor, at, susquehanna, university, from, to, on, april, the, worlds, longest, banana, split, was, created, in, selinsgrove]                                                                                                                                                                                                               |[ADJ, NOUN, NOUN, ADP, NOUN, NOUN, NOUN, NOUN, NOUN, NOUN, VERB, ADP, DET, NOUN, ADP, NOUN, NOUN, ADP, PART, ADP, PROPN, DET, NOUN, ADJ, NOUN, NOUN, AUX, VERB, ADP, NOUN]                                                                                                                                              |english |\n",
      "|a lawyer john w mitchell provided for frémonts early education whereupon frémont in may entered charleston college teaching at intervals in the countryside but was expelled for irregular attendance in                                                                                                                                                                             |[a, lawyer, john, w, mitchell, provided, for, frémonts, early, education, whereupon, frémont, in, may, entered, charleston, college, teaching, at, intervals, in, the, countryside, but, was, expelled, for, irregular, attendance, in]                                                                                                                                                                                                        |[DET, ADJ, PROPN, PROPN, NOUN, VERB, ADP, NOUN, ADJ, NOUN, NOUN, NOUN, ADP, AUX, VERB, NOUN, NOUN, NOUN, ADP, NOUN, ADP, DET, NOUN, CCONJ, AUX, VERB, ADP, ADJ, NOUN, ADP]                                                                                                                                              |english |\n",
      "|r mushets special steel rms became the first highspeed steelsheffield steel and a century of commercial and technological independence by geoffrey tweedale cambridge university press pp                                                                                                                                                                                            |[r, mushets, special, steel, rms, became, the, first, highspeed, steelsheffield, steel, and, a, century, of, commercial, and, technological, independence, by, geoffrey, tweedale, cambridge, university, press, pp]                                                                                                                                                                                                                           |[AUX, VERB, ADJ, NOUN, NOUN, VERB, DET, ADJ, NOUN, NOUN, NOUN, CCONJ, DET, NOUN, ADP, ADJ, CCONJ, ADJ, NOUN, ADP, NOUN, NOUN, NOUN, NOUN, NOUN, NOUN]                                                                                                                                                                   |english |\n",
      "|mcmaths own account promises kept university of arkansas press contains a wealth of primary source material including in addition to the authors personal recollections photocopies of correspondence exchanged between him and president truman and others                                                                                                                          |[mcmaths, own, account, promises, kept, university, of, arkansas, press, contains, a, wealth, of, primary, source, material, including, in, addition, to, the, authors, personal, recollections, photocopies, of, correspondence, exchanged, between, him, and, president, truman, and, others]                                                                                                                                                |[NOUN, ADJ, NOUN, NOUN, VERB, NOUN, ADP, ADJ, NOUN, VERB, DET, NOUN, ADP, ADJ, NOUN, NOUN, VERB, ADP, NOUN, ADP, DET, NOUN, ADJ, NOUN, NOUN, ADP, NOUN, VERB, ADP, PRON, CCONJ, ADJ, NOUN, CCONJ, NOUN]                                                                                                                 |english |\n",
      "|their mascot is the gator and the school can harbour approximately students                                                                                                                                                                                                                                                                                                          |[their, mascot, is, the, gator, and, the, school, can, harbour, approximately, students]                                                                                                                                                                                                                                                                                                                                                       |[PRON, NOUN, AUX, DET, NOUN, CCONJ, DET, NOUN, AUX, VERB, ADV, NOUN]                                                                                                                                                                                                                                                    |english |\n",
      "|the school closed their building during the covid pandemic and currently only offers online classes and workshops                                                                                                                                                                                                                                                                    |[the, school, closed, their, building, during, the, covid, pandemic, and, currently, only, offers, online, classes, and, workshops]                                                                                                                                                                                                                                                                                                            |[DET, NOUN, VERB, PRON, NOUN, ADP, DET, NOUN, NOUN, CCONJ, ADV, ADV, VERB, ADV, NOUN, CCONJ, NOUN]                                                                                                                                                                                                                      |english |\n",
      "|the boys high school was founded in and the girls high school separated from it in                                                                                                                                                                                                                                                                                                   |[the, boys, high, school, was, founded, in, and, the, girls, high, school, separated, from, it, in]                                                                                                                                                                                                                                                                                                                                            |[DET, NOUN, ADJ, NOUN, AUX, VERB, ADP, CCONJ, DET, NOUN, ADJ, NOUN, VERB, ADP, PRON, ADP]                                                                                                                                                                                                                               |english |\n",
      "|in the early s and toward the beginning of the martial law years the university embarked on a build a greater silliman program in response to the growing student population and the corresponding need for more facilities                                                                                                                                                          |[in, the, early, s, and, toward, the, beginning, of, the, martial, law, years, the, university, embarked, on, a, build, a, greater, silliman, program, in, response, to, the, growing, student, population, and, the, corresponding, need, for, more, facilities]                                                                                                                                                                              |[ADP, DET, ADJ, NOUN, CCONJ, ADP, DET, NOUN, ADP, DET, ADJ, NOUN, NOUN, DET, NOUN, VERB, ADP, DET, NOUN, DET, ADJ, NOUN, NOUN, ADP, NOUN, ADP, DET, NOUN, NOUN, NOUN, CCONJ, DET, NOUN, VERB, ADP, ADJ, NOUN]                                                                                                           |english |\n",
      "|the rector has the main responsibility for the strategic direction and the overall administration of the university together with the senate and assisted by the administrative council                                                                                                                                                                                              |[the, rector, has, the, main, responsibility, for, the, strategic, direction, and, the, overall, administration, of, the, university, together, with, the, senate, and, assisted, by, the, administrative, council]                                                                                                                                                                                                                            |[DET, NOUN, VERB, DET, ADJ, NOUN, ADP, DET, ADJ, NOUN, CCONJ, DET, ADJ, NOUN, ADP, DET, NOUN, ADV, ADP, DET, NOUN, CCONJ, VERB, ADP, DET, ADJ, NOUN]                                                                                                                                                                    |english |\n",
      "|vietnamese government decree decree ndcp dated august identified three types of higher education đại học university which is a multidisciplinary institution offering fields of study and which has research capacities                                                                                                                                                              |[vietnamese, government, decree, decree, ndcp, dated, august, identified, three, types, of, higher, education, đại, học, university, which, is, a, multidisciplinary, institution, offering, fields, of, study, and, which, has, research, capacities]                                                                                                                                                                                         |[ADJ, NOUN, VERB, NOUN, NOUN, VERB, PROPN, VERB, NUM, NOUN, ADP, ADJ, NOUN, NOUN, NOUN, NOUN, PRON, AUX, DET, ADJ, NOUN, VERB, NOUN, ADP, NOUN, CCONJ, PRON, AUX, VERB, NOUN]                                                                                                                                           |english |\n",
      "|among custom bike builders indian larry was known and respected for having mastered the oldschool style of building and remaining loyal to itnichols cambridge                                                                                                                                                                                                                       |[among, custom, bike, builders, indian, larry, was, known, and, respected, for, having, mastered, the, oldschool, style, of, building, and, remaining, loyal, to, itnichols, cambridge]                                                                                                                                                                                                                                                        |[ADP, NOUN, NOUN, NOUN, ADJ, NOUN, AUX, VERB, CCONJ, VERB, SCONJ, AUX, VERB, DET, ADJ, NOUN, ADP, NOUN, CCONJ, VERB, ADJ, ADP, VERB, NOUN]                                                                                                                                                                              |english |\n",
      "|with students in grades through new jersey school directory for the cinnaminson township public schools new jersey department of education                                                                                                                                                                                                                                           |[with, students, in, grades, through, new, jersey, school, directory, for, the, cinnaminson, township, public, schools, new, jersey, department, of, education]                                                                                                                                                                                                                                                                                |[ADP, NOUN, ADP, NOUN, ADP, ADJ, NOUN, NOUN, NOUN, ADP, DET, NOUN, NOUN, ADJ, NOUN, ADJ, NOUN, NOUN, ADP, NOUN]                                                                                                                                                                                                         |english |\n",
      "|he established a series of schools based on these principles beginning in                                                                                                                                                                                                                                                                                                            |[he, established, a, series, of, schools, based, on, these, principles, beginning, in]                                                                                                                                                                                                                                                                                                                                                         |[PRON, VERB, DET, NOUN, ADP, NOUN, VERB, ADP, DET, NOUN, VERB, ADP]                                                                                                                                                                                                                                                     |english |\n",
      "|observations of huit mars as it is known locally in french vary from town to town ranging from small ceremonies or a day off school for girls only to a week of events that includes races contests and expositions by women s groups and ends with parades and communitywide celebrations                                                                                           |[observations, of, huit, mars, as, it, is, known, locally, in, french, vary, from, town, to, town, ranging, from, small, ceremonies, or, a, day, off, school, for, girls, only, to, a, week, of, events, that, includes, races, contests, and, expositions, by, women, s, groups, and, ends, with, parades, and, communitywide, celebrations]                                                                                                  |[NOUN, ADP, NOUN, NOUN, SCONJ, PRON, AUX, VERB, ADV, ADP, ADJ, NOUN, ADP, NOUN, ADP, NOUN, NOUN, ADP, ADJ, NOUN, CCONJ, DET, NOUN, ADP, NOUN, ADP, NOUN, ADV, ADP, DET, NOUN, ADP, NOUN, PRON, VERB, NOUN, NOUN, CCONJ, NOUN, ADP, NOUN, PART, NOUN, CCONJ, VERB, ADP, NOUN, CCONJ, NOUN, NOUN]                         |english |\n",
      "|hillcrest high school is a very ethnically diverse school with many different kinds of people living in and around the surrounding community including blacks arabs south asians somalis and whites                                                                                                                                                                                  |[hillcrest, high, school, is, a, very, ethnically, diverse, school, with, many, different, kinds, of, people, living, in, and, around, the, surrounding, community, including, blacks, arabs, south, asians, somalis, and, whites]                                                                                                                                                                                                             |[ADJ, ADJ, NOUN, AUX, DET, ADV, ADV, ADJ, NOUN, ADP, ADJ, ADJ, NOUN, ADP, NOUN, VERB, ADV, CCONJ, ADP, DET, VERB, NOUN, VERB, NOUN, ADP, PROPN, PROPN, PROPN, CCONJ, NOUN]                                                                                                                                              |english |\n",
      "|state university of new york press                                                                                                                                                                                                                                                                                                                                                   |[state, university, of, new, york, press]                                                                                                                                                                                                                                                                                                                                                                                                      |[NOUN, NOUN, ADP, ADJ, PROPN, NOUN]                                                                                                                                                                                                                                                                                     |english |\n",
      "|graduated from midwood high school and once resided at both avenue k and east th streetnewman andy and kilgannon corey                                                                                                                                                                                                                                                               |[graduated, from, midwood, high, school, and, once, resided, at, both, avenue, k, and, east, th, streetnewman, andy, and, kilgannon, corey]                                                                                                                                                                                                                                                                                                    |[VERB, ADP, NOUN, ADJ, NOUN, CCONJ, ADV, VERB, ADP, CCONJ, PROPN, NOUN, CCONJ, ADJ, NOUN, NOUN, NOUN, CCONJ, NOUN, NOUN]                                                                                                                                                                                                |english |\n",
      "|the beginning of the scientific revolution western new england college andreas vesalius published de humani corporis fabrica on the fabric of the human body in basel which revolutionised the science of human anatomy and the practice of medicine                                                                                                                                 |[the, beginning, of, the, scientific, revolution, western, new, england, college, andreas, vesalius, published, de, humani, corporis, fabrica, on, the, fabric, of, the, human, body, in, basel, which, revolutionised, the, science, of, human, anatomy, and, the, practice, of, medicine]                                                                                                                                                    |[DET, NOUN, ADP, DET, ADJ, NOUN, ADJ, ADJ, NOUN, NOUN, NOUN, NOUN, VERB, PROPN, X, NOUN, NOUN, ADP, DET, NOUN, ADP, DET, ADJ, NOUN, ADP, NOUN, PRON, VERB, DET, NOUN, ADP, ADJ, NOUN, CCONJ, DET, NOUN, ADP, NOUN]                                                                                                      |english |\n",
      "|university of pennsylvania glee club penn pipers penn sirens                                                                                                                                                                                                                                                                                                                         |[university, of, pennsylvania, glee, club, penn, pipers, penn, sirens]                                                                                                                                                                                                                                                                                                                                                                         |[NOUN, ADP, NOUN, NOUN, NOUN, NOUN, NOUN, VERB, NOUN]                                                                                                                                                                                                                                                                   |english |\n",
      "|being the experiences of cecil prendergast undergraduate of the university of oxford shewing how he was led through the pleasant paths of masochism to the supreme joys of sadism                                                                                                                                                                                                    |[being, the, experiences, of, cecil, prendergast, undergraduate, of, the, university, of, oxford, shewing, how, he, was, led, through, the, pleasant, paths, of, masochism, to, the, supreme, joys, of, sadism]                                                                                                                                                                                                                                |[AUX, DET, NOUN, ADP, NOUN, ADJ, NOUN, ADP, DET, NOUN, ADP, NOUN, VERB, ADV, PRON, AUX, VERB, ADP, DET, ADJ, NOUN, ADP, NOUN, ADP, DET, ADJ, NOUN, ADP, NOUN]                                                                                                                                                           |english |\n",
      "|he returned to montpellier in to a salaried chair in chemistry at the university where his lectures were quickly acclaimed                                                                                                                                                                                                                                                           |[he, returned, to, montpellier, in, to, a, salaried, chair, in, chemistry, at, the, university, where, his, lectures, were, quickly, acclaimed]                                                                                                                                                                                                                                                                                                |[PRON, VERB, ADP, NOUN, ADP, ADP, DET, ADJ, NOUN, ADP, NOUN, ADP, DET, NOUN, ADV, PRON, NOUN, AUX, ADV, VERB]                                                                                                                                                                                                           |english |\n",
      "|ecta a magnet school opened for the school year admitting only freshmen and sophomores las vegas high school the oldest of the four high schools opened in las vegas high school opened its new campus in and sunrise mountain high school was established in                                                                                                                        |[ecta, a, magnet, school, opened, for, the, school, year, admitting, only, freshmen, and, sophomores, las, vegas, high, school, the, oldest, of, the, four, high, schools, opened, in, las, vegas, high, school, opened, its, new, campus, in, and, sunrise, mountain, high, school, was, established, in]                                                                                                                                     |[VERB, DET, NOUN, NOUN, VERB, ADP, DET, NOUN, NOUN, VERB, ADV, NOUN, CCONJ, NOUN, NOUN, NOUN, ADJ, NOUN, DET, ADJ, ADP, DET, NUM, ADJ, NOUN, VERB, ADP, NOUN, NOUN, ADJ, NOUN, VERB, PRON, ADJ, NOUN, ADP, CCONJ, VERB, NOUN, ADJ, NOUN, AUX, VERB, ADP]                                                                |english |\n",
      "|further education is provided by warwickshire colleges leamington site and half of the campus of the university of warwick is found on the edge of the district                                                                                                                                                                                                                      |[further, education, is, provided, by, warwickshire, colleges, leamington, site, and, half, of, the, campus, of, the, university, of, warwick, is, found, on, the, edge, of, the, district]                                                                                                                                                                                                                                                    |[ADJ, NOUN, AUX, VERB, ADP, ADJ, NOUN, NOUN, NOUN, CCONJ, NOUN, ADP, DET, NOUN, ADP, DET, NOUN, ADP, NOUN, AUX, VERB, ADP, DET, NOUN, ADP, DET, NOUN]                                                                                                                                                                   |english |\n",
      "|goldfish also associated the company with columbia university via professor victor freeburgs photoplay writing class in to increase the companys artistic standings                                                                                                                                                                                                                  |[goldfish, also, associated, the, company, with, columbia, university, via, professor, victor, freeburgs, photoplay, writing, class, in, to, increase, the, companys, artistic, standings]                                                                                                                                                                                                                                                     |[NOUN, ADV, VERB, DET, NOUN, ADP, ADJ, NOUN, ADP, NOUN, NOUN, NOUN, NOUN, VERB, NOUN, ADP, PART, VERB, DET, NOUN, ADJ, NOUN]                                                                                                                                                                                            |english |\n",
      "|both the watsons and dixons belonged to the early school of methodists who did not renounce their membership in the church of england so that there was no feeling that dixon had been disloyal to their communion when he prepared for orders in the church                                                                                                                         |[both, the, watsons, and, dixons, belonged, to, the, early, school, of, methodists, who, did, not, renounce, their, membership, in, the, church, of, england, so, that, there, was, no, feeling, that, dixon, had, been, disloyal, to, their, communion, when, he, prepared, for, orders, in, the, church]                                                                                                                                     |[CCONJ, DET, NOUN, CCONJ, NOUN, VERB, ADP, DET, ADJ, NOUN, ADP, NOUN, PRON, AUX, PART, VERB, PRON, NOUN, ADP, DET, NOUN, ADP, NOUN, ADV, SCONJ, PRON, VERB, DET, NOUN, SCONJ, AUX, AUX, AUX, ADJ, ADP, PRON, NOUN, ADV, PRON, VERB, ADP, NOUN, ADP, DET, NOUN]                                                          |english |\n",
      "|it became the church of the university in                                                                                                                                                                                                                                                                                                                                            |[it, became, the, church, of, the, university, in]                                                                                                                                                                                                                                                                                                                                                                                             |[PRON, VERB, DET, NOUN, ADP, DET, NOUN, ADP]                                                                                                                                                                                                                                                                            |english |\n",
      "|st kevins college is located adjacent to platform                                                                                                                                                                                                                                                                                                                                    |[st, kevins, college, is, located, adjacent, to, platform]                                                                                                                                                                                                                                                                                                                                                                                     |[ADJ, NOUN, NOUN, AUX, VERB, ADJ, ADP, NOUN]                                                                                                                                                                                                                                                                            |english |\n",
      "|perseverance of the perpetual problem pertaining to preaching to public school pupils why it persists university of massachusetts law vol                                                                                                                                                                                                                                            |[perseverance, of, the, perpetual, problem, pertaining, to, preaching, to, public, school, pupils, why, it, persists, university, of, massachusetts, law, vol]                                                                                                                                                                                                                                                                                 |[NOUN, ADP, DET, ADJ, NOUN, VERB, SCONJ, VERB, ADP, ADJ, NOUN, NOUN, ADV, PRON, VERB, NOUN, ADP, ADJ, NOUN, NOUN]                                                                                                                                                                                                       |english |\n",
      "|los angeles university of california press                                                                                                                                                                                                                                                                                                                                           |[los, angeles, university, of, california, press]                                                                                                                                                                                                                                                                                                                                                                                              |[ADJ, NOUN, NOUN, ADP, PROPN, NOUN]                                                                                                                                                                                                                                                                                     |english |\n",
      "|the partyup is a threeperson attack that varies based on what school the character initiating the attack is from                                                                                                                                                                                                                                                                     |[the, partyup, is, a, threeperson, attack, that, varies, based, on, what, school, the, character, initiating, the, attack, is, from]                                                                                                                                                                                                                                                                                                           |[DET, NOUN, AUX, DET, NOUN, NOUN, PRON, NOUN, VERB, SCONJ, PRON, NOUN, DET, NOUN, VERB, DET, NOUN, AUX, ADP]                                                                                                                                                                                                            |english |\n",
      "+-------------------------------------------------------------------------------------------------------------------------------------------------------------------------------------------------------------------------------------------------------------------------------------------------------------------------------------------------------------------------------------+-----------------------------------------------------------------------------------------------------------------------------------------------------------------------------------------------------------------------------------------------------------------------------------------------------------------------------------------------------------------------------------------------------------------------------------------------+------------------------------------------------------------------------------------------------------------------------------------------------------------------------------------------------------------------------------------------------------------------------------------------------------------------------+--------+\n",
      "only showing top 100 rows\n",
      "\n"
     ]
    }
   ],
   "source": [
    "en = en.rdd.map(lambda x : (\" \".join(x.token), x.token, x.pos, \"english\")).toDF([\"original\",\"token\",\"tag\", \"language\"])\n",
    "en.show(100, False)\n"
   ]
  },
  {
   "cell_type": "code",
   "execution_count": 58,
   "id": "97d74104-f510-4267-9fc5-16b15f7907ca",
   "metadata": {},
   "outputs": [],
   "source": []
  },
  {
   "cell_type": "code",
   "execution_count": 59,
   "id": "9fdef521-7765-49d1-bffb-807e37168e56",
   "metadata": {
    "tags": []
   },
   "outputs": [
    {
     "name": "stderr",
     "output_type": "stream",
     "text": [
      "                                                                                \r"
     ]
    }
   ],
   "source": [
    "write_avro(en, \"output/9_WIKI_BI_TAG\")"
   ]
  }
 ],
 "metadata": {
  "kernelspec": {
   "display_name": "venv-spark",
   "language": "python",
   "name": "venv-spark"
  },
  "language_info": {
   "codemirror_mode": {
    "name": "ipython",
    "version": 3
   },
   "file_extension": ".py",
   "mimetype": "text/x-python",
   "name": "python",
   "nbconvert_exporter": "python",
   "pygments_lexer": "ipython3",
   "version": "3.9.13"
  }
 },
 "nbformat": 4,
 "nbformat_minor": 5
}
