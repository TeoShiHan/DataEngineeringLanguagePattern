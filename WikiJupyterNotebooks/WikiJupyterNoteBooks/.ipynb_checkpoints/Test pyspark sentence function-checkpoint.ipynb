{
 "cells": [
  {
   "cell_type": "code",
   "execution_count": 1,
   "id": "cb941049-eb89-4952-952b-6dce1634a80a",
   "metadata": {
    "tags": []
   },
   "outputs": [
    {
     "name": "stderr",
     "output_type": "stream",
     "text": [
      "Warning: Ignoring non-Spark config property: hive.metastore.uris\n"
     ]
    },
    {
     "name": "stdout",
     "output_type": "stream",
     "text": [
      ":: loading settings :: url = jar:file:/home/pc/TestJupyter/opt/spark-3.3.0/spark-3.3.0-bin-hadoop3/jars/ivy-2.5.0.jar!/org/apache/ivy/core/settings/ivysettings.xml\n"
     ]
    },
    {
     "name": "stderr",
     "output_type": "stream",
     "text": [
      "Ivy Default Cache set to: /home/pc/.ivy2/cache\n",
      "The jars for the packages stored in: /home/pc/.ivy2/jars\n",
      "org.apache.spark#spark-avro_2.12 added as a dependency\n",
      ":: resolving dependencies :: org.apache.spark#spark-submit-parent-ba7b81af-009b-4d4b-8d0c-994ac9d1c84e;1.0\n",
      "\tconfs: [default]\n",
      "\tfound org.apache.spark#spark-avro_2.12;3.3.0 in central\n",
      "\tfound org.tukaani#xz;1.8 in central\n",
      "\tfound org.spark-project.spark#unused;1.0.0 in central\n",
      ":: resolution report :: resolve 127ms :: artifacts dl 4ms\n",
      "\t:: modules in use:\n",
      "\torg.apache.spark#spark-avro_2.12;3.3.0 from central in [default]\n",
      "\torg.spark-project.spark#unused;1.0.0 from central in [default]\n",
      "\torg.tukaani#xz;1.8 from central in [default]\n",
      "\t---------------------------------------------------------------------\n",
      "\t|                  |            modules            ||   artifacts   |\n",
      "\t|       conf       | number| search|dwnlded|evicted|| number|dwnlded|\n",
      "\t---------------------------------------------------------------------\n",
      "\t|      default     |   3   |   0   |   0   |   0   ||   3   |   0   |\n",
      "\t---------------------------------------------------------------------\n",
      ":: retrieving :: org.apache.spark#spark-submit-parent-ba7b81af-009b-4d4b-8d0c-994ac9d1c84e\n",
      "\tconfs: [default]\n",
      "\t0 artifacts copied, 3 already retrieved (0kB/3ms)\n"
     ]
    },
    {
     "name": "stdout",
     "output_type": "stream",
     "text": [
      "22/10/04 04:10:50 WARN NativeCodeLoader: Unable to load native-hadoop library for your platform... using builtin-java classes where applicable\n"
     ]
    },
    {
     "name": "stderr",
     "output_type": "stream",
     "text": [
      "Setting default log level to \"WARN\".\n",
      "To adjust logging level use sc.setLogLevel(newLevel). For SparkR, use setLogLevel(newLevel).\n"
     ]
    },
    {
     "name": "stdout",
     "output_type": "stream",
     "text": [
      "22/10/04 04:10:50 WARN Utils: Service 'SparkUI' could not bind on port 4040. Attempting port 4041.\n"
     ]
    }
   ],
   "source": [
    "from connectPyspark import *\n",
    "from pyspark.sql.functions import sentences, lit, flatten\n",
    "from pyspark.sql.types import StringType, ArrayType\n",
    "from pyspark.sql.functions import col, udf, size, split"
   ]
  },
  {
   "cell_type": "code",
   "execution_count": 2,
   "id": "1717ee35-d17d-4649-892a-5aeb6db3996f",
   "metadata": {},
   "outputs": [
    {
     "name": "stderr",
     "output_type": "stream",
     "text": [
      "                                                                                \r"
     ]
    },
    {
     "name": "stdout",
     "output_type": "stream",
     "text": [
      "+------------------------------------------------------------------------------------------------------------------------------------------------------------------------------------------------------------------------------------------------------------------------------------------------------------------------------------------------------------------------------------------------------------------------------------------------------------------------------------------------------------------------------------------------------------------------------------------------------------------------------------------------------------------------------------------------------------------------------------------------------------------------------------------------------------------------------------------------------------------------------------------------------------------------------------------------------------------------------------------------------------------------------------------------------------------------------------------------------------------------------------------------------------------------------------------------------------------------------------------------------------------------------------------------------------------------------------------------------------------------------------------------------------------------------------------------+\n",
      "|sentences(string, en, US)                                                                                                                                                                                                                                                                                                                                                                                                                                                                                                                                                                                                                                                                                                                                                                                                                                                                                                                                                                                                                                                                                                                                                                                                                                                                                                                                                                                                                       |\n",
      "+------------------------------------------------------------------------------------------------------------------------------------------------------------------------------------------------------------------------------------------------------------------------------------------------------------------------------------------------------------------------------------------------------------------------------------------------------------------------------------------------------------------------------------------------------------------------------------------------------------------------------------------------------------------------------------------------------------------------------------------------------------------------------------------------------------------------------------------------------------------------------------------------------------------------------------------------------------------------------------------------------------------------------------------------------------------------------------------------------------------------------------------------------------------------------------------------------------------------------------------------------------------------------------------------------------------------------------------------------------------------------------------------------------------------------------------------+\n",
      "|[[臺灣人熟悉的母語和外語中, 示證式的用法不易見, 不過在跟漢語同屬漢藏語系的, 藏語, 就存在細緻的示證區別], [孫天心院士是國內少數精研藏語的專家, 就用示證形態特別豐富的, 達古藏語, 來為我們介紹這個有趣又有點燒腦的機制], [This, is, an, example, sentence, 河江肖剩的演講, 由, Abelon, 即席英語, 華語翻譯], [河江以他自己的研究經歷為主, 只有推論, 沒有結論], [演講過後有人提問, 從小就聽說金字塔是奴隸蓋的, 是否如此], [河江回答, 是不是奴隸不得而知, 只知它們吃得很好, 有麵包和肉, 魚, 攝取的卡路里足夠幹活], [Football, fans, died, in, the, arms, of, players, during, a, crush, at, Indonesia's, Kanjuruhan, stadium, the, home, team, coach, has, said, as, the, number, of, children, killed, in, the, tragedy, rose, to, 32], [Javier, Roca, said, the, crush, at, the, match, in, Java, in, which, 125, people, lost, their, lives, left, him, mentally, shattered], [Authorities, say, the, youngest, victim, of, Saturday's, disaster, was, just, three], [Some, 18, officers, are, being, investigated, after, police, fired, tear, gas, at, fans, who, invaded, the, pitch, when, the, match, ended.The, police, chief, in, the, city, of, Malang, where, the, game, was, played, has, been, sacked], [At, least, nine, other, officers, were, suspended], [你是會不會的, 我名不會], [http, 10.123.51.78, 8000, user, pc, lab, workspaces, auto-Y, tree, Assignment, Wikipedia, Main, Test, 20pyspark, 20sentence, 20function.ipynb]]|\n",
      "+------------------------------------------------------------------------------------------------------------------------------------------------------------------------------------------------------------------------------------------------------------------------------------------------------------------------------------------------------------------------------------------------------------------------------------------------------------------------------------------------------------------------------------------------------------------------------------------------------------------------------------------------------------------------------------------------------------------------------------------------------------------------------------------------------------------------------------------------------------------------------------------------------------------------------------------------------------------------------------------------------------------------------------------------------------------------------------------------------------------------------------------------------------------------------------------------------------------------------------------------------------------------------------------------------------------------------------------------------------------------------------------------------------------------------------------------+\n",
      "\n"
     ]
    }
   ],
   "source": [
    "s = \"\"\"\n",
    "臺灣人熟悉的母語和外語中，示證式的用法不易見，不過在跟漢語同屬漢藏語系的「藏語」，就存在細緻的示證區別。孫天心院士是國內少數精研藏語的專家，就用示證形態特別豐富的「達古藏語」，來為我們介紹這個有趣又有點燒腦的機制。\n",
    "\"This is an example sentence. \" 河江肖剩的演講，由 Abelon 即席英語、華語翻譯。河江以他自己的研究經歷為主，只有推論，沒有結論。演講過後有人提問：「從小就聽說金字塔是奴隸蓋的，是否如此？」河江回答：「是不是奴隸不得而知，只知它們吃得很好，有麵包和肉、魚，攝取的卡路里足夠幹活。 Football fans \"died in the arms\" of players during a crush at Indonesia's Kanjuruhan stadium, the home team coach has said, as the number of children killed in the tragedy rose to 32.\n",
    "Javier Roca said the crush at the match in Java, in which 125 people lost their lives, left him \"mentally shattered\". Authorities say the youngest victim of Saturday's disaster was just three.\n",
    "Some 18 officers are being investigated after police fired tear gas at fans who invaded the pitch when the match ended.The police chief in the city of Malang where the game was played has been sacked. \n",
    "At least nine other officers were suspended. 你是會不會的; 我名不會。http://10.123.51.78:8000/user/pc/lab/workspaces/auto-Y/tree/Assignment/Wikipedia/Main/Test%20pyspark%20sentence%20function.ipynb\n",
    "\"\"\"\n",
    "\n",
    "\n",
    "\n",
    "\n",
    "\n",
    "\n",
    "df = spark.createDataFrame([[s]], [\"string\"])\n",
    "df.select(sentences(df.string, lit(\"en\"), lit(\"US\"))).show(truncate=False)"
   ]
  }
 ],
 "metadata": {
  "kernelspec": {
   "display_name": "venv-spark",
   "language": "python",
   "name": "venv-spark"
  },
  "language_info": {
   "codemirror_mode": {
    "name": "ipython",
    "version": 3
   },
   "file_extension": ".py",
   "mimetype": "text/x-python",
   "name": "python",
   "nbconvert_exporter": "python",
   "pygments_lexer": "ipython3",
   "version": "3.9.13"
  }
 },
 "nbformat": 4,
 "nbformat_minor": 5
}
