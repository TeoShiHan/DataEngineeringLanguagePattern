{
 "cells": [
  {
   "cell_type": "code",
   "execution_count": 1,
   "id": "bfe786a1-72b1-4de2-a3bd-d6786812b656",
   "metadata": {
    "collapsed": true,
    "jupyter": {
     "outputs_hidden": true
    },
    "tags": []
   },
   "outputs": [
    {
     "name": "stderr",
     "output_type": "stream",
     "text": [
      "Warning: Ignoring non-Spark config property: hive.metastore.uris\n"
     ]
    },
    {
     "name": "stdout",
     "output_type": "stream",
     "text": [
      ":: loading settings :: url = jar:file:/home/pc/TestJupyter/opt/spark-3.3.0/spark-3.3.0-bin-hadoop3/jars/ivy-2.5.0.jar!/org/apache/ivy/core/settings/ivysettings.xml\n"
     ]
    },
    {
     "name": "stderr",
     "output_type": "stream",
     "text": [
      "Ivy Default Cache set to: /home/pc/.ivy2/cache\n",
      "The jars for the packages stored in: /home/pc/.ivy2/jars\n",
      "org.apache.spark#spark-avro_2.12 added as a dependency\n",
      ":: resolving dependencies :: org.apache.spark#spark-submit-parent-a00b88aa-71cb-4d4b-b3c7-ce75ee0bdead;1.0\n",
      "\tconfs: [default]\n",
      "\tfound org.apache.spark#spark-avro_2.12;3.3.0 in central\n",
      "\tfound org.tukaani#xz;1.8 in central\n",
      "\tfound org.spark-project.spark#unused;1.0.0 in central\n",
      ":: resolution report :: resolve 133ms :: artifacts dl 4ms\n",
      "\t:: modules in use:\n",
      "\torg.apache.spark#spark-avro_2.12;3.3.0 from central in [default]\n",
      "\torg.spark-project.spark#unused;1.0.0 from central in [default]\n",
      "\torg.tukaani#xz;1.8 from central in [default]\n",
      "\t---------------------------------------------------------------------\n",
      "\t|                  |            modules            ||   artifacts   |\n",
      "\t|       conf       | number| search|dwnlded|evicted|| number|dwnlded|\n",
      "\t---------------------------------------------------------------------\n",
      "\t|      default     |   3   |   0   |   0   |   0   ||   3   |   0   |\n",
      "\t---------------------------------------------------------------------\n",
      ":: retrieving :: org.apache.spark#spark-submit-parent-a00b88aa-71cb-4d4b-b3c7-ce75ee0bdead\n",
      "\tconfs: [default]\n",
      "\t0 artifacts copied, 3 already retrieved (0kB/3ms)\n"
     ]
    },
    {
     "name": "stdout",
     "output_type": "stream",
     "text": [
      "22/10/06 07:44:41 WARN NativeCodeLoader: Unable to load native-hadoop library for your platform... using builtin-java classes where applicable\n"
     ]
    },
    {
     "name": "stderr",
     "output_type": "stream",
     "text": [
      "Setting default log level to \"WARN\".\n",
      "To adjust logging level use sc.setLogLevel(newLevel). For SparkR, use setLogLevel(newLevel).\n"
     ]
    },
    {
     "name": "stdout",
     "output_type": "stream",
     "text": [
      "22/10/06 07:44:42 WARN Utils: Service 'SparkUI' could not bind on port 4040. Attempting port 4041.\n",
      "22/10/06 07:44:42 WARN Utils: Service 'SparkUI' could not bind on port 4041. Attempting port 4042.\n",
      "22/10/06 07:44:42 WARN Utils: Service 'SparkUI' could not bind on port 4042. Attempting port 4043.\n",
      "22/10/06 07:44:42 WARN Utils: Service 'SparkUI' could not bind on port 4043. Attempting port 4044.\n",
      "22/10/06 07:44:42 WARN Utils: Service 'SparkUI' could not bind on port 4044. Attempting port 4045.\n"
     ]
    }
   ],
   "source": [
    "from connectPyspark import *"
   ]
  },
  {
   "cell_type": "code",
   "execution_count": 3,
   "id": "961cefac-0685-41b4-951b-4200282b16e0",
   "metadata": {
    "collapsed": true,
    "jupyter": {
     "outputs_hidden": true
    },
    "tags": []
   },
   "outputs": [
    {
     "name": "stderr",
     "output_type": "stream",
     "text": [
      "                                                                                \r"
     ]
    },
    {
     "name": "stdout",
     "output_type": "stream",
     "text": [
      "+--------------------+--------------------+--------------------+--------+\n",
      "|            original|               token|                 tag|language|\n",
      "+--------------------+--------------------+--------------------+--------+\n",
      "|a bruns billy sun...|[a, bruns, billy,...|[DET, NOUN, ADV, ...| english|\n",
      "|mannix college at...|[mannix, college,...|[VERB, NOUN, ADP,...| english|\n",
      "|he applied himsel...|[he, applied, him...|[PRON, VERB, PRON...| english|\n",
      "|several politicia...|[several, politic...|[ADJ, NOUN, VERB,...| english|\n",
      "|his son ronson pl...|[his, son, ronson...|[PRON, NOUN, NOUN...| english|\n",
      "|the faculty of li...|[the, faculty, of...|[DET, NOUN, ADP, ...| english|\n",
      "|islam in the afri...|[islam, in, the, ...|[VERB, ADP, DET, ...| english|\n",
      "|boletín oficial t...|[boletín, oficial...|[VERB, ADJ, DET, ...| english|\n",
      "|these halls were ...|[these, halls, we...|[DET, NOUN, AUX, ...| english|\n",
      "|schools located i...|[schools, located...|[NOUN, VERB, ADP,...| english|\n",
      "|that same year ge...|[that, same, year...|[DET, ADJ, NOUN, ...| english|\n",
      "|lounsbury continu...|[lounsbury, conti...|[NOUN, VERB, PRON...| english|\n",
      "|suny geneseo move...|[suny, geneseo, m...|[NOUN, NOUN, VERB...| english|\n",
      "|in the case of ce...|[in, the, case, o...|[ADP, DET, NOUN, ...| english|\n",
      "|the school is loc...|[the, school, is,...|[DET, NOUN, AUX, ...| english|\n",
      "|built in the geor...|[built, in, the, ...|[VERB, ADP, DET, ...| english|\n",
      "|school districts ...|[school, district...|[NOUN, VERB, VERB...| english|\n",
      "|in the office of ...|[in, the, office,...|[ADP, DET, NOUN, ...| english|\n",
      "|talmadge was so u...|[talmadge, was, s...|[NOUN, AUX, ADV, ...| english|\n",
      "|perseverance of t...|[perseverance, of...|[NOUN, ADP, DET, ...| english|\n",
      "+--------------------+--------------------+--------------------+--------+\n",
      "only showing top 20 rows\n",
      "\n"
     ]
    },
    {
     "name": "stderr",
     "output_type": "stream",
     "text": [
      "                                                                                \r"
     ]
    },
    {
     "name": "stdout",
     "output_type": "stream",
     "text": [
      "+--------------------+--------------------+--------------------+--------+\n",
      "|            original|               token|                 tag|language|\n",
      "+--------------------+--------------------+--------------------+--------+\n",
      "|di sebelah barat ...|[di, sebelah, bar...|[ADP, ADP, NOUN, ...|   malay|\n",
      "|san maurizio dopa...|[san, maurizio, d...|[NOUN, PROPN, PRO...|   malay|\n",
      "|ogos penerbangan ...|[ogos, penerbanga...|[NOUN, NOUN, NOUN...|   malay|\n",
      "|di amstelveen ter...|[di, amstelveen, ...|[ADP, NOUN, VERB,...|   malay|\n",
      "|ianya mempunyai s...|[ianya, mempunyai...|[PRON, VERB, NOUN...|   malay|\n",
      "|pada sekolah mene...|[pada, sekolah, m...|[ADP, NOUN, NOUN,...|   malay|\n",
      "|ksour merupakan s...|[ksour, merupakan...|[NOUN, VERB, DET,...|   malay|\n",
      "|daerah sabinov wi...|[daerah, sabinov,...|[NOUN, NOUN, NOUN...|   malay|\n",
      "|kim jongmin mengh...|[kim, jongmin, me...|[PROPN, PROPN, VE...|   malay|\n",
      "|walaupun diarahka...|[walaupun, diarah...|[SCONJ, VERB, VER...|   malay|\n",
      "|kampung batu sera...|[kampung, batu, s...|[NOUN, NOUN, NOUN...|   malay|\n",
      "|sekolah ini telah...|[sekolah, ini, te...|[NOUN, DET, ADV, ...|   malay|\n",
      "|sempadan moden pe...|[sempadan, moden,...|[NOUN, ADJ, NOUN,...|   malay|\n",
      "|pendawaian semula...|[pendawaian, semu...|[NOUN, ADV, NOUN,...|   malay|\n",
      "|ialah komun di ja...|[ialah, komun, di...|[AUX, NOUN, ADP, ...|   malay|\n",
      "|dolná poruba meru...|[dolna, poruba, m...|[NOUN, NOUN, VERB...|   malay|\n",
      "|bandar bandar bar...|[bandar, bandar, ...|[NOUN, NOUN, ADJ,...|   malay|\n",
      "|senarai bandaraya...|[senarai, bandara...|[NOUN, NOUN, PROP...|   malay|\n",
      "|chelsea meninggal...|[chelsea, meningg...|[PROPN, VERB, NOU...|   malay|\n",
      "|secara amnya amal...|[secara, amnya, a...|[ADP, NOUN, NOUN,...|   malay|\n",
      "+--------------------+--------------------+--------------------+--------+\n",
      "only showing top 20 rows\n",
      "\n"
     ]
    },
    {
     "name": "stderr",
     "output_type": "stream",
     "text": [
      "[Stage 6:=========>                                               (3 + 16) / 19]\r"
     ]
    },
    {
     "name": "stdout",
     "output_type": "stream",
     "text": [
      "+-------------------------------------+------------------------------+--------------------+--------------------+--------+\n",
      "|                             original|                         token|                 tag|          normal_tag|language|\n",
      "+-------------------------------------+------------------------------+--------------------+--------------------+--------+\n",
      "| 克什克腾旗渔场 是中国内蒙古自治区...|[克什克腾旗, 渔场, 是, 中国...|[ns, n, v, ns, ns...|[PROPN, NOUN, VER...| chinese|\n",
      "| 在年亚洲杯决赛 中国对日本的比赛中...|  [在, 年, 亚洲杯, 决赛, 中...|[p, m, nz, n, ns,...|[ADP, m, PROPN, N...| chinese|\n",
      "|中国国家跳水队在此站再次囊括全部十...|  [中国, 国家, 跳水队, 在, ...|[ns, n, n, p, r, ...|[PROPN, NOUN, NOU...| chinese|\n",
      "|  每当一段时间 香港的巴士公司 为改...| [每当, 一段时间, 香港, 的,...|[p, l, ns, uj, ns...|[ADP, UNKNOWN, PR...| chinese|\n",
      "|       杨渡在年月日 中国时报 转型正义|[杨渡, 在, 年月日, 中国时报...|[nr, p, t, nt, n, n]|[PROPN, ADP, t, P...| chinese|\n",
      "|河姆渡出土陶灶是中国禁止出境展览文...|  [河姆渡, 出土, 陶, 灶, 是...|[ns, v, nr, n, v,...|[PROPN, VERB, PRO...| chinese|\n",
      "|与杜鹃相关的雨带为香港带来狂风大雨...|  [与, 杜鹃, 相关, 的, 雨带...|[p, nr, v, uj, n,...|[ADP, PROPN, VERB...| chinese|\n",
      "| 中央人民政府驻香港机构 指中华人民...|[中央人民政府, 驻, 香港, 机...|[nt, v, ns, n, n,...|[PROPN, VERB, PRO...| chinese|\n",
      "|           年加入中国共产党并参加工作| [年, 加入, 中国共产党, 并,...|[m, v, nt, c, v, vn]|[m, VERB, PROPN, ...| chinese|\n",
      "|   自由幻想 中 也有不少中国元素 如...|   [自由, 幻想, 中, 也, 有,...|[a, n, f, d, v, d...|[ADJ, NOUN, f, AD...| chinese|\n",
      "|  唐嫣 王嘉 被张艺谋从中戏选中赴雅...|  [唐嫣, 王嘉, 被, 张艺谋, ...|[nrfg, nr, p, nr,...|[NOUN, PROPN, ADP...| chinese|\n",
      "| 年月日 黎氏因其对香港社会的长期贡...|  [年月日, 黎氏, 因其, 对, ...|[t, nr, c, p, ns,...|[t, PROPN, CONJ, ...| chinese|\n",
      "|年月日台湾地方自治联盟成立于台中醉...| [年月日, 台湾, 地方, 自治,...|[t, ns, n, v, j, ...|[t, PROPN, NOUN, ...| chinese|\n",
      "|              love promises 是香港...|          [love, promises, ...|[eng, eng, v, ns,...|[X, X, VERB, PROP...| chinese|\n",
      "|     月日包括北大未名 bbs 西交兵马...|   [月, 日, 包括, 北大, 未,...|[m, m, v, j, d, q...|[m, m, VERB, NOUN...| chinese|\n",
      "| 池州市第十中学 前称贵池中学秋浦分...|  [池州市, 第十, 中学, 前, ...|[ns, m, n, f, v, ...|[PROPN, m, NOUN, ...| chinese|\n",
      "|               marcel granet 着 赵...|          [marcel, granet, ...|[eng, eng, uz, nr...|[X, X, U, PROPN, ...| chinese|\n",
      "| 宴会上 路易十四询问沉福宗如何使用...| [宴会, 上, 路易十四, 询问,...|[n, f, nrt, v, a,...|[NOUN, f, NOUN, V...| chinese|\n",
      "|  网友翻唱 国足欢迎你 辛辣嘲讽国足...|  [网友, 翻唱, 国, 足, 欢迎...|[n, v, n, a, v, r...|[NOUN, VERB, NOUN...| chinese|\n",
      "|洪醒夫是战后台湾乡土小说家的代表之...|  [洪醒夫, 是, 战后, 台湾, ...|[nr, v, t, ns, n,...|[PROPN, VERB, t, ...| chinese|\n",
      "+-------------------------------------+------------------------------+--------------------+--------------------+--------+\n",
      "only showing top 20 rows\n",
      "\n"
     ]
    },
    {
     "name": "stderr",
     "output_type": "stream",
     "text": [
      "                                                                                \r"
     ]
    }
   ],
   "source": [
    "bi.show()\n",
    "bm.show()\n",
    "bc.show()"
   ]
  },
  {
   "cell_type": "code",
   "execution_count": 2,
   "id": "4ff3bc5c-333a-4cad-a128-8053481abaac",
   "metadata": {},
   "outputs": [],
   "source": [
    "bm = read_avro(\"output/9_WIKI_BM_TAG\")\n",
    "bc = read_avro(\"output/9_WIKI_CHI_TAG\")\n",
    "bi = read_avro(\"output/9_WIKI_BI_TAG\")\n",
    "\n",
    "bm =bm.repartition(60)\n",
    "bc =bc.repartition(60)\n",
    "bi =bi.repartition(60)"
   ]
  },
  {
   "cell_type": "code",
   "execution_count": null,
   "id": "baa9aa4a-04ca-4dc1-b056-7dfa3b9ff945",
   "metadata": {},
   "outputs": [],
   "source": []
  },
  {
   "cell_type": "code",
   "execution_count": 4,
   "id": "2a02a468-cf75-4b44-a2b0-df3580b452fe",
   "metadata": {},
   "outputs": [],
   "source": [
    "from functools import reduce  # For Python 3.x\n",
    "from pyspark.sql import DataFrame\n",
    "\n",
    "merged = bm.unionByName(bc, allowMissingColumns=True)"
   ]
  },
  {
   "cell_type": "code",
   "execution_count": 5,
   "id": "46bf6ad7-9128-481f-82d2-1a3ca8bc811a",
   "metadata": {},
   "outputs": [],
   "source": [
    "merged2 = merged.unionByName(bi, allowMissingColumns=True)"
   ]
  },
  {
   "cell_type": "code",
   "execution_count": 6,
   "id": "1c52ff0b-5be0-47d5-b0f7-5f81601119dd",
   "metadata": {
    "collapsed": true,
    "jupyter": {
     "outputs_hidden": true
    },
    "tags": []
   },
   "outputs": [
    {
     "name": "stderr",
     "output_type": "stream",
     "text": [
      "[Stage 11:============================================>           (16 + 4) / 20]\r"
     ]
    },
    {
     "name": "stdout",
     "output_type": "stream",
     "text": [
      "+--------------------+--------------------+--------------------+--------+----------+\n",
      "|            original|               token|                 tag|language|normal_tag|\n",
      "+--------------------+--------------------+--------------------+--------+----------+\n",
      "|di sebelah barat ...|[di, sebelah, bar...|[ADP, ADP, NOUN, ...|   malay|      null|\n",
      "|san maurizio dopa...|[san, maurizio, d...|[NOUN, PROPN, PRO...|   malay|      null|\n",
      "|ogos penerbangan ...|[ogos, penerbanga...|[NOUN, NOUN, NOUN...|   malay|      null|\n",
      "|di amstelveen ter...|[di, amstelveen, ...|[ADP, NOUN, VERB,...|   malay|      null|\n",
      "|ianya mempunyai s...|[ianya, mempunyai...|[PRON, VERB, NOUN...|   malay|      null|\n",
      "|pada sekolah mene...|[pada, sekolah, m...|[ADP, NOUN, NOUN,...|   malay|      null|\n",
      "|ksour merupakan s...|[ksour, merupakan...|[NOUN, VERB, DET,...|   malay|      null|\n",
      "|daerah sabinov wi...|[daerah, sabinov,...|[NOUN, NOUN, NOUN...|   malay|      null|\n",
      "|kim jongmin mengh...|[kim, jongmin, me...|[PROPN, PROPN, VE...|   malay|      null|\n",
      "|walaupun diarahka...|[walaupun, diarah...|[SCONJ, VERB, VER...|   malay|      null|\n",
      "|kampung batu sera...|[kampung, batu, s...|[NOUN, NOUN, NOUN...|   malay|      null|\n",
      "|sekolah ini telah...|[sekolah, ini, te...|[NOUN, DET, ADV, ...|   malay|      null|\n",
      "|sempadan moden pe...|[sempadan, moden,...|[NOUN, ADJ, NOUN,...|   malay|      null|\n",
      "|pendawaian semula...|[pendawaian, semu...|[NOUN, ADV, NOUN,...|   malay|      null|\n",
      "|ialah komun di ja...|[ialah, komun, di...|[AUX, NOUN, ADP, ...|   malay|      null|\n",
      "|dolná poruba meru...|[dolna, poruba, m...|[NOUN, NOUN, VERB...|   malay|      null|\n",
      "|bandar bandar bar...|[bandar, bandar, ...|[NOUN, NOUN, ADJ,...|   malay|      null|\n",
      "|senarai bandaraya...|[senarai, bandara...|[NOUN, NOUN, PROP...|   malay|      null|\n",
      "|chelsea meninggal...|[chelsea, meningg...|[PROPN, VERB, NOU...|   malay|      null|\n",
      "|secara amnya amal...|[secara, amnya, a...|[ADP, NOUN, NOUN,...|   malay|      null|\n",
      "+--------------------+--------------------+--------------------+--------+----------+\n",
      "only showing top 20 rows\n",
      "\n"
     ]
    },
    {
     "name": "stderr",
     "output_type": "stream",
     "text": [
      "                                                                                \r"
     ]
    }
   ],
   "source": [
    "merged2.show()\n",
    "\n",
    "\n",
    "# 🆂🅰🅼🅿🅻🅴"
   ]
  },
  {
   "cell_type": "code",
   "execution_count": 10,
   "id": "cbdbf817-c876-4d4c-85ee-2ca436fa52d0",
   "metadata": {},
   "outputs": [
    {
     "name": "stderr",
     "output_type": "stream",
     "text": [
      "                                                                                \r"
     ]
    }
   ],
   "source": [
    "write_avro(merged2, \"output/10_MERGE_TAG\")"
   ]
  },
  {
   "cell_type": "code",
   "execution_count": 9,
   "id": "cfa30caa-f8eb-473d-bb74-1b5e402c862c",
   "metadata": {},
   "outputs": [
    {
     "name": "stderr",
     "output_type": "stream",
     "text": [
      "[Stage 23:=====>                                                  (2 + 18) / 20]\r"
     ]
    },
    {
     "name": "stdout",
     "output_type": "stream",
     "text": [
      "+--------------------+--------------------+--------------------+--------+----------+\n",
      "|            original|               token|                 tag|language|normal_tag|\n",
      "+--------------------+--------------------+--------------------+--------+----------+\n",
      "|a bruns billy sun...|[a, bruns, billy,...|[DET, NOUN, ADV, ...| english|      null|\n",
      "|mannix college at...|[mannix, college,...|[VERB, NOUN, ADP,...| english|      null|\n",
      "|he applied himsel...|[he, applied, him...|[PRON, VERB, PRON...| english|      null|\n",
      "|several politicia...|[several, politic...|[ADJ, NOUN, VERB,...| english|      null|\n",
      "|his son ronson pl...|[his, son, ronson...|[PRON, NOUN, NOUN...| english|      null|\n",
      "|the faculty of li...|[the, faculty, of...|[DET, NOUN, ADP, ...| english|      null|\n",
      "|islam in the afri...|[islam, in, the, ...|[VERB, ADP, DET, ...| english|      null|\n",
      "|boletín oficial t...|[boletín, oficial...|[VERB, ADJ, DET, ...| english|      null|\n",
      "|these halls were ...|[these, halls, we...|[DET, NOUN, AUX, ...| english|      null|\n",
      "|schools located i...|[schools, located...|[NOUN, VERB, ADP,...| english|      null|\n",
      "|that same year ge...|[that, same, year...|[DET, ADJ, NOUN, ...| english|      null|\n",
      "|lounsbury continu...|[lounsbury, conti...|[NOUN, VERB, PRON...| english|      null|\n",
      "|suny geneseo move...|[suny, geneseo, m...|[NOUN, NOUN, VERB...| english|      null|\n",
      "|in the case of ce...|[in, the, case, o...|[ADP, DET, NOUN, ...| english|      null|\n",
      "|the school is loc...|[the, school, is,...|[DET, NOUN, AUX, ...| english|      null|\n",
      "|built in the geor...|[built, in, the, ...|[VERB, ADP, DET, ...| english|      null|\n",
      "|school districts ...|[school, district...|[NOUN, VERB, VERB...| english|      null|\n",
      "|in the office of ...|[in, the, office,...|[ADP, DET, NOUN, ...| english|      null|\n",
      "|talmadge was so u...|[talmadge, was, s...|[NOUN, AUX, ADV, ...| english|      null|\n",
      "|perseverance of t...|[perseverance, of...|[NOUN, ADP, DET, ...| english|      null|\n",
      "+--------------------+--------------------+--------------------+--------+----------+\n",
      "only showing top 20 rows\n",
      "\n"
     ]
    },
    {
     "name": "stderr",
     "output_type": "stream",
     "text": [
      "                                                                                \r"
     ]
    }
   ],
   "source": [
    "merged2.filter(merged2.language == \"english\").show()\n"
   ]
  }
 ],
 "metadata": {
  "kernelspec": {
   "display_name": "venv-spark",
   "language": "python",
   "name": "venv-spark"
  },
  "language_info": {
   "codemirror_mode": {
    "name": "ipython",
    "version": 3
   },
   "file_extension": ".py",
   "mimetype": "text/x-python",
   "name": "python",
   "nbconvert_exporter": "python",
   "pygments_lexer": "ipython3",
   "version": "3.9.13"
  }
 },
 "nbformat": 4,
 "nbformat_minor": 5
}
