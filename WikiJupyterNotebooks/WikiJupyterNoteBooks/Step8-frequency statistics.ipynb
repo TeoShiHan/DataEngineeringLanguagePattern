{
 "cells": [
  {
   "cell_type": "code",
   "execution_count": 1,
   "id": "0d219a20-7059-4f5c-b90d-2c7fcef21870",
   "metadata": {
    "tags": []
   },
   "outputs": [
    {
     "name": "stderr",
     "output_type": "stream",
     "text": [
      "Warning: Ignoring non-Spark config property: hive.metastore.uris\n"
     ]
    },
    {
     "name": "stdout",
     "output_type": "stream",
     "text": [
      ":: loading settings :: url = jar:file:/home/pc/TestJupyter/opt/spark-3.3.0/spark-3.3.0-bin-hadoop3/jars/ivy-2.5.0.jar!/org/apache/ivy/core/settings/ivysettings.xml\n"
     ]
    },
    {
     "name": "stderr",
     "output_type": "stream",
     "text": [
      "Ivy Default Cache set to: /home/pc/.ivy2/cache\n",
      "The jars for the packages stored in: /home/pc/.ivy2/jars\n",
      "org.apache.spark#spark-avro_2.12 added as a dependency\n",
      ":: resolving dependencies :: org.apache.spark#spark-submit-parent-76bc52c4-3280-4900-8222-b3c17769544b;1.0\n",
      "\tconfs: [default]\n",
      "\tfound org.apache.spark#spark-avro_2.12;3.3.0 in central\n",
      "\tfound org.tukaani#xz;1.8 in central\n",
      "\tfound org.spark-project.spark#unused;1.0.0 in central\n",
      ":: resolution report :: resolve 333ms :: artifacts dl 34ms\n",
      "\t:: modules in use:\n",
      "\torg.apache.spark#spark-avro_2.12;3.3.0 from central in [default]\n",
      "\torg.spark-project.spark#unused;1.0.0 from central in [default]\n",
      "\torg.tukaani#xz;1.8 from central in [default]\n",
      "\t---------------------------------------------------------------------\n",
      "\t|                  |            modules            ||   artifacts   |\n",
      "\t|       conf       | number| search|dwnlded|evicted|| number|dwnlded|\n",
      "\t---------------------------------------------------------------------\n",
      "\t|      default     |   3   |   0   |   0   |   0   ||   3   |   0   |\n",
      "\t---------------------------------------------------------------------\n",
      ":: retrieving :: org.apache.spark#spark-submit-parent-76bc52c4-3280-4900-8222-b3c17769544b\n",
      "\tconfs: [default]\n",
      "\t0 artifacts copied, 3 already retrieved (0kB/4ms)\n"
     ]
    },
    {
     "name": "stdout",
     "output_type": "stream",
     "text": [
      "22/10/08 03:34:58 WARN NativeCodeLoader: Unable to load native-hadoop library for your platform... using builtin-java classes where applicable\n"
     ]
    },
    {
     "name": "stderr",
     "output_type": "stream",
     "text": [
      "Setting default log level to \"WARN\".\n",
      "To adjust logging level use sc.setLogLevel(newLevel). For SparkR, use setLogLevel(newLevel).\n"
     ]
    }
   ],
   "source": [
    "import os\n",
    "\n",
    "import findspark\n",
    "findspark.init(\"/home/pc/TestJupyter/opt/spark-3.3.0/spark-3.3.0-bin-hadoop3\")\n",
    "import pyspark\n",
    "from pyspark.context import SparkContext\n",
    "from pyspark.sql import HiveContext\n",
    "from pyspark.sql import SparkSession\n",
    "from pyspark.sql import Row\n",
    "\n",
    "\n",
    "# warehouse_location points to the default location for managed databases and tables\n",
    "os.environ[\"PYSPARK_PYTHON\"]=\"/home/pc/TestJupyter/opt/spark-3.3.0/venv-spark/bin/python39\"\n",
    "os.environ['PYSPARK_SUBMIT_ARGS'] = '--packages org.apache.spark:spark-avro_2.12:3.3.0  pyspark-shell'\n",
    "\n",
    "spark = SparkSession \\\n",
    "    .builder \\\n",
    "    .appName(\"Python Spark SQL Hive integration example\") \\\n",
    "    .config(\"spark.driver.memory\", \"75g\")\\\n",
    "    .config(\"spark.sql.warehouse.dir\", \"hdfs://10.123.51.78:8000/user/hive/warehouse\") \\\n",
    "    .config(\"spark.sql.catalogImplementation\", \"hive\")\\\n",
    "    .config(\"hive.metastore.uris\", \"thrift://g2.bigtop.it:9083\")\\\n",
    "    .enableHiveSupport() \\\n",
    "    .getOrCreate()\n",
    "\n",
    "def read_avro(path):\n",
    "    return spark.read.format(\"avro\").load(path)\n",
    "\n",
    "def write_avro(df, path):\n",
    "    return df.write.format(\"avro\").save(path)"
   ]
  },
  {
   "cell_type": "code",
   "execution_count": 2,
   "id": "749a45ce-dc7d-487d-8230-8f9716d5479d",
   "metadata": {},
   "outputs": [],
   "source": [
    "def q(query):\n",
    "    return spark.sql(query)"
   ]
  },
  {
   "cell_type": "code",
   "execution_count": 3,
   "id": "7113fc83-5559-46e7-9368-4c174c61d230",
   "metadata": {
    "collapsed": true,
    "jupyter": {
     "outputs_hidden": true
    },
    "tags": []
   },
   "outputs": [
    {
     "name": "stdout",
     "output_type": "stream",
     "text": [
      "+---------+---------------------------+-----------+\n",
      "|namespace|tableName                  |isTemporary|\n",
      "+---------+---------------------------+-----------+\n",
      "|default  |books_ext                  |false      |\n",
      "|default  |source_data                |false      |\n",
      "|default  |tag_gram_ranking           |false      |\n",
      "|default  |tag_gram_ranking_small     |false      |\n",
      "|default  |transaction_detail_hive_tbl|false      |\n",
      "|default  |wiki_gram                  |false      |\n",
      "+---------+---------------------------+-----------+\n",
      "\n"
     ]
    }
   ],
   "source": [
    "q(\"show tables;\").show(100, False)"
   ]
  },
  {
   "cell_type": "code",
   "execution_count": 36,
   "id": "c9948bf3-0285-4868-ad1b-4ac2d03709e7",
   "metadata": {},
   "outputs": [],
   "source": [
    "df = read_avro(\"output/25_CENTER_DETERMINED\")\n",
    "df = df.repartition(1200)"
   ]
  },
  {
   "cell_type": "code",
   "execution_count": 4,
   "id": "05d564b0-eec9-4191-ad1b-2dce5388e9a5",
   "metadata": {
    "collapsed": true,
    "jupyter": {
     "outputs_hidden": true
    },
    "tags": []
   },
   "outputs": [
    {
     "name": "stderr",
     "output_type": "stream",
     "text": [
      "[Stage 0:>                                                        (0 + 20) / 20]\r"
     ]
    },
    {
     "name": "stdout",
     "output_type": "stream",
     "text": [
      "+------------+--------------------+--------------------+--------+--------------------+----------+---+------------------+----------+---------+-----------+-----------+----------+\n",
      "| sentence_id|            original|                 tag|language|               token|normal_tag|pos|        token_gram|  tag_gram|gram_type|  unique_id|containsKey|middle_key|\n",
      "+------------+--------------------+--------------------+--------+--------------------+----------+---+------------------+----------+---------+-----------+-----------+----------+\n",
      "|446676611706|răsuceni merupaka...|[PROPN, VERB, DET...|   malay|[rasuceni, merupa...|      null|  3|        komun yang| NOUN PRON|        2|68720377715|       true|     false|\n",
      "| 85899359585|sekolah kebangsaa...|[NOUN, PROPN, PRO...|   malay|[sekolah, kebangs...|      null|  3|         barat sek| NOUN NOUN|        2|25770715767|       true|     false|\n",
      "|214748377137|sejumlah kuasa te...|[DET, NOUN, ADV, ...|   malay|[sejumlah, kuasa,...|      null| 15|        barat akan| PROPN ADV|        2|25770393142|       true|     false|\n",
      "|274877920330|pada tahun daerah...|[ADP, NOUN, NOUN,...|   malay|[pada, tahun, dae...|      null|  2|        daerah ini|  NOUN DET|        2|77309709828|       true|     false|\n",
      "| 85899358314|komun di jabatan ...|[NOUN, ADP, NOUN,...|   malay|[komun, di, jabat...|      null|  5|       komun insee|NOUN PROPN|        2|25770698336|       true|     false|\n",
      "|438086677918|komun di jabatan ...|[VERB, ADP, NOUN,...|   malay|[komun, di, jabat...|      null|  0|          komun di|  VERB ADP|        2|68720084373|       true|     false|\n",
      "|197568508630|starý hrádok meru...|[PROPN, PROPN, VE...|   malay|[stary, hradok, m...|      null| 11|     daerah levice|NOUN PROPN|        2|17180470191|       true|     false|\n",
      "|274877919949|sekolah dasar neg...|[NOUN, ADJ, NOUN,...|   malay|[sekolah, dasar, ...|      null|  0|     sekolah dasar|  NOUN ADJ|        2|77309704589|       true|     false|\n",
      "| 51539620236|nama bagi laluan ...|[NOUN, ADP, NOUN,...|   malay|[nama, bagi, lalu...|      null| 14|   kampung tanjung|NOUN PROPN|        2|17180159679|       true|     false|\n",
      "|214748377475|hlubočky merupaka...|[PROPN, VERB, DET...|   malay|[hlubocky, merupa...|      null|  3|       kampung dan|NOUN CCONJ|        2|25770397697|       true|     false|\n",
      "|438086676389|pethanaickenpalay...|[PROPN, AUX, DET,...|   malay|[pethanaickenpala...|      null|  6|      daerah salem|NOUN PROPN|        2|68720062998|       true|     false|\n",
      "|455266546285|ialah komun di ja...|[AUX, NOUN, ADP, ...|   malay|[ialah, komun, di...|      null| 10|    utara perancis| NOUN NOUN|        2|77310007318|       true|     false|\n",
      "|455266546641|poskod yang digun...|[NOUN, PRON, VERB...|   malay|[poskod, yang, di...|      null|  4|     kampung bukit|NOUN PROPN|        2|77310012270|       true|     false|\n",
      "|223338311793|apabila baginda p...|[SCONJ, PROPN, VE...|   malay|[apabila, baginda...|      null| 17|       utara telah| PROPN ADV|        2|17180766184|       true|     false|\n",
      "| 85899358500|buttigliera alta ...|[NOUN, PROPN, VER...|   malay|[buttigliera, alt...|      null|  4|         komun dan|NOUN CCONJ|        2|25770700960|       true|     false|\n",
      "|214748377358|sekolah kebangsaa...|[NOUN, NOUN, NOUN...|   malay|[sekolah, kebangs...|      null| 10|sekolah kebangsaan| NOUN NOUN|        2|25770396120|       true|     false|\n",
      "|309237657119|perak dibahagikan...|[PROPN, VERB, ADP...|   malay|[perak, dibahagik...|      null|  8|daerah dibahagikan| NOUN VERB|        2|77310295453|       true|     false|\n",
      "|438086677446|ghatanji ialah se...|[PROPN, AUX, DET,...|   malay|[ghatanji, ialah,...|      null|  8|   daerah yavatmal| NOUN NOUN|        2|68720077882|       true|     false|\n",
      "| 94489293207|tambora merupakan...|[PROPN, VERB, DET...|   malay|[tambora, merupak...|      null|  9|   barat indonesia|NOUN PROPN|        2|25770093154|       true|     false|\n",
      "|214748378351|tófej merupakan s...|[PROPN, VERB, DET...|   malay|[tofej, merupakan...|      null|  3|      kampung yang| NOUN PRON|        2|25770409681|       true|     false|\n",
      "+------------+--------------------+--------------------+--------+--------------------+----------+---+------------------+----------+---------+-----------+-----------+----------+\n",
      "only showing top 20 rows\n",
      "\n"
     ]
    },
    {
     "name": "stderr",
     "output_type": "stream",
     "text": [
      "                                                                                \r"
     ]
    }
   ],
   "source": [
    "bmData = df.filter(df.language == \"malay\")\n",
    "bmData.show()"
   ]
  },
  {
   "cell_type": "code",
   "execution_count": 5,
   "id": "34df2691-1bdd-42a9-85a1-2ff2bd4a3308",
   "metadata": {
    "collapsed": true,
    "jupyter": {
     "outputs_hidden": true
    },
    "tags": []
   },
   "outputs": [
    {
     "name": "stderr",
     "output_type": "stream",
     "text": [
      "[Stage 3:=====================================>                   (13 + 7) / 20]\r"
     ]
    },
    {
     "name": "stdout",
     "output_type": "stream",
     "text": [
      "+------------+--------------------+--------------------+--------+--------------------+----------+---+--------------------+----------+---------+-----------+-----------+----------+\n",
      "| sentence_id|            original|                 tag|language|               token|normal_tag|pos|          token_gram|  tag_gram|gram_type|  unique_id|containsKey|middle_key|\n",
      "+------------+--------------------+--------------------+--------+--------------------+----------+---+--------------------+----------+---------+-----------+-----------+----------+\n",
      "|274877917960|englewood high sc...|[VERB, ADJ, NOUN,...| english|[englewood, high,...|      null|  6|  school unification| NOUN NOUN|        2|77309669822|       true|     false|\n",
      "|481036347329|tyagaraja aradhan...|[NOUN, NOUN, NOUN...| english|[tyagaraja, aradh...|      null| 18|          school run| NOUN VERB|        2|68719716311|       true|     false|\n",
      "| 85899354447|the cultural and ...|[DET, ADJ, CCONJ,...| english|[the, cultural, a...|      null| 19|       university of|  NOUN ADP|        2|25770616139|       true|     false|\n",
      "|309237656303|later he commuted...|[ADV, PRON, VERB,...| english|[later, he, commu...|      null| 12|   school graduating| NOUN NOUN|        2|77310277649|       true|     false|\n",
      "|223338308886|the town does not...|[DET, NOUN, AUX, ...| english|[the, town, does,...|      null|  8|          school but|NOUN CCONJ|        2|17180705611|       true|     false|\n",
      "| 51539617294|john kenneth mcki...|[PROPN, PROPN, PR...| english|[john, kenneth, m...|      null| 44|       university of|  NOUN ADP|        2|17180099775|       true|     false|\n",
      "|214748371814|walker was reelec...|[NOUN, AUX, VERB,...| english|[walker, was, ree...|      null|  7|        school board| NOUN NOUN|        2|25770275054|       true|     false|\n",
      "|197568506566|pieter geyl was t...|[NOUN, NOUN, AUX,...| english|[pieter, geyl, wa...|      null| 16|       university of|  NOUN ADP|        2|17180432751|       true|     false|\n",
      "| 94489291300|museu do estado d...|[NOUN, AUX, VERB,...| english|[museu, do, estad...|      null| 22|       university of|  NOUN ADP|        2|25770057118|       true|     false|\n",
      "|438086674342|srinivas earned h...|[NOUN, VERB, PRON...| english|[srinivas, earned...|      null| 14|       university of|  NOUN ADP|        2|68720019362|       true|     false|\n",
      "| 51539617341|a graduate of nor...|[DET, NOUN, ADP, ...| english|[a, graduate, of,...|      null| 21|   university school| NOUN NOUN|        2|17180100812|       true|     false|\n",
      "| 94489289267|the university co...|[DET, NOUN, VERB,...| english|[the, university,...|      null|  1|university coordi...| NOUN VERB|        2|25770010743|       true|     false|\n",
      "|197568506716|various public sc...|[ADJ, ADJ, NOUN, ...| english|[various, public,...|      null| 13|     school district| NOUN NOUN|        2|17180436445|       true|     false|\n",
      "| 94489287051|schools in highla...|[NOUN, ADP, NOUN,...| english|[schools, in, hig...|      null| 21|     school district| NOUN NOUN|        2|25769959279|       true|     false|\n",
      "|438086671695|in the university...|[ADP, DET, NOUN, ...| english|[in, the, univers...|      null| 16|   college including| NOUN VERB|        2|68719959038|       true|     false|\n",
      "| 94489291009|she runs a cake s...|[PRON, VERB, DET,...| english|[she, runs, a, ca...|      null| 10|          school for|  NOUN ADP|        2|25770050578|       true|     false|\n",
      "| 94489289766|sydney university...|[NOUN, ADJ, NOUN,...| english|[sydney, universi...|      null|  1|    university press|  ADJ NOUN|        2|25770021828|       true|     false|\n",
      "|214748374178|josephs college i...|[VERB, NOUN, NOUN...| english|[josephs, college...|      null| 16|        university n| NOUN NOUN|        2|25770329893|       true|     false|\n",
      "|214748372741|the school was la...|[DET, NOUN, AUX, ...| english|[the, school, was...|      null| 10|          school and|NOUN CCONJ|        2|25770296704|       true|     false|\n",
      "|438086673306|the word original...|[DET, NOUN, ADV, ...| english|[the, word, origi...|      null| 26|    university press| NOUN NOUN|        2|68719996143|       true|     false|\n",
      "+------------+--------------------+--------------------+--------+--------------------+----------+---+--------------------+----------+---------+-----------+-----------+----------+\n",
      "only showing top 20 rows\n",
      "\n"
     ]
    },
    {
     "name": "stderr",
     "output_type": "stream",
     "text": [
      "                                                                                \r"
     ]
    }
   ],
   "source": [
    "biData = df.filter(df.language == \"english\")\n",
    "biData.show()"
   ]
  },
  {
   "cell_type": "code",
   "execution_count": 37,
   "id": "537137d2-cf13-4c53-816e-27fddeb0d4f6",
   "metadata": {
    "collapsed": true,
    "jupyter": {
     "outputs_hidden": true
    },
    "tags": []
   },
   "outputs": [
    {
     "name": "stderr",
     "output_type": "stream",
     "text": [
      "[Stage 65:===================>                                    (7 + 13) / 20]\r"
     ]
    },
    {
     "name": "stdout",
     "output_type": "stream",
     "text": [
      "+------------+------------------------------------+--------------------+--------+------------------------------+--------------------+---+-------------+--------+---------+-----------+-----------+----------+\n",
      "| sentence_id|                            original|                 tag|language|                         token|          normal_tag|pos|   token_gram|tag_gram|gram_type|  unique_id|containsKey|middle_key|\n",
      "+------------+------------------------------------+--------------------+--------+------------------------------+--------------------+---+-------------+--------+---------+-----------+-----------+----------+\n",
      "|438086670324|年月日 夸耶和加纳球队十一智者签约...|[t, nrt, c, v, n,...| chinese|  [年月日, 夸耶, 和, 加纳, ...|[t, NOUN, CONJ, V...| 50|    中国 联赛|   ns vn|        2|68719927430|       true|     false|\n",
      "|197568498086| 江安世 台湾生物学家 中央研究院院...|[ns, n, ns, n, nt...| chinese| [江安, 世, 台湾, 生物学家,...|[PROPN, NOUN, PRO...|  2|台湾 生物学家|    ns n|        2|17180234583|       true|     false|\n",
      "| 85899348597|不过 有一些反对倪柝声神学立场和地...|[c, v, m, d, nr, ...| chinese|  [不过, 有, 一些, 反对, 倪...|[CONJ, VERB, m, A...| 14|    香港 建道|    ns v|        2|25770478329|       true|     false|\n",
      "|223338299939|年月日 该公司被香港证监会调查有关...|[t, r, n, p, ns, ...| chinese|  [年月日, 该, 公司, 被, 香...|[t, PRON, NOUN, A...| 26|  香港 证监会|    ns j|        2|17180494080|       true|     false|\n",
      "|223338303102|沉金康了解到黄金宝的窘况 主动把自...|[n, n, v, v, nr, ...| chinese|  [沉金, 康, 了解, 到, 黄金...|[NOUN, NOUN, VERB...| 18|    香港 单车|    ns n|        2|17180569799|       true|     false|\n",
      "|309237647621|根据有关规定 公安部刑事侦查局承担...|[p, vn, n, n, b, ...| chinese| [根据, 有关, 规定, 公安部,...|[ADP, vn, NOUN, N...| 32|  中国 工作犬|    ns n|        2|77310075739|       true|     false|\n",
      "|197568499021| 年 郑邱两人又再次争雄 国民党唯有...|[m, nr, m, n, d, ...| chinese|    [年, 郑邱, 两, 人, 又, ...|[m, PROPN, m, NOU...| 38|台湾 新闻周刊|    ns n|        2|17180257579|       true|     false|\n",
      "| 51539609444|但在偷渡潮后的压倒性的人口比例下 ...|[c, p, v, n, f, u...| chinese|    [但, 在, 偷渡, 潮, 后, ...|[CONJ, ADP, VERB,...| 12|      香港 的|   ns uj|        2|17179914475|       true|     false|\n",
      "|446676599024| 人集会声援 年月日 理大学生会举行...|[n, n, n, t, n, n...| chinese|  [人, 集会, 声援, 年月日, ...|[NOUN, NOUN, NOUN...| 29|    香港 教育|   ns vn|        2|68720091540|       true|     false|\n",
      "|481036338705|      单 薇 末代皇帝传奇 年 中国大陆|[n, g, n, n, m, n...| chinese|  [单, 薇, 末代皇帝, 传奇, ...|[NOUN, UNKNOWN, N...|  5|    中国 大陆|    ns n|        2|68719514037|       true|     false|\n",
      "| 85899348829|        黄克竞博士 obe cbe 原名黄...|[nr, n, eng, eng,...| chinese|     [黄克竞, 博士, obe, cb...|[PROPN, NOUN, X, ...| 12|    香港 年代|    ns t|        2|25770484180|       true|     false|\n",
      "| 85899346873|颜思齐在正史中的纪录非常稀少 由于...|[nr, p, n, f, uj,...| chinese|  [颜思齐, 在, 正史, 中, 的...|[PROPN, ADP, NOUN...| 20|      台湾 的|   ns uj|        2|25770437032|       true|     false|\n",
      "|309237647420|二等景星勋章 年月日于台北总统府颁...|[b, nz, n, t, p, ...| chinese| [二等, 景星, 勋章, 年月日,...|[ADJ, PROPN, NOUN...| 23|      台湾 年|    ns m|        2|77310071015|       true|     false|\n",
      "|274877907534|  亦曾任日军台湾守备混成旅团军医部长|[d, d, v, n, ns, ...| chinese|   [亦, 曾, 任, 日军, 台湾,...|[ADV, ADV, VERB, ...|  4|    台湾 守备|    ns v|        2|77309425553|       true|     false|\n",
      "|481036339111| 本物种主要分布于中国大陆 台湾及日本|[r, n, b, v, p, n...| chinese|  [本, 物种, 主要, 分布, 于...|[PRON, NOUN, ADJ,...|  7|      台湾 及|    ns c|        2|68719523687|       true|     false|\n",
      "|197568499180|在共产党接管中国大陆之后 加上韩战...|[p, nt, c, ns, n,...| chinese|  [在, 共产党, 接管, 中国, ...|[ADP, PROPN, CONJ...|  3|    中国 大陆|    ns n|        2|17180261227|       true|     false|\n",
      "| 94489285316| 该网站整合国内外商情 以杂志 电子...|[r, n, v, s, n, p...| chinese|  [该, 网站, 整合, 国内外, ...|[PRON, NOUN, VERB...| 15|    台湾 企业|    ns n|        2|25769918710|       true|     false|\n",
      "|274877912521|日治时期 不少学者投入台湾泉水的研...|[ns, n, d, n, v, ...| chinese|  [日治, 时期, 不少, 学者, ...|[PROPN, NOUN, ADV...|  5|    台湾 泉水|   ns ns|        2|77309545885|       true|     false|\n",
      "|309237650768|年底的开罗会议 罗斯福总统向蒋介石...|[t, uj, nz, nr, n...| chinese|[年底, 的, 开罗会议, 罗斯福...|[t, U, PROPN, PRO...| 10|    中国 部署|    ns n|        2|77310150221|       true|     false|\n",
      "|446676599877|         月日 台湾总督府医院官制公布|[m, m, ns, n, n, ...| chinese|  [月, 日, 台湾, 总督府, 医...|[m, m, PROPN, NOU...|  2|  台湾 总督府|    ns n|        2|68720111795|       true|     false|\n",
      "+------------+------------------------------------+--------------------+--------+------------------------------+--------------------+---+-------------+--------+---------+-----------+-----------+----------+\n",
      "only showing top 20 rows\n",
      "\n"
     ]
    },
    {
     "name": "stderr",
     "output_type": "stream",
     "text": [
      "                                                                                \r"
     ]
    }
   ],
   "source": [
    "bcData = df.filter(df.language == \"chinese\")\n",
    "bcData.show()"
   ]
  },
  {
   "cell_type": "code",
   "execution_count": null,
   "id": "74436514-28ee-4ee8-bf13-325ba11f5d55",
   "metadata": {},
   "outputs": [],
   "source": []
  },
  {
   "cell_type": "code",
   "execution_count": 8,
   "id": "f8cf9607-5905-48c5-8730-ac46805282f2",
   "metadata": {},
   "outputs": [],
   "source": [
    "bitokenFreq = biData.groupBy(\"token_gram\").count()\n",
    "bmtokenFreq = bmData.groupBy(\"token_gram\").count()\n",
    "bctokenFreq = bcData.groupBy(\"token_gram\").count()\n"
   ]
  },
  {
   "cell_type": "code",
   "execution_count": 9,
   "id": "680167fe-a854-45ce-8eb5-d2d9a3074cab",
   "metadata": {
    "collapsed": true,
    "jupyter": {
     "outputs_hidden": true
    },
    "tags": []
   },
   "outputs": [
    {
     "name": "stderr",
     "output_type": "stream",
     "text": [
      "[Stage 17:>                                                         (0 + 1) / 1]\r"
     ]
    },
    {
     "name": "stdout",
     "output_type": "stream",
     "text": [
      "+--------------------+-----+\n",
      "|          token_gram|count|\n",
      "+--------------------+-----+\n",
      "|           school is| 4128|\n",
      "|       school by the|   93|\n",
      "|     school for chef|    1|\n",
      "|college of the ma...|    9|\n",
      "|   school of theater|   15|\n",
      "|    school limestone|    1|\n",
      "|          school for| 4284|\n",
      "|    school attending|    9|\n",
      "|university has so...|    1|\n",
      "|  school wrestler he|    1|\n",
      "|university elemen...|    5|\n",
      "| college were raided|    1|\n",
      "|university of chi...|   15|\n",
      "|          school has| 1142|\n",
      "|     school building|  779|\n",
      "| college of business|  292|\n",
      "|college western u...|    1|\n",
      "|college which com...|    1|\n",
      "|school where he d...|    2|\n",
      "|school marquardt ...|    1|\n",
      "+--------------------+-----+\n",
      "only showing top 20 rows\n",
      "\n"
     ]
    },
    {
     "name": "stderr",
     "output_type": "stream",
     "text": [
      "                                                                                \r"
     ]
    }
   ],
   "source": [
    "bitokenFreq.show()"
   ]
  },
  {
   "cell_type": "code",
   "execution_count": 9,
   "id": "ba482a29-083c-48fa-be87-e1b15374cb22",
   "metadata": {},
   "outputs": [
    {
     "name": "stderr",
     "output_type": "stream",
     "text": [
      "                                                                                \r"
     ]
    }
   ],
   "source": [
    "import shutil\n",
    "shutil.rmtree(\"output/27_BM_TOKEN_F\")\n",
    "write_avro(bmtokenFreq, \"output/27_BM_TOKEN_F\")"
   ]
  },
  {
   "cell_type": "code",
   "execution_count": 11,
   "id": "445583dd-11f0-433c-b70c-c23351d58837",
   "metadata": {},
   "outputs": [
    {
     "name": "stderr",
     "output_type": "stream",
     "text": [
      "                                                                                \r"
     ]
    }
   ],
   "source": [
    "write_avro(bitokenFreq, \"output/27_BI_TOKEN_F\")"
   ]
  },
  {
   "cell_type": "code",
   "execution_count": 13,
   "id": "d8a351bc-881e-4e34-92f0-128a1aae3102",
   "metadata": {},
   "outputs": [
    {
     "name": "stderr",
     "output_type": "stream",
     "text": [
      "                                                                                \r"
     ]
    }
   ],
   "source": [
    "import shutil\n",
    "shutil.rmtree(\"output/27_BC_TOKEN_F\")\n",
    "write_avro(bctokenFreq, \"output/27_BC_TOKEN_F\")"
   ]
  },
  {
   "cell_type": "code",
   "execution_count": null,
   "id": "bd45dcf0-0c4c-4860-806e-e1b4240a1168",
   "metadata": {},
   "outputs": [],
   "source": []
  },
  {
   "cell_type": "code",
   "execution_count": 4,
   "id": "bef20744-2ff2-4956-a797-40070ce01ac6",
   "metadata": {},
   "outputs": [],
   "source": [
    "bctokF = read_avro(\"output/27_BC_TOKEN_F\")\n",
    "bmtokF = read_avro(\"output/27_BM_TOKEN_F\")\n",
    "bitokF = read_avro(\"output/27_BI_TOKEN_F\")\n",
    "\n",
    "bctokF = bctokF.repartition(800)\n",
    "bmtokF = bmtokF.repartition(800)\n",
    "bitokF = bitokF.repartition(800)\n",
    "\n",
    "\n"
   ]
  },
  {
   "cell_type": "code",
   "execution_count": 5,
   "id": "a105dffe-426a-4de2-83cd-05e7912ec8f4",
   "metadata": {},
   "outputs": [
    {
     "ename": "NameError",
     "evalue": "name 'bcData' is not defined",
     "output_type": "error",
     "traceback": [
      "\u001b[0;31m---------------------------------------------------------------------------\u001b[0m",
      "\u001b[0;31mNameError\u001b[0m                                 Traceback (most recent call last)",
      "Input \u001b[0;32mIn [5]\u001b[0m, in \u001b[0;36m<cell line: 1>\u001b[0;34m()\u001b[0m\n\u001b[0;32m----> 1\u001b[0m bcwithTokF \u001b[38;5;241m=\u001b[39m \u001b[43mbcData\u001b[49m\u001b[38;5;241m.\u001b[39mjoin(bctokF, bcData\u001b[38;5;241m.\u001b[39mtoken_gram \u001b[38;5;241m==\u001b[39m bctokF\u001b[38;5;241m.\u001b[39mtoken_gram)\u001b[38;5;241m.\u001b[39mdrop(bctokF\u001b[38;5;241m.\u001b[39mtoken_gram)\n\u001b[1;32m      2\u001b[0m biwithTokF \u001b[38;5;241m=\u001b[39m biData\u001b[38;5;241m.\u001b[39mjoin(bitokF, biData\u001b[38;5;241m.\u001b[39mtoken_gram \u001b[38;5;241m==\u001b[39m bitokF\u001b[38;5;241m.\u001b[39mtoken_gram)\u001b[38;5;241m.\u001b[39mdrop(bitokF\u001b[38;5;241m.\u001b[39mtoken_gram)\n\u001b[1;32m      3\u001b[0m bmwithTokF \u001b[38;5;241m=\u001b[39m bmData\u001b[38;5;241m.\u001b[39mjoin(bmtokF, bmData\u001b[38;5;241m.\u001b[39mtoken_gram \u001b[38;5;241m==\u001b[39m bmtokF\u001b[38;5;241m.\u001b[39mtoken_gram)\u001b[38;5;241m.\u001b[39mdrop(bmtokF\u001b[38;5;241m.\u001b[39mtoken_gram)\n",
      "\u001b[0;31mNameError\u001b[0m: name 'bcData' is not defined"
     ]
    }
   ],
   "source": [
    "bcwithTokF = bcData.join(bctokF, bcData.token_gram == bctokF.token_gram).drop(bctokF.token_gram)\n",
    "biwithTokF = biData.join(bitokF, biData.token_gram == bitokF.token_gram).drop(bitokF.token_gram)\n",
    "bmwithTokF = bmData.join(bmtokF, bmData.token_gram == bmtokF.token_gram).drop(bmtokF.token_gram)"
   ]
  },
  {
   "cell_type": "code",
   "execution_count": 9,
   "id": "cb5eb4b7-b145-471b-9672-d8ca1b8ad0de",
   "metadata": {},
   "outputs": [],
   "source": [
    "from functools import reduce  # For Python 3.x\n",
    "from pyspark.sql import DataFrame\n",
    "\n",
    "def unionAll(*dfs):\n",
    "    return reduce(DataFrame.unionAll, dfs)"
   ]
  },
  {
   "cell_type": "code",
   "execution_count": 10,
   "id": "eb2dec8a-a4bb-48f2-a9a9-218cecccd1f0",
   "metadata": {},
   "outputs": [],
   "source": [
    "withTokF = unionAll(bcwithTokF, biwithTokF, bmwithTokF)"
   ]
  },
  {
   "cell_type": "code",
   "execution_count": 11,
   "id": "63ef2d41-48bf-4577-b2f6-2468814e0da1",
   "metadata": {},
   "outputs": [
    {
     "name": "stderr",
     "output_type": "stream",
     "text": [
      "                                                                                ]\r"
     ]
    }
   ],
   "source": [
    "import shutil\n",
    "shutil.rmtree(\"output/27_TokFreq\")\n",
    "write_avro(withTokF, \"output/27_TokFreq\")"
   ]
  },
  {
   "cell_type": "code",
   "execution_count": null,
   "id": "1167673f-a012-4bd1-9c61-031494517bb1",
   "metadata": {},
   "outputs": [],
   "source": [
    "## tag freq"
   ]
  },
  {
   "cell_type": "code",
   "execution_count": 66,
   "id": "de5e9c28-f8a7-435f-88b0-8c52f0573953",
   "metadata": {},
   "outputs": [],
   "source": [
    "df = read_avro(\"output/27_TokFreq\")\n",
    "df = df.repartition(1800)\n",
    "# tokenFreq = df.groupBy(\"token_gram\").count()\n",
    "df = df.withColumnRenamed(\"count\", \"tok_gram_f\")"
   ]
  },
  {
   "cell_type": "code",
   "execution_count": null,
   "id": "5bbf215e-45f1-4055-9dd6-f637764fedb5",
   "metadata": {},
   "outputs": [],
   "source": []
  },
  {
   "cell_type": "code",
   "execution_count": 67,
   "id": "9d769e8e-0c56-4712-84c6-829f8589ca2c",
   "metadata": {
    "collapsed": true,
    "jupyter": {
     "outputs_hidden": true
    },
    "tags": []
   },
   "outputs": [
    {
     "name": "stderr",
     "output_type": "stream",
     "text": [
      "[Stage 75:=======================================================>(82 + 1) / 83]\r"
     ]
    },
    {
     "name": "stdout",
     "output_type": "stream",
     "text": [
      "+------------+--------------------+--------------------+--------+--------------------+----------+---+--------------------+--------------------+---------+------------+-----------+----------+----------+\n",
      "| sentence_id|            original|                 tag|language|               token|normal_tag|pos|          token_gram|            tag_gram|gram_type|   unique_id|containsKey|middle_key|tok_gram_f|\n",
      "+------------+--------------------+--------------------+--------+--------------------+----------+---+--------------------+--------------------+---------+------------+-----------+----------+----------+\n",
      "|146028901054|kampung petani ia...|[NOUN, NOUN, AUX,...|   malay|[kampung, petani,...|      null|  6|       daerah tutong|           NOUN NOUN|        2|103079506608|       true|     false|        65|\n",
      "|343597397391|sekolah kebangsaa...|[NOUN, NOUN, NOUN...|   malay|[sekolah, kebangs...|      null|  0|sekolah kebangsaa...|NOUN NOUN NOUN NO...|        5|652835290019|       true|     false|         1|\n",
      "|463856481541|daerah znojmo wil...|[NOUN, PROPN, NOU...|   malay|[daerah, znojmo, ...|      null|  0|daerah znojmo wil...|     NOUN PROPN NOUN|        3|274878772151|       true|     false|       108|\n",
      "|223338311329|mazamet ialah seb...|[PROPN, AUX, DET,...|   malay|[mazamet, ialah, ...|      null|  7|komun tarn di sel...|NOUN NOUN ADP NOU...|        5|532576715303|       true|     false|       127|\n",
      "| 34359750542|jawatankuasa pemb...|[NOUN, NOUN, NOUN...|   malay|[jawatankuasa, pe...|      null|  2|          kampung di|            NOUN ADP|        2|  8590524777|       true|     false|      3262|\n",
      "|111669162772|dalam bahagian se...|[ADP, NOUN, NOUN,...|   malay|[dalam, bahagian,...|      null| 25|sekolah apabila b...|     NOUN SCONJ NOUN|        3|326418370506|       true|     false|         1|\n",
      "|386547070210|kebanyakan pelaja...|[ADJ, NOUN, NOUN,...|   malay|[kebanyakan, pela...|      null| 15|school yang perta...|  PROPN PRON ADJ ADV|        4|420907068272|       true|     false|         1|\n",
      "|386547069352|daerah vyškov wil...|[NOUN, NOUN, NOUN...|   malay|[daerah, vyskov, ...|      null|  0|daerah vyskov wil...| NOUN NOUN NOUN NOUN|        4|420907058179|       true|     false|        50|\n",
      "|343597395566|ketika an kubu in...|[SCONJ, NOUN, NOU...|   malay|[ketika, an, kubu...|      null| 10|          daerah dan|          NOUN CCONJ|        2|128849900124|       true|     false|       680|\n",
      "|       13485|pembangunan kampu...|[NOUN, NOUN, ADP,...|   malay|[pembangunan, kam...|      null|  1|    kampung di nepal|       NOUN ADP NOUN|        3|266288258866|       true|     false|      1289|\n",
      "|360777265781|semua sekolah mem...|[DET, NOUN, VERB,...|   malay|[semua, sekolah, ...|      null|  1|sekolah mempunyai...|NOUN VERB NOUN PR...|        5|644245868835|       true|     false|         1|\n",
      "|137438966770|lembaga air perak...|[NOUN, NOUN, NOUN...|   malay|[lembaga, air, pe...|      null| 11|        daerah parit|           NOUN NOUN|        2| 34360036255|       true|     false|         4|\n",
      "|403726938839|tahun yang sama d...|[NOUN, PRON, ADJ,...|   malay|[tahun, yang, sam...|      null| 10|  sekolah filem i am|NOUN NOUN PROPN NOUN|        4|489626811556|       true|     false|         1|\n",
      "|506806153660|kampung matang ke...|[NOUN, ADJ, PROPN...|   malay|[kampung, matang,...|      null|  0|kampung matang ke...| NOUN ADJ PROPN VERB|        4|489627082894|       true|     false|         1|\n",
      "|231928245846|alver merupakan s...|[PROPN, VERB, DET...|   malay|[alver, merupakan...|      null|  3|kampung yang terl...|      NOUN PRON VERB|        3|335008286485|       true|     false|      9182|\n",
      "|360777266066|sabinov merupakan...|[PROPN, VERB, DET...|   malay|[sabinov, merupak...|      null|  7|daerah sabinov wi...|      NOUN NOUN NOUN|        3|300648280805|       true|     false|        32|\n",
      "|163208769623|merupakan sebuah ...|[VERB, DET, NOUN,...|   malay|[merupakan, sebua...|      null|  6|   daerah alzeyworms|          NOUN PROPN|        2|146029775498|       true|     false|        30|\n",
      "|352187331434|sekolah jenis keb...|[NOUN, NOUN, NOUN...|   malay|[sekolah, jenis, ...|      null| 15|sekolah jenis keb...|      NOUN NOUN NOUN|        3|171799565210|       true|     false|      2695|\n",
      "|377957134956|komun di jabatan ...|[NOUN, ADP, NOUN,...|   malay|[komun, di, jabat...|      null|  0|            komun di|            NOUN ADP|        2|163209347837|       true|     false|     17574|\n",
      "|103079227118|merupakan sebuah ...|[VERB, DET, NOUN,...|   malay|[merupakan, sebua...|      null|  2|daerah di wilayah...|  NOUN ADP NOUN NOUN|        4|438086918962|       true|     false|         3|\n",
      "+------------+--------------------+--------------------+--------+--------------------+----------+---+--------------------+--------------------+---------+------------+-----------+----------+----------+\n",
      "only showing top 20 rows\n",
      "\n"
     ]
    },
    {
     "name": "stderr",
     "output_type": "stream",
     "text": [
      "                                                                                \r"
     ]
    }
   ],
   "source": [
    "bmData = df.filter(df.language == \"malay\")\n",
    "bmData.show()"
   ]
  },
  {
   "cell_type": "code",
   "execution_count": 68,
   "id": "2d5e01da-820b-4f0a-bb2c-05801a96020f",
   "metadata": {
    "collapsed": true,
    "jupyter": {
     "outputs_hidden": true
    },
    "tags": []
   },
   "outputs": [
    {
     "name": "stderr",
     "output_type": "stream",
     "text": [
      "[Stage 78:=======================================================>(82 + 1) / 83]\r"
     ]
    },
    {
     "name": "stdout",
     "output_type": "stream",
     "text": [
      "+------------+-------------------------------------+--------------------+--------+------------------------------+--------------------+---+--------------------------------+-----------+---------+------------+-----------+----------+----------+\n",
      "| sentence_id|                             original|                 tag|language|                         token|          normal_tag|pos|                      token_gram|   tag_gram|gram_type|   unique_id|containsKey|middle_key|tok_gram_f|\n",
      "+------------+-------------------------------------+--------------------+--------+------------------------------+--------------------+---+--------------------------------+-----------+---------+------------+-----------+----------+----------+\n",
      "|335007449289|                 ian mccabe pat fo...|[eng, eng, eng, e...| chinese|          [ian, mccabe, pat...|[X, X, X, X, X, X...| 39|                    香港 和 中国|    ns c ns|        3|309238227534|       true|     false|        77|\n",
      "|360777253795| 年 中华民国政府成立海军海道测量局...|[m, nt, v, n, n, ...| chinese|[年, 中华民国政府, 成立, 海...|[m, PROPN, VERB, ...| 12|                         中国 的|      ns uj|        2|146028910260|       true|     false|     10649|\n",
      "|412316863644|   王浦劬 男 江苏盐城人 中国政治学...|[nr, g, n, ns, nr...| chinese|  [王浦, 劬, 男, 江苏, 盐城...|[PROPN, UNKNOWN, ...|  5|中国 政治学家 现任 北京大学 教授|ns n n nt n|        5|644245422000|       true|     false|         1|\n",
      "|171798693825|中国的一些地方政府制定了有关见义勇...|[ns, uj, m, n, n,...| chinese|  [中国, 的, 一些, 地方, 政...|[PROPN, U, m, NOU...|  0|          中国 的 一些 地方 政府|ns uj m n n|        5|609885660631|       true|     false|         1|\n",
      "| 51539608516|     年月日 top 域名获得中华人民共...|[t, eng, n, v, ns...| chinese|   [年月日, top, 域名, 获得...|[t, X, NOUN, VERB...| 15|               中国 大陆 获得 了|  ns n v ul|        4|352187618350|       true|     false|         1|\n",
      "| 25769805795|     美国参议员马可 卢比奥批评 twi...|[ns, n, nr, nrt, ...| chinese| [美国, 参议员, 马可, 卢比,...|[PROPN, NOUN, PRO...|  9|                     中国 审查员|       ns n|        2|137439001460|       true|     false|         2|\n",
      "|111669150618| 这个机构和这些学者 为中国的现代化...|[r, n, c, r, n, p...| chinese|  [这个, 机构, 和, 这些, 学...|[PRON, NOUN, CONJ...|  6|                         中国 的|      ns uj|        2|154619449240|       true|     false|     10649|\n",
      "|231928236724|  年 她与朱俊丞 卢宣彤一起出演大马...|[m, r, p, nr, nr,...| chinese|  [年, 她, 与, 朱俊丞, 卢宣...|[m, PRON, ADP, PR...| 33|      中国 综艺节目 中国 好 声音|ns l ns a n|        5|678605410051|       true|      true|         1|\n",
      "| 51539609619|三商巧福 是台湾三商企业的牛肉面连锁店|[m, n, nr, v, ns,...| chinese|   [三, 商, 巧福, 是, 台湾,...|[m, NOUN, PROPN, ...|  4|                 台湾 三 商 企业|   ns m n n|        4|352187643121|       true|     false|         1|\n",
      "| 94489280673|  野博康加勒冰川大冰湖 中国冰川 或...|[n, nr, v, ns, a,...| chinese|  [野, 博康加, 勒, 冰川, 大...|[NOUN, PROPN, VER...| 17|               中国 西部 和 北部|   ns f c f|        4|369367191103|       true|     false|         2|\n",
      "|266287975954|  主要分布于印度尼西亚 中国 常栖息...|[b, v, p, ns, ns,...| chinese|[主要, 分布, 于, 印度尼西亚...|[ADJ, VERB, ADP, ...|  4|              中国 常 栖息 在 亚|ns d v p ns|        5|515396419319|       true|     false|         1|\n",
      "|455266536969|柬埔寨音乐受到一系列错綜复杂的文化...|[ns, n, v, m, n, ...| chinese|[柬埔寨, 音乐, 受到, 一系列...|[PROPN, NOUN, VER...| 15|                       中国 以及|       ns c|        2| 77309802155|       true|     false|        59|\n",
      "|326417520132|    有一个关于 长夜 的故事 年一 二...|[v, m, p, d, uj, ...| chinese|  [有, 一个, 关于, 长夜, 的...|[VERB, m, ADP, AD...| 11|                    中国 人民 对|     ns n p|        3|292057903348|       true|     false|         7|\n",
      "|231928236263| 分布于日本以及中国大陆的湖南 湖北...|[v, p, ns, c, ns,...| chinese|  [分布, 于, 日本, 以及, 中...|[VERB, ADP, PROPN...|  4|               中国 大陆 的 湖南| ns n uj ns|        4|506806738503|       true|     false|       100|\n",
      "|103079220776|中国自办的西医学校则始自年同文馆附...|[ns, v, uj, nr, n...| chinese|  [中国, 自办, 的, 西医, 学...|[PROPN, VERB, U, ...|  0|               中国 自办 的 西医| ns v uj nr|        4|438086787412|       true|     false|         1|\n",
      "|326417518332|   胡欣男 郭建伸 对党产会泼粪 男怒...|[nr, nr, p, nt, n...| chinese|[胡欣男, 郭建伸, 对, 党产会...|[PROPN, PROPN, AD...| 35|           中国 青年 救国团 设置| ns t nt vn|        4|463856551128|       true|     false|         1|\n",
      "|429496735026|   武士 字信明 隋末唐初官员 是随李...|[n, n, n, t, f, n...| chinese|  [武士, 字, 信明, 隋末唐, ...|[NOUN, NOUN, NOUN...| 16|            中国 唯一 的 女 皇帝|ns b uj n n|        5|575525730849|       true|     false|         2|\n",
      "|111669151730| 以一代咏春宗师叶问的生平作蓝本 是...|[p, m, n, n, nr, ...| chinese|  [以, 一代, 咏春, 宗师, 叶...|[ADP, m, NOUN, NO...| 18|                       中国 同步|       ns d|        2|154619475697|       true|     false|         3|\n",
      "|395136995955| 稍后 香港先生监制何小慧对传媒说无...|[d, ns, n, vn, nr...| chinese|  [稍后, 香港, 先生, 监制, ...|[ADV, PROPN, NOUN...|  1|                       香港 先生|       ns n|        2|111669261405|       true|     false|        64|\n",
      "|231928237666|  尤声普以本作改编的粤剧 李广王 则...|[d, v, r, v, v, u...| chinese|  [尤声, 普以, 本, 作, 改编...|[ADV, VERB, PRON,...| 13|                   中国 战国时代|       ns n|        2|163209447717|       true|     false|        28|\n",
      "+------------+-------------------------------------+--------------------+--------+------------------------------+--------------------+---+--------------------------------+-----------+---------+------------+-----------+----------+----------+\n",
      "only showing top 20 rows\n",
      "\n"
     ]
    },
    {
     "name": "stderr",
     "output_type": "stream",
     "text": [
      "                                                                                \r"
     ]
    }
   ],
   "source": [
    "bcData = df.filter(df.language == \"chinese\")\n",
    "bcData.show()"
   ]
  },
  {
   "cell_type": "code",
   "execution_count": 69,
   "id": "9277d7f6-6a99-4e45-82f0-78cd06776c21",
   "metadata": {
    "collapsed": true,
    "jupyter": {
     "outputs_hidden": true
    },
    "tags": []
   },
   "outputs": [
    {
     "name": "stderr",
     "output_type": "stream",
     "text": [
      "[Stage 81:===================================================>    (77 + 6) / 83]\r"
     ]
    },
    {
     "name": "stdout",
     "output_type": "stream",
     "text": [
      "+------------+--------------------+--------------------+--------+--------------------+----------+---+--------------------+--------------------+---------+------------+-----------+----------+----------+\n",
      "| sentence_id|            original|                 tag|language|               token|normal_tag|pos|          token_gram|            tag_gram|gram_type|   unique_id|containsKey|middle_key|tok_gram_f|\n",
      "+------------+--------------------+--------------------+--------+--------------------+----------+---+--------------------+--------------------+---------+------------+-----------+----------+----------+\n",
      "|103079220921|in he received an...|[ADP, PRON, VERB,...| english|[in, he, received...|      null| 10|university which ...|  NOUN PRON ADV VERB|        4|438086790373|       true|     false|        10|\n",
      "|300647721484|the four elementa...|[DET, NUM, NOUN, ...| english|[the, four, eleme...|      null| 15|school and thomas...|NOUN CCONJ PROPN ...|        5|532576166304|       true|     false|         1|\n",
      "|231928245612|in the issue of f...|[ADP, DET, NOUN, ...| english|[in, the, issue, ...|      null| 12|university descri...|  NOUN VERB DET NOUN|        4|506806935037|       true|     false|         1|\n",
      "|120259092349|leslie was born i...|[NOUN, AUX, VERB,...| english|[leslie, was, bor...|      null| 20|       university of|            NOUN ADP|        2| 42950169440|       true|     false|     56829|\n",
      "|163208763186|in bright donated...|[ADP, NOUN, VERB,...| english|[in, bright, dona...|      null| 14|  university library|           NOUN NOUN|        2|146029632485|       true|     false|       780|\n",
      "| 34359745661|in lsu was named ...|[ADP, NOUN, AUX, ...| english|[in, lsu, was, na...|      null|  7|      college the th|       NOUN DET NOUN|        3|180389085122|       true|     false|         1|\n",
      "|154618833854|after graduating ...|[SCONJ, VERB, ADP...| english|[after, graduatin...|      null|  4|university of tex...|  NOUN ADP PROPN ADP|        4|343597627475|       true|     false|        35|\n",
      "|438086673870|the red brick vic...|[DET, ADJ, ADJ, A...| english|[the, red, brick,...|      null| 31|        school house|           NOUN NOUN|        2| 68720008630|       true|     false|       308|\n",
      "|        6302|initially based i...|[ADV, VERB, ADP, ...| english|[initially, based...|      null|  7|    school opened in|       NOUN VERB ADP|        3|266288116737|       true|     false|       439|\n",
      "|420906806619|burge also worked...|[NOUN, ADV, VERB,...| english|[burge, also, wor...|      null| 39|     school of music|       NOUN ADP NOUN|        3|206158982179|       true|     false|       598|\n",
      "|326417522032|rydal penrhos sch...|[VERB, NOUN, NOUN...| english|[rydal, penrhos, ...|      null|  7|school which is o...|NOUN PRON AUX ADP...|        5|635655314017|       true|     false|         1|\n",
      "| 25769814580|pag in doctor dev...|[NOUN, ADP, NOUN,...| english|[pag, in, doctor,...|      null|  8|university of uta...|   NOUN ADP ADJ PART|        4|481037118223|       true|     false|         6|\n",
      "|455266539312|with a school cou...|[ADP, DET, NOUN, ...| english|[with, a, school,...|      null|  2|school counseling...|      NOUN VERB NOUN|        3|249108239054|       true|     false|         2|\n",
      "|249108110533|that campus has e...|[PRON, NOUN, AUX,...| english|[that, campus, ha...|      null| 11|university new en...|       NOUN ADJ NOUN|        3|223338757610|       true|     false|         3|\n",
      "|  8589940793|the historical sc...|[DET, ADJ, NOUN, ...| english|[the, historical,...|      null|  2|school is based o...|NOUN AUX VERB ADP...|        5|635655549841|       true|     false|         2|\n",
      "|377957131203|authorization for...|[NOUN, ADP, NOUN,...| english|[authorization, f...|      null| 23|          college of|            NOUN ADP|        2|163209273531|       true|     false|      9114|\n",
      "|472446409893|by the college co...|[ADP, DET, NOUN, ...| english|[by, the, college...|      null|  2|college consisted...|NOUN VERB ADP NUM...|        5|558346163085|       true|     false|         1|\n",
      "|  8589945507|william a jr jess...|[VERB, DET, NOUN,...| english|[william, a, jr, ...|      null| 22|university of neb...|   NOUN ADP ADJ NOUN|        4|463856977226|       true|     false|       260|\n",
      "|120259095591|the cumbersome na...|[DET, NOUN, NOUN,...| english|[the, cumbersome,...|      null|  5|   school spezial or|     NOUN NOUN CCONJ|        3|214749200171|       true|     false|         1|\n",
      "|360777262872|the double concer...|[DET, ADJ, NOUN, ...| english|[the, double, con...|      null| 23|           school in|            NOUN ADP|        2|146029122119|       true|     false|     15052|\n",
      "+------------+--------------------+--------------------+--------+--------------------+----------+---+--------------------+--------------------+---------+------------+-----------+----------+----------+\n",
      "only showing top 20 rows\n",
      "\n"
     ]
    },
    {
     "name": "stderr",
     "output_type": "stream",
     "text": [
      "                                                                                \r"
     ]
    }
   ],
   "source": [
    "biData = df.filter(df.language == \"english\")\n",
    "biData.show()"
   ]
  },
  {
   "cell_type": "code",
   "execution_count": null,
   "id": "0c8af150-134b-4612-bcb1-030f157e1f86",
   "metadata": {},
   "outputs": [],
   "source": []
  },
  {
   "cell_type": "code",
   "execution_count": 11,
   "id": "4f87e811-6167-41c4-9b30-8580cc0fddf3",
   "metadata": {},
   "outputs": [],
   "source": [
    "bmFreq = bmData.groupBy(\"tag_gram\").count().withColumnRenamed(\"count\", \"tag_gram_f\")\n",
    "bcFreq = bcData.groupBy(\"tag_gram\").count().withColumnRenamed(\"count\", \"tag_gram_f\")\n",
    "biFreq = biData.groupBy(\"tag_gram\").count().withColumnRenamed(\"count\", \"tag_gram_f\")"
   ]
  },
  {
   "cell_type": "code",
   "execution_count": 12,
   "id": "f0128b53-182b-4f28-b346-3f337cffddea",
   "metadata": {},
   "outputs": [
    {
     "name": "stderr",
     "output_type": "stream",
     "text": [
      "                                                                                \r"
     ]
    }
   ],
   "source": [
    "write_avro(bmFreq, \"output/bmFreq\")"
   ]
  },
  {
   "cell_type": "code",
   "execution_count": 13,
   "id": "f1782163-4c28-4c77-9356-8ec8efea40f7",
   "metadata": {},
   "outputs": [
    {
     "name": "stderr",
     "output_type": "stream",
     "text": [
      "                                                                                \r"
     ]
    }
   ],
   "source": [
    "write_avro(biFreq, \"output/biFreq\")"
   ]
  },
  {
   "cell_type": "code",
   "execution_count": 14,
   "id": "be243a1f-f5b8-480e-a647-9a0d1228c64b",
   "metadata": {},
   "outputs": [
    {
     "name": "stderr",
     "output_type": "stream",
     "text": [
      "                                                                                \r"
     ]
    }
   ],
   "source": [
    "write_avro(bcFreq, \"output/bcFreq\")"
   ]
  },
  {
   "cell_type": "code",
   "execution_count": 70,
   "id": "cfb8a406-6a94-4d17-9ebd-df48d52b1266",
   "metadata": {
    "collapsed": true,
    "jupyter": {
     "outputs_hidden": true
    },
    "tags": []
   },
   "outputs": [
    {
     "name": "stdout",
     "output_type": "stream",
     "text": [
      "+-------------+----------+\n",
      "|     tag_gram|tag_gram_f|\n",
      "+-------------+----------+\n",
      "| ns n n uj vn|       191|\n",
      "|ns uj r vn ns|         1|\n",
      "|    ns m n ns|       115|\n",
      "|   ns ns ns f|       434|\n",
      "|  ns v v nz m|         4|\n",
      "|   ns f v v b|         1|\n",
      "|    ns n n vn|      2151|\n",
      "|       ns l r|        31|\n",
      "|      ns j uj|        56|\n",
      "|       ns m d|       318|\n",
      "|   ns m b n v|        24|\n",
      "|       ns v f|       699|\n",
      "|   ns s ns vg|         5|\n",
      "|ns nz vn m uj|         1|\n",
      "|   ns nz ns n|       245|\n",
      "|   ns n n v t|       127|\n",
      "|ns n uj ns ns|      3217|\n",
      "|   ns n f v p|        31|\n",
      "|    ns v zg n|       797|\n",
      "|      ns c ns|      3167|\n",
      "+-------------+----------+\n",
      "only showing top 20 rows\n",
      "\n"
     ]
    }
   ],
   "source": [
    "read_avro(\"output/bcFreq\").show()"
   ]
  },
  {
   "cell_type": "code",
   "execution_count": null,
   "id": "672f9fd5-f86b-450f-bbde-93ece0673e3e",
   "metadata": {},
   "outputs": [],
   "source": []
  },
  {
   "cell_type": "code",
   "execution_count": null,
   "id": "da145695-7554-4a6d-92f4-0cd611b253b8",
   "metadata": {},
   "outputs": [],
   "source": []
  },
  {
   "cell_type": "code",
   "execution_count": 15,
   "id": "dba1c515-8261-4dbf-b374-e058d43c889a",
   "metadata": {},
   "outputs": [
    {
     "data": {
      "text/plain": [
       "DataFrame[sentence_id: bigint, original: string, tag: array<string>, language: string, token: array<string>, normal_tag: array<string>, pos: int, token_gram: string, tag_gram: string, gram_type: string, unique_id: bigint, containsKey: boolean, middle_key: boolean, tok_gram_f: bigint]"
      ]
     },
     "execution_count": 15,
     "metadata": {},
     "output_type": "execute_result"
    }
   ],
   "source": [
    "biData"
   ]
  },
  {
   "cell_type": "code",
   "execution_count": null,
   "id": "e4f83ef0-fbda-4831-9457-4e3e9a480c7d",
   "metadata": {},
   "outputs": [],
   "source": []
  },
  {
   "cell_type": "code",
   "execution_count": 63,
   "id": "67415970-b6d9-44d6-963c-563012bf75b9",
   "metadata": {},
   "outputs": [],
   "source": [
    "tfBM = read_avro(\"output/bmFreq\")"
   ]
  },
  {
   "cell_type": "code",
   "execution_count": 64,
   "id": "94a49c40-06ee-47e8-8f44-0849297f4049",
   "metadata": {},
   "outputs": [],
   "source": [
    "withtagFBM = bmData.join(tfBM, bmData.tag_gram == tfBM.tag_gram).drop(tfBM.tag_gram)"
   ]
  },
  {
   "cell_type": "code",
   "execution_count": 65,
   "id": "b08fd3f8-4c9a-4218-974e-5e9f3382014f",
   "metadata": {},
   "outputs": [
    {
     "data": {
      "text/plain": [
       "DataFrame[sentence_id: bigint, original: string, tag: array<string>, language: string, token: array<string>, normal_tag: array<string>, pos: int, token_gram: string, tag_gram: string, gram_type: string, unique_id: bigint, containsKey: boolean, middle_key: boolean, tok_gram_f: bigint, tag_gram_f: bigint]"
      ]
     },
     "execution_count": 65,
     "metadata": {},
     "output_type": "execute_result"
    }
   ],
   "source": [
    "withtagFBM"
   ]
  },
  {
   "cell_type": "code",
   "execution_count": 22,
   "id": "be7ed186-0e08-4db9-a5ae-942c793146b5",
   "metadata": {},
   "outputs": [
    {
     "name": "stderr",
     "output_type": "stream",
     "text": [
      "                                                                                \r"
     ]
    }
   ],
   "source": [
    "write_avro(withtagFBM, \"output/withTagFBM\")"
   ]
  },
  {
   "cell_type": "code",
   "execution_count": 23,
   "id": "2f6b095d-eb2a-4bdf-bb81-cf3a00342820",
   "metadata": {
    "collapsed": true,
    "jupyter": {
     "outputs_hidden": true
    },
    "tags": []
   },
   "outputs": [
    {
     "name": "stderr",
     "output_type": "stream",
     "text": [
      "[Stage 35:=====================================================>  (79 + 4) / 83]\r"
     ]
    },
    {
     "name": "stdout",
     "output_type": "stream",
     "text": [
      "+------------+--------------------+--------------------+--------+--------------------+----------+---+--------------------+--------------------+---------+------------+-----------+----------+----------+----------+\n",
      "| sentence_id|            original|                 tag|language|               token|normal_tag|pos|          token_gram|            tag_gram|gram_type|   unique_id|containsKey|middle_key|tok_gram_f|tag_gram_f|\n",
      "+------------+--------------------+--------------------+--------+--------------------+----------+---+--------------------+--------------------+---------+------------+-----------+----------+----------+----------+\n",
      "|146028901054|kampung petani ia...|[NOUN, NOUN, AUX,...|   malay|[kampung, petani,...|      null|  6|       daerah tutong|           NOUN NOUN|        2|103079506608|       true|     false|        65|     53113|\n",
      "|343597397391|sekolah kebangsaa...|[NOUN, NOUN, NOUN...|   malay|[sekolah, kebangs...|      null|  0|sekolah kebangsaa...|NOUN NOUN NOUN NO...|        5|652835290019|       true|     false|         1|       694|\n",
      "|463856481541|daerah znojmo wil...|[NOUN, PROPN, NOU...|   malay|[daerah, znojmo, ...|      null|  0|daerah znojmo wil...|     NOUN PROPN NOUN|        3|274878772151|       true|     false|       108|      5789|\n",
      "|223338311329|mazamet ialah seb...|[PROPN, AUX, DET,...|   malay|[mazamet, ialah, ...|      null|  7|komun tarn di sel...|NOUN NOUN ADP NOU...|        5|532576715303|       true|     false|       127|      1218|\n",
      "| 34359750542|jawatankuasa pemb...|[NOUN, NOUN, NOUN...|   malay|[jawatankuasa, pe...|      null|  2|          kampung di|            NOUN ADP|        2|  8590524777|       true|     false|      3262|     24769|\n",
      "|111669162772|dalam bahagian se...|[ADP, NOUN, NOUN,...|   malay|[dalam, bahagian,...|      null| 25|sekolah apabila b...|     NOUN SCONJ NOUN|        3|326418370506|       true|     false|         1|       116|\n",
      "|386547070210|kebanyakan pelaja...|[ADJ, NOUN, NOUN,...|   malay|[kebanyakan, pela...|      null| 15|school yang perta...|  PROPN PRON ADJ ADV|        4|420907068272|       true|     false|         1|         3|\n",
      "|386547069352|daerah vyškov wil...|[NOUN, NOUN, NOUN...|   malay|[daerah, vyskov, ...|      null|  0|daerah vyskov wil...| NOUN NOUN NOUN NOUN|        4|420907058179|       true|     false|        50|     13137|\n",
      "|343597395566|ketika an kubu in...|[SCONJ, NOUN, NOU...|   malay|[ketika, an, kubu...|      null| 10|          daerah dan|          NOUN CCONJ|        2|128849900124|       true|     false|       680|      7303|\n",
      "|       13485|pembangunan kampu...|[NOUN, NOUN, ADP,...|   malay|[pembangunan, kam...|      null|  1|    kampung di nepal|       NOUN ADP NOUN|        3|266288258866|       true|     false|      1289|     22957|\n",
      "|360777265781|semua sekolah mem...|[DET, NOUN, VERB,...|   malay|[semua, sekolah, ...|      null|  1|sekolah mempunyai...|NOUN VERB NOUN PR...|        5|644245868835|       true|     false|         1|         9|\n",
      "|137438966770|lembaga air perak...|[NOUN, NOUN, NOUN...|   malay|[lembaga, air, pe...|      null| 11|        daerah parit|           NOUN NOUN|        2| 34360036255|       true|     false|         4|     53113|\n",
      "|403726938839|tahun yang sama d...|[NOUN, PRON, ADJ,...|   malay|[tahun, yang, sam...|      null| 10|  sekolah filem i am|NOUN NOUN PROPN NOUN|        4|489626811556|       true|     false|         1|      3680|\n",
      "|506806153660|kampung matang ke...|[NOUN, ADJ, PROPN...|   malay|[kampung, matang,...|      null|  0|kampung matang ke...| NOUN ADJ PROPN VERB|        4|489627082894|       true|     false|         1|        35|\n",
      "|231928245846|alver merupakan s...|[PROPN, VERB, DET...|   malay|[alver, merupakan...|      null|  3|kampung yang terl...|      NOUN PRON VERB|        3|335008286485|       true|     false|      9182|     15245|\n",
      "|360777266066|sabinov merupakan...|[PROPN, VERB, DET...|   malay|[sabinov, merupak...|      null|  7|daerah sabinov wi...|      NOUN NOUN NOUN|        3|300648280805|       true|     false|        32|     26642|\n",
      "|163208769623|merupakan sebuah ...|[VERB, DET, NOUN,...|   malay|[merupakan, sebua...|      null|  6|   daerah alzeyworms|          NOUN PROPN|        2|146029775498|       true|     false|        30|     25004|\n",
      "|352187331434|sekolah jenis keb...|[NOUN, NOUN, NOUN...|   malay|[sekolah, jenis, ...|      null| 15|sekolah jenis keb...|      NOUN NOUN NOUN|        3|171799565210|       true|     false|      2695|     26642|\n",
      "|377957134956|komun di jabatan ...|[NOUN, ADP, NOUN,...|   malay|[komun, di, jabat...|      null|  0|            komun di|            NOUN ADP|        2|163209347837|       true|     false|     17574|     24769|\n",
      "|103079227118|merupakan sebuah ...|[VERB, DET, NOUN,...|   malay|[merupakan, sebua...|      null|  2|daerah di wilayah...|  NOUN ADP NOUN NOUN|        4|438086918962|       true|     false|         3|     15375|\n",
      "+------------+--------------------+--------------------+--------+--------------------+----------+---+--------------------+--------------------+---------+------------+-----------+----------+----------+----------+\n",
      "only showing top 20 rows\n",
      "\n"
     ]
    },
    {
     "name": "stderr",
     "output_type": "stream",
     "text": [
      "                                                                                \r"
     ]
    }
   ],
   "source": [
    "withtagFBM.show()"
   ]
  },
  {
   "cell_type": "code",
   "execution_count": null,
   "id": "b4354a83-627c-4622-a8bc-64d0770adee9",
   "metadata": {},
   "outputs": [],
   "source": []
  },
  {
   "cell_type": "code",
   "execution_count": 79,
   "id": "1c533d6e-11c8-49f4-80d3-0c1fc3711ffd",
   "metadata": {},
   "outputs": [],
   "source": [
    "tfBI = read_avro(\"output/biFreq\")"
   ]
  },
  {
   "cell_type": "code",
   "execution_count": 80,
   "id": "8b7f743f-3012-4578-ac1b-42a7ee672e77",
   "metadata": {},
   "outputs": [],
   "source": [
    "withtagFBI = biData.join(tfBI, biData.tag_gram == tfBI.tag_gram).drop(tfBI.tag_gram)"
   ]
  },
  {
   "cell_type": "code",
   "execution_count": 81,
   "id": "fe2e1c2a-7f24-44f3-9f8c-c29793c310e1",
   "metadata": {},
   "outputs": [
    {
     "name": "stderr",
     "output_type": "stream",
     "text": [
      "                                                                                \r"
     ]
    }
   ],
   "source": [
    "shutil.rmtree(\"output/withtagFBI\")\n",
    "write_avro(withtagFBI, \"output/withtagFBI\")"
   ]
  },
  {
   "cell_type": "code",
   "execution_count": 82,
   "id": "2dce4fd3-73b2-4b72-9398-f8ec88584b5e",
   "metadata": {},
   "outputs": [
    {
     "name": "stderr",
     "output_type": "stream",
     "text": [
      "[Stage 103:=====>        (33 + 20) / 83][Stage 104:>               (0 + 0) / 11]\r"
     ]
    },
    {
     "name": "stdout",
     "output_type": "stream",
     "text": [
      "+------------+--------------------+--------------------+--------+--------------------+----------+---+--------------------+--------------------+---------+------------+-----------+----------+----------+----------+\n",
      "| sentence_id|            original|                 tag|language|               token|normal_tag|pos|          token_gram|            tag_gram|gram_type|   unique_id|containsKey|middle_key|tok_gram_f|tag_gram_f|\n",
      "+------------+--------------------+--------------------+--------+--------------------+----------+---+--------------------+--------------------+---------+------------+-----------+----------+----------+----------+\n",
      "|103079220921|in he received an...|[ADP, PRON, VERB,...| english|[in, he, received...|      null| 10|university which ...|  NOUN PRON ADV VERB|        4|438086790373|       true|     false|        10|       372|\n",
      "|300647721484|the four elementa...|[DET, NUM, NOUN, ...| english|[the, four, eleme...|      null| 15|school and thomas...|NOUN CCONJ PROPN ...|        5|532576166304|       true|     false|         1|       134|\n",
      "|231928245612|in the issue of f...|[ADP, DET, NOUN, ...| english|[in, the, issue, ...|      null| 12|university descri...|  NOUN VERB DET NOUN|        4|506806935037|       true|     false|         1|      4464|\n",
      "|120259092349|leslie was born i...|[NOUN, AUX, VERB,...| english|[leslie, was, bor...|      null| 20|       university of|            NOUN ADP|        2| 42950169440|       true|     false|     56829|    129387|\n",
      "|163208763186|in bright donated...|[ADP, NOUN, VERB,...| english|[in, bright, dona...|      null| 14|  university library|           NOUN NOUN|        2|146029632485|       true|     false|       780|    122028|\n",
      "| 34359745661|in lsu was named ...|[ADP, NOUN, AUX, ...| english|[in, lsu, was, na...|      null|  7|      college the th|       NOUN DET NOUN|        3|180389085122|       true|     false|         1|      2778|\n",
      "|154618833854|after graduating ...|[SCONJ, VERB, ADP...| english|[after, graduatin...|      null|  4|university of tex...|  NOUN ADP PROPN ADP|        4|343597627475|       true|     false|        35|      2020|\n",
      "|438086673870|the red brick vic...|[DET, ADJ, ADJ, A...| english|[the, red, brick,...|      null| 31|        school house|           NOUN NOUN|        2| 68720008630|       true|     false|       308|    122028|\n",
      "|        6302|initially based i...|[ADV, VERB, ADP, ...| english|[initially, based...|      null|  7|    school opened in|       NOUN VERB ADP|        3|266288116737|       true|     false|       439|      8220|\n",
      "|420906806619|burge also worked...|[NOUN, ADV, VERB,...| english|[burge, also, wor...|      null| 39|     school of music|       NOUN ADP NOUN|        3|206158982179|       true|     false|       598|     57669|\n",
      "|326417522032|rydal penrhos sch...|[VERB, NOUN, NOUN...| english|[rydal, penrhos, ...|      null|  7|school which is o...|NOUN PRON AUX ADP...|        5|635655314017|       true|     false|         1|        11|\n",
      "| 25769814580|pag in doctor dev...|[NOUN, ADP, NOUN,...| english|[pag, in, doctor,...|      null|  8|university of uta...|   NOUN ADP ADJ PART|        4|481037118223|       true|     false|         6|        38|\n",
      "|455266539312|with a school cou...|[ADP, DET, NOUN, ...| english|[with, a, school,...|      null|  2|school counseling...|      NOUN VERB NOUN|        3|249108239054|       true|     false|         2|      3440|\n",
      "|249108110533|that campus has e...|[PRON, NOUN, AUX,...| english|[that, campus, ha...|      null| 11|university new en...|       NOUN ADJ NOUN|        3|223338757610|       true|     false|         3|      4156|\n",
      "|  8589940793|the historical sc...|[DET, ADJ, NOUN, ...| english|[the, historical,...|      null|  2|school is based o...|NOUN AUX VERB ADP...|        5|635655549841|       true|     false|         2|      2382|\n",
      "|377957131203|authorization for...|[NOUN, ADP, NOUN,...| english|[authorization, f...|      null| 23|          college of|            NOUN ADP|        2|163209273531|       true|     false|      9114|    129387|\n",
      "|472446409893|by the college co...|[ADP, DET, NOUN, ...| english|[by, the, college...|      null|  2|college consisted...|NOUN VERB ADP NUM...|        5|558346163085|       true|     false|         1|        45|\n",
      "|  8589945507|william a jr jess...|[VERB, DET, NOUN,...| english|[william, a, jr, ...|      null| 22|university of neb...|   NOUN ADP ADJ NOUN|        4|463856977226|       true|     false|       260|     16848|\n",
      "|120259095591|the cumbersome na...|[DET, NOUN, NOUN,...| english|[the, cumbersome,...|      null|  5|   school spezial or|     NOUN NOUN CCONJ|        3|214749200171|       true|     false|         1|      7902|\n",
      "|360777262872|the double concer...|[DET, ADJ, NOUN, ...| english|[the, double, con...|      null| 23|           school in|            NOUN ADP|        2|146029122119|       true|     false|     15052|    129387|\n",
      "+------------+--------------------+--------------------+--------+--------------------+----------+---+--------------------+--------------------+---------+------------+-----------+----------+----------+----------+\n",
      "only showing top 20 rows\n",
      "\n"
     ]
    },
    {
     "name": "stderr",
     "output_type": "stream",
     "text": [
      "                                                                                \r"
     ]
    }
   ],
   "source": [
    "withtagFBI.show()"
   ]
  },
  {
   "cell_type": "code",
   "execution_count": null,
   "id": "efc99c60-36ac-463e-89f7-2f91dd77e4f2",
   "metadata": {},
   "outputs": [],
   "source": []
  },
  {
   "cell_type": "code",
   "execution_count": 83,
   "id": "638fef72-caf3-4015-a4cd-1946f7afc419",
   "metadata": {},
   "outputs": [],
   "source": [
    "tfBC = read_avro(\"output/bcFreq\")"
   ]
  },
  {
   "cell_type": "code",
   "execution_count": 84,
   "id": "b03d3e1f-1047-4421-aeff-001ac14be808",
   "metadata": {},
   "outputs": [],
   "source": [
    "withtagFBC = bcData.join(tfBC, bcData.tag_gram == tfBC.tag_gram).drop(tfBC.tag_gram)"
   ]
  },
  {
   "cell_type": "code",
   "execution_count": 85,
   "id": "e8fcf351-b5d4-4c46-8bb0-6c664539b308",
   "metadata": {},
   "outputs": [
    {
     "name": "stderr",
     "output_type": "stream",
     "text": [
      "                                                                                \r"
     ]
    }
   ],
   "source": [
    "shutil.rmtree(\"output/withtagFBC\")\n",
    "write_avro(withtagFBC, \"output/withtagFBC\")"
   ]
  },
  {
   "cell_type": "code",
   "execution_count": 86,
   "id": "08a23cc3-7f9b-4b99-8815-79ccef7d0199",
   "metadata": {
    "tags": []
   },
   "outputs": [
    {
     "name": "stderr",
     "output_type": "stream",
     "text": [
      "[Stage 111:===================================================>   (77 + 6) / 83]\r"
     ]
    },
    {
     "name": "stdout",
     "output_type": "stream",
     "text": [
      "+------------+-------------------------------------+--------------------+--------+------------------------------+--------------------+---+--------------------------------+-----------+---------+------------+-----------+----------+----------+----------+\n",
      "| sentence_id|                             original|                 tag|language|                         token|          normal_tag|pos|                      token_gram|   tag_gram|gram_type|   unique_id|containsKey|middle_key|tok_gram_f|tag_gram_f|\n",
      "+------------+-------------------------------------+--------------------+--------+------------------------------+--------------------+---+--------------------------------+-----------+---------+------------+-----------+----------+----------+----------+\n",
      "|335007449289|                 ian mccabe pat fo...|[eng, eng, eng, e...| chinese|          [ian, mccabe, pat...|[X, X, X, X, X, X...| 39|                    香港 和 中国|    ns c ns|        3|309238227534|       true|     false|        77|      3167|\n",
      "|360777253795| 年 中华民国政府成立海军海道测量局...|[m, nt, v, n, n, ...| chinese|[年, 中华民国政府, 成立, 海...|[m, PROPN, VERB, ...| 12|                         中国 的|      ns uj|        2|146028910260|       true|     false|     10649|     20814|\n",
      "|412316863644|   王浦劬 男 江苏盐城人 中国政治学...|[nr, g, n, ns, nr...| chinese|  [王浦, 劬, 男, 江苏, 盐城...|[PROPN, UNKNOWN, ...|  5|中国 政治学家 现任 北京大学 教授|ns n n nt n|        5|644245422000|       true|     false|         1|       543|\n",
      "|171798693825|中国的一些地方政府制定了有关见义勇...|[ns, uj, m, n, n,...| chinese|  [中国, 的, 一些, 地方, 政...|[PROPN, U, m, NOU...|  0|          中国 的 一些 地方 政府|ns uj m n n|        5|609885660631|       true|     false|         1|       299|\n",
      "| 51539608516|     年月日 top 域名获得中华人民共...|[t, eng, n, v, ns...| chinese|   [年月日, top, 域名, 获得...|[t, X, NOUN, VERB...| 15|               中国 大陆 获得 了|  ns n v ul|        4|352187618350|       true|     false|         1|       420|\n",
      "| 25769805795|     美国参议员马可 卢比奥批评 twi...|[ns, n, nr, nrt, ...| chinese| [美国, 参议员, 马可, 卢比,...|[PROPN, NOUN, PRO...|  9|                     中国 审查员|       ns n|        2|137439001460|       true|     false|         2|    170697|\n",
      "|111669150618| 这个机构和这些学者 为中国的现代化...|[r, n, c, r, n, p...| chinese|  [这个, 机构, 和, 这些, 学...|[PRON, NOUN, CONJ...|  6|                         中国 的|      ns uj|        2|154619449240|       true|     false|     10649|     20814|\n",
      "|231928236724|  年 她与朱俊丞 卢宣彤一起出演大马...|[m, r, p, nr, nr,...| chinese|  [年, 她, 与, 朱俊丞, 卢宣...|[m, PRON, ADP, PR...| 33|      中国 综艺节目 中国 好 声音|ns l ns a n|        5|678605410051|       true|      true|         1|         2|\n",
      "| 51539609619|三商巧福 是台湾三商企业的牛肉面连锁店|[m, n, nr, v, ns,...| chinese|   [三, 商, 巧福, 是, 台湾,...|[m, NOUN, PROPN, ...|  4|                 台湾 三 商 企业|   ns m n n|        4|352187643121|       true|     false|         1|      1566|\n",
      "| 94489280673|  野博康加勒冰川大冰湖 中国冰川 或...|[n, nr, v, ns, a,...| chinese|  [野, 博康加, 勒, 冰川, 大...|[NOUN, PROPN, VER...| 17|               中国 西部 和 北部|   ns f c f|        4|369367191103|       true|     false|         2|        60|\n",
      "|266287975954|  主要分布于印度尼西亚 中国 常栖息...|[b, v, p, ns, ns,...| chinese|[主要, 分布, 于, 印度尼西亚...|[ADJ, VERB, ADP, ...|  4|              中国 常 栖息 在 亚|ns d v p ns|        5|515396419319|       true|     false|         1|       243|\n",
      "|455266536969|柬埔寨音乐受到一系列错綜复杂的文化...|[ns, n, v, m, n, ...| chinese|[柬埔寨, 音乐, 受到, 一系列...|[PROPN, NOUN, VER...| 15|                       中国 以及|       ns c|        2| 77309802155|       true|     false|        59|      6706|\n",
      "|326417520132|    有一个关于 长夜 的故事 年一 二...|[v, m, p, d, uj, ...| chinese|  [有, 一个, 关于, 长夜, 的...|[VERB, m, ADP, AD...| 11|                    中国 人民 对|     ns n p|        3|292057903348|       true|     false|         7|      6095|\n",
      "|231928236263| 分布于日本以及中国大陆的湖南 湖北...|[v, p, ns, c, ns,...| chinese|  [分布, 于, 日本, 以及, 中...|[VERB, ADP, PROPN...|  4|               中国 大陆 的 湖南| ns n uj ns|        4|506806738503|       true|     false|       100|      6166|\n",
      "|103079220776|中国自办的西医学校则始自年同文馆附...|[ns, v, uj, nr, n...| chinese|  [中国, 自办, 的, 西医, 学...|[PROPN, VERB, U, ...|  0|               中国 自办 的 西医| ns v uj nr|        4|438086787412|       true|     false|         1|        77|\n",
      "|326417518332|   胡欣男 郭建伸 对党产会泼粪 男怒...|[nr, nr, p, nt, n...| chinese|[胡欣男, 郭建伸, 对, 党产会...|[PROPN, PROPN, AD...| 35|           中国 青年 救国团 设置| ns t nt vn|        4|463856551128|       true|     false|         1|         2|\n",
      "|429496735026|   武士 字信明 隋末唐初官员 是随李...|[n, n, n, t, f, n...| chinese|  [武士, 字, 信明, 隋末唐, ...|[NOUN, NOUN, NOUN...| 16|            中国 唯一 的 女 皇帝|ns b uj n n|        5|575525730849|       true|     false|         2|       101|\n",
      "|111669151730| 以一代咏春宗师叶问的生平作蓝本 是...|[p, m, n, n, nr, ...| chinese|  [以, 一代, 咏春, 宗师, 叶...|[ADP, m, NOUN, NO...| 18|                       中国 同步|       ns d|        2|154619475697|       true|     false|         3|      8698|\n",
      "|395136995955| 稍后 香港先生监制何小慧对传媒说无...|[d, ns, n, vn, nr...| chinese|  [稍后, 香港, 先生, 监制, ...|[ADV, PROPN, NOUN...|  1|                       香港 先生|       ns n|        2|111669261405|       true|     false|        64|    170697|\n",
      "|231928237666|  尤声普以本作改编的粤剧 李广王 则...|[d, v, r, v, v, u...| chinese|  [尤声, 普以, 本, 作, 改编...|[ADV, VERB, PRON,...| 13|                   中国 战国时代|       ns n|        2|163209447717|       true|     false|        28|    170697|\n",
      "+------------+-------------------------------------+--------------------+--------+------------------------------+--------------------+---+--------------------------------+-----------+---------+------------+-----------+----------+----------+----------+\n",
      "only showing top 20 rows\n",
      "\n"
     ]
    },
    {
     "name": "stderr",
     "output_type": "stream",
     "text": [
      "                                                                                \r"
     ]
    }
   ],
   "source": [
    "withtagFBC.show()"
   ]
  },
  {
   "cell_type": "code",
   "execution_count": null,
   "id": "eaa71d93-926b-488a-b1b1-6e2ad8a0d732",
   "metadata": {},
   "outputs": [],
   "source": []
  },
  {
   "cell_type": "code",
   "execution_count": null,
   "id": "ddcd959b-eef6-4efa-9f83-0cf6723fc697",
   "metadata": {},
   "outputs": [],
   "source": []
  },
  {
   "cell_type": "code",
   "execution_count": null,
   "id": "bfa421ba-8cf4-4d6d-8011-3c2f966a42db",
   "metadata": {},
   "outputs": [],
   "source": []
  },
  {
   "cell_type": "code",
   "execution_count": 58,
   "id": "251afe76-4469-432c-b71f-c6bce6c4d21b",
   "metadata": {},
   "outputs": [
    {
     "data": {
      "text/plain": [
       "DataFrame[sentence_id: bigint, original: string, tag: array<string>, language: string, token: array<string>, normal_tag: array<string>, pos: int, token_gram: string, tag_gram: string, gram_type: string, unique_id: bigint, containsKey: boolean, middle_key: boolean, tok_gram_f: bigint, tag_gram_f: bigint]"
      ]
     },
     "execution_count": 58,
     "metadata": {},
     "output_type": "execute_result"
    }
   ],
   "source": [
    "bi"
   ]
  },
  {
   "cell_type": "code",
   "execution_count": 59,
   "id": "1ac7d9c4-2061-4d83-9fc5-c7b8155e2634",
   "metadata": {},
   "outputs": [
    {
     "data": {
      "text/plain": [
       "DataFrame[sentence_id: bigint, original: string, tag: array<string>, language: string, token: array<string>, normal_tag: array<string>, pos: int, token_gram: string, tag_gram: string, gram_type: string, unique_id: bigint, containsKey: boolean, middle_key: boolean, tok_gram_f: bigint, tag_gram_f: bigint]"
      ]
     },
     "execution_count": 59,
     "metadata": {},
     "output_type": "execute_result"
    }
   ],
   "source": [
    "bm"
   ]
  },
  {
   "cell_type": "code",
   "execution_count": 60,
   "id": "97df01b7-2115-4879-b95a-5134eb99cca4",
   "metadata": {},
   "outputs": [
    {
     "data": {
      "text/plain": [
       "DataFrame[sentence_id: bigint, original: string, tag: array<string>, language: string, token: array<string>, normal_tag: array<string>, pos: int, token_gram: string, tag_gram: string, gram_type: string, unique_id: bigint, containsKey: boolean, middle_key: boolean, tag_gram_f: bigint]"
      ]
     },
     "execution_count": 60,
     "metadata": {},
     "output_type": "execute_result"
    }
   ],
   "source": [
    "bc"
   ]
  },
  {
   "cell_type": "code",
   "execution_count": 87,
   "id": "01664d34-8c6b-4fdd-bb20-365ac100ff29",
   "metadata": {},
   "outputs": [],
   "source": [
    "bi = read_avro(\"output/withtagFBI\")\n",
    "bc = read_avro(\"output/withtagFBC\")\n",
    "bm = read_avro(\"output/withTagFBM\")"
   ]
  },
  {
   "cell_type": "code",
   "execution_count": 88,
   "id": "7a3438bf-bdea-4527-be44-70a01fb9f0ed",
   "metadata": {},
   "outputs": [],
   "source": [
    "from functools import reduce  # For Python 3.x\n",
    "from pyspark.sql import DataFrame\n",
    "\n",
    "def unionAll(*dfs):\n",
    "    return reduce(DataFrame.unionAll, dfs)"
   ]
  },
  {
   "cell_type": "code",
   "execution_count": 89,
   "id": "697cd59e-814f-4102-847f-3e561e378db7",
   "metadata": {},
   "outputs": [],
   "source": [
    "tagGramFreq = unionAll(bi, bc, bm)"
   ]
  },
  {
   "cell_type": "code",
   "execution_count": null,
   "id": "bb8ebdef-fe10-4a06-a78b-353a912923d4",
   "metadata": {},
   "outputs": [],
   "source": []
  },
  {
   "cell_type": "code",
   "execution_count": 92,
   "id": "b99a450d-baa6-4e75-b509-4adc31bb961d",
   "metadata": {},
   "outputs": [
    {
     "name": "stderr",
     "output_type": "stream",
     "text": [
      "                                                                                \r"
     ]
    }
   ],
   "source": [
    "write_avro(tagGramFreq, \"output/28_TagGramF\")"
   ]
  },
  {
   "cell_type": "code",
   "execution_count": 95,
   "id": "4daf0684-18ed-4803-b622-bb6ad41fd41a",
   "metadata": {
    "collapsed": true,
    "jupyter": {
     "outputs_hidden": true
    },
    "tags": []
   },
   "outputs": [
    {
     "name": "stderr",
     "output_type": "stream",
     "text": [
      "[Stage 119:=====================================>                 (11 + 5) / 16]\r"
     ]
    },
    {
     "name": "stdout",
     "output_type": "stream",
     "text": [
      "+------------+--------------------+--------------------+--------+--------------------+----------+---+--------------------+--------------------+---------+------------+-----------+----------+----------+----------+\n",
      "| sentence_id|            original|                 tag|language|               token|normal_tag|pos|          token_gram|            tag_gram|gram_type|   unique_id|containsKey|middle_key|tok_gram_f|tag_gram_f|\n",
      "+------------+--------------------+--------------------+--------+--------------------+----------+---+--------------------+--------------------+---------+------------+-----------+----------+----------+----------+\n",
      "|163208764125|ucl has hundreds ...|[NOUN, VERB, NOUN...| english|[ucl, has, hundre...|      null| 32|university and th...| NOUN CCONJ DET NOUN|        4|489626419615|       true|     false|       272|      2574|\n",
      "|403726932204|one known as coom...|[NUM, VERB, ADP, ...| english|[one, known, as, ...|      null| 32|         school home|           NOUN NOUN|        2|137439708576|       true|     false|        36|    122028|\n",
      "|171798700995|shields attended ...|[NOUN, VERB, VERB...| english|[shields, attende...|      null| 17|school run by psy...|NOUN VERB ADP ADJ...|        5|609885807128|       true|     false|         1|       573|\n",
      "|420906804456|after completing ...|[SCONJ, VERB, PRO...| english|[after, completin...|      null| 22|    college where he|       NOUN ADV PRON|        3|206158934912|       true|     false|       316|      2662|\n",
      "|223338308010|despite being cal...|[ADJ, AUX, VERB, ...| english|[despite, being, ...|      null|  5|         school many|            NOUN ADJ|        2| 17180685161|       true|     false|        22|      6086|\n",
      "|506806147207|it was then taken...|[PRON, AUX, ADV, ...| english|[it, was, then, t...|      null| 38|university of ten...|        NOUN ADP ADJ|        3|317828299221|       true|     false|       345|     22321|\n",
      "|292057782617|in the history of...|[ADP, DET, NOUN, ...| english|[in, the, history...|      null|  5|university the vi...|       NOUN DET NOUN|        3|274878343485|       true|     false|         1|      2778|\n",
      "|223338309487|two of the wounds...|[NUM, ADP, DET, N...| english|[two, of, the, wo...|      null| 12|  university medical|             ADJ ADJ|        2| 17180719403|       true|     false|       220|       392|\n",
      "|171798703217|the school of min...|[DET, NOUN, ADP, ...| english|[the, school, of,...|      null|  9|school of thought...| NOUN ADP VERB CCONJ|        4|438087459729|       true|     false|         2|        48|\n",
      "|438086670839|it is the first p...|[PRON, AUX, DET, ...| english|[it, is, the, fir...|      null|  6|  school in the city|   NOUN ADP DET NOUN|        4|403727347567|       true|     false|        99|      9462|\n",
      "|249108113152|international uni...|[ADJ, NOUN, VERB,...| english|[international, u...|      null| 16|       university of|            NOUN ADP|        2| 42950517299|       true|     false|     56829|    129387|\n",
      "|472446411927|following this ch...|[VERB, DET, NOUN,...| english|[following, this,...|      null| 13|  school in the area|   NOUN ADP DET NOUN|        4|386547812416|       true|     false|        58|      9462|\n",
      "| 77309421979|they are all situ...|[PRON, AUX, ADV, ...| english|[they, are, all, ...|      null| 10|    university is in|        NOUN AUX ADP|        3|180388868489|       true|     false|        35|       723|\n",
      "|        6949|our lady of victo...|[PRON, NOUN, ADP,...| english|[our, lady, of, v...|      null|  8|school offering g...|      NOUN VERB NOUN|        3|266288131370|       true|     false|         4|      3440|\n",
      "| 34359745030|the mundell inter...|[DET, NOUN, ADJ, ...| english|[the, mundell, in...|      null|  3|       university of|            NOUN ADP|        2|  8590399853|       true|     false|     56829|    129387|\n",
      "|420906805859|mercer university...|[NOUN, NOUN, NOUN...| english|[mercer, universi...|      null|  1|university press ...|  NOUN NOUN NOUN AUX|        4|377957632553|       true|     false|         1|      1460|\n",
      "|206158440373|he was also a pro...|[PRON, AUX, ADV, ...| english|[he, was, also, a...|      null|  8|university of col...|       NOUN ADP VERB|        3|223338528650|       true|     false|        16|      1784|\n",
      "| 17179877413|university for de...|[NOUN, ADP, NOUN,...| english|[university, for,...|      null|  0|university for de...|NOUN ADP NOUN NOU...|        5|678605000493|       true|     false|         1|       359|\n",
      "|146028899091|chester and coven...|[NOUN, CCONJ, VER...| english|[chester, and, co...|      null| 16|    university press|           NOUN NOUN|        2|103079472885|       true|     false|     17107|    122028|\n",
      "|        9770|old and famous se...|[ADJ, CCONJ, ADJ,...| english|[old, and, famous...|      null| 11| school iringa girls|      NOUN NOUN NOUN|        3|266288193232|       true|     false|         1|     31943|\n",
      "+------------+--------------------+--------------------+--------+--------------------+----------+---+--------------------+--------------------+---------+------------+-----------+----------+----------+----------+\n",
      "only showing top 20 rows\n",
      "\n"
     ]
    },
    {
     "name": "stderr",
     "output_type": "stream",
     "text": [
      "                                                                                \r"
     ]
    }
   ],
   "source": [
    "import pyspark.sql.functions as F\n",
    "read_avro(\"output/28_TagGramF\").filter(F.col(\"language\") == \"english\").show()"
   ]
  }
 ],
 "metadata": {
  "kernelspec": {
   "display_name": "venv-spark",
   "language": "python",
   "name": "venv-spark"
  },
  "language_info": {
   "codemirror_mode": {
    "name": "ipython",
    "version": 3
   },
   "file_extension": ".py",
   "mimetype": "text/x-python",
   "name": "python",
   "nbconvert_exporter": "python",
   "pygments_lexer": "ipython3",
   "version": "3.9.13"
  }
 },
 "nbformat": 4,
 "nbformat_minor": 5
}
