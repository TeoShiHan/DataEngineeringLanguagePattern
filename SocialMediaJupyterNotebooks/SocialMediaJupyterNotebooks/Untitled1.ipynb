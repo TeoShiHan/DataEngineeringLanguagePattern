{
 "cells": [
  {
   "cell_type": "code",
   "execution_count": 15,
   "id": "b23baa4e-5f49-4c5a-bae4-86e1e8b474c8",
   "metadata": {
    "tags": []
   },
   "outputs": [
    {
     "name": "stdout",
     "output_type": "stream",
     "text": [
      "22/10/09 14:37:26 WARN SparkSession: Using an existing Spark session; only runtime SQL configurations will take effect.\n",
      "The autoreload extension is already loaded. To reload it, use:\n",
      "  %reload_ext autoreload\n",
      "22/10/09 14:37:26 WARN SparkSession: Using an existing Spark session; only runtime SQL configurations will take effect.\n"
     ]
    }
   ],
   "source": [
    "## arguments\n",
    "pyspark_bin_path = \"/home/pc/TestJupyter/opt/spark-3.3.0/spark-3.3.0-bin-hadoop3\"\n",
    "python_path = \"/home/pc/TestJupyter/opt/spark-3.3.0/venv-spark/bin/python39\"\n",
    "app_name = \"social media\"\n",
    "data_path = \"/home/pc/data/parsed_data/4preview-data-comment_only.csv\"\n",
    "hdfs_working_path = \"hdfs://10.123.51.78:8020/user/social_media/\"\n",
    "malay_stopword_path = \"/home/pc/Assignment/node_modules/stopwords-ms/stopwords-ms.json\"\n",
    "\n",
    "from connectPyspark import *\n",
    "%load_ext autoreload\n",
    "%autoreload 2\n",
    "import shutil\n",
    "import os\n",
    "import json\n",
    "import findspark\n",
    "findspark.init(pyspark_bin_path)\n",
    "import utilities as u\n",
    "import pyspark\n",
    "from pyspark.sql import SparkSession\n",
    "from LangAgg import *\n",
    "from pyspark.sql.window import Window\n",
    "from nltk.corpus import stopwords\n",
    "\n",
    "\n",
    "\n",
    "## initialize spark session\n",
    "os.environ[\"HADOOP_USER_NAME\"] = \"hdfs\"\n",
    "os.environ[\"PYSPARK_PYTHON\"] = python_path\n",
    "os.environ['PYSPARK_SUBMIT_ARGS'] = '--packages org.apache.spark:spark-avro_2.12:3.3.0  pyspark-shell'\n",
    "\n",
    "\n",
    "spark = SparkSession.builder \\\n",
    "    .master(\"local[*]\") \\\n",
    "    .appName(app_name) \\\n",
    "    .getOrCreate()\n"
   ]
  },
  {
   "cell_type": "code",
   "execution_count": 13,
   "id": "889865ec-a060-446b-9c76-b13cb6605e05",
   "metadata": {},
   "outputs": [],
   "source": [
    "import pyspark.sql.functions as f"
   ]
  },
  {
   "cell_type": "code",
   "execution_count": 42,
   "id": "6a876aa0-212d-4f3b-80db-50896983ba13",
   "metadata": {},
   "outputs": [],
   "source": [
    "bc = read_avro(\"output/4_CommentWithLanguage_COST\").filter(f.col(\"lang\") == \"Language.CHINESE\")\n",
    "bi = read_avro(\"output/4_CommentWithLanguage_COST\").filter(f.col(\"lang\") == \"Language.ENGLISH\")\n",
    "bm = read_avro(\"output/4_CommentWithLanguage_COST\").filter(f.col(\"lang\") == \"Language.MALAY\")"
   ]
  },
  {
   "cell_type": "code",
   "execution_count": 43,
   "id": "fdd0fa6f-628a-43e7-9557-d574f208438c",
   "metadata": {},
   "outputs": [],
   "source": [
    "bc = bc.sample(0.002)"
   ]
  },
  {
   "cell_type": "code",
   "execution_count": 44,
   "id": "6071956b-22a9-49f7-aaf1-bb51e667b2ff",
   "metadata": {},
   "outputs": [],
   "source": [
    "bi = bi.sample(0.0001)"
   ]
  },
  {
   "cell_type": "code",
   "execution_count": 45,
   "id": "62338af2-cf61-492c-82d3-4e12404afe44",
   "metadata": {},
   "outputs": [],
   "source": [
    "bm = bm.sample(0.0001)"
   ]
  },
  {
   "cell_type": "code",
   "execution_count": 50,
   "id": "c9620c02-64c8-43d1-a100-c9558b1534f3",
   "metadata": {},
   "outputs": [
    {
     "name": "stderr",
     "output_type": "stream",
     "text": [
      "                                                                                \r"
     ]
    }
   ],
   "source": [
    "from functools import reduce  # For Python 3.x\n",
    "from pyspark.sql import DataFrame\n",
    "def unionAll(*dfs):\n",
    "    return reduce(DataFrame.unionAll, dfs)\n",
    "\n",
    "\n",
    "r = unionAll(bi, bm, bc).drop(\"lang\")\n",
    "r.write.mode(\"overwrite\").csv(\"output/sample.csv\", header=True)"
   ]
  }
 ],
 "metadata": {
  "kernelspec": {
   "display_name": "venv-spark",
   "language": "python",
   "name": "venv-spark"
  },
  "language_info": {
   "codemirror_mode": {
    "name": "ipython",
    "version": 3
   },
   "file_extension": ".py",
   "mimetype": "text/x-python",
   "name": "python",
   "nbconvert_exporter": "python",
   "pygments_lexer": "ipython3",
   "version": "3.9.13"
  }
 },
 "nbformat": 4,
 "nbformat_minor": 5
}
