{
 "cells": [
  {
   "cell_type": "markdown",
   "id": "3ab98855-dca5-4a5f-bc75-ee793d7d24c8",
   "metadata": {},
   "source": [
    "### STEP 18 : MERGE THE TAG"
   ]
  },
  {
   "cell_type": "code",
   "execution_count": 2,
   "id": "63381b3a-b238-4430-8cb1-ee79f5ebccd3",
   "metadata": {
    "collapsed": true,
    "jupyter": {
     "outputs_hidden": true
    },
    "tags": []
   },
   "outputs": [
    {
     "name": "stderr",
     "output_type": "stream",
     "text": [
      "Warning: Ignoring non-Spark config property: hive.metastore.uris\n"
     ]
    },
    {
     "name": "stdout",
     "output_type": "stream",
     "text": [
      ":: loading settings :: url = jar:file:/home/pc/TestJupyter/opt/spark-3.3.0/spark-3.3.0-bin-hadoop3/jars/ivy-2.5.0.jar!/org/apache/ivy/core/settings/ivysettings.xml\n"
     ]
    },
    {
     "name": "stderr",
     "output_type": "stream",
     "text": [
      "Ivy Default Cache set to: /home/pc/.ivy2/cache\n",
      "The jars for the packages stored in: /home/pc/.ivy2/jars\n",
      "org.apache.spark#spark-avro_2.12 added as a dependency\n",
      ":: resolving dependencies :: org.apache.spark#spark-submit-parent-0d2beb24-89d3-48ed-b7a7-881b554d82c1;1.0\n",
      "\tconfs: [default]\n",
      "\tfound org.apache.spark#spark-avro_2.12;3.3.0 in central\n",
      "\tfound org.tukaani#xz;1.8 in central\n",
      "\tfound org.spark-project.spark#unused;1.0.0 in central\n",
      ":: resolution report :: resolve 293ms :: artifacts dl 53ms\n",
      "\t:: modules in use:\n",
      "\torg.apache.spark#spark-avro_2.12;3.3.0 from central in [default]\n",
      "\torg.spark-project.spark#unused;1.0.0 from central in [default]\n",
      "\torg.tukaani#xz;1.8 from central in [default]\n",
      "\t---------------------------------------------------------------------\n",
      "\t|                  |            modules            ||   artifacts   |\n",
      "\t|       conf       | number| search|dwnlded|evicted|| number|dwnlded|\n",
      "\t---------------------------------------------------------------------\n",
      "\t|      default     |   3   |   0   |   0   |   0   ||   3   |   0   |\n",
      "\t---------------------------------------------------------------------\n",
      ":: retrieving :: org.apache.spark#spark-submit-parent-0d2beb24-89d3-48ed-b7a7-881b554d82c1\n",
      "\tconfs: [default]\n",
      "\t0 artifacts copied, 3 already retrieved (0kB/5ms)\n"
     ]
    },
    {
     "name": "stdout",
     "output_type": "stream",
     "text": [
      "22/10/07 23:19:43 WARN NativeCodeLoader: Unable to load native-hadoop library for your platform... using builtin-java classes where applicable\n"
     ]
    },
    {
     "name": "stderr",
     "output_type": "stream",
     "text": [
      "Setting default log level to \"WARN\".\n",
      "To adjust logging level use sc.setLogLevel(newLevel). For SparkR, use setLogLevel(newLevel).\n"
     ]
    },
    {
     "name": "stdout",
     "output_type": "stream",
     "text": [
      "22/10/07 23:19:44 WARN Utils: Service 'SparkUI' could not bind on port 4040. Attempting port 4041.\n",
      "22/10/07 23:19:44 WARN Utils: Service 'SparkUI' could not bind on port 4041. Attempting port 4042.\n",
      "22/10/07 23:19:44 WARN Utils: Service 'SparkUI' could not bind on port 4042. Attempting port 4043.\n",
      "22/10/07 23:19:44 WARN Utils: Service 'SparkUI' could not bind on port 4043. Attempting port 4044.\n",
      "22/10/07 23:19:44 WARN Utils: Service 'SparkUI' could not bind on port 4044. Attempting port 4045.\n",
      "22/10/07 23:19:44 WARN Utils: Service 'SparkUI' could not bind on port 4045. Attempting port 4046.\n",
      "22/10/07 23:19:44 WARN Utils: Service 'SparkUI' could not bind on port 4046. Attempting port 4047.\n",
      "22/10/07 23:19:44 WARN Utils: Service 'SparkUI' could not bind on port 4047. Attempting port 4048.\n",
      "22/10/07 23:19:44 WARN Utils: Service 'SparkUI' could not bind on port 4048. Attempting port 4049.\n"
     ]
    }
   ],
   "source": [
    "from connectPyspark import *"
   ]
  },
  {
   "cell_type": "code",
   "execution_count": 4,
   "id": "1472f981-9fdf-4f88-8384-08baa429e175",
   "metadata": {},
   "outputs": [
    {
     "data": {
      "text/plain": [
       "DataFrame[original: string, token: array<string>, tag: array<string>, language: string]"
      ]
     },
     "execution_count": 4,
     "metadata": {},
     "output_type": "execute_result"
    }
   ],
   "source": [
    "bmbi = read_avro(\"output/17_BM_BI_TAG_COST_FINAL\")\n",
    "bmbi"
   ]
  },
  {
   "cell_type": "code",
   "execution_count": 5,
   "id": "c1e929aa-d001-48fa-a66b-525ce1716c4d",
   "metadata": {},
   "outputs": [
    {
     "data": {
      "text/plain": [
       "DataFrame[original: string, token: array<string>, chinese_tag: array<string>, language: string, tag: array<string>]"
      ]
     },
     "execution_count": 5,
     "metadata": {},
     "output_type": "execute_result"
    }
   ],
   "source": [
    "bc = read_avro(\"output/15_ChineseTag\")\n",
    "bc"
   ]
  },
  {
   "cell_type": "code",
   "execution_count": 6,
   "id": "f6d2c58e-6b1a-4ebe-847d-f8364e55c769",
   "metadata": {},
   "outputs": [],
   "source": [
    "from functools import reduce  # For Python 3.x\n",
    "from pyspark.sql import DataFrame\n",
    "\n",
    "merged = bmbi.unionByName(bc, allowMissingColumns=True)"
   ]
  },
  {
   "cell_type": "code",
   "execution_count": 7,
   "id": "f8a54426-ae27-4d88-adeb-8a0ae609e350",
   "metadata": {
    "collapsed": true,
    "jupyter": {
     "outputs_hidden": true
    },
    "tags": []
   },
   "outputs": [
    {
     "name": "stderr",
     "output_type": "stream",
     "text": [
      "[Stage 2:======================================================>  (19 + 1) / 20]\r"
     ]
    },
    {
     "name": "stdout",
     "output_type": "stream",
     "text": [
      "+-------------------------------------+-----------------------------+--------------------+--------+--------------------+\n",
      "|                             original|                        token|                 tag|language|         chinese_tag|\n",
      "+-------------------------------------+-----------------------------+--------------------+--------+--------------------+\n",
      "|               東西很好 而且 送货很快| [東西, 很, 好, 而且, 送货...|[PROPN, ADV, ADJ,...| chinese| [ns, d, a, c, v, d]|\n",
      "|             泡麵營養價值哪裡比便當高|   [泡, 麵, 營, 養, 價, 值...|[VERB, ADV, VERB,...| chinese|[v, zg, v, v, n, ...|\n",
      "| 卖家有送两包面 如果送酸辣粉就更好...|  [卖家, 有, 送, 两包, 面,...|[NOUN, VERB, VERB...| chinese|[n, v, v, m, n, c...|\n",
      "|            收到的包裹完好无损 棒棒哒|[收到, 的, 包裹, 完好无损,...|[VERB, U, VERB, A...| chinese|[v, uj, v, i, n, zg]|\n",
      "|  上一個龍哥已經躺了 自己注意健康好嗎| [上, 一個, 龍哥, 已經, 躺...|[VERB, M, NOUN, A...| chinese|[f, m, n, d, v, u...|\n",
      "|  这个对眼睛真的很好 用了过后 发现...| [这个, 对, 眼睛, 真的, 很...|[PRON, ADP, NOUN,...| chinese|[r, p, n, d, d, a...|\n",
      "|时刻开始考试考想你想你想你多么多么...| [时刻, 开始, 考试, 考想, ...|[NOUN, VERB, VERB...| chinese|[n, v, vn, v, r, ...|\n",
      "|价格更是比别家的实惠多了服务质量好...| [价格, 更是, 比, 别家, 的...|[NOUN, ADV, ADP, ...| chinese|[n, d, p, r, uj, ...|\n",
      "|      其他试过的都很好喝 会继续再购买|  [其他, 试过, 的, 都, 很,...|[PRON, VERB, U, A...| chinese|[r, v, uj, d, d, ...|\n",
      "|             瓶子完美 可以在回购 很好| [瓶子, 完美, 可以, 在, 回...|[NOUN, ADJ, CONJ,...| chinese|[n, a, c, p, v, d...|\n",
      "|        ALIAS 狠搞鬼 肯定要支持的 ...|    [ALIAS, 狠, 搞鬼, 肯定...|[X, ADV, VERB, VE...| chinese|[eng, d, v, v, v,...|\n",
      "|                   收到货了 很美 谢谢| [收到, 货, 了, 很, 美, 谢谢]|[VERB, NOUN, U, A...| chinese|[v, n, ul, zg, ns...|\n",
      "|          包装超好的 还有一个爱心卡片| [包装, 超好, 的, 还有, 一...|[VERB, VERB, U, V...| chinese|[v, v, uj, v, m, ...|\n",
      "|            无破损 买来 refill pen...|    [无, 破损, 买来, refil...|[VERB, VERB, VERB...| chinese|[v, v, v, eng, en...|\n",
      "|非常感谢卖家的用心包装一点也没有损...|[非常感谢, 卖家, 的, 用心,...|[ADJ, NOUN, U, NO...| chinese|[i, n, uj, n, v, ...|\n",
      "|          东西收到了 谢谢第二次回购了| [东西, 收到, 了, 谢谢, 第...|[PROPN, VERB, U, ...| chinese|[ns, v, ul, nr, m...|\n",
      "|   盒子有点压到 但大致上没问题 邮寄快|  [盒子, 有点, 压, 到, 但,...|[NOUN, NOUN, VERB...| chinese|[n, n, v, v, c, d...|\n",
      "|  这个主题很可以 很特别有趣啊 谢谢...| [这个, 主题, 很, 可以, 很...|[PRON, NOUN, ADV,...| chinese|[r, n, zg, c, zg,...|\n",
      "|           在天天草药已经购买了好几次| [在, 天天, 草药, 已经, 购...|[ADP, ADV, NOUN, ...| chinese|[p, t, n, d, v, u...|\n",
      "|              放了雞腿一起煮 味道很好|   [放, 了, 雞, 腿, 一起, ...|[VERB, U, NOUN, N...| chinese|[v, ul, n, n, m, ...|\n",
      "+-------------------------------------+-----------------------------+--------------------+--------+--------------------+\n",
      "only showing top 20 rows\n",
      "\n"
     ]
    },
    {
     "name": "stderr",
     "output_type": "stream",
     "text": [
      "                                                                                \r"
     ]
    }
   ],
   "source": [
    "merged.filter(merged.language == \"chinese\").show()"
   ]
  },
  {
   "cell_type": "code",
   "execution_count": 19,
   "id": "be07f21f-e488-45d9-85f6-05e10029f5cc",
   "metadata": {
    "collapsed": true,
    "jupyter": {
     "outputs_hidden": true,
     "source_hidden": true
    },
    "tags": []
   },
   "outputs": [
    {
     "name": "stdout",
     "output_type": "stream",
     "text": [
      "+--------------------------------------------------------------------------------------------------------------------------------------------------------------------------------------+---------------------------------------------------------------------------------------------------------------------------------------------+\n",
      "|token                                                                                                                                                                                 |tag                                                                                                                                          |\n",
      "+--------------------------------------------------------------------------------------------------------------------------------------------------------------------------------------+---------------------------------------------------------------------------------------------------------------------------------------------+\n",
      "|[banyak, kali, tanya, seller, stock, baru, bila, sampai, sbb, flavour, ni, cepat, habis, finally, dapat, pun]                                                                         |[DET, NOUN, VERB, NOUN, NOUN, ADJ, SCONJ, VERB, CCONJ, NOUN, DET, ADJ, ADJ, ADV, ADV, PRON]                                                  |\n",
      "|[beg, cantik, ank, suka, bole, buat, g, sekola, tadika, tahun]                                                                                                                        |[NOUN, ADJ, NOUN, ADJ, ADV, VERB, NOUN, NOUN, NOUN, NOUN]                                                                                    |\n",
      "|[barang, puashati, truster, saller, sbb, siap, bagi, resit, pembelian, di, overseas, pepatah, melayu, alah, membeli, menang, memakai, cuma, lambat, sampai, xdpt, nak, buat, surprise]|[NOUN, ADJ, NOUN, ADJ, SCONJ, VERB, VERB, NOUN, NOUN, ADP, PROPN, NOUN, PROPN, SCONJ, VERB, VERB, VERB, ADV, ADJ, ADP, VERB, ADV, VERB, NOUN]|\n",
      "|[barang, sampai, dalam, keadaan, yang, sempurna, dan, selamat, tiada, cacat, celah, next, time, boleh, beli, lagi, hehe]                                                              |[NOUN, VERB, ADP, NOUN, PRON, ADJ, CCONJ, ADJ, PART, NOUN, NOUN, NOUN, NOUN, ADV, VERB, ADV, NOUN]                                           |\n",
      "|[balutan, kemas, and, bubble, wrap, tebal, overall, smeua, okay, pre, order, pun, seminggu, sahaja, amik, masa, highly, recommended]                                                  |[NOUN, ADJ, CCONJ, NOUN, NOUN, ADJ, ADV, ADJ, ADJ, PROPN, NOUN, ADV, ADV, ADV, VERB, NOUN, PROPN, ADJ]                                       |\n",
      "|[harga, berbaloi, muka, dia, muat, utk, kepala, saya, yg, besar, ni, tp, kalau, kepala, yg, jenis, kecil, mungkin, akn, longgar]                                                      |[NOUN, ADJ, NOUN, PRON, VERB, ADP, NOUN, PRON, PRON, ADJ, DET, CCONJ, SCONJ, NOUN, PRON, NOUN, ADJ, ADV, ADV, ADJ]                           |\n",
      "|[kasut, dh, selamat, sampai, n, dlm, keadaan, yg, baik, cantik, saya, suka]                                                                                                           |[NOUN, ADV, ADJ, VERB, CCONJ, ADP, NOUN, PRON, ADJ, ADJ, PRON, VERB]                                                                         |\n",
      "|[product, ok, senang, letak, dalam, handbag, harga, murah, puas, hati]                                                                                                                |[NOUN, ADJ, ADV, VERB, ADP, NOUN, NOUN, ADJ, ADJ, NOUN]                                                                                      |\n",
      "|[selesa, sangat, kain, corak, dan, warna, semua, cantik, kaftan, besar, dan, luaslawa, sangat, terima, kasih, seller, servis, terbaik]                                                |[ADJ, ADV, NOUN, NOUN, CCONJ, NOUN, DET, ADJ, NOUN, ADJ, CCONJ, NOUN, ADV, VERB, NOUN, NOUN, NOUN, ADJ]                                      |\n",
      "|[harga, serius, murah, sangat, kalau, nak, dibandingkan, beli, kat, kedai]                                                                                                            |[NOUN, ADJ, ADJ, ADV, SCONJ, ADV, VERB, VERB, ADP, NOUN]                                                                                     |\n",
      "+--------------------------------------------------------------------------------------------------------------------------------------------------------------------------------------+---------------------------------------------------------------------------------------------------------------------------------------------+\n",
      "only showing top 10 rows\n",
      "\n"
     ]
    }
   ],
   "source": [
    "merged.filter(merged.language == \"malay\").select(\"token\", \"tag\").show(10, False)"
   ]
  },
  {
   "cell_type": "code",
   "execution_count": 20,
   "id": "e17a3fc1-d050-4c59-a60e-85799bdeb09a",
   "metadata": {
    "collapsed": true,
    "jupyter": {
     "outputs_hidden": true
    },
    "tags": []
   },
   "outputs": [
    {
     "name": "stdout",
     "output_type": "stream",
     "text": [
      "+-------------------------------------------------------------------------------------------------------------------------------------------------------------------+---------------------------------------------------------------------------------------------------------------------------------------------+\n",
      "|token                                                                                                                                                              |tag                                                                                                                                          |\n",
      "+-------------------------------------------------------------------------------------------------------------------------------------------------------------------+---------------------------------------------------------------------------------------------------------------------------------------------+\n",
      "|[original, innisfree, masks, cheaper, compared, to, other, sellers]                                                                                                |[PROPN, NOUN, NOUN, ADJ, VERB, ADP, NOUN, NOUN]                                                                                              |\n",
      "|[thanks, seller, very, fast, delivery, received, the, product, within, days, but, the, packing, is, very, simple, but, fortunately, no, broken]                    |[PROPN, PROPN, ADV, ADJ, NOUN, VERB, DET, NOUN, ADP, NOUN, CCONJ, DET, NOUN, VERB, ADV, ADJ, CCONJ, NOUN, PROPN, NOUN]                       |\n",
      "|[will, continue, re, buy, from, the, seller]                                                                                                                       |[ADV, VERB, PROPN, VERB, ADP, PROPN, NOUN]                                                                                                   |\n",
      "|[akan, sentiasa, repeat, order, dgn, seller, ni]                                                                                                                   |[ADV, ADV, VERB, NOUN, ADP, NOUN, DET]                                                                                                       |\n",
      "|[unexpected, fast, delivery, product, received, in, good, condition, nice, quality, this, going, to, make, my, christmas, gathering, more, fun, well, done, seller]|[NOUN, PROPN, NOUN, NOUN, VERB, ADP, PROPN, PROPN, PROPN, PROPN, PRON, VERB, ADP, VERB, NOUN, PROPN, PROPN, NOUN, PROPN, PROPN, PROPN, PROPN]|\n",
      "|[fast, delivery, by, seller, has, a, fragile, sticker, bad, rep, by, delivery, guy]                                                                                |[PROPN, NOUN, PROPN, PROPN, ADV, NOUN, NOUN, NOUN, PROPN, NOUN, ADP, NOUN, NOUN]                                                             |\n",
      "|[thank, you, seller, will, enjoy, this, book]                                                                                                                      |[PROPN, PRON, PROPN, ADV, VERB, DET, NOUN]                                                                                                   |\n",
      "|[thank, you, seller, for, the, veryyyy, fast, delivery, love, love, it]                                                                                            |[NOUN, PRON, NOUN, ADP, DET, NOUN, NOUN, NOUN, VERB, VERB, PRON]                                                                             |\n",
      "|[safely, arrived, thank, you, seller, thank, you, courier, man, thank, you, shopee, stay, safe, stay, healthy, everyone]                                           |[PROPN, VERB, PROPN, PRON, PROPN, PROPN, PRON, PROPN, PROPN, PROPN, PRON, PROPN, VERB, ADJ, VERB, ADJ, PROPN]                                |\n",
      "|[good, product, quality, good, value, for, money, fast, delivery, and, excellent, service, by, sellers]                                                            |[PROPN, PROPN, PROPN, PROPN, PROPN, ADP, NOUN, PROPN, NOUN, CCONJ, PROPN, PROPN, PROPN, NOUN]                                                |\n",
      "+-------------------------------------------------------------------------------------------------------------------------------------------------------------------+---------------------------------------------------------------------------------------------------------------------------------------------+\n",
      "only showing top 10 rows\n",
      "\n"
     ]
    }
   ],
   "source": [
    "merged.filter(merged.language == \"english\").select(\"token\", \"tag\").show(10, False)"
   ]
  },
  {
   "cell_type": "code",
   "execution_count": 8,
   "id": "898a49a1-f30a-4a78-bd10-6f091312cf5c",
   "metadata": {},
   "outputs": [
    {
     "name": "stderr",
     "output_type": "stream",
     "text": [
      "                                                                                \r"
     ]
    }
   ],
   "source": [
    "shutil.rmtree(\"output/18_MERGE_TAG\")\n",
    "write_avro(merged, \"output/18_MERGE_TAG\")"
   ]
  },
  {
   "cell_type": "markdown",
   "id": "59c74564-bc1a-42fa-8310-cedacdfa5113",
   "metadata": {},
   "source": [
    "### STEP 19 : PREPARING THE UNIQUE WORDS IN CURRENT SENTENCES"
   ]
  },
  {
   "cell_type": "code",
   "execution_count": 9,
   "id": "ec57e6b2-57a4-4808-a3d6-790fb11f46db",
   "metadata": {},
   "outputs": [],
   "source": [
    "df = read_avro(\"output/18_MERGE_TAG\")"
   ]
  },
  {
   "cell_type": "code",
   "execution_count": 10,
   "id": "87147e90-6a51-48d5-82e9-b84a89b75f28",
   "metadata": {
    "collapsed": true,
    "jupyter": {
     "outputs_hidden": true
    },
    "tags": []
   },
   "outputs": [
    {
     "name": "stderr",
     "output_type": "stream",
     "text": [
      "[Stage 4:>                                                          (0 + 1) / 1]\r"
     ]
    },
    {
     "name": "stdout",
     "output_type": "stream",
     "text": [
      "+-------+\n",
      "|  words|\n",
      "+-------+\n",
      "| banyak|\n",
      "|   kali|\n",
      "|  tanya|\n",
      "| seller|\n",
      "|  stock|\n",
      "|   baru|\n",
      "|   bila|\n",
      "| sampai|\n",
      "|    sbb|\n",
      "|flavour|\n",
      "|     ni|\n",
      "|  cepat|\n",
      "|  habis|\n",
      "|finally|\n",
      "|  dapat|\n",
      "|    pun|\n",
      "|    beg|\n",
      "| cantik|\n",
      "|    ank|\n",
      "|   suka|\n",
      "+-------+\n",
      "only showing top 20 rows\n",
      "\n"
     ]
    },
    {
     "name": "stderr",
     "output_type": "stream",
     "text": [
      "                                                                                \r"
     ]
    }
   ],
   "source": [
    "words = \\\n",
    "df.rdd.flatMap(lambda x : x.token) \\\n",
    ".map(lambda x : (x,1)) \\\n",
    ".toDF([\"words\"]) \\\n",
    ".drop(\"_2\")\n",
    "\n",
    "words.show()"
   ]
  },
  {
   "cell_type": "code",
   "execution_count": 11,
   "id": "99590964-de47-4edb-af1d-cad59c145036",
   "metadata": {},
   "outputs": [],
   "source": [
    "uniqueWords = words.select('words').distinct()"
   ]
  },
  {
   "cell_type": "code",
   "execution_count": 12,
   "id": "b19d9fac-622c-4995-a657-b31dc51520a9",
   "metadata": {},
   "outputs": [
    {
     "name": "stderr",
     "output_type": "stream",
     "text": [
      "                                                                                \r"
     ]
    },
    {
     "data": {
      "text/plain": [
       "168433"
      ]
     },
     "execution_count": 12,
     "metadata": {},
     "output_type": "execute_result"
    }
   ],
   "source": [
    "uniqueWords.count()"
   ]
  },
  {
   "cell_type": "code",
   "execution_count": 13,
   "id": "edd09b49-71f8-428b-a671-04f98e2c503c",
   "metadata": {},
   "outputs": [
    {
     "name": "stderr",
     "output_type": "stream",
     "text": [
      "                                                                                \r"
     ]
    }
   ],
   "source": [
    "shutil.rmtree(\"output/19_uniqueWords\")\n",
    "write_avro(uniqueWords, \"output/19_uniqueWords\")"
   ]
  },
  {
   "cell_type": "markdown",
   "id": "3e0ec48a-e837-4544-bc2e-0b346a7fefd7",
   "metadata": {},
   "source": [
    "### STEP 20 : PREPARING THE UNIQUE WORDS IN CURRENT SENTENCES"
   ]
  },
  {
   "cell_type": "code",
   "execution_count": 14,
   "id": "43e70859-a497-4c85-8408-062a0f2885c0",
   "metadata": {},
   "outputs": [],
   "source": [
    "uW = read_avro(\"output/19_uniqueWords\")\n",
    "wL = read_avro(\"output/7_wcLang.avro\")"
   ]
  },
  {
   "cell_type": "code",
   "execution_count": 15,
   "id": "6b9f5899-1960-4042-b6d5-f5a3e9d8ff47",
   "metadata": {},
   "outputs": [],
   "source": [
    "wL = wL.drop(\"word_count\").drop(\"id\")"
   ]
  },
  {
   "cell_type": "code",
   "execution_count": 34,
   "id": "8a298376-ac3f-4635-a2e1-f8684b766dc9",
   "metadata": {},
   "outputs": [
    {
     "data": {
      "text/plain": [
       "DataFrame[word: string, wordLang: string]"
      ]
     },
     "execution_count": 34,
     "metadata": {},
     "output_type": "execute_result"
    }
   ],
   "source": [
    "wL"
   ]
  },
  {
   "cell_type": "code",
   "execution_count": 35,
   "id": "dea357a4-cc6a-4542-a0d5-9ae130cf67ee",
   "metadata": {},
   "outputs": [
    {
     "data": {
      "text/plain": [
       "DataFrame[words: string]"
      ]
     },
     "execution_count": 35,
     "metadata": {},
     "output_type": "execute_result"
    }
   ],
   "source": [
    "uW"
   ]
  },
  {
   "cell_type": "code",
   "execution_count": 16,
   "id": "22163801-dc8e-4c8a-b753-a5da529911bd",
   "metadata": {},
   "outputs": [],
   "source": [
    "withPreDetected = uW.join(wL,wL.word ==  uW.words,\"left\").drop(\"word\")"
   ]
  },
  {
   "cell_type": "code",
   "execution_count": 17,
   "id": "c98fffd9-681b-4588-a42f-5d7c8ea6cda7",
   "metadata": {
    "collapsed": true,
    "jupyter": {
     "outputs_hidden": true
    },
    "tags": []
   },
   "outputs": [
    {
     "name": "stdout",
     "output_type": "stream",
     "text": [
      "+---------+----------------+\n",
      "|    words|        wordLang|\n",
      "+---------+----------------+\n",
      "|    adaaa|  Language.MALAY|\n",
      "|  alquran|Language.ENGLISH|\n",
      "|     didi|  Language.MALAY|\n",
      "|      dri|Language.ENGLISH|\n",
      "| hantaran|  Language.MALAY|\n",
      "|   haritu|Language.ENGLISH|\n",
      "|     hope|Language.ENGLISH|\n",
      "|    inner|Language.ENGLISH|\n",
      "|      myb|  Language.MALAY|\n",
      "|   online|Language.ENGLISH|\n",
      "|   papepn|  Language.MALAY|\n",
      "|    patut|  Language.MALAY|\n",
      "|penghntrn|  Language.MALAY|\n",
      "|   selagi|  Language.MALAY|\n",
      "|   sngatt|  Language.MALAY|\n",
      "|     some|Language.ENGLISH|\n",
      "|     spai|Language.ENGLISH|\n",
      "|    still|Language.ENGLISH|\n",
      "|    tapak|  Language.MALAY|\n",
      "|    those|Language.ENGLISH|\n",
      "+---------+----------------+\n",
      "only showing top 20 rows\n",
      "\n"
     ]
    }
   ],
   "source": [
    "withPreDetected.show()"
   ]
  },
  {
   "cell_type": "code",
   "execution_count": 18,
   "id": "c61762eb-3472-44b5-919e-ffc552efa04a",
   "metadata": {},
   "outputs": [],
   "source": [
    "nullSet = withPreDetected.filter(withPreDetected.wordLang.isNull())\n",
    "notNullSet = withPreDetected.filter(~withPreDetected.wordLang.isNull())"
   ]
  },
  {
   "cell_type": "code",
   "execution_count": 19,
   "id": "84560411-7ed3-4e94-aa0e-a7f083a23780",
   "metadata": {
    "collapsed": true,
    "jupyter": {
     "outputs_hidden": true
    },
    "tags": []
   },
   "outputs": [
    {
     "name": "stdout",
     "output_type": "stream",
     "text": [
      "+-----------+--------+\n",
      "|      words|wordLang|\n",
      "+-----------+--------+\n",
      "|        Chi|    null|\n",
      "|        Cui|    null|\n",
      "|       Dian|    null|\n",
      "|       Geng|    null|\n",
      "|       Jiao|    null|\n",
      "|       Piao|    null|\n",
      "|         Te|    null|\n",
      "|       Tiao|    null|\n",
      "|        Tui|    null|\n",
      "|        Xin|    null|\n",
      "|jgkkkkkkkjj|    null|\n",
      "|     niceps|    null|\n",
      "|seller3eeee|    null|\n",
      "|          ~|    null|\n",
      "|          ่|    null|\n",
      "|         ァ|    null|\n",
      "| 一隻小貓咪|    null|\n",
      "|     一點半|    null|\n",
      "|       三对|    null|\n",
      "|   三鮮伊面|    null|\n",
      "+-----------+--------+\n",
      "only showing top 20 rows\n",
      "\n"
     ]
    }
   ],
   "source": [
    "nullSet.sample(0.6).show()"
   ]
  },
  {
   "cell_type": "code",
   "execution_count": 20,
   "id": "2a4af0cc-e307-4de6-b08a-f40344852b59",
   "metadata": {},
   "outputs": [],
   "source": [
    "from linguaLangDetect import *"
   ]
  },
  {
   "cell_type": "code",
   "execution_count": 22,
   "id": "9a50a0bd-86a5-4bef-99a9-110850c8e496",
   "metadata": {
    "tags": []
   },
   "outputs": [],
   "source": [
    "from pyspark.sql.functions import col, udf\n",
    "from lingua import Language, LanguageDetectorBuilder\n",
    "languages = [Language.ENGLISH, Language.CHINESE, Language.MALAY]\n",
    "\n",
    "\n",
    "nonDistDetector = LanguageDetectorBuilder.from_languages(*languages).build()\n",
    "withDistDetector = LanguageDetectorBuilder.from_languages(*languages).with_minimum_relative_distance(0.1).build()\n",
    "\n",
    "\n",
    "def lingua_detect_dist(text):\n",
    "    global withDistDetector\n",
    "\n",
    "    try:\n",
    "        if (withDistDetector == None):\n",
    "            withDistDetector = LanguageDetectorBuilder.from_languages(*languages).with_minimum_relative_distance(0.1).build()\n",
    "        return str(withDistDetector.detect_language_of(text))\n",
    "    \n",
    "    except:\n",
    "        return \"error\"\n",
    "\n",
    "def lingua_detect(text):\n",
    "    global nonDistDetector\n",
    "    \n",
    "    try:\n",
    "        if (nonDistDetector == None):\n",
    "            nonDistDetector = LanguageDetectorBuilder.from_languages(*languages).build()\n",
    "        return str(nonDistDetector.detect_language_of(text))\n",
    "    except:\n",
    "        return \"error\"    \n",
    "\n",
    "detectWithDistUDF = udf(lambda z: lingua_detect_dist(z))\n",
    "detectUDF = udf(lambda z: lingua_detect(z))\n",
    "\n",
    "\n",
    "corrected = nullSet.withColumn(\"wordLang\", detectWithDistUDF(nullSet.words))"
   ]
  },
  {
   "cell_type": "code",
   "execution_count": 23,
   "id": "978847b5-3deb-4a4d-8705-ee95f3202291",
   "metadata": {
    "collapsed": true,
    "jupyter": {
     "outputs_hidden": true
    },
    "tags": []
   },
   "outputs": [
    {
     "name": "stderr",
     "output_type": "stream",
     "text": [
      "[Stage 29:>                                                         (0 + 1) / 1]\r"
     ]
    },
    {
     "name": "stdout",
     "output_type": "stream",
     "text": [
      "+------------------------------------------------+----------------+\n",
      "|words                                           |wordLang        |\n",
      "+------------------------------------------------+----------------+\n",
      "|~                                               |None            |\n",
      "|ァ                                              |None            |\n",
      "|一點半                                          |Language.CHINESE|\n",
      "|三鮮伊面                                        |Language.CHINESE|\n",
      "|上六星                                          |Language.CHINESE|\n",
      "|不差                                            |Language.CHINESE|\n",
      "|不谢不谢不谢不谢不谢不谢不谢不谢不谢不谢不谢不谢|Language.CHINESE|\n",
      "|丽雯                                            |Language.CHINESE|\n",
      "|了兩                                            |Language.CHINESE|\n",
      "|五層                                            |Language.CHINESE|\n",
      "|人酸                                            |Language.CHINESE|\n",
      "|允許                                            |Language.CHINESE|\n",
      "|冠病                                            |Language.CHINESE|\n",
      "|删评                                            |Language.CHINESE|\n",
      "|原国                                            |Language.CHINESE|\n",
      "|取财                                            |Language.CHINESE|\n",
      "|古奇                                            |Language.CHINESE|\n",
      "|吴亚鸿                                          |Language.CHINESE|\n",
      "|和放卡                                          |Language.CHINESE|\n",
      "|嘉興                                            |Language.CHINESE|\n",
      "|回够                                            |Language.CHINESE|\n",
      "|國片                                            |Language.CHINESE|\n",
      "|大終                                            |Language.CHINESE|\n",
      "|太正喇                                          |Language.CHINESE|\n",
      "|好点                                            |Language.CHINESE|\n",
      "|嬌羞好                                          |Language.CHINESE|\n",
      "|家飾                                            |Language.CHINESE|\n",
      "|宽油                                            |Language.CHINESE|\n",
      "|實測                                            |Language.CHINESE|\n",
      "|寻奇                                            |Language.CHINESE|\n",
      "|就当                                            |Language.CHINESE|\n",
      "|布擦                                            |Language.CHINESE|\n",
      "|常溫                                            |Language.CHINESE|\n",
      "|很酸                                            |Language.CHINESE|\n",
      "|微冰                                            |Language.CHINESE|\n",
      "|感比                                            |Language.CHINESE|\n",
      "|手入鏡                                          |Language.CHINESE|\n",
      "|打擾                                            |Language.CHINESE|\n",
      "|推媽                                            |Language.CHINESE|\n",
      "|損失                                            |Language.CHINESE|\n",
      "|支聯會                                          |Language.CHINESE|\n",
      "|斷玩到                                          |Language.CHINESE|\n",
      "|最滿足                                          |Language.CHINESE|\n",
      "|有匙                                            |Language.CHINESE|\n",
      "|有疑問                                          |Language.CHINESE|\n",
      "|果間                                            |Language.CHINESE|\n",
      "|條食                                            |Language.CHINESE|\n",
      "|樂福                                            |Language.CHINESE|\n",
      "|水裡                                            |Language.CHINESE|\n",
      "|沒鐵氟龍                                        |Language.CHINESE|\n",
      "|没人取餐                                        |Language.CHINESE|\n",
      "|泡芙滿                                          |Language.CHINESE|\n",
      "|炸蒜                                            |Language.CHINESE|\n",
      "|為己                                            |Language.CHINESE|\n",
      "|無話可說                                        |Language.CHINESE|\n",
      "|煮定                                            |Language.CHINESE|\n",
      "|燒會                                            |Language.CHINESE|\n",
      "|爽鈉                                            |Language.CHINESE|\n",
      "|物餅                                            |Language.CHINESE|\n",
      "|玩天氣                                          |Language.CHINESE|\n",
      "|甜貴                                            |Language.CHINESE|\n",
      "|發送                                            |Language.CHINESE|\n",
      "|粘身                                            |Language.CHINESE|\n",
      "|系士                                            |Language.CHINESE|\n",
      "|脾酒                                            |Language.CHINESE|\n",
      "|范盈                                            |Language.CHINESE|\n",
      "|要戰                                            |Language.CHINESE|\n",
      "|要撈                                            |Language.CHINESE|\n",
      "|言山                                            |Language.CHINESE|\n",
      "|評比                                            |Language.CHINESE|\n",
      "|豐盛                                            |Language.CHINESE|\n",
      "|買比                                            |Language.CHINESE|\n",
      "|赞给                                            |Language.CHINESE|\n",
      "|超丑                                            |Language.CHINESE|\n",
      "|辜負                                            |Language.CHINESE|\n",
      "|農夫                                            |Language.CHINESE|\n",
      "|连鸡                                            |Language.CHINESE|\n",
      "|醬油                                            |Language.CHINESE|\n",
      "|重且                                            |Language.CHINESE|\n",
      "|鍋子                                            |Language.CHINESE|\n",
      "|陈燕萍                                          |Language.CHINESE|\n",
      "|集豚                                            |Language.CHINESE|\n",
      "|雙亡                                            |Language.CHINESE|\n",
      "|雙人                                            |Language.CHINESE|\n",
      "|青鬼                                            |Language.CHINESE|\n",
      "|飄浮                                            |Language.CHINESE|\n",
      "|鸡白                                            |Language.CHINESE|\n",
      "|Bao                                             |None            |\n",
      "|Gao                                             |Language.ENGLISH|\n",
      "|Quan                                            |Language.MALAY  |\n",
      "|ل                                               |None            |\n",
      "|一究                                            |Language.CHINESE|\n",
      "|一級                                            |Language.CHINESE|\n",
      "|上回                                            |Language.CHINESE|\n",
      "|不亮                                            |Language.CHINESE|\n",
      "|了连                                            |Language.CHINESE|\n",
      "|以经                                            |Language.CHINESE|\n",
      "|价錢                                            |Language.CHINESE|\n",
      "|來豚                                            |Language.CHINESE|\n",
      "|俊凱                                            |Language.CHINESE|\n",
      "+------------------------------------------------+----------------+\n",
      "only showing top 100 rows\n",
      "\n"
     ]
    },
    {
     "name": "stderr",
     "output_type": "stream",
     "text": [
      "                                                                                \r"
     ]
    }
   ],
   "source": [
    "corrected.sample(0.1).show(100, False)"
   ]
  },
  {
   "cell_type": "code",
   "execution_count": 24,
   "id": "395ca773-78ae-4466-a746-9bd69ca265ac",
   "metadata": {},
   "outputs": [
    {
     "data": {
      "text/plain": [
       "DataFrame[words: string, wordLang: string]"
      ]
     },
     "execution_count": 24,
     "metadata": {},
     "output_type": "execute_result"
    }
   ],
   "source": [
    "union_all(corrected, notNullSet)"
   ]
  },
  {
   "cell_type": "code",
   "execution_count": 25,
   "id": "cee7870b-483a-4e82-b91f-22f9f0fc053f",
   "metadata": {},
   "outputs": [
    {
     "name": "stderr",
     "output_type": "stream",
     "text": [
      "                                                                                \r"
     ]
    }
   ],
   "source": [
    "shutil.rmtree(\"output/20_ALL_WORDS_SAMPLE_DETECTED\")\n",
    "write_avro(union_all(corrected, notNullSet), \"output/20_ALL_WORDS_SAMPLE_DETECTED\")"
   ]
  },
  {
   "cell_type": "markdown",
   "id": "ab28b0c8-8dbc-4cc1-829e-8910eae64370",
   "metadata": {},
   "source": [
    "### STEP 21 : EXAM ABOUTPUNCTUATIONS TOKEN\n",
    "#### most punctuaton tokens detected is actually mispelled words, however it only is 2541 / 1403676 which is 0.002%, which is neglectible"
   ]
  },
  {
   "cell_type": "code",
   "execution_count": 26,
   "id": "4e5248f4-285b-4aa8-9603-e0e11f6f4f84",
   "metadata": {},
   "outputs": [],
   "source": [
    "df = read_avro(\"output/18_MERGE_TAG\")"
   ]
  },
  {
   "cell_type": "code",
   "execution_count": 65,
   "id": "781880ea-0525-4d58-b69a-4e2a577afec7",
   "metadata": {
    "collapsed": true,
    "jupyter": {
     "outputs_hidden": true
    },
    "tags": []
   },
   "outputs": [
    {
     "name": "stdout",
     "output_type": "stream",
     "text": [
      "+--------------------+--------------------+--------------------+--------+----------+\n",
      "|            original|               token|                 tag|language|normal_tag|\n",
      "+--------------------+--------------------+--------------------+--------+----------+\n",
      "|banyak kali tanya...|[banyak, kali, ta...|[DET, NOUN, VERB,...|   malay|      null|\n",
      "|beg cantik ank su...|[beg, cantik, ank...|[NOUN, ADJ, NOUN,...|   malay|      null|\n",
      "|barang puashati t...|[barang, puashati...|[NOUN, ADJ, NOUN,...|   malay|      null|\n",
      "|barang sampai dal...|[barang, sampai, ...|[NOUN, VERB, ADP,...|   malay|      null|\n",
      "|balutan kemas and...|[balutan, kemas, ...|[NOUN, ADJ, CCONJ...|   malay|      null|\n",
      "|harga berbaloi mu...|[harga, berbaloi,...|[NOUN, ADJ, NOUN,...|   malay|      null|\n",
      "|kasut dh selamat ...|[kasut, dh, selam...|[NOUN, ADV, ADJ, ...|   malay|      null|\n",
      "|product ok senang...|[product, ok, sen...|[NOUN, ADJ, ADV, ...|   malay|      null|\n",
      "|selesa sangat kai...|[selesa, sangat, ...|[ADJ, ADV, NOUN, ...|   malay|      null|\n",
      "|harga serius mura...|[harga, serius, m...|[NOUN, ADJ, ADJ, ...|   malay|      null|\n",
      "|cuma kecik tpi ok...|[cuma, kecik, tpi...|[ADV, ADJ, CCONJ,...|   malay|      null|\n",
      "|sesiapa nak baran...|[sesiapa, nak, ba...|[NOUN, VERB, NOUN...|   malay|      null|\n",
      "|gambar tiada kene...|[gambar, tiada, k...|[NOUN, PART, VERB...|   malay|      null|\n",
      "|cpt smpai beg bes...|[cpt, smpai, beg,...|[ADJ, ADP, NOUN, ...|   malay|      null|\n",
      "|basikal dah siap ...|[basikal, dah, si...|[NOUN, ADV, ADJ, ...|   malay|      null|\n",
      "|murah berbaloi se...|[murah, berbaloi,...|[ADJ, ADJ, NOUN, ...|   malay|      null|\n",
      "|hai bos barang da...|[hai, bos, barang...|[PART, NOUN, NOUN...|   malay|      null|\n",
      "|barang yang berku...|[barang, yang, be...|[NOUN, PRON, ADJ,...|   malay|      null|\n",
      "|warna cantik beli...|[warna, cantik, b...|[NOUN, ADJ, VERB,...|   malay|      null|\n",
      "|alhamdulillah brg...|[alhamdulillah, b...|[ADV, NOUN, VERB,...|   malay|      null|\n",
      "+--------------------+--------------------+--------------------+--------+----------+\n",
      "only showing top 20 rows\n",
      "\n"
     ]
    }
   ],
   "source": [
    "df.show()"
   ]
  },
  {
   "cell_type": "code",
   "execution_count": 75,
   "id": "197ed8c0-4896-4743-8464-0d226423e1e7",
   "metadata": {
    "jupyter": {
     "source_hidden": true
    },
    "tags": []
   },
   "outputs": [],
   "source": [
    "import pyspark.sql.functions as f\n",
    "\n",
    "punct = \"PUNCT\"\n",
    "punctb = \"SYM\"\n",
    "\n",
    "def remove_punct_token(token, tag):\n",
    "    rem= []\n",
    "\n",
    "    for i in range(len(token)):\n",
    "        if tag[i] == \"PUNCT\" or tag[i] == \"SYM\":\n",
    "            rem.append(i)\n",
    "    for i in range(len(rem)):\n",
    "        rem[i] = rem[i] - i\n",
    "\n",
    "    for i in rem:\n",
    "        del token[i]\n",
    "        del tag[i]\n",
    "\n",
    "\n",
    "    return token, tag\n",
    "\n",
    "\n",
    "remUDF = udf(lambda x,y : remove_punct_token(x,y), ArrayType(ArrayType(StringType())))\n",
    "    "
   ]
  },
  {
   "cell_type": "code",
   "execution_count": 27,
   "id": "a25cbd1c-7209-48dd-a7de-45c313eafc12",
   "metadata": {},
   "outputs": [],
   "source": [
    "df = read_avro(\"21_NO_PUNCT_TOKEN\")"
   ]
  },
  {
   "cell_type": "code",
   "execution_count": null,
   "id": "8db885b6-a577-432e-bbf2-e844b2eaa25b",
   "metadata": {},
   "outputs": [
    {
     "data": {
      "text/plain": [
       "DataFrame[original: string, token: array<string>, tag: array<string>, language: string, normal_tag: array<string>, corrected: array<array<string>>]"
      ]
     },
     "execution_count": 80,
     "metadata": {},
     "output_type": "execute_result"
    }
   ],
   "source": [
    "df"
   ]
  },
  {
   "cell_type": "code",
   "execution_count": null,
   "id": "5c9e486f-a592-4eca-b78b-b6ba1425073e",
   "metadata": {
    "tags": []
   },
   "outputs": [
    {
     "name": "stderr",
     "output_type": "stream",
     "text": [
      "                                                                                \r"
     ]
    },
    {
     "data": {
      "text/plain": [
       "2541"
      ]
     },
     "execution_count": 107,
     "metadata": {},
     "output_type": "execute_result"
    }
   ],
   "source": [
    "df\\\n",
    ".withColumn(\"withpunct\", \\\n",
    "            f.array_contains(f.col(\"tag\"),\"PUNCT\")) \\\n",
    ".filter(f.col(\"withpunct\") == True).select(\"token\", \"tag\").count()"
   ]
  },
  {
   "cell_type": "code",
   "execution_count": null,
   "id": "eabc9888-f688-41b9-a5dd-8e98dc50d8d8",
   "metadata": {},
   "outputs": [
    {
     "data": {
      "text/plain": [
       "1403676"
      ]
     },
     "execution_count": 106,
     "metadata": {},
     "output_type": "execute_result"
    }
   ],
   "source": [
    "df.count()"
   ]
  },
  {
   "cell_type": "markdown",
   "id": "aa09cd28-d5d3-49b9-8fec-ab04babc3839",
   "metadata": {},
   "source": [
    "### STEP 22 create new language pattern column by replacing the token with languages"
   ]
  },
  {
   "cell_type": "code",
   "execution_count": 28,
   "id": "896e23ec-fad1-4868-844b-730690fcd012",
   "metadata": {},
   "outputs": [],
   "source": [
    "replacementDict = read_avro(\"output/20_ALL_WORDS_SAMPLE_DETECTED\")"
   ]
  },
  {
   "cell_type": "code",
   "execution_count": 141,
   "id": "246d6afb-232d-4f40-bac8-92f3ef03234b",
   "metadata": {},
   "outputs": [
    {
     "data": {
      "text/plain": [
       "DataFrame[words: string, wordLang: string]"
      ]
     },
     "execution_count": 141,
     "metadata": {},
     "output_type": "execute_result"
    }
   ],
   "source": [
    "replacementDict"
   ]
  },
  {
   "cell_type": "code",
   "execution_count": 29,
   "id": "c8dbd860-324b-4e2b-8a81-33bb1a6fe444",
   "metadata": {},
   "outputs": [],
   "source": [
    "from pyspark.sql.functions import regexp_replace\n",
    "corrected  =replacementDict.withColumn(\"wordLang\" ,regexp_replace(\"wordLang\",\"None|error\", \"oov\"))"
   ]
  },
  {
   "cell_type": "code",
   "execution_count": 30,
   "id": "65503f08-e689-424a-af1f-fec4b49b0812",
   "metadata": {},
   "outputs": [
    {
     "name": "stdout",
     "output_type": "stream",
     "text": [
      "+--------+----------------+\n",
      "|   words|        wordLang|\n",
      "+--------+----------------+\n",
      "|    good|Language.ENGLISH|\n",
      "|  seller|Language.ENGLISH|\n",
      "|     the|Language.ENGLISH|\n",
      "|     and|Language.ENGLISH|\n",
      "|  barang|  Language.MALAY|\n",
      "|     you|Language.ENGLISH|\n",
      "|  sampai|  Language.MALAY|\n",
      "|delivery|Language.ENGLISH|\n",
      "|    fast|Language.ENGLISH|\n",
      "|     for|Language.ENGLISH|\n",
      "|      tq|Language.ENGLISH|\n",
      "| terbaik|  Language.MALAY|\n",
      "|      in|Language.ENGLISH|\n",
      "|      to|Language.ENGLISH|\n",
      "|      is|Language.ENGLISH|\n",
      "|   thank|Language.ENGLISH|\n",
      "|      ok|  Language.MALAY|\n",
      "|    baik|  Language.MALAY|\n",
      "|       i|  Language.MALAY|\n",
      "|      it|Language.ENGLISH|\n",
      "+--------+----------------+\n",
      "only showing top 20 rows\n",
      "\n"
     ]
    }
   ],
   "source": [
    "corrected.show()"
   ]
  },
  {
   "cell_type": "code",
   "execution_count": 31,
   "id": "3545c56c-93f5-4d92-b0ad-9ba361510265",
   "metadata": {},
   "outputs": [],
   "source": [
    "correct_dict = corrected\n",
    "engSet = correct_dict.filter(correct_dict.wordLang.rlike(\"Language.ENGLISH\"))\n",
    "bmSet =correct_dict.filter(correct_dict.wordLang.rlike(\"Language.MALAY\"))\n",
    "bcSet = correct_dict.filter(correct_dict.wordLang.rlike(\"Language.CHINESE\"))\n",
    "oovSet = correct_dict.filter(~correct_dict.wordLang.rlike(\"Language.MALAY|Language.CHINESE|Language.ENGLISH\"))"
   ]
  },
  {
   "cell_type": "code",
   "execution_count": 32,
   "id": "0072f797-e03b-4bde-b5df-3aa3e553a624",
   "metadata": {},
   "outputs": [],
   "source": [
    "oov = set(oovSet.rdd.flatMap(lambda x : x).collect())\n",
    "bi = set(engSet.rdd.flatMap(lambda x : x).collect())\n",
    "bm = set(bmSet.rdd.flatMap(lambda x : x).collect())\n",
    "bc = set(bcSet.rdd.flatMap(lambda x : x).collect())"
   ]
  },
  {
   "cell_type": "code",
   "execution_count": 33,
   "id": "108e2455-72c9-4ae9-80f2-9337a4ee35fe",
   "metadata": {
    "collapsed": true,
    "jupyter": {
     "outputs_hidden": true
    },
    "tags": []
   },
   "outputs": [
    {
     "data": {
      "text/plain": [
       "{'bangles',\n",
       " 'takot',\n",
       " 'aduhaiii',\n",
       " 'moscreep',\n",
       " 'sikiiit',\n",
       " 'perrrr',\n",
       " 'ahhahahhahaha',\n",
       " 'teleworking',\n",
       " 'minister',\n",
       " 'qualityyyyyyy',\n",
       " 'baii',\n",
       " 'njpis',\n",
       " 'serviceiyem',\n",
       " 'mybaby',\n",
       " 'tdr',\n",
       " 'kainpn',\n",
       " 'pjot',\n",
       " 'upside',\n",
       " 'excellentttttt',\n",
       " 'ssngatt',\n",
       " 'gampackaging',\n",
       " 'smuaaaaaaaa',\n",
       " 'frienddelivery',\n",
       " 'rennais',\n",
       " 'soooooooooooo',\n",
       " 'traveltq',\n",
       " 'swith',\n",
       " 'dumortierite',\n",
       " 'kjgfjvfjn',\n",
       " 'beutful',\n",
       " 'approached',\n",
       " 'direcommended',\n",
       " 'farmsi',\n",
       " 'sellertip',\n",
       " 'permhnn',\n",
       " 'gile',\n",
       " 'sellersizing',\n",
       " 'sukaaaaaaaaaaaaaaaaaaaaaaaaaaaaaaaaaaaaaaaaaaaaaaaaaaaaaaaaa',\n",
       " 'helpme',\n",
       " 'buffet',\n",
       " 'productnice',\n",
       " 'faceshield',\n",
       " 'xboring',\n",
       " 'daythe',\n",
       " 'james',\n",
       " 'aspectedrecommended',\n",
       " 'girdle',\n",
       " 'lghope',\n",
       " 'gilaorder',\n",
       " 'hexpela',\n",
       " 'tlgrecomanded',\n",
       " 'á',\n",
       " 'crash',\n",
       " 'spender',\n",
       " 'bly',\n",
       " 'allsize',\n",
       " 'wiiii',\n",
       " 'tetvaik',\n",
       " 'receivedterbaik',\n",
       " 'pghntrn',\n",
       " 'perchance',\n",
       " 'quaoity',\n",
       " 'meseller',\n",
       " 'saldo',\n",
       " 'ppew',\n",
       " 'unt',\n",
       " 'xingtttt',\n",
       " 'perfecttt',\n",
       " 'state',\n",
       " 'solaris',\n",
       " 'syrup',\n",
       " 'slmtbeg',\n",
       " 'jumpsuit',\n",
       " 'materialcomfortable',\n",
       " 'mentuaa',\n",
       " 'lawaokey',\n",
       " 'largh',\n",
       " 'gunastoking',\n",
       " 'inn',\n",
       " 'reccomennde',\n",
       " 'cle',\n",
       " 'mantopwarna',\n",
       " 'hadeuh',\n",
       " 'packagingtested',\n",
       " 'alsoooooooo',\n",
       " 'permision',\n",
       " 'sublimation',\n",
       " 'outseller',\n",
       " 'goodw',\n",
       " 'dosent',\n",
       " 'zamazenta',\n",
       " 'stndrd',\n",
       " 'comfortablethe',\n",
       " 'koyakkrecommended',\n",
       " 'secures',\n",
       " 'averagely',\n",
       " 'hates',\n",
       " 'sleevesless',\n",
       " 'slurp',\n",
       " 'hey',\n",
       " 'gilors',\n",
       " 'orderthanks',\n",
       " 'expiration',\n",
       " 'iffect',\n",
       " 'awall',\n",
       " 'germination',\n",
       " 'tebeso',\n",
       " 'saver',\n",
       " 'E',\n",
       " 'tradein',\n",
       " 'its',\n",
       " 'marhean',\n",
       " 'terbaiiiiiiiiiiikkkkkkk',\n",
       " 'kurie',\n",
       " 'crumbles',\n",
       " 'socks',\n",
       " 'lgirespon',\n",
       " 'sampgila',\n",
       " 'crips',\n",
       " 'gradfood',\n",
       " 'yummysauce',\n",
       " 'meal',\n",
       " 'identical',\n",
       " 'jajciaijcjai',\n",
       " 'keyin',\n",
       " 'doubtful',\n",
       " 'bebbb',\n",
       " 'silence',\n",
       " 'starssss',\n",
       " 'errors',\n",
       " 'buohtq',\n",
       " 'endhe',\n",
       " 'rabbir',\n",
       " 'roselle',\n",
       " 'shuo',\n",
       " 'unlocked',\n",
       " 'labrg',\n",
       " 'coursework',\n",
       " 'scrubbers',\n",
       " 'selagor',\n",
       " 'itcolour',\n",
       " 'requestsgt',\n",
       " 'blamed',\n",
       " 'vinnie',\n",
       " 'minus',\n",
       " 'hatiodar',\n",
       " 'stat',\n",
       " 'preview',\n",
       " 'clor',\n",
       " 'sugoii',\n",
       " 'okeylaaaaaaaaaa',\n",
       " 'melrose',\n",
       " 'wrappingthanks',\n",
       " 'okeuu',\n",
       " 'vitasen',\n",
       " 'niseller',\n",
       " 'recomeddeddd',\n",
       " 'negok',\n",
       " 'deliveyr',\n",
       " 'okfast',\n",
       " 'ditggu',\n",
       " 'leatherzip',\n",
       " 'lsize',\n",
       " 'mewahnext',\n",
       " 'veeeeery',\n",
       " 'vsl',\n",
       " 'overlooked',\n",
       " 'grizzly',\n",
       " 'tongue',\n",
       " 'ordersale',\n",
       " 'unnieee',\n",
       " 'awesomethank',\n",
       " 'miced',\n",
       " 'examples',\n",
       " 'invincible',\n",
       " 'kios',\n",
       " 'lovex',\n",
       " 'schoenfeld',\n",
       " 'tqqqqqqqqwqwwwqqqqqqqqqqqq',\n",
       " 'dategood',\n",
       " 'retailed',\n",
       " 'gtnq',\n",
       " 'bellyfly',\n",
       " 'soppi',\n",
       " 'barrila',\n",
       " 'lcs',\n",
       " 'ketatthanks',\n",
       " 'perfectlyyyyy',\n",
       " 'loud',\n",
       " 'walkin',\n",
       " 'seesgt',\n",
       " 'buffback',\n",
       " 'tqqqqqqqqqqqqqww',\n",
       " 'belidelivery',\n",
       " 'gloverecommend',\n",
       " 'bargain',\n",
       " 'authentic',\n",
       " 'cating',\n",
       " 'selleryuhhhh',\n",
       " 'ntn',\n",
       " 'rapunzel',\n",
       " 'colouri',\n",
       " 'mngeneskirt',\n",
       " 'kilattq',\n",
       " 'lotfast',\n",
       " 'curriar',\n",
       " 'babystore',\n",
       " 'toothless',\n",
       " 'stuffs',\n",
       " 'bubblewraper',\n",
       " 'juwei',\n",
       " 'shampo',\n",
       " 'rabigoo',\n",
       " 'tiz',\n",
       " 'megapixel',\n",
       " 'wraping',\n",
       " 'scary',\n",
       " 'thankssssssssssssssss',\n",
       " 'hundred',\n",
       " 'okaytpi',\n",
       " 'lajuoder',\n",
       " 'wring',\n",
       " 'materiql',\n",
       " 'weeehuuuuuu',\n",
       " 'srslyyyy',\n",
       " 'uollssssss',\n",
       " 'servicewhen',\n",
       " 'neyh',\n",
       " 'earpiece',\n",
       " 'jampai',\n",
       " 'worrh',\n",
       " 'itemreceivedlate',\n",
       " 'kalirecomended',\n",
       " 'pnghntaranblh',\n",
       " 'aven',\n",
       " 'hersheys',\n",
       " 'satisfiedhopefully',\n",
       " 'excenllent',\n",
       " 'factories',\n",
       " 'xdelagi',\n",
       " 'wrappingnice',\n",
       " 'kannice',\n",
       " 'shockling',\n",
       " 'seller1',\n",
       " 'shor',\n",
       " 'bachelor',\n",
       " 'googlemeettq',\n",
       " 'xkering',\n",
       " 'ulter',\n",
       " 'yamate',\n",
       " 'reordered',\n",
       " 'semeter',\n",
       " 'monentum',\n",
       " 'noiseeee',\n",
       " 'lingrobbie',\n",
       " 'fasttttttttttttttttttttttttttttttttttttttttttt',\n",
       " 'wrapgps',\n",
       " 'kedaitqvm',\n",
       " 'nntdpt',\n",
       " 'hit',\n",
       " 'crimp',\n",
       " 'tuwallet',\n",
       " 'belinlg',\n",
       " 'sedapfeedback',\n",
       " 'blacksteel',\n",
       " 'embarrassed',\n",
       " 'laawaaaaa',\n",
       " 'copies',\n",
       " 'colouful',\n",
       " 'lagifirst',\n",
       " 'bufdayy',\n",
       " 'tv',\n",
       " 'jhe',\n",
       " 'stl',\n",
       " 'kilauuuuu',\n",
       " 'anycast',\n",
       " 'guddd',\n",
       " 'festival',\n",
       " 'ner',\n",
       " 'lamee',\n",
       " 'terangtq',\n",
       " 'deliverybalut',\n",
       " 'shopeeq',\n",
       " 'pc',\n",
       " 'wnd',\n",
       " 'maskproof',\n",
       " 'savety',\n",
       " 'alltq',\n",
       " 'acgas',\n",
       " 'kwee',\n",
       " 'ggggggggggg',\n",
       " 'dhchat',\n",
       " 'steamboat',\n",
       " 'thorrrbailkkkk',\n",
       " 'auchh',\n",
       " 'clearnace',\n",
       " 'ekice',\n",
       " 'anticipated',\n",
       " 'sooomuchhh',\n",
       " 'sellergoood',\n",
       " 'naiseuu',\n",
       " 'bertggjwb',\n",
       " 'provious',\n",
       " 'selfiestick',\n",
       " 'reuse',\n",
       " 'refundd',\n",
       " 'bigexactly',\n",
       " 'insof',\n",
       " 'pasaranthanks',\n",
       " 'breatheble',\n",
       " 'seanag',\n",
       " 'discharge',\n",
       " 'recommendddd',\n",
       " 'mizutq',\n",
       " 'satisfying',\n",
       " 'toothpaster',\n",
       " 'degrade',\n",
       " 'unfortunately',\n",
       " 'kelloggs',\n",
       " 'saaanngaatt',\n",
       " 'princemeed',\n",
       " 'diorgseller',\n",
       " 'ityes',\n",
       " 'warenty',\n",
       " 'tebommmmmmm',\n",
       " 'vers',\n",
       " 'brglaju',\n",
       " 'intim',\n",
       " 'collata',\n",
       " 'goood',\n",
       " 'syrd',\n",
       " 'noticed',\n",
       " 'odourless',\n",
       " 'duabole',\n",
       " 'hoder',\n",
       " 'contcy',\n",
       " 'krennn',\n",
       " 'gve',\n",
       " 'confm',\n",
       " 'posmen',\n",
       " 'okyja',\n",
       " 'whyyy',\n",
       " 'moneyvery',\n",
       " 'naturehike',\n",
       " 'bagussssssssaaaaaaaaaaaaaaaaaaaaaaaaaa',\n",
       " 'drawww',\n",
       " 'pnggntran',\n",
       " 'priorder',\n",
       " 'delaythanks',\n",
       " 'shoyu',\n",
       " 'power',\n",
       " 'breath',\n",
       " 'packagedcoffee',\n",
       " 'comor',\n",
       " 'toowill',\n",
       " 'mmuahhhhhhh',\n",
       " 'opal',\n",
       " 'alreadylovely',\n",
       " 'papaley',\n",
       " 'purcahse',\n",
       " 'phine',\n",
       " 'fillet',\n",
       " 'harigato',\n",
       " 'efficent',\n",
       " 'brubtray',\n",
       " 'materialnice',\n",
       " 'deluxe',\n",
       " 'againhehekat',\n",
       " 'melissa',\n",
       " 'growh',\n",
       " 'comfirm',\n",
       " 'byeee',\n",
       " 'clothess',\n",
       " 'conditionthus',\n",
       " 'thanksssssssssssssssssss',\n",
       " 'skate',\n",
       " 'near',\n",
       " 'tqqtqtqtqtqtqtqtqtq',\n",
       " 'lambatgood',\n",
       " 'dozee',\n",
       " 'recommenddddddddddd',\n",
       " 'purchaise',\n",
       " 'oveasea',\n",
       " 'wastage',\n",
       " 'becuse',\n",
       " 'gapkids',\n",
       " 'jarangtp',\n",
       " 'terennganu',\n",
       " 'tenkiuuuw',\n",
       " 'orangey',\n",
       " 'sellerwillrepeat',\n",
       " 'muchgive',\n",
       " 'stupivd',\n",
       " 'selsmat',\n",
       " 'deliveredontime',\n",
       " 'justtttt',\n",
       " 'longdistance',\n",
       " 'packkkinggggg',\n",
       " 'likelikelikelike',\n",
       " 'wedges',\n",
       " 'arbln',\n",
       " 'contributes',\n",
       " 'receivede',\n",
       " 'bifday',\n",
       " 'experience',\n",
       " 'diliveri',\n",
       " 'daywill',\n",
       " 'jie',\n",
       " 'omi',\n",
       " 'bit',\n",
       " 'fiendly',\n",
       " 'niceeeeeeeeeeeeeeeereddee',\n",
       " 'biases',\n",
       " 'lowers',\n",
       " 'hairpins',\n",
       " 'yeaay',\n",
       " 'speedious',\n",
       " 'shoppeeeeeee',\n",
       " 'biasablh',\n",
       " 'mennt',\n",
       " 'younice',\n",
       " 'pdhal',\n",
       " 'bedy',\n",
       " 'tshir',\n",
       " 'pt',\n",
       " 'deservedworth',\n",
       " 'disalotip',\n",
       " 'modified',\n",
       " 'lebeh',\n",
       " 'selamatpantas',\n",
       " 'tpit',\n",
       " 'spagheti',\n",
       " 'bossunnjati',\n",
       " 'fpr',\n",
       " 'synchronizer',\n",
       " 'dekivey',\n",
       " 'mantappppppppppppssssss',\n",
       " 'reactions',\n",
       " 'lalo',\n",
       " 'stillblh',\n",
       " 'kiyotttttttttttt',\n",
       " 'guddish',\n",
       " 'blankserius',\n",
       " 'toovery',\n",
       " 'loooooove',\n",
       " 'bdru',\n",
       " 'opqrstuvwxyz',\n",
       " 'rotate',\n",
       " 'store',\n",
       " 'teroxtq',\n",
       " 'differs',\n",
       " 'sellergave',\n",
       " 'raami',\n",
       " 'punso',\n",
       " 'tracy',\n",
       " 'combi',\n",
       " 'agate',\n",
       " 'Chi',\n",
       " 'nicemmg',\n",
       " 'overkill',\n",
       " 'ggoooooood',\n",
       " 'tahangood',\n",
       " 'saited',\n",
       " 'thqks',\n",
       " 'ssh',\n",
       " 'sdondon',\n",
       " 'catridge',\n",
       " 'quiltbot',\n",
       " 'beforereceived',\n",
       " 'rmseller',\n",
       " 'mksd',\n",
       " 'bulatt',\n",
       " 'neylon',\n",
       " 'kmasxde',\n",
       " 'owl',\n",
       " 'glittery',\n",
       " 'awlnya',\n",
       " 'highend',\n",
       " 'aventurin',\n",
       " 'pilot',\n",
       " 'beforehand',\n",
       " 'sellern',\n",
       " 'pnat',\n",
       " 'finalll',\n",
       " 'stdard',\n",
       " 'dis',\n",
       " 'overses',\n",
       " 'drawstring',\n",
       " 'chelcedony',\n",
       " 'topperplastic',\n",
       " 'unable',\n",
       " 'cunn',\n",
       " 'coarse',\n",
       " 'hmmmmmmmm',\n",
       " 'worriesdo',\n",
       " 'fixg',\n",
       " 'brittle',\n",
       " 'terrrrrrbaaikkkk',\n",
       " 'saint',\n",
       " 'sanngatt',\n",
       " 'recommendedcantik',\n",
       " 'alone',\n",
       " 'researched',\n",
       " 'lagiiiiiiiiiiiiiiiiiiiiiiiiiiiiiiii',\n",
       " 'strongggggg',\n",
       " 'deliverrrry',\n",
       " 'losen',\n",
       " 'onss',\n",
       " 'lott',\n",
       " 'lllll',\n",
       " 'sanna',\n",
       " 'stylers',\n",
       " 'complains',\n",
       " 'oleg',\n",
       " 'milne',\n",
       " 'hahahahaok',\n",
       " 'beadss',\n",
       " 'transation',\n",
       " 'unwrap',\n",
       " 'anywayy',\n",
       " 'xpeeee',\n",
       " 'intelligence',\n",
       " 'okaycolour',\n",
       " 'ctr',\n",
       " 'sept',\n",
       " 'msaloh',\n",
       " 'total',\n",
       " 'jabzushjajs',\n",
       " 'moneythankss',\n",
       " 'hppy',\n",
       " 'calender',\n",
       " 'supeerrrrrrr',\n",
       " 'hanataq',\n",
       " 'len',\n",
       " 'sellergoodgoodgoodgood',\n",
       " 'earlydelivery',\n",
       " 'camsealll',\n",
       " 'flyer',\n",
       " 'participating',\n",
       " 'suction',\n",
       " 'pricedefinitely',\n",
       " 'morebetter',\n",
       " 'harshly',\n",
       " 'sinistill',\n",
       " 'buyertq',\n",
       " 'dhx',\n",
       " 'jee',\n",
       " 'jaanice',\n",
       " 'tyrolean',\n",
       " 'percya',\n",
       " 'mainlnd',\n",
       " 'casethank',\n",
       " 'niorder',\n",
       " 'trlq',\n",
       " 'filled',\n",
       " 'pricee',\n",
       " 'thnkyiu',\n",
       " 'locks',\n",
       " 'plyer',\n",
       " 'shpping',\n",
       " 'ordertq',\n",
       " 'crossrunner',\n",
       " 'doo',\n",
       " 'sallerrrrrrrrrrrrrrrrrrrr',\n",
       " 'loaded',\n",
       " 'unwanted',\n",
       " 'scuff',\n",
       " 'cousehero',\n",
       " 'slibau',\n",
       " 'speee',\n",
       " 'yowww',\n",
       " 'diorderok',\n",
       " 'sapanar',\n",
       " 'fred',\n",
       " 'deliverykerongsang',\n",
       " 'mntak',\n",
       " 'sukaaaaaaaaaaaaaaaaaa',\n",
       " 'skinn',\n",
       " 'srwkseller',\n",
       " 'kejaseller',\n",
       " 'packagingbayar',\n",
       " 'usualbeside',\n",
       " 'sucks',\n",
       " 'handsockhandsock',\n",
       " 'marybeth',\n",
       " 'too',\n",
       " 'salesthanks',\n",
       " 'tebalmdan',\n",
       " 'adrenaline',\n",
       " 'smiling',\n",
       " 'unfortunetly',\n",
       " 'conditonthanks',\n",
       " 'eloqqq',\n",
       " 'waner',\n",
       " 'ringanwill',\n",
       " 'exxcellent',\n",
       " 'fibermeal',\n",
       " 'bedrooms',\n",
       " 'omggggggg',\n",
       " 'ayyy',\n",
       " 'stamps',\n",
       " 'ugais',\n",
       " 'soaked',\n",
       " 'deliverydua',\n",
       " 'pricefirst',\n",
       " 'kemasseller',\n",
       " 'lupe',\n",
       " 'hiruin',\n",
       " 'beefing',\n",
       " 'helppp',\n",
       " 'shepeas',\n",
       " 'thinnn',\n",
       " 'punbeli',\n",
       " 'coffice',\n",
       " 'corriers',\n",
       " 'dimmed',\n",
       " 'organising',\n",
       " 'creators',\n",
       " 'duluthanks',\n",
       " 'gigitmurahhhhhthanknseller',\n",
       " 'addmath',\n",
       " 'lajugrip',\n",
       " 'deliveryit',\n",
       " 'dptseller',\n",
       " 'experince',\n",
       " 'berqualityy',\n",
       " 'sides',\n",
       " 'guesstq',\n",
       " 'organisedthank',\n",
       " 'wall',\n",
       " 'itemrecommended',\n",
       " 'aminnn',\n",
       " 'sardinesrecommendedthumbs',\n",
       " 'pakailining',\n",
       " 'bootleg',\n",
       " 'comfortableme',\n",
       " 'bosque',\n",
       " 'okmother',\n",
       " 'fefet',\n",
       " 'baiiikkkk',\n",
       " 'belin',\n",
       " 'vendors',\n",
       " 'wehhhhhhhhhhhhhhhhh',\n",
       " 'rssa',\n",
       " 'thankiyooo',\n",
       " 'mmmuuaaaahhhhhh',\n",
       " 'mafff',\n",
       " 'veeeeeery',\n",
       " 'sobab',\n",
       " 'ude',\n",
       " 'gillerrrr',\n",
       " 'sellermegi',\n",
       " 'huney',\n",
       " 'iloveitsomuch',\n",
       " 'quickshipping',\n",
       " 'disks',\n",
       " 'ult',\n",
       " 'cutboard',\n",
       " 'ling',\n",
       " 'pahnie',\n",
       " 'deligery',\n",
       " 'but',\n",
       " 'strectable',\n",
       " 'quys',\n",
       " 'yellow',\n",
       " 'aiyo',\n",
       " 'antre',\n",
       " 'rapp',\n",
       " 'recommendedharap',\n",
       " 'baikkkktak',\n",
       " 'gambartanks',\n",
       " 'arrow',\n",
       " 'hog',\n",
       " 'tupape',\n",
       " 'jnus',\n",
       " 'adsorption',\n",
       " 'africa',\n",
       " 'spikes',\n",
       " 'pnasthanks',\n",
       " 'judges',\n",
       " 'conditiontook',\n",
       " 'systm',\n",
       " 'takingat',\n",
       " 'farst',\n",
       " 'perfecrly',\n",
       " 'expere',\n",
       " 'tcn',\n",
       " 'bossmurrr',\n",
       " 'homework',\n",
       " 'maxgro',\n",
       " 'cheapef',\n",
       " 'suplemen',\n",
       " 'ohsome',\n",
       " 'oksecond',\n",
       " 'postagethank',\n",
       " 'terrrrrbbaaikkkkkkkkkkk',\n",
       " 'sososo',\n",
       " 'wiindbreaker',\n",
       " 'yeahhhhhhhhh',\n",
       " 'korean',\n",
       " 'sellertrm',\n",
       " 'masur',\n",
       " 'superrrrrbbbbbbbbbbb',\n",
       " 'latter',\n",
       " 'taurine',\n",
       " 'ambo',\n",
       " 'yummmm',\n",
       " 'sellerhelp',\n",
       " 'jasgt',\n",
       " 'origginal',\n",
       " 'vermicelli',\n",
       " 'duaduaso',\n",
       " 'keyh',\n",
       " 'hehehehehehehehehehrhehehehehehehehehrhrhe',\n",
       " 'challenges',\n",
       " 'hooded',\n",
       " 'perfunctory',\n",
       " 'matchdelivery',\n",
       " 'reen',\n",
       " 'beliiiiiiiiiiiiiiii',\n",
       " 'crook',\n",
       " 'surrounded',\n",
       " 'yellowyellow',\n",
       " 'submitted',\n",
       " 'bessssssss',\n",
       " 'qualitypadan',\n",
       " 'kkday',\n",
       " 'yehuuuuuuuuu',\n",
       " 'gituuuwwww',\n",
       " 'recomendedthnks',\n",
       " 'giftsi',\n",
       " 'adjectives',\n",
       " 'knena',\n",
       " 'opkos',\n",
       " 'bdkoveralll',\n",
       " 'sjsjs',\n",
       " 'xsamesizing',\n",
       " 'purshased',\n",
       " 'recommendeharga',\n",
       " 'expectedcolour',\n",
       " 'yeayyyy',\n",
       " 'lest',\n",
       " 'pierced',\n",
       " 'bottol',\n",
       " 'masaklove',\n",
       " 'hannansnna',\n",
       " 'priceexcellent',\n",
       " 'wellfunctioning',\n",
       " 'sangaaattttt',\n",
       " 'sngt',\n",
       " 'snng',\n",
       " 'litt',\n",
       " 'edjust',\n",
       " 'fest',\n",
       " 'Duo',\n",
       " 'mano',\n",
       " 'sgup',\n",
       " 'oooook',\n",
       " 'dahhhhhhhhh',\n",
       " 'stratcable',\n",
       " 'gmail',\n",
       " 'goodservice',\n",
       " 'tksss',\n",
       " 'brest',\n",
       " 'dicas',\n",
       " 'cuppocino',\n",
       " 'safelyso',\n",
       " 'charmaine',\n",
       " 'apo',\n",
       " 'satisfiying',\n",
       " 'actioned',\n",
       " 'baruseller',\n",
       " 'diboot',\n",
       " 'ngamngamtpi',\n",
       " 'bjase',\n",
       " 'pursue',\n",
       " 'acting',\n",
       " 'pastilles',\n",
       " 'baikoverall',\n",
       " 'youkeep',\n",
       " 'bding',\n",
       " 'turboo',\n",
       " 'repeatselesa',\n",
       " 'audioos',\n",
       " 'okayytak',\n",
       " 'rfsi',\n",
       " 'shoutout',\n",
       " 'gerok',\n",
       " 'qualitywarna',\n",
       " 'diyes',\n",
       " 'conditionso',\n",
       " 'bublewarp',\n",
       " 'utilise',\n",
       " 'tenkiuuuuuu',\n",
       " 'selamatdelivery',\n",
       " 'canxl',\n",
       " 'completepackaging',\n",
       " 'senoverall',\n",
       " 'diorne',\n",
       " 'safelynicely',\n",
       " 'xshort',\n",
       " 'jobbblovee',\n",
       " 'kawin',\n",
       " 'hshsshshshshshshshsh',\n",
       " 'haisshhh',\n",
       " 'pusingtq',\n",
       " 'hyperack',\n",
       " 'activate',\n",
       " 'conditionkudos',\n",
       " 'sgtsdp',\n",
       " 'thoseinitially',\n",
       " 'baaaaikkk',\n",
       " 'patt',\n",
       " 'zhen',\n",
       " 'sameseller',\n",
       " 'nhe',\n",
       " 'againgood',\n",
       " 'peice',\n",
       " 'responddd',\n",
       " 'packagingseller',\n",
       " 'outttttt',\n",
       " 'muchpack',\n",
       " 'mnat',\n",
       " 'mouldy',\n",
       " 'murder',\n",
       " 'gooddddddddddddddddddddddddd',\n",
       " 'labuuu',\n",
       " 'konfirm',\n",
       " 'gase',\n",
       " 'creation',\n",
       " 'expc',\n",
       " 'hbus',\n",
       " 'respectfully',\n",
       " 'thnkyooooooouuuuu',\n",
       " 'manthap',\n",
       " 'nskshsbns',\n",
       " 'takjauh',\n",
       " 'transportasi',\n",
       " 'reminding',\n",
       " 'tootq',\n",
       " 'ｍ',\n",
       " 'pnok',\n",
       " 'hhhhhhhhhhhhhhhhhhhhhhhhhhhhhhhhhhhhhhhhhhhhhhhhh',\n",
       " 'necklaceee',\n",
       " 'sending',\n",
       " 'bangetttttt',\n",
       " 'alphabet',\n",
       " 'sht',\n",
       " 'crankier',\n",
       " 'lehnot',\n",
       " 'beh',\n",
       " 'crazyyy',\n",
       " 'compensation',\n",
       " 'daybeen',\n",
       " 'headset',\n",
       " 'sellerrrrrrrrrrrrrrrrrrrrrrrrrr',\n",
       " 'sellt',\n",
       " 'es',\n",
       " 'camshaft',\n",
       " 'khoo',\n",
       " 'kakzaiyaonlineshop',\n",
       " 'rdy',\n",
       " 'indiabule',\n",
       " 'sblmpos',\n",
       " 'jbnice',\n",
       " 'sgtworth',\n",
       " 'hshfhshdhhdhshsjs',\n",
       " 'effiecient',\n",
       " 'hardex',\n",
       " 'boekpacking',\n",
       " 'wbehdifodbee',\n",
       " 'chatso',\n",
       " 'gmq',\n",
       " 'alqawwiybookshop',\n",
       " 'rmlbh',\n",
       " 'breastpad',\n",
       " 'sgtdelivery',\n",
       " 'tir',\n",
       " 'designkan',\n",
       " 'pantaswallet',\n",
       " 'boxprice',\n",
       " 'gilooss',\n",
       " 'gyna',\n",
       " 'bont',\n",
       " 'lahighly',\n",
       " 'hbis',\n",
       " 'fash',\n",
       " 'tracks',\n",
       " 'nicceeeeee',\n",
       " 'misgives',\n",
       " 'shao',\n",
       " 'tgnpurse',\n",
       " 'thankyoy',\n",
       " 'hawker',\n",
       " 'heliocare',\n",
       " 'accept',\n",
       " 'party',\n",
       " 'gbrbrg',\n",
       " 'secondly',\n",
       " 'smiley',\n",
       " 'tankiyuuuuuu',\n",
       " 'minuteeasy',\n",
       " 'headlopp',\n",
       " 'pniti',\n",
       " 'nithankss',\n",
       " 'posts',\n",
       " 'kepalathanks',\n",
       " 'pentingtq',\n",
       " 'choicekain',\n",
       " 'owesomemmmmmmmmmmmm',\n",
       " 'met',\n",
       " 'packaginggggg',\n",
       " 'dsgn',\n",
       " 'tops',\n",
       " 'comelllllllllll',\n",
       " 'blankets',\n",
       " 'rime',\n",
       " 'nidesign',\n",
       " 'epidermic',\n",
       " 'oliday',\n",
       " 'niceeebestt',\n",
       " 'hostel',\n",
       " 'complicatedrecommended',\n",
       " 'dhdhhdbd',\n",
       " 'earfone',\n",
       " 'buyinggggg',\n",
       " 'bombnanti',\n",
       " 'mold',\n",
       " 'gmbrrrrt',\n",
       " 'awful',\n",
       " 'diligently',\n",
       " 'xguna',\n",
       " 'shoesdelivery',\n",
       " 'portal',\n",
       " 'techniques',\n",
       " 'pndaix',\n",
       " 'brgmbr',\n",
       " 'thtr',\n",
       " 'besarlaaa',\n",
       " 'safelyrecommend',\n",
       " 'shifon',\n",
       " 'thankkkssssssssss',\n",
       " 'walletsuitable',\n",
       " 'okthin',\n",
       " 'veen',\n",
       " 'chore',\n",
       " 'hokay',\n",
       " 'lion',\n",
       " 'softkain',\n",
       " 'sneakers',\n",
       " 'pown',\n",
       " 'referred',\n",
       " 'hancing',\n",
       " 'uplod',\n",
       " 'svsvsvccsxssxsxxsxsxs',\n",
       " 'ppe',\n",
       " 'bae',\n",
       " 'parted',\n",
       " 'relatedall',\n",
       " 'buyingoriginal',\n",
       " 'rugiiiiiiii',\n",
       " 'urgentt',\n",
       " 'simplemini',\n",
       " 'mesmerizing',\n",
       " 'tqqqqqqqqqqqqqqqqqqqqqqqqqqqqqqqqqqqqqqqqqqqqqqqqqqqqqqqqqqqqqqqqqqqqqqqqqqqqqqqqqqq',\n",
       " 'tightsize',\n",
       " 'bely',\n",
       " 'filmstrip',\n",
       " 'bolsj',\n",
       " 'muchtrusted',\n",
       " 'whether',\n",
       " 'bbloila',\n",
       " 'wntworksdnbhd',\n",
       " 'selected',\n",
       " 'column',\n",
       " 'lingerine',\n",
       " 'cepathopefully',\n",
       " 'whiteant',\n",
       " 'guo',\n",
       " 'tase',\n",
       " 'dygn',\n",
       " 'proff',\n",
       " 'style',\n",
       " 'otw',\n",
       " 'nhn',\n",
       " 'utkhm',\n",
       " 'heheheheheheheheh',\n",
       " 'cutso',\n",
       " 'homegood',\n",
       " 'putihits',\n",
       " 'niceeeerrrrr',\n",
       " 'wehhhhh',\n",
       " 'denhan',\n",
       " 'diepun',\n",
       " 'lainpackaging',\n",
       " 'deliverybrg',\n",
       " 'fill',\n",
       " 'polybags',\n",
       " 'brgx',\n",
       " 'conventional',\n",
       " ...}"
      ]
     },
     "execution_count": 33,
     "metadata": {},
     "output_type": "execute_result"
    }
   ],
   "source": [
    "bi"
   ]
  },
  {
   "cell_type": "code",
   "execution_count": 34,
   "id": "9afaadd1-3ef4-4520-8a60-9b1a3549cd63",
   "metadata": {},
   "outputs": [],
   "source": [
    "from pyspark.sql.types import StringType, ArrayType\n",
    "from pyspark.sql.functions import col, udf, size, split, col"
   ]
  },
  {
   "cell_type": "code",
   "execution_count": 35,
   "id": "cb4572b6-bab7-44ba-b9cf-5a4096803a2d",
   "metadata": {},
   "outputs": [],
   "source": [
    "replacement = [bi, bm, bc, oov]\n",
    "languages = [\"en\",\"ms\",\"zh\",\"oov\"]\n",
    "\n",
    "def get_lang(text):\n",
    "    for i in range(4):\n",
    "        if text in replacement[i]:\n",
    "            return languages[i]\n",
    "    return \"oov\"\n",
    "\n",
    "def get_lang_arr(arr):\n",
    "    return [get_lang(x) for x in arr]\n",
    "\n",
    "\n",
    "get_lang_udf = udf(lambda x : get_lang_arr(x), ArrayType(StringType()))"
   ]
  },
  {
   "cell_type": "code",
   "execution_count": 36,
   "id": "a3fda5d5-4cd6-45c5-9f18-5fc404d10d30",
   "metadata": {},
   "outputs": [],
   "source": [
    "df = read_avro(\"output/18_MERGE_TAG\")"
   ]
  },
  {
   "cell_type": "code",
   "execution_count": 37,
   "id": "4e13bb81-59d9-4dcd-8ffe-16308d5a747b",
   "metadata": {},
   "outputs": [
    {
     "data": {
      "text/plain": [
       "DataFrame[original: string, token: array<string>, tag: array<string>, language: string, chinese_tag: array<string>]"
      ]
     },
     "execution_count": 37,
     "metadata": {},
     "output_type": "execute_result"
    }
   ],
   "source": [
    "df"
   ]
  },
  {
   "cell_type": "code",
   "execution_count": 38,
   "id": "652a141b-a3e0-4980-9c5d-36c6331eec65",
   "metadata": {},
   "outputs": [],
   "source": [
    "withLang = df.withColumn(\"language_pattern\", get_lang_udf(col(\"token\")))"
   ]
  },
  {
   "cell_type": "code",
   "execution_count": 39,
   "id": "1b38050e-06bf-4529-9add-fae2728ba391",
   "metadata": {},
   "outputs": [
    {
     "name": "stderr",
     "output_type": "stream",
     "text": [
      "                                                                                \r"
     ]
    }
   ],
   "source": [
    "shutil.rmtree(\"output/22__READY_NGRAM\")\n",
    "write_avro(withLang, \"output/22__READY_NGRAM\")"
   ]
  },
  {
   "cell_type": "code",
   "execution_count": 40,
   "id": "c9b5eabb-54d5-443d-9fe4-4dd2afd7da20",
   "metadata": {
    "tags": []
   },
   "outputs": [
    {
     "name": "stdout",
     "output_type": "stream",
     "text": [
      "+--------------------+--------------------+--------------------+--------+-----------+--------------------+\n",
      "|            original|               token|                 tag|language|chinese_tag|    language_pattern|\n",
      "+--------------------+--------------------+--------------------+--------+-----------+--------------------+\n",
      "|taste nice better...|[taste, nice, bet...|[NOUN, ADJ, ADJ, ...| english|       null|[en, en, en, en, ...|\n",
      "|barang sampai den...|[barang, sampai, ...|[NOUN, ADP, ADP, ...| english|       null|[ms, ms, ms, ms, ...|\n",
      "|to seller thanks ...|[to, seller, than...|[ADP, NOUN, NOUN,...| english|       null|[en, en, en, en, ...|\n",
      "|thank you seller ...|[thank, you, sell...|[VERB, PRON, NOUN...| english|       null|[en, en, en, en, ...|\n",
      "|wow fast delivery...|[wow, fast, deliv...|[PROPN, PROPN, NO...| english|       null|[en, en, en, en, ...|\n",
      "|good product qual...|[good, product, q...|[PROPN, PROPN, PR...| english|       null|[en, en, en, en, ...|\n",
      "|unrelated photo a...|[unrelated, photo...|[NOUN, NOUN, CCON...| english|       null|[en, en, en, en, ...|\n",
      "|thank you seller ...|[thank, you, sell...|[VERB, PRON, NOUN...| english|       null|[en, en, en, en, ...|\n",
      "|seller respon ama...|[seller, respon, ...|[NOUN, NOUN, ADV,...| english|       null|[en, en, ms, en, ...|\n",
      "|received thank yo...|[received, thank,...|[VERB, VERB, PRON...| english|       null|[en, en, en, en, ...|\n",
      "|thank you seller ...|[thank, you, sell...|[VERB, PRON, PROP...| english|       null|[en, en, en, en, ...|\n",
      "|beli masa jovian ...|[beli, masa, jovi...|[VERB, NOUN, NOUN...| english|       null|[ms, ms, ms, ms, ...|\n",
      "|seller fast ship ...|[seller, fast, sh...|[PROPN, PROPN, PR...| english|       null|[en, en, en, en, ...|\n",
      "|yeayyyy botol my ...|[yeayyyy, botol, ...|[NOUN, NOUN, DET,...| english|       null|[en, ms, en, en, ...|\n",
      "|good quality prod...|[good, quality, p...|[NOUN, NOUN, NOUN...| english|       null|[en, en, en, en, ...|\n",
      "|good product qual...|[good, product, q...|[PROPN, NOUN, NOU...| english|       null|[en, en, en, en, ...|\n",
      "|i did messaged th...|[i, did, messaged...|[PROPN, VERB, NOU...| english|       null|[ms, en, en, en, ...|\n",
      "|but the material ...|[but, the, materi...|[CCONJ, NOUN, NOU...| english|       null|[en, en, en, en, ...|\n",
      "|dpt free gift tak...|[dpt, free, gift,...|[VERB, ADJ, NOUN,...| english|       null|[en, en, en, ms, ...|\n",
      "|thank you seller ...|[thank, you, sell...|[PROPN, PRON, PRO...| english|       null|[en, en, en, en, ...|\n",
      "+--------------------+--------------------+--------------------+--------+-----------+--------------------+\n",
      "only showing top 20 rows\n",
      "\n"
     ]
    }
   ],
   "source": [
    "read_avro(\"output/22__READY_NGRAM\").show()"
   ]
  }
 ],
 "metadata": {
  "kernelspec": {
   "display_name": "venv-spark",
   "language": "python",
   "name": "venv-spark"
  },
  "language_info": {
   "codemirror_mode": {
    "name": "ipython",
    "version": 3
   },
   "file_extension": ".py",
   "mimetype": "text/x-python",
   "name": "python",
   "nbconvert_exporter": "python",
   "pygments_lexer": "ipython3",
   "version": "3.9.13"
  }
 },
 "nbformat": 4,
 "nbformat_minor": 5
}
