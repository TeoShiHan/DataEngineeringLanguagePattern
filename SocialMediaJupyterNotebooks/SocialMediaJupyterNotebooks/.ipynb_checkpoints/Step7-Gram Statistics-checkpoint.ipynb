{
 "cells": [
  {
   "cell_type": "markdown",
   "id": "f2f513c1-8066-47cb-8dc9-c5c06b16b4b4",
   "metadata": {},
   "source": [
    "### 26 Lang gram frequency"
   ]
  },
  {
   "cell_type": "code",
   "execution_count": 19,
   "id": "34deffe8-051d-4206-9bb4-f81203ea4cfd",
   "metadata": {
    "tags": []
   },
   "outputs": [],
   "source": [
    "import findspark\n",
    "findspark.init(\"/home/pc/TestJupyter/opt/spark-3.3.0/spark-3.3.0-bin-hadoop3\")\n",
    "from pyspark.ml.feature import NGram\n",
    "import pyspark.sql.functions as F\n",
    "import pyspark\n",
    "import random\n",
    "import os\n",
    "from pyspark.sql import SparkSession\n",
    "from pyspark import SparkConf\n",
    "\n",
    "\n",
    "os.environ[\"PYSPARK_PYTHON\"]=\"/home/pc/TestJupyter/opt/spark-3.3.0/venv-spark/bin/python39\"\n",
    "os.environ['PYSPARK_SUBMIT_ARGS'] = '--packages org.apache.spark:spark-avro_2.12:3.3.0  pyspark-shell'\n",
    "\n",
    "spark = SparkSession.builder \\\n",
    "    .master(\"local[*]\")\\\n",
    "    .appName(\"hive hbase\")\\\n",
    "    .config(\"hive.metastore.uris\", \"thrift://g2.bigtop.it:9083\")\\\n",
    "    .config(\"spark.driver.memory\", \"70g\")\\\n",
    "    .enableHiveSupport()\\\n",
    "    .getOrCreate()"
   ]
  },
  {
   "cell_type": "code",
   "execution_count": 20,
   "id": "935dff19-5050-45eb-ad3d-8da07df06ccf",
   "metadata": {},
   "outputs": [],
   "source": [
    "def read_avro(path):\n",
    "    return spark.read.format(\"avro\").load(path)\n",
    "\n",
    "def write_avro(df, path):\n",
    "    return df.write.format(\"avro\").save(path)"
   ]
  },
  {
   "cell_type": "code",
   "execution_count": 21,
   "id": "a8613d91-ac32-4afe-956d-608c1a76036c",
   "metadata": {},
   "outputs": [],
   "source": [
    "df = read_avro(\"output/25_CENTER_DETERMINED\")"
   ]
  },
  {
   "cell_type": "code",
   "execution_count": 22,
   "id": "34f90955-3543-4335-9753-29a84ac436d9",
   "metadata": {
    "tags": []
   },
   "outputs": [],
   "source": [
    "langFreq = df.groupBy(\"lang_gram\").count()"
   ]
  },
  {
   "cell_type": "code",
   "execution_count": 23,
   "id": "f153eaf6-95d1-41a3-90bc-a191b98f5580",
   "metadata": {
    "collapsed": true,
    "jupyter": {
     "outputs_hidden": true
    },
    "tags": []
   },
   "outputs": [
    {
     "name": "stderr",
     "output_type": "stream",
     "text": [
      "[Stage 26:====================================>                   (17 + 9) / 26]\r"
     ]
    },
    {
     "name": "stdout",
     "output_type": "stream",
     "text": [
      "+----------------+------+\n",
      "|       lang_gram| count|\n",
      "+----------------+------+\n",
      "|           ms zh|     8|\n",
      "|     zh ms ms en|     3|\n",
      "|           en en|503440|\n",
      "|  ms ms ms ms en| 44840|\n",
      "|        ms ms ms|394027|\n",
      "|     ms en en ms| 12590|\n",
      "|  ms en en ms en|  3969|\n",
      "|  en en ms en ms|  8555|\n",
      "|     zh ms en zh|    14|\n",
      "|   zh zh oov oov|    19|\n",
      "|en en oov oov ms|     5|\n",
      "| zh zh oov zh zh|    11|\n",
      "|  ms ms zh zh zh|    11|\n",
      "|           en ms|237903|\n",
      "|  zh ms en ms zh|     4|\n",
      "|  zh ms zh en en|     3|\n",
      "|     zh ms zh zh|   156|\n",
      "|           zh ms|   272|\n",
      "|     en en zh zh|    98|\n",
      "|     en ms en en| 41795|\n",
      "+----------------+------+\n",
      "only showing top 20 rows\n",
      "\n"
     ]
    },
    {
     "name": "stderr",
     "output_type": "stream",
     "text": [
      "                                                                                \r"
     ]
    }
   ],
   "source": [
    "langFreq.show()"
   ]
  },
  {
   "cell_type": "code",
   "execution_count": 24,
   "id": "dbed45c2-6d3e-4801-9af3-0e292e8f232f",
   "metadata": {},
   "outputs": [
    {
     "data": {
      "text/plain": [
       "DataFrame[lang_gram: string, lang_gram_f: bigint]"
      ]
     },
     "execution_count": 24,
     "metadata": {},
     "output_type": "execute_result"
    }
   ],
   "source": [
    "langFreq.withColumnRenamed(\"count\", \"lang_gram_f\")"
   ]
  },
  {
   "cell_type": "code",
   "execution_count": 9,
   "id": "d477c706-e1d8-42a4-a81d-3770165cdc47",
   "metadata": {},
   "outputs": [
    {
     "name": "stderr",
     "output_type": "stream",
     "text": [
      "                                                                                \r"
     ]
    }
   ],
   "source": [
    "import shutil\n",
    "shutil.rmtree(\"output/26_LANG_G_FREQ\")\n",
    "write_avro(langFreq, \"output/26_LANG_G_FREQ\")"
   ]
  },
  {
   "cell_type": "code",
   "execution_count": null,
   "id": "3da273d9-f666-4d0b-b36e-d61f14b8513d",
   "metadata": {},
   "outputs": [],
   "source": [
    "## join with center table"
   ]
  },
  {
   "cell_type": "code",
   "execution_count": 27,
   "id": "d5299e78-1757-406e-9d91-31596a6539e8",
   "metadata": {},
   "outputs": [],
   "source": [
    "df = read_avro(\"output/25_CENTER_DETERMINED\")"
   ]
  },
  {
   "cell_type": "code",
   "execution_count": 26,
   "id": "36304d21-d505-4704-bae9-79d3255e0a14",
   "metadata": {},
   "outputs": [],
   "source": [
    "lf =  read_avro(\"output/26_LANG_G_FREQ\").withColumnRenamed(\"count\", \"lang_gram_f\")"
   ]
  },
  {
   "cell_type": "code",
   "execution_count": 23,
   "id": "1ba09e52-e339-47b2-95c9-eddbb3f3b349",
   "metadata": {},
   "outputs": [
    {
     "data": {
      "text/plain": [
       "DataFrame[lang_gram: string, lang_gram_f: bigint]"
      ]
     },
     "execution_count": 23,
     "metadata": {},
     "output_type": "execute_result"
    }
   ],
   "source": [
    "lf"
   ]
  },
  {
   "cell_type": "code",
   "execution_count": 28,
   "id": "3092871b-b983-4cf6-87c1-3de8b9487dd7",
   "metadata": {},
   "outputs": [],
   "source": [
    "mergeLangF = df.join(lf, df.lang_gram == lf.lang_gram).drop(lf.lang_gram)"
   ]
  },
  {
   "cell_type": "code",
   "execution_count": 29,
   "id": "edd6a276-350f-4c5c-a69e-efdcbfe6cab5",
   "metadata": {},
   "outputs": [
    {
     "data": {
      "text/plain": [
       "DataFrame[sentence_id: bigint, original: string, tag: array<string>, language: string, token: array<string>, chinese_tag: array<string>, language_pattern: array<string>, pos: int, token_gram: string, tag_gram: string, lang_gram: string, gram_type: string, containsKey: boolean, middle_key: boolean, lang_gram_f: bigint]"
      ]
     },
     "execution_count": 29,
     "metadata": {},
     "output_type": "execute_result"
    }
   ],
   "source": [
    "mergeLangF"
   ]
  },
  {
   "cell_type": "code",
   "execution_count": 14,
   "id": "bcd8cdad-4f89-45b6-b440-ef4c90b2713d",
   "metadata": {},
   "outputs": [
    {
     "name": "stderr",
     "output_type": "stream",
     "text": [
      "                                                                                \r"
     ]
    }
   ],
   "source": [
    "shutil.rmtree(\"output/26_WITH_LANGF\")\n",
    "write_avro(mergeLangF, \"output/26_WITH_LANGF\")"
   ]
  },
  {
   "cell_type": "markdown",
   "id": "d5341f39-d515-403a-ab72-f96d0c0b6c5e",
   "metadata": {},
   "source": [
    "### 27 Token gram frequency"
   ]
  },
  {
   "cell_type": "code",
   "execution_count": 30,
   "id": "fece19ca-7c66-4df4-8135-c7aab35441b5",
   "metadata": {},
   "outputs": [],
   "source": [
    "df = read_avro(\"output/26_WITH_LANGF\")\n",
    "df = df.repartition(54)\n",
    "tokenFreq = df.groupBy(\"token_gram\").count()"
   ]
  },
  {
   "cell_type": "code",
   "execution_count": 5,
   "id": "7e600cce-d1c5-4499-8910-ec646f24328a",
   "metadata": {},
   "outputs": [],
   "source": [
    "tokenFreq = tokenFreq.withColumnRenamed(\"count\", \"token_gram_f\")"
   ]
  },
  {
   "cell_type": "code",
   "execution_count": 6,
   "id": "873f5b55-b92d-40dd-8436-550e371d1b73",
   "metadata": {
    "collapsed": true,
    "jupyter": {
     "outputs_hidden": true
    },
    "tags": []
   },
   "outputs": [
    {
     "name": "stderr",
     "output_type": "stream",
     "text": [
      "[Stage 2:=================================================>       (47 + 7) / 54]\r"
     ]
    },
    {
     "name": "stdout",
     "output_type": "stream",
     "text": [
      "+----------------------+------------+\n",
      "|            token_gram|token_gram_f|\n",
      "+----------------------+------------+\n",
      "|        seller so much|         217|\n",
      "|               好 货品|         364|\n",
      "|  seller courier fo...|           5|\n",
      "|   不错 good 不错 good|          36|\n",
      "|               不错 不|          28|\n",
      "|  seller fast delivery|        8894|\n",
      "|  seller pastikan i...|           1|\n",
      "|               不错 跟|          15|\n",
      "|  seller for being ...|           2|\n",
      "|  好 太棒了 我 很 喜欢|           3|\n",
      "|  cantik la tak rug...|           4|\n",
      "|  好 慢 东西 好吃 good|           1|\n",
      "|             包装 完好|         111|\n",
      "|  cantik warnanya t...|           3|\n",
      "|  包装 很 好 值得 购买|          38|\n",
      "|  recommend this pr...|          37|\n",
      "|包装 很 好 奈斯 店主人|           4|\n",
      "|  喜欢 青稞 和 葡萄 味|           1|\n",
      "|        seller is just|          10|\n",
      "|  seller received w...|          98|\n",
      "+----------------------+------------+\n",
      "only showing top 20 rows\n",
      "\n"
     ]
    },
    {
     "name": "stderr",
     "output_type": "stream",
     "text": [
      "                                                                                \r"
     ]
    }
   ],
   "source": [
    "tokenFreq.show()"
   ]
  },
  {
   "cell_type": "code",
   "execution_count": 8,
   "id": "91250eb9-8168-4cd7-a7cb-de951f8b0e43",
   "metadata": {},
   "outputs": [
    {
     "name": "stderr",
     "output_type": "stream",
     "text": [
      "                                                                                \r"
     ]
    }
   ],
   "source": [
    "import shutil\n",
    "shutil.rmtree(\"output/27_TOKEN_F\")\n",
    "write_avro(tokenFreq, \"output/27_TOKEN_F\")"
   ]
  },
  {
   "cell_type": "code",
   "execution_count": 32,
   "id": "92aec628-bec4-4c3f-b645-96f611ea1683",
   "metadata": {},
   "outputs": [],
   "source": [
    "tokF = read_avro(\"output/27_TOKEN_F\")\n",
    "tokF = tokF.repartition(54)"
   ]
  },
  {
   "cell_type": "code",
   "execution_count": 33,
   "id": "77a49427-03f5-4b59-8a2a-d0d8ef293ea5",
   "metadata": {},
   "outputs": [],
   "source": [
    "withTokF = df.join(tokF, df.token_gram == tokF.token_gram).drop(tokF.token_gram)"
   ]
  },
  {
   "cell_type": "code",
   "execution_count": 34,
   "id": "4ddf78db-4615-4fba-a858-3ac06cb07b85",
   "metadata": {},
   "outputs": [
    {
     "data": {
      "text/plain": [
       "DataFrame[sentence_id: bigint, original: string, tag: array<string>, language: string, token: array<string>, chinese_tag: array<string>, language_pattern: array<string>, pos: int, token_gram: string, tag_gram: string, lang_gram: string, gram_type: string, containsKey: boolean, middle_key: boolean, lang_gram_f: bigint, token_gram_f: bigint]"
      ]
     },
     "execution_count": 34,
     "metadata": {},
     "output_type": "execute_result"
    }
   ],
   "source": [
    "withTokF"
   ]
  },
  {
   "cell_type": "code",
   "execution_count": 11,
   "id": "fd38122d-4700-4c10-a14b-4e766b61f7d7",
   "metadata": {},
   "outputs": [],
   "source": [
    "shutil.rmtree(\"output/27_TokFreq\")"
   ]
  },
  {
   "cell_type": "code",
   "execution_count": 12,
   "id": "a977b896-1b77-49eb-9908-2920ed6d57c3",
   "metadata": {},
   "outputs": [
    {
     "name": "stderr",
     "output_type": "stream",
     "text": [
      "                                                                                \r"
     ]
    }
   ],
   "source": [
    "write_avro(withTokF, \"output/27_TokFreq\")"
   ]
  },
  {
   "cell_type": "markdown",
   "id": "5bef3cd5-81cd-4d6e-a0aa-45f5e9ea4a93",
   "metadata": {},
   "source": [
    "### 28 Tag gram frequency"
   ]
  },
  {
   "cell_type": "code",
   "execution_count": 35,
   "id": "d8ab0776-72d4-49cc-b745-ed564e8466b6",
   "metadata": {},
   "outputs": [],
   "source": [
    "df = read_avro(\"output/27_TokFreq\")\n",
    "df = df.repartition(54)\n",
    "# tokenFreq = df.groupBy(\"token_gram\").count()"
   ]
  },
  {
   "cell_type": "code",
   "execution_count": 36,
   "id": "389ed6bf-aa8e-4d4e-8110-c188cb42daf2",
   "metadata": {},
   "outputs": [],
   "source": [
    "tagGramFreq = df.groupBy(\"tag_gram\").count().withColumnRenamed(\"count\", \"tag_gram_f\")"
   ]
  },
  {
   "cell_type": "code",
   "execution_count": 5,
   "id": "16f32def-8afd-4b54-bd4c-15023e7e9c71",
   "metadata": {},
   "outputs": [
    {
     "name": "stderr",
     "output_type": "stream",
     "text": [
      "                                                                                \r"
     ]
    }
   ],
   "source": [
    "write_avro(tagGramFreq, \"28_TagGramF\")"
   ]
  },
  {
   "cell_type": "code",
   "execution_count": 38,
   "id": "6ac8acbb-1f43-44e7-8c89-567f3e6a749a",
   "metadata": {},
   "outputs": [],
   "source": [
    "tf = read_avro(\"28_TagGramF\")\n",
    "tf = tf.repartition(54)"
   ]
  },
  {
   "cell_type": "code",
   "execution_count": 42,
   "id": "c25254cf-8893-45b9-bf32-d9a00ca7d076",
   "metadata": {},
   "outputs": [],
   "source": [
    "withtagF = df.join(tf, df.tag_gram == tf.tag_gram).drop(tf.tag_gram)"
   ]
  },
  {
   "cell_type": "code",
   "execution_count": 43,
   "id": "01c52cff-9e75-4106-a8f2-99085e0f3896",
   "metadata": {},
   "outputs": [
    {
     "data": {
      "text/plain": [
       "DataFrame[sentence_id: bigint, original: string, tag: array<string>, language: string, token: array<string>, chinese_tag: array<string>, language_pattern: array<string>, pos: int, token_gram: string, tag_gram: string, lang_gram: string, gram_type: string, containsKey: boolean, middle_key: boolean, lang_gram_f: bigint, token_gram_f: bigint, tag_gram_f: bigint]"
      ]
     },
     "execution_count": 43,
     "metadata": {},
     "output_type": "execute_result"
    }
   ],
   "source": [
    "withtagF"
   ]
  },
  {
   "cell_type": "code",
   "execution_count": 44,
   "id": "7eb2836b-e2c4-42af-98b9-e8c1b69cf6cb",
   "metadata": {},
   "outputs": [],
   "source": [
    "import shutil\n",
    "shutil.rmtree(\"output/28_ALL_FREQ_INCLUDED\")"
   ]
  },
  {
   "cell_type": "code",
   "execution_count": 45,
   "id": "f1b179a7-aefe-4fe5-a8e9-c4bf2a5acbdb",
   "metadata": {},
   "outputs": [
    {
     "name": "stderr",
     "output_type": "stream",
     "text": [
      "                                                                                \r"
     ]
    }
   ],
   "source": [
    "write_avro(withtagF, \"output/28_ALL_FREQ_INCLUDED\")"
   ]
  },
  {
   "cell_type": "code",
   "execution_count": 46,
   "id": "5737c3c1-d08c-4e63-8315-2bfb3dbe17d7",
   "metadata": {
    "tags": []
   },
   "outputs": [
    {
     "name": "stdout",
     "output_type": "stream",
     "text": [
      "+------------+--------------------+--------------------+--------+--------------------+-----------+--------------------+---+------------------+-----------------+---------+---------+-----------+----------+-----------+------------+----------+\n",
      "| sentence_id|            original|                 tag|language|               token|chinese_tag|    language_pattern|pos|        token_gram|         tag_gram|lang_gram|gram_type|containsKey|middle_key|lang_gram_f|token_gram_f|tag_gram_f|\n",
      "+------------+--------------------+--------------------+--------+--------------------+-----------+--------------------+---+------------------+-----------------+---------+---------+-----------+----------+-----------+------------+----------+\n",
      "| 42949713335|barang sampai dal...|[NOUN, VERB, ADP,...|   malay|[barang, sampai, ...|       null|[ms, ms, ms, ms, ...|  0|     barang sampai|        NOUN VERB|    ms ms|        2|       true|     false|     486008|       61098|    118346|\n",
      "|        7613|thankyouuuuu bara...|[NOUN, NOUN, ADV,...|   malay|[thankyouuuuu, ba...|       null|[en, ms, ms, ms, ...|  1|        barang dah|         NOUN ADV|    ms ms|        2|       true|     false|     486008|       41968|    149859|\n",
      "| 85899400519|maaf gambar tiada...|[NOUN, NOUN, PART...|   malay|[maaf, gambar, ti...|       null|[ms, ms, ms, ms, ...|  4|     barang sampai|         NOUN ADP|    ms ms|        2|       true|     false|     486008|       61098|     94685|\n",
      "| 25769847775|alhamdulilah bara...|[NOUN, NOUN, ADP,...|   malay|[alhamdulilah, ba...|       null|[ms, ms, ms, ms, ...|  1|     barang sampai|         NOUN ADP|    ms ms|        2|       true|     false|     486008|       61098|     94685|\n",
      "| 42949731929|thank seller bara...|[NOUN, NOUN, NOUN...|   malay|[thank, seller, b...|       null|[en, en, ms, ms, ...|  2| barang dah sampai|    NOUN ADV VERB| ms ms ms|        3|       true|     false|     394027|       29908|    179518|\n",
      "| 34359746622|barang sampai den...|[NOUN, VERB, ADP,...|   malay|[barang, sampai, ...|       null|[ms, ms, ms, ms, ...|  0|     barang sampai|        NOUN VERB|    ms ms|        2|       true|     false|     486008|       61098|    118346|\n",
      "| 34359786323|barang dah sampai...|[NOUN, ADV, VERB,...|   malay|[barang, dah, sam...|       null|[ms, ms, ms, ms, ...|  0| barang dah sampai|    NOUN ADV VERB| ms ms ms|        3|       true|     false|     394027|       29908|    179518|\n",
      "|137439019096|nice nice nice ni...|[PROPN, PROPN, PR...| english|[nice, nice, nice...|       null|[en, en, en, en, ...|  6|    nice nice nice|PROPN PROPN PROPN| en en en|        3|       true|      true|     405635|       36717|    131744|\n",
      "| 42949675841|alhamdulillah dah...|[ADV, ADV, VERB, ...|   malay|[alhamdulillah, d...|       null|[ms, ms, ms, en, ...|  7|   seller siap dpt|    NOUN ADJ VERB| en ms en|        3|       true|     false|      80693|          87|     33380|\n",
      "| 34359754309|mask dia bagus se...|[NOUN, PRON, ADJ,...|   malay|[mask, dia, bagus...|       null|[ms, ms, ms, ms, ...|  9|   murah pon murah|      ADJ ADV ADJ| ms en ms|        3|       true|     false|      60850|         594|     20568|\n",
      "| 34359746281|barang dah sampai...|[NOUN, ADV, VERB,...|   malay|[barang, dah, sam...|       null|[ms, ms, ms, ms, ...|  0| barang dah sampai|    NOUN ADV VERB| ms ms ms|        3|       true|     false|     394027|       29908|    179518|\n",
      "| 60129563098|barang sampai dal...|[NOUN, VERB, ADP,...|   malay|[barang, sampai, ...|       null|[ms, ms, ms, ms, ...|  0|     barang sampai|        NOUN VERB|    ms ms|        2|       true|     false|     486008|       61098|    118346|\n",
      "| 34359740086|barang dah sampai...|[NOUN, ADV, VERB,...|   malay|[barang, dah, sam...|       null|[ms, ms, ms, ms, ...|  0|        barang dah|         NOUN ADV|    ms ms|        2|       true|     false|     486008|       41968|    149859|\n",
      "| 25769835845|penghantaran laju...|[NOUN, NOUN, NOUN...|   malay|[penghantaran, la...|       null|[ms, ms, ms, ms, ...| 20|  seller tq seller|  NOUN PROPN NOUN| en en en|        3|       true|     false|     405635|        6567|     31644|\n",
      "| 51539673266|nice nice nice ni...|[PROPN, PROPN, PR...| english|[nice, nice, nice...|       null|[en, en, en, en, ...| 14|    nice nice nice|PROPN PROPN PROPN| en en en|        3|       true|      true|     405635|       36717|    131744|\n",
      "|       81870|nice nice nice ni...|[PROPN, PROPN, PR...| english|[nice, nice, nice...|       null|[en, en, en, en, ...|  0|    nice nice nice|PROPN PROPN PROPN| en en en|        3|       true|      true|     405635|       36717|    131744|\n",
      "|       76849|fast delivery qua...|[PROPN, NOUN, PRO...| english|[fast, delivery, ...|       null|[en, en, en, ms, ...|  8|seller recommended|      PROPN PROPN|    en en|        2|       true|     false|     503440|        3127|    105101|\n",
      "|  8589941162|barang dah sampai...|[NOUN, ADV, VERB,...|   malay|[barang, dah, sam...|       null|[ms, ms, ms, ms, ...|  0|        barang dah|         NOUN ADV|    ms ms|        2|       true|     false|     486008|       41968|    149859|\n",
      "|  8589994790|nice nice nice go...|[PROPN, PROPN, PR...|   malay|[nice, nice, nice...|       null|[en, en, en, en, ...|  8|    nice nice nice|PROPN PROPN PROPN| en en en|        3|       true|      true|     405635|       36717|    131744|\n",
      "|111669195748|semua barang samp...|[DET, NOUN, ADP, ...|   malay|[semua, barang, s...|       null|[ms, ms, ms, ms, ...|  1|     barang sampai|         NOUN ADP|    ms ms|        2|       true|     false|     486008|       61098|     94685|\n",
      "+------------+--------------------+--------------------+--------+--------------------+-----------+--------------------+---+------------------+-----------------+---------+---------+-----------+----------+-----------+------------+----------+\n",
      "only showing top 20 rows\n",
      "\n"
     ]
    }
   ],
   "source": [
    "read_avro(\"output/28_ALL_FREQ_INCLUDED\").show()"
   ]
  },
  {
   "cell_type": "code",
   "execution_count": 47,
   "id": "e769f6a3-eeda-4eb0-bca0-927f0606c8a6",
   "metadata": {},
   "outputs": [],
   "source": [
    "df = read_avro(\"output/28_ALL_FREQ_INCLUDED\")\n",
    "df = df.repartition(800)"
   ]
  },
  {
   "cell_type": "code",
   "execution_count": 48,
   "id": "24c11834-a645-4f85-be24-2a2fd78e329e",
   "metadata": {},
   "outputs": [
    {
     "data": {
      "text/plain": [
       "DataFrame[sentence_id: bigint, original: string, tag: array<string>, language: string, token: array<string>, chinese_tag: array<string>, language_pattern: array<string>, pos: int, token_gram: string, tag_gram: string, lang_gram: string, gram_type: string, containsKey: boolean, middle_key: boolean, lang_gram_f: bigint, token_gram_f: bigint, tag_gram_f: bigint]"
      ]
     },
     "execution_count": 48,
     "metadata": {},
     "output_type": "execute_result"
    }
   ],
   "source": [
    "df"
   ]
  },
  {
   "cell_type": "markdown",
   "id": "be3c84e7-7c25-4f02-8dcb-18822a285154",
   "metadata": {},
   "source": [
    "### 29 Table normalization - TABLE 1 normal data"
   ]
  },
  {
   "cell_type": "code",
   "execution_count": 51,
   "id": "85b19c93-70c2-47be-b50e-d6ad25658ee5",
   "metadata": {},
   "outputs": [],
   "source": [
    "originalSentence  = df.dropDuplicates((['sentence_id'])).select(\"sentence_id\", \"original\", \"tag\", \"language\", \"token\", \"chinese_tag\", \"language_pattern\")\n",
    "originalSentence = originalSentence.repartition(800)"
   ]
  },
  {
   "cell_type": "code",
   "execution_count": 52,
   "id": "0d16cbde-2455-46ea-8367-8654b504ac8b",
   "metadata": {
    "tags": []
   },
   "outputs": [
    {
     "name": "stderr",
     "output_type": "stream",
     "text": [
      "[Stage 42:========================================>               (21 + 8) / 29]\r"
     ]
    },
    {
     "name": "stdout",
     "output_type": "stream",
     "text": [
      "+------------+----------------------+--------------------+--------+----------------------------+------------------+--------------------+\n",
      "| sentence_id|              original|                 tag|language|                       token|       chinese_tag|    language_pattern|\n",
      "+------------+----------------------+--------------------+--------+----------------------------+------------------+--------------------+\n",
      "| 42949689070|  ta seller recomme...|[NOUN, NOUN, VERB...| english|        [ta, seller, reco...|              null|[ms, en, en, ms, ...|\n",
      "| 60129595600|  barang berkualiti...|[NOUN, ADJ, NOUN,...|   malay|        [barang, berkuali...|              null|[ms, ms, ms, ms, ...|\n",
      "| 85899405706|  barang sampai den...|[NOUN, ADP, ADP, ...|   malay|        [barang, sampai, ...|              null|[ms, ms, ms, ms, ...|\n",
      "|       34374|  nice packaging n ...|[PROPN, NOUN, CCO...| english|        [nice, packaging,...|              null|[en, en, ms, en, ...|\n",
      "| 60129578321|  fast delivery and...|[PROPN, NOUN, CCO...| english|        [fast, delivery, ...|              null|[en, en, en, en, ...|\n",
      "|  8589994111|  semua ok ok je cu...|[DET, ADJ, ADJ, A...|   malay|        [semua, ok, ok, j...|              null|[ms, ms, ms, ms, ...|\n",
      "|146028907434|  and thanks seller...|[CCONJ, NOUN, NOU...| english|        [and, thanks, sel...|              null|[en, en, en, en, ...|\n",
      "| 94489347887|  tq get my item so...|[NOUN, VERB, DET,...| english|        [tq, get, my, ite...|              null|[en, en, en, ms, ...|\n",
      "|  8589978532|  murah dan good qu...|[ADJ, CCONJ, ADJ,...|   malay|        [murah, dan, good...|              null|[ms, ms, en, en, ...|\n",
      "| 77309475040|  alhamdulillah bar...|[ADJ, NOUN, ADV, ...|   malay|        [alhamdulillah, b...|              null|[ms, ms, ms, ms, ...|\n",
      "| 17179919730|  barang dah selama...|[NOUN, ADV, ADJ, ...|   malay|        [barang, dah, sel...|              null|[ms, ms, ms, ms, ...|\n",
      "| 60129544843|  barang smpi dlm k...|[NOUN, VERB, ADP,...|   malay|        [barang, smpi, dl...|              null|[ms, ms, en, ms, ...|\n",
      "|171798696371|卖家耐心 细心 快速送出|[NOUN, ADJ, NOUN,...| chinese|[卖家, 耐心, 细心, 快速, ...|[n, a, n, d, v, v]|[zh, zh, zh, zh, ...|\n",
      "| 60129597652|  will recommend it...|[ADV, VERB, PRON,...| english|        [will, recommend,...|              null|[en, en, en, en, ...|\n",
      "| 77309447249|  ok lah boleh untu...|[ADJ, X, ADV, ADP...|   malay|        [ok, lah, boleh, ...|              null|[ms, ms, ms, ms, ...|\n",
      "|128849055316|  tq seller ada bg ...|[NOUN, NOUN, VERB...| english|        [tq, seller, ada,...|              null|[en, en, ms, ms, ...|\n",
      "| 17179907993|  seller ni jual se...|[NOUN, DET, VERB,...|   malay|        [seller, ni, jual...|              null|[en, ms, ms, en, ...|\n",
      "|111669182510|  thanks a lot to s...|[NOUN, DET, NOUN,...| english|        [thanks, a, lot, ...|              null|[en, ms, en, en, ...|\n",
      "|        4823|  contacted by sell...|[VERB, ADP, NOUN,...| english|        [contacted, by, s...|              null|[en, en, en, en, ...|\n",
      "| 94489302773|  penghantaran mema...|[NOUN, ADV, ADJ, ...|   malay|        [penghantaran, me...|              null|[ms, ms, ms, ms, ...|\n",
      "+------------+----------------------+--------------------+--------+----------------------------+------------------+--------------------+\n",
      "only showing top 20 rows\n",
      "\n"
     ]
    },
    {
     "name": "stderr",
     "output_type": "stream",
     "text": [
      "                                                                                \r"
     ]
    }
   ],
   "source": [
    "originalSentence.show()"
   ]
  },
  {
   "cell_type": "code",
   "execution_count": 53,
   "id": "86ee4ec9-7e10-4a01-a097-6ebbd1f6f6d6",
   "metadata": {},
   "outputs": [
    {
     "name": "stderr",
     "output_type": "stream",
     "text": [
      "                                                                                \r"
     ]
    }
   ],
   "source": [
    "shutil.rmtree(\"output/29_ORIGINAL_DATA\")\n",
    "write_avro(originalSentence, \"output/29_ORIGINAL_DATA\")"
   ]
  },
  {
   "cell_type": "markdown",
   "id": "3dbe308e-1630-4e9d-b5c7-95c75e19ac0e",
   "metadata": {},
   "source": [
    "### 30 Table normalization - TABLE 2 gram-table"
   ]
  },
  {
   "cell_type": "code",
   "execution_count": 54,
   "id": "60732b5e-1cbd-494c-9dca-8109b6848592",
   "metadata": {},
   "outputs": [
    {
     "data": {
      "text/plain": [
       "DataFrame[sentence_id: bigint, original: string, tag: array<string>, language: string, token: array<string>, chinese_tag: array<string>, language_pattern: array<string>, pos: int, token_gram: string, tag_gram: string, lang_gram: string, gram_type: string, containsKey: boolean, middle_key: boolean, lang_gram_f: bigint, token_gram_f: bigint, tag_gram_f: bigint]"
      ]
     },
     "execution_count": 54,
     "metadata": {},
     "output_type": "execute_result"
    }
   ],
   "source": [
    "df"
   ]
  },
  {
   "cell_type": "code",
   "execution_count": 55,
   "id": "bb22106b-6c5d-48fc-b93c-a2bb037dac47",
   "metadata": {},
   "outputs": [],
   "source": [
    "gram_table = df.select(\"sentence_id\", \"pos\", \"token_gram\", \"token_gram_f\", \"tag_gram\", \"tag_gram_f\", \"lang_gram\", \"lang_gram_f\", \"gram_type\", \"middle_key\", \"language\")"
   ]
  },
  {
   "cell_type": "code",
   "execution_count": 56,
   "id": "d04ca6ef-a170-41a0-81a2-534396cf5a2e",
   "metadata": {
    "tags": []
   },
   "outputs": [
    {
     "name": "stderr",
     "output_type": "stream",
     "text": [
      "[Stage 57:=====================================================>  (26 + 1) / 27]\r"
     ]
    },
    {
     "name": "stdout",
     "output_type": "stream",
     "text": [
      "+------------+---+--------------------+------------+--------------------+----------+--------------+-----------+---------+----------+--------+\n",
      "| sentence_id|pos|          token_gram|token_gram_f|            tag_gram|tag_gram_f|     lang_gram|lang_gram_f|gram_type|middle_key|language|\n",
      "+------------+---+--------------------+------------+--------------------+----------+--------------+-----------+---------+----------+--------+\n",
      "|120259128971|  8|         seller even|         914|            NOUN ADV|    149859|         en en|     503440|        2|     false| english|\n",
      "| 51539636494|  9|     seller post out|        2586|      NOUN VERB NOUN|     45130|      en en en|     405635|        3|     false| english|\n",
      "| 34359798809|  1|  seller baju selesa|          10|       NOUN NOUN ADJ|     37260|      en ms ms|     136178|        3|     false|   malay|\n",
      "|137438966217|  4|             nice to|        4784|             ADJ ADP|     31361|         en en|     503440|        2|     false| english|\n",
      "|111669202006|  1|cantik berat sy b...|           1|ADJ NOUN PRON ADV...|       249|ms ms ms ms ms|     251312|        5|     false|   malay|\n",
      "| 34359801949|  0|seller laju buat ...|           2|NOUN NOUN ADP NOU...|       696|en ms ms ms en|      20858|        5|     false|   malay|\n",
      "|111669204950|  8|    seller value for|         375|     PROPN PROPN ADP|      3074|      en en en|     405635|        3|     false| english|\n",
      "| 68719521468|  5|         seller wrap|        1677|         PROPN PROPN|    105101|         en en|     503440|        2|     false| english|\n",
      "|154618862895|  3|             好 我会|          37|            ADJ NOUN|     95241|         zh zh|      82208|        2|     false| chinese|\n",
      "|      104319|  3|    seller tq seller|        6567|     NOUN PROPN NOUN|     31644|      en en en|     405635|        3|     false| english|\n",
      "| 51539667160|  0|       nice material|        1279|          PROPN NOUN|     31089|         en en|     503440|        2|     false| english|\n",
      "| 17179932990|  4|murah beli time o...|           1|ADJ VERB ADP NOUN...|       260|ms ms en en ms|       9338|        5|     false|   malay|\n",
      "| 60129557010|  7|        seller price|         201|           NOUN NOUN|     92600|         en en|     503440|        2|     false|   malay|\n",
      "| 17179887622|  8|      murah beli kat|          79|        ADJ VERB ADP|     10702|      ms ms ms|     394027|        3|     false|   malay|\n",
      "| 77309430634|  1|  barang dah selamat|        4074|        NOUN ADV ADJ|     66224|      ms ms ms|     394027|        3|     false|   malay|\n",
      "|103079250015| 17|barang berfungsi ...|         892|       NOUN VERB ADP|    102154|      ms ms ms|     394027|        3|     false|   malay|\n",
      "| 85899400018|  8|  seller harap kedap|           2|      NOUN VERB VERB|      9932|      en ms ms|     136178|        3|     false|   malay|\n",
      "|171798702806|  1|             快 体型|           1|            ADJ NOUN|     95241|         zh zh|      82208|        2|     false| chinese|\n",
      "| 17179935656|  0|barang sampai dal...|       12611|NOUN VERB ADP NOU...|     24524|ms ms ms ms ms|     251312|        5|     false|   malay|\n",
      "| 34359753577|  1|          seller brg|        4632|           NOUN NOUN|     92600|         en en|     503440|        2|     false|   malay|\n",
      "+------------+---+--------------------+------------+--------------------+----------+--------------+-----------+---------+----------+--------+\n",
      "only showing top 20 rows\n",
      "\n"
     ]
    },
    {
     "name": "stderr",
     "output_type": "stream",
     "text": [
      "                                                                                \r"
     ]
    }
   ],
   "source": [
    "gram_table.show()"
   ]
  },
  {
   "cell_type": "code",
   "execution_count": 58,
   "id": "67f8a50a-76bf-4d57-9b9c-79e103f06796",
   "metadata": {},
   "outputs": [
    {
     "name": "stderr",
     "output_type": "stream",
     "text": [
      "                                                                                \r"
     ]
    }
   ],
   "source": [
    "shutil.rmtree(\"30_GRAM_TABLE\")\n",
    "write_avro(gram_table, \"30_GRAM_TABLE\")"
   ]
  }
 ],
 "metadata": {
  "kernelspec": {
   "display_name": "venv-spark",
   "language": "python",
   "name": "venv-spark"
  },
  "language_info": {
   "codemirror_mode": {
    "name": "ipython",
    "version": 3
   },
   "file_extension": ".py",
   "mimetype": "text/x-python",
   "name": "python",
   "nbconvert_exporter": "python",
   "pygments_lexer": "ipython3",
   "version": "3.9.13"
  }
 },
 "nbformat": 4,
 "nbformat_minor": 5
}
