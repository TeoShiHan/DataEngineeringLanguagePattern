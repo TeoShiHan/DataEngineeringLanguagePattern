{
 "cells": [
  {
   "cell_type": "code",
   "execution_count": 1,
   "id": "8afc0918-c65c-4885-a6b9-f7261db8797a",
   "metadata": {
    "collapsed": true,
    "jupyter": {
     "outputs_hidden": true
    },
    "tags": []
   },
   "outputs": [
    {
     "name": "stderr",
     "output_type": "stream",
     "text": [
      "Warning: Ignoring non-Spark config property: hive.metastore.uris\n"
     ]
    },
    {
     "name": "stdout",
     "output_type": "stream",
     "text": [
      ":: loading settings :: url = jar:file:/home/pc/TestJupyter/opt/spark-3.3.0/spark-3.3.0-bin-hadoop3/jars/ivy-2.5.0.jar!/org/apache/ivy/core/settings/ivysettings.xml\n"
     ]
    },
    {
     "name": "stderr",
     "output_type": "stream",
     "text": [
      "Ivy Default Cache set to: /home/pc/.ivy2/cache\n",
      "The jars for the packages stored in: /home/pc/.ivy2/jars\n",
      "org.apache.spark#spark-avro_2.12 added as a dependency\n",
      ":: resolving dependencies :: org.apache.spark#spark-submit-parent-fbfd8b6a-e881-4a27-b118-44c34037b68e;1.0\n",
      "\tconfs: [default]\n",
      "\tfound org.apache.spark#spark-avro_2.12;3.3.0 in central\n",
      "\tfound org.tukaani#xz;1.8 in central\n",
      "\tfound org.spark-project.spark#unused;1.0.0 in central\n",
      ":: resolution report :: resolve 138ms :: artifacts dl 4ms\n",
      "\t:: modules in use:\n",
      "\torg.apache.spark#spark-avro_2.12;3.3.0 from central in [default]\n",
      "\torg.spark-project.spark#unused;1.0.0 from central in [default]\n",
      "\torg.tukaani#xz;1.8 from central in [default]\n",
      "\t---------------------------------------------------------------------\n",
      "\t|                  |            modules            ||   artifacts   |\n",
      "\t|       conf       | number| search|dwnlded|evicted|| number|dwnlded|\n",
      "\t---------------------------------------------------------------------\n",
      "\t|      default     |   3   |   0   |   0   |   0   ||   3   |   0   |\n",
      "\t---------------------------------------------------------------------\n",
      ":: retrieving :: org.apache.spark#spark-submit-parent-fbfd8b6a-e881-4a27-b118-44c34037b68e\n",
      "\tconfs: [default]\n",
      "\t0 artifacts copied, 3 already retrieved (0kB/4ms)\n"
     ]
    },
    {
     "name": "stdout",
     "output_type": "stream",
     "text": [
      "22/10/06 09:23:13 WARN NativeCodeLoader: Unable to load native-hadoop library for your platform... using builtin-java classes where applicable\n"
     ]
    },
    {
     "name": "stderr",
     "output_type": "stream",
     "text": [
      "Setting default log level to \"WARN\".\n",
      "To adjust logging level use sc.setLogLevel(newLevel). For SparkR, use setLogLevel(newLevel).\n"
     ]
    },
    {
     "name": "stdout",
     "output_type": "stream",
     "text": [
      "22/10/06 09:23:13 WARN Utils: Service 'SparkUI' could not bind on port 4040. Attempting port 4041.\n",
      "22/10/06 09:23:13 WARN Utils: Service 'SparkUI' could not bind on port 4041. Attempting port 4042.\n",
      "22/10/06 09:23:13 WARN Utils: Service 'SparkUI' could not bind on port 4042. Attempting port 4043.\n",
      "22/10/06 09:23:13 WARN Utils: Service 'SparkUI' could not bind on port 4043. Attempting port 4044.\n",
      "22/10/06 09:23:13 WARN Utils: Service 'SparkUI' could not bind on port 4044. Attempting port 4045.\n",
      "22/10/06 09:23:13 WARN Utils: Service 'SparkUI' could not bind on port 4045. Attempting port 4046.\n",
      "22/10/06 09:23:13 WARN Utils: Service 'SparkUI' could not bind on port 4046. Attempting port 4047.\n",
      "22/10/06 09:23:13 WARN Utils: Service 'SparkUI' could not bind on port 4047. Attempting port 4048.\n",
      "22/10/06 09:23:13 WARN Utils: Service 'SparkUI' could not bind on port 4048. Attempting port 4049.\n"
     ]
    }
   ],
   "source": [
    "import os\n",
    "\n",
    "import findspark\n",
    "findspark.init(\"/home/pc/TestJupyter/opt/spark-3.3.0/spark-3.3.0-bin-hadoop3\")\n",
    "import pyspark\n",
    "from pyspark.context import SparkContext\n",
    "from pyspark.sql import HiveContext\n",
    "from pyspark.sql import SparkSession\n",
    "from pyspark.sql import Row\n",
    "\n",
    "\n",
    "# warehouse_location points to the default location for managed databases and tables\n",
    "os.environ[\"PYSPARK_PYTHON\"]=\"/home/pc/TestJupyter/opt/spark-3.3.0/venv-spark/bin/python39\"\n",
    "os.environ['PYSPARK_SUBMIT_ARGS'] = '--packages org.apache.spark:spark-avro_2.12:3.3.0  pyspark-shell'\n",
    "\n",
    "spark = SparkSession \\\n",
    "    .builder \\\n",
    "    .appName(\"Python Spark SQL Hive integration example\") \\\n",
    "    .config(\"spark.driver.memory\", \"60g\")\\\n",
    "    .config(\"spark.sql.warehouse.dir\", \"hdfs://10.123.51.78:8000/user/hive/warehouse\") \\\n",
    "    .config(\"spark.sql.catalogImplementation\", \"hive\")\\\n",
    "    .config(\"hive.metastore.uris\", \"thrift://g2.bigtop.it:9083\")\\\n",
    "    .enableHiveSupport() \\\n",
    "    .getOrCreate()"
   ]
  },
  {
   "cell_type": "code",
   "execution_count": 2,
   "id": "c94b1f98-5b20-4c74-b819-e250d21331e5",
   "metadata": {},
   "outputs": [],
   "source": [
    "def q(query):\n",
    "    return spark.sql(query)"
   ]
  },
  {
   "cell_type": "code",
   "execution_count": 3,
   "id": "a604902f-30fc-4c78-b020-5b07bbbe3eba",
   "metadata": {},
   "outputs": [
    {
     "data": {
      "text/plain": [
       "DataFrame[]"
      ]
     },
     "execution_count": 3,
     "metadata": {},
     "output_type": "execute_result"
    }
   ],
   "source": [
    "q(\"use social_media;\")"
   ]
  },
  {
   "cell_type": "code",
   "execution_count": 5,
   "id": "1171bc34-642f-4f9a-9cbd-375ce1dd3b46",
   "metadata": {},
   "outputs": [
    {
     "name": "stdout",
     "output_type": "stream",
     "text": [
      "+------------+-----------+-----------+\n",
      "|   namespace|  tableName|isTemporary|\n",
      "+------------+-----------+-----------+\n",
      "|social_media| gram_table|      false|\n",
      "|social_media|source_data|      false|\n",
      "+------------+-----------+-----------+\n",
      "\n"
     ]
    }
   ],
   "source": [
    "q(\"show tables;\").show()"
   ]
  },
  {
   "cell_type": "markdown",
   "id": "f2c00d64-dfee-4bf4-8228-ced47136151b",
   "metadata": {},
   "source": [
    "### Q1 : Showing top 10 langgram for a keyword at middle"
   ]
  },
  {
   "cell_type": "code",
   "execution_count": 6,
   "id": "18f06d19-45e2-4805-bf2f-e5b4d2cb314a",
   "metadata": {},
   "outputs": [
    {
     "name": "stdout",
     "output_type": "stream",
     "text": [
      "+----------------+-------------+-------+\n",
      "|        col_name|    data_type|comment|\n",
      "+----------------+-------------+-------+\n",
      "|     sentence_id|       bigint|   null|\n",
      "|        original|       string|   null|\n",
      "|             tag|array<string>|   null|\n",
      "|        language|       string|   null|\n",
      "|           token|array<string>|   null|\n",
      "|      normal_tag|array<string>|   null|\n",
      "|language_pattern|array<string>|   null|\n",
      "|             pos|          int|   null|\n",
      "|      token_gram|       string|   null|\n",
      "|        tag_gram|       string|   null|\n",
      "|       lang_gram|       string|   null|\n",
      "|       gram_type|       string|   null|\n",
      "|     containsKey|      boolean|   null|\n",
      "|      middle_key|      boolean|   null|\n",
      "|     lang_gram_f|       bigint|   null|\n",
      "|    token_gram_f|       bigint|   null|\n",
      "|      tag_gram_f|       bigint|   null|\n",
      "|       unique_id|       bigint|   null|\n",
      "+----------------+-------------+-------+\n",
      "\n"
     ]
    }
   ],
   "source": [
    "q(\"desc gram_table;\").show()"
   ]
  },
  {
   "cell_type": "code",
   "execution_count": 5,
   "id": "6919d46f-1d00-4417-a98d-02c20421e01e",
   "metadata": {},
   "outputs": [
    {
     "name": "stderr",
     "output_type": "stream",
     "text": [
      "IOPub data rate exceeded.                                                       \n",
      "The Jupyter server will temporarily stop sending output\n",
      "to the client in order to avoid crashing it.\n",
      "To change this limit, set the config variable\n",
      "`--ServerApp.iopub_data_rate_limit`.\n",
      "\n",
      "Current values:\n",
      "ServerApp.iopub_data_rate_limit=1000000.0 (bytes/sec)\n",
      "ServerApp.rate_limit_window=3.0 (secs)\n",
      "\n"
     ]
    }
   ],
   "source": [
    "Q = \"\"\"\n",
    "with token_lang_gram as(\n",
    "    select\n",
    "        token_gram,\n",
    "        lang_gram\n",
    "    from\n",
    "        gram_table\n",
    ")\n",
    "\n",
    "\n",
    "select \n",
    "     distinct lang_gram, \n",
    "     lang_gram_f,\n",
    "     concat_ws(',',collect_list(token_gram)) as examples\n",
    "from \n",
    "    gram_table\n",
    "group by\n",
    "    lang_gram, \n",
    "    lang_gram_f\n",
    "order by \n",
    "    lang_gram_f desc;\n",
    "\"\"\"\n",
    "\n",
    "q(Q).show(5, False)"
   ]
  },
  {
   "cell_type": "code",
   "execution_count": 10,
   "id": "accb7056-6fef-4740-9543-acf0abf7fff9",
   "metadata": {},
   "outputs": [
    {
     "name": "stderr",
     "output_type": "stream",
     "text": [
      "[Stage 6:==========================================>              (20 + 7) / 27]\r"
     ]
    },
    {
     "name": "stdout",
     "output_type": "stream",
     "text": [
      "+------------+---------+--------------+----+\n",
      "| sentence_id|lang_gram|    token_gram|rank|\n",
      "+------------+---------+--------------+----+\n",
      "| 94489287304|    en en|recommend this|   1|\n",
      "| 94489283184|    en en| seller thanks|   2|\n",
      "|111669198849|    en en|   seller went|   3|\n",
      "| 77309443572|    en en| seller thanks|   4|\n",
      "| 94489310135|    en en| seller thanks|   5|\n",
      "| 60129559757|    en en|    seller nie|   6|\n",
      "|137438973611|    en en|   seller when|   7|\n",
      "|128849073636|    en en|      nice but|   8|\n",
      "|128849041037|    en en|      nice but|   9|\n",
      "| 60129604736|    en en| seller really|  10|\n",
      "|128849078850|    en en| seller really|  11|\n",
      "|111669155449|    en en| nice wrapping|  12|\n",
      "| 60129605393|    en en|recommend this|  13|\n",
      "|128849080684|    en en|  recommend it|  14|\n",
      "|111669209220|    en en| seller thanks|  15|\n",
      "| 77309458724|    en en|    seller ape|  16|\n",
      "|111669174733|    en en|      nice but|  17|\n",
      "|  8589989919|    en en|    seller nie|  18|\n",
      "|137439009605|    en en| seller thanks|  19|\n",
      "| 51539673802|    en en| seller really|  20|\n",
      "+------------+---------+--------------+----+\n",
      "only showing top 20 rows\n",
      "\n"
     ]
    },
    {
     "name": "stderr",
     "output_type": "stream",
     "text": [
      "                                                                                \r"
     ]
    }
   ],
   "source": [
    "Q=\"\"\"\n",
    "select \n",
    "    sentence_id,\n",
    "    lang_gram,\n",
    "    sum(lang_gram_f)\n",
    "    rank() over (partition by lang_gram order by unique_id desc) as rank\n",
    "from\n",
    "    gram_table;\n",
    "\"\"\"\n",
    "\n",
    "q(Q).show()"
   ]
  },
  {
   "cell_type": "code",
   "execution_count": 59,
   "id": "7fdbee64-fe98-4c9b-bc1f-783c5fe97846",
   "metadata": {},
   "outputs": [
    {
     "name": "stdout",
     "output_type": "stream",
     "text": [
      "+--------------+-----------+\n",
      "|     lang_gram|lang_gram_f|\n",
      "+--------------+-----------+\n",
      "|      en en en|     811270|\n",
      "|      ms ms ms|     788054|\n",
      "|         en en|     503440|\n",
      "|         ms ms|     486008|\n",
      "|      en ms ms|     272356|\n",
      "|en en en en en|     268461|\n",
      "|ms ms ms ms ms|     251312|\n",
      "|         en ms|     237903|\n",
      "|      en ms en|     161386|\n",
      "|      zh zh zh|     149488|\n",
      "|      ms ms en|     149118|\n",
      "|      en en ms|     135546|\n",
      "|      ms en ms|     121700|\n",
      "|         ms en|      95832|\n",
      "|         zh zh|      82208|\n",
      "|en ms ms ms ms|      61438|\n",
      "|      ms en en|      59776|\n",
      "|zh zh zh zh zh|      59674|\n",
      "|ms ms ms ms en|      44840|\n",
      "|ms ms en ms ms|      34661|\n",
      "+--------------+-----------+\n",
      "only showing top 20 rows\n",
      "\n"
     ]
    },
    {
     "name": "stderr",
     "output_type": "stream",
     "text": [
      "                                                                                \r"
     ]
    }
   ],
   "source": [
    "Q=\"\"\"\n",
    "select\n",
    "    distinct lang_gram,\n",
    "    lang_gram_f\n",
    "from\n",
    "    gram_table\n",
    "order by\n",
    "    lang_gram_f DESC;\n",
    "\"\"\"\n",
    "\n",
    "q(Q).show()"
   ]
  },
  {
   "cell_type": "code",
   "execution_count": 48,
   "id": "08172170-6fc0-455a-ae45-9a23322b6623",
   "metadata": {},
   "outputs": [
    {
     "data": {
      "text/html": [
       "<div>\n",
       "<style scoped>\n",
       "    .dataframe tbody tr th:only-of-type {\n",
       "        vertical-align: middle;\n",
       "    }\n",
       "\n",
       "    .dataframe tbody tr th {\n",
       "        vertical-align: top;\n",
       "    }\n",
       "\n",
       "    .dataframe thead th {\n",
       "        text-align: right;\n",
       "    }\n",
       "</style>\n",
       "<table border=\"1\" class=\"dataframe\">\n",
       "  <thead>\n",
       "    <tr style=\"text-align: right;\">\n",
       "      <th></th>\n",
       "      <th>lang_gram</th>\n",
       "      <th>lang_gram_f</th>\n",
       "    </tr>\n",
       "  </thead>\n",
       "  <tbody>\n",
       "    <tr>\n",
       "      <th>0</th>\n",
       "      <td>en en en</td>\n",
       "      <td>811270</td>\n",
       "    </tr>\n",
       "    <tr>\n",
       "      <th>1</th>\n",
       "      <td>ms ms ms</td>\n",
       "      <td>788054</td>\n",
       "    </tr>\n",
       "    <tr>\n",
       "      <th>2</th>\n",
       "      <td>en en</td>\n",
       "      <td>503440</td>\n",
       "    </tr>\n",
       "    <tr>\n",
       "      <th>3</th>\n",
       "      <td>ms ms</td>\n",
       "      <td>486008</td>\n",
       "    </tr>\n",
       "    <tr>\n",
       "      <th>4</th>\n",
       "      <td>en ms ms</td>\n",
       "      <td>272356</td>\n",
       "    </tr>\n",
       "    <tr>\n",
       "      <th>...</th>\n",
       "      <td>...</td>\n",
       "      <td>...</td>\n",
       "    </tr>\n",
       "    <tr>\n",
       "      <th>237</th>\n",
       "      <td>zh zh oov zh ms</td>\n",
       "      <td>1</td>\n",
       "    </tr>\n",
       "    <tr>\n",
       "      <th>238</th>\n",
       "      <td>zh en en ms en</td>\n",
       "      <td>1</td>\n",
       "    </tr>\n",
       "    <tr>\n",
       "      <th>239</th>\n",
       "      <td>ms en en en zh</td>\n",
       "      <td>1</td>\n",
       "    </tr>\n",
       "    <tr>\n",
       "      <th>240</th>\n",
       "      <td>en zh en zh ms</td>\n",
       "      <td>1</td>\n",
       "    </tr>\n",
       "    <tr>\n",
       "      <th>241</th>\n",
       "      <td>zh en en zh ms</td>\n",
       "      <td>1</td>\n",
       "    </tr>\n",
       "  </tbody>\n",
       "</table>\n",
       "<p>242 rows × 2 columns</p>\n",
       "</div>"
      ],
      "text/plain": [
       "           lang_gram  lang_gram_f\n",
       "0           en en en       811270\n",
       "1           ms ms ms       788054\n",
       "2              en en       503440\n",
       "3              ms ms       486008\n",
       "4           en ms ms       272356\n",
       "..               ...          ...\n",
       "237  zh zh oov zh ms            1\n",
       "238   zh en en ms en            1\n",
       "239   ms en en en zh            1\n",
       "240   en zh en zh ms            1\n",
       "241   zh en en zh ms            1\n",
       "\n",
       "[242 rows x 2 columns]"
      ]
     },
     "execution_count": 48,
     "metadata": {},
     "output_type": "execute_result"
    }
   ],
   "source": [
    "SMLang = q(Q).toPandas()\n",
    "SMLang"
   ]
  },
  {
   "cell_type": "code",
   "execution_count": 75,
   "id": "abad191b-9a0f-4e7c-b8fe-f3466085652a",
   "metadata": {},
   "outputs": [
    {
     "data": {
      "image/png": "[encoded data removed]",
      "text/plain": [
       "<Figure size 1500x500 with 1 Axes>"
      ]
     },
     "metadata": {},
     "output_type": "display_data"
    }
   ],
   "source": [
    "Q=\"\"\"\n",
    "select\n",
    "    distinct lang_gram,\n",
    "    lang_gram_f\n",
    "from\n",
    "    gram_table\n",
    "order by\n",
    "    lang_gram_f DESC limit 10;\n",
    "\"\"\"\n",
    "\n",
    "SMLang = q(Q).toPandas()\n",
    "\n",
    "fig, ax = plt.subplots(1,1,figsize=(15,5))\n",
    "\n",
    "x = SMLang['lang_gram'][:10].tolist()\n",
    "y = SMLang['lang_gram_f'][:10].tolist()\n",
    "ax.barh(x,y)\n",
    "ax.set_title('Top 10 Most Common Language Patterns in Social Media Data')\n",
    "for index, value in enumerate(y):\n",
    "    ax.text(value, index,\n",
    "             str(value))\n",
    "ax.invert_yaxis()\n",
    "\n",
    "plt.show()"
   ]
  },
  {
   "cell_type": "code",
   "execution_count": 76,
   "id": "8359ccf8-e37e-485c-bb9d-19fd38d0b027",
   "metadata": {},
   "outputs": [
    {
     "name": "stderr",
     "output_type": "stream",
     "text": [
      "[Stage 218:==============================================>        (23 + 4) / 27]\r"
     ]
    },
    {
     "name": "stdout",
     "output_type": "stream",
     "text": [
      "+-----------------+----------+\n",
      "|         tag_gram|tag_gram_f|\n",
      "+-----------------+----------+\n",
      "|    NOUN ADV VERB|    179518|\n",
      "|         NOUN ADV|    149859|\n",
      "|PROPN PROPN PROPN|    131744|\n",
      "|         NOUN ADJ|    119569|\n",
      "|        NOUN VERB|    118346|\n",
      "|      PROPN PROPN|    105101|\n",
      "|    NOUN VERB ADP|    102154|\n",
      "|         ADJ NOUN|     95241|\n",
      "|         NOUN ADP|     94685|\n",
      "|        NOUN NOUN|     92600|\n",
      "|     NOUN ADV ADJ|     66224|\n",
      "|    NOUN ADJ NOUN|     64164|\n",
      "|          ADJ ADV|     58693|\n",
      "|     NOUN ADP ADP|     50310|\n",
      "|        ADJ CCONJ|     50010|\n",
      "|          ADJ ADJ|     49412|\n",
      "|    NOUN ADP NOUN|     49214|\n",
      "|    ADJ NOUN NOUN|     47866|\n",
      "|         NOUN DET|     47393|\n",
      "|     ADJ NOUN ADJ|     46454|\n",
      "+-----------------+----------+\n",
      "only showing top 20 rows\n",
      "\n"
     ]
    },
    {
     "name": "stderr",
     "output_type": "stream",
     "text": [
      "                                                                                \r"
     ]
    }
   ],
   "source": [
    "Q=\"\"\"\n",
    "select\n",
    "    distinct tag_gram,\n",
    "    tag_gram_f\n",
    "from\n",
    "    gram_table\n",
    "order by\n",
    "    tag_gram_f DESC;\n",
    "\"\"\"\n",
    "\n",
    "q(Q).show()"
   ]
  },
  {
   "cell_type": "code",
   "execution_count": 77,
   "id": "0f1df27a-547d-4734-a89e-fd6f7ea31165",
   "metadata": {},
   "outputs": [
    {
     "name": "stderr",
     "output_type": "stream",
     "text": [
      "                                                                                \r"
     ]
    },
    {
     "data": {
      "text/html": [
       "<div>\n",
       "<style scoped>\n",
       "    .dataframe tbody tr th:only-of-type {\n",
       "        vertical-align: middle;\n",
       "    }\n",
       "\n",
       "    .dataframe tbody tr th {\n",
       "        vertical-align: top;\n",
       "    }\n",
       "\n",
       "    .dataframe thead th {\n",
       "        text-align: right;\n",
       "    }\n",
       "</style>\n",
       "<table border=\"1\" class=\"dataframe\">\n",
       "  <thead>\n",
       "    <tr style=\"text-align: right;\">\n",
       "      <th></th>\n",
       "      <th>tag_gram</th>\n",
       "      <th>tag_gram_f</th>\n",
       "    </tr>\n",
       "  </thead>\n",
       "  <tbody>\n",
       "    <tr>\n",
       "      <th>0</th>\n",
       "      <td>NOUN ADV VERB</td>\n",
       "      <td>179518</td>\n",
       "    </tr>\n",
       "    <tr>\n",
       "      <th>1</th>\n",
       "      <td>NOUN ADV</td>\n",
       "      <td>149859</td>\n",
       "    </tr>\n",
       "    <tr>\n",
       "      <th>2</th>\n",
       "      <td>PROPN PROPN PROPN</td>\n",
       "      <td>131744</td>\n",
       "    </tr>\n",
       "    <tr>\n",
       "      <th>3</th>\n",
       "      <td>NOUN ADJ</td>\n",
       "      <td>119569</td>\n",
       "    </tr>\n",
       "    <tr>\n",
       "      <th>4</th>\n",
       "      <td>NOUN VERB</td>\n",
       "      <td>118346</td>\n",
       "    </tr>\n",
       "    <tr>\n",
       "      <th>...</th>\n",
       "      <td>...</td>\n",
       "      <td>...</td>\n",
       "    </tr>\n",
       "    <tr>\n",
       "      <th>45933</th>\n",
       "      <td>eng eng eng eng c</td>\n",
       "      <td>1</td>\n",
       "    </tr>\n",
       "    <tr>\n",
       "      <th>45934</th>\n",
       "      <td>v v ns c n</td>\n",
       "      <td>1</td>\n",
       "    </tr>\n",
       "    <tr>\n",
       "      <th>45935</th>\n",
       "      <td>NOUN PUNCT DET NOUN VERB</td>\n",
       "      <td>1</td>\n",
       "    </tr>\n",
       "    <tr>\n",
       "      <th>45936</th>\n",
       "      <td>v d v d m</td>\n",
       "      <td>1</td>\n",
       "    </tr>\n",
       "    <tr>\n",
       "      <th>45937</th>\n",
       "      <td>v v d an ad</td>\n",
       "      <td>1</td>\n",
       "    </tr>\n",
       "  </tbody>\n",
       "</table>\n",
       "<p>45938 rows × 2 columns</p>\n",
       "</div>"
      ],
      "text/plain": [
       "                       tag_gram  tag_gram_f\n",
       "0                 NOUN ADV VERB      179518\n",
       "1                      NOUN ADV      149859\n",
       "2             PROPN PROPN PROPN      131744\n",
       "3                      NOUN ADJ      119569\n",
       "4                     NOUN VERB      118346\n",
       "...                         ...         ...\n",
       "45933         eng eng eng eng c           1\n",
       "45934                v v ns c n           1\n",
       "45935  NOUN PUNCT DET NOUN VERB           1\n",
       "45936                 v d v d m           1\n",
       "45937               v v d an ad           1\n",
       "\n",
       "[45938 rows x 2 columns]"
      ]
     },
     "execution_count": 77,
     "metadata": {},
     "output_type": "execute_result"
    }
   ],
   "source": [
    "SMPos = q(Q).toPandas()\n",
    "SMPos"
   ]
  },
  {
   "cell_type": "code",
   "execution_count": 78,
   "id": "45468701-ac3c-476b-a6bc-a7a62e8b12dd",
   "metadata": {},
   "outputs": [
    {
     "data": {
      "image/png": "[encoded data removed]",
      "text/plain": [
       "<Figure size 1500x500 with 1 Axes>"
      ]
     },
     "metadata": {},
     "output_type": "display_data"
    }
   ],
   "source": [
    "fig, ax = plt.subplots(1,1,figsize=(15,5))\n",
    "\n",
    "x = SMPos['tag_gram'][:10].tolist()\n",
    "y = SMPos['tag_gram_f'][:10].tolist()\n",
    "ax.barh(x,y)\n",
    "ax.set_title('Top 10 Most Common POS Patterns in Social Media Data')\n",
    "for index, value in enumerate(y):\n",
    "    ax.text(value, index,\n",
    "             str(value))\n",
    "ax.invert_yaxis()\n",
    "\n",
    "plt.show()"
   ]
  },
  {
   "cell_type": "code",
   "execution_count": 45,
   "id": "5af1420a-e81e-446b-9895-fb9aee9aa919",
   "metadata": {},
   "outputs": [
    {
     "data": {
      "text/plain": [
       "DataFrame[]"
      ]
     },
     "execution_count": 45,
     "metadata": {},
     "output_type": "execute_result"
    }
   ],
   "source": [
    "q(\"use social_media;\")\n",
    "\n",
    "q(\n",
    "\"\"\"\n",
    "create or replace view lang_gram_ranking as\n",
    "    select \n",
    "        sentence_id,\n",
    "        lang_gram,\n",
    "        token_gram,\n",
    "        rank() over (partition by lang_gram order by unique_id desc) as rank\n",
    "    from\n",
    "        gram_table\n",
    "    where\n",
    "        token_gram rlike '.*([^a-z]seller[^a-z]).*';\n",
    "\"\"\"\n",
    ")\n",
    "\n",
    "q(\n",
    "\"\"\"\n",
    "create or replace view lang_gram_ranking_small as\n",
    "    select \n",
    "        *\n",
    "    from\n",
    "        lang_gram_ranking\n",
    "    where rank < 6;\n",
    "\"\"\"\n",
    ")\n"
   ]
  },
  {
   "cell_type": "code",
   "execution_count": 7,
   "id": "924c9732-6324-4a8b-a95b-2b14f3ef0de4",
   "metadata": {},
   "outputs": [
    {
     "name": "stderr",
     "output_type": "stream",
     "text": [
      "[Stage 12:=============================================>          (22 + 5) / 27]\r"
     ]
    },
    {
     "name": "stdout",
     "output_type": "stream",
     "text": [
      "+------------+---------+--------------+----+\n",
      "| sentence_id|lang_gram|    token_gram|rank|\n",
      "+------------+---------+--------------+----+\n",
      "| 94489287304|    en en|recommend this|   1|\n",
      "| 94489283184|    en en| seller thanks|   2|\n",
      "|111669198849|    en en|   seller went|   3|\n",
      "| 77309443572|    en en| seller thanks|   4|\n",
      "| 94489310135|    en en| seller thanks|   5|\n",
      "| 60129559757|    en en|    seller nie|   6|\n",
      "|137438973611|    en en|   seller when|   7|\n",
      "|128849073636|    en en|      nice but|   8|\n",
      "|128849041037|    en en|      nice but|   9|\n",
      "| 60129604736|    en en| seller really|  10|\n",
      "+------------+---------+--------------+----+\n",
      "\n"
     ]
    },
    {
     "name": "stderr",
     "output_type": "stream",
     "text": [
      "                                                                                \r"
     ]
    }
   ],
   "source": [
    "q(\"select * from lang_gram_ranking limit 10\").show()"
   ]
  },
  {
   "cell_type": "code",
   "execution_count": 9,
   "id": "63266d6d-2130-4d58-a07c-4c588300dada",
   "metadata": {},
   "outputs": [
    {
     "ename": "SyntaxError",
     "evalue": "invalid syntax (1513859444.py, line 1)",
     "output_type": "error",
     "traceback": [
      "\u001b[0;36m  Input \u001b[0;32mIn [9]\u001b[0;36m\u001b[0m\n\u001b[0;31m    jupyter notebook --NotebookApp.iopub_data_rate_limit=10000000\u001b[0m\n\u001b[0m            ^\u001b[0m\n\u001b[0;31mSyntaxError\u001b[0m\u001b[0;31m:\u001b[0m invalid syntax\n"
     ]
    }
   ],
   "source": []
  },
  {
   "cell_type": "code",
   "execution_count": 85,
   "id": "98332183-15d9-4377-8c6b-1112e79273cb",
   "metadata": {},
   "outputs": [
    {
     "name": "stderr",
     "output_type": "stream",
     "text": [
      "[Stage 782:====================================================>  (26 + 1) / 27]\r"
     ]
    },
    {
     "name": "stdout",
     "output_type": "stream",
     "text": [
      "+---------+-----------+------------------------------------+\n",
      "|lang_gram|lang_gram_f|collect_set(token_gram)             |\n",
      "+---------+-----------+------------------------------------+\n",
      "|zh zh zh |149488     |[好 好 产品, 包装 好 货物, 好 好 好]|\n",
      "+---------+-----------+------------------------------------+\n",
      "\n"
     ]
    },
    {
     "name": "stderr",
     "output_type": "stream",
     "text": [
      "                                                                                \r"
     ]
    }
   ],
   "source": [
    "get_top_1_lang_gram_with_key_word(\"好\").show(10, False)"
   ]
  },
  {
   "cell_type": "code",
   "execution_count": 84,
   "id": "5818d16b-cedd-4e90-8001-72e5b4b6e849",
   "metadata": {
    "tags": []
   },
   "outputs": [],
   "source": [
    "from functools import reduce\n",
    "from pyspark.sql import DataFrame\n",
    "\n",
    "def unionAll(*dfs):\n",
    "    return reduce(DataFrame.unionAll, dfs)\n",
    "\n",
    "def get_top_1_lang_gram_with_key_word(key):\n",
    "    q(\n",
    "    f\"\"\"\n",
    "    create or replace view lang_gram_ranking as\n",
    "        select \n",
    "            sentence_id,\n",
    "            lang_gram,\n",
    "            token_gram,\n",
    "            rank() over (partition by lang_gram order by unique_id desc) as rank\n",
    "        from\n",
    "            gram_table\n",
    "        where\n",
    "            token_gram rlike '.*( {key} ).*';\n",
    "    \"\"\"\n",
    "    )\n",
    "\n",
    "    q(\n",
    "    \"\"\"\n",
    "    create or replace view lang_gram_ranking_small as\n",
    "        select \n",
    "            *\n",
    "        from\n",
    "            lang_gram_ranking\n",
    "        where rank < 6;\n",
    "    \"\"\"\n",
    "    )\n",
    "\n",
    "\n",
    "    return q(\n",
    "    f\"\"\"\n",
    "    select * from(\n",
    "        select\n",
    "            distinct\n",
    "            lang_gram, \n",
    "            lang_gram_f,\n",
    "            collect_set(r.token_gram)\n",
    "        from\n",
    "            gram_table g\n",
    "        join\n",
    "            lang_gram_ranking_small r using(lang_gram)\n",
    "        where\n",
    "            g.token_gram rlike '.*( {key} ).*'\n",
    "        group by\n",
    "            lang_gram, \n",
    "            lang_gram_f\n",
    "        order by\n",
    "            lang_gram_f desc\n",
    "        limit 1)\n",
    "        \"\"\"\n",
    "    )\n",
    "\n",
    "\n",
    "def get_top_1_lang_gram_by_keys(keys):\n",
    "    l = []\n",
    "    for i in keys:\n",
    "        l.append(get_top_1_lang_gram_with_key_word(i))\n",
    "\n",
    "    return unionAll(*l)\n",
    "\n",
    "keys = [\"seller\",\"recommend\",\"nice\",\"好\",\"赞\",\"不错\",\"快\",\"喜欢\",\"谢\",\"值\",\"包装\",\"卖家\",\"berbaloi\",\"barang\",\"cantik\",\"murah\"]\n",
    "        \n",
    "# get_top_1_lang_gram_by_keys(keys).show(100, False)"
   ]
  },
  {
   "cell_type": "code",
   "execution_count": 29,
   "id": "633745ff-dd30-403a-9472-0dc02072c8a7",
   "metadata": {},
   "outputs": [
    {
     "name": "stderr",
     "output_type": "stream",
     "text": [
      "                                                                                \r"
     ]
    }
   ],
   "source": [
    "pd = get_top_1_lang_gram_by_keys(keys).toPandas()"
   ]
  },
  {
   "cell_type": "code",
   "execution_count": 30,
   "id": "145a34cc-8998-46e7-9ffa-37e61ed45150",
   "metadata": {},
   "outputs": [
    {
     "data": {
      "text/html": [
       "<div>\n",
       "<style scoped>\n",
       "    .dataframe tbody tr th:only-of-type {\n",
       "        vertical-align: middle;\n",
       "    }\n",
       "\n",
       "    .dataframe tbody tr th {\n",
       "        vertical-align: top;\n",
       "    }\n",
       "\n",
       "    .dataframe thead th {\n",
       "        text-align: right;\n",
       "    }\n",
       "</style>\n",
       "<table border=\"1\" class=\"dataframe\">\n",
       "  <thead>\n",
       "    <tr style=\"text-align: right;\">\n",
       "      <th></th>\n",
       "      <th>lang_gram</th>\n",
       "      <th>lang_gram_f</th>\n",
       "      <th>collect_set(token_gram)</th>\n",
       "    </tr>\n",
       "  </thead>\n",
       "  <tbody>\n",
       "    <tr>\n",
       "      <th>0</th>\n",
       "      <td>en en en</td>\n",
       "      <td>811270</td>\n",
       "      <td>[nice seller great, seller seller is, recommen...</td>\n",
       "    </tr>\n",
       "    <tr>\n",
       "      <th>1</th>\n",
       "      <td>en en en</td>\n",
       "      <td>811270</td>\n",
       "      <td>[seller recommend hanger, seller recommend wil...</td>\n",
       "    </tr>\n",
       "    <tr>\n",
       "      <th>2</th>\n",
       "      <td>en en en</td>\n",
       "      <td>811270</td>\n",
       "      <td>[recommend nice packaging, nice nice niceeeeee...</td>\n",
       "    </tr>\n",
       "    <tr>\n",
       "      <th>3</th>\n",
       "      <td>zh zh zh</td>\n",
       "      <td>149488</td>\n",
       "      <td>[好 好 产品, 包装 好 货物, 好 好 好]</td>\n",
       "    </tr>\n",
       "    <tr>\n",
       "      <th>4</th>\n",
       "      <td>zh zh zh</td>\n",
       "      <td>149488</td>\n",
       "      <td>[赞 赞 便宜, 赞 赞 赞]</td>\n",
       "    </tr>\n",
       "    <tr>\n",
       "      <th>5</th>\n",
       "      <td>zh zh zh</td>\n",
       "      <td>149488</td>\n",
       "      <td>[不错 不错 质量, 好 不错 可以, 包装 不错 很, 不错 不错 终于]</td>\n",
       "    </tr>\n",
       "    <tr>\n",
       "      <th>6</th>\n",
       "      <td>zh zh zh</td>\n",
       "      <td>149488</td>\n",
       "      <td>[好 快 噢, 好 快 快递, 好 快 就, 好 快 单击, 好 快 送到]</td>\n",
       "    </tr>\n",
       "    <tr>\n",
       "      <th>7</th>\n",
       "      <td>zh zh zh</td>\n",
       "      <td>149488</td>\n",
       "      <td>[好 喜欢 商家, 好 喜欢 这, 好 喜欢 你, 好 喜欢 也]</td>\n",
       "    </tr>\n",
       "    <tr>\n",
       "      <th>8</th>\n",
       "      <td>zh zh zh</td>\n",
       "      <td>149488</td>\n",
       "      <td>[快 谢 了, 喜欢 谢 有]</td>\n",
       "    </tr>\n",
       "    <tr>\n",
       "      <th>9</th>\n",
       "      <td>zh zh zh</td>\n",
       "      <td>149488</td>\n",
       "      <td>[好 值 的, 好 值 这个, 好 值 了, 喜欢 值 了]</td>\n",
       "    </tr>\n",
       "    <tr>\n",
       "      <th>10</th>\n",
       "      <td>zh zh zh</td>\n",
       "      <td>149488</td>\n",
       "      <td>[好 包装 好, 快 包装 完好]</td>\n",
       "    </tr>\n",
       "    <tr>\n",
       "      <th>11</th>\n",
       "      <td>zh zh zh</td>\n",
       "      <td>149488</td>\n",
       "      <td>[好 卖家 真, 好 卖家 出货, 好 卖家 赞]</td>\n",
       "    </tr>\n",
       "    <tr>\n",
       "      <th>12</th>\n",
       "      <td>ms ms ms</td>\n",
       "      <td>788054</td>\n",
       "      <td>[murah berbaloi beli, murah berbaloi buleh]</td>\n",
       "    </tr>\n",
       "    <tr>\n",
       "      <th>13</th>\n",
       "      <td>ms ms ms</td>\n",
       "      <td>788054</td>\n",
       "      <td>[barang barang dah, barang barang cepat, baran...</td>\n",
       "    </tr>\n",
       "    <tr>\n",
       "      <th>14</th>\n",
       "      <td>ms ms ms</td>\n",
       "      <td>788054</td>\n",
       "      <td>[cantik cantik beli, cantik cantik bajunya, ca...</td>\n",
       "    </tr>\n",
       "    <tr>\n",
       "      <th>15</th>\n",
       "      <td>ms ms ms</td>\n",
       "      <td>788054</td>\n",
       "      <td>[barang murah n, cantik murah selesa, murah mu...</td>\n",
       "    </tr>\n",
       "  </tbody>\n",
       "</table>\n",
       "</div>"
      ],
      "text/plain": [
       "   lang_gram  lang_gram_f                            collect_set(token_gram)\n",
       "0   en en en       811270  [nice seller great, seller seller is, recommen...\n",
       "1   en en en       811270  [seller recommend hanger, seller recommend wil...\n",
       "2   en en en       811270  [recommend nice packaging, nice nice niceeeeee...\n",
       "3   zh zh zh       149488                           [好 好 产品, 包装 好 货物, 好 好 好]\n",
       "4   zh zh zh       149488                                    [赞 赞 便宜, 赞 赞 赞]\n",
       "5   zh zh zh       149488             [不错 不错 质量, 好 不错 可以, 包装 不错 很, 不错 不错 终于]\n",
       "6   zh zh zh       149488             [好 快 噢, 好 快 快递, 好 快 就, 好 快 单击, 好 快 送到]\n",
       "7   zh zh zh       149488                  [好 喜欢 商家, 好 喜欢 这, 好 喜欢 你, 好 喜欢 也]\n",
       "8   zh zh zh       149488                                    [快 谢 了, 喜欢 谢 有]\n",
       "9   zh zh zh       149488                     [好 值 的, 好 值 这个, 好 值 了, 喜欢 值 了]\n",
       "10  zh zh zh       149488                                  [好 包装 好, 快 包装 完好]\n",
       "11  zh zh zh       149488                          [好 卖家 真, 好 卖家 出货, 好 卖家 赞]\n",
       "12  ms ms ms       788054        [murah berbaloi beli, murah berbaloi buleh]\n",
       "13  ms ms ms       788054  [barang barang dah, barang barang cepat, baran...\n",
       "14  ms ms ms       788054  [cantik cantik beli, cantik cantik bajunya, ca...\n",
       "15  ms ms ms       788054  [barang murah n, cantik murah selesa, murah mu..."
      ]
     },
     "execution_count": 30,
     "metadata": {},
     "output_type": "execute_result"
    }
   ],
   "source": [
    "pd"
   ]
  },
  {
   "cell_type": "code",
   "execution_count": 31,
   "id": "a834c5c1-0242-4678-a5f7-de83beecf40b",
   "metadata": {
    "tags": []
   },
   "outputs": [
    {
     "name": "stderr",
     "output_type": "stream",
     "text": [
      "/home/pc/TestJupyter/opt/spark-3.3.0/venv-spark/lib/python3.9/site-packages/IPython/core/pylabtools.py:151: UserWarning: Glyph 22909 (\\N{CJK UNIFIED IDEOGRAPH-597D}) missing from current font.\n",
      "  fig.canvas.print_figure(bytes_io, **kw)\n",
      "/home/pc/TestJupyter/opt/spark-3.3.0/venv-spark/lib/python3.9/site-packages/IPython/core/pylabtools.py:151: UserWarning: Glyph 36190 (\\N{CJK UNIFIED IDEOGRAPH-8D5E}) missing from current font.\n",
      "  fig.canvas.print_figure(bytes_io, **kw)\n",
      "/home/pc/TestJupyter/opt/spark-3.3.0/venv-spark/lib/python3.9/site-packages/IPython/core/pylabtools.py:151: UserWarning: Glyph 19981 (\\N{CJK UNIFIED IDEOGRAPH-4E0D}) missing from current font.\n",
      "  fig.canvas.print_figure(bytes_io, **kw)\n",
      "/home/pc/TestJupyter/opt/spark-3.3.0/venv-spark/lib/python3.9/site-packages/IPython/core/pylabtools.py:151: UserWarning: Glyph 38169 (\\N{CJK UNIFIED IDEOGRAPH-9519}) missing from current font.\n",
      "  fig.canvas.print_figure(bytes_io, **kw)\n",
      "/home/pc/TestJupyter/opt/spark-3.3.0/venv-spark/lib/python3.9/site-packages/IPython/core/pylabtools.py:151: UserWarning: Glyph 24555 (\\N{CJK UNIFIED IDEOGRAPH-5FEB}) missing from current font.\n",
      "  fig.canvas.print_figure(bytes_io, **kw)\n",
      "/home/pc/TestJupyter/opt/spark-3.3.0/venv-spark/lib/python3.9/site-packages/IPython/core/pylabtools.py:151: UserWarning: Glyph 21916 (\\N{CJK UNIFIED IDEOGRAPH-559C}) missing from current font.\n",
      "  fig.canvas.print_figure(bytes_io, **kw)\n",
      "/home/pc/TestJupyter/opt/spark-3.3.0/venv-spark/lib/python3.9/site-packages/IPython/core/pylabtools.py:151: UserWarning: Glyph 27426 (\\N{CJK UNIFIED IDEOGRAPH-6B22}) missing from current font.\n",
      "  fig.canvas.print_figure(bytes_io, **kw)\n",
      "/home/pc/TestJupyter/opt/spark-3.3.0/venv-spark/lib/python3.9/site-packages/IPython/core/pylabtools.py:151: UserWarning: Glyph 35874 (\\N{CJK UNIFIED IDEOGRAPH-8C22}) missing from current font.\n",
      "  fig.canvas.print_figure(bytes_io, **kw)\n",
      "/home/pc/TestJupyter/opt/spark-3.3.0/venv-spark/lib/python3.9/site-packages/IPython/core/pylabtools.py:151: UserWarning: Glyph 20540 (\\N{CJK UNIFIED IDEOGRAPH-503C}) missing from current font.\n",
      "  fig.canvas.print_figure(bytes_io, **kw)\n",
      "/home/pc/TestJupyter/opt/spark-3.3.0/venv-spark/lib/python3.9/site-packages/IPython/core/pylabtools.py:151: UserWarning: Glyph 21253 (\\N{CJK UNIFIED IDEOGRAPH-5305}) missing from current font.\n",
      "  fig.canvas.print_figure(bytes_io, **kw)\n",
      "/home/pc/TestJupyter/opt/spark-3.3.0/venv-spark/lib/python3.9/site-packages/IPython/core/pylabtools.py:151: UserWarning: Glyph 35013 (\\N{CJK UNIFIED IDEOGRAPH-88C5}) missing from current font.\n",
      "  fig.canvas.print_figure(bytes_io, **kw)\n",
      "/home/pc/TestJupyter/opt/spark-3.3.0/venv-spark/lib/python3.9/site-packages/IPython/core/pylabtools.py:151: UserWarning: Glyph 21334 (\\N{CJK UNIFIED IDEOGRAPH-5356}) missing from current font.\n",
      "  fig.canvas.print_figure(bytes_io, **kw)\n",
      "/home/pc/TestJupyter/opt/spark-3.3.0/venv-spark/lib/python3.9/site-packages/IPython/core/pylabtools.py:151: UserWarning: Glyph 23478 (\\N{CJK UNIFIED IDEOGRAPH-5BB6}) missing from current font.\n",
      "  fig.canvas.print_figure(bytes_io, **kw)\n"
     ]
    },
    {
     "data": {
      "image/png": "[encoded data removed]",
      "text/plain": [
       "<Figure size 640x480 with 1 Axes>"
      ]
     },
     "metadata": {},
     "output_type": "display_data"
    }
   ],
   "source": [
    "keys = [\"seller\",\"recommend\",\"nice\",\"好\",\"赞\",\"不错\",\"快\",\"喜欢\",\"谢\",\"值\",\"包装\",\"卖家\",\"berbaloi\",\"barang\",\"cantik\",\"murah\"]\n",
    "y = pd[\"lang_gram_f\"].tolist()\n",
    "x = key\n",
    "plt.pie(y, labels = key)\n",
    "plt.show()"
   ]
  },
  {
   "cell_type": "code",
   "execution_count": 12,
   "id": "ae26b1e7-e4be-41f0-a86a-a50b7694affd",
   "metadata": {
    "tags": []
   },
   "outputs": [],
   "source": [
    "from functools import reduce\n",
    "from pyspark.sql import DataFrame\n",
    "\n",
    "def unionAll(*dfs):\n",
    "    return reduce(DataFrame.unionAll, dfs)\n",
    "\n",
    "def get_top_1_tag_gram_with_key_word(key):\n",
    "    q(\n",
    "    f\"\"\"\n",
    "    create or replace view tag_gram_ranking as\n",
    "        select \n",
    "            sentence_id,\n",
    "            tag_gram,\n",
    "            token_gram,\n",
    "            rank() over (partition by tag_gram order by unique_id desc) as rank\n",
    "        from\n",
    "            gram_table\n",
    "        where\n",
    "            token_gram rlike '.( {key} ).';\n",
    "    \"\"\"\n",
    "    )\n",
    "\n",
    "    q(\n",
    "    \"\"\"\n",
    "    create or replace view tag_gram_ranking_small as\n",
    "        select \n",
    "            *\n",
    "        from\n",
    "            tag_gram_ranking\n",
    "        where rank < 6;\n",
    "    \"\"\"\n",
    "    )\n",
    "\n",
    "\n",
    "    return q(\n",
    "    f\"\"\"\n",
    "    select * from(\n",
    "        select\n",
    "            distinct\n",
    "            tag_gram, \n",
    "            tag_gram_f,\n",
    "            collect_set(r.token_gram)\n",
    "        from\n",
    "            gram_table g\n",
    "        join\n",
    "            tag_gram_ranking_small r using(tag_gram)\n",
    "        where\n",
    "            g.token_gram rlike '.( {key} ).'\n",
    "        group by\n",
    "            tag_gram, \n",
    "            tag_gram_f\n",
    "        order by\n",
    "            tag_gram_f desc\n",
    "        limit 1)\n",
    "        \"\"\"\n",
    "    )\n",
    "\n",
    "\n",
    "def get_top_1_tag_gram_by_keys(keys):\n",
    "    l = []\n",
    "    for i in keys:\n",
    "        l.append(get_top_1_tag_gram_with_key_word(i))\n",
    "\n",
    "    return unionAll(*l)"
   ]
  },
  {
   "cell_type": "code",
   "execution_count": 13,
   "id": "2812430a-c448-4151-8b01-523d004b548b",
   "metadata": {},
   "outputs": [
    {
     "name": "stderr",
     "output_type": "stream",
     "text": [
      "                                                                                \r"
     ]
    }
   ],
   "source": [
    "key = [\"seller\",\"recommend\",\"nice\",\"好\",\"赞\",\"不错\",\"快\",\"喜欢\",\"谢\",\"值\",\"包装\",\"卖家\",\"berbaloi\",\"barang\",\"cantik\",\"murah\"]\n",
    "\n",
    "df = get_top_1_tag_gram_by_keys(key)\n",
    "pd2 = df.toPandas()"
   ]
  },
  {
   "cell_type": "code",
   "execution_count": 21,
   "id": "e5517890-9046-4184-878e-1ac8d2c6d2c4",
   "metadata": {},
   "outputs": [],
   "source": [
    "y = pd2[\"tag_gram_f\"].tolist()\n",
    "x = key"
   ]
  },
  {
   "cell_type": "code",
   "execution_count": 23,
   "id": "d2e60a12-9cf2-4fc7-8a20-ea9d60ea30bc",
   "metadata": {},
   "outputs": [],
   "source": [
    "import matplotlib.pyplot as plt\n",
    "plt.rcParams['font.sans-serif'] = ['SimHei']"
   ]
  },
  {
   "cell_type": "code",
   "execution_count": 35,
   "id": "d3efccd7-a5bb-464f-b694-f06705836f96",
   "metadata": {},
   "outputs": [
    {
     "data": {
      "image/png": "[encoded data removed]",
      "text/plain": [
       "<Figure size 640x480 with 1 Axes>"
      ]
     },
     "metadata": {},
     "output_type": "display_data"
    }
   ],
   "source": [
    "plt.barh(pd2[\"tag_gram\"],pd2[\"tag_gram_f\"])\n",
    "plt.show()"
   ]
  },
  {
   "cell_type": "code",
   "execution_count": 93,
   "id": "01067a33-8d4a-4a1d-9fed-5ccc6b211a81",
   "metadata": {},
   "outputs": [
    {
     "data": {
      "text/html": [
       "<div>\n",
       "<style scoped>\n",
       "    .dataframe tbody tr th:only-of-type {\n",
       "        vertical-align: middle;\n",
       "    }\n",
       "\n",
       "    .dataframe tbody tr th {\n",
       "        vertical-align: top;\n",
       "    }\n",
       "\n",
       "    .dataframe thead th {\n",
       "        text-align: right;\n",
       "    }\n",
       "</style>\n",
       "<table border=\"1\" class=\"dataframe\">\n",
       "  <thead>\n",
       "    <tr style=\"text-align: right;\">\n",
       "      <th></th>\n",
       "      <th>tag_gram</th>\n",
       "      <th>tag_gram_f</th>\n",
       "      <th>collect_set(token_gram)</th>\n",
       "    </tr>\n",
       "  </thead>\n",
       "  <tbody>\n",
       "    <tr>\n",
       "      <th>0</th>\n",
       "      <td>PROPN PROPN PROPN</td>\n",
       "      <td>131744</td>\n",
       "      <td>[seller seller may, seller seller fast, nice s...</td>\n",
       "    </tr>\n",
       "    <tr>\n",
       "      <th>1</th>\n",
       "      <td>PROPN PROPN PROPN</td>\n",
       "      <td>131744</td>\n",
       "      <td>[nice recommend recommend, recommend recommend...</td>\n",
       "    </tr>\n",
       "    <tr>\n",
       "      <th>2</th>\n",
       "      <td>PROPN PROPN PROPN</td>\n",
       "      <td>131744</td>\n",
       "      <td>[nice nice good, nice nice niceeeeeeeeeeeeeeee...</td>\n",
       "    </tr>\n",
       "    <tr>\n",
       "      <th>3</th>\n",
       "      <td>a a a</td>\n",
       "      <td>2594</td>\n",
       "      <td>[好 好 好]</td>\n",
       "    </tr>\n",
       "    <tr>\n",
       "      <th>4</th>\n",
       "      <td>a v v</td>\n",
       "      <td>7372</td>\n",
       "      <td>[好 赞 赞, 快 赞 赞]</td>\n",
       "    </tr>\n",
       "    <tr>\n",
       "      <th>5</th>\n",
       "      <td>a a a</td>\n",
       "      <td>2594</td>\n",
       "      <td>[不错 不错 不错]</td>\n",
       "    </tr>\n",
       "    <tr>\n",
       "      <th>6</th>\n",
       "      <td>a a a</td>\n",
       "      <td>2594</td>\n",
       "      <td>[好 快 好, 好 快 樂]</td>\n",
       "    </tr>\n",
       "    <tr>\n",
       "      <th>7</th>\n",
       "      <td>a v v</td>\n",
       "      <td>7372</td>\n",
       "      <td>[不错 喜欢 喜欢, 好 喜欢 看, 好 喜欢 可惜]</td>\n",
       "    </tr>\n",
       "    <tr>\n",
       "      <th>8</th>\n",
       "      <td>v v v</td>\n",
       "      <td>2748</td>\n",
       "      <td>[喜欢 谢 有]</td>\n",
       "    </tr>\n",
       "    <tr>\n",
       "      <th>9</th>\n",
       "      <td>a n v</td>\n",
       "      <td>3350</td>\n",
       "      <td>[不错 值 购买]</td>\n",
       "    </tr>\n",
       "    <tr>\n",
       "      <th>10</th>\n",
       "      <td>a v v</td>\n",
       "      <td>7372</td>\n",
       "      <td>[快 包装 无损, 快 包装 有用, 快 包装 赞, 好 包装 没有]</td>\n",
       "    </tr>\n",
       "    <tr>\n",
       "      <th>11</th>\n",
       "      <td>a n d</td>\n",
       "      <td>4736</td>\n",
       "      <td>[好 卖家 真, 好 卖家 还, 好 卖家 也]</td>\n",
       "    </tr>\n",
       "    <tr>\n",
       "      <th>12</th>\n",
       "      <td>NOUN ADV VERB</td>\n",
       "      <td>179518</td>\n",
       "      <td>[seller berbaloi beli]</td>\n",
       "    </tr>\n",
       "    <tr>\n",
       "      <th>13</th>\n",
       "      <td>ADJ NOUN NOUN</td>\n",
       "      <td>47866</td>\n",
       "      <td>[cantik barang delivery, cantik barang semue, ...</td>\n",
       "    </tr>\n",
       "    <tr>\n",
       "      <th>14</th>\n",
       "      <td>PROPN PROPN PROPN</td>\n",
       "      <td>131744</td>\n",
       "      <td>[cantik cantik cantik]</td>\n",
       "    </tr>\n",
       "    <tr>\n",
       "      <th>15</th>\n",
       "      <td>PROPN PROPN PROPN</td>\n",
       "      <td>131744</td>\n",
       "      <td>[nice murah good, cantik murah best, cantik mu...</td>\n",
       "    </tr>\n",
       "  </tbody>\n",
       "</table>\n",
       "</div>"
      ],
      "text/plain": [
       "             tag_gram  tag_gram_f  \\\n",
       "0   PROPN PROPN PROPN      131744   \n",
       "1   PROPN PROPN PROPN      131744   \n",
       "2   PROPN PROPN PROPN      131744   \n",
       "3               a a a        2594   \n",
       "4               a v v        7372   \n",
       "5               a a a        2594   \n",
       "6               a a a        2594   \n",
       "7               a v v        7372   \n",
       "8               v v v        2748   \n",
       "9               a n v        3350   \n",
       "10              a v v        7372   \n",
       "11              a n d        4736   \n",
       "12      NOUN ADV VERB      179518   \n",
       "13      ADJ NOUN NOUN       47866   \n",
       "14  PROPN PROPN PROPN      131744   \n",
       "15  PROPN PROPN PROPN      131744   \n",
       "\n",
       "                              collect_set(token_gram)  \n",
       "0   [seller seller may, seller seller fast, nice s...  \n",
       "1   [nice recommend recommend, recommend recommend...  \n",
       "2   [nice nice good, nice nice niceeeeeeeeeeeeeeee...  \n",
       "3                                             [好 好 好]  \n",
       "4                                      [好 赞 赞, 快 赞 赞]  \n",
       "5                                          [不错 不错 不错]  \n",
       "6                                      [好 快 好, 好 快 樂]  \n",
       "7                         [不错 喜欢 喜欢, 好 喜欢 看, 好 喜欢 可惜]  \n",
       "8                                            [喜欢 谢 有]  \n",
       "9                                           [不错 值 购买]  \n",
       "10                [快 包装 无损, 快 包装 有用, 快 包装 赞, 好 包装 没有]  \n",
       "11                           [好 卖家 真, 好 卖家 还, 好 卖家 也]  \n",
       "12                             [seller berbaloi beli]  \n",
       "13  [cantik barang delivery, cantik barang semue, ...  \n",
       "14                             [cantik cantik cantik]  \n",
       "15  [nice murah good, cantik murah best, cantik mu...  "
      ]
     },
     "execution_count": 93,
     "metadata": {},
     "output_type": "execute_result"
    }
   ],
   "source": [
    "pd2"
   ]
  },
  {
   "cell_type": "code",
   "execution_count": 7,
   "id": "f35fdccb-9de1-45c7-b0ad-c98dcb4dac25",
   "metadata": {},
   "outputs": [],
   "source": [
    "import matplotlib.pyplot as plt\n",
    "\n",
    "def bar_plot (x,y):\n",
    "    plt.bar(x,y)\n",
    "    plt.show()"
   ]
  },
  {
   "cell_type": "code",
   "execution_count": 6,
   "id": "acec9ce3-366e-4b3d-b397-35a1d38a27a2",
   "metadata": {},
   "outputs": [
    {
     "name": "stderr",
     "output_type": "stream",
     "text": [
      "[Stage 0:==========================================>              (20 + 7) / 27]\r"
     ]
    },
    {
     "name": "stdout",
     "output_type": "stream",
     "text": [
      "+-------------------------------------------------+------------+---------+----------+\n",
      "|token_gram                                       |token_gram_f|gram_type|middle_key|\n",
      "+-------------------------------------------------+------------+---------+----------+\n",
      "|nice nice nice nice nice                         |28218       |5        |true      |\n",
      "|seller tq seller tq seller                       |4116        |5        |true      |\n",
      "|cantik cantik cantik cantik cantik               |4029        |5        |true      |\n",
      "|barang baik barang baik barang                   |1434        |5        |true      |\n",
      "|seller thanks seller thanks seller               |830         |5        |true      |\n",
      "|recommend recommend recommend recommend recommend|818         |5        |true      |\n",
      "|seller thankyou seller thankyou seller           |721         |5        |true      |\n",
      "|不错 不错 不错 不错 不错                         |626         |5        |true      |\n",
      "|赞 赞 赞 赞 赞                                   |527         |5        |true      |\n",
      "|seller good seller good seller                   |523         |5        |true      |\n",
      "|murah murah murah murah murah                    |463         |5        |true      |\n",
      "|barang ok barang ok barang                       |335         |5        |true      |\n",
      "|berbaloi berbaloi berbaloi berbaloi berbaloi     |294         |5        |true      |\n",
      "|nice very nice very nice                         |288         |5        |true      |\n",
      "|好 好 好 好 好                                   |279         |5        |true      |\n",
      "|seller terbaik seller terbaik seller             |278         |5        |true      |\n",
      "|seller tqvm seller tqvm seller                   |235         |5        |true      |\n",
      "|nice good nice good nice                         |214         |5        |true      |\n",
      "|nice product nice product nice                   |169         |5        |true      |\n",
      "|seller recommended seller recommended seller     |155         |5        |true      |\n",
      "|seller tqsm seller tqsm seller                   |147         |5        |true      |\n",
      "|seller best seller best seller                   |128         |5        |true      |\n",
      "|barang okay barang okay barang                   |120         |5        |true      |\n",
      "|nice nice nice nicenice nice                     |119         |5        |true      |\n",
      "|seller thanksyou seller thanksyou seller         |115         |5        |true      |\n",
      "|nice nicenice nice nice nice                     |113         |5        |true      |\n",
      "|nice nice nice nice nicenice                     |111         |5        |true      |\n",
      "|barang terbaik barang terbaik barang             |108         |5        |true      |\n",
      "|seller thank seller thank seller                 |99          |5        |true      |\n",
      "|nice tqvm nice tqvm nice                         |99          |5        |true      |\n",
      "|barang bagus barang bagus barang                 |95          |5        |true      |\n",
      "|seller trusted seller trusted seller             |91          |5        |true      |\n",
      "|seller trustee seller trustee seller             |91          |5        |true      |\n",
      "|berbaloi baloi berbaloi baloi berbaloi           |88          |5        |true      |\n",
      "|seller semoga murah rezeki selalu                |84          |5        |true      |\n",
      "|好 与 卖家 描述 一致                             |82          |5        |true      |\n",
      "|cantik baju cantik baju cantik                   |77          |5        |true      |\n",
      "|好 服务 好 诚实 卖家                             |71          |5        |true      |\n",
      "|nice item nice item nice                         |69          |5        |true      |\n",
      "|好 与 卖家 描述 的                               |68          |5        |true      |\n",
      "|barang boek barang boek barang                   |67          |5        |true      |\n",
      "|barang cantik barang cantik barang               |67          |5        |true      |\n",
      "|barang barang barang barang barang               |66          |5        |true      |\n",
      "|cantik barang cantik barang cantik               |65          |5        |true      |\n",
      "|nice packaging nice packaging nice               |63          |5        |true      |\n",
      "|nice thanks nice thanks nice                     |60          |5        |true      |\n",
      "|nice just nice just nice                         |59          |5        |true      |\n",
      "|nice thankyou seller so nice                     |56          |5        |true      |\n",
      "|seller tq seller for your                        |56          |5        |true      |\n",
      "|seller so nice thankyou seller                   |56          |5        |true      |\n",
      "+-------------------------------------------------+------------+---------+----------+\n",
      "only showing top 50 rows\n",
      "\n"
     ]
    },
    {
     "name": "stderr",
     "output_type": "stream",
     "text": [
      "                                                                                \r"
     ]
    }
   ],
   "source": [
    "q(\n",
    "\"\"\"\n",
    "select * from (\n",
    "  select distinct token_gram, token_gram_f, gram_type, middle_key from gram_table\n",
    ") where gram_type = 5 and middle_key = true order by token_gram_f desc\n",
    "\"\"\"\n",
    ").show(50, False)"
   ]
  },
  {
   "cell_type": "code",
   "execution_count": 28,
   "id": "9c37f2cc-ec43-45a6-976f-d0cbd0880dae",
   "metadata": {},
   "outputs": [],
   "source": [
    "from functools import reduce\n",
    "from pyspark.sql import DataFrame\n",
    "\n",
    "def unionAll(*dfs):\n",
    "    return reduce(DataFrame.unionAll, dfs)\n",
    "\n",
    "def get_top_1_lang_gram_with_key_word(key):\n",
    "    q(\n",
    "    f\"\"\"\n",
    "    create or replace view lang_gram_ranking as\n",
    "        select \n",
    "            sentence_id,\n",
    "            lang_gram,\n",
    "            token_gram,\n",
    "            rank() over (partition by lang_gram order by unique_id desc) as rank\n",
    "        from\n",
    "            gram_table\n",
    "        where\n",
    "            token_gram rlike '.*( {key} ).*';\n",
    "    \"\"\"\n",
    "    )\n",
    "\n",
    "    q(\n",
    "    \"\"\"\n",
    "    create or replace view lang_gram_ranking_small as\n",
    "        select \n",
    "            *\n",
    "        from\n",
    "            lang_gram_ranking\n",
    "        where rank < 6;\n",
    "    \"\"\"\n",
    "    )\n",
    "\n",
    "\n",
    "    return q(\n",
    "    f\"\"\"\n",
    "    select * from(\n",
    "        select\n",
    "            distinct\n",
    "            lang_gram, \n",
    "            lang_gram_f,\n",
    "            collect_set(r.token_gram)\n",
    "        from\n",
    "            gram_table g\n",
    "        join\n",
    "            lang_gram_ranking_small r using(lang_gram)\n",
    "        where\n",
    "            g.token_gram rlike '.*( {key} ).*'\n",
    "        group by\n",
    "            lang_gram, \n",
    "            lang_gram_f\n",
    "        order by\n",
    "            lang_gram_f desc\n",
    "        limit 1)\n",
    "        \"\"\"\n",
    "    )\n",
    "\n",
    "\n",
    "def get_top_1_lang_gram_by_keys(keys):\n",
    "    l = []\n",
    "    for i in keys:\n",
    "        l.append(get_top_1_lang_gram_with_key_word(i))\n",
    "\n",
    "    return unionAll(*l)\n",
    "\n",
    "keys = [\"seller\",\"recommend\",\"nice\",\"好\",\"赞\",\"不错\",\"快\",\"喜欢\",\"谢\",\"值\",\"包装\",\"卖家\",\"berbaloi\",\"barang\",\"cantik\",\"murah\"]"
   ]
  },
  {
   "cell_type": "code",
   "execution_count": 82,
   "id": "863bc443-d3dc-42f7-8877-67efae3caf77",
   "metadata": {},
   "outputs": [
    {
     "name": "stdout",
     "output_type": "stream",
     "text": [
      "+------------+-----------------------+-----------+\n",
      "|namespace   |tableName              |isTemporary|\n",
      "+------------+-----------------------+-----------+\n",
      "|social_media|gram_table             |false      |\n",
      "|social_media|lang_gram_ranking      |false      |\n",
      "|social_media|lang_gram_ranking_small|false      |\n",
      "|social_media|source_data            |false      |\n",
      "|social_media|tag_gram_ranking       |false      |\n",
      "|social_media|tag_gram_ranking_small |false      |\n",
      "+------------+-----------------------+-----------+\n",
      "\n"
     ]
    }
   ],
   "source": [
    "q(\"show tables;\").show(100, False)"
   ]
  },
  {
   "cell_type": "code",
   "execution_count": 83,
   "id": "a676e201-667f-44d0-98bc-b117a02897a3",
   "metadata": {},
   "outputs": [
    {
     "data": {
      "text/plain": [
       "DataFrame[]"
      ]
     },
     "execution_count": 83,
     "metadata": {},
     "output_type": "execute_result"
    }
   ],
   "source": [
    "q(\"use social_media;\")"
   ]
  },
  {
   "cell_type": "code",
   "execution_count": 84,
   "id": "8c4db255-ab37-4c3f-8bb0-59c559cab30a",
   "metadata": {},
   "outputs": [
    {
     "name": "stdout",
     "output_type": "stream",
     "text": [
      "+------------+-----------------------+-----------+\n",
      "|namespace   |tableName              |isTemporary|\n",
      "+------------+-----------------------+-----------+\n",
      "|social_media|gram_table             |false      |\n",
      "|social_media|lang_gram_ranking      |false      |\n",
      "|social_media|lang_gram_ranking_small|false      |\n",
      "|social_media|source_data            |false      |\n",
      "|social_media|tag_gram_ranking       |false      |\n",
      "|social_media|tag_gram_ranking_small |false      |\n",
      "+------------+-----------------------+-----------+\n",
      "\n"
     ]
    }
   ],
   "source": [
    "q(\"show tables;\").show(100, False)"
   ]
  },
  {
   "cell_type": "code",
   "execution_count": 92,
   "id": "014730a1-b9f7-4da9-b525-9fb5789ddcde",
   "metadata": {},
   "outputs": [
    {
     "name": "stderr",
     "output_type": "stream",
     "text": [
      "[Stage 251:==============================================>        (23 + 4) / 27]\r"
     ]
    },
    {
     "name": "stdout",
     "output_type": "stream",
     "text": [
      "+--------+----------+\n",
      "|tag_gram|tag_gram_f|\n",
      "+--------+----------+\n",
      "|a v     |14461     |\n",
      "|a n     |9127      |\n",
      "|a v v   |7372      |\n",
      "|v d     |5132      |\n",
      "|v d a   |4750      |\n",
      "|a n d   |4736      |\n",
      "|a a     |4637      |\n",
      "|a v d   |3972      |\n",
      "|v v     |3892      |\n",
      "|a d     |3616      |\n",
      "+--------+----------+\n",
      "only showing top 10 rows\n",
      "\n"
     ]
    },
    {
     "name": "stderr",
     "output_type": "stream",
     "text": [
      "                                                                                \r"
     ]
    }
   ],
   "source": [
    "q(\n",
    "\"\"\"\n",
    "select distinct tag_gram, tag_gram_f\n",
    "from gram_table\n",
    "where\n",
    "language = \"chinese\"\n",
    "order by tag_gram_f desc\n",
    "\"\"\"\n",
    ").show(10, False)"
   ]
  },
  {
   "cell_type": "code",
   "execution_count": 91,
   "id": "252f04bf-1585-41b6-afae-60cda2d6c0b0",
   "metadata": {},
   "outputs": [
    {
     "name": "stdout",
     "output_type": "stream",
     "text": [
      "+----------------------------------+\n",
      "|token_gram                        |\n",
      "+----------------------------------+\n",
      "|nice seller punya packaging pon   |\n",
      "|murah cheap                       |\n",
      "|nice shoe                         |\n",
      "|seller nice product nice packaging|\n",
      "|seller responses abit             |\n",
      "|seller even travel                |\n",
      "|barang sampai dengan              |\n",
      "|seller the tutorial is easy       |\n",
      "|seller maybe you                  |\n",
      "|nice looking                      |\n",
      "+----------------------------------+\n",
      "only showing top 10 rows\n",
      "\n"
     ]
    }
   ],
   "source": [
    "q(\n",
    "\"\"\"\n",
    "select token_gram from gram_table where language = 'english'\n",
    "\"\"\"\n",
    ").show(10, False)"
   ]
  },
  {
   "cell_type": "code",
   "execution_count": null,
   "id": "12469cb9-5508-4c67-98a3-96a36640daf9",
   "metadata": {},
   "outputs": [],
   "source": []
  }
 ],
 "metadata": {
  "kernelspec": {
   "display_name": "venv-spark",
   "language": "python",
   "name": "venv-spark"
  },
  "language_info": {
   "codemirror_mode": {
    "name": "ipython",
    "version": 3
   },
   "file_extension": ".py",
   "mimetype": "text/x-python",
   "name": "python",
   "nbconvert_exporter": "python",
   "pygments_lexer": "ipython3",
   "version": "3.9.13"
  }
 },
 "nbformat": 4,
 "nbformat_minor": 5
}
