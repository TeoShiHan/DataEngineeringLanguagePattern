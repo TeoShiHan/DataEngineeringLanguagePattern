{
 "cells": [
  {
   "cell_type": "code",
   "execution_count": 4,
   "id": "0930cfca-2b60-4848-9242-3af60e768c1c",
   "metadata": {
    "tags": []
   },
   "outputs": [],
   "source": [
    "from connectPyspark import *\n",
    "from pyspark.ml.feature import NGram\n",
    "import pyspark.sql.functions as F"
   ]
  },
  {
   "cell_type": "code",
   "execution_count": 5,
   "id": "9f7c8118-242b-400c-9273-2a7161047ebc",
   "metadata": {
    "tags": []
   },
   "outputs": [
    {
     "name": "stdout",
     "output_type": "stream",
     "text": [
      "+--------------------+--------------------+--------------------+--------+-----------+--------------------+\n",
      "|            original|               token|                 tag|language|chinese_tag|    language_pattern|\n",
      "+--------------------+--------------------+--------------------+--------+-----------+--------------------+\n",
      "|taste nice better...|[taste, nice, bet...|[NOUN, ADJ, ADJ, ...| english|       null|[en, en, en, en, ...|\n",
      "|barang sampai den...|[barang, sampai, ...|[NOUN, ADP, ADP, ...| english|       null|[ms, ms, ms, ms, ...|\n",
      "|to seller thanks ...|[to, seller, than...|[ADP, NOUN, NOUN,...| english|       null|[en, en, en, en, ...|\n",
      "|thank you seller ...|[thank, you, sell...|[VERB, PRON, NOUN...| english|       null|[en, en, en, en, ...|\n",
      "|wow fast delivery...|[wow, fast, deliv...|[PROPN, PROPN, NO...| english|       null|[en, en, en, en, ...|\n",
      "|good product qual...|[good, product, q...|[PROPN, PROPN, PR...| english|       null|[en, en, en, en, ...|\n",
      "|unrelated photo a...|[unrelated, photo...|[NOUN, NOUN, CCON...| english|       null|[en, en, en, en, ...|\n",
      "|thank you seller ...|[thank, you, sell...|[VERB, PRON, NOUN...| english|       null|[en, en, en, en, ...|\n",
      "|seller respon ama...|[seller, respon, ...|[NOUN, NOUN, ADV,...| english|       null|[en, en, ms, en, ...|\n",
      "|received thank yo...|[received, thank,...|[VERB, VERB, PRON...| english|       null|[en, en, en, en, ...|\n",
      "|thank you seller ...|[thank, you, sell...|[VERB, PRON, PROP...| english|       null|[en, en, en, en, ...|\n",
      "|beli masa jovian ...|[beli, masa, jovi...|[VERB, NOUN, NOUN...| english|       null|[ms, ms, ms, ms, ...|\n",
      "|seller fast ship ...|[seller, fast, sh...|[PROPN, PROPN, PR...| english|       null|[en, en, en, en, ...|\n",
      "|yeayyyy botol my ...|[yeayyyy, botol, ...|[NOUN, NOUN, DET,...| english|       null|[en, ms, en, en, ...|\n",
      "|good quality prod...|[good, quality, p...|[NOUN, NOUN, NOUN...| english|       null|[en, en, en, en, ...|\n",
      "|good product qual...|[good, product, q...|[PROPN, NOUN, NOU...| english|       null|[en, en, en, en, ...|\n",
      "|i did messaged th...|[i, did, messaged...|[PROPN, VERB, NOU...| english|       null|[ms, en, en, en, ...|\n",
      "|but the material ...|[but, the, materi...|[CCONJ, NOUN, NOU...| english|       null|[en, en, en, en, ...|\n",
      "|dpt free gift tak...|[dpt, free, gift,...|[VERB, ADJ, NOUN,...| english|       null|[en, en, en, ms, ...|\n",
      "|thank you seller ...|[thank, you, sell...|[PROPN, PRON, PRO...| english|       null|[en, en, en, en, ...|\n",
      "+--------------------+--------------------+--------------------+--------+-----------+--------------------+\n",
      "only showing top 20 rows\n",
      "\n"
     ]
    }
   ],
   "source": [
    "a = read_avro(\"output/22__READY_NGRAM\")\n",
    "a = a.coalesce(54)\n",
    "\n",
    "a.show()\n",
    "\n",
    "# 🆂🅰🅼🅿🅻🅴"
   ]
  },
  {
   "cell_type": "code",
   "execution_count": 6,
   "id": "191423d0-02eb-4fd6-ae6b-d36e6f0f3fb1",
   "metadata": {},
   "outputs": [],
   "source": [
    "a= a.withColumn(\"sentence_id\", F.monotonically_increasing_id())"
   ]
  },
  {
   "cell_type": "code",
   "execution_count": 7,
   "id": "8780e51f-5ff8-4cc5-9965-27c175e94fd2",
   "metadata": {
    "collapsed": true,
    "jupyter": {
     "outputs_hidden": true
    },
    "tags": []
   },
   "outputs": [
    {
     "name": "stdout",
     "output_type": "stream",
     "text": [
      "+--------------------+--------------------+--------------------+--------+-----------+--------------------+-----------+\n",
      "|            original|               token|                 tag|language|chinese_tag|    language_pattern|sentence_id|\n",
      "+--------------------+--------------------+--------------------+--------+-----------+--------------------+-----------+\n",
      "|taste nice better...|[taste, nice, bet...|[NOUN, ADJ, ADJ, ...| english|       null|[en, en, en, en, ...|          0|\n",
      "|barang sampai den...|[barang, sampai, ...|[NOUN, ADP, ADP, ...| english|       null|[ms, ms, ms, ms, ...|          1|\n",
      "|to seller thanks ...|[to, seller, than...|[ADP, NOUN, NOUN,...| english|       null|[en, en, en, en, ...|          2|\n",
      "|thank you seller ...|[thank, you, sell...|[VERB, PRON, NOUN...| english|       null|[en, en, en, en, ...|          3|\n",
      "|wow fast delivery...|[wow, fast, deliv...|[PROPN, PROPN, NO...| english|       null|[en, en, en, en, ...|          4|\n",
      "|good product qual...|[good, product, q...|[PROPN, PROPN, PR...| english|       null|[en, en, en, en, ...|          5|\n",
      "|unrelated photo a...|[unrelated, photo...|[NOUN, NOUN, CCON...| english|       null|[en, en, en, en, ...|          6|\n",
      "|thank you seller ...|[thank, you, sell...|[VERB, PRON, NOUN...| english|       null|[en, en, en, en, ...|          7|\n",
      "|seller respon ama...|[seller, respon, ...|[NOUN, NOUN, ADV,...| english|       null|[en, en, ms, en, ...|          8|\n",
      "|received thank yo...|[received, thank,...|[VERB, VERB, PRON...| english|       null|[en, en, en, en, ...|          9|\n",
      "|thank you seller ...|[thank, you, sell...|[VERB, PRON, PROP...| english|       null|[en, en, en, en, ...|         10|\n",
      "|beli masa jovian ...|[beli, masa, jovi...|[VERB, NOUN, NOUN...| english|       null|[ms, ms, ms, ms, ...|         11|\n",
      "|seller fast ship ...|[seller, fast, sh...|[PROPN, PROPN, PR...| english|       null|[en, en, en, en, ...|         12|\n",
      "|yeayyyy botol my ...|[yeayyyy, botol, ...|[NOUN, NOUN, DET,...| english|       null|[en, ms, en, en, ...|         13|\n",
      "|good quality prod...|[good, quality, p...|[NOUN, NOUN, NOUN...| english|       null|[en, en, en, en, ...|         14|\n",
      "|good product qual...|[good, product, q...|[PROPN, NOUN, NOU...| english|       null|[en, en, en, en, ...|         15|\n",
      "|i did messaged th...|[i, did, messaged...|[PROPN, VERB, NOU...| english|       null|[ms, en, en, en, ...|         16|\n",
      "|but the material ...|[but, the, materi...|[CCONJ, NOUN, NOU...| english|       null|[en, en, en, en, ...|         17|\n",
      "|dpt free gift tak...|[dpt, free, gift,...|[VERB, ADJ, NOUN,...| english|       null|[en, en, en, ms, ...|         18|\n",
      "|thank you seller ...|[thank, you, sell...|[PROPN, PRON, PRO...| english|       null|[en, en, en, en, ...|         19|\n",
      "+--------------------+--------------------+--------------------+--------+-----------+--------------------+-----------+\n",
      "only showing top 20 rows\n",
      "\n"
     ]
    }
   ],
   "source": [
    "a.show()\n",
    "\n",
    "# 🆂🅰🅼🅿🅻🅴"
   ]
  },
  {
   "cell_type": "markdown",
   "id": "49d1b734-a588-47d5-aa92-3cc50303b86d",
   "metadata": {},
   "source": [
    "### Create bi-gram"
   ]
  },
  {
   "cell_type": "code",
   "execution_count": 14,
   "id": "fd3482c5-0136-4fc6-ad16-3cbf8dd57ecb",
   "metadata": {},
   "outputs": [],
   "source": [
    "tokenNgram =NGram(n=2, inputCol=\"token\", outputCol=\"token_gram\")\n",
    "tagNgram =NGram(n=2, inputCol=\"tag\", outputCol=\"tag_gram\")\n",
    "langNgram =NGram(n=2, inputCol=\"language_pattern\", outputCol=\"lang_gram\")"
   ]
  },
  {
   "cell_type": "code",
   "execution_count": 15,
   "id": "06e6f19c-86e9-4283-95db-327cec596efe",
   "metadata": {},
   "outputs": [],
   "source": [
    "n2 = tokenNgram.transform(a)\n",
    "n2 = tagNgram.transform(n2)\n",
    "n2 = langNgram.transform(n2)\n"
   ]
  },
  {
   "cell_type": "code",
   "execution_count": 16,
   "id": "07d3ad73-6adb-4bbc-84ce-a6c391013d01",
   "metadata": {
    "tags": []
   },
   "outputs": [
    {
     "name": "stdout",
     "output_type": "stream",
     "text": [
      "+--------------------+--------------------+--------------------+--------+-----------+--------------------+-----------+--------------------+--------------------+--------------------+\n",
      "|            original|               token|                 tag|language|chinese_tag|    language_pattern|sentence_id|          token_gram|            tag_gram|           lang_gram|\n",
      "+--------------------+--------------------+--------------------+--------+-----------+--------------------+-----------+--------------------+--------------------+--------------------+\n",
      "|taste nice better...|[taste, nice, bet...|[NOUN, ADJ, ADJ, ...| english|       null|[en, en, en, en, ...|          0|[taste nice, nice...|[NOUN ADJ, ADJ AD...|[en en, en en, en...|\n",
      "|barang sampai den...|[barang, sampai, ...|[NOUN, ADP, ADP, ...| english|       null|[ms, ms, ms, ms, ...|          1|[barang sampai, s...|[NOUN ADP, ADP AD...|[ms ms, ms ms, ms...|\n",
      "|to seller thanks ...|[to, seller, than...|[ADP, NOUN, NOUN,...| english|       null|[en, en, en, en, ...|          2|[to seller, selle...|[ADP NOUN, NOUN N...|[en en, en en, en...|\n",
      "|thank you seller ...|[thank, you, sell...|[VERB, PRON, NOUN...| english|       null|[en, en, en, en, ...|          3|[thank you, you s...|[VERB PRON, PRON ...|[en en, en en, en...|\n",
      "|wow fast delivery...|[wow, fast, deliv...|[PROPN, PROPN, NO...| english|       null|[en, en, en, en, ...|          4|[wow fast, fast d...|[PROPN PROPN, PRO...|[en en, en en, en...|\n",
      "|good product qual...|[good, product, q...|[PROPN, PROPN, PR...| english|       null|[en, en, en, en, ...|          5|[good product, pr...|[PROPN PROPN, PRO...|[en en, en en, en...|\n",
      "|unrelated photo a...|[unrelated, photo...|[NOUN, NOUN, CCON...| english|       null|[en, en, en, en, ...|          6|[unrelated photo,...|[NOUN NOUN, NOUN ...|[en en, en en, en...|\n",
      "|thank you seller ...|[thank, you, sell...|[VERB, PRON, NOUN...| english|       null|[en, en, en, en, ...|          7|[thank you, you s...|[VERB PRON, PRON ...|[en en, en en, en...|\n",
      "|seller respon ama...|[seller, respon, ...|[NOUN, NOUN, ADV,...| english|       null|[en, en, ms, en, ...|          8|[seller respon, r...|[NOUN NOUN, NOUN ...|[en en, en ms, ms...|\n",
      "|received thank yo...|[received, thank,...|[VERB, VERB, PRON...| english|       null|[en, en, en, en, ...|          9|[received thank, ...|[VERB VERB, VERB ...|[en en, en en, en...|\n",
      "|thank you seller ...|[thank, you, sell...|[VERB, PRON, PROP...| english|       null|[en, en, en, en, ...|         10|[thank you, you s...|[VERB PRON, PRON ...|[en en, en en, en...|\n",
      "|beli masa jovian ...|[beli, masa, jovi...|[VERB, NOUN, NOUN...| english|       null|[ms, ms, ms, ms, ...|         11|[beli masa, masa ...|[VERB NOUN, NOUN ...|[ms ms, ms ms, ms...|\n",
      "|seller fast ship ...|[seller, fast, sh...|[PROPN, PROPN, PR...| english|       null|[en, en, en, en, ...|         12|[seller fast, fas...|[PROPN PROPN, PRO...|[en en, en en, en...|\n",
      "|yeayyyy botol my ...|[yeayyyy, botol, ...|[NOUN, NOUN, DET,...| english|       null|[en, ms, en, en, ...|         13|[yeayyyy botol, b...|[NOUN NOUN, NOUN ...|[en ms, ms en, en...|\n",
      "|good quality prod...|[good, quality, p...|[NOUN, NOUN, NOUN...| english|       null|[en, en, en, en, ...|         14|[good quality, qu...|[NOUN NOUN, NOUN ...|[en en, en en, en...|\n",
      "|good product qual...|[good, product, q...|[PROPN, NOUN, NOU...| english|       null|[en, en, en, en, ...|         15|[good product, pr...|[PROPN NOUN, NOUN...|[en en, en en, en...|\n",
      "|i did messaged th...|[i, did, messaged...|[PROPN, VERB, NOU...| english|       null|[ms, en, en, en, ...|         16|[i did, did messa...|[PROPN VERB, VERB...|[ms en, en en, en...|\n",
      "|but the material ...|[but, the, materi...|[CCONJ, NOUN, NOU...| english|       null|[en, en, en, en, ...|         17|[but the, the mat...|[CCONJ NOUN, NOUN...|[en en, en en, en...|\n",
      "|dpt free gift tak...|[dpt, free, gift,...|[VERB, ADJ, NOUN,...| english|       null|[en, en, en, ms, ...|         18|[dpt free, free g...|[VERB ADJ, ADJ NO...|[en en, en en, en...|\n",
      "|thank you seller ...|[thank, you, sell...|[PROPN, PRON, PRO...| english|       null|[en, en, en, en, ...|         19|[thank you, you s...|[PROPN PRON, PRON...|[en en, en en, en...|\n",
      "+--------------------+--------------------+--------------------+--------+-----------+--------------------+-----------+--------------------+--------------------+--------------------+\n",
      "only showing top 20 rows\n",
      "\n"
     ]
    }
   ],
   "source": [
    "n2.show()"
   ]
  },
  {
   "cell_type": "code",
   "execution_count": 11,
   "id": "0f1c8e80-7081-42ef-af02-4798530f8163",
   "metadata": {},
   "outputs": [
    {
     "data": {
      "text/plain": [
       "DataFrame[original: string, token: array<string>, tag: array<string>, language: string, chinese_tag: array<string>, language_pattern: array<string>, sentence_id: bigint, token_gram: array<string>, tag_gram: array<string>, lang_gram: array<string>]"
      ]
     },
     "execution_count": 11,
     "metadata": {},
     "output_type": "execute_result"
    }
   ],
   "source": [
    "n2"
   ]
  },
  {
   "cell_type": "code",
   "execution_count": 17,
   "id": "46bfb836-9594-4bb6-aa57-7c3f2d8d984a",
   "metadata": {
    "collapsed": true,
    "jupyter": {
     "outputs_hidden": true
    },
    "tags": []
   },
   "outputs": [
    {
     "name": "stdout",
     "output_type": "stream",
     "text": [
      "+-----------+--------------------+--------------------+--------+--------------------+-----------+--------------------+---+-----------------+-----------+---------+\n",
      "|sentence_id|            original|                 tag|language|               token|chinese_tag|    language_pattern|pos|       token_gram|   tag_gram|lang_gram|\n",
      "+-----------+--------------------+--------------------+--------+--------------------+-----------+--------------------+---+-----------------+-----------+---------+\n",
      "|          0|taste nice better...|[NOUN, ADJ, ADJ, ...| english|[taste, nice, bet...|       null|[en, en, en, en, ...|  0|       taste nice|   NOUN ADJ|    en en|\n",
      "|          0|taste nice better...|[NOUN, ADJ, ADJ, ...| english|[taste, nice, bet...|       null|[en, en, en, en, ...|  1|      nice better|    ADJ ADJ|    en en|\n",
      "|          0|taste nice better...|[NOUN, ADJ, ADJ, ...| english|[taste, nice, bet...|       null|[en, en, en, en, ...|  2|      better than|   ADJ VERB|    en en|\n",
      "|          0|taste nice better...|[NOUN, ADJ, ADJ, ...| english|[taste, nice, bet...|       null|[en, en, en, en, ...|  3|       than maggi|  VERB NOUN|    en en|\n",
      "|          0|taste nice better...|[NOUN, ADJ, ADJ, ...| english|[taste, nice, bet...|       null|[en, en, en, en, ...|  4|        maggi mee| NOUN PROPN|    en en|\n",
      "|          0|taste nice better...|[NOUN, ADJ, ADJ, ...| english|[taste, nice, bet...|       null|[en, en, en, en, ...|  5|         mee more| PROPN NOUN|    en en|\n",
      "|          0|taste nice better...|[NOUN, ADJ, ADJ, ...| english|[taste, nice, bet...|       null|[en, en, en, en, ...|  6|     more healthy|   NOUN ADJ|    en en|\n",
      "|          1|barang sampai den...|[NOUN, ADP, ADP, ...| english|[barang, sampai, ...|       null|[ms, ms, ms, ms, ...|  0|    barang sampai|   NOUN ADP|    ms ms|\n",
      "|          1|barang sampai den...|[NOUN, ADP, ADP, ...| english|[barang, sampai, ...|       null|[ms, ms, ms, ms, ...|  1|    sampai dengan|    ADP ADP|    ms ms|\n",
      "|          1|barang sampai den...|[NOUN, ADP, ADP, ...| english|[barang, sampai, ...|       null|[ms, ms, ms, ms, ...|  2|      dengan baik|    ADP ADJ|    ms ms|\n",
      "|          1|barang sampai den...|[NOUN, ADP, ADP, ...| english|[barang, sampai, ...|       null|[ms, ms, ms, ms, ...|  3|    baik thankyou|   ADJ NOUN|    ms en|\n",
      "|          1|barang sampai den...|[NOUN, ADP, ADP, ...| english|[barang, sampai, ...|       null|[ms, ms, ms, ms, ...|  4|  thankyou seller|  NOUN NOUN|    en en|\n",
      "|          1|barang sampai den...|[NOUN, ADP, ADP, ...| english|[barang, sampai, ...|       null|[ms, ms, ms, ms, ...|  5|         seller i|  NOUN PRON|    en ms|\n",
      "|          1|barang sampai den...|[NOUN, ADP, ADP, ...| english|[barang, sampai, ...|       null|[ms, ms, ms, ms, ...|  6|           i love|  PRON VERB|    ms en|\n",
      "|          1|barang sampai den...|[NOUN, ADP, ADP, ...| english|[barang, sampai, ...|       null|[ms, ms, ms, ms, ...|  7|          love it|  VERB PRON|    en en|\n",
      "|          1|barang sampai den...|[NOUN, ADP, ADP, ...| english|[barang, sampai, ...|       null|[ms, ms, ms, ms, ...|  8|       it thankss|  PRON NOUN|    en en|\n",
      "|          2|to seller thanks ...|[ADP, NOUN, NOUN,...| english|[to, seller, than...|       null|[en, en, en, en, ...|  0|        to seller|   ADP NOUN|    en en|\n",
      "|          2|to seller thanks ...|[ADP, NOUN, NOUN,...| english|[to, seller, than...|       null|[en, en, en, en, ...|  1|    seller thanks|  NOUN NOUN|    en en|\n",
      "|          2|to seller thanks ...|[ADP, NOUN, NOUN,...| english|[to, seller, than...|       null|[en, en, en, en, ...|  2|       thanks for|   NOUN ADP|    en en|\n",
      "|          2|to seller thanks ...|[ADP, NOUN, NOUN,...| english|[to, seller, than...|       null|[en, en, en, en, ...|  3|          for the|    ADP DET|    en en|\n",
      "|          2|to seller thanks ...|[ADP, NOUN, NOUN,...| english|[to, seller, than...|       null|[en, en, en, en, ...|  4|        the first|   DET NOUN|    en en|\n",
      "|          2|to seller thanks ...|[ADP, NOUN, NOUN,...| english|[to, seller, than...|       null|[en, en, en, en, ...|  5|       first time|  NOUN NOUN|    en en|\n",
      "|          2|to seller thanks ...|[ADP, NOUN, NOUN,...| english|[to, seller, than...|       null|[en, en, en, en, ...|  6| time hihahihahia|  NOUN NOUN|    en ms|\n",
      "|          3|thank you seller ...|[VERB, PRON, NOUN...| english|[thank, you, sell...|       null|[en, en, en, en, ...|  0|        thank you|  VERB PRON|    en en|\n",
      "|          3|thank you seller ...|[VERB, PRON, NOUN...| english|[thank, you, sell...|       null|[en, en, en, en, ...|  1|       you seller|  PRON NOUN|    en en|\n",
      "|          3|thank you seller ...|[VERB, PRON, NOUN...| english|[thank, you, sell...|       null|[en, en, en, en, ...|  2|       seller may| NOUN PROPN|    en en|\n",
      "|          3|thank you seller ...|[VERB, PRON, NOUN...| english|[thank, you, sell...|       null|[en, en, en, en, ...|  3|          may buy| PROPN VERB|    en en|\n",
      "|          3|thank you seller ...|[VERB, PRON, NOUN...| english|[thank, you, sell...|       null|[en, en, en, en, ...|  4|        buy again|   VERB ADV|    en en|\n",
      "|          3|thank you seller ...|[VERB, PRON, NOUN...| english|[thank, you, sell...|       null|[en, en, en, en, ...|  5|         again if|  ADV SCONJ|    en en|\n",
      "|          3|thank you seller ...|[VERB, PRON, NOUN...| english|[thank, you, sell...|       null|[en, en, en, en, ...|  6|         if proof|SCONJ PROPN|    en en|\n",
      "|          3|thank you seller ...|[VERB, PRON, NOUN...| english|[thank, you, sell...|       null|[en, en, en, en, ...|  7|         proof to|  PROPN ADP|    en en|\n",
      "|          3|thank you seller ...|[VERB, PRON, NOUN...| english|[thank, you, sell...|       null|[en, en, en, en, ...|  8|            to be|   ADP VERB|    en ms|\n",
      "|          3|thank you seller ...|[VERB, PRON, NOUN...| english|[thank, you, sell...|       null|[en, en, en, en, ...|  9|       be durable|   VERB ADJ|    ms en|\n",
      "|          3|thank you seller ...|[VERB, PRON, NOUN...| english|[thank, you, sell...|       null|[en, en, en, en, ...| 10|    durable after|    ADJ ADP|    en en|\n",
      "|          3|thank you seller ...|[VERB, PRON, NOUN...| english|[thank, you, sell...|       null|[en, en, en, en, ...| 11|       after some|    ADP DET|    en en|\n",
      "|          3|thank you seller ...|[VERB, PRON, NOUN...| english|[thank, you, sell...|       null|[en, en, en, en, ...| 12|        some time|   DET NOUN|    en en|\n",
      "|          3|thank you seller ...|[VERB, PRON, NOUN...| english|[thank, you, sell...|       null|[en, en, en, en, ...| 13|          time in|   NOUN ADP|    en en|\n",
      "|          3|thank you seller ...|[VERB, PRON, NOUN...| english|[thank, you, sell...|       null|[en, en, en, en, ...| 14|           in use|   ADP VERB|    en en|\n",
      "|          4|wow fast delivery...|[PROPN, PROPN, NO...| english|[wow, fast, deliv...|       null|[en, en, en, en, ...|  0|         wow fast|PROPN PROPN|    en en|\n",
      "|          4|wow fast delivery...|[PROPN, PROPN, NO...| english|[wow, fast, deliv...|       null|[en, en, en, en, ...|  1|    fast delivery| PROPN NOUN|    en en|\n",
      "|          4|wow fast delivery...|[PROPN, PROPN, NO...| english|[wow, fast, deliv...|       null|[en, en, en, en, ...|  2|   delivery kayhh|  NOUN NOUN|    en en|\n",
      "|          4|wow fast delivery...|[PROPN, PROPN, NO...| english|[wow, fast, deliv...|       null|[en, en, en, en, ...|  3|       kayhh baju|  NOUN NOUN|    en ms|\n",
      "|          4|wow fast delivery...|[PROPN, PROPN, NO...| english|[wow, fast, deliv...|       null|[en, en, en, en, ...|  4|       baju hijau|   NOUN ADJ|    ms ms|\n",
      "|          4|wow fast delivery...|[PROPN, PROPN, NO...| english|[wow, fast, deliv...|       null|[en, en, en, en, ...|  5|         hijau ni|    ADJ DET|    ms ms|\n",
      "|          4|wow fast delivery...|[PROPN, PROPN, NO...| english|[wow, fast, deliv...|       null|[en, en, en, en, ...|  6|       ni serious|    DET ADV|    ms en|\n",
      "|          4|wow fast delivery...|[PROPN, PROPN, NO...| english|[wow, fast, deliv...|       null|[en, en, en, en, ...|  7|   serious cantik|    ADV ADJ|    en ms|\n",
      "|          4|wow fast delivery...|[PROPN, PROPN, NO...| english|[wow, fast, deliv...|       null|[en, en, en, en, ...|  8|      cantik kain|   ADJ NOUN|    ms ms|\n",
      "|          4|wow fast delivery...|[PROPN, PROPN, NO...| english|[wow, fast, deliv...|       null|[en, en, en, en, ...|  9|         kain pun|  NOUN PART|    ms ms|\n",
      "|          4|wow fast delivery...|[PROPN, PROPN, NO...| english|[wow, fast, deliv...|       null|[en, en, en, en, ...| 10|         pun best|   PART ADJ|    ms en|\n",
      "|          5|good product qual...|[PROPN, PROPN, PR...| english|[good, product, q...|       null|[en, en, en, en, ...|  0|     good product|PROPN PROPN|    en en|\n",
      "|          5|good product qual...|[PROPN, PROPN, PR...| english|[good, product, q...|       null|[en, en, en, en, ...|  1|  product quality|PROPN PROPN|    en en|\n",
      "|          5|good product qual...|[PROPN, PROPN, PR...| english|[good, product, q...|       null|[en, en, en, en, ...|  2|      quality and|PROPN CCONJ|    en en|\n",
      "|          5|good product qual...|[PROPN, PROPN, PR...| english|[good, product, q...|       null|[en, en, en, en, ...|  3|         and good|CCONJ PROPN|    en en|\n",
      "|          5|good product qual...|[PROPN, PROPN, PR...| english|[good, product, q...|       null|[en, en, en, en, ...|  4|       good value|PROPN PROPN|    en en|\n",
      "|          5|good product qual...|[PROPN, PROPN, PR...| english|[good, product, q...|       null|[en, en, en, en, ...|  5|        value for|  PROPN ADP|    en en|\n",
      "|          5|good product qual...|[PROPN, PROPN, PR...| english|[good, product, q...|       null|[en, en, en, en, ...|  6|       for moneyq|  ADP PROPN|    en en|\n",
      "|          5|good product qual...|[PROPN, PROPN, PR...| english|[good, product, q...|       null|[en, en, en, en, ...|  7|moneyq sellersori|PROPN PROPN|    en en|\n",
      "|          5|good product qual...|[PROPN, PROPN, PR...| english|[good, product, q...|       null|[en, en, en, en, ...|  8|sellersori gambar| PROPN NOUN|    en ms|\n",
      "|          5|good product qual...|[PROPN, PROPN, PR...| english|[good, product, q...|       null|[en, en, en, en, ...|  9|       gambar xde|  NOUN VERB|    ms en|\n",
      "|          5|good product qual...|[PROPN, PROPN, PR...| english|[good, product, q...|       null|[en, en, en, en, ...| 10|       xde kaitan|  VERB NOUN|    en ms|\n",
      "|          6|unrelated photo a...|[NOUN, NOUN, CCON...| english|[unrelated, photo...|       null|[en, en, en, en, ...|  0|  unrelated photo|  NOUN NOUN|    en en|\n",
      "|          6|unrelated photo a...|[NOUN, NOUN, CCON...| english|[unrelated, photo...|       null|[en, en, en, en, ...|  1|        photo and| NOUN CCONJ|    en en|\n",
      "|          6|unrelated photo a...|[NOUN, NOUN, CCON...| english|[unrelated, photo...|       null|[en, en, en, en, ...|  2|        and video| CCONJ NOUN|    en en|\n",
      "|          6|unrelated photo a...|[NOUN, NOUN, CCON...| english|[unrelated, photo...|       null|[en, en, en, en, ...|  3|        video but| NOUN CCONJ|    en en|\n",
      "|          6|unrelated photo a...|[NOUN, NOUN, CCON...| english|[unrelated, photo...|       null|[en, en, en, en, ...|  4|          but the|  CCONJ DET|    en en|\n",
      "|          6|unrelated photo a...|[NOUN, NOUN, CCON...| english|[unrelated, photo...|       null|[en, en, en, en, ...|  5|      the quality|   DET NOUN|    en en|\n",
      "|          6|unrelated photo a...|[NOUN, NOUN, CCON...| english|[unrelated, photo...|       null|[en, en, en, en, ...|  6|       quality is|  NOUN VERB|    en en|\n",
      "|          6|unrelated photo a...|[NOUN, NOUN, CCON...| english|[unrelated, photo...|       null|[en, en, en, en, ...|  7|        is really|   VERB ADV|    en en|\n",
      "|          6|unrelated photo a...|[NOUN, NOUN, CCON...| english|[unrelated, photo...|       null|[en, en, en, en, ...|  8|      really nice|    ADV ADJ|    en en|\n",
      "|          7|thank you seller ...|[VERB, PRON, NOUN...| english|[thank, you, sell...|       null|[en, en, en, en, ...|  0|        thank you|  VERB PRON|    en en|\n",
      "|          7|thank you seller ...|[VERB, PRON, NOUN...| english|[thank, you, sell...|       null|[en, en, en, en, ...|  1|       you seller|  PRON NOUN|    en en|\n",
      "|          7|thank you seller ...|[VERB, PRON, NOUN...| english|[thank, you, sell...|       null|[en, en, en, en, ...|  2|       seller for|   NOUN ADP|    en en|\n",
      "|          7|thank you seller ...|[VERB, PRON, NOUN...| english|[thank, you, sell...|       null|[en, en, en, en, ...|  3|          for the|    ADP DET|    en en|\n",
      "|          7|thank you seller ...|[VERB, PRON, NOUN...| english|[thank, you, sell...|       null|[en, en, en, en, ...|  4|         the fast|    DET ADJ|    en en|\n",
      "|          7|thank you seller ...|[VERB, PRON, NOUN...| english|[thank, you, sell...|       null|[en, en, en, en, ...|  5|    fast delivery|   ADJ NOUN|    en en|\n",
      "|          8|seller respon ama...|[NOUN, NOUN, ADV,...| english|[seller, respon, ...|       null|[en, en, ms, en, ...|  0|    seller respon|  NOUN NOUN|    en en|\n",
      "|          8|seller respon ama...|[NOUN, NOUN, ADV,...| english|[seller, respon, ...|       null|[en, en, ms, en, ...|  1|      respon amat|   NOUN ADV|    en ms|\n",
      "|          8|seller respon ama...|[NOUN, NOUN, ADV,...| english|[seller, respon, ...|       null|[en, en, ms, en, ...|  2|    amat baikmake|    ADV ADJ|    ms en|\n",
      "|          8|seller respon ama...|[NOUN, NOUN, ADV,...| english|[seller, respon, ...|       null|[en, en, ms, en, ...|  3|    baikmake sure|   ADJ NOUN|    en en|\n",
      "|          8|seller respon ama...|[NOUN, NOUN, ADV,...| english|[seller, respon, ...|       null|[en, en, ms, en, ...|  4|      sure seller|  NOUN NOUN|    en en|\n",
      "|          8|seller respon ama...|[NOUN, NOUN, ADV,...| english|[seller, respon, ...|       null|[en, en, ms, en, ...|  5|    seller online|   NOUN ADJ|    en en|\n",
      "|          8|seller respon ama...|[NOUN, NOUN, ADV,...| english|[seller, respon, ...|       null|[en, en, ms, en, ...|  6|    online status|   ADJ NOUN|    en ms|\n",
      "|          8|seller respon ama...|[NOUN, NOUN, ADV,...| english|[seller, respon, ...|       null|[en, en, ms, en, ...|  7|   status minutes|  NOUN NOUN|    ms en|\n",
      "|          8|seller respon ama...|[NOUN, NOUN, ADV,...| english|[seller, respon, ...|       null|[en, en, ms, en, ...|  8|      minutes bru|   NOUN ADV|    en ms|\n",
      "|          8|seller respon ama...|[NOUN, NOUN, ADV,...| english|[seller, respon, ...|       null|[en, en, ms, en, ...|  9|         bru beli|   ADV VERB|    ms ms|\n",
      "|          9|received thank yo...|[VERB, VERB, PRON...| english|[received, thank,...|       null|[en, en, en, en, ...|  0|   received thank|  VERB VERB|    en en|\n",
      "|          9|received thank yo...|[VERB, VERB, PRON...| english|[received, thank,...|       null|[en, en, en, en, ...|  1|        thank you|  VERB PRON|    en en|\n",
      "|          9|received thank yo...|[VERB, VERB, PRON...| english|[received, thank,...|       null|[en, en, en, en, ...|  2|           you so|   PRON ADV|    en en|\n",
      "|          9|received thank yo...|[VERB, VERB, PRON...| english|[received, thank,...|       null|[en, en, en, en, ...|  3|          so much|   ADV NOUN|    en en|\n",
      "|          9|received thank yo...|[VERB, VERB, PRON...| english|[received, thank,...|       null|[en, en, en, en, ...|  4|        much very|   NOUN ADJ|    en en|\n",
      "|          9|received thank yo...|[VERB, VERB, PRON...| english|[received, thank,...|       null|[en, en, en, en, ...|  5|        very good|   ADJ NOUN|    en en|\n",
      "|          9|received thank yo...|[VERB, VERB, PRON...| english|[received, thank,...|       null|[en, en, en, en, ...|  6|     good service|  NOUN NOUN|    en en|\n",
      "|          9|received thank yo...|[VERB, VERB, PRON...| english|[received, thank,...|       null|[en, en, en, en, ...|  7|      service the| NOUN PROPN|    en en|\n",
      "|          9|received thank yo...|[VERB, VERB, PRON...| english|[received, thank,...|       null|[en, en, en, en, ...|  8|       the wallet|PROPN PROPN|    en en|\n",
      "|          9|received thank yo...|[VERB, VERB, PRON...| english|[received, thank,...|       null|[en, en, en, en, ...|  9|      wallet very|  PROPN ADV|    en en|\n",
      "|          9|received thank yo...|[VERB, VERB, PRON...| english|[received, thank,...|       null|[en, en, en, en, ...| 10|        very nice|    ADV ADJ|    en en|\n",
      "|         10|thank you seller ...|[VERB, PRON, PROP...| english|[thank, you, sell...|       null|[en, en, en, en, ...|  0|        thank you|  VERB PRON|    en en|\n",
      "|         10|thank you seller ...|[VERB, PRON, PROP...| english|[thank, you, sell...|       null|[en, en, en, en, ...|  1|       you seller| PRON PROPN|    en en|\n",
      "|         10|thank you seller ...|[VERB, PRON, PROP...| english|[thank, you, sell...|       null|[en, en, en, en, ...|  2|       seller and|PROPN CCONJ|    en en|\n",
      "|         10|thank you seller ...|[VERB, PRON, PROP...| english|[thank, you, sell...|       null|[en, en, en, en, ...|  3|        and ninja|CCONJ PROPN|    en ms|\n",
      "+-----------+--------------------+--------------------+--------+--------------------+-----------+--------------------+---+-----------------+-----------+---------+\n",
      "only showing top 100 rows\n",
      "\n"
     ]
    }
   ],
   "source": [
    "from pyspark.sql.functions import arrays_zip, col, explode\n",
    "from pyspark.sql.window import Window\n",
    "from pyspark.sql.window import Window\n",
    "import pyspark.sql.functions as F\n",
    "t = n2.withColumn(\"tmp\", arrays_zip(\"token_gram\", \"tag_gram\", \"lang_gram\"))\\\n",
    ".select(\"sentence_id\", \"original\", \"tag\",\"language\", \"token\", \"chinese_tag\", \"language_pattern\",\"token\", F.posexplode(col(\"tmp\")))\\\n",
    ".select(\"sentence_id\", \"original\", \"tag\",\"language\", \"token\", \"chinese_tag\", \"language_pattern\", \"pos\",col(\"col.token_gram\"), col(\"col.tag_gram\"),  col(\"col.lang_gram\"))\n",
    "\n",
    "t.show(100)"
   ]
  },
  {
   "cell_type": "code",
   "execution_count": 18,
   "id": "b0117f50-b633-44c2-ad9a-462014031365",
   "metadata": {},
   "outputs": [
    {
     "name": "stderr",
     "output_type": "stream",
     "text": [
      "                                                                                \r"
     ]
    }
   ],
   "source": [
    "shutil.rmtree(\"ngramV2/N2_GRAM\")\n",
    "write_avro(t, \"ngramV2/N2_GRAM\")"
   ]
  },
  {
   "cell_type": "markdown",
   "id": "4201e6a3-1956-4f6d-b51e-004d2ab1bef1",
   "metadata": {},
   "source": [
    "### Create tri-gram"
   ]
  },
  {
   "cell_type": "code",
   "execution_count": 22,
   "id": "16eb0b3b-cc34-49a0-8bbd-39cf92a74ff8",
   "metadata": {},
   "outputs": [],
   "source": [
    "tokenNgram =NGram(n=3, inputCol=\"token\", outputCol=\"token_gram\")\n",
    "tagNgram =NGram(n=3, inputCol=\"tag\", outputCol=\"tag_gram\")\n",
    "langNgram =NGram(n=3, inputCol=\"language_pattern\", outputCol=\"lang_gram\")"
   ]
  },
  {
   "cell_type": "code",
   "execution_count": 23,
   "id": "bb1d3fa6-00da-4bcd-afbd-9564f0326e4d",
   "metadata": {},
   "outputs": [],
   "source": [
    "n = tokenNgram.transform(a)\n",
    "n = tagNgram.transform(n)\n",
    "n = langNgram.transform(n)"
   ]
  },
  {
   "cell_type": "code",
   "execution_count": 24,
   "id": "8cd1d16c-9dce-456f-a510-39763bc86dfb",
   "metadata": {
    "collapsed": true,
    "jupyter": {
     "outputs_hidden": true
    },
    "tags": []
   },
   "outputs": [
    {
     "name": "stdout",
     "output_type": "stream",
     "text": [
      "+-----------+--------------------+--------------------+--------+--------------------+-----------+--------------------+---+--------------------+-----------------+---------+\n",
      "|sentence_id|            original|                 tag|language|               token|chinese_tag|    language_pattern|pos|          token_gram|         tag_gram|lang_gram|\n",
      "+-----------+--------------------+--------------------+--------+--------------------+-----------+--------------------+---+--------------------+-----------------+---------+\n",
      "|          0|taste nice better...|[NOUN, ADJ, ADJ, ...| english|[taste, nice, bet...|       null|[en, en, en, en, ...|  0|   taste nice better|     NOUN ADJ ADJ| en en en|\n",
      "|          0|taste nice better...|[NOUN, ADJ, ADJ, ...| english|[taste, nice, bet...|       null|[en, en, en, en, ...|  1|    nice better than|     ADJ ADJ VERB| en en en|\n",
      "|          0|taste nice better...|[NOUN, ADJ, ADJ, ...| english|[taste, nice, bet...|       null|[en, en, en, en, ...|  2|   better than maggi|    ADJ VERB NOUN| en en en|\n",
      "|          0|taste nice better...|[NOUN, ADJ, ADJ, ...| english|[taste, nice, bet...|       null|[en, en, en, en, ...|  3|      than maggi mee|  VERB NOUN PROPN| en en en|\n",
      "|          0|taste nice better...|[NOUN, ADJ, ADJ, ...| english|[taste, nice, bet...|       null|[en, en, en, en, ...|  4|      maggi mee more|  NOUN PROPN NOUN| en en en|\n",
      "|          0|taste nice better...|[NOUN, ADJ, ADJ, ...| english|[taste, nice, bet...|       null|[en, en, en, en, ...|  5|    mee more healthy|   PROPN NOUN ADJ| en en en|\n",
      "|          1|barang sampai den...|[NOUN, ADP, ADP, ...| english|[barang, sampai, ...|       null|[ms, ms, ms, ms, ...|  0|barang sampai dengan|     NOUN ADP ADP| ms ms ms|\n",
      "|          1|barang sampai den...|[NOUN, ADP, ADP, ...| english|[barang, sampai, ...|       null|[ms, ms, ms, ms, ...|  1|  sampai dengan baik|      ADP ADP ADJ| ms ms ms|\n",
      "|          1|barang sampai den...|[NOUN, ADP, ADP, ...| english|[barang, sampai, ...|       null|[ms, ms, ms, ms, ...|  2|dengan baik thankyou|     ADP ADJ NOUN| ms ms en|\n",
      "|          1|barang sampai den...|[NOUN, ADP, ADP, ...| english|[barang, sampai, ...|       null|[ms, ms, ms, ms, ...|  3|baik thankyou seller|    ADJ NOUN NOUN| ms en en|\n",
      "|          1|barang sampai den...|[NOUN, ADP, ADP, ...| english|[barang, sampai, ...|       null|[ms, ms, ms, ms, ...|  4|   thankyou seller i|   NOUN NOUN PRON| en en ms|\n",
      "|          1|barang sampai den...|[NOUN, ADP, ADP, ...| english|[barang, sampai, ...|       null|[ms, ms, ms, ms, ...|  5|       seller i love|   NOUN PRON VERB| en ms en|\n",
      "|          1|barang sampai den...|[NOUN, ADP, ADP, ...| english|[barang, sampai, ...|       null|[ms, ms, ms, ms, ...|  6|           i love it|   PRON VERB PRON| ms en en|\n",
      "|          1|barang sampai den...|[NOUN, ADP, ADP, ...| english|[barang, sampai, ...|       null|[ms, ms, ms, ms, ...|  7|     love it thankss|   VERB PRON NOUN| en en en|\n",
      "|          2|to seller thanks ...|[ADP, NOUN, NOUN,...| english|[to, seller, than...|       null|[en, en, en, en, ...|  0|    to seller thanks|    ADP NOUN NOUN| en en en|\n",
      "|          2|to seller thanks ...|[ADP, NOUN, NOUN,...| english|[to, seller, than...|       null|[en, en, en, en, ...|  1|   seller thanks for|    NOUN NOUN ADP| en en en|\n",
      "|          2|to seller thanks ...|[ADP, NOUN, NOUN,...| english|[to, seller, than...|       null|[en, en, en, en, ...|  2|      thanks for the|     NOUN ADP DET| en en en|\n",
      "|          2|to seller thanks ...|[ADP, NOUN, NOUN,...| english|[to, seller, than...|       null|[en, en, en, en, ...|  3|       for the first|     ADP DET NOUN| en en en|\n",
      "|          2|to seller thanks ...|[ADP, NOUN, NOUN,...| english|[to, seller, than...|       null|[en, en, en, en, ...|  4|      the first time|    DET NOUN NOUN| en en en|\n",
      "|          2|to seller thanks ...|[ADP, NOUN, NOUN,...| english|[to, seller, than...|       null|[en, en, en, en, ...|  5|first time hihahi...|   NOUN NOUN NOUN| en en ms|\n",
      "|          3|thank you seller ...|[VERB, PRON, NOUN...| english|[thank, you, sell...|       null|[en, en, en, en, ...|  0|    thank you seller|   VERB PRON NOUN| en en en|\n",
      "|          3|thank you seller ...|[VERB, PRON, NOUN...| english|[thank, you, sell...|       null|[en, en, en, en, ...|  1|      you seller may|  PRON NOUN PROPN| en en en|\n",
      "|          3|thank you seller ...|[VERB, PRON, NOUN...| english|[thank, you, sell...|       null|[en, en, en, en, ...|  2|      seller may buy|  NOUN PROPN VERB| en en en|\n",
      "|          3|thank you seller ...|[VERB, PRON, NOUN...| english|[thank, you, sell...|       null|[en, en, en, en, ...|  3|       may buy again|   PROPN VERB ADV| en en en|\n",
      "|          3|thank you seller ...|[VERB, PRON, NOUN...| english|[thank, you, sell...|       null|[en, en, en, en, ...|  4|        buy again if|   VERB ADV SCONJ| en en en|\n",
      "|          3|thank you seller ...|[VERB, PRON, NOUN...| english|[thank, you, sell...|       null|[en, en, en, en, ...|  5|      again if proof|  ADV SCONJ PROPN| en en en|\n",
      "|          3|thank you seller ...|[VERB, PRON, NOUN...| english|[thank, you, sell...|       null|[en, en, en, en, ...|  6|         if proof to|  SCONJ PROPN ADP| en en en|\n",
      "|          3|thank you seller ...|[VERB, PRON, NOUN...| english|[thank, you, sell...|       null|[en, en, en, en, ...|  7|         proof to be|   PROPN ADP VERB| en en ms|\n",
      "|          3|thank you seller ...|[VERB, PRON, NOUN...| english|[thank, you, sell...|       null|[en, en, en, en, ...|  8|       to be durable|     ADP VERB ADJ| en ms en|\n",
      "|          3|thank you seller ...|[VERB, PRON, NOUN...| english|[thank, you, sell...|       null|[en, en, en, en, ...|  9|    be durable after|     VERB ADJ ADP| ms en en|\n",
      "|          3|thank you seller ...|[VERB, PRON, NOUN...| english|[thank, you, sell...|       null|[en, en, en, en, ...| 10|  durable after some|      ADJ ADP DET| en en en|\n",
      "|          3|thank you seller ...|[VERB, PRON, NOUN...| english|[thank, you, sell...|       null|[en, en, en, en, ...| 11|     after some time|     ADP DET NOUN| en en en|\n",
      "|          3|thank you seller ...|[VERB, PRON, NOUN...| english|[thank, you, sell...|       null|[en, en, en, en, ...| 12|        some time in|     DET NOUN ADP| en en en|\n",
      "|          3|thank you seller ...|[VERB, PRON, NOUN...| english|[thank, you, sell...|       null|[en, en, en, en, ...| 13|         time in use|    NOUN ADP VERB| en en en|\n",
      "|          4|wow fast delivery...|[PROPN, PROPN, NO...| english|[wow, fast, deliv...|       null|[en, en, en, en, ...|  0|   wow fast delivery| PROPN PROPN NOUN| en en en|\n",
      "|          4|wow fast delivery...|[PROPN, PROPN, NO...| english|[wow, fast, deliv...|       null|[en, en, en, en, ...|  1| fast delivery kayhh|  PROPN NOUN NOUN| en en en|\n",
      "|          4|wow fast delivery...|[PROPN, PROPN, NO...| english|[wow, fast, deliv...|       null|[en, en, en, en, ...|  2| delivery kayhh baju|   NOUN NOUN NOUN| en en ms|\n",
      "|          4|wow fast delivery...|[PROPN, PROPN, NO...| english|[wow, fast, deliv...|       null|[en, en, en, en, ...|  3|    kayhh baju hijau|    NOUN NOUN ADJ| en ms ms|\n",
      "|          4|wow fast delivery...|[PROPN, PROPN, NO...| english|[wow, fast, deliv...|       null|[en, en, en, en, ...|  4|       baju hijau ni|     NOUN ADJ DET| ms ms ms|\n",
      "|          4|wow fast delivery...|[PROPN, PROPN, NO...| english|[wow, fast, deliv...|       null|[en, en, en, en, ...|  5|    hijau ni serious|      ADJ DET ADV| ms ms en|\n",
      "|          4|wow fast delivery...|[PROPN, PROPN, NO...| english|[wow, fast, deliv...|       null|[en, en, en, en, ...|  6|   ni serious cantik|      DET ADV ADJ| ms en ms|\n",
      "|          4|wow fast delivery...|[PROPN, PROPN, NO...| english|[wow, fast, deliv...|       null|[en, en, en, en, ...|  7| serious cantik kain|     ADV ADJ NOUN| en ms ms|\n",
      "|          4|wow fast delivery...|[PROPN, PROPN, NO...| english|[wow, fast, deliv...|       null|[en, en, en, en, ...|  8|     cantik kain pun|    ADJ NOUN PART| ms ms ms|\n",
      "|          4|wow fast delivery...|[PROPN, PROPN, NO...| english|[wow, fast, deliv...|       null|[en, en, en, en, ...|  9|       kain pun best|    NOUN PART ADJ| ms ms en|\n",
      "|          5|good product qual...|[PROPN, PROPN, PR...| english|[good, product, q...|       null|[en, en, en, en, ...|  0|good product quality|PROPN PROPN PROPN| en en en|\n",
      "|          5|good product qual...|[PROPN, PROPN, PR...| english|[good, product, q...|       null|[en, en, en, en, ...|  1| product quality and|PROPN PROPN CCONJ| en en en|\n",
      "|          5|good product qual...|[PROPN, PROPN, PR...| english|[good, product, q...|       null|[en, en, en, en, ...|  2|    quality and good|PROPN CCONJ PROPN| en en en|\n",
      "|          5|good product qual...|[PROPN, PROPN, PR...| english|[good, product, q...|       null|[en, en, en, en, ...|  3|      and good value|CCONJ PROPN PROPN| en en en|\n",
      "|          5|good product qual...|[PROPN, PROPN, PR...| english|[good, product, q...|       null|[en, en, en, en, ...|  4|      good value for|  PROPN PROPN ADP| en en en|\n",
      "|          5|good product qual...|[PROPN, PROPN, PR...| english|[good, product, q...|       null|[en, en, en, en, ...|  5|    value for moneyq|  PROPN ADP PROPN| en en en|\n",
      "|          5|good product qual...|[PROPN, PROPN, PR...| english|[good, product, q...|       null|[en, en, en, en, ...|  6|for moneyq seller...|  ADP PROPN PROPN| en en en|\n",
      "|          5|good product qual...|[PROPN, PROPN, PR...| english|[good, product, q...|       null|[en, en, en, en, ...|  7|moneyq sellersori...| PROPN PROPN NOUN| en en ms|\n",
      "|          5|good product qual...|[PROPN, PROPN, PR...| english|[good, product, q...|       null|[en, en, en, en, ...|  8|sellersori gambar...|  PROPN NOUN VERB| en ms en|\n",
      "|          5|good product qual...|[PROPN, PROPN, PR...| english|[good, product, q...|       null|[en, en, en, en, ...|  9|   gambar xde kaitan|   NOUN VERB NOUN| ms en ms|\n",
      "|          6|unrelated photo a...|[NOUN, NOUN, CCON...| english|[unrelated, photo...|       null|[en, en, en, en, ...|  0| unrelated photo and|  NOUN NOUN CCONJ| en en en|\n",
      "|          6|unrelated photo a...|[NOUN, NOUN, CCON...| english|[unrelated, photo...|       null|[en, en, en, en, ...|  1|     photo and video|  NOUN CCONJ NOUN| en en en|\n",
      "|          6|unrelated photo a...|[NOUN, NOUN, CCON...| english|[unrelated, photo...|       null|[en, en, en, en, ...|  2|       and video but| CCONJ NOUN CCONJ| en en en|\n",
      "|          6|unrelated photo a...|[NOUN, NOUN, CCON...| english|[unrelated, photo...|       null|[en, en, en, en, ...|  3|       video but the|   NOUN CCONJ DET| en en en|\n",
      "|          6|unrelated photo a...|[NOUN, NOUN, CCON...| english|[unrelated, photo...|       null|[en, en, en, en, ...|  4|     but the quality|   CCONJ DET NOUN| en en en|\n",
      "|          6|unrelated photo a...|[NOUN, NOUN, CCON...| english|[unrelated, photo...|       null|[en, en, en, en, ...|  5|      the quality is|    DET NOUN VERB| en en en|\n",
      "|          6|unrelated photo a...|[NOUN, NOUN, CCON...| english|[unrelated, photo...|       null|[en, en, en, en, ...|  6|   quality is really|    NOUN VERB ADV| en en en|\n",
      "|          6|unrelated photo a...|[NOUN, NOUN, CCON...| english|[unrelated, photo...|       null|[en, en, en, en, ...|  7|      is really nice|     VERB ADV ADJ| en en en|\n",
      "|          7|thank you seller ...|[VERB, PRON, NOUN...| english|[thank, you, sell...|       null|[en, en, en, en, ...|  0|    thank you seller|   VERB PRON NOUN| en en en|\n",
      "|          7|thank you seller ...|[VERB, PRON, NOUN...| english|[thank, you, sell...|       null|[en, en, en, en, ...|  1|      you seller for|    PRON NOUN ADP| en en en|\n",
      "|          7|thank you seller ...|[VERB, PRON, NOUN...| english|[thank, you, sell...|       null|[en, en, en, en, ...|  2|      seller for the|     NOUN ADP DET| en en en|\n",
      "|          7|thank you seller ...|[VERB, PRON, NOUN...| english|[thank, you, sell...|       null|[en, en, en, en, ...|  3|        for the fast|      ADP DET ADJ| en en en|\n",
      "|          7|thank you seller ...|[VERB, PRON, NOUN...| english|[thank, you, sell...|       null|[en, en, en, en, ...|  4|   the fast delivery|     DET ADJ NOUN| en en en|\n",
      "|          8|seller respon ama...|[NOUN, NOUN, ADV,...| english|[seller, respon, ...|       null|[en, en, ms, en, ...|  0|  seller respon amat|    NOUN NOUN ADV| en en ms|\n",
      "|          8|seller respon ama...|[NOUN, NOUN, ADV,...| english|[seller, respon, ...|       null|[en, en, ms, en, ...|  1|respon amat baikmake|     NOUN ADV ADJ| en ms en|\n",
      "|          8|seller respon ama...|[NOUN, NOUN, ADV,...| english|[seller, respon, ...|       null|[en, en, ms, en, ...|  2|  amat baikmake sure|     ADV ADJ NOUN| ms en en|\n",
      "|          8|seller respon ama...|[NOUN, NOUN, ADV,...| english|[seller, respon, ...|       null|[en, en, ms, en, ...|  3|baikmake sure seller|    ADJ NOUN NOUN| en en en|\n",
      "|          8|seller respon ama...|[NOUN, NOUN, ADV,...| english|[seller, respon, ...|       null|[en, en, ms, en, ...|  4|  sure seller online|    NOUN NOUN ADJ| en en en|\n",
      "|          8|seller respon ama...|[NOUN, NOUN, ADV,...| english|[seller, respon, ...|       null|[en, en, ms, en, ...|  5|seller online status|    NOUN ADJ NOUN| en en ms|\n",
      "|          8|seller respon ama...|[NOUN, NOUN, ADV,...| english|[seller, respon, ...|       null|[en, en, ms, en, ...|  6|online status min...|    ADJ NOUN NOUN| en ms en|\n",
      "|          8|seller respon ama...|[NOUN, NOUN, ADV,...| english|[seller, respon, ...|       null|[en, en, ms, en, ...|  7|  status minutes bru|    NOUN NOUN ADV| ms en ms|\n",
      "|          8|seller respon ama...|[NOUN, NOUN, ADV,...| english|[seller, respon, ...|       null|[en, en, ms, en, ...|  8|    minutes bru beli|    NOUN ADV VERB| en ms ms|\n",
      "|          9|received thank yo...|[VERB, VERB, PRON...| english|[received, thank,...|       null|[en, en, en, en, ...|  0|  received thank you|   VERB VERB PRON| en en en|\n",
      "|          9|received thank yo...|[VERB, VERB, PRON...| english|[received, thank,...|       null|[en, en, en, en, ...|  1|        thank you so|    VERB PRON ADV| en en en|\n",
      "|          9|received thank yo...|[VERB, VERB, PRON...| english|[received, thank,...|       null|[en, en, en, en, ...|  2|         you so much|    PRON ADV NOUN| en en en|\n",
      "|          9|received thank yo...|[VERB, VERB, PRON...| english|[received, thank,...|       null|[en, en, en, en, ...|  3|        so much very|     ADV NOUN ADJ| en en en|\n",
      "|          9|received thank yo...|[VERB, VERB, PRON...| english|[received, thank,...|       null|[en, en, en, en, ...|  4|      much very good|    NOUN ADJ NOUN| en en en|\n",
      "|          9|received thank yo...|[VERB, VERB, PRON...| english|[received, thank,...|       null|[en, en, en, en, ...|  5|   very good service|    ADJ NOUN NOUN| en en en|\n",
      "|          9|received thank yo...|[VERB, VERB, PRON...| english|[received, thank,...|       null|[en, en, en, en, ...|  6|    good service the|  NOUN NOUN PROPN| en en en|\n",
      "|          9|received thank yo...|[VERB, VERB, PRON...| english|[received, thank,...|       null|[en, en, en, en, ...|  7|  service the wallet| NOUN PROPN PROPN| en en en|\n",
      "|          9|received thank yo...|[VERB, VERB, PRON...| english|[received, thank,...|       null|[en, en, en, en, ...|  8|     the wallet very|  PROPN PROPN ADV| en en en|\n",
      "|          9|received thank yo...|[VERB, VERB, PRON...| english|[received, thank,...|       null|[en, en, en, en, ...|  9|    wallet very nice|    PROPN ADV ADJ| en en en|\n",
      "|         10|thank you seller ...|[VERB, PRON, PROP...| english|[thank, you, sell...|       null|[en, en, en, en, ...|  0|    thank you seller|  VERB PRON PROPN| en en en|\n",
      "|         10|thank you seller ...|[VERB, PRON, PROP...| english|[thank, you, sell...|       null|[en, en, en, en, ...|  1|      you seller and| PRON PROPN CCONJ| en en en|\n",
      "|         10|thank you seller ...|[VERB, PRON, PROP...| english|[thank, you, sell...|       null|[en, en, en, en, ...|  2|    seller and ninja|PROPN CCONJ PROPN| en en ms|\n",
      "|         10|thank you seller ...|[VERB, PRON, PROP...| english|[thank, you, sell...|       null|[en, en, en, en, ...|  3|   and ninja express| CCONJ PROPN VERB| en ms en|\n",
      "|         10|thank you seller ...|[VERB, PRON, PROP...| english|[thank, you, sell...|       null|[en, en, en, en, ...|  4|   ninja express for|   PROPN VERB ADP| ms en en|\n",
      "|         10|thank you seller ...|[VERB, PRON, PROP...| english|[thank, you, sell...|       null|[en, en, en, en, ...|  5|express for deliv...|    VERB ADP NOUN| en en en|\n",
      "|         11|beli masa jovian ...|[VERB, NOUN, NOUN...| english|[beli, masa, jovi...|       null|[ms, ms, ms, ms, ...|  0|    beli masa jovian|   VERB NOUN NOUN| ms ms ms|\n",
      "|         11|beli masa jovian ...|[VERB, NOUN, NOUN...| english|[beli, masa, jovi...|       null|[ms, ms, ms, ms, ...|  1|    masa jovian buat|   NOUN NOUN VERB| ms ms ms|\n",
      "|         11|beli masa jovian ...|[VERB, NOUN, NOUN...| english|[beli, masa, jovi...|       null|[ms, ms, ms, ms, ...|  2|jovian buat clear...|   NOUN VERB NOUN| ms ms en|\n",
      "|         11|beli masa jovian ...|[VERB, NOUN, NOUN...| english|[beli, masa, jovi...|       null|[ms, ms, ms, ms, ...|  3| buat clearnace sale|   VERB NOUN NOUN| ms en en|\n",
      "|         11|beli masa jovian ...|[VERB, NOUN, NOUN...| english|[beli, masa, jovi...|       null|[ms, ms, ms, ms, ...|  4|clearnace sale using|   NOUN NOUN VERB| en en en|\n",
      "|         11|beli masa jovian ...|[VERB, NOUN, NOUN...| english|[beli, masa, jovi...|       null|[ms, ms, ms, ms, ...|  5|  sale using voucher|   NOUN VERB NOUN| en en en|\n",
      "|         11|beli masa jovian ...|[VERB, NOUN, NOUN...| english|[beli, masa, jovi...|       null|[ms, ms, ms, ms, ...|  6| using voucher murah|    VERB NOUN ADJ| en en ms|\n",
      "|         11|beli masa jovian ...|[VERB, NOUN, NOUN...| english|[beli, masa, jovi...|       null|[ms, ms, ms, ms, ...|  7|voucher murah gil...|    NOUN ADJ NOUN| en ms en|\n",
      "+-----------+--------------------+--------------------+--------+--------------------+-----------+--------------------+---+--------------------+-----------------+---------+\n",
      "only showing top 100 rows\n",
      "\n"
     ]
    }
   ],
   "source": [
    "from pyspark.sql.functions import arrays_zip, col, explode\n",
    "from pyspark.sql.window import Window\n",
    "from pyspark.sql.window import Window\n",
    "import pyspark.sql.functions as F\n",
    "t = n.withColumn(\"tmp\", arrays_zip(\"token_gram\", \"tag_gram\", \"lang_gram\"))\\\n",
    ".select(\"sentence_id\", \"original\", \"tag\",\"language\", \"token\", \"chinese_tag\", \"language_pattern\",\"token\", F.posexplode(col(\"tmp\")))\\\n",
    ".select(\"sentence_id\", \"original\", \"tag\",\"language\", \"token\", \"chinese_tag\", \"language_pattern\", \"pos\",col(\"col.token_gram\"), col(\"col.tag_gram\"),  col(\"col.lang_gram\"))\n",
    "\n",
    "t.show(100)"
   ]
  },
  {
   "cell_type": "code",
   "execution_count": 25,
   "id": "9bdfa310-a481-4f65-a693-7b1718893f2f",
   "metadata": {},
   "outputs": [
    {
     "name": "stderr",
     "output_type": "stream",
     "text": [
      "                                                                                \r"
     ]
    }
   ],
   "source": [
    "shutil.rmtree(\"ngramV2/N3_GRAM\")\n",
    "write_avro(t, \"ngramV2/N3_GRAM\")"
   ]
  },
  {
   "cell_type": "markdown",
   "id": "d2a30a66-8cfc-487f-b002-6f4cba99e75c",
   "metadata": {},
   "source": [
    "### Create 4-gram"
   ]
  },
  {
   "cell_type": "code",
   "execution_count": 28,
   "id": "6832e55d-d15a-463f-a44d-e35842808ac1",
   "metadata": {},
   "outputs": [],
   "source": [
    "tokenNgram =NGram(n=4, inputCol=\"token\", outputCol=\"token_gram\")\n",
    "tagNgram =NGram(n=4, inputCol=\"tag\", outputCol=\"tag_gram\")\n",
    "langNgram =NGram(n=4, inputCol=\"language_pattern\", outputCol=\"lang_gram\")"
   ]
  },
  {
   "cell_type": "code",
   "execution_count": 29,
   "id": "342c5c1f-3f85-4d95-b761-1048fc590e17",
   "metadata": {},
   "outputs": [],
   "source": [
    "n = tokenNgram.transform(a)\n",
    "n = tagNgram.transform(n)\n",
    "n = langNgram.transform(n)"
   ]
  },
  {
   "cell_type": "code",
   "execution_count": 30,
   "id": "0fac2595-1cfc-460e-9cf6-9448ef9fb335",
   "metadata": {
    "collapsed": true,
    "jupyter": {
     "outputs_hidden": true
    },
    "tags": []
   },
   "outputs": [
    {
     "name": "stdout",
     "output_type": "stream",
     "text": [
      "+-----------+--------------------+--------------------+--------+--------------------+-----------+--------------------+---+--------------------+--------------------+-----------+\n",
      "|sentence_id|            original|                 tag|language|               token|chinese_tag|    language_pattern|pos|          token_gram|            tag_gram|  lang_gram|\n",
      "+-----------+--------------------+--------------------+--------+--------------------+-----------+--------------------+---+--------------------+--------------------+-----------+\n",
      "|          0|taste nice better...|[NOUN, ADJ, ADJ, ...| english|[taste, nice, bet...|       null|[en, en, en, en, ...|  0|taste nice better...|   NOUN ADJ ADJ VERB|en en en en|\n",
      "|          0|taste nice better...|[NOUN, ADJ, ADJ, ...| english|[taste, nice, bet...|       null|[en, en, en, en, ...|  1|nice better than ...|   ADJ ADJ VERB NOUN|en en en en|\n",
      "|          0|taste nice better...|[NOUN, ADJ, ADJ, ...| english|[taste, nice, bet...|       null|[en, en, en, en, ...|  2|better than maggi...| ADJ VERB NOUN PROPN|en en en en|\n",
      "|          0|taste nice better...|[NOUN, ADJ, ADJ, ...| english|[taste, nice, bet...|       null|[en, en, en, en, ...|  3| than maggi mee more|VERB NOUN PROPN NOUN|en en en en|\n",
      "|          0|taste nice better...|[NOUN, ADJ, ADJ, ...| english|[taste, nice, bet...|       null|[en, en, en, en, ...|  4|maggi mee more he...| NOUN PROPN NOUN ADJ|en en en en|\n",
      "|          1|barang sampai den...|[NOUN, ADP, ADP, ...| english|[barang, sampai, ...|       null|[ms, ms, ms, ms, ...|  0|barang sampai den...|    NOUN ADP ADP ADJ|ms ms ms ms|\n",
      "|          1|barang sampai den...|[NOUN, ADP, ADP, ...| english|[barang, sampai, ...|       null|[ms, ms, ms, ms, ...|  1|sampai dengan bai...|    ADP ADP ADJ NOUN|ms ms ms en|\n",
      "|          1|barang sampai den...|[NOUN, ADP, ADP, ...| english|[barang, sampai, ...|       null|[ms, ms, ms, ms, ...|  2|dengan baik thank...|   ADP ADJ NOUN NOUN|ms ms en en|\n",
      "|          1|barang sampai den...|[NOUN, ADP, ADP, ...| english|[barang, sampai, ...|       null|[ms, ms, ms, ms, ...|  3|baik thankyou sel...|  ADJ NOUN NOUN PRON|ms en en ms|\n",
      "|          1|barang sampai den...|[NOUN, ADP, ADP, ...| english|[barang, sampai, ...|       null|[ms, ms, ms, ms, ...|  4|thankyou seller i...| NOUN NOUN PRON VERB|en en ms en|\n",
      "|          1|barang sampai den...|[NOUN, ADP, ADP, ...| english|[barang, sampai, ...|       null|[ms, ms, ms, ms, ...|  5|    seller i love it| NOUN PRON VERB PRON|en ms en en|\n",
      "|          1|barang sampai den...|[NOUN, ADP, ADP, ...| english|[barang, sampai, ...|       null|[ms, ms, ms, ms, ...|  6|   i love it thankss| PRON VERB PRON NOUN|ms en en en|\n",
      "|          2|to seller thanks ...|[ADP, NOUN, NOUN,...| english|[to, seller, than...|       null|[en, en, en, en, ...|  0|to seller thanks for|   ADP NOUN NOUN ADP|en en en en|\n",
      "|          2|to seller thanks ...|[ADP, NOUN, NOUN,...| english|[to, seller, than...|       null|[en, en, en, en, ...|  1|seller thanks for...|   NOUN NOUN ADP DET|en en en en|\n",
      "|          2|to seller thanks ...|[ADP, NOUN, NOUN,...| english|[to, seller, than...|       null|[en, en, en, en, ...|  2|thanks for the first|   NOUN ADP DET NOUN|en en en en|\n",
      "|          2|to seller thanks ...|[ADP, NOUN, NOUN,...| english|[to, seller, than...|       null|[en, en, en, en, ...|  3|  for the first time|   ADP DET NOUN NOUN|en en en en|\n",
      "|          2|to seller thanks ...|[ADP, NOUN, NOUN,...| english|[to, seller, than...|       null|[en, en, en, en, ...|  4|the first time hi...|  DET NOUN NOUN NOUN|en en en ms|\n",
      "|          3|thank you seller ...|[VERB, PRON, NOUN...| english|[thank, you, sell...|       null|[en, en, en, en, ...|  0|thank you seller may|VERB PRON NOUN PROPN|en en en en|\n",
      "|          3|thank you seller ...|[VERB, PRON, NOUN...| english|[thank, you, sell...|       null|[en, en, en, en, ...|  1|  you seller may buy|PRON NOUN PROPN VERB|en en en en|\n",
      "|          3|thank you seller ...|[VERB, PRON, NOUN...| english|[thank, you, sell...|       null|[en, en, en, en, ...|  2|seller may buy again| NOUN PROPN VERB ADV|en en en en|\n",
      "|          3|thank you seller ...|[VERB, PRON, NOUN...| english|[thank, you, sell...|       null|[en, en, en, en, ...|  3|    may buy again if|PROPN VERB ADV SCONJ|en en en en|\n",
      "|          3|thank you seller ...|[VERB, PRON, NOUN...| english|[thank, you, sell...|       null|[en, en, en, en, ...|  4|  buy again if proof|VERB ADV SCONJ PROPN|en en en en|\n",
      "|          3|thank you seller ...|[VERB, PRON, NOUN...| english|[thank, you, sell...|       null|[en, en, en, en, ...|  5|   again if proof to| ADV SCONJ PROPN ADP|en en en en|\n",
      "|          3|thank you seller ...|[VERB, PRON, NOUN...| english|[thank, you, sell...|       null|[en, en, en, en, ...|  6|      if proof to be|SCONJ PROPN ADP VERB|en en en ms|\n",
      "|          3|thank you seller ...|[VERB, PRON, NOUN...| english|[thank, you, sell...|       null|[en, en, en, en, ...|  7| proof to be durable|  PROPN ADP VERB ADJ|en en ms en|\n",
      "|          3|thank you seller ...|[VERB, PRON, NOUN...| english|[thank, you, sell...|       null|[en, en, en, en, ...|  8| to be durable after|    ADP VERB ADJ ADP|en ms en en|\n",
      "|          3|thank you seller ...|[VERB, PRON, NOUN...| english|[thank, you, sell...|       null|[en, en, en, en, ...|  9|be durable after ...|    VERB ADJ ADP DET|ms en en en|\n",
      "|          3|thank you seller ...|[VERB, PRON, NOUN...| english|[thank, you, sell...|       null|[en, en, en, en, ...| 10|durable after som...|    ADJ ADP DET NOUN|en en en en|\n",
      "|          3|thank you seller ...|[VERB, PRON, NOUN...| english|[thank, you, sell...|       null|[en, en, en, en, ...| 11|  after some time in|    ADP DET NOUN ADP|en en en en|\n",
      "|          3|thank you seller ...|[VERB, PRON, NOUN...| english|[thank, you, sell...|       null|[en, en, en, en, ...| 12|    some time in use|   DET NOUN ADP VERB|en en en en|\n",
      "|          4|wow fast delivery...|[PROPN, PROPN, NO...| english|[wow, fast, deliv...|       null|[en, en, en, en, ...|  0|wow fast delivery...|PROPN PROPN NOUN ...|en en en en|\n",
      "|          4|wow fast delivery...|[PROPN, PROPN, NO...| english|[wow, fast, deliv...|       null|[en, en, en, en, ...|  1|fast delivery kay...|PROPN NOUN NOUN NOUN|en en en ms|\n",
      "|          4|wow fast delivery...|[PROPN, PROPN, NO...| english|[wow, fast, deliv...|       null|[en, en, en, en, ...|  2|delivery kayhh ba...|  NOUN NOUN NOUN ADJ|en en ms ms|\n",
      "|          4|wow fast delivery...|[PROPN, PROPN, NO...| english|[wow, fast, deliv...|       null|[en, en, en, en, ...|  3| kayhh baju hijau ni|   NOUN NOUN ADJ DET|en ms ms ms|\n",
      "|          4|wow fast delivery...|[PROPN, PROPN, NO...| english|[wow, fast, deliv...|       null|[en, en, en, en, ...|  4|baju hijau ni ser...|    NOUN ADJ DET ADV|ms ms ms en|\n",
      "|          4|wow fast delivery...|[PROPN, PROPN, NO...| english|[wow, fast, deliv...|       null|[en, en, en, en, ...|  5|hijau ni serious ...|     ADJ DET ADV ADJ|ms ms en ms|\n",
      "|          4|wow fast delivery...|[PROPN, PROPN, NO...| english|[wow, fast, deliv...|       null|[en, en, en, en, ...|  6|ni serious cantik...|    DET ADV ADJ NOUN|ms en ms ms|\n",
      "|          4|wow fast delivery...|[PROPN, PROPN, NO...| english|[wow, fast, deliv...|       null|[en, en, en, en, ...|  7|serious cantik ka...|   ADV ADJ NOUN PART|en ms ms ms|\n",
      "|          4|wow fast delivery...|[PROPN, PROPN, NO...| english|[wow, fast, deliv...|       null|[en, en, en, en, ...|  8|cantik kain pun best|   ADJ NOUN PART ADJ|ms ms ms en|\n",
      "|          5|good product qual...|[PROPN, PROPN, PR...| english|[good, product, q...|       null|[en, en, en, en, ...|  0|good product qual...|PROPN PROPN PROPN...|en en en en|\n",
      "|          5|good product qual...|[PROPN, PROPN, PR...| english|[good, product, q...|       null|[en, en, en, en, ...|  1|product quality a...|PROPN PROPN CCONJ...|en en en en|\n",
      "|          5|good product qual...|[PROPN, PROPN, PR...| english|[good, product, q...|       null|[en, en, en, en, ...|  2|quality and good ...|PROPN CCONJ PROPN...|en en en en|\n",
      "|          5|good product qual...|[PROPN, PROPN, PR...| english|[good, product, q...|       null|[en, en, en, en, ...|  3|  and good value for|CCONJ PROPN PROPN...|en en en en|\n",
      "|          5|good product qual...|[PROPN, PROPN, PR...| english|[good, product, q...|       null|[en, en, en, en, ...|  4|good value for mo...|PROPN PROPN ADP P...|en en en en|\n",
      "|          5|good product qual...|[PROPN, PROPN, PR...| english|[good, product, q...|       null|[en, en, en, en, ...|  5|value for moneyq ...|PROPN ADP PROPN P...|en en en en|\n",
      "|          5|good product qual...|[PROPN, PROPN, PR...| english|[good, product, q...|       null|[en, en, en, en, ...|  6|for moneyq seller...|ADP PROPN PROPN NOUN|en en en ms|\n",
      "|          5|good product qual...|[PROPN, PROPN, PR...| english|[good, product, q...|       null|[en, en, en, en, ...|  7|moneyq sellersori...|PROPN PROPN NOUN ...|en en ms en|\n",
      "|          5|good product qual...|[PROPN, PROPN, PR...| english|[good, product, q...|       null|[en, en, en, en, ...|  8|sellersori gambar...|PROPN NOUN VERB NOUN|en ms en ms|\n",
      "|          6|unrelated photo a...|[NOUN, NOUN, CCON...| english|[unrelated, photo...|       null|[en, en, en, en, ...|  0|unrelated photo a...|NOUN NOUN CCONJ NOUN|en en en en|\n",
      "|          6|unrelated photo a...|[NOUN, NOUN, CCON...| english|[unrelated, photo...|       null|[en, en, en, en, ...|  1| photo and video but|NOUN CCONJ NOUN C...|en en en en|\n",
      "|          6|unrelated photo a...|[NOUN, NOUN, CCON...| english|[unrelated, photo...|       null|[en, en, en, en, ...|  2|   and video but the|CCONJ NOUN CCONJ DET|en en en en|\n",
      "|          6|unrelated photo a...|[NOUN, NOUN, CCON...| english|[unrelated, photo...|       null|[en, en, en, en, ...|  3|video but the qua...| NOUN CCONJ DET NOUN|en en en en|\n",
      "|          6|unrelated photo a...|[NOUN, NOUN, CCON...| english|[unrelated, photo...|       null|[en, en, en, en, ...|  4|  but the quality is| CCONJ DET NOUN VERB|en en en en|\n",
      "|          6|unrelated photo a...|[NOUN, NOUN, CCON...| english|[unrelated, photo...|       null|[en, en, en, en, ...|  5|the quality is re...|   DET NOUN VERB ADV|en en en en|\n",
      "|          6|unrelated photo a...|[NOUN, NOUN, CCON...| english|[unrelated, photo...|       null|[en, en, en, en, ...|  6|quality is really...|   NOUN VERB ADV ADJ|en en en en|\n",
      "|          7|thank you seller ...|[VERB, PRON, NOUN...| english|[thank, you, sell...|       null|[en, en, en, en, ...|  0|thank you seller for|  VERB PRON NOUN ADP|en en en en|\n",
      "|          7|thank you seller ...|[VERB, PRON, NOUN...| english|[thank, you, sell...|       null|[en, en, en, en, ...|  1|  you seller for the|   PRON NOUN ADP DET|en en en en|\n",
      "|          7|thank you seller ...|[VERB, PRON, NOUN...| english|[thank, you, sell...|       null|[en, en, en, en, ...|  2| seller for the fast|    NOUN ADP DET ADJ|en en en en|\n",
      "|          7|thank you seller ...|[VERB, PRON, NOUN...| english|[thank, you, sell...|       null|[en, en, en, en, ...|  3|for the fast deli...|    ADP DET ADJ NOUN|en en en en|\n",
      "|          8|seller respon ama...|[NOUN, NOUN, ADV,...| english|[seller, respon, ...|       null|[en, en, ms, en, ...|  0|seller respon ama...|   NOUN NOUN ADV ADJ|en en ms en|\n",
      "|          8|seller respon ama...|[NOUN, NOUN, ADV,...| english|[seller, respon, ...|       null|[en, en, ms, en, ...|  1|respon amat baikm...|   NOUN ADV ADJ NOUN|en ms en en|\n",
      "|          8|seller respon ama...|[NOUN, NOUN, ADV,...| english|[seller, respon, ...|       null|[en, en, ms, en, ...|  2|amat baikmake sur...|   ADV ADJ NOUN NOUN|ms en en en|\n",
      "|          8|seller respon ama...|[NOUN, NOUN, ADV,...| english|[seller, respon, ...|       null|[en, en, ms, en, ...|  3|baikmake sure sel...|   ADJ NOUN NOUN ADJ|en en en en|\n",
      "|          8|seller respon ama...|[NOUN, NOUN, ADV,...| english|[seller, respon, ...|       null|[en, en, ms, en, ...|  4|sure seller onlin...|  NOUN NOUN ADJ NOUN|en en en ms|\n",
      "|          8|seller respon ama...|[NOUN, NOUN, ADV,...| english|[seller, respon, ...|       null|[en, en, ms, en, ...|  5|seller online sta...|  NOUN ADJ NOUN NOUN|en en ms en|\n",
      "|          8|seller respon ama...|[NOUN, NOUN, ADV,...| english|[seller, respon, ...|       null|[en, en, ms, en, ...|  6|online status min...|   ADJ NOUN NOUN ADV|en ms en ms|\n",
      "|          8|seller respon ama...|[NOUN, NOUN, ADV,...| english|[seller, respon, ...|       null|[en, en, ms, en, ...|  7|status minutes br...|  NOUN NOUN ADV VERB|ms en ms ms|\n",
      "|          9|received thank yo...|[VERB, VERB, PRON...| english|[received, thank,...|       null|[en, en, en, en, ...|  0|received thank yo...|  VERB VERB PRON ADV|en en en en|\n",
      "|          9|received thank yo...|[VERB, VERB, PRON...| english|[received, thank,...|       null|[en, en, en, en, ...|  1|   thank you so much|  VERB PRON ADV NOUN|en en en en|\n",
      "|          9|received thank yo...|[VERB, VERB, PRON...| english|[received, thank,...|       null|[en, en, en, en, ...|  2|    you so much very|   PRON ADV NOUN ADJ|en en en en|\n",
      "|          9|received thank yo...|[VERB, VERB, PRON...| english|[received, thank,...|       null|[en, en, en, en, ...|  3|   so much very good|   ADV NOUN ADJ NOUN|en en en en|\n",
      "|          9|received thank yo...|[VERB, VERB, PRON...| english|[received, thank,...|       null|[en, en, en, en, ...|  4|much very good se...|  NOUN ADJ NOUN NOUN|en en en en|\n",
      "|          9|received thank yo...|[VERB, VERB, PRON...| english|[received, thank,...|       null|[en, en, en, en, ...|  5|very good service...| ADJ NOUN NOUN PROPN|en en en en|\n",
      "|          9|received thank yo...|[VERB, VERB, PRON...| english|[received, thank,...|       null|[en, en, en, en, ...|  6|good service the ...|NOUN NOUN PROPN P...|en en en en|\n",
      "|          9|received thank yo...|[VERB, VERB, PRON...| english|[received, thank,...|       null|[en, en, en, en, ...|  7|service the walle...|NOUN PROPN PROPN ADV|en en en en|\n",
      "|          9|received thank yo...|[VERB, VERB, PRON...| english|[received, thank,...|       null|[en, en, en, en, ...|  8|the wallet very nice| PROPN PROPN ADV ADJ|en en en en|\n",
      "|         10|thank you seller ...|[VERB, PRON, PROP...| english|[thank, you, sell...|       null|[en, en, en, en, ...|  0|thank you seller and|VERB PRON PROPN C...|en en en en|\n",
      "|         10|thank you seller ...|[VERB, PRON, PROP...| english|[thank, you, sell...|       null|[en, en, en, en, ...|  1|you seller and ninja|PRON PROPN CCONJ ...|en en en ms|\n",
      "|         10|thank you seller ...|[VERB, PRON, PROP...| english|[thank, you, sell...|       null|[en, en, en, en, ...|  2|seller and ninja ...|PROPN CCONJ PROPN...|en en ms en|\n",
      "|         10|thank you seller ...|[VERB, PRON, PROP...| english|[thank, you, sell...|       null|[en, en, en, en, ...|  3|and ninja express...|CCONJ PROPN VERB ADP|en ms en en|\n",
      "|         10|thank you seller ...|[VERB, PRON, PROP...| english|[thank, you, sell...|       null|[en, en, en, en, ...|  4|ninja express for...| PROPN VERB ADP NOUN|ms en en en|\n",
      "|         11|beli masa jovian ...|[VERB, NOUN, NOUN...| english|[beli, masa, jovi...|       null|[ms, ms, ms, ms, ...|  0|beli masa jovian ...| VERB NOUN NOUN VERB|ms ms ms ms|\n",
      "|         11|beli masa jovian ...|[VERB, NOUN, NOUN...| english|[beli, masa, jovi...|       null|[ms, ms, ms, ms, ...|  1|masa jovian buat ...| NOUN NOUN VERB NOUN|ms ms ms en|\n",
      "|         11|beli masa jovian ...|[VERB, NOUN, NOUN...| english|[beli, masa, jovi...|       null|[ms, ms, ms, ms, ...|  2|jovian buat clear...| NOUN VERB NOUN NOUN|ms ms en en|\n",
      "|         11|beli masa jovian ...|[VERB, NOUN, NOUN...| english|[beli, masa, jovi...|       null|[ms, ms, ms, ms, ...|  3|buat clearnace sa...| VERB NOUN NOUN VERB|ms en en en|\n",
      "|         11|beli masa jovian ...|[VERB, NOUN, NOUN...| english|[beli, masa, jovi...|       null|[ms, ms, ms, ms, ...|  4|clearnace sale us...| NOUN NOUN VERB NOUN|en en en en|\n",
      "|         11|beli masa jovian ...|[VERB, NOUN, NOUN...| english|[beli, masa, jovi...|       null|[ms, ms, ms, ms, ...|  5|sale using vouche...|  NOUN VERB NOUN ADJ|en en en ms|\n",
      "|         11|beli masa jovian ...|[VERB, NOUN, NOUN...| english|[beli, masa, jovi...|       null|[ms, ms, ms, ms, ...|  6|using voucher mur...|  VERB NOUN ADJ NOUN|en en ms en|\n",
      "|         12|seller fast ship ...|[PROPN, PROPN, PR...| english|[seller, fast, sh...|       null|[en, en, en, en, ...|  0|seller fast ship ...|PROPN PROPN PROPN...|en en en en|\n",
      "|         12|seller fast ship ...|[PROPN, PROPN, PR...| english|[seller, fast, sh...|       null|[en, en, en, en, ...|  1|fast ship fast re...|PROPN PROPN PROPN...|en en en en|\n",
      "|         12|seller fast ship ...|[PROPN, PROPN, PR...| english|[seller, fast, sh...|       null|[en, en, en, en, ...|  2|ship fast respons...|PROPN PROPN PROPN...|en en en en|\n",
      "|         12|seller fast ship ...|[PROPN, PROPN, PR...| english|[seller, fast, sh...|       null|[en, en, en, en, ...|  3|fast respons good...|PROPN PROPN PROPN...|en en en en|\n",
      "|         12|seller fast ship ...|[PROPN, PROPN, PR...| english|[seller, fast, sh...|       null|[en, en, en, en, ...|  4|respons good serv...|PROPN PROPN PROPN...|en en en en|\n",
      "|         12|seller fast ship ...|[PROPN, PROPN, PR...| english|[seller, fast, sh...|       null|[en, en, en, en, ...|  5|good service alwa...|PROPN PROPN ADV P...|en en en en|\n",
      "|         12|seller fast ship ...|[PROPN, PROPN, PR...| english|[seller, fast, sh...|       null|[en, en, en, en, ...|  6|service always re...|PROPN ADV PROPN C...|en en en en|\n",
      "|         12|seller fast ship ...|[PROPN, PROPN, PR...| english|[seller, fast, sh...|       null|[en, en, en, en, ...|  7|always repeat and...|ADV PROPN CCONJ VERB|en en en en|\n",
      "|         13|yeayyyy botol my ...|[NOUN, NOUN, DET,...| english|[yeayyyy, botol, ...|       null|[en, ms, en, en, ...|  0|yeayyyy botol my ...|  NOUN NOUN DET NOUN|en ms en en|\n",
      "|         13|yeayyyy botol my ...|[NOUN, NOUN, DET,...| english|[yeayyyy, botol, ...|       null|[en, ms, en, en, ...|  1|botol my little girl|  NOUN DET NOUN NOUN|ms en en en|\n",
      "|         13|yeayyyy botol my ...|[NOUN, NOUN, DET,...| english|[yeayyyy, botol, ...|       null|[en, ms, en, en, ...|  2|   my little girl dh|   DET NOUN NOUN ADV|en en en en|\n",
      "|         13|yeayyyy botol my ...|[NOUN, NOUN, DET,...| english|[yeayyyy, botol, ...|       null|[en, ms, en, en, ...|  3|little girl dh smpai|  NOUN NOUN ADV VERB|en en en ms|\n",
      "+-----------+--------------------+--------------------+--------+--------------------+-----------+--------------------+---+--------------------+--------------------+-----------+\n",
      "only showing top 100 rows\n",
      "\n"
     ]
    }
   ],
   "source": [
    "from pyspark.sql.functions import arrays_zip, col, explode\n",
    "from pyspark.sql.window import Window\n",
    "from pyspark.sql.window import Window\n",
    "import pyspark.sql.functions as F\n",
    "t = n.withColumn(\"tmp\", arrays_zip(\"token_gram\", \"tag_gram\", \"lang_gram\"))\\\n",
    ".select(\"sentence_id\", \"original\", \"tag\",\"language\", \"token\", \"chinese_tag\", \"language_pattern\",\"token\", F.posexplode(col(\"tmp\")))\\\n",
    ".select(\"sentence_id\", \"original\", \"tag\",\"language\", \"token\", \"chinese_tag\", \"language_pattern\", \"pos\",col(\"col.token_gram\"), col(\"col.tag_gram\"),  col(\"col.lang_gram\"))\n",
    "\n",
    "t.show(100)"
   ]
  },
  {
   "cell_type": "code",
   "execution_count": 31,
   "id": "dc400f38-f375-40b4-a475-51579b070662",
   "metadata": {},
   "outputs": [
    {
     "name": "stderr",
     "output_type": "stream",
     "text": [
      "                                                                                \r"
     ]
    }
   ],
   "source": [
    "shutil.rmtree(\"ngramV2/N4_GRAM\")\n",
    "write_avro(t, \"ngramV2/N4_GRAM\")"
   ]
  },
  {
   "cell_type": "markdown",
   "id": "cb98dc51-93a8-408f-bf3c-1c0aad33a2bb",
   "metadata": {},
   "source": [
    "### Create 5-gram"
   ]
  },
  {
   "cell_type": "code",
   "execution_count": 32,
   "id": "7f3808e4-c333-444c-b4b5-e0d24dd23d23",
   "metadata": {},
   "outputs": [],
   "source": [
    "tokenNgram =NGram(n=5, inputCol=\"token\", outputCol=\"token_gram\")\n",
    "tagNgram =NGram(n=5, inputCol=\"tag\", outputCol=\"tag_gram\")\n",
    "langNgram =NGram(n=5, inputCol=\"language_pattern\", outputCol=\"lang_gram\")"
   ]
  },
  {
   "cell_type": "code",
   "execution_count": 33,
   "id": "b5504c2b-f31a-4fa0-b013-f9d6ded2b762",
   "metadata": {},
   "outputs": [],
   "source": [
    "n = tokenNgram.transform(a)\n",
    "n = tagNgram.transform(n)\n",
    "n = langNgram.transform(n)"
   ]
  },
  {
   "cell_type": "code",
   "execution_count": 34,
   "id": "803ee928-ae8f-4d3b-ad09-6f1ec9f4a978",
   "metadata": {
    "collapsed": true,
    "jupyter": {
     "outputs_hidden": true
    },
    "tags": []
   },
   "outputs": [
    {
     "name": "stdout",
     "output_type": "stream",
     "text": [
      "+-----------+--------------------+--------------------+--------+--------------------+-----------+--------------------+---+--------------------+--------------------+--------------+\n",
      "|sentence_id|            original|                 tag|language|               token|chinese_tag|    language_pattern|pos|          token_gram|            tag_gram|     lang_gram|\n",
      "+-----------+--------------------+--------------------+--------+--------------------+-----------+--------------------+---+--------------------+--------------------+--------------+\n",
      "|          0|taste nice better...|[NOUN, ADJ, ADJ, ...| english|[taste, nice, bet...|       null|[en, en, en, en, ...|  0|taste nice better...|NOUN ADJ ADJ VERB...|en en en en en|\n",
      "|          0|taste nice better...|[NOUN, ADJ, ADJ, ...| english|[taste, nice, bet...|       null|[en, en, en, en, ...|  1|nice better than ...|ADJ ADJ VERB NOUN...|en en en en en|\n",
      "|          0|taste nice better...|[NOUN, ADJ, ADJ, ...| english|[taste, nice, bet...|       null|[en, en, en, en, ...|  2|better than maggi...|ADJ VERB NOUN PRO...|en en en en en|\n",
      "|          0|taste nice better...|[NOUN, ADJ, ADJ, ...| english|[taste, nice, bet...|       null|[en, en, en, en, ...|  3|than maggi mee mo...|VERB NOUN PROPN N...|en en en en en|\n",
      "|          1|barang sampai den...|[NOUN, ADP, ADP, ...| english|[barang, sampai, ...|       null|[ms, ms, ms, ms, ...|  0|barang sampai den...|NOUN ADP ADP ADJ ...|ms ms ms ms en|\n",
      "|          1|barang sampai den...|[NOUN, ADP, ADP, ...| english|[barang, sampai, ...|       null|[ms, ms, ms, ms, ...|  1|sampai dengan bai...|ADP ADP ADJ NOUN ...|ms ms ms en en|\n",
      "|          1|barang sampai den...|[NOUN, ADP, ADP, ...| english|[barang, sampai, ...|       null|[ms, ms, ms, ms, ...|  2|dengan baik thank...|ADP ADJ NOUN NOUN...|ms ms en en ms|\n",
      "|          1|barang sampai den...|[NOUN, ADP, ADP, ...| english|[barang, sampai, ...|       null|[ms, ms, ms, ms, ...|  3|baik thankyou sel...|ADJ NOUN NOUN PRO...|ms en en ms en|\n",
      "|          1|barang sampai den...|[NOUN, ADP, ADP, ...| english|[barang, sampai, ...|       null|[ms, ms, ms, ms, ...|  4|thankyou seller i...|NOUN NOUN PRON VE...|en en ms en en|\n",
      "|          1|barang sampai den...|[NOUN, ADP, ADP, ...| english|[barang, sampai, ...|       null|[ms, ms, ms, ms, ...|  5|seller i love it ...|NOUN PRON VERB PR...|en ms en en en|\n",
      "|          2|to seller thanks ...|[ADP, NOUN, NOUN,...| english|[to, seller, than...|       null|[en, en, en, en, ...|  0|to seller thanks ...|ADP NOUN NOUN ADP...|en en en en en|\n",
      "|          2|to seller thanks ...|[ADP, NOUN, NOUN,...| english|[to, seller, than...|       null|[en, en, en, en, ...|  1|seller thanks for...|NOUN NOUN ADP DET...|en en en en en|\n",
      "|          2|to seller thanks ...|[ADP, NOUN, NOUN,...| english|[to, seller, than...|       null|[en, en, en, en, ...|  2|thanks for the fi...|NOUN ADP DET NOUN...|en en en en en|\n",
      "|          2|to seller thanks ...|[ADP, NOUN, NOUN,...| english|[to, seller, than...|       null|[en, en, en, en, ...|  3|for the first tim...|ADP DET NOUN NOUN...|en en en en ms|\n",
      "|          3|thank you seller ...|[VERB, PRON, NOUN...| english|[thank, you, sell...|       null|[en, en, en, en, ...|  0|thank you seller ...|VERB PRON NOUN PR...|en en en en en|\n",
      "|          3|thank you seller ...|[VERB, PRON, NOUN...| english|[thank, you, sell...|       null|[en, en, en, en, ...|  1|you seller may bu...|PRON NOUN PROPN V...|en en en en en|\n",
      "|          3|thank you seller ...|[VERB, PRON, NOUN...| english|[thank, you, sell...|       null|[en, en, en, en, ...|  2|seller may buy ag...|NOUN PROPN VERB A...|en en en en en|\n",
      "|          3|thank you seller ...|[VERB, PRON, NOUN...| english|[thank, you, sell...|       null|[en, en, en, en, ...|  3|may buy again if ...|PROPN VERB ADV SC...|en en en en en|\n",
      "|          3|thank you seller ...|[VERB, PRON, NOUN...| english|[thank, you, sell...|       null|[en, en, en, en, ...|  4|buy again if proo...|VERB ADV SCONJ PR...|en en en en en|\n",
      "|          3|thank you seller ...|[VERB, PRON, NOUN...| english|[thank, you, sell...|       null|[en, en, en, en, ...|  5|again if proof to be|ADV SCONJ PROPN A...|en en en en ms|\n",
      "|          3|thank you seller ...|[VERB, PRON, NOUN...| english|[thank, you, sell...|       null|[en, en, en, en, ...|  6|if proof to be du...|SCONJ PROPN ADP V...|en en en ms en|\n",
      "|          3|thank you seller ...|[VERB, PRON, NOUN...| english|[thank, you, sell...|       null|[en, en, en, en, ...|  7|proof to be durab...|PROPN ADP VERB AD...|en en ms en en|\n",
      "|          3|thank you seller ...|[VERB, PRON, NOUN...| english|[thank, you, sell...|       null|[en, en, en, en, ...|  8|to be durable aft...|ADP VERB ADJ ADP DET|en ms en en en|\n",
      "|          3|thank you seller ...|[VERB, PRON, NOUN...| english|[thank, you, sell...|       null|[en, en, en, en, ...|  9|be durable after ...|VERB ADJ ADP DET ...|ms en en en en|\n",
      "|          3|thank you seller ...|[VERB, PRON, NOUN...| english|[thank, you, sell...|       null|[en, en, en, en, ...| 10|durable after som...|ADJ ADP DET NOUN ADP|en en en en en|\n",
      "|          3|thank you seller ...|[VERB, PRON, NOUN...| english|[thank, you, sell...|       null|[en, en, en, en, ...| 11|after some time i...|ADP DET NOUN ADP ...|en en en en en|\n",
      "|          4|wow fast delivery...|[PROPN, PROPN, NO...| english|[wow, fast, deliv...|       null|[en, en, en, en, ...|  0|wow fast delivery...|PROPN PROPN NOUN ...|en en en en ms|\n",
      "|          4|wow fast delivery...|[PROPN, PROPN, NO...| english|[wow, fast, deliv...|       null|[en, en, en, en, ...|  1|fast delivery kay...|PROPN NOUN NOUN N...|en en en ms ms|\n",
      "|          4|wow fast delivery...|[PROPN, PROPN, NO...| english|[wow, fast, deliv...|       null|[en, en, en, en, ...|  2|delivery kayhh ba...|NOUN NOUN NOUN AD...|en en ms ms ms|\n",
      "|          4|wow fast delivery...|[PROPN, PROPN, NO...| english|[wow, fast, deliv...|       null|[en, en, en, en, ...|  3|kayhh baju hijau ...|NOUN NOUN ADJ DET...|en ms ms ms en|\n",
      "|          4|wow fast delivery...|[PROPN, PROPN, NO...| english|[wow, fast, deliv...|       null|[en, en, en, en, ...|  4|baju hijau ni ser...|NOUN ADJ DET ADV ADJ|ms ms ms en ms|\n",
      "|          4|wow fast delivery...|[PROPN, PROPN, NO...| english|[wow, fast, deliv...|       null|[en, en, en, en, ...|  5|hijau ni serious ...|ADJ DET ADV ADJ NOUN|ms ms en ms ms|\n",
      "|          4|wow fast delivery...|[PROPN, PROPN, NO...| english|[wow, fast, deliv...|       null|[en, en, en, en, ...|  6|ni serious cantik...|DET ADV ADJ NOUN ...|ms en ms ms ms|\n",
      "|          4|wow fast delivery...|[PROPN, PROPN, NO...| english|[wow, fast, deliv...|       null|[en, en, en, en, ...|  7|serious cantik ka...|ADV ADJ NOUN PART...|en ms ms ms en|\n",
      "|          5|good product qual...|[PROPN, PROPN, PR...| english|[good, product, q...|       null|[en, en, en, en, ...|  0|good product qual...|PROPN PROPN PROPN...|en en en en en|\n",
      "|          5|good product qual...|[PROPN, PROPN, PR...| english|[good, product, q...|       null|[en, en, en, en, ...|  1|product quality a...|PROPN PROPN CCONJ...|en en en en en|\n",
      "|          5|good product qual...|[PROPN, PROPN, PR...| english|[good, product, q...|       null|[en, en, en, en, ...|  2|quality and good ...|PROPN CCONJ PROPN...|en en en en en|\n",
      "|          5|good product qual...|[PROPN, PROPN, PR...| english|[good, product, q...|       null|[en, en, en, en, ...|  3|and good value fo...|CCONJ PROPN PROPN...|en en en en en|\n",
      "|          5|good product qual...|[PROPN, PROPN, PR...| english|[good, product, q...|       null|[en, en, en, en, ...|  4|good value for mo...|PROPN PROPN ADP P...|en en en en en|\n",
      "|          5|good product qual...|[PROPN, PROPN, PR...| english|[good, product, q...|       null|[en, en, en, en, ...|  5|value for moneyq ...|PROPN ADP PROPN P...|en en en en ms|\n",
      "|          5|good product qual...|[PROPN, PROPN, PR...| english|[good, product, q...|       null|[en, en, en, en, ...|  6|for moneyq seller...|ADP PROPN PROPN N...|en en en ms en|\n",
      "|          5|good product qual...|[PROPN, PROPN, PR...| english|[good, product, q...|       null|[en, en, en, en, ...|  7|moneyq sellersori...|PROPN PROPN NOUN ...|en en ms en ms|\n",
      "|          6|unrelated photo a...|[NOUN, NOUN, CCON...| english|[unrelated, photo...|       null|[en, en, en, en, ...|  0|unrelated photo a...|NOUN NOUN CCONJ N...|en en en en en|\n",
      "|          6|unrelated photo a...|[NOUN, NOUN, CCON...| english|[unrelated, photo...|       null|[en, en, en, en, ...|  1|photo and video b...|NOUN CCONJ NOUN C...|en en en en en|\n",
      "|          6|unrelated photo a...|[NOUN, NOUN, CCON...| english|[unrelated, photo...|       null|[en, en, en, en, ...|  2|and video but the...|CCONJ NOUN CCONJ ...|en en en en en|\n",
      "|          6|unrelated photo a...|[NOUN, NOUN, CCON...| english|[unrelated, photo...|       null|[en, en, en, en, ...|  3|video but the qua...|NOUN CCONJ DET NO...|en en en en en|\n",
      "|          6|unrelated photo a...|[NOUN, NOUN, CCON...| english|[unrelated, photo...|       null|[en, en, en, en, ...|  4|but the quality i...|CCONJ DET NOUN VE...|en en en en en|\n",
      "|          6|unrelated photo a...|[NOUN, NOUN, CCON...| english|[unrelated, photo...|       null|[en, en, en, en, ...|  5|the quality is re...|DET NOUN VERB ADV...|en en en en en|\n",
      "|          7|thank you seller ...|[VERB, PRON, NOUN...| english|[thank, you, sell...|       null|[en, en, en, en, ...|  0|thank you seller ...|VERB PRON NOUN AD...|en en en en en|\n",
      "|          7|thank you seller ...|[VERB, PRON, NOUN...| english|[thank, you, sell...|       null|[en, en, en, en, ...|  1|you seller for th...|PRON NOUN ADP DET...|en en en en en|\n",
      "|          7|thank you seller ...|[VERB, PRON, NOUN...| english|[thank, you, sell...|       null|[en, en, en, en, ...|  2|seller for the fa...|NOUN ADP DET ADJ ...|en en en en en|\n",
      "|          8|seller respon ama...|[NOUN, NOUN, ADV,...| english|[seller, respon, ...|       null|[en, en, ms, en, ...|  0|seller respon ama...|NOUN NOUN ADV ADJ...|en en ms en en|\n",
      "|          8|seller respon ama...|[NOUN, NOUN, ADV,...| english|[seller, respon, ...|       null|[en, en, ms, en, ...|  1|respon amat baikm...|NOUN ADV ADJ NOUN...|en ms en en en|\n",
      "|          8|seller respon ama...|[NOUN, NOUN, ADV,...| english|[seller, respon, ...|       null|[en, en, ms, en, ...|  2|amat baikmake sur...|ADV ADJ NOUN NOUN...|ms en en en en|\n",
      "|          8|seller respon ama...|[NOUN, NOUN, ADV,...| english|[seller, respon, ...|       null|[en, en, ms, en, ...|  3|baikmake sure sel...|ADJ NOUN NOUN ADJ...|en en en en ms|\n",
      "|          8|seller respon ama...|[NOUN, NOUN, ADV,...| english|[seller, respon, ...|       null|[en, en, ms, en, ...|  4|sure seller onlin...|NOUN NOUN ADJ NOU...|en en en ms en|\n",
      "|          8|seller respon ama...|[NOUN, NOUN, ADV,...| english|[seller, respon, ...|       null|[en, en, ms, en, ...|  5|seller online sta...|NOUN ADJ NOUN NOU...|en en ms en ms|\n",
      "|          8|seller respon ama...|[NOUN, NOUN, ADV,...| english|[seller, respon, ...|       null|[en, en, ms, en, ...|  6|online status min...|ADJ NOUN NOUN ADV...|en ms en ms ms|\n",
      "|          9|received thank yo...|[VERB, VERB, PRON...| english|[received, thank,...|       null|[en, en, en, en, ...|  0|received thank yo...|VERB VERB PRON AD...|en en en en en|\n",
      "|          9|received thank yo...|[VERB, VERB, PRON...| english|[received, thank,...|       null|[en, en, en, en, ...|  1|thank you so much...|VERB PRON ADV NOU...|en en en en en|\n",
      "|          9|received thank yo...|[VERB, VERB, PRON...| english|[received, thank,...|       null|[en, en, en, en, ...|  2|you so much very ...|PRON ADV NOUN ADJ...|en en en en en|\n",
      "|          9|received thank yo...|[VERB, VERB, PRON...| english|[received, thank,...|       null|[en, en, en, en, ...|  3|so much very good...|ADV NOUN ADJ NOUN...|en en en en en|\n",
      "|          9|received thank yo...|[VERB, VERB, PRON...| english|[received, thank,...|       null|[en, en, en, en, ...|  4|much very good se...|NOUN ADJ NOUN NOU...|en en en en en|\n",
      "|          9|received thank yo...|[VERB, VERB, PRON...| english|[received, thank,...|       null|[en, en, en, en, ...|  5|very good service...|ADJ NOUN NOUN PRO...|en en en en en|\n",
      "|          9|received thank yo...|[VERB, VERB, PRON...| english|[received, thank,...|       null|[en, en, en, en, ...|  6|good service the ...|NOUN NOUN PROPN P...|en en en en en|\n",
      "|          9|received thank yo...|[VERB, VERB, PRON...| english|[received, thank,...|       null|[en, en, en, en, ...|  7|service the walle...|NOUN PROPN PROPN ...|en en en en en|\n",
      "|         10|thank you seller ...|[VERB, PRON, PROP...| english|[thank, you, sell...|       null|[en, en, en, en, ...|  0|thank you seller ...|VERB PRON PROPN C...|en en en en ms|\n",
      "|         10|thank you seller ...|[VERB, PRON, PROP...| english|[thank, you, sell...|       null|[en, en, en, en, ...|  1|you seller and ni...|PRON PROPN CCONJ ...|en en en ms en|\n",
      "|         10|thank you seller ...|[VERB, PRON, PROP...| english|[thank, you, sell...|       null|[en, en, en, en, ...|  2|seller and ninja ...|PROPN CCONJ PROPN...|en en ms en en|\n",
      "|         10|thank you seller ...|[VERB, PRON, PROP...| english|[thank, you, sell...|       null|[en, en, en, en, ...|  3|and ninja express...|CCONJ PROPN VERB ...|en ms en en en|\n",
      "|         11|beli masa jovian ...|[VERB, NOUN, NOUN...| english|[beli, masa, jovi...|       null|[ms, ms, ms, ms, ...|  0|beli masa jovian ...|VERB NOUN NOUN VE...|ms ms ms ms en|\n",
      "|         11|beli masa jovian ...|[VERB, NOUN, NOUN...| english|[beli, masa, jovi...|       null|[ms, ms, ms, ms, ...|  1|masa jovian buat ...|NOUN NOUN VERB NO...|ms ms ms en en|\n",
      "|         11|beli masa jovian ...|[VERB, NOUN, NOUN...| english|[beli, masa, jovi...|       null|[ms, ms, ms, ms, ...|  2|jovian buat clear...|NOUN VERB NOUN NO...|ms ms en en en|\n",
      "|         11|beli masa jovian ...|[VERB, NOUN, NOUN...| english|[beli, masa, jovi...|       null|[ms, ms, ms, ms, ...|  3|buat clearnace sa...|VERB NOUN NOUN VE...|ms en en en en|\n",
      "|         11|beli masa jovian ...|[VERB, NOUN, NOUN...| english|[beli, masa, jovi...|       null|[ms, ms, ms, ms, ...|  4|clearnace sale us...|NOUN NOUN VERB NO...|en en en en ms|\n",
      "|         11|beli masa jovian ...|[VERB, NOUN, NOUN...| english|[beli, masa, jovi...|       null|[ms, ms, ms, ms, ...|  5|sale using vouche...|NOUN VERB NOUN AD...|en en en ms en|\n",
      "|         12|seller fast ship ...|[PROPN, PROPN, PR...| english|[seller, fast, sh...|       null|[en, en, en, en, ...|  0|seller fast ship ...|PROPN PROPN PROPN...|en en en en en|\n",
      "|         12|seller fast ship ...|[PROPN, PROPN, PR...| english|[seller, fast, sh...|       null|[en, en, en, en, ...|  1|fast ship fast re...|PROPN PROPN PROPN...|en en en en en|\n",
      "|         12|seller fast ship ...|[PROPN, PROPN, PR...| english|[seller, fast, sh...|       null|[en, en, en, en, ...|  2|ship fast respons...|PROPN PROPN PROPN...|en en en en en|\n",
      "|         12|seller fast ship ...|[PROPN, PROPN, PR...| english|[seller, fast, sh...|       null|[en, en, en, en, ...|  3|fast respons good...|PROPN PROPN PROPN...|en en en en en|\n",
      "|         12|seller fast ship ...|[PROPN, PROPN, PR...| english|[seller, fast, sh...|       null|[en, en, en, en, ...|  4|respons good serv...|PROPN PROPN PROPN...|en en en en en|\n",
      "|         12|seller fast ship ...|[PROPN, PROPN, PR...| english|[seller, fast, sh...|       null|[en, en, en, en, ...|  5|good service alwa...|PROPN PROPN ADV P...|en en en en en|\n",
      "|         12|seller fast ship ...|[PROPN, PROPN, PR...| english|[seller, fast, sh...|       null|[en, en, en, en, ...|  6|service always re...|PROPN ADV PROPN C...|en en en en en|\n",
      "|         13|yeayyyy botol my ...|[NOUN, NOUN, DET,...| english|[yeayyyy, botol, ...|       null|[en, ms, en, en, ...|  0|yeayyyy botol my ...|NOUN NOUN DET NOU...|en ms en en en|\n",
      "|         13|yeayyyy botol my ...|[NOUN, NOUN, DET,...| english|[yeayyyy, botol, ...|       null|[en, ms, en, en, ...|  1|botol my little g...|NOUN DET NOUN NOU...|ms en en en en|\n",
      "|         13|yeayyyy botol my ...|[NOUN, NOUN, DET,...| english|[yeayyyy, botol, ...|       null|[en, ms, en, en, ...|  2|my little girl dh...|DET NOUN NOUN ADV...|en en en en ms|\n",
      "|         13|yeayyyy botol my ...|[NOUN, NOUN, DET,...| english|[yeayyyy, botol, ...|       null|[en, ms, en, en, ...|  3|little girl dh sm...|NOUN NOUN ADV VER...|en en en ms ms|\n",
      "|         13|yeayyyy botol my ...|[NOUN, NOUN, DET,...| english|[yeayyyy, botol, ...|       null|[en, ms, en, en, ...|  4|girl dh smpai ibu yg|NOUN ADV VERB NOU...|en en ms ms en|\n",
      "|         13|yeayyyy botol my ...|[NOUN, NOUN, DET,...| english|[yeayyyy, botol, ...|       null|[en, ms, en, en, ...|  5|dh smpai ibu yg e...|ADV VERB NOUN PRO...|en ms ms en en|\n",
      "|         13|yeayyyy botol my ...|[NOUN, NOUN, DET,...| english|[yeayyyy, botol, ...|       null|[en, ms, en, en, ...|  6|smpai ibu yg exci...|VERB NOUN PRON AD...|ms ms en en en|\n",
      "|         13|yeayyyy botol my ...|[NOUN, NOUN, DET,...| english|[yeayyyy, botol, ...|       null|[en, ms, en, en, ...|  7|ibu yg excited tq...|NOUN PRON ADJ NOU...|ms en en en en|\n",
      "|         14|good quality prod...|[NOUN, NOUN, NOUN...| english|[good, quality, p...|       null|[en, en, en, en, ...|  0|good quality prod...|NOUN NOUN NOUN AD...|en en en en en|\n",
      "|         14|good quality prod...|[NOUN, NOUN, NOUN...| english|[good, quality, p...|       null|[en, en, en, en, ...|  1|quality product r...|NOUN NOUN ADJ NOU...|en en en en en|\n",
      "|         14|good quality prod...|[NOUN, NOUN, NOUN...| english|[good, quality, p...|       null|[en, en, en, en, ...|  2|product reasonabl...|NOUN ADJ NOUN ADJ...|en en en en en|\n",
      "|         14|good quality prod...|[NOUN, NOUN, NOUN...| english|[good, quality, p...|       null|[en, en, en, en, ...|  3|reasonable price ...|ADJ NOUN ADJ NOUN...|en en en en ms|\n",
      "|         14|good quality prod...|[NOUN, NOUN, NOUN...| english|[good, quality, p...|       null|[en, en, en, en, ...|  4|price nice packag...|NOUN ADJ NOUN NOU...|en en en ms ms|\n",
      "|         14|good quality prod...|[NOUN, NOUN, NOUN...| english|[good, quality, p...|       null|[en, en, en, en, ...|  5|nice packaging ko...|ADJ NOUN NOUN NOU...|en en ms ms ms|\n",
      "|         14|good quality prod...|[NOUN, NOUN, NOUN...| english|[good, quality, p...|       null|[en, en, en, en, ...|  6|packaging kotak k...|NOUN NOUN NOUN AD...|en ms ms ms en|\n",
      "|         14|good quality prod...|[NOUN, NOUN, NOUN...| english|[good, quality, p...|       null|[en, en, en, en, ...|  7|kotak kemek sikit...|NOUN NOUN ADJ ADV...|ms ms ms en ms|\n",
      "|         14|good quality prod...|[NOUN, NOUN, NOUN...| english|[good, quality, p...|       null|[en, en, en, en, ...|  8|kemek sikit maybe...|NOUN ADJ ADV SCON...|ms ms en ms en|\n",
      "+-----------+--------------------+--------------------+--------+--------------------+-----------+--------------------+---+--------------------+--------------------+--------------+\n",
      "only showing top 100 rows\n",
      "\n"
     ]
    }
   ],
   "source": [
    "from pyspark.sql.functions import arrays_zip, col, explode\n",
    "from pyspark.sql.window import Window\n",
    "from pyspark.sql.window import Window\n",
    "import pyspark.sql.functions as F\n",
    "t = n.withColumn(\"tmp\", arrays_zip(\"token_gram\", \"tag_gram\", \"lang_gram\"))\\\n",
    ".select(\"sentence_id\", \"original\", \"tag\",\"language\", \"token\", \"chinese_tag\", \"language_pattern\",\"token\", F.posexplode(col(\"tmp\")))\\\n",
    ".select(\"sentence_id\", \"original\", \"tag\",\"language\", \"token\", \"chinese_tag\", \"language_pattern\", \"pos\",col(\"col.token_gram\"), col(\"col.tag_gram\"),  col(\"col.lang_gram\"))\n",
    "\n",
    "t.show(100)"
   ]
  },
  {
   "cell_type": "code",
   "execution_count": 35,
   "id": "8bc2ae18-cb68-43cd-961b-61373be0684f",
   "metadata": {},
   "outputs": [
    {
     "name": "stderr",
     "output_type": "stream",
     "text": [
      "                                                                                \r"
     ]
    }
   ],
   "source": [
    "shutil.rmtree(\"ngramV2/N5_GRAM\")\n",
    "write_avro(t, \"ngramV2/N5_GRAM\")"
   ]
  },
  {
   "cell_type": "markdown",
   "id": "77d573b2-03ca-49b2-a014-a0878d73ce06",
   "metadata": {},
   "source": [
    "### 23 ASSIGN GRAM TYPE & save the data"
   ]
  },
  {
   "cell_type": "code",
   "execution_count": 47,
   "id": "3783f9f0-a6d3-4299-8204-4bb84ff9c733",
   "metadata": {},
   "outputs": [],
   "source": [
    "g2 = read_avro(\"ngramV2/N2_GRAM\")\n",
    "g3 = read_avro(\"ngramV2/N3_GRAM\")\n",
    "g4 = read_avro(\"ngramV2/N4_GRAM\")\n",
    "g5 = read_avro(\"ngramV2/N5_GRAM\")"
   ]
  },
  {
   "cell_type": "code",
   "execution_count": 48,
   "id": "b59f82e5-99c2-407f-9a2b-e0d01b022f9c",
   "metadata": {},
   "outputs": [],
   "source": [
    "g2 = g2.withColumn(\"gram_type\", F.lit(\"2\"))\n",
    "g3 = g3.withColumn(\"gram_type\", F.lit(\"3\"))\n",
    "g4 = g4.withColumn(\"gram_type\", F.lit(\"4\"))\n",
    "g5 = g5.withColumn(\"gram_type\", F.lit(\"5\"))"
   ]
  },
  {
   "cell_type": "code",
   "execution_count": 49,
   "id": "31a5e066-cfeb-497e-89b5-82bb57e12a4b",
   "metadata": {},
   "outputs": [],
   "source": [
    "def unionAll(*dfs):\n",
    "    return reduce(DataFrame.unionAll, dfs)\n",
    "merge = unionAll(g2, g3, g4, g5)"
   ]
  },
  {
   "cell_type": "code",
   "execution_count": 39,
   "id": "1544d3cb-c0ce-43ef-82b1-1397579f200c",
   "metadata": {},
   "outputs": [
    {
     "name": "stderr",
     "output_type": "stream",
     "text": [
      "                                                                                \r"
     ]
    }
   ],
   "source": [
    "shutil.rmtree(\"output/23_ALL__NGRAM.avro\")\n",
    "write_avro(merge, \"output/23_ALL__NGRAM.avro\")"
   ]
  },
  {
   "cell_type": "markdown",
   "id": "8f0a09e7-1aa7-42c3-b2dd-b7eb29a1c9d5",
   "metadata": {},
   "source": [
    "### 24 RETAIN, KEYWORDS N-GRAM"
   ]
  },
  {
   "cell_type": "code",
   "execution_count": 50,
   "id": "30b0f31a-33ef-46a8-ab0b-656f475c2248",
   "metadata": {},
   "outputs": [],
   "source": [
    "import pyspark.sql.types as T"
   ]
  },
  {
   "cell_type": "code",
   "execution_count": 51,
   "id": "299b0684-e8f3-4161-a1c1-d61a39c817d4",
   "metadata": {},
   "outputs": [],
   "source": [
    "engKey = [\"seller\",\"recommend\",\"nice\"]\n",
    "chiKey = [\"好\",\"赞\",\"不错\",\"快\",\"喜欢\",\"谢\",\"值\",\"包装\",\"卖家\"]\n",
    "bmKey = [\"berbaloi\",\"barang\",\"cantik\",\"murah\"]\n",
    "\n",
    "keywords = set(engKey).union(set(chiKey)).union(set(bmKey))\n",
    "\n",
    "def contains_keywords(text):\n",
    "    for x in text.split(\" \"):\n",
    "        if x in keywords:\n",
    "            return True\n",
    "        else:\n",
    "            return False\n",
    "\n",
    "keyDeter = udf(lambda x : contains_keywords(x), T.BooleanType())"
   ]
  },
  {
   "cell_type": "code",
   "execution_count": 52,
   "id": "546a68b8-b3f1-469c-ac73-1814c9e47a0b",
   "metadata": {},
   "outputs": [],
   "source": [
    "df = read_avro(\"output/23_ALL__NGRAM.avro\")\n",
    "withKey = df.withColumn(\"containsKey\", keyDeter(F.col(\"token_gram\")))"
   ]
  },
  {
   "cell_type": "code",
   "execution_count": null,
   "id": "cb70ddc0-97ce-41f4-952d-8c02d3b808ae",
   "metadata": {},
   "outputs": [
    {
     "name": "stderr",
     "output_type": "stream",
     "text": [
      "[Stage 15:>                                                       (0 + 20) / 27]\r"
     ]
    }
   ],
   "source": [
    "write_avro(withKey, \"output/24_WITH_KEY_GRAM\")"
   ]
  },
  {
   "cell_type": "code",
   "execution_count": 107,
   "id": "cfb55cdd-0fd2-49d4-a5fe-723c16a3892a",
   "metadata": {},
   "outputs": [],
   "source": [
    "withKey = read_avro(\"output/24_WITH_KEY_GRAM\").filter(F.col(\"containsKey\") == True)"
   ]
  },
  {
   "cell_type": "code",
   "execution_count": 108,
   "id": "0bed277d-dd68-49aa-95ee-a5ccdc86ad48",
   "metadata": {},
   "outputs": [
    {
     "name": "stderr",
     "output_type": "stream",
     "text": [
      "                                                                                \r"
     ]
    }
   ],
   "source": [
    "write_avro(withKey.drop(\"containKey\"), \"output/24_WITH_KEY\")"
   ]
  },
  {
   "cell_type": "code",
   "execution_count": 110,
   "id": "c23d4fc2-da28-4cbd-ae16-af63e05fc9f8",
   "metadata": {
    "collapsed": true,
    "jupyter": {
     "outputs_hidden": true
    },
    "tags": []
   },
   "outputs": [
    {
     "name": "stderr",
     "output_type": "stream",
     "text": [
      "[Stage 42:=====================================================>  (19 + 1) / 20]\r"
     ]
    },
    {
     "name": "stdout",
     "output_type": "stream",
     "text": [
      "+------------+---------------------------------------+--------------------+--------+-----------------------------+--------------------+--------------------+---+----------+--------+---------+---------+-----------+\n",
      "| sentence_id|                               original|                 tag|language|                        token|          normal_tag|    language_pattern|pos|token_gram|tag_gram|lang_gram|gram_type|containsKey|\n",
      "+------------+---------------------------------------+--------------------+--------+-----------------------------+--------------------+--------------------+---+----------+--------+---------+---------+-----------+\n",
      "|171798691842|    很好 赞 赞赞赞赞赞赞赞赞赞赞赞赞...|[d, a, v, v, v, v...| chinese|  [很, 好, 赞, 赞赞, 赞赞,...|[ADV, ADJ, VERB, ...|[zh, zh, zh, zh, ...|  1|     好 赞|     a v|    zh zh|        2|       true|\n",
      "|171798691847|                   good quality prod...|[eng, eng, eng, e...| chinese|         [good, quality, p...|[X, X, X, X, X, X...|[en, en, en, en, ...| 11|     好 还|     a d|    zh zh|        2|       true|\n",
      "|171798691860|    固体雨刷精 把泡腾片放进去 就好啦...|[a, n, p, n, v, d...| chinese|[固体, 雨刷精, 把, 泡腾片,...|[ADJ, NOUN, ADP, ...|[zh, zh, zh, zh, ...|  6|     好 啦|     a y|    zh zh|        2|       true|\n",
      "|171798691860|    固体雨刷精 把泡腾片放进去 就好啦...|[a, n, p, n, v, d...| chinese|[固体, 雨刷精, 把, 泡腾片,...|[ADJ, NOUN, ADP, ...|[zh, zh, zh, zh, ...| 12|   好 就是|     a d|    zh zh|        2|       true|\n",
      "|171798691866|    回购好几次了 发货很快 服务态度很...|[v, a, m, ul, n, ...| chinese| [回购, 好, 几次, 了, 发货...|[VERB, ADJ, m, U,...|[zh, zh, zh, zh, ...|  1|   好 几次|     a m|    zh zh|        2|       true|\n",
      "|171798691866|    回购好几次了 发货很快 服务态度很...|[v, a, m, ul, n, ...| chinese| [回购, 好, 几次, 了, 发货...|[VERB, ADJ, m, U,...|[zh, zh, zh, zh, ...|  8|   好 包装|     a v|    zh zh|        2|       true|\n",
      "|171798691869|                好吃 擀面云吞汤好想吃啊|[v, n, v, n, a, v...| chinese| [好吃, 擀面, 云吞, 汤, 好...|[VERB, NOUN, VERB...|[zh, zh, zh, zh, ...|  4|     好 想|     a v|    zh zh|        2|       true|\n",
      "|171798691870|             shopee 服务好 供应商包装好|[eng, vn, a, n, v...| chinese|     [shopee, 服务, 好, 供...|[X, vn, ADJ, NOUN...|[en, zh, zh, zh, ...|  2| 好 供应商|     a n|    zh zh|        2|       true|\n",
      "|171798691870|             shopee 服务好 供应商包装好|[eng, vn, a, n, v...| chinese|     [shopee, 服务, 好, 供...|[X, vn, ADJ, NOUN...|[en, zh, zh, zh, ...|  4|   包装 好|     v a|    zh zh|        2|       true|\n",
      "|171798691872|  好好好好好好好好好好好好好好好好好...|[d, d, d, d, d, d...| chinese| [好好, 好好, 好好, 好好, ...|[ADV, ADV, ADV, A...|[zh, zh, zh, zh, ...| 12|   好 好好|     a d|    zh zh|        2|       true|\n",
      "|171798691873|     价钱也便宜 包装很好 物流也快 下...|[n, d, a, v, d, a...| chinese| [价钱, 也, 便宜, 包装, 很...|[NOUN, ADV, ADJ, ...|[zh, zh, zh, zh, ...|  5|   好 物流|     a n|    zh zh|        2|       true|\n",
      "|171798691878|   算是正常的 可能是你做的时候温度没...|[v, d, uj, v, v, ...| chinese| [算是, 正常, 的, 可能, 是...|[VERB, ADV, U, VE...|[zh, zh, zh, zh, ...| 12|     好 一|     a m|    zh zh|        2|       true|\n",
      "|171798691886|                         蛇丸阿姨好可愛|    [n, nr, a, v, v]| chinese|     [蛇丸, 阿姨, 好, 可, 愛]|[NOUN, PROPN, ADJ...|[zh, zh, zh, zh, zh]|  2|     好 可|     a v|    zh zh|        2|       true|\n",
      "|171798691888|    东西很好 保质期也还很长 卖家发货...|[ns, d, a, n, d, ...| chinese| [东西, 很, 好, 保质期, 也...|[PROPN, ADV, ADJ,...|[zh, zh, zh, zh, ...|  2| 好 保质期|     a n|    zh zh|        2|       true|\n",
      "|171798691896|   好想回家乡过年 希望到时候疫情控制...|[a, v, n, n, t, v...| chinese|  [好, 想, 回家, 乡, 过年,...|[ADJ, VERB, NOUN,...|[zh, zh, zh, zh, ...|  0|     好 想|     a v|    zh zh|        2|       true|\n",
      "|171798691899|          这个产品质量很好 建议各位购买|[r, n, d, a, n, r...| chinese| [这个, 产品质量, 很, 好, ...|[PRON, NOUN, ADV,...|[zh, zh, zh, zh, ...|  3|   好 建议|     a n|    zh zh|        2|       true|\n",
      "|171798691902|   對了 上周四在北車誠品看到沈與子凡...|[p, nr, p, ns, n,...| chinese| [對了, 上周四, 在, 北車, ...|[ADP, PROPN, ADP,...|[zh, zh, zh, zh, ...|  8|     好 有|     a v|    zh zh|        2|       true|\n",
      "|171798691905|     发货用箱子 很好 东西都齐全 感谢...|[n, p, n, d, a, n...| chinese|  [发货, 用, 箱子, 很, 好,...|[NOUN, ADP, NOUN,...|[zh, zh, zh, zh, ...|  4|   好 东西|    a ns|    zh zh|        2|       true|\n",
      "|171798691910|包装好货品送到完好无损 货品便宜值得购买|[v, a, n, v, i, n...| chinese| [包装, 好, 货品, 送到, 完...|[VERB, ADJ, NOUN,...|[zh, zh, zh, zh, ...|  0|   包装 好|     v a|    zh zh|        2|       true|\n",
      "|171798691910|包装好货品送到完好无损 货品便宜值得购买|[v, a, n, v, i, n...| chinese| [包装, 好, 货品, 送到, 完...|[VERB, ADJ, NOUN,...|[zh, zh, zh, zh, ...|  1|   好 货品|     a n|    zh zh|        2|       true|\n",
      "+------------+---------------------------------------+--------------------+--------+-----------------------------+--------------------+--------------------+---+----------+--------+---------+---------+-----------+\n",
      "only showing top 20 rows\n",
      "\n"
     ]
    },
    {
     "name": "stderr",
     "output_type": "stream",
     "text": [
      "                                                                                \r"
     ]
    }
   ],
   "source": [
    "read_avro(\"output/24_WITH_KEY\").filter(F.col(\"token_gram\").contains(\"好\")).show()"
   ]
  },
  {
   "cell_type": "markdown",
   "id": "f9e9f98a-2224-4f39-9d31-78d0e97fedfc",
   "metadata": {},
   "source": [
    "### 25 Determine at middle"
   ]
  },
  {
   "cell_type": "code",
   "execution_count": 59,
   "id": "5c352984-1a7b-40ff-9b8b-0e970ac18a94",
   "metadata": {},
   "outputs": [],
   "source": [
    "import pyspark.sql.functions as f\n",
    "import pyspark.sql.types as T\n",
    "\n",
    "\n",
    "engKey = [\"seller\",\"recommend\",\"nice\"]\n",
    "chiKey = [\"好\",\"赞\",\"不错\",\"快\",\"喜欢\",\"谢\",\"值\",\"包装\",\"卖家\"]\n",
    "bmKey = [\"berbaloi\",\"barang\",\"cantik\",\"murah\"]\n",
    "\n",
    "keywords = set(engKey).union(set(chiKey)).union(set(bmKey))\n",
    "\n",
    "def is_middle(gramType, token_gram):\n",
    "    token_gram = token_gram.split(\" \")\n",
    "    if gramType == \"2\" or gramType == \"4\":\n",
    "        return False\n",
    "    elif gramType == \"3\":\n",
    "        if token_gram[1] in keywords:\n",
    "            return True\n",
    "        else:\n",
    "            return False\n",
    "    elif gramType == \"5\":\n",
    "        if token_gram[2] in keywords:\n",
    "            return True\n",
    "        else:\n",
    "            return False\n",
    "    else:\n",
    "        return False\n",
    "    \n",
    "middleUDF = f.udf(lambda x,y : is_middle(x,y), T.BooleanType() )"
   ]
  },
  {
   "cell_type": "code",
   "execution_count": 60,
   "id": "6fa98d1f-f992-4019-aefb-dd62288683dc",
   "metadata": {},
   "outputs": [],
   "source": [
    "df = read_avro(\"output/24_WITH_KEY\")"
   ]
  },
  {
   "cell_type": "code",
   "execution_count": 61,
   "id": "dea6f2cb-5e08-4946-a649-1d5532b6561d",
   "metadata": {
    "tags": []
   },
   "outputs": [],
   "source": [
    "df = df.withColumn(\"middle_key\", middleUDF(df.gram_type, df.token_gram))"
   ]
  },
  {
   "cell_type": "code",
   "execution_count": 63,
   "id": "2fb3ac5a-19b1-4c57-85ee-ba4239363ba5",
   "metadata": {},
   "outputs": [
    {
     "name": "stderr",
     "output_type": "stream",
     "text": [
      "                                                                                \r"
     ]
    }
   ],
   "source": [
    "shutil.rmtree(\"output/25_CENTER_DETERMINED\")\n",
    "write_avro(df, \"output/25_CENTER_DETERMINED\")"
   ]
  },
  {
   "cell_type": "code",
   "execution_count": 66,
   "id": "7774b3f1-e405-410b-8d85-2ac040ec83b6",
   "metadata": {},
   "outputs": [],
   "source": [
    "df = read_avro( \"output/25_CENTER_DETERMINED\")"
   ]
  },
  {
   "cell_type": "code",
   "execution_count": 67,
   "id": "a75cede3-a237-42dd-89cb-571bf678a5c2",
   "metadata": {
    "tags": []
   },
   "outputs": [
    {
     "name": "stdout",
     "output_type": "stream",
     "text": [
      "+------------+--------------------+--------------------+--------+--------------------+-----------+--------------------+---+--------------------+-----------------+---------+---------+-----------+----------+\n",
      "| sentence_id|            original|                 tag|language|               token|chinese_tag|    language_pattern|pos|          token_gram|         tag_gram|lang_gram|gram_type|containsKey|middle_key|\n",
      "+------------+--------------------+--------------------+--------+--------------------+-----------+--------------------+---+--------------------+-----------------+---------+---------+-----------+----------+\n",
      "|128849018909|berbaloi murah ce...|[ADJ, ADJ, ADJ, N...| english|[berbaloi, murah,...|       null|[ms, ms, ms, en, ...|  0|berbaloi murah cepat|      ADJ ADJ ADJ| ms ms ms|        3|       true|      true|\n",
      "|128849018924|brg dh dpt thank ...|[NOUN, ADV, VERB,...| english|[brg, dh, dpt, th...|       null|[en, en, en, en, ...|  5| seller nice packing|   PROPN ADJ NOUN| en en en|        3|       true|      true|\n",
      "|128849018958|thank you so much...|[VERB, PRON, ADV,...| english|[thank, you, so, ...|       null|[en, en, en, en, ...|  4|    seller nice item|  NOUN PROPN NOUN| en en ms|        3|       true|      true|\n",
      "|128849018981|nice nice nice ni...|[PROPN, PROPN, PR...| english|[nice, nice, nice...|       null|[en, en, en, en, ...|  0|      nice nice nice|PROPN PROPN PROPN| en en en|        3|       true|      true|\n",
      "|128849018981|nice nice nice ni...|[PROPN, PROPN, PR...| english|[nice, nice, nice...|       null|[en, en, en, en, ...|  1|      nice nice nice|PROPN PROPN PROPN| en en en|        3|       true|      true|\n",
      "|128849018981|nice nice nice ni...|[PROPN, PROPN, PR...| english|[nice, nice, nice...|       null|[en, en, en, en, ...|  2|      nice nice nice|PROPN PROPN PROPN| en en en|        3|       true|      true|\n",
      "|128849018981|nice nice nice ni...|[PROPN, PROPN, PR...| english|[nice, nice, nice...|       null|[en, en, en, en, ...|  3|      nice nice nice|PROPN PROPN PROPN| en en en|        3|       true|      true|\n",
      "|128849018981|nice nice nice ni...|[PROPN, PROPN, PR...| english|[nice, nice, nice...|       null|[en, en, en, en, ...|  4|      nice nice nice|PROPN PROPN PROPN| en en en|        3|       true|      true|\n",
      "|128849018981|nice nice nice ni...|[PROPN, PROPN, PR...| english|[nice, nice, nice...|       null|[en, en, en, en, ...|  5|      nice nice nice|PROPN PROPN PROPN| en en en|        3|       true|      true|\n",
      "|128849018981|nice nice nice ni...|[PROPN, PROPN, PR...| english|[nice, nice, nice...|       null|[en, en, en, en, ...|  6|      nice nice nice|PROPN PROPN PROPN| en en en|        3|       true|      true|\n",
      "|128849018981|nice nice nice ni...|[PROPN, PROPN, PR...| english|[nice, nice, nice...|       null|[en, en, en, en, ...|  7|      nice nice nice|PROPN PROPN PROPN| en en en|        3|       true|      true|\n",
      "|128849018981|nice nice nice ni...|[PROPN, PROPN, PR...| english|[nice, nice, nice...|       null|[en, en, en, en, ...|  8|      nice nice nice|PROPN PROPN PROPN| en en en|        3|       true|      true|\n",
      "|128849018981|nice nice nice ni...|[PROPN, PROPN, PR...| english|[nice, nice, nice...|       null|[en, en, en, en, ...|  9|      nice nice nice|PROPN PROPN PROPN| en en en|        3|       true|      true|\n",
      "|128849018981|nice nice nice ni...|[PROPN, PROPN, PR...| english|[nice, nice, nice...|       null|[en, en, en, en, ...| 10|      nice nice nice|PROPN PROPN PROPN| en en en|        3|       true|      true|\n",
      "|128849018981|nice nice nice ni...|[PROPN, PROPN, PR...| english|[nice, nice, nice...|       null|[en, en, en, en, ...| 11|      nice nice nice|PROPN PROPN PROPN| en en en|        3|       true|      true|\n",
      "|128849018981|nice nice nice ni...|[PROPN, PROPN, PR...| english|[nice, nice, nice...|       null|[en, en, en, en, ...| 12|      nice nice nice|PROPN PROPN PROPN| en en en|        3|       true|      true|\n",
      "|128849018981|nice nice nice ni...|[PROPN, PROPN, PR...| english|[nice, nice, nice...|       null|[en, en, en, en, ...| 13|      nice nice nice|PROPN PROPN PROPN| en en en|        3|       true|      true|\n",
      "|128849019003|so nice cantik sg...|[ADV, ADJ, ADJ, A...| english|[so, nice, cantik...|       null|[en, en, ms, en, ...|  1|     nice cantik sgt|      ADJ ADJ ADV| en ms en|        3|       true|      true|\n",
      "|128849019044|second time bough...|[PROPN, NOUN, VER...| english|[second, time, bo...|       null|[en, en, en, ms, ...|  6| seller nice topokki| NOUN PROPN PROPN| en en ms|        3|       true|      true|\n",
      "|128849019052|nice packaging ni...|[PROPN, NOUN, PRO...| english|[nice, packaging,...|       null|[en, en, en, en, ...|  2|    nice seller will|   PROPN NOUN ADV| en en en|        3|       true|      true|\n",
      "+------------+--------------------+--------------------+--------+--------------------+-----------+--------------------+---+--------------------+-----------------+---------+---------+-----------+----------+\n",
      "only showing top 20 rows\n",
      "\n"
     ]
    }
   ],
   "source": [
    "df.filter(df.middle_key ==  True).show()"
   ]
  }
 ],
 "metadata": {
  "kernelspec": {
   "display_name": "venv-spark",
   "language": "python",
   "name": "venv-spark"
  },
  "language_info": {
   "codemirror_mode": {
    "name": "ipython",
    "version": 3
   },
   "file_extension": ".py",
   "mimetype": "text/x-python",
   "name": "python",
   "nbconvert_exporter": "python",
   "pygments_lexer": "ipython3",
   "version": "3.9.13"
  }
 },
 "nbformat": 4,
 "nbformat_minor": 5
}
